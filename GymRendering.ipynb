{
  "nbformat": 4,
  "nbformat_minor": 0,
  "metadata": {
    "colab": {
      "name": "GymRendering.ipynb",
      "provenance": [],
      "collapsed_sections": [],
      "include_colab_link": true
    },
    "kernelspec": {
      "name": "python3",
      "display_name": "Python 3"
    },
    "accelerator": "GPU"
  },
  "cells": [
    {
      "cell_type": "markdown",
      "metadata": {
        "id": "view-in-github",
        "colab_type": "text"
      },
      "source": [
        "<a href=\"https://colab.research.google.com/github/wlin988/Colab/blob/master/GymRendering.ipynb\" target=\"_parent\"><img src=\"https://colab.research.google.com/assets/colab-badge.svg\" alt=\"Open In Colab\"/></a>"
      ]
    },
    {
      "cell_type": "code",
      "metadata": {
        "id": "1XDvssQd64Pf",
        "colab_type": "code",
        "colab": {}
      },
      "source": [
        "!apt-get install -y xvfb python-opengl > /dev/null 2>&1"
      ],
      "execution_count": 0,
      "outputs": []
    },
    {
      "cell_type": "code",
      "metadata": {
        "id": "F5esgX013vPe",
        "colab_type": "code",
        "colab": {}
      },
      "source": [
        "!pip install gym pyvirtualdisplay > /dev/null 2>&1"
      ],
      "execution_count": 0,
      "outputs": []
    },
    {
      "cell_type": "code",
      "metadata": {
        "id": "0hduNGfLtA9S",
        "colab_type": "code",
        "outputId": "a1644263-b26c-4f66-f6b3-f08a1a429024",
        "colab": {
          "base_uri": "https://localhost:8080/",
          "height": 190
        }
      },
      "source": [
        "!pip install pyglet==v1.3.2"
      ],
      "execution_count": 3,
      "outputs": [
        {
          "output_type": "stream",
          "text": [
            "Collecting pyglet==v1.3.2\n",
            "\u001b[?25l  Downloading https://files.pythonhosted.org/packages/1c/fc/dad5eaaab68f0c21e2f906a94ddb98175662cc5a654eee404d59554ce0fa/pyglet-1.3.2-py2.py3-none-any.whl (1.0MB)\n",
            "\r\u001b[K     |▎                               | 10kB 23.0MB/s eta 0:00:01\r\u001b[K     |▋                               | 20kB 4.2MB/s eta 0:00:01\r\u001b[K     |█                               | 30kB 6.0MB/s eta 0:00:01\r\u001b[K     |█▎                              | 40kB 3.9MB/s eta 0:00:01\r\u001b[K     |█▋                              | 51kB 4.8MB/s eta 0:00:01\r\u001b[K     |██                              | 61kB 5.7MB/s eta 0:00:01\r\u001b[K     |██▎                             | 71kB 6.5MB/s eta 0:00:01\r\u001b[K     |██▋                             | 81kB 7.3MB/s eta 0:00:01\r\u001b[K     |███                             | 92kB 8.1MB/s eta 0:00:01\r\u001b[K     |███▎                            | 102kB 6.3MB/s eta 0:00:01\r\u001b[K     |███▌                            | 112kB 6.3MB/s eta 0:00:01\r\u001b[K     |███▉                            | 122kB 6.3MB/s eta 0:00:01\r\u001b[K     |████▏                           | 133kB 6.3MB/s eta 0:00:01\r\u001b[K     |████▌                           | 143kB 6.3MB/s eta 0:00:01\r\u001b[K     |████▉                           | 153kB 6.3MB/s eta 0:00:01\r\u001b[K     |█████▏                          | 163kB 6.3MB/s eta 0:00:01\r\u001b[K     |█████▌                          | 174kB 6.3MB/s eta 0:00:01\r\u001b[K     |█████▉                          | 184kB 6.3MB/s eta 0:00:01\r\u001b[K     |██████▏                         | 194kB 6.3MB/s eta 0:00:01\r\u001b[K     |██████▌                         | 204kB 6.3MB/s eta 0:00:01\r\u001b[K     |██████▊                         | 215kB 6.3MB/s eta 0:00:01\r\u001b[K     |███████                         | 225kB 6.3MB/s eta 0:00:01\r\u001b[K     |███████▍                        | 235kB 6.3MB/s eta 0:00:01\r\u001b[K     |███████▊                        | 245kB 6.3MB/s eta 0:00:01\r\u001b[K     |████████                        | 256kB 6.3MB/s eta 0:00:01\r\u001b[K     |████████▍                       | 266kB 6.3MB/s eta 0:00:01\r\u001b[K     |████████▊                       | 276kB 6.3MB/s eta 0:00:01\r\u001b[K     |█████████                       | 286kB 6.3MB/s eta 0:00:01\r\u001b[K     |█████████▍                      | 296kB 6.3MB/s eta 0:00:01\r\u001b[K     |█████████▊                      | 307kB 6.3MB/s eta 0:00:01\r\u001b[K     |██████████                      | 317kB 6.3MB/s eta 0:00:01\r\u001b[K     |██████████▎                     | 327kB 6.3MB/s eta 0:00:01\r\u001b[K     |██████████▋                     | 337kB 6.3MB/s eta 0:00:01\r\u001b[K     |███████████                     | 348kB 6.3MB/s eta 0:00:01\r\u001b[K     |███████████▎                    | 358kB 6.3MB/s eta 0:00:01\r\u001b[K     |███████████▋                    | 368kB 6.3MB/s eta 0:00:01\r\u001b[K     |████████████                    | 378kB 6.3MB/s eta 0:00:01\r\u001b[K     |████████████▎                   | 389kB 6.3MB/s eta 0:00:01\r\u001b[K     |████████████▋                   | 399kB 6.3MB/s eta 0:00:01\r\u001b[K     |█████████████                   | 409kB 6.3MB/s eta 0:00:01\r\u001b[K     |█████████████▏                  | 419kB 6.3MB/s eta 0:00:01\r\u001b[K     |█████████████▌                  | 430kB 6.3MB/s eta 0:00:01\r\u001b[K     |█████████████▉                  | 440kB 6.3MB/s eta 0:00:01\r\u001b[K     |██████████████▏                 | 450kB 6.3MB/s eta 0:00:01\r\u001b[K     |██████████████▌                 | 460kB 6.3MB/s eta 0:00:01\r\u001b[K     |██████████████▉                 | 471kB 6.3MB/s eta 0:00:01\r\u001b[K     |███████████████▏                | 481kB 6.3MB/s eta 0:00:01\r\u001b[K     |███████████████▌                | 491kB 6.3MB/s eta 0:00:01\r\u001b[K     |███████████████▉                | 501kB 6.3MB/s eta 0:00:01\r\u001b[K     |████████████████▏               | 512kB 6.3MB/s eta 0:00:01\r\u001b[K     |████████████████▍               | 522kB 6.3MB/s eta 0:00:01\r\u001b[K     |████████████████▊               | 532kB 6.3MB/s eta 0:00:01\r\u001b[K     |█████████████████               | 542kB 6.3MB/s eta 0:00:01\r\u001b[K     |█████████████████▍              | 552kB 6.3MB/s eta 0:00:01\r\u001b[K     |█████████████████▊              | 563kB 6.3MB/s eta 0:00:01\r\u001b[K     |██████████████████              | 573kB 6.3MB/s eta 0:00:01\r\u001b[K     |██████████████████▍             | 583kB 6.3MB/s eta 0:00:01\r\u001b[K     |██████████████████▊             | 593kB 6.3MB/s eta 0:00:01\r\u001b[K     |███████████████████             | 604kB 6.3MB/s eta 0:00:01\r\u001b[K     |███████████████████▍            | 614kB 6.3MB/s eta 0:00:01\r\u001b[K     |███████████████████▋            | 624kB 6.3MB/s eta 0:00:01\r\u001b[K     |████████████████████            | 634kB 6.3MB/s eta 0:00:01\r\u001b[K     |████████████████████▎           | 645kB 6.3MB/s eta 0:00:01\r\u001b[K     |████████████████████▋           | 655kB 6.3MB/s eta 0:00:01\r\u001b[K     |█████████████████████           | 665kB 6.3MB/s eta 0:00:01\r\u001b[K     |█████████████████████▎          | 675kB 6.3MB/s eta 0:00:01\r\u001b[K     |█████████████████████▋          | 686kB 6.3MB/s eta 0:00:01\r\u001b[K     |██████████████████████          | 696kB 6.3MB/s eta 0:00:01\r\u001b[K     |██████████████████████▎         | 706kB 6.3MB/s eta 0:00:01\r\u001b[K     |██████████████████████▋         | 716kB 6.3MB/s eta 0:00:01\r\u001b[K     |███████████████████████         | 727kB 6.3MB/s eta 0:00:01\r\u001b[K     |███████████████████████▏        | 737kB 6.3MB/s eta 0:00:01\r\u001b[K     |███████████████████████▌        | 747kB 6.3MB/s eta 0:00:01\r\u001b[K     |███████████████████████▉        | 757kB 6.3MB/s eta 0:00:01\r\u001b[K     |████████████████████████▏       | 768kB 6.3MB/s eta 0:00:01\r\u001b[K     |████████████████████████▌       | 778kB 6.3MB/s eta 0:00:01\r\u001b[K     |████████████████████████▉       | 788kB 6.3MB/s eta 0:00:01\r\u001b[K     |█████████████████████████▏      | 798kB 6.3MB/s eta 0:00:01\r\u001b[K     |█████████████████████████▌      | 808kB 6.3MB/s eta 0:00:01\r\u001b[K     |█████████████████████████▉      | 819kB 6.3MB/s eta 0:00:01\r\u001b[K     |██████████████████████████▏     | 829kB 6.3MB/s eta 0:00:01\r\u001b[K     |██████████████████████████▍     | 839kB 6.3MB/s eta 0:00:01\r\u001b[K     |██████████████████████████▊     | 849kB 6.3MB/s eta 0:00:01\r\u001b[K     |███████████████████████████     | 860kB 6.3MB/s eta 0:00:01\r\u001b[K     |███████████████████████████▍    | 870kB 6.3MB/s eta 0:00:01\r\u001b[K     |███████████████████████████▊    | 880kB 6.3MB/s eta 0:00:01\r\u001b[K     |████████████████████████████    | 890kB 6.3MB/s eta 0:00:01\r\u001b[K     |████████████████████████████▍   | 901kB 6.3MB/s eta 0:00:01\r\u001b[K     |████████████████████████████▊   | 911kB 6.3MB/s eta 0:00:01\r\u001b[K     |█████████████████████████████   | 921kB 6.3MB/s eta 0:00:01\r\u001b[K     |█████████████████████████████▍  | 931kB 6.3MB/s eta 0:00:01\r\u001b[K     |█████████████████████████████▋  | 942kB 6.3MB/s eta 0:00:01\r\u001b[K     |██████████████████████████████  | 952kB 6.3MB/s eta 0:00:01\r\u001b[K     |██████████████████████████████▎ | 962kB 6.3MB/s eta 0:00:01\r\u001b[K     |██████████████████████████████▋ | 972kB 6.3MB/s eta 0:00:01\r\u001b[K     |███████████████████████████████ | 983kB 6.3MB/s eta 0:00:01\r\u001b[K     |███████████████████████████████▎| 993kB 6.3MB/s eta 0:00:01\r\u001b[K     |███████████████████████████████▋| 1.0MB 6.3MB/s eta 0:00:01\r\u001b[K     |████████████████████████████████| 1.0MB 6.3MB/s eta 0:00:01\r\u001b[K     |████████████████████████████████| 1.0MB 6.3MB/s \n",
            "\u001b[?25hRequirement already satisfied: future in /usr/local/lib/python3.6/dist-packages (from pyglet==v1.3.2) (0.16.0)\n",
            "Installing collected packages: pyglet\n",
            "  Found existing installation: pyglet 1.4.6\n",
            "    Uninstalling pyglet-1.4.6:\n",
            "      Successfully uninstalled pyglet-1.4.6\n",
            "Successfully installed pyglet-1.3.2\n"
          ],
          "name": "stdout"
        }
      ]
    },
    {
      "cell_type": "code",
      "metadata": {
        "id": "Qbi2xaFo31Sj",
        "colab_type": "code",
        "colab": {}
      },
      "source": [
        "import gym\n",
        "import numpy as np\n",
        "import matplotlib.pyplot as plt\n",
        "from IPython import display as ipythondisplay"
      ],
      "execution_count": 0,
      "outputs": []
    },
    {
      "cell_type": "code",
      "metadata": {
        "id": "FGqXqJxoAsHG",
        "colab_type": "code",
        "outputId": "1019ddc5-660f-4663-ee84-e69c5af1cc34",
        "colab": {
          "base_uri": "https://localhost:8080/",
          "height": 71
        }
      },
      "source": [
        "from pyvirtualdisplay import Display\n",
        "display = Display(visible=0, size=(400, 300))\n",
        "display.start()"
      ],
      "execution_count": 5,
      "outputs": [
        {
          "output_type": "stream",
          "text": [
            "xdpyinfo was not found, X start can not be checked! Please install xdpyinfo!\n"
          ],
          "name": "stderr"
        },
        {
          "output_type": "execute_result",
          "data": {
            "text/plain": [
              "<Display cmd_param=['Xvfb', '-br', '-nolisten', 'tcp', '-screen', '0', '400x300x24', ':1001'] cmd=['Xvfb', '-br', '-nolisten', 'tcp', '-screen', '0', '400x300x24', ':1001'] oserror=None return_code=None stdout=\"None\" stderr=\"None\" timeout_happened=False>"
            ]
          },
          "metadata": {
            "tags": []
          },
          "execution_count": 5
        }
      ]
    },
    {
      "cell_type": "code",
      "metadata": {
        "id": "6L4YayzR4FYj",
        "colab_type": "code",
        "outputId": "49650524-e067-4d10-a766-c3732b8d015d",
        "colab": {
          "base_uri": "https://localhost:8080/",
          "height": 269
        }
      },
      "source": [
        "\n",
        "\n",
        "env = gym.make(\"CartPole-v1\")\n",
        "env.reset()\n",
        "prev_screen = env.render(mode='rgb_array')\n",
        "plt.imshow(prev_screen)\n",
        "\n",
        "for i in range(99):\n",
        "  action = env.action_space.sample()\n",
        "  obs, reward, done, info = env.step(action)\n",
        "  screen = env.render(mode='rgb_array')\n",
        "  \n",
        "  plt.imshow(screen)\n",
        "  ipythondisplay.clear_output(wait=True)\n",
        "  ipythondisplay.display(plt.gcf())\n",
        "\n",
        "  if done:\n",
        "    break\n",
        "    \n",
        "ipythondisplay.clear_output(wait=True)\n",
        "env.close()\n"
      ],
      "execution_count": 6,
      "outputs": [
        {
          "output_type": "display_data",
          "data": {
            "image/png": "[encoded data removed]",
            "text/plain": [
              "<Figure size 432x288 with 1 Axes>"
            ]
          },
          "metadata": {
            "tags": []
          }
        }
      ]
    },
    {
      "cell_type": "code",
      "metadata": {
        "id": "xoantCmXAtSN",
        "colab_type": "code",
        "outputId": "a32a81e6-e8c4-4cae-d74c-74777c2d7bbd",
        "colab": {
          "base_uri": "https://localhost:8080/",
          "height": 54
        }
      },
      "source": [
        "display.stop()"
      ],
      "execution_count": 7,
      "outputs": [
        {
          "output_type": "execute_result",
          "data": {
            "text/plain": [
              "<Display cmd_param=['Xvfb', '-br', '-nolisten', 'tcp', '-screen', '0', '400x300x24', ':1001'] cmd=['Xvfb', '-br', '-nolisten', 'tcp', '-screen', '0', '400x300x24', ':1001'] oserror=None return_code=0 stdout=\"\" stderr=\"\" timeout_happened=False>"
            ]
          },
          "metadata": {
            "tags": []
          },
          "execution_count": 7
        }
      ]
    },
    {
      "cell_type": "code",
      "metadata": {
        "id": "FONXKsqqIxPF",
        "colab_type": "code",
        "outputId": "7e5a0cdf-875f-4cf1-9188-362a0ed526cc",
        "colab": {
          "base_uri": "https://localhost:8080/",
          "height": 241
        }
      },
      "source": [
        "!pip3 install http://download.pytorch.org/whl/cu75/torch-0.3.0.post4-cp36-cp36m-linux_x86_64.whl"
      ],
      "execution_count": 8,
      "outputs": [
        {
          "output_type": "stream",
          "text": [
            "Collecting torch==0.3.0.post4\n",
            "\u001b[?25l  Downloading http://download.pytorch.org/whl/cu75/torch-0.3.0.post4-cp36-cp36m-linux_x86_64.whl (397.4MB)\n",
            "\u001b[K     |████████████████████████████████| 397.4MB 95.6MB/s \n",
            "\u001b[?25hRequirement already satisfied: numpy in /usr/local/lib/python3.6/dist-packages (from torch==0.3.0.post4) (1.17.3)\n",
            "Requirement already satisfied: pyyaml in /usr/local/lib/python3.6/dist-packages (from torch==0.3.0.post4) (3.13)\n",
            "\u001b[31mERROR: torchvision 0.4.1+cu100 has requirement torch==1.3.0, but you'll have torch 0.3.0.post4 which is incompatible.\u001b[0m\n",
            "\u001b[31mERROR: fastai 1.0.58 has requirement torch>=1.0.0, but you'll have torch 0.3.0.post4 which is incompatible.\u001b[0m\n",
            "Installing collected packages: torch\n",
            "  Found existing installation: torch 1.3.0+cu100\n",
            "    Uninstalling torch-1.3.0+cu100:\n",
            "      Successfully uninstalled torch-1.3.0+cu100\n",
            "Successfully installed torch-0.3.0.post4\n"
          ],
          "name": "stdout"
        }
      ]
    },
    {
      "cell_type": "code",
      "metadata": {
        "id": "NEfi4amvJU5E",
        "colab_type": "code",
        "outputId": "a06fc034-57c2-40b1-d643-f9f8e89b820f",
        "colab": {
          "base_uri": "https://localhost:8080/",
          "height": 258
        }
      },
      "source": [
        "!pip3 install torchvision"
      ],
      "execution_count": 9,
      "outputs": [
        {
          "output_type": "stream",
          "text": [
            "Requirement already satisfied: torchvision in /usr/local/lib/python3.6/dist-packages (0.4.1+cu100)\n",
            "Collecting torch==1.3.0\n",
            "\u001b[?25l  Downloading https://files.pythonhosted.org/packages/ae/05/50a05de5337f7a924bb8bd70c6936230642233e424d6a9747ef1cfbde353/torch-1.3.0-cp36-cp36m-manylinux1_x86_64.whl (773.1MB)\n",
            "\u001b[K     |████████████████████████████████| 773.1MB 23kB/s \n",
            "\u001b[?25hRequirement already satisfied: pillow>=4.1.1 in /usr/local/lib/python3.6/dist-packages (from torchvision) (4.3.0)\n",
            "Requirement already satisfied: numpy in /usr/local/lib/python3.6/dist-packages (from torchvision) (1.17.3)\n",
            "Requirement already satisfied: six in /usr/local/lib/python3.6/dist-packages (from torchvision) (1.12.0)\n",
            "Requirement already satisfied: olefile in /usr/local/lib/python3.6/dist-packages (from pillow>=4.1.1->torchvision) (0.46)\n",
            "Installing collected packages: torch\n",
            "  Found existing installation: torch 0.3.0.post4\n",
            "    Uninstalling torch-0.3.0.post4:\n",
            "      Successfully uninstalled torch-0.3.0.post4\n",
            "Successfully installed torch-1.3.0\n"
          ],
          "name": "stdout"
        }
      ]
    },
    {
      "cell_type": "code",
      "metadata": {
        "id": "84fjXWXcKMiU",
        "colab_type": "code",
        "outputId": "d2495b28-3f67-4dfe-9977-7d39a0cdd201",
        "colab": {
          "base_uri": "https://localhost:8080/",
          "height": 34
        }
      },
      "source": [
        "#!conda install pytorch torchvision -c pytorch"
      ],
      "execution_count": 10,
      "outputs": [
        {
          "output_type": "stream",
          "text": [
            "/bin/bash: conda: command not found\n"
          ],
          "name": "stdout"
        }
      ]
    },
    {
      "cell_type": "code",
      "metadata": {
        "id": "GqNQX27vLMHC",
        "colab_type": "code",
        "colab": {}
      },
      "source": [
        "import torch\n",
        "import torch.nn as nn\n",
        "import torchvision.datasets as dsets\n",
        "import torchvision.transforms as transforms\n",
        "from torch.autograd import Variable"
      ],
      "execution_count": 0,
      "outputs": []
    },
    {
      "cell_type": "code",
      "metadata": {
        "id": "rFebeakZLVVf",
        "colab_type": "code",
        "colab": {}
      },
      "source": [
        "input_size    = 784   # The image size = 28 x 28 = 784\n",
        "hidden_size   = 500   # The number of nodes at the hidden layer\n",
        "num_classes   = 10    # The number of output classes. In this case, from 0 to 9\n",
        "num_epochs    = 8     # The number of times entire dataset is trained\n",
        "batch_size    = 100   # The size of input data took for one iteration\n",
        "learning_rate = 1e-3  # The speed of convergence"
      ],
      "execution_count": 0,
      "outputs": []
    },
    {
      "cell_type": "code",
      "metadata": {
        "id": "BA0suBKYLXCX",
        "colab_type": "code",
        "outputId": "48ea651b-1532-49f3-f1b8-5e111d933272",
        "colab": {
          "base_uri": "https://localhost:8080/",
          "height": 275
        }
      },
      "source": [
        "train_dataset = dsets.MNIST(root='./data',\n",
        "                           train=True,\n",
        "                           transform=transforms.ToTensor(),\n",
        "                           download=True)\n",
        "\n",
        "test_dataset = dsets.MNIST(root='./data',\n",
        "                           train=False,\n",
        "                           transform=transforms.ToTensor())"
      ],
      "execution_count": 13,
      "outputs": [
        {
          "output_type": "stream",
          "text": [
            "\r0it [00:00, ?it/s]"
          ],
          "name": "stderr"
        },
        {
          "output_type": "stream",
          "text": [
            "Downloading http://yann.lecun.com/exdb/mnist/train-images-idx3-ubyte.gz to ./data/MNIST/raw/train-images-idx3-ubyte.gz\n"
          ],
          "name": "stdout"
        },
        {
          "output_type": "stream",
          "text": [
            "9920512it [00:02, 4766912.82it/s]                             \n"
          ],
          "name": "stderr"
        },
        {
          "output_type": "stream",
          "text": [
            "Extracting ./data/MNIST/raw/train-images-idx3-ubyte.gz to ./data/MNIST/raw\n"
          ],
          "name": "stdout"
        },
        {
          "output_type": "stream",
          "text": [
            "  0%|          | 0/28881 [00:00<?, ?it/s]"
          ],
          "name": "stderr"
        },
        {
          "output_type": "stream",
          "text": [
            "Downloading http://yann.lecun.com/exdb/mnist/train-labels-idx1-ubyte.gz to ./data/MNIST/raw/train-labels-idx1-ubyte.gz\n"
          ],
          "name": "stdout"
        },
        {
          "output_type": "stream",
          "text": [
            "32768it [00:00, 134435.66it/s]           \n",
            "  0%|          | 0/1648877 [00:00<?, ?it/s]"
          ],
          "name": "stderr"
        },
        {
          "output_type": "stream",
          "text": [
            "Extracting ./data/MNIST/raw/train-labels-idx1-ubyte.gz to ./data/MNIST/raw\n",
            "Downloading http://yann.lecun.com/exdb/mnist/t10k-images-idx3-ubyte.gz to ./data/MNIST/raw/t10k-images-idx3-ubyte.gz\n"
          ],
          "name": "stdout"
        },
        {
          "output_type": "stream",
          "text": [
            "1654784it [00:00, 2196100.22it/s]                            \n",
            "0it [00:00, ?it/s]"
          ],
          "name": "stderr"
        },
        {
          "output_type": "stream",
          "text": [
            "Extracting ./data/MNIST/raw/t10k-images-idx3-ubyte.gz to ./data/MNIST/raw\n",
            "Downloading http://yann.lecun.com/exdb/mnist/t10k-labels-idx1-ubyte.gz to ./data/MNIST/raw/t10k-labels-idx1-ubyte.gz\n"
          ],
          "name": "stdout"
        },
        {
          "output_type": "stream",
          "text": [
            "8192it [00:00, 51162.31it/s]            \n"
          ],
          "name": "stderr"
        },
        {
          "output_type": "stream",
          "text": [
            "Extracting ./data/MNIST/raw/t10k-labels-idx1-ubyte.gz to ./data/MNIST/raw\n",
            "Processing...\n",
            "Done!\n"
          ],
          "name": "stdout"
        }
      ]
    },
    {
      "cell_type": "code",
      "metadata": {
        "id": "jkOtlSA3LgSh",
        "colab_type": "code",
        "colab": {}
      },
      "source": [
        "train_loader = torch.utils.data.DataLoader(dataset=train_dataset,\n",
        "                                          batch_size=batch_size,\n",
        "                                          shuffle=True)\n",
        "\n",
        "test_loader = torch.utils.data.DataLoader(dataset=test_dataset,\n",
        "                                          batch_size=batch_size,\n",
        "                                          shuffle=False)"
      ],
      "execution_count": 0,
      "outputs": []
    },
    {
      "cell_type": "code",
      "metadata": {
        "id": "6LiTZXvILlAs",
        "colab_type": "code",
        "colab": {}
      },
      "source": [
        "class Net(nn.Module):\n",
        "    def __init__(self, input_size, hidden_size, num_classes):\n",
        "        super(Net, self).__init__()                    # Inherited from the parent class nn.Module\n",
        "        self.fc1 = nn.Linear(input_size, hidden_size)  # 1st Full-Connected Layer: 784 (input data) -> 500 (hidden node)\n",
        "        self.relu = nn.ReLU()                          # Non-Linear ReLU Layer: max(0,x)\n",
        "        self.fc2 = nn.Linear(hidden_size, num_classes) # 2nd Full-Connected Layer: 500 (hidden node) -> 10 (output class)\n",
        "    \n",
        "    def forward(self, x):                              # Forward pass: stacking each layer together\n",
        "        out = self.fc1(x)\n",
        "        out = self.relu(out)\n",
        "        out = self.fc2(out)\n",
        "        return out"
      ],
      "execution_count": 0,
      "outputs": []
    },
    {
      "cell_type": "code",
      "metadata": {
        "id": "vhtecgDALmh8",
        "colab_type": "code",
        "colab": {}
      },
      "source": [
        "net = Net(input_size, hidden_size, num_classes)"
      ],
      "execution_count": 0,
      "outputs": []
    },
    {
      "cell_type": "code",
      "metadata": {
        "id": "y7pUcrRSLqAw",
        "colab_type": "code",
        "colab": {}
      },
      "source": [
        "use_cuda = True"
      ],
      "execution_count": 0,
      "outputs": []
    },
    {
      "cell_type": "code",
      "metadata": {
        "id": "8j06AD0VLuBK",
        "colab_type": "code",
        "colab": {}
      },
      "source": [
        "if use_cuda and torch.cuda.is_available():\n",
        "    net.cuda()"
      ],
      "execution_count": 0,
      "outputs": []
    },
    {
      "cell_type": "code",
      "metadata": {
        "id": "zoP6lp3VLxgJ",
        "colab_type": "code",
        "colab": {}
      },
      "source": [
        "criterion = nn.CrossEntropyLoss()\n",
        "optimizer = torch.optim.Adam(net.parameters(), lr=learning_rate)"
      ],
      "execution_count": 0,
      "outputs": []
    },
    {
      "cell_type": "code",
      "metadata": {
        "id": "VPxbBQ84L0_J",
        "colab_type": "code",
        "outputId": "0bba7784-1c77-41c5-c7fb-591c325ff1e6",
        "colab": {
          "base_uri": "https://localhost:8080/",
          "height": 833
        }
      },
      "source": [
        "for epoch in range(num_epochs):\n",
        "    for i, (images, labels) in enumerate(train_loader):   # Load a batch of images with its (index, data, class)\n",
        "        images = Variable(images.view(-1, 28*28))         # Convert torch tensor to Variable: change image from a vector of size 784 to a matrix of 28 x 28\n",
        "        labels = Variable(labels)\n",
        "        \n",
        "        if use_cuda and torch.cuda.is_available():\n",
        "            images = images.cuda()\n",
        "            labels = labels.cuda()\n",
        "        \n",
        "        optimizer.zero_grad()                             # Intialize the hidden weight to all zeros\n",
        "        outputs = net(images)                             # Forward pass: compute the output class given a image\n",
        "        loss = criterion(outputs, labels)                 # Compute the loss: difference between the output class and the pre-given label\n",
        "        loss.backward()                                   # Backward pass: compute the weight\n",
        "        optimizer.step()                                  # Optimizer: update the weights of hidden nodes\n",
        "        \n",
        "        if (i+1) % 100 == 0:                              # Logging\n",
        "            print('Epoch [%d/%d], Step [%d/%d], Loss: %.4f'\n",
        "                 %(epoch+1, num_epochs, i+1, len(train_dataset)//batch_size, loss.item())) #loss.data[0]\n"
      ],
      "execution_count": 20,
      "outputs": [
        {
          "output_type": "stream",
          "text": [
            "Epoch [1/8], Step [100/600], Loss: 0.3433\n",
            "Epoch [1/8], Step [200/600], Loss: 0.2402\n",
            "Epoch [1/8], Step [300/600], Loss: 0.3117\n",
            "Epoch [1/8], Step [400/600], Loss: 0.1779\n",
            "Epoch [1/8], Step [500/600], Loss: 0.2604\n",
            "Epoch [1/8], Step [600/600], Loss: 0.0859\n",
            "Epoch [2/8], Step [100/600], Loss: 0.1377\n",
            "Epoch [2/8], Step [200/600], Loss: 0.1153\n",
            "Epoch [2/8], Step [300/600], Loss: 0.1010\n",
            "Epoch [2/8], Step [400/600], Loss: 0.1852\n",
            "Epoch [2/8], Step [500/600], Loss: 0.0661\n",
            "Epoch [2/8], Step [600/600], Loss: 0.0426\n",
            "Epoch [3/8], Step [100/600], Loss: 0.0433\n",
            "Epoch [3/8], Step [200/600], Loss: 0.0895\n",
            "Epoch [3/8], Step [300/600], Loss: 0.0774\n",
            "Epoch [3/8], Step [400/600], Loss: 0.0982\n",
            "Epoch [3/8], Step [500/600], Loss: 0.1266\n",
            "Epoch [3/8], Step [600/600], Loss: 0.0710\n",
            "Epoch [4/8], Step [100/600], Loss: 0.0477\n",
            "Epoch [4/8], Step [200/600], Loss: 0.0230\n",
            "Epoch [4/8], Step [300/600], Loss: 0.0455\n",
            "Epoch [4/8], Step [400/600], Loss: 0.0445\n",
            "Epoch [4/8], Step [500/600], Loss: 0.0325\n",
            "Epoch [4/8], Step [600/600], Loss: 0.0597\n",
            "Epoch [5/8], Step [100/600], Loss: 0.0735\n",
            "Epoch [5/8], Step [200/600], Loss: 0.0401\n",
            "Epoch [5/8], Step [300/600], Loss: 0.0311\n",
            "Epoch [5/8], Step [400/600], Loss: 0.0244\n",
            "Epoch [5/8], Step [500/600], Loss: 0.0423\n",
            "Epoch [5/8], Step [600/600], Loss: 0.0561\n",
            "Epoch [6/8], Step [100/600], Loss: 0.0401\n",
            "Epoch [6/8], Step [200/600], Loss: 0.0709\n",
            "Epoch [6/8], Step [300/600], Loss: 0.0623\n",
            "Epoch [6/8], Step [400/600], Loss: 0.0106\n",
            "Epoch [6/8], Step [500/600], Loss: 0.0107\n",
            "Epoch [6/8], Step [600/600], Loss: 0.0400\n",
            "Epoch [7/8], Step [100/600], Loss: 0.0850\n",
            "Epoch [7/8], Step [200/600], Loss: 0.0128\n",
            "Epoch [7/8], Step [300/600], Loss: 0.0200\n",
            "Epoch [7/8], Step [400/600], Loss: 0.0450\n",
            "Epoch [7/8], Step [500/600], Loss: 0.0343\n",
            "Epoch [7/8], Step [600/600], Loss: 0.0218\n",
            "Epoch [8/8], Step [100/600], Loss: 0.0080\n",
            "Epoch [8/8], Step [200/600], Loss: 0.0119\n",
            "Epoch [8/8], Step [300/600], Loss: 0.0088\n",
            "Epoch [8/8], Step [400/600], Loss: 0.0319\n",
            "Epoch [8/8], Step [500/600], Loss: 0.0185\n",
            "Epoch [8/8], Step [600/600], Loss: 0.0641\n"
          ],
          "name": "stdout"
        }
      ]
    },
    {
      "cell_type": "code",
      "metadata": {
        "id": "Qhxjhz0tMH0F",
        "colab_type": "code",
        "outputId": "932c3886-dc3b-47d8-8b48-84766e6da901",
        "colab": {
          "base_uri": "https://localhost:8080/",
          "height": 34
        }
      },
      "source": [
        "correct = 0\n",
        "total = 0\n",
        "for images, labels in test_loader:\n",
        "    images = Variable(images.view(-1, 28*28))\n",
        "    \n",
        "    if use_cuda and torch.cuda.is_available():\n",
        "        images = images.cuda()\n",
        "        labels = labels.cuda()\n",
        "    \n",
        "    \n",
        "    outputs = net(images)\n",
        "    _, predicted = torch.max(outputs.data, 1)  # Choose the best class from the output: The class with the best score\n",
        "    total += labels.size(0)                    # Increment the total count\n",
        "    correct += (predicted == labels).sum()     # Increment the correct count\n",
        "    \n",
        "print('Accuracy of the network on the 10K test images: %d %%' % (100 * correct / total))"
      ],
      "execution_count": 21,
      "outputs": [
        {
          "output_type": "stream",
          "text": [
            "Accuracy of the network on the 10K test images: 97 %\n"
          ],
          "name": "stdout"
        }
      ]
    },
    {
      "cell_type": "code",
      "metadata": {
        "id": "wcqP-D7sMNHo",
        "colab_type": "code",
        "colab": {}
      },
      "source": [
        "torch.save(net.state_dict(), 'fnn_model_linwayne.pkl')"
      ],
      "execution_count": 0,
      "outputs": []
    },
    {
      "cell_type": "code",
      "metadata": {
        "id": "PVsnr0qAQkNI",
        "colab_type": "code",
        "outputId": "00f1e036-48a0-4aa0-e6c5-435994a5afef",
        "colab": {
          "base_uri": "https://localhost:8080/",
          "height": 102
        }
      },
      "source": [
        "!git clone https://github.com/joosthub/PyTorchNLPBook.git"
      ],
      "execution_count": 23,
      "outputs": [
        {
          "output_type": "stream",
          "text": [
            "Cloning into 'PyTorchNLPBook'...\n",
            "remote: Enumerating objects: 159, done.\u001b[K\n",
            "remote: Total 159 (delta 0), reused 0 (delta 0), pack-reused 159\u001b[K\n",
            "Receiving objects: 100% (159/159), 7.91 MiB | 9.76 MiB/s, done.\n",
            "Resolving deltas: 100% (81/81), done.\n"
          ],
          "name": "stdout"
        }
      ]
    },
    {
      "cell_type": "code",
      "metadata": {
        "id": "uSt-jLOrQmqo",
        "colab_type": "code",
        "outputId": "d36022e4-25b1-44c2-9aca-0e7dc1840fbe",
        "colab": {
          "base_uri": "https://localhost:8080/",
          "height": 136
        }
      },
      "source": [
        "!git clone https://github.com/PacktPublishing/Machine-Learning-for-Finance.git"
      ],
      "execution_count": 24,
      "outputs": [
        {
          "output_type": "stream",
          "text": [
            "Cloning into 'Machine-Learning-for-Finance'...\n",
            "remote: Enumerating objects: 6, done.\u001b[K\n",
            "remote: Counting objects:  16% (1/6)\u001b[K\rremote: Counting objects:  33% (2/6)\u001b[K\rremote: Counting objects:  50% (3/6)\u001b[K\rremote: Counting objects:  66% (4/6)\u001b[K\rremote: Counting objects:  83% (5/6)\u001b[K\rremote: Counting objects: 100% (6/6)\u001b[K\rremote: Counting objects: 100% (6/6), done.\u001b[K\n",
            "remote: Compressing objects: 100% (6/6), done.\u001b[K\n",
            "remote: Total 121 (delta 2), reused 0 (delta 0), pack-reused 115\u001b[K\n",
            "Receiving objects: 100% (121/121), 3.78 MiB | 6.13 MiB/s, done.\n",
            "Resolving deltas: 100% (39/39), done.\n"
          ],
          "name": "stdout"
        }
      ]
    },
    {
      "cell_type": "code",
      "metadata": {
        "id": "wwRRPTB9S1XS",
        "colab_type": "code",
        "outputId": "4729646d-7a10-42cc-c61c-200d31853f6e",
        "colab": {
          "base_uri": "https://localhost:8080/",
          "height": 34
        }
      },
      "source": [
        "!pwd\n"
      ],
      "execution_count": 25,
      "outputs": [
        {
          "output_type": "stream",
          "text": [
            "/content\n"
          ],
          "name": "stdout"
        }
      ]
    },
    {
      "cell_type": "code",
      "metadata": {
        "id": "frOqbX10S6Vr",
        "colab_type": "code",
        "outputId": "1b64df9a-9dec-4ba0-d403-c10708bd7fc7",
        "colab": {
          "base_uri": "https://localhost:8080/",
          "height": 51
        }
      },
      "source": [
        "!ls\n"
      ],
      "execution_count": 26,
      "outputs": [
        {
          "output_type": "stream",
          "text": [
            "data\t\t\tMachine-Learning-for-Finance  sample_data\n",
            "fnn_model_linwayne.pkl\tPyTorchNLPBook\n"
          ],
          "name": "stdout"
        }
      ]
    },
    {
      "cell_type": "code",
      "metadata": {
        "id": "aXymwqlHS-SL",
        "colab_type": "code",
        "colab": {}
      },
      "source": [
        "!cd PyTorchNLPBook\n"
      ],
      "execution_count": 0,
      "outputs": []
    },
    {
      "cell_type": "code",
      "metadata": {
        "id": "lj_-uu6ITJ5R",
        "colab_type": "code",
        "outputId": "1af44a18-b565-41d7-ed54-4f6b0ba42466",
        "colab": {
          "base_uri": "https://localhost:8080/",
          "height": 51
        }
      },
      "source": [
        "!ls"
      ],
      "execution_count": 28,
      "outputs": [
        {
          "output_type": "stream",
          "text": [
            "data\t\t\tMachine-Learning-for-Finance  sample_data\n",
            "fnn_model_linwayne.pkl\tPyTorchNLPBook\n"
          ],
          "name": "stdout"
        }
      ]
    },
    {
      "cell_type": "code",
      "metadata": {
        "id": "lDlBVUonTLZB",
        "colab_type": "code",
        "outputId": "8b48c170-7bca-4fde-c989-540c932b4fed",
        "colab": {
          "base_uri": "https://localhost:8080/",
          "height": 102
        }
      },
      "source": [
        "!sudo apt-get install unzip"
      ],
      "execution_count": 29,
      "outputs": [
        {
          "output_type": "stream",
          "text": [
            "Reading package lists... Done\n",
            "Building dependency tree       \n",
            "Reading state information... Done\n",
            "unzip is already the newest version (6.0-21ubuntu1).\n",
            "0 upgraded, 0 newly installed, 0 to remove and 28 not upgraded.\n"
          ],
          "name": "stdout"
        }
      ]
    },
    {
      "cell_type": "code",
      "metadata": {
        "id": "-9wa550qWwVi",
        "colab_type": "code",
        "outputId": "a6a0de84-302d-4e34-ef05-9dc71fe09ac9",
        "colab": {
          "base_uri": "https://localhost:8080/",
          "height": 34
        }
      },
      "source": [
        "%cd PyTorchNLPBook"
      ],
      "execution_count": 58,
      "outputs": [
        {
          "output_type": "stream",
          "text": [
            "/content/PyTorchNLPBook\n"
          ],
          "name": "stdout"
        }
      ]
    },
    {
      "cell_type": "code",
      "metadata": {
        "id": "LuKiMBUkW_yi",
        "colab_type": "code",
        "outputId": "3611ad5a-32ce-4622-fb1e-0ea2ecd70bea",
        "colab": {
          "base_uri": "https://localhost:8080/",
          "height": 34
        }
      },
      "source": [
        "!ls\n"
      ],
      "execution_count": 59,
      "outputs": [
        {
          "output_type": "stream",
          "text": [
            "chapters  data\tLICENSE  model_storage\tREADME.md  requirements.txt  SETUP.md\n"
          ],
          "name": "stdout"
        }
      ]
    },
    {
      "cell_type": "code",
      "metadata": {
        "id": "jDotorTDTVQp",
        "colab_type": "code",
        "outputId": "716fbe7e-115e-4235-bb94-8c93d0f5aca6",
        "colab": {
          "base_uri": "https://localhost:8080/",
          "height": 170
        }
      },
      "source": [
        "%cd chapters/chapter_5\n",
        "!ls -lta "
      ],
      "execution_count": 60,
      "outputs": [
        {
          "output_type": "stream",
          "text": [
            "/content/PyTorchNLPBook/chapters/chapter_5\n",
            "total 36\n",
            "drwxr-xr-x 9 root root 4096 Oct 27 18:18 ..\n",
            "drwxr-xr-x 5 root root 4096 Oct 27 18:18 .\n",
            "drwxr-xr-x 4 root root 4096 Oct 27 18:18 5_3_doc_classification\n",
            "drwxr-xr-x 2 root root 4096 Oct 27 18:18 data\n",
            "-rw-r--r-- 1 root root 1935 Oct 27 18:18 README.md\n",
            "drwxr-xr-x 4 root root 4096 Oct 27 18:18 5_2_CBOW\n",
            "-rw-r--r-- 1 root root 9954 Oct 27 18:18 5_1_Pretrained_Embeddings.ipynb\n"
          ],
          "name": "stdout"
        }
      ]
    },
    {
      "cell_type": "code",
      "metadata": {
        "id": "ab5Qh-iGkCtl",
        "colab_type": "code",
        "colab": {
          "base_uri": "https://localhost:8080/",
          "height": 51
        },
        "outputId": "5cf27144-e584-4e24-9d73-9a2c8e95534c"
      },
      "source": [
        "%cd data\n",
        "!ls"
      ],
      "execution_count": 61,
      "outputs": [
        {
          "output_type": "stream",
          "text": [
            "/content/PyTorchNLPBook/chapters/chapter_5/data\n",
            "download.py  get-all-data.sh  README.md\n"
          ],
          "name": "stdout"
        }
      ]
    },
    {
      "cell_type": "code",
      "metadata": {
        "id": "55T4ZV51kJ90",
        "colab_type": "code",
        "colab": {
          "base_uri": "https://localhost:8080/",
          "height": 391
        },
        "outputId": "14552226-7744-4847-d81a-13dc05d101af"
      },
      "source": [
        "!./get-all-data.sh"
      ],
      "execution_count": 62,
      "outputs": [
        {
          "output_type": "stream",
          "text": [
            "Trying to fetch /content/PyTorchNLPBook/chapters/chapter_5/data/yelp/raw_train.csv\n",
            "12536it [00:06, 1821.61it/s]\n",
            "Trying to fetch /content/PyTorchNLPBook/chapters/chapter_5/data/yelp/raw_test.csv\n",
            "848it [00:00, 1774.15it/s]\n",
            "Trying to fetch /content/PyTorchNLPBook/chapters/chapter_5/data/yelp/reviews_with_splits_lite.csv\n",
            "1217it [00:00, 5833.88it/s]\n",
            "Trying to fetch /content/PyTorchNLPBook/chapters/chapter_5/data/surnames/surnames.csv\n",
            "6it [00:00, 3761.71it/s]\n",
            "Trying to fetch /content/PyTorchNLPBook/chapters/chapter_5/data/surnames/surnames_with_splits.csv\n",
            "8it [00:00, 3430.57it/s]\n",
            "Trying to fetch /content/PyTorchNLPBook/chapters/chapter_5/data/books/frankenstein.txt\n",
            "14it [00:00, 3104.76it/s]\n",
            "Trying to fetch /content/PyTorchNLPBook/chapters/chapter_5/data/books/frankenstein_with_splits.csv\n",
            "109it [00:00, 7471.71it/s]\n",
            "Trying to fetch /content/PyTorchNLPBook/chapters/chapter_5/data/ag_news/news.csv\n",
            "188it [00:00, 508.87it/s]\n",
            "Trying to fetch /content/PyTorchNLPBook/chapters/chapter_5/data/ag_news/news_with_splits.csv\n",
            "208it [00:00, 1171.17it/s]\n",
            "Trying to fetch /content/PyTorchNLPBook/chapters/chapter_5/data/nmt/eng-fra.txt\n",
            "292it [00:00, 2138.00it/s]\n",
            "Trying to fetch /content/PyTorchNLPBook/chapters/chapter_5/data/nmt/simplest_eng_fra.csv\n",
            "30it [00:00, 3316.00it/s]\n"
          ],
          "name": "stdout"
        }
      ]
    },
    {
      "cell_type": "code",
      "metadata": {
        "id": "kg9sLF66kW8E",
        "colab_type": "code",
        "colab": {
          "base_uri": "https://localhost:8080/",
          "height": 357
        },
        "outputId": "a21859ed-9c4e-45e3-a791-cb89e1b90755"
      },
      "source": [
        "!wget http://nlp.stanford.edu/data/glove.6B.zip"
      ],
      "execution_count": 69,
      "outputs": [
        {
          "output_type": "stream",
          "text": [
            "--2019-10-27 18:56:21--  http://nlp.stanford.edu/data/glove.6B.zip\n",
            "Resolving nlp.stanford.edu (nlp.stanford.edu)... 171.64.67.140\n",
            "Connecting to nlp.stanford.edu (nlp.stanford.edu)|171.64.67.140|:80... connected.\n",
            "HTTP request sent, awaiting response... 302 Found\n",
            "Location: https://nlp.stanford.edu/data/glove.6B.zip [following]\n",
            "--2019-10-27 18:56:22--  https://nlp.stanford.edu/data/glove.6B.zip\n",
            "Connecting to nlp.stanford.edu (nlp.stanford.edu)|171.64.67.140|:443... connected.\n",
            "HTTP request sent, awaiting response... 301 Moved Permanently\n",
            "Location: http://downloads.cs.stanford.edu/nlp/data/glove.6B.zip [following]\n",
            "--2019-10-27 18:56:22--  http://downloads.cs.stanford.edu/nlp/data/glove.6B.zip\n",
            "Resolving downloads.cs.stanford.edu (downloads.cs.stanford.edu)... 171.64.64.22\n",
            "Connecting to downloads.cs.stanford.edu (downloads.cs.stanford.edu)|171.64.64.22|:80... connected.\n",
            "HTTP request sent, awaiting response... 200 OK\n",
            "Length: 862182613 (822M) [application/zip]\n",
            "Saving to: ‘glove.6B.zip’\n",
            "\n",
            "glove.6B.zip        100%[===================>] 822.24M  1.99MB/s    in 6m 30s  \n",
            "\n",
            "2019-10-27 19:02:53 (2.11 MB/s) - ‘glove.6B.zip’ saved [862182613/862182613]\n",
            "\n"
          ],
          "name": "stdout"
        }
      ]
    },
    {
      "cell_type": "code",
      "metadata": {
        "id": "-kA3KNLsV5Fy",
        "colab_type": "code",
        "outputId": "d60e1f12-3b95-4704-e8f9-bca0f91abb38",
        "colab": {
          "base_uri": "https://localhost:8080/",
          "height": 85
        }
      },
      "source": [
        "%cd ../../\n",
        "!pwd\n",
        "!ls"
      ],
      "execution_count": 77,
      "outputs": [
        {
          "output_type": "stream",
          "text": [
            "/content/PyTorchNLPBook/chapters/chapter_5\n",
            "/content/PyTorchNLPBook/chapters/chapter_5\n",
            "5_1_Pretrained_Embeddings.ipynb  5_3_doc_classification  README.md\n",
            "5_2_CBOW\t\t\t data\n"
          ],
          "name": "stdout"
        }
      ]
    },
    {
      "cell_type": "code",
      "metadata": {
        "id": "MQTH8E1BfYvJ",
        "colab_type": "code",
        "colab": {
          "base_uri": "https://localhost:8080/",
          "height": 207
        },
        "outputId": "4e4b9f1c-71df-4ed4-94f1-c6a454a39099"
      },
      "source": [
        "#!pip install annoy\n"
      ],
      "execution_count": 51,
      "outputs": [
        {
          "output_type": "stream",
          "text": [
            "Collecting annoy\n",
            "\u001b[?25l  Downloading https://files.pythonhosted.org/packages/cc/66/eab272ae940d36d698994058e303fe7d1264d10ec120e0a508d0c8fb3ca5/annoy-1.16.2.tar.gz (636kB)\n",
            "\u001b[K     |████████████████████████████████| 645kB 6.6MB/s \n",
            "\u001b[?25hBuilding wheels for collected packages: annoy\n",
            "  Building wheel for annoy (setup.py) ... \u001b[?25l\u001b[?25hdone\n",
            "  Created wheel for annoy: filename=annoy-1.16.2-cp36-cp36m-linux_x86_64.whl size=310434 sha256=6022bdc3bca813426fac79619b281df652b6aae445706f0ae2bb9aec125abbd0\n",
            "  Stored in directory: /root/.cache/pip/wheels/d3/d7/68/3795670ef4c6781fc10df0d6cf83b922244aa28cd9489d1176\n",
            "Successfully built annoy\n",
            "Installing collected packages: annoy\n",
            "Successfully installed annoy-1.16.2\n"
          ],
          "name": "stdout"
        }
      ]
    },
    {
      "cell_type": "code",
      "metadata": {
        "id": "bKXciFmaVxyr",
        "colab_type": "code",
        "colab": {
          "base_uri": "https://localhost:8080/",
          "height": 561
        },
        "outputId": "ef29fb14-57e9-471d-87d1-bab3684a903e"
      },
      "source": [
        "%run 5_1_Pretrained_Embeddings.ipynb \n"
      ],
      "execution_count": 78,
      "outputs": [
        {
          "output_type": "stream",
          "text": [
            "Building Index!\n",
            "Finished!\n",
            "man : he :: woman : she\n",
            "man : he :: woman : never\n",
            "fly : plane :: sail : ship\n",
            "fly : plane :: sail : vessel\n",
            "cat : kitten :: dog : puppy\n",
            "cat : kitten :: dog : toddler\n",
            "cat : kitten :: dog : sleds\n",
            "blue : color :: dog : cat\n",
            "blue : color :: dog : animal\n",
            "blue : color :: dog : breed\n",
            "leg : legs :: hand : fingers\n",
            "leg : legs :: hand : ears\n",
            "leg : legs :: hand : stick\n",
            "toe : foot :: finger : hand\n",
            "toe : foot :: finger : attached\n",
            "toe : foot :: finger : apart\n",
            "talk : communicate :: read : instructions\n",
            "talk : communicate :: read : communicating\n",
            "talk : communicate :: read : transmit\n",
            "blue : democrat :: red : republican\n",
            "blue : democrat :: red : congressman\n",
            "blue : democrat :: red : senator\n",
            "man : king :: woman : queen\n",
            "man : king :: woman : monarch\n",
            "man : king :: woman : throne\n",
            "man : doctor :: woman : nurse\n",
            "man : doctor :: woman : physician\n",
            "fast : fastest :: small : smallest\n",
            "fast : fastest :: small : largest\n",
            "fast : fastest :: small : among\n"
          ],
          "name": "stdout"
        }
      ]
    },
    {
      "cell_type": "code",
      "metadata": {
        "id": "LSvRxyHgV6ka",
        "colab_type": "code",
        "colab": {
          "base_uri": "https://localhost:8080/",
          "height": 51
        },
        "outputId": "fceccffa-910e-4f38-92f0-1430fa04da0f"
      },
      "source": [
        "%cd data/glove\n",
        "!ls"
      ],
      "execution_count": 74,
      "outputs": [
        {
          "output_type": "stream",
          "text": [
            "/content/PyTorchNLPBook/chapters/chapter_5/data/glove\n",
            "glove.6B.zip\n"
          ],
          "name": "stdout"
        }
      ]
    },
    {
      "cell_type": "code",
      "metadata": {
        "id": "WvvoYVUYeuub",
        "colab_type": "code",
        "colab": {
          "base_uri": "https://localhost:8080/",
          "height": 102
        },
        "outputId": "02e81ff4-f9e1-4619-fb84-a1eb8ab088c0"
      },
      "source": [
        "!unzip glove.6B.zip"
      ],
      "execution_count": 75,
      "outputs": [
        {
          "output_type": "stream",
          "text": [
            "Archive:  glove.6B.zip\n",
            "  inflating: glove.6B.50d.txt        \n",
            "  inflating: glove.6B.100d.txt       \n",
            "  inflating: glove.6B.200d.txt       \n",
            "  inflating: glove.6B.300d.txt       \n"
          ],
          "name": "stdout"
        }
      ]
    },
    {
      "cell_type": "code",
      "metadata": {
        "id": "mmh01J0qm5AO",
        "colab_type": "code",
        "colab": {
          "base_uri": "https://localhost:8080/",
          "height": 153
        },
        "outputId": "cb76285c-a8d2-48b1-a20a-56629ccf29ab"
      },
      "source": [
        "!ls -lta"
      ],
      "execution_count": 76,
      "outputs": [
        {
          "output_type": "stream",
          "text": [
            "total 3039140\n",
            "drwxr-xr-x 2 root root       4096 Oct 27 19:05 .\n",
            "drwxr-xr-x 8 root root       4096 Oct 27 18:55 ..\n",
            "-rw-r--r-- 1 root root  862182613 Oct 25  2015 glove.6B.zip\n",
            "-rw-rw-r-- 1 root root 1037962819 Aug 27  2014 glove.6B.300d.txt\n",
            "-rw-rw-r-- 1 root root  171350079 Aug  4  2014 glove.6B.50d.txt\n",
            "-rw-rw-r-- 1 root root  693432828 Aug  4  2014 glove.6B.200d.txt\n",
            "-rw-rw-r-- 1 root root  347116733 Aug  4  2014 glove.6B.100d.txt\n"
          ],
          "name": "stdout"
        }
      ]
    },
    {
      "cell_type": "code",
      "metadata": {
        "id": "bcN-DwHCnD-2",
        "colab_type": "code",
        "colab": {}
      },
      "source": [
        ""
      ],
      "execution_count": 0,
      "outputs": []
    }
  ]
}