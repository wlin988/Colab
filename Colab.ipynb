{
  "nbformat": 4,
  "nbformat_minor": 0,
  "metadata": {
    "colab": {
      "name": "Colab.ipynb",
      "provenance": [],
      "collapsed_sections": [],
      "toc_visible": true,
      "include_colab_link": true
    },
    "kernelspec": {
      "name": "python3",
      "display_name": "Python 3"
    },
    "accelerator": "GPU"
  },
  "cells": [
    {
      "cell_type": "markdown",
      "metadata": {
        "id": "view-in-github",
        "colab_type": "text"
      },
      "source": [
        "<a href=\"https://colab.research.google.com/github/wlin988/Colab/blob/master/Colab.ipynb\" target=\"_parent\"><img src=\"https://colab.research.google.com/assets/colab-badge.svg\" alt=\"Open In Colab\"/></a>"
      ]
    },
    {
      "cell_type": "code",
      "metadata": {
        "id": "2zapu0NWxWfQ",
        "colab_type": "code",
        "outputId": "37692481-c2d6-47f9-a2c5-e66a484bf7da",
        "colab": {
          "base_uri": "https://localhost:8080/",
          "height": 34
        }
      },
      "source": [
        "!git clone https://github.com/anujshah1003/own_data_cnn_implementation_keras.git\n",
        "  "
      ],
      "execution_count": 1,
      "outputs": [
        {
          "output_type": "stream",
          "text": [
            "fatal: destination path 'own_data_cnn_implementation_keras' already exists and is not an empty directory.\n"
          ],
          "name": "stdout"
        }
      ]
    },
    {
      "cell_type": "markdown",
      "metadata": {
        "id": "tNG0m7HJSSVQ",
        "colab_type": "text"
      },
      "source": [
        "# New Section"
      ]
    },
    {
      "cell_type": "markdown",
      "metadata": {
        "id": "cgczZ8IeSStu",
        "colab_type": "text"
      },
      "source": [
        "# New Section"
      ]
    },
    {
      "cell_type": "markdown",
      "metadata": {
        "id": "hb_eq9cLw15E",
        "colab_type": "text"
      },
      "source": [
        ""
      ]
    },
    {
      "cell_type": "code",
      "metadata": {
        "id": "wY3Lr13uxjJq",
        "colab_type": "code",
        "outputId": "365a6b56-7c31-4849-b727-0609a9f7147b",
        "colab": {
          "base_uri": "https://localhost:8080/",
          "height": 34
        }
      },
      "source": [
        "!ls"
      ],
      "execution_count": 2,
      "outputs": [
        {
          "output_type": "stream",
          "text": [
            "1-pandas-project  own_data_cnn_implementation_keras  sample_data\n"
          ],
          "name": "stdout"
        }
      ]
    },
    {
      "cell_type": "code",
      "metadata": {
        "id": "ltfjhtd2xj6E",
        "colab_type": "code",
        "outputId": "addf5b7c-7bdc-4668-9d0e-1365f2a25fce",
        "colab": {
          "base_uri": "https://localhost:8080/",
          "height": 34
        }
      },
      "source": [
        "!git clone https://github.com/wlin988/1-pandas-project\n",
        "  "
      ],
      "execution_count": 3,
      "outputs": [
        {
          "output_type": "stream",
          "text": [
            "fatal: destination path '1-pandas-project' already exists and is not an empty directory.\n"
          ],
          "name": "stdout"
        }
      ]
    },
    {
      "cell_type": "code",
      "metadata": {
        "id": "9upgzK37yTI4",
        "colab_type": "code",
        "colab": {}
      },
      "source": [
        "!cd 1-pandas-project"
      ],
      "execution_count": 0,
      "outputs": []
    },
    {
      "cell_type": "code",
      "metadata": {
        "id": "o4Ldhgzvy2WR",
        "colab_type": "code",
        "outputId": "20a9cc8c-174e-4fac-d089-5aeacdf2c38a",
        "colab": {
          "base_uri": "https://localhost:8080/",
          "height": 34
        }
      },
      "source": [
        "!ls\n"
      ],
      "execution_count": 5,
      "outputs": [
        {
          "output_type": "stream",
          "text": [
            "1-pandas-project  own_data_cnn_implementation_keras  sample_data\n"
          ],
          "name": "stdout"
        }
      ]
    },
    {
      "cell_type": "code",
      "metadata": {
        "id": "TtYzLVHfy5ZJ",
        "colab_type": "code",
        "outputId": "24a217c3-8d98-42d4-8f8b-08730006a8cf",
        "colab": {
          "base_uri": "https://localhost:8080/",
          "height": 34
        }
      },
      "source": [
        "cd 1-pandas-project"
      ],
      "execution_count": 6,
      "outputs": [
        {
          "output_type": "stream",
          "text": [
            "/content/1-pandas-project\n"
          ],
          "name": "stdout"
        }
      ]
    },
    {
      "cell_type": "code",
      "metadata": {
        "id": "DaWKjTICzASi",
        "colab_type": "code",
        "outputId": "caab7c0b-2154-4242-97ef-e1be90aa7769",
        "colab": {
          "base_uri": "https://localhost:8080/",
          "height": 238
        }
      },
      "source": [
        "ls"
      ],
      "execution_count": 7,
      "outputs": [
        {
          "output_type": "stream",
          "text": [
            "\u001b[0m\u001b[01;34m1-pandas-project\u001b[0m/\n",
            "\u001b[01;34mconvolution-layer-visualization-VGG-16\u001b[0m/\n",
            "keras-quiz1-oct2019.zip\n",
            "MANIFEST.MF\n",
            "\u001b[01;34mown_data_cnn_implementation_keras\u001b[0m/\n",
            "quiz1.py\n",
            "quiz1-questions.txt\n",
            "quiz1_weather.csv\n",
            "\u001b[01;34mReal_time_Object_detection_TF\u001b[0m/\n",
            "\u001b[01;34mTensorboard-own-image-data-image-features-embedding-visualization\u001b[0m/\n",
            "\u001b[01;34mTransfer-Learning-Face-Recognition-using-VGG-16\u001b[0m/\n",
            "\u001b[01;34mTransfer-Learning-in-keras---custom-data\u001b[0m/\n",
            "Untitled1.ipynb\n"
          ],
          "name": "stdout"
        }
      ]
    },
    {
      "cell_type": "code",
      "metadata": {
        "id": "7-a1NZ3uzBiQ",
        "colab_type": "code",
        "outputId": "14df20c2-b297-4d48-82b7-c5ab40ccba27",
        "colab": {
          "base_uri": "https://localhost:8080/",
          "height": 1000
        }
      },
      "source": [
        "!python quiz1.py"
      ],
      "execution_count": 8,
      "outputs": [
        {
          "output_type": "stream",
          "text": [
            "(19, 6)\n",
            "Index(['day', 'temperature', 'windspeed', 'event', 'city', 'state'], dtype='object')\n",
            "         day  ...  state\n",
            "0   4/1/2018  ...     ca\n",
            "1   4/2/2018  ...     ca\n",
            "2   4/3/2018  ...     mn\n",
            "3  10/1/2018  ...     ca\n",
            "4  10/2/2018  ...     ca\n",
            "\n",
            "[5 rows x 6 columns]\n",
            "         day  ...  state\n",
            "0   4/1/2018  ...     ca\n",
            "1   4/2/2018  ...     ca\n",
            "2   4/3/2018  ...     mn\n",
            "3  10/1/2018  ...     ca\n",
            "4  10/2/2018  ...     ca\n",
            "\n",
            "[5 rows x 6 columns]\n",
            "           day  ...  state\n",
            "14  10/16/2018  ...     ca\n",
            "15    8/1/2018  ...     ca\n",
            "16    8/2/2018  ...     ca\n",
            "17    8/3/2018  ...     mn\n",
            "18    8/4/2018  ...     mn\n",
            "\n",
            "[5 rows x 6 columns]\n",
            "           day  temperature\n",
            "0     4/1/2018         42.0\n",
            "1     4/2/2018         45.0\n",
            "2     4/3/2018         78.0\n",
            "3    10/1/2018         42.0\n",
            "4    10/2/2018         45.0\n",
            "5    10/3/2018         78.0\n",
            "6    10/4/2018         74.0\n",
            "7    10/5/2018         42.0\n",
            "8    10/6/2018         51.0\n",
            "9   10/11/2018          NaN\n",
            "10  10/12/2018         45.0\n",
            "11  10/13/2018          NaN\n",
            "12  10/14/2018         74.0\n",
            "13  10/15/2018          NaN\n",
            "14  10/16/2018         51.0\n",
            "15    8/1/2018         42.0\n",
            "16    8/2/2018         45.0\n",
            "17    8/3/2018         78.0\n",
            "18    8/4/2018         78.0\n",
            "78.0\n",
            "42.0\n",
            "56.875\n",
            "13.0\n",
            "48.0\n",
            "12.0\n",
            "           day  ...  state\n",
            "7    10/5/2018  ...     or\n",
            "13  10/15/2018  ...     or\n",
            "18    8/4/2018  ...     mn\n",
            "12  10/14/2018  ...     mn\n",
            "2     4/3/2018  ...     mn\n",
            "17    8/3/2018  ...     mn\n",
            "5    10/3/2018  ...     mn\n",
            "6    10/4/2018  ...     mn\n",
            "11  10/13/2018  ...     mn\n",
            "16    8/2/2018  ...     ca\n",
            "15    8/1/2018  ...     ca\n",
            "14  10/16/2018  ...     ca\n",
            "0     4/1/2018  ...     ca\n",
            "10  10/12/2018  ...     ca\n",
            "1     4/2/2018  ...     ca\n",
            "8    10/6/2018  ...     ca\n",
            "4    10/2/2018  ...     ca\n",
            "3    10/1/2018  ...     ca\n",
            "9   10/11/2018  ...     ca\n",
            "\n",
            "[19 rows x 6 columns]\n",
            "           day  ... state\n",
            "3    10/1/2018  ...    ca\n",
            "4    10/2/2018  ...    ca\n",
            "5    10/3/2018  ...    mn\n",
            "6    10/4/2018  ...    mn\n",
            "7    10/5/2018  ...    or\n",
            "8    10/6/2018  ...    ca\n",
            "9   10/11/2018  ...    ca\n",
            "10  10/12/2018  ...    ca\n",
            "11  10/13/2018  ...    mn\n",
            "12  10/14/2018  ...    mn\n",
            "13  10/15/2018  ...    or\n",
            "14  10/16/2018  ...    ca\n",
            "15    8/1/2018  ...    ca\n",
            "16    8/2/2018  ...    ca\n",
            "17    8/3/2018  ...    mn\n",
            "18    8/4/2018  ...    mn\n",
            "\n",
            "[16 rows x 6 columns]\n"
          ],
          "name": "stdout"
        }
      ]
    },
    {
      "cell_type": "code",
      "metadata": {
        "id": "9J-F4hjWzLw_",
        "colab_type": "code",
        "outputId": "4b5be990-6519-4997-eba4-cbe5f478a563",
        "colab": {
          "base_uri": "https://localhost:8080/",
          "height": 34
        }
      },
      "source": [
        "!pwd"
      ],
      "execution_count": 22,
      "outputs": [
        {
          "output_type": "stream",
          "text": [
            "/content/1-pandas-project\n"
          ],
          "name": "stdout"
        }
      ]
    },
    {
      "cell_type": "code",
      "metadata": {
        "id": "9aUTEBz1jhy8",
        "colab_type": "code",
        "colab": {
          "base_uri": "https://localhost:8080/",
          "height": 34
        },
        "outputId": "1c661e47-b04d-49d8-ecdc-88a8d64a8792"
      },
      "source": [
        "cd .."
      ],
      "execution_count": 23,
      "outputs": [
        {
          "output_type": "stream",
          "text": [
            "/content\n"
          ],
          "name": "stdout"
        }
      ]
    },
    {
      "cell_type": "code",
      "metadata": {
        "id": "qdFcjgDoSXo3",
        "colab_type": "code",
        "outputId": "91cb649d-b5a4-4073-f01d-4b75845f9379",
        "colab": {
          "base_uri": "https://localhost:8080/",
          "height": 34
        }
      },
      "source": [
        "!git clone https://github.com/anujshah1003/own_data_cnn_implementation_keras.git"
      ],
      "execution_count": 24,
      "outputs": [
        {
          "output_type": "stream",
          "text": [
            "fatal: destination path 'own_data_cnn_implementation_keras' already exists and is not an empty directory.\n"
          ],
          "name": "stdout"
        }
      ]
    },
    {
      "cell_type": "code",
      "metadata": {
        "id": "Sjr9wCoEc33u",
        "colab_type": "code",
        "outputId": "bb22275d-4a27-4e97-b28e-0403a806abe2",
        "colab": {
          "base_uri": "https://localhost:8080/",
          "height": 34
        }
      },
      "source": [
        "!git clone https://github.com/wlin988/1-pandas-project.git"
      ],
      "execution_count": 25,
      "outputs": [
        {
          "output_type": "stream",
          "text": [
            "fatal: destination path '1-pandas-project' already exists and is not an empty directory.\n"
          ],
          "name": "stdout"
        }
      ]
    },
    {
      "cell_type": "code",
      "metadata": {
        "id": "GCHsPTyffuCW",
        "colab_type": "code",
        "colab": {}
      },
      "source": [
        ""
      ],
      "execution_count": 0,
      "outputs": []
    },
    {
      "cell_type": "code",
      "metadata": {
        "id": "3olIEDY1dFP9",
        "colab_type": "code",
        "outputId": "e5e2d952-08cf-42c0-9824-f7bf31567391",
        "colab": {
          "base_uri": "https://localhost:8080/",
          "height": 85
        }
      },
      "source": [
        "!git clone https://github.com/anujshah1003/Real_time_Object_detection_TF.git"
      ],
      "execution_count": 26,
      "outputs": [
        {
          "output_type": "stream",
          "text": [
            "Cloning into 'Real_time_Object_detection_TF'...\n",
            "remote: Enumerating objects: 18, done.\u001b[K\n",
            "remote: Total 18 (delta 0), reused 0 (delta 0), pack-reused 18\u001b[K\n",
            "Unpacking objects: 100% (18/18), done.\n"
          ],
          "name": "stdout"
        }
      ]
    },
    {
      "cell_type": "code",
      "metadata": {
        "id": "AlQTLY54dOD7",
        "colab_type": "code",
        "outputId": "c1a3ea03-0dae-4b4e-df2a-cf5870f5ede6",
        "colab": {
          "base_uri": "https://localhost:8080/",
          "height": 85
        }
      },
      "source": [
        "!git clone https://github.com/anujshah1003/convolution-layer-visualization-VGG-16.git"
      ],
      "execution_count": 27,
      "outputs": [
        {
          "output_type": "stream",
          "text": [
            "Cloning into 'convolution-layer-visualization-VGG-16'...\n",
            "remote: Enumerating objects: 41, done.\u001b[K\n",
            "remote: Total 41 (delta 0), reused 0 (delta 0), pack-reused 41\u001b[K\n",
            "Unpacking objects: 100% (41/41), done.\n"
          ],
          "name": "stdout"
        }
      ]
    },
    {
      "cell_type": "code",
      "metadata": {
        "id": "Lz05PhvqdUJr",
        "colab_type": "code",
        "outputId": "eb6af087-a4f5-4a46-a0a7-a106f41a8d21",
        "colab": {
          "base_uri": "https://localhost:8080/",
          "height": 85
        }
      },
      "source": [
        "!git clone https://github.com/anujshah1003/Transfer-Learning-in-keras---custom-data.git"
      ],
      "execution_count": 28,
      "outputs": [
        {
          "output_type": "stream",
          "text": [
            "Cloning into 'Transfer-Learning-in-keras---custom-data'...\n",
            "remote: Enumerating objects: 55, done.\u001b[K\n",
            "remote: Total 55 (delta 0), reused 0 (delta 0), pack-reused 55\u001b[K\n",
            "Unpacking objects: 100% (55/55), done.\n"
          ],
          "name": "stdout"
        }
      ]
    },
    {
      "cell_type": "code",
      "metadata": {
        "id": "v5GkV3tHdZ7K",
        "colab_type": "code",
        "outputId": "f812ab9d-88af-4b3e-d3c1-6af570a09003",
        "colab": {
          "base_uri": "https://localhost:8080/",
          "height": 102
        }
      },
      "source": [
        "!git clone https://github.com/anujshah1003/Tensorboard-own-image-data-image-features-embedding-visualization.git"
      ],
      "execution_count": 29,
      "outputs": [
        {
          "output_type": "stream",
          "text": [
            "Cloning into 'Tensorboard-own-image-data-image-features-embedding-visualization'...\n",
            "remote: Enumerating objects: 109, done.\u001b[K\n",
            "remote: Total 109 (delta 0), reused 0 (delta 0), pack-reused 109\u001b[K\n",
            "Receiving objects: 100% (109/109), 42.00 MiB | 17.25 MiB/s, done.\n",
            "Resolving deltas: 100% (53/53), done.\n"
          ],
          "name": "stdout"
        }
      ]
    },
    {
      "cell_type": "code",
      "metadata": {
        "id": "vyl50G4Ldflj",
        "colab_type": "code",
        "outputId": "f239c8fe-7122-4397-9267-fd57585ebcfa",
        "colab": {
          "base_uri": "https://localhost:8080/",
          "height": 85
        }
      },
      "source": [
        "!git clone https://github.com/anujshah1003/Transfer-Learning-Face-Recognition-using-VGG-16.git"
      ],
      "execution_count": 30,
      "outputs": [
        {
          "output_type": "stream",
          "text": [
            "Cloning into 'Transfer-Learning-Face-Recognition-using-VGG-16'...\n",
            "remote: Enumerating objects: 37, done.\u001b[K\n",
            "remote: Total 37 (delta 0), reused 0 (delta 0), pack-reused 37\u001b[K\n",
            "Unpacking objects: 100% (37/37), done.\n"
          ],
          "name": "stdout"
        }
      ]
    },
    {
      "cell_type": "code",
      "metadata": {
        "id": "0DBI1cgddmX_",
        "colab_type": "code",
        "colab": {
          "base_uri": "https://localhost:8080/",
          "height": 34
        },
        "outputId": "d9ec2cd6-5872-489f-f550-474284934808"
      },
      "source": [
        "!git clone https://github.com/wlin988/1-pandas-project.git"
      ],
      "execution_count": 31,
      "outputs": [
        {
          "output_type": "stream",
          "text": [
            "fatal: destination path '1-pandas-project' already exists and is not an empty directory.\n"
          ],
          "name": "stdout"
        }
      ]
    },
    {
      "cell_type": "code",
      "metadata": {
        "id": "y3ieG4_we203",
        "colab_type": "code",
        "colab": {}
      },
      "source": [
        ""
      ],
      "execution_count": 0,
      "outputs": []
    }
  ]
}