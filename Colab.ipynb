{
  "nbformat": 4,
  "nbformat_minor": 0,
  "metadata": {
    "colab": {
      "name": "Colab.ipynb",
      "provenance": [],
      "toc_visible": true,
      "include_colab_link": true
    },
    "kernelspec": {
      "name": "python3",
      "display_name": "Python 3"
    },
    "accelerator": "GPU"
  },
  "cells": [
    {
      "cell_type": "markdown",
      "metadata": {
        "id": "view-in-github",
        "colab_type": "text"
      },
      "source": [
        "<a href=\"https://colab.research.google.com/github/wlin988/Colab/blob/master/Colab.ipynb\" target=\"_parent\"><img src=\"https://colab.research.google.com/assets/colab-badge.svg\" alt=\"Open In Colab\"/></a>"
      ]
    },
    {
      "cell_type": "code",
      "metadata": {
        "id": "2zapu0NWxWfQ",
        "colab_type": "code",
        "outputId": "d9a5cb82-ef72-42b5-e275-f54597425d74",
        "colab": {
          "base_uri": "https://localhost:8080/",
          "height": 85
        }
      },
      "source": [
        "!git clone https://github.com/anujshah1003/own_data_cnn_implementation_keras.git\n",
        "  "
      ],
      "execution_count": 0,
      "outputs": [
        {
          "output_type": "stream",
          "text": [
            "Cloning into 'own_data_cnn_implementation_keras'...\n",
            "remote: Enumerating objects: 51, done.\u001b[K\n",
            "remote: Total 51 (delta 0), reused 0 (delta 0), pack-reused 51\u001b[K\n",
            "Unpacking objects: 100% (51/51), done.\n"
          ],
          "name": "stdout"
        }
      ]
    },
    {
      "cell_type": "markdown",
      "metadata": {
        "id": "tNG0m7HJSSVQ",
        "colab_type": "text"
      },
      "source": [
        "# New Section"
      ]
    },
    {
      "cell_type": "markdown",
      "metadata": {
        "id": "cgczZ8IeSStu",
        "colab_type": "text"
      },
      "source": [
        "# New Section"
      ]
    },
    {
      "cell_type": "markdown",
      "metadata": {
        "id": "hb_eq9cLw15E",
        "colab_type": "text"
      },
      "source": [
        ""
      ]
    },
    {
      "cell_type": "code",
      "metadata": {
        "id": "wY3Lr13uxjJq",
        "colab_type": "code",
        "outputId": "915df78c-951e-4d63-dd7c-d2d1d4837cd7",
        "colab": {
          "base_uri": "https://localhost:8080/",
          "height": 34
        }
      },
      "source": [
        "!ls"
      ],
      "execution_count": 0,
      "outputs": [
        {
          "output_type": "stream",
          "text": [
            "1-pandas-project  own_data_cnn_implementation_keras  sample_data\n"
          ],
          "name": "stdout"
        }
      ]
    },
    {
      "cell_type": "code",
      "metadata": {
        "id": "ltfjhtd2xj6E",
        "colab_type": "code",
        "outputId": "660520eb-ad62-4b3c-b170-f88906ce1155",
        "colab": {
          "base_uri": "https://localhost:8080/",
          "height": 119
        }
      },
      "source": [
        "!git clone https://github.com/wlin988/1-pandas-project\n",
        "  "
      ],
      "execution_count": 0,
      "outputs": [
        {
          "output_type": "stream",
          "text": [
            "Cloning into '1-pandas-project'...\n",
            "remote: Enumerating objects: 10, done.\u001b[K\n",
            "remote: Counting objects:  10% (1/10)\u001b[K\rremote: Counting objects:  20% (2/10)\u001b[K\rremote: Counting objects:  30% (3/10)\u001b[K\rremote: Counting objects:  40% (4/10)\u001b[K\rremote: Counting objects:  50% (5/10)\u001b[K\rremote: Counting objects:  60% (6/10)\u001b[K\rremote: Counting objects:  70% (7/10)\u001b[K\rremote: Counting objects:  80% (8/10)\u001b[K\rremote: Counting objects:  90% (9/10)\u001b[K\rremote: Counting objects: 100% (10/10)\u001b[K\rremote: Counting objects: 100% (10/10), done.\u001b[K\n",
            "remote: Compressing objects:  10% (1/10)\u001b[K\rremote: Compressing objects:  20% (2/10)\u001b[K\rremote: Compressing objects:  30% (3/10)\u001b[K\rremote: Compressing objects:  40% (4/10)\u001b[K\rremote: Compressing objects:  50% (5/10)\u001b[K\rremote: Compressing objects:  60% (6/10)\u001b[K\rremote: Compressing objects:  70% (7/10)\u001b[K\rremote: Compressing objects:  80% (8/10)\u001b[K\rremote: Compressing objects:  90% (9/10)\u001b[K\rremote: Compressing objects: 100% (10/10)\u001b[K\rremote: Compressing objects: 100% (10/10), done.\u001b[K\n",
            "remote: Total 10 (delta 1), reused 0 (delta 0), pack-reused 0\u001b[K\n",
            "Unpacking objects:  10% (1/10)   \rUnpacking objects:  20% (2/10)   \rUnpacking objects:  30% (3/10)   \rUnpacking objects:  40% (4/10)   \rUnpacking objects:  50% (5/10)   \rUnpacking objects:  60% (6/10)   \rUnpacking objects:  70% (7/10)   \rUnpacking objects:  80% (8/10)   \rUnpacking objects:  90% (9/10)   \rUnpacking objects: 100% (10/10)   \rUnpacking objects: 100% (10/10), done.\n"
          ],
          "name": "stdout"
        }
      ]
    },
    {
      "cell_type": "code",
      "metadata": {
        "id": "9upgzK37yTI4",
        "colab_type": "code",
        "colab": {}
      },
      "source": [
        "!cd 1-pandas-project"
      ],
      "execution_count": 0,
      "outputs": []
    },
    {
      "cell_type": "code",
      "metadata": {
        "id": "o4Ldhgzvy2WR",
        "colab_type": "code",
        "outputId": "af02f09e-701f-4844-c018-1103b9f779ab",
        "colab": {
          "base_uri": "https://localhost:8080/",
          "height": 34
        }
      },
      "source": [
        "!ls\n"
      ],
      "execution_count": 0,
      "outputs": [
        {
          "output_type": "stream",
          "text": [
            "1-pandas-project  own_data_cnn_implementation_keras  sample_data\n"
          ],
          "name": "stdout"
        }
      ]
    },
    {
      "cell_type": "code",
      "metadata": {
        "id": "TtYzLVHfy5ZJ",
        "colab_type": "code",
        "outputId": "82193737-cdbb-4907-e4bc-bd3b34c47b27",
        "colab": {
          "base_uri": "https://localhost:8080/",
          "height": 34
        }
      },
      "source": [
        "cd 1-pandas-project"
      ],
      "execution_count": 0,
      "outputs": [
        {
          "output_type": "stream",
          "text": [
            "/content/1-pandas-project\n"
          ],
          "name": "stdout"
        }
      ]
    },
    {
      "cell_type": "code",
      "metadata": {
        "id": "DaWKjTICzASi",
        "colab_type": "code",
        "outputId": "1c024f3c-c9d2-4462-affb-844ae77a9e60",
        "colab": {
          "base_uri": "https://localhost:8080/",
          "height": 51
        }
      },
      "source": [
        "ls"
      ],
      "execution_count": 0,
      "outputs": [
        {
          "output_type": "stream",
          "text": [
            "keras-quiz1-oct2019.zip  quiz1.py             quiz1_weather.csv\n",
            "MANIFEST.MF              quiz1-questions.txt  Untitled1.ipynb\n"
          ],
          "name": "stdout"
        }
      ]
    },
    {
      "cell_type": "code",
      "metadata": {
        "id": "7-a1NZ3uzBiQ",
        "colab_type": "code",
        "outputId": "75cc8dbe-09cd-4ba5-e5ba-dd8cf9031fbb",
        "colab": {
          "base_uri": "https://localhost:8080/",
          "height": 1000
        }
      },
      "source": [
        "!python quiz1.py"
      ],
      "execution_count": 0,
      "outputs": [
        {
          "output_type": "stream",
          "text": [
            "(19, 6)\n",
            "Index(['day', 'temperature', 'windspeed', 'event', 'city', 'state'], dtype='object')\n",
            "         day  ...  state\n",
            "0   4/1/2018  ...     ca\n",
            "1   4/2/2018  ...     ca\n",
            "2   4/3/2018  ...     mn\n",
            "3  10/1/2018  ...     ca\n",
            "4  10/2/2018  ...     ca\n",
            "\n",
            "[5 rows x 6 columns]\n",
            "         day  ...  state\n",
            "0   4/1/2018  ...     ca\n",
            "1   4/2/2018  ...     ca\n",
            "2   4/3/2018  ...     mn\n",
            "3  10/1/2018  ...     ca\n",
            "4  10/2/2018  ...     ca\n",
            "\n",
            "[5 rows x 6 columns]\n",
            "           day  ...  state\n",
            "14  10/16/2018  ...     ca\n",
            "15    8/1/2018  ...     ca\n",
            "16    8/2/2018  ...     ca\n",
            "17    8/3/2018  ...     mn\n",
            "18    8/4/2018  ...     mn\n",
            "\n",
            "[5 rows x 6 columns]\n",
            "           day  temperature\n",
            "0     4/1/2018         42.0\n",
            "1     4/2/2018         45.0\n",
            "2     4/3/2018         78.0\n",
            "3    10/1/2018         42.0\n",
            "4    10/2/2018         45.0\n",
            "5    10/3/2018         78.0\n",
            "6    10/4/2018         74.0\n",
            "7    10/5/2018         42.0\n",
            "8    10/6/2018         51.0\n",
            "9   10/11/2018          NaN\n",
            "10  10/12/2018         45.0\n",
            "11  10/13/2018          NaN\n",
            "12  10/14/2018         74.0\n",
            "13  10/15/2018          NaN\n",
            "14  10/16/2018         51.0\n",
            "15    8/1/2018         42.0\n",
            "16    8/2/2018         45.0\n",
            "17    8/3/2018         78.0\n",
            "18    8/4/2018         78.0\n",
            "78.0\n",
            "42.0\n",
            "56.875\n",
            "13.0\n",
            "48.0\n",
            "12.0\n",
            "           day  ...  state\n",
            "7    10/5/2018  ...     or\n",
            "13  10/15/2018  ...     or\n",
            "18    8/4/2018  ...     mn\n",
            "12  10/14/2018  ...     mn\n",
            "2     4/3/2018  ...     mn\n",
            "17    8/3/2018  ...     mn\n",
            "5    10/3/2018  ...     mn\n",
            "6    10/4/2018  ...     mn\n",
            "11  10/13/2018  ...     mn\n",
            "16    8/2/2018  ...     ca\n",
            "15    8/1/2018  ...     ca\n",
            "14  10/16/2018  ...     ca\n",
            "0     4/1/2018  ...     ca\n",
            "10  10/12/2018  ...     ca\n",
            "1     4/2/2018  ...     ca\n",
            "8    10/6/2018  ...     ca\n",
            "4    10/2/2018  ...     ca\n",
            "3    10/1/2018  ...     ca\n",
            "9   10/11/2018  ...     ca\n",
            "\n",
            "[19 rows x 6 columns]\n",
            "           day  ... state\n",
            "3    10/1/2018  ...    ca\n",
            "4    10/2/2018  ...    ca\n",
            "5    10/3/2018  ...    mn\n",
            "6    10/4/2018  ...    mn\n",
            "7    10/5/2018  ...    or\n",
            "8    10/6/2018  ...    ca\n",
            "9   10/11/2018  ...    ca\n",
            "10  10/12/2018  ...    ca\n",
            "11  10/13/2018  ...    mn\n",
            "12  10/14/2018  ...    mn\n",
            "13  10/15/2018  ...    or\n",
            "14  10/16/2018  ...    ca\n",
            "15    8/1/2018  ...    ca\n",
            "16    8/2/2018  ...    ca\n",
            "17    8/3/2018  ...    mn\n",
            "18    8/4/2018  ...    mn\n",
            "\n",
            "[16 rows x 6 columns]\n",
            "second time\n",
            "           day  ... state\n",
            "3    10/1/2018  ...    ca\n",
            "4    10/2/2018  ...    ca\n",
            "5    10/3/2018  ...    mn\n",
            "6    10/4/2018  ...    mn\n",
            "7    10/5/2018  ...    or\n",
            "8    10/6/2018  ...    ca\n",
            "9   10/11/2018  ...    ca\n",
            "10  10/12/2018  ...    ca\n",
            "11  10/13/2018  ...    mn\n",
            "12  10/14/2018  ...    mn\n",
            "13  10/15/2018  ...    or\n",
            "14  10/16/2018  ...    ca\n",
            "15    8/1/2018  ...    ca\n",
            "16    8/2/2018  ...    ca\n",
            "17    8/3/2018  ...    mn\n",
            "18    8/4/2018  ...    mn\n",
            "\n",
            "[16 rows x 6 columns]\n"
          ],
          "name": "stdout"
        }
      ]
    },
    {
      "cell_type": "code",
      "metadata": {
        "id": "9J-F4hjWzLw_",
        "colab_type": "code",
        "outputId": "f2c802c4-39d1-4a61-e4d1-e2543d016822",
        "colab": {
          "base_uri": "https://localhost:8080/",
          "height": 34
        }
      },
      "source": [
        "!pwd"
      ],
      "execution_count": 0,
      "outputs": [
        {
          "output_type": "stream",
          "text": [
            "/content\n"
          ],
          "name": "stdout"
        }
      ]
    },
    {
      "cell_type": "code",
      "metadata": {
        "id": "qdFcjgDoSXo3",
        "colab_type": "code",
        "outputId": "0c398f49-9f22-4f63-cf5d-0f9d3bcbfef8",
        "colab": {
          "base_uri": "https://localhost:8080/",
          "height": 85
        }
      },
      "source": [
        "!git clone https://github.com/anujshah1003/own_data_cnn_implementation_keras.git"
      ],
      "execution_count": 7,
      "outputs": [
        {
          "output_type": "stream",
          "text": [
            "Cloning into 'own_data_cnn_implementation_keras'...\n",
            "remote: Enumerating objects: 51, done.\u001b[K\n",
            "remote: Total 51 (delta 0), reused 0 (delta 0), pack-reused 51\u001b[K\n",
            "Unpacking objects: 100% (51/51), done.\n"
          ],
          "name": "stdout"
        }
      ]
    },
    {
      "cell_type": "code",
      "metadata": {
        "id": "Sjr9wCoEc33u",
        "colab_type": "code",
        "outputId": "b68e176e-beae-4472-c40c-ed10ed37b6ff",
        "colab": {
          "base_uri": "https://localhost:8080/",
          "height": 34
        }
      },
      "source": [
        "!git clone https://github.com/wlin988/1-pandas-project.git"
      ],
      "execution_count": 8,
      "outputs": [
        {
          "output_type": "stream",
          "text": [
            "fatal: destination path '1-pandas-project' already exists and is not an empty directory.\n"
          ],
          "name": "stdout"
        }
      ]
    },
    {
      "cell_type": "code",
      "metadata": {
        "id": "GCHsPTyffuCW",
        "colab_type": "code",
        "colab": {}
      },
      "source": [
        "from google.colab import drive\n",
        "drive.mount('/content/drive')"
      ],
      "execution_count": 0,
      "outputs": []
    },
    {
      "cell_type": "code",
      "metadata": {
        "id": "3olIEDY1dFP9",
        "colab_type": "code",
        "outputId": "eda69d01-055f-4d99-941a-02f77b72346f",
        "colab": {
          "base_uri": "https://localhost:8080/",
          "height": 85
        }
      },
      "source": [
        "!git clone https://github.com/anujshah1003/Real_time_Object_detection_TF.git"
      ],
      "execution_count": 6,
      "outputs": [
        {
          "output_type": "stream",
          "text": [
            "Cloning into 'Real_time_Object_detection_TF'...\n",
            "remote: Enumerating objects: 18, done.\u001b[K\n",
            "remote: Total 18 (delta 0), reused 0 (delta 0), pack-reused 18\u001b[K\n",
            "Unpacking objects: 100% (18/18), done.\n"
          ],
          "name": "stdout"
        }
      ]
    },
    {
      "cell_type": "code",
      "metadata": {
        "id": "AlQTLY54dOD7",
        "colab_type": "code",
        "outputId": "e0fe22a5-f62f-43ad-92db-2e98c95d7ff2",
        "colab": {
          "base_uri": "https://localhost:8080/",
          "height": 85
        }
      },
      "source": [
        "!git clone https://github.com/anujshah1003/convolution-layer-visualization-VGG-16.git"
      ],
      "execution_count": 5,
      "outputs": [
        {
          "output_type": "stream",
          "text": [
            "Cloning into 'convolution-layer-visualization-VGG-16'...\n",
            "remote: Enumerating objects: 41, done.\u001b[K\n",
            "remote: Total 41 (delta 0), reused 0 (delta 0), pack-reused 41\u001b[K\n",
            "Unpacking objects: 100% (41/41), done.\n"
          ],
          "name": "stdout"
        }
      ]
    },
    {
      "cell_type": "code",
      "metadata": {
        "id": "Lz05PhvqdUJr",
        "colab_type": "code",
        "outputId": "7fc0f394-d7b5-4560-e44b-498610fa5eee",
        "colab": {
          "base_uri": "https://localhost:8080/",
          "height": 85
        }
      },
      "source": [
        "!git clone https://github.com/anujshah1003/Transfer-Learning-in-keras---custom-data.git"
      ],
      "execution_count": 4,
      "outputs": [
        {
          "output_type": "stream",
          "text": [
            "Cloning into 'Transfer-Learning-in-keras---custom-data'...\n",
            "remote: Enumerating objects: 55, done.\u001b[K\n",
            "remote: Total 55 (delta 0), reused 0 (delta 0), pack-reused 55\u001b[K\n",
            "Unpacking objects: 100% (55/55), done.\n"
          ],
          "name": "stdout"
        }
      ]
    },
    {
      "cell_type": "code",
      "metadata": {
        "id": "v5GkV3tHdZ7K",
        "colab_type": "code",
        "outputId": "27baef70-e65b-4f8e-adc3-5e4ba6ef3fc8",
        "colab": {
          "base_uri": "https://localhost:8080/",
          "height": 102
        }
      },
      "source": [
        "!git clone https://github.com/anujshah1003/Tensorboard-own-image-data-image-features-embedding-visualization.git"
      ],
      "execution_count": 3,
      "outputs": [
        {
          "output_type": "stream",
          "text": [
            "Cloning into 'Tensorboard-own-image-data-image-features-embedding-visualization'...\n",
            "remote: Enumerating objects: 109, done.\u001b[K\n",
            "remote: Total 109 (delta 0), reused 0 (delta 0), pack-reused 109\u001b[K\n",
            "Receiving objects: 100% (109/109), 42.00 MiB | 44.38 MiB/s, done.\n",
            "Resolving deltas: 100% (53/53), done.\n"
          ],
          "name": "stdout"
        }
      ]
    },
    {
      "cell_type": "code",
      "metadata": {
        "id": "vyl50G4Ldflj",
        "colab_type": "code",
        "outputId": "bde23821-3669-4880-a650-05eff63bb319",
        "colab": {
          "base_uri": "https://localhost:8080/",
          "height": 85
        }
      },
      "source": [
        "!git clone https://github.com/anujshah1003/Transfer-Learning-Face-Recognition-using-VGG-16.git"
      ],
      "execution_count": 2,
      "outputs": [
        {
          "output_type": "stream",
          "text": [
            "Cloning into 'Transfer-Learning-Face-Recognition-using-VGG-16'...\n",
            "remote: Enumerating objects: 37, done.\u001b[K\n",
            "remote: Total 37 (delta 0), reused 0 (delta 0), pack-reused 37\u001b[K\n",
            "Unpacking objects:   2% (1/37)   \rUnpacking objects:   5% (2/37)   \rUnpacking objects:   8% (3/37)   \rUnpacking objects:  10% (4/37)   \rUnpacking objects:  13% (5/37)   \rUnpacking objects:  16% (6/37)   \rUnpacking objects:  18% (7/37)   \rUnpacking objects:  21% (8/37)   \rUnpacking objects:  24% (9/37)   \rUnpacking objects:  27% (10/37)   \rUnpacking objects:  29% (11/37)   \rUnpacking objects:  32% (12/37)   \rUnpacking objects:  35% (13/37)   \rUnpacking objects:  37% (14/37)   \rUnpacking objects:  40% (15/37)   \rUnpacking objects:  43% (16/37)   \rUnpacking objects:  45% (17/37)   \rUnpacking objects:  48% (18/37)   \rUnpacking objects:  51% (19/37)   \rUnpacking objects:  54% (20/37)   \rUnpacking objects:  56% (21/37)   \rUnpacking objects:  59% (22/37)   \rUnpacking objects:  62% (23/37)   \rUnpacking objects:  64% (24/37)   \rUnpacking objects:  67% (25/37)   \rUnpacking objects:  70% (26/37)   \rUnpacking objects:  72% (27/37)   \rUnpacking objects:  75% (28/37)   \rUnpacking objects:  78% (29/37)   \rUnpacking objects:  81% (30/37)   \rUnpacking objects:  83% (31/37)   \rUnpacking objects:  86% (32/37)   \rUnpacking objects:  89% (33/37)   \rUnpacking objects:  91% (34/37)   \rUnpacking objects:  94% (35/37)   \rUnpacking objects:  97% (36/37)   \rUnpacking objects: 100% (37/37)   \rUnpacking objects: 100% (37/37), done.\n"
          ],
          "name": "stdout"
        }
      ]
    },
    {
      "cell_type": "code",
      "metadata": {
        "id": "0DBI1cgddmX_",
        "colab_type": "code",
        "colab": {
          "base_uri": "https://localhost:8080/",
          "height": 119
        },
        "outputId": "f02d2fda-6926-476b-e790-7f7fed72919e"
      },
      "source": [
        "!git clone https://github.com/wlin988/1-pandas-project.git"
      ],
      "execution_count": 1,
      "outputs": [
        {
          "output_type": "stream",
          "text": [
            "Cloning into '1-pandas-project'...\n",
            "remote: Enumerating objects: 10, done.\u001b[K\n",
            "remote: Counting objects: 100% (10/10), done.\u001b[K\n",
            "remote: Compressing objects: 100% (10/10), done.\u001b[K\n",
            "remote: Total 10 (delta 1), reused 0 (delta 0), pack-reused 0\u001b[K\n",
            "Unpacking objects: 100% (10/10), done.\n"
          ],
          "name": "stdout"
        }
      ]
    },
    {
      "cell_type": "code",
      "metadata": {
        "id": "y3ieG4_we203",
        "colab_type": "code",
        "colab": {}
      },
      "source": [
        ""
      ],
      "execution_count": 0,
      "outputs": []
    }
  ]
}