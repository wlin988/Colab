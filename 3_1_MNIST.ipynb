{
  "nbformat": 4,
  "nbformat_minor": 0,
  "metadata": {
    "anaconda-cloud": {},
    "kernelspec": {
      "display_name": "Python [default]",
      "language": "python",
      "name": "python3"
    },
    "language_info": {
      "codemirror_mode": {
        "name": "ipython",
        "version": 3
      },
      "file_extension": ".py",
      "mimetype": "text/x-python",
      "name": "python",
      "nbconvert_exporter": "python",
      "pygments_lexer": "ipython3",
      "version": "3.5.4"
    },
    "colab": {
      "name": "3.1-MNIST.ipynb",
      "provenance": [],
      "toc_visible": true,
      "include_colab_link": true
    }
  },
  "cells": [
    {
      "cell_type": "markdown",
      "metadata": {
        "id": "view-in-github",
        "colab_type": "text"
      },
      "source": [
        "<a href=\"https://colab.research.google.com/github/wlin988/Colab/blob/master/3_1_MNIST.ipynb\" target=\"_parent\"><img src=\"https://colab.research.google.com/assets/colab-badge.svg\" alt=\"Open In Colab\"/></a>"
      ]
    },
    {
      "cell_type": "code",
      "metadata": {
        "id": "Gv5GzLaiITr1",
        "colab_type": "code",
        "colab": {}
      },
      "source": [
        "import numpy as np"
      ],
      "execution_count": 0,
      "outputs": []
    },
    {
      "cell_type": "code",
      "metadata": {
        "id": "CAElQKVxITr9",
        "colab_type": "code",
        "colab": {
          "base_uri": "https://localhost:8080/",
          "height": 236
        },
        "outputId": "7364117b-b7b1-4d47-aaf1-4d8d42c24fe9"
      },
      "source": [
        "from keras.layers import Conv2D, Activation, MaxPool2D, Flatten, Dense\n",
        "from keras.models import Sequential\n",
        "\n",
        "# Images fed into this model are 512 x 512 pixels with 3 channels\n",
        "img_shape = (28,28,1)\n",
        "\n",
        "# Set up model\n",
        "model = Sequential()\n",
        "\n",
        "# Add convolutional layer with 3, 3 by 3 filters and a stride size of 1\n",
        "# Set padding so that input size equals output size\n",
        "model.add(Conv2D(6,3,input_shape=img_shape))\n",
        "# Add relu activation to the layer \n",
        "model.add(Activation('relu'))\n",
        "\n",
        "model.add(MaxPool2D(2))\n",
        "\n",
        "model.add(Conv2D(12,3))\n",
        "\n",
        "model.add(Activation('relu'))\n",
        "\n",
        "model.add(MaxPool2D(2))\n",
        "\n",
        "model.add(Flatten())\n",
        "\n",
        "model.add(Dense(10))\n",
        "\n",
        "model.add(Activation('softmax'))"
      ],
      "execution_count": 2,
      "outputs": [
        {
          "output_type": "stream",
          "text": [
            "Using TensorFlow backend.\n"
          ],
          "name": "stderr"
        },
        {
          "output_type": "display_data",
          "data": {
            "text/html": [
              "<p style=\"color: red;\">\n",
              "The default version of TensorFlow in Colab will soon switch to TensorFlow 2.x.<br>\n",
              "We recommend you <a href=\"https://www.tensorflow.org/guide/migrate\" target=\"_blank\">upgrade</a> now \n",
              "or ensure your notebook will continue to use TensorFlow 1.x via the <code>%tensorflow_version 1.x</code> magic:\n",
              "<a href=\"https://colab.research.google.com/notebooks/tensorflow_version.ipynb\" target=\"_blank\">more info</a>.</p>\n"
            ],
            "text/plain": [
              "<IPython.core.display.HTML object>"
            ]
          },
          "metadata": {
            "tags": []
          }
        },
        {
          "output_type": "stream",
          "text": [
            "WARNING:tensorflow:From /usr/local/lib/python3.6/dist-packages/keras/backend/tensorflow_backend.py:66: The name tf.get_default_graph is deprecated. Please use tf.compat.v1.get_default_graph instead.\n",
            "\n",
            "WARNING:tensorflow:From /usr/local/lib/python3.6/dist-packages/keras/backend/tensorflow_backend.py:541: The name tf.placeholder is deprecated. Please use tf.compat.v1.placeholder instead.\n",
            "\n",
            "WARNING:tensorflow:From /usr/local/lib/python3.6/dist-packages/keras/backend/tensorflow_backend.py:4432: The name tf.random_uniform is deprecated. Please use tf.random.uniform instead.\n",
            "\n",
            "WARNING:tensorflow:From /usr/local/lib/python3.6/dist-packages/keras/backend/tensorflow_backend.py:4267: The name tf.nn.max_pool is deprecated. Please use tf.nn.max_pool2d instead.\n",
            "\n"
          ],
          "name": "stdout"
        }
      ]
    },
    {
      "cell_type": "code",
      "metadata": {
        "id": "q6-kLSw6ITsC",
        "colab_type": "code",
        "colab": {
          "base_uri": "https://localhost:8080/",
          "height": 459
        },
        "outputId": "2ad63ba8-b2c5-4c7d-fcc7-20c1d8949516"
      },
      "source": [
        "model.summary()"
      ],
      "execution_count": 3,
      "outputs": [
        {
          "output_type": "stream",
          "text": [
            "Model: \"sequential_1\"\n",
            "_________________________________________________________________\n",
            "Layer (type)                 Output Shape              Param #   \n",
            "=================================================================\n",
            "conv2d_1 (Conv2D)            (None, 26, 26, 6)         60        \n",
            "_________________________________________________________________\n",
            "activation_1 (Activation)    (None, 26, 26, 6)         0         \n",
            "_________________________________________________________________\n",
            "max_pooling2d_1 (MaxPooling2 (None, 13, 13, 6)         0         \n",
            "_________________________________________________________________\n",
            "conv2d_2 (Conv2D)            (None, 11, 11, 12)        660       \n",
            "_________________________________________________________________\n",
            "activation_2 (Activation)    (None, 11, 11, 12)        0         \n",
            "_________________________________________________________________\n",
            "max_pooling2d_2 (MaxPooling2 (None, 5, 5, 12)          0         \n",
            "_________________________________________________________________\n",
            "flatten_1 (Flatten)          (None, 300)               0         \n",
            "_________________________________________________________________\n",
            "dense_1 (Dense)              (None, 10)                3010      \n",
            "_________________________________________________________________\n",
            "activation_3 (Activation)    (None, 10)                0         \n",
            "=================================================================\n",
            "Total params: 3,730\n",
            "Trainable params: 3,730\n",
            "Non-trainable params: 0\n",
            "_________________________________________________________________\n"
          ],
          "name": "stdout"
        }
      ]
    },
    {
      "cell_type": "code",
      "metadata": {
        "id": "0JXn4ShaITsJ",
        "colab_type": "code",
        "colab": {
          "base_uri": "https://localhost:8080/",
          "height": 105
        },
        "outputId": "510f303b-63d5-4bb1-afd4-53840eb06f2d"
      },
      "source": [
        "model.compile(loss='sparse_categorical_crossentropy', optimizer = 'adam', metrics=['acc'])"
      ],
      "execution_count": 4,
      "outputs": [
        {
          "output_type": "stream",
          "text": [
            "WARNING:tensorflow:From /usr/local/lib/python3.6/dist-packages/keras/optimizers.py:793: The name tf.train.Optimizer is deprecated. Please use tf.compat.v1.train.Optimizer instead.\n",
            "\n",
            "WARNING:tensorflow:From /usr/local/lib/python3.6/dist-packages/keras/backend/tensorflow_backend.py:3622: The name tf.log is deprecated. Please use tf.math.log instead.\n",
            "\n"
          ],
          "name": "stdout"
        }
      ]
    },
    {
      "cell_type": "code",
      "metadata": {
        "id": "9g4weCT7ITsN",
        "colab_type": "code",
        "colab": {}
      },
      "source": [
        "from keras.datasets import mnist"
      ],
      "execution_count": 0,
      "outputs": []
    },
    {
      "cell_type": "code",
      "metadata": {
        "id": "-t5GpB_fITsQ",
        "colab_type": "code",
        "colab": {
          "base_uri": "https://localhost:8080/",
          "height": 51
        },
        "outputId": "2b166ac5-232c-4b29-e143-c1ef718fd568"
      },
      "source": [
        "(x_train, y_train), (x_test, y_test) = mnist.load_data()"
      ],
      "execution_count": 6,
      "outputs": [
        {
          "output_type": "stream",
          "text": [
            "Downloading data from https://s3.amazonaws.com/img-datasets/mnist.npz\n",
            "11493376/11490434 [==============================] - 1s 0us/step\n"
          ],
          "name": "stdout"
        }
      ]
    },
    {
      "cell_type": "code",
      "metadata": {
        "id": "7cH9Niv9ITsT",
        "colab_type": "code",
        "colab": {
          "base_uri": "https://localhost:8080/",
          "height": 34
        },
        "outputId": "cf700618-f47d-4bd6-f0f7-f55a7b00a4bf"
      },
      "source": [
        "x_train.shape"
      ],
      "execution_count": 7,
      "outputs": [
        {
          "output_type": "execute_result",
          "data": {
            "text/plain": [
              "(60000, 28, 28)"
            ]
          },
          "metadata": {
            "tags": []
          },
          "execution_count": 7
        }
      ]
    },
    {
      "cell_type": "code",
      "metadata": {
        "id": "bqvCSNHHITsW",
        "colab_type": "code",
        "colab": {}
      },
      "source": [
        "x_train = np.expand_dims(x_train,-1)"
      ],
      "execution_count": 0,
      "outputs": []
    },
    {
      "cell_type": "code",
      "metadata": {
        "id": "U8MgtgcdITsZ",
        "colab_type": "code",
        "colab": {}
      },
      "source": [
        "x_test = np.expand_dims(x_test,-1)"
      ],
      "execution_count": 0,
      "outputs": []
    },
    {
      "cell_type": "code",
      "metadata": {
        "id": "co4FD3r9ITsc",
        "colab_type": "code",
        "colab": {
          "base_uri": "https://localhost:8080/",
          "height": 34
        },
        "outputId": "d04f5d0d-1e3c-45f5-d404-1ea3e26dc1f5"
      },
      "source": [
        "x_train.shape"
      ],
      "execution_count": 10,
      "outputs": [
        {
          "output_type": "execute_result",
          "data": {
            "text/plain": [
              "(60000, 28, 28, 1)"
            ]
          },
          "metadata": {
            "tags": []
          },
          "execution_count": 10
        }
      ]
    },
    {
      "cell_type": "code",
      "metadata": {
        "id": "F0AcRAV6ITsg",
        "colab_type": "code",
        "colab": {
          "base_uri": "https://localhost:8080/",
          "height": 34
        },
        "outputId": "580093f4-7855-4e8a-bc89-45af232b3fcf"
      },
      "source": [
        "y_train.shape"
      ],
      "execution_count": 11,
      "outputs": [
        {
          "output_type": "execute_result",
          "data": {
            "text/plain": [
              "(60000,)"
            ]
          },
          "metadata": {
            "tags": []
          },
          "execution_count": 11
        }
      ]
    },
    {
      "cell_type": "code",
      "metadata": {
        "id": "W5bNnwsHITsj",
        "colab_type": "code",
        "colab": {
          "base_uri": "https://localhost:8080/",
          "height": 717
        },
        "outputId": "bd7bec98-d420-45f0-a5c5-ae9b6f842260"
      },
      "source": [
        "history = model.fit(x_train,\n",
        "                    y_train,\n",
        "                    batch_size=32,\n",
        "                    epochs=10,\n",
        "                    validation_data=(x_test,y_test))"
      ],
      "execution_count": 12,
      "outputs": [
        {
          "output_type": "stream",
          "text": [
            "WARNING:tensorflow:From /usr/local/lib/python3.6/dist-packages/tensorflow_core/python/ops/math_grad.py:1424: where (from tensorflow.python.ops.array_ops) is deprecated and will be removed in a future version.\n",
            "Instructions for updating:\n",
            "Use tf.where in 2.0, which has the same broadcast rule as np.where\n",
            "WARNING:tensorflow:From /usr/local/lib/python3.6/dist-packages/keras/backend/tensorflow_backend.py:1033: The name tf.assign_add is deprecated. Please use tf.compat.v1.assign_add instead.\n",
            "\n",
            "WARNING:tensorflow:From /usr/local/lib/python3.6/dist-packages/keras/backend/tensorflow_backend.py:1020: The name tf.assign is deprecated. Please use tf.compat.v1.assign instead.\n",
            "\n",
            "WARNING:tensorflow:From /usr/local/lib/python3.6/dist-packages/keras/backend/tensorflow_backend.py:3005: The name tf.Session is deprecated. Please use tf.compat.v1.Session instead.\n",
            "\n",
            "Train on 60000 samples, validate on 10000 samples\n",
            "Epoch 1/10\n",
            "WARNING:tensorflow:From /usr/local/lib/python3.6/dist-packages/keras/backend/tensorflow_backend.py:190: The name tf.get_default_session is deprecated. Please use tf.compat.v1.get_default_session instead.\n",
            "\n",
            "WARNING:tensorflow:From /usr/local/lib/python3.6/dist-packages/keras/backend/tensorflow_backend.py:197: The name tf.ConfigProto is deprecated. Please use tf.compat.v1.ConfigProto instead.\n",
            "\n",
            "WARNING:tensorflow:From /usr/local/lib/python3.6/dist-packages/keras/backend/tensorflow_backend.py:207: The name tf.global_variables is deprecated. Please use tf.compat.v1.global_variables instead.\n",
            "\n",
            "WARNING:tensorflow:From /usr/local/lib/python3.6/dist-packages/keras/backend/tensorflow_backend.py:216: The name tf.is_variable_initialized is deprecated. Please use tf.compat.v1.is_variable_initialized instead.\n",
            "\n",
            "WARNING:tensorflow:From /usr/local/lib/python3.6/dist-packages/keras/backend/tensorflow_backend.py:223: The name tf.variables_initializer is deprecated. Please use tf.compat.v1.variables_initializer instead.\n",
            "\n",
            "60000/60000 [==============================] - 27s 454us/step - loss: 8.2947 - acc: 0.4711 - val_loss: 4.1263 - val_acc: 0.7138\n",
            "Epoch 2/10\n",
            "60000/60000 [==============================] - 26s 439us/step - loss: 0.9600 - acc: 0.9058 - val_loss: 0.1198 - val_acc: 0.9663\n",
            "Epoch 3/10\n",
            "60000/60000 [==============================] - 26s 435us/step - loss: 0.1111 - acc: 0.9681 - val_loss: 0.0920 - val_acc: 0.9717\n",
            "Epoch 4/10\n",
            "60000/60000 [==============================] - 26s 439us/step - loss: 0.0808 - acc: 0.9760 - val_loss: 0.0820 - val_acc: 0.9748\n",
            "Epoch 5/10\n",
            "60000/60000 [==============================] - 26s 438us/step - loss: 0.0676 - acc: 0.9795 - val_loss: 0.0584 - val_acc: 0.9823\n",
            "Epoch 6/10\n",
            "60000/60000 [==============================] - 26s 438us/step - loss: 0.0603 - acc: 0.9812 - val_loss: 0.0676 - val_acc: 0.9784\n",
            "Epoch 7/10\n",
            "60000/60000 [==============================] - 27s 443us/step - loss: 0.0545 - acc: 0.9831 - val_loss: 0.0638 - val_acc: 0.9812\n",
            "Epoch 8/10\n",
            "60000/60000 [==============================] - 27s 444us/step - loss: 0.0496 - acc: 0.9844 - val_loss: 0.0546 - val_acc: 0.9829\n",
            "Epoch 9/10\n",
            "60000/60000 [==============================] - 26s 441us/step - loss: 0.0479 - acc: 0.9855 - val_loss: 0.0612 - val_acc: 0.9821\n",
            "Epoch 10/10\n",
            "60000/60000 [==============================] - 26s 437us/step - loss: 0.0447 - acc: 0.9861 - val_loss: 0.0676 - val_acc: 0.9816\n"
          ],
          "name": "stdout"
        }
      ]
    },
    {
      "cell_type": "code",
      "metadata": {
        "id": "unW5XPQVITsm",
        "colab_type": "code",
        "colab": {
          "base_uri": "https://localhost:8080/",
          "height": 374
        },
        "outputId": "2dd5f31a-df54-4e20-eaab-61b0256ff7c8"
      },
      "source": [
        "import matplotlib.pyplot as plt\n",
        "\n",
        "fig, ax = plt.subplots(figsize=(10,6))\n",
        "gen = ax.plot(history.history['val_acc'], label='Validation Accuracy')\n",
        "fr = ax.plot(history.history['acc'],dashes=[5, 2], label='Training Accuracy')\n",
        "\n",
        "legend = ax.legend(loc='lower center', shadow=True)\n",
        "\n",
        "plt.show()"
      ],
      "execution_count": 13,
      "outputs": [
        {
          "output_type": "display_data",
          "data": {
            "image/png": "[encoded data removed]",
            "text/plain": [
              "<Figure size 720x432 with 1 Axes>"
            ]
          },
          "metadata": {
            "tags": []
          }
        }
      ]
    },
    {
      "cell_type": "code",
      "metadata": {
        "id": "8wM6_AvuITsp",
        "colab_type": "code",
        "colab": {
          "base_uri": "https://localhost:8080/",
          "height": 697
        },
        "outputId": "34e69778-c757-4ae5-8c04-08f4dc5bfb7c"
      },
      "source": [
        "history.history"
      ],
      "execution_count": 14,
      "outputs": [
        {
          "output_type": "execute_result",
          "data": {
            "text/plain": [
              "{'acc': [0.4710666666666667,\n",
              "  0.9058166666666667,\n",
              "  0.9681,\n",
              "  0.976,\n",
              "  0.9794666666666667,\n",
              "  0.9811833333333333,\n",
              "  0.9831,\n",
              "  0.9844333333333334,\n",
              "  0.9854666666666667,\n",
              "  0.9860666666666666],\n",
              " 'loss': [8.294674343363445,\n",
              "  0.9600235194183886,\n",
              "  0.11110600304470088,\n",
              "  0.08077786406242521,\n",
              "  0.06763318543421726,\n",
              "  0.0602509678635591,\n",
              "  0.05450372783252969,\n",
              "  0.04958709226550224,\n",
              "  0.04789288487005203,\n",
              "  0.04469361501426611],\n",
              " 'val_acc': [0.7138,\n",
              "  0.9663,\n",
              "  0.9717,\n",
              "  0.9748,\n",
              "  0.9823,\n",
              "  0.9784,\n",
              "  0.9812,\n",
              "  0.9829,\n",
              "  0.9821,\n",
              "  0.9816],\n",
              " 'val_loss': [4.126325805664062,\n",
              "  0.1198232180896448,\n",
              "  0.09204318344488274,\n",
              "  0.08196845427774824,\n",
              "  0.05842712037192832,\n",
              "  0.06763183210059069,\n",
              "  0.06383696850189008,\n",
              "  0.05463741913127596,\n",
              "  0.06124635656018509,\n",
              "  0.06760457505819213]}"
            ]
          },
          "metadata": {
            "tags": []
          },
          "execution_count": 14
        }
      ]
    },
    {
      "cell_type": "markdown",
      "metadata": {
        "id": "ImGV08N3ITss",
        "colab_type": "text"
      },
      "source": [
        "## Regularization"
      ]
    },
    {
      "cell_type": "code",
      "metadata": {
        "id": "Ee6s0-MmITst",
        "colab_type": "code",
        "colab": {}
      },
      "source": [
        "from keras.regularizers import l2\n",
        "\n",
        "# Set up model\n",
        "model = Sequential()\n",
        "\n",
        "# Add convolutional layer with 3, 3 by 3 filters and a stride size of 1\n",
        "# Set padding so that input size equals output size\n",
        "model.add(Conv2D(6,3,input_shape=img_shape, kernel_regularizer=l2(0.01)))\n",
        "# Add relu activation to the layer \n",
        "model.add(Activation('relu'))\n",
        "\n",
        "model.add(MaxPool2D(2))\n",
        "\n",
        "model.add(Conv2D(12,3,activity_regularizer=l2(0.01)))\n",
        "\n",
        "model.add(Activation('relu'))\n",
        "\n",
        "model.add(MaxPool2D(2))\n",
        "\n",
        "model.add(Flatten())\n",
        "\n",
        "model.add(Dense(10,bias_regularizer=l2(0.01)))\n",
        "\n",
        "model.add(Activation('softmax'))"
      ],
      "execution_count": 0,
      "outputs": []
    },
    {
      "cell_type": "code",
      "metadata": {
        "id": "6qgrBPRtITsx",
        "colab_type": "code",
        "colab": {}
      },
      "source": [
        "model.compile(loss='sparse_categorical_crossentropy', optimizer = 'adam', metrics=['acc'])"
      ],
      "execution_count": 0,
      "outputs": []
    },
    {
      "cell_type": "code",
      "metadata": {
        "id": "c6UNDdzhITs0",
        "colab_type": "code",
        "colab": {
          "base_uri": "https://localhost:8080/",
          "height": 374
        },
        "outputId": "34753118-7fdc-458a-ca0b-097cc2df5b5d"
      },
      "source": [
        "history = model.fit(x_train,\n",
        "                    y_train,\n",
        "                    batch_size=32,\n",
        "                    epochs=10,\n",
        "                    validation_data=(x_test,y_test))"
      ],
      "execution_count": 17,
      "outputs": [
        {
          "output_type": "stream",
          "text": [
            "Train on 60000 samples, validate on 10000 samples\n",
            "Epoch 1/10\n",
            "60000/60000 [==============================] - 27s 455us/step - loss: 9162.1861 - acc: 0.6969 - val_loss: 59.0051 - val_acc: 0.7768\n",
            "Epoch 2/10\n",
            "60000/60000 [==============================] - 27s 444us/step - loss: 24.2343 - acc: 0.7448 - val_loss: 8.2993 - val_acc: 0.7335\n",
            "Epoch 3/10\n",
            "60000/60000 [==============================] - 27s 451us/step - loss: 4.8209 - acc: 0.7133 - val_loss: 2.7819 - val_acc: 0.7160\n",
            "Epoch 4/10\n",
            "60000/60000 [==============================] - 27s 449us/step - loss: 2.2825 - acc: 0.7334 - val_loss: 1.8108 - val_acc: 0.7734\n",
            "Epoch 5/10\n",
            "60000/60000 [==============================] - 27s 449us/step - loss: 1.7443 - acc: 0.7924 - val_loss: 1.3590 - val_acc: 0.8291\n",
            "Epoch 6/10\n",
            "60000/60000 [==============================] - 27s 445us/step - loss: 1.5238 - acc: 0.8299 - val_loss: 1.3005 - val_acc: 0.8582\n",
            "Epoch 7/10\n",
            "60000/60000 [==============================] - 27s 446us/step - loss: 1.3760 - acc: 0.8465 - val_loss: 1.1240 - val_acc: 0.8686\n",
            "Epoch 8/10\n",
            "60000/60000 [==============================] - 27s 455us/step - loss: 1.3067 - acc: 0.8546 - val_loss: 1.0075 - val_acc: 0.8798\n",
            "Epoch 9/10\n",
            "60000/60000 [==============================] - 27s 447us/step - loss: 1.1871 - acc: 0.8639 - val_loss: 1.0518 - val_acc: 0.8775\n",
            "Epoch 10/10\n",
            "60000/60000 [==============================] - 27s 450us/step - loss: 1.1006 - acc: 0.8693 - val_loss: 1.1499 - val_acc: 0.8710\n"
          ],
          "name": "stdout"
        }
      ]
    },
    {
      "cell_type": "markdown",
      "metadata": {
        "id": "_L4QaXNBITs3",
        "colab_type": "text"
      },
      "source": [
        "# Dropout"
      ]
    },
    {
      "cell_type": "code",
      "metadata": {
        "id": "uWnWzhYxITs4",
        "colab_type": "code",
        "colab": {
          "base_uri": "https://localhost:8080/",
          "height": 122
        },
        "outputId": "9196a793-c946-4ec4-8029-7b96760d8a56"
      },
      "source": [
        "from keras.layers import Dropout\n",
        "\n",
        "\n",
        "model = Sequential()\n",
        "\n",
        "\n",
        "model.add(Conv2D(6,3,input_shape=img_shape))\n",
        "model.add(Activation('relu'))\n",
        "model.add(MaxPool2D(2))\n",
        "\n",
        "model.add(Dropout(0.2))\n",
        "\n",
        "model.add(Conv2D(12,3))\n",
        "model.add(Activation('relu'))\n",
        "model.add(MaxPool2D(2))\n",
        "\n",
        "model.add(Dropout(0.2))\n",
        "\n",
        "model.add(Flatten())\n",
        "\n",
        "model.add(Dense(10,bias_regularizer=l2(0.01)))\n",
        "\n",
        "model.add(Activation('softmax'))"
      ],
      "execution_count": 18,
      "outputs": [
        {
          "output_type": "stream",
          "text": [
            "WARNING:tensorflow:From /usr/local/lib/python3.6/dist-packages/keras/backend/tensorflow_backend.py:148: The name tf.placeholder_with_default is deprecated. Please use tf.compat.v1.placeholder_with_default instead.\n",
            "\n",
            "WARNING:tensorflow:From /usr/local/lib/python3.6/dist-packages/keras/backend/tensorflow_backend.py:3733: calling dropout (from tensorflow.python.ops.nn_ops) with keep_prob is deprecated and will be removed in a future version.\n",
            "Instructions for updating:\n",
            "Please use `rate` instead of `keep_prob`. Rate should be set to `rate = 1 - keep_prob`.\n"
          ],
          "name": "stdout"
        }
      ]
    },
    {
      "cell_type": "code",
      "metadata": {
        "id": "4VQUhCkjITs7",
        "colab_type": "code",
        "colab": {}
      },
      "source": [
        "model.compile(loss='sparse_categorical_crossentropy', optimizer = 'adam', metrics=['acc'])"
      ],
      "execution_count": 0,
      "outputs": []
    },
    {
      "cell_type": "code",
      "metadata": {
        "id": "-y8g12mmITs-",
        "colab_type": "code",
        "colab": {
          "base_uri": "https://localhost:8080/",
          "height": 374
        },
        "outputId": "25dfbd3d-314a-4288-9fa8-696dea8464b5"
      },
      "source": [
        "history = model.fit(x_train,\n",
        "                    y_train,\n",
        "                    batch_size=32,\n",
        "                    epochs=10,\n",
        "                    validation_data=(x_test,y_test))"
      ],
      "execution_count": 20,
      "outputs": [
        {
          "output_type": "stream",
          "text": [
            "Train on 60000 samples, validate on 10000 samples\n",
            "Epoch 1/10\n",
            "60000/60000 [==============================] - 29s 483us/step - loss: 7.7556 - acc: 0.5046 - val_loss: 6.4224 - val_acc: 0.5934\n",
            "Epoch 2/10\n",
            "60000/60000 [==============================] - 29s 477us/step - loss: 4.3750 - acc: 0.6788 - val_loss: 0.1785 - val_acc: 0.9479\n",
            "Epoch 3/10\n",
            "60000/60000 [==============================] - 28s 471us/step - loss: 0.2477 - acc: 0.9242 - val_loss: 0.1041 - val_acc: 0.9701\n",
            "Epoch 4/10\n",
            "60000/60000 [==============================] - 28s 468us/step - loss: 0.1732 - acc: 0.9466 - val_loss: 0.0719 - val_acc: 0.9766\n",
            "Epoch 5/10\n",
            "60000/60000 [==============================] - 28s 463us/step - loss: 0.1475 - acc: 0.9550 - val_loss: 0.0713 - val_acc: 0.9808\n",
            "Epoch 6/10\n",
            "60000/60000 [==============================] - 28s 459us/step - loss: 0.1262 - acc: 0.9602 - val_loss: 0.0642 - val_acc: 0.9787\n",
            "Epoch 7/10\n",
            "60000/60000 [==============================] - 28s 466us/step - loss: 0.1209 - acc: 0.9613 - val_loss: 0.0574 - val_acc: 0.9827\n",
            "Epoch 8/10\n",
            "60000/60000 [==============================] - 28s 469us/step - loss: 0.1141 - acc: 0.9644 - val_loss: 0.0572 - val_acc: 0.9822\n",
            "Epoch 9/10\n",
            "60000/60000 [==============================] - 28s 475us/step - loss: 0.1110 - acc: 0.9654 - val_loss: 0.0507 - val_acc: 0.9841\n",
            "Epoch 10/10\n",
            "60000/60000 [==============================] - 28s 467us/step - loss: 0.1072 - acc: 0.9664 - val_loss: 0.0526 - val_acc: 0.9837\n"
          ],
          "name": "stdout"
        }
      ]
    },
    {
      "cell_type": "code",
      "metadata": {
        "id": "NtOwYHo1ITtD",
        "colab_type": "code",
        "colab": {
          "base_uri": "https://localhost:8080/",
          "height": 71
        },
        "outputId": "77f6d944-f3dd-4349-abd2-5dca4d2412ba"
      },
      "source": [
        "from keras.layers import BatchNormalization\n",
        "\n",
        "\n",
        "model = Sequential()\n",
        "\n",
        "\n",
        "model.add(Conv2D(6,3,input_shape=img_shape))\n",
        "model.add(Activation('relu'))\n",
        "model.add(MaxPool2D(2))\n",
        "\n",
        "model.add(BatchNormalization())\n",
        "\n",
        "model.add(Conv2D(12,3))\n",
        "model.add(Activation('relu'))\n",
        "model.add(MaxPool2D(2))\n",
        "\n",
        "model.add(BatchNormalization())\n",
        "\n",
        "model.add(Flatten())\n",
        "\n",
        "model.add(Dense(10,bias_regularizer=l2(0.01)))\n",
        "\n",
        "model.add(Activation('softmax'))"
      ],
      "execution_count": 21,
      "outputs": [
        {
          "output_type": "stream",
          "text": [
            "WARNING:tensorflow:From /usr/local/lib/python3.6/dist-packages/keras/backend/tensorflow_backend.py:2041: The name tf.nn.fused_batch_norm is deprecated. Please use tf.compat.v1.nn.fused_batch_norm instead.\n",
            "\n"
          ],
          "name": "stdout"
        }
      ]
    },
    {
      "cell_type": "code",
      "metadata": {
        "id": "7z40_lrJITtG",
        "colab_type": "code",
        "colab": {}
      },
      "source": [
        "model.compile(loss='sparse_categorical_crossentropy', optimizer = 'adam', metrics=['acc'])"
      ],
      "execution_count": 0,
      "outputs": []
    },
    {
      "cell_type": "code",
      "metadata": {
        "id": "v8IABIP1ITtJ",
        "colab_type": "code",
        "colab": {
          "base_uri": "https://localhost:8080/",
          "height": 374
        },
        "outputId": "4fdc39b6-228a-412d-8633-6930ca07655e"
      },
      "source": [
        "history = model.fit(x_train,\n",
        "                    y_train,\n",
        "                    batch_size=32,\n",
        "                    epochs=10,\n",
        "                    validation_data=(x_test,y_test))"
      ],
      "execution_count": 23,
      "outputs": [
        {
          "output_type": "stream",
          "text": [
            "Train on 60000 samples, validate on 10000 samples\n",
            "Epoch 1/10\n",
            "60000/60000 [==============================] - 33s 545us/step - loss: 0.2120 - acc: 0.9367 - val_loss: 0.0726 - val_acc: 0.9772\n",
            "Epoch 2/10\n",
            "60000/60000 [==============================] - 32s 527us/step - loss: 0.0733 - acc: 0.9773 - val_loss: 0.0530 - val_acc: 0.9847\n",
            "Epoch 3/10\n",
            "60000/60000 [==============================] - 32s 529us/step - loss: 0.0576 - acc: 0.9820 - val_loss: 0.0525 - val_acc: 0.9847\n",
            "Epoch 4/10\n",
            "60000/60000 [==============================] - 32s 531us/step - loss: 0.0492 - acc: 0.9852 - val_loss: 0.0460 - val_acc: 0.9862\n",
            "Epoch 5/10\n",
            "60000/60000 [==============================] - 32s 538us/step - loss: 0.0442 - acc: 0.9858 - val_loss: 0.0467 - val_acc: 0.9859\n",
            "Epoch 6/10\n",
            "60000/60000 [==============================] - 32s 539us/step - loss: 0.0400 - acc: 0.9876 - val_loss: 0.0453 - val_acc: 0.9861\n",
            "Epoch 7/10\n",
            "60000/60000 [==============================] - 32s 536us/step - loss: 0.0373 - acc: 0.9880 - val_loss: 0.0461 - val_acc: 0.9854\n",
            "Epoch 8/10\n",
            "60000/60000 [==============================] - 32s 532us/step - loss: 0.0349 - acc: 0.9892 - val_loss: 0.0431 - val_acc: 0.9868\n",
            "Epoch 9/10\n",
            "60000/60000 [==============================] - 32s 542us/step - loss: 0.0321 - acc: 0.9901 - val_loss: 0.0475 - val_acc: 0.9852\n",
            "Epoch 10/10\n",
            "60000/60000 [==============================] - 32s 531us/step - loss: 0.0302 - acc: 0.9904 - val_loss: 0.0455 - val_acc: 0.9860\n"
          ],
          "name": "stdout"
        }
      ]
    },
    {
      "cell_type": "code",
      "metadata": {
        "id": "ccsNSUg8ITtM",
        "colab_type": "code",
        "colab": {
          "base_uri": "https://localhost:8080/",
          "height": 374
        },
        "outputId": "e359c8a0-0797-48c6-cc26-f02ddf7b3eaa"
      },
      "source": [
        "import matplotlib.pyplot as plt\n",
        "\n",
        "fig, ax = plt.subplots(figsize=(10,6))\n",
        "gen = ax.plot(history.history['val_acc'], label='Validation Accuracy')\n",
        "fr = ax.plot(history.history['acc'],dashes=[5, 2], label='Training Accuracy')\n",
        "\n",
        "legend = ax.legend(loc='lower center', shadow=True)\n",
        "\n",
        "plt.show()"
      ],
      "execution_count": 24,
      "outputs": [
        {
          "output_type": "display_data",
          "data": {
            "image/png": "[encoded data removed]",
            "text/plain": [
              "<Figure size 720x432 with 1 Axes>"
            ]
          },
          "metadata": {
            "tags": []
          }
        }
      ]
    },
    {
      "cell_type": "code",
      "metadata": {
        "id": "tYjGkt0TITtP",
        "colab_type": "code",
        "colab": {}
      },
      "source": [
        ""
      ],
      "execution_count": 0,
      "outputs": []
    }
  ]
}