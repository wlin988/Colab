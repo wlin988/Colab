{
  "nbformat": 4,
  "nbformat_minor": 0,
  "metadata": {
    "colab": {
      "name": "ImageCaptions.ipynb",
      "provenance": [],
      "collapsed_sections": [],
      "include_colab_link": true
    },
    "kernelspec": {
      "name": "python3",
      "display_name": "Python 3"
    }
  },
  "cells": [
    {
      "cell_type": "markdown",
      "metadata": {
        "id": "view-in-github",
        "colab_type": "text"
      },
      "source": [
        "<a href=\"https://colab.research.google.com/github/wlin988/Colab/blob/master/ImageCaptions.ipynb\" target=\"_parent\"><img src=\"https://colab.research.google.com/assets/colab-badge.svg\" alt=\"Open In Colab\"/></a>"
      ]
    },
    {
      "cell_type": "code",
      "metadata": {
        "id": "9B4V8jC0j5pq",
        "colab_type": "code",
        "outputId": "b52030ab-2c45-470f-928f-737cf058354b",
        "colab": {
          "base_uri": "https://localhost:8080/",
          "height": 102
        }
      },
      "source": [
        "!git clone https://github.com/DeepRNN/image_captioning.git\n"
      ],
      "execution_count": 1,
      "outputs": [
        {
          "output_type": "stream",
          "text": [
            "Cloning into 'image_captioning'...\n",
            "remote: Enumerating objects: 343, done.\u001b[K\n",
            "remote: Total 343 (delta 0), reused 0 (delta 0), pack-reused 343\u001b[K\n",
            "Receiving objects: 100% (343/343), 75.43 MiB | 38.73 MiB/s, done.\n",
            "Resolving deltas: 100% (150/150), done.\n"
          ],
          "name": "stdout"
        }
      ]
    },
    {
      "cell_type": "code",
      "metadata": {
        "id": "AYDeI3g3j71U",
        "colab_type": "code",
        "outputId": "5c7d323e-d001-48e4-9f32-8eaf3c3d4120",
        "colab": {
          "base_uri": "https://localhost:8080/",
          "height": 136
        }
      },
      "source": [
        "!git clone https://github.com/Div99/Image-Captioning.git"
      ],
      "execution_count": 2,
      "outputs": [
        {
          "output_type": "stream",
          "text": [
            "Cloning into 'Image-Captioning'...\n",
            "remote: Enumerating objects: 13, done.\u001b[K\n",
            "remote: Counting objects:   7% (1/13)\u001b[K\rremote: Counting objects:  15% (2/13)\u001b[K\rremote: Counting objects:  23% (3/13)\u001b[K\rremote: Counting objects:  30% (4/13)\u001b[K\rremote: Counting objects:  38% (5/13)\u001b[K\rremote: Counting objects:  46% (6/13)\u001b[K\rremote: Counting objects:  53% (7/13)\u001b[K\rremote: Counting objects:  61% (8/13)\u001b[K\rremote: Counting objects:  69% (9/13)\u001b[K\rremote: Counting objects:  76% (10/13)\u001b[K\rremote: Counting objects:  84% (11/13)\u001b[K\rremote: Counting objects:  92% (12/13)\u001b[K\rremote: Counting objects: 100% (13/13)\u001b[K\rremote: Counting objects: 100% (13/13), done.\u001b[K\n",
            "remote: Compressing objects:  12% (1/8)\u001b[K\rremote: Compressing objects:  25% (2/8)\u001b[K\rremote: Compressing objects:  37% (3/8)\u001b[K\rremote: Compressing objects:  50% (4/8)\u001b[K\rremote: Compressing objects:  62% (5/8)\u001b[K\rremote: Compressing objects:  75% (6/8)\u001b[K\rremote: Compressing objects:  87% (7/8)\u001b[K\rremote: Compressing objects: 100% (8/8)\u001b[K\rremote: Compressing objects: 100% (8/8), done.\u001b[K\n",
            "Receiving objects:   0% (1/464)   \rReceiving objects:   1% (5/464)   \rReceiving objects:   2% (10/464)   \rReceiving objects:   3% (14/464)   \rReceiving objects:   4% (19/464)   \rReceiving objects:   5% (24/464)   \rReceiving objects:   6% (28/464)   \rReceiving objects:   7% (33/464)   \rReceiving objects:   8% (38/464)   \rReceiving objects:   9% (42/464)   \rReceiving objects:  10% (47/464)   \rReceiving objects:  11% (52/464)   \rReceiving objects:  12% (56/464)   \rReceiving objects:  13% (61/464)   \rReceiving objects:  14% (65/464)   \rReceiving objects:  15% (70/464)   \rReceiving objects:  16% (75/464)   \rReceiving objects:  17% (79/464)   \rReceiving objects:  18% (84/464)   \rReceiving objects:  19% (89/464)   \rReceiving objects:  20% (93/464)   \rReceiving objects:  21% (98/464)   \rReceiving objects:  22% (103/464)   \rReceiving objects:  23% (107/464)   \rReceiving objects:  24% (112/464)   \rReceiving objects:  25% (116/464)   \rReceiving objects:  26% (121/464)   \rReceiving objects:  27% (126/464)   \rReceiving objects:  28% (130/464)   \rReceiving objects:  29% (135/464)   \rReceiving objects:  30% (140/464)   \rReceiving objects:  31% (144/464)   \rReceiving objects:  32% (149/464)   \rReceiving objects:  33% (154/464)   \rReceiving objects:  34% (158/464)   \rReceiving objects:  35% (163/464)   \rReceiving objects:  36% (168/464)   \rReceiving objects:  37% (172/464)   \rReceiving objects:  38% (177/464)   \rReceiving objects:  39% (181/464)   \rReceiving objects:  40% (186/464)   \rReceiving objects:  41% (191/464)   \rReceiving objects:  42% (195/464)   \rReceiving objects:  43% (200/464)   \rReceiving objects:  44% (205/464)   \rReceiving objects:  45% (209/464)   \rReceiving objects:  46% (214/464)   \rReceiving objects:  47% (219/464)   \rReceiving objects:  48% (223/464)   \rReceiving objects:  49% (228/464)   \rReceiving objects:  50% (232/464)   \rReceiving objects:  51% (237/464)   \rReceiving objects:  52% (242/464)   \rReceiving objects:  53% (246/464)   \rReceiving objects:  54% (251/464)   \rReceiving objects:  55% (256/464)   \rReceiving objects:  56% (260/464)   \rReceiving objects:  57% (265/464)   \rReceiving objects:  58% (270/464)   \rReceiving objects:  59% (274/464)   \rReceiving objects:  60% (279/464)   \rReceiving objects:  61% (284/464)   \rReceiving objects:  62% (288/464)   \rReceiving objects:  63% (293/464)   \rReceiving objects:  64% (297/464)   \rReceiving objects:  65% (302/464)   \rReceiving objects:  66% (307/464)   \rReceiving objects:  67% (311/464)   \rReceiving objects:  68% (316/464)   \rReceiving objects:  69% (321/464)   \rReceiving objects:  70% (325/464)   \rReceiving objects:  71% (330/464)   \rReceiving objects:  72% (335/464)   \rReceiving objects:  73% (339/464)   \rReceiving objects:  74% (344/464)   \rReceiving objects:  75% (348/464)   \rReceiving objects:  76% (353/464)   \rReceiving objects:  77% (358/464)   \rReceiving objects:  78% (362/464)   \rReceiving objects:  79% (367/464)   \rReceiving objects:  80% (372/464)   \rReceiving objects:  81% (376/464)   \rReceiving objects:  82% (381/464)   \rReceiving objects:  83% (386/464)   \rReceiving objects:  84% (390/464)   \rReceiving objects:  85% (395/464)   \rReceiving objects:  86% (400/464)   \rReceiving objects:  87% (404/464)   \rReceiving objects:  88% (409/464)   \rReceiving objects:  89% (413/464)   \rremote: Total 464 (delta 5), reused 11 (delta 5), pack-reused 451\u001b[K\n",
            "Receiving objects:  90% (418/464)   \rReceiving objects:  91% (423/464)   \rReceiving objects:  92% (427/464)   \rReceiving objects:  93% (432/464)   \rReceiving objects:  94% (437/464)   \rReceiving objects:  95% (441/464)   \rReceiving objects:  96% (446/464)   \rReceiving objects:  97% (451/464)   \rReceiving objects:  98% (455/464)   \rReceiving objects:  99% (460/464)   \rReceiving objects: 100% (464/464)   \rReceiving objects: 100% (464/464), 1.21 MiB | 26.32 MiB/s, done.\n",
            "Resolving deltas:   0% (0/306)   \rResolving deltas:   1% (4/306)   \rResolving deltas:   2% (8/306)   \rResolving deltas:   3% (10/306)   \rResolving deltas:   4% (13/306)   \rResolving deltas:   5% (16/306)   \rResolving deltas:   6% (19/306)   \rResolving deltas:   7% (22/306)   \rResolving deltas:   8% (25/306)   \rResolving deltas:   9% (28/306)   \rResolving deltas:  10% (31/306)   \rResolving deltas:  11% (34/306)   \rResolving deltas:  12% (37/306)   \rResolving deltas:  13% (40/306)   \rResolving deltas:  17% (54/306)   \rResolving deltas:  21% (66/306)   \rResolving deltas:  44% (135/306)   \rResolving deltas:  48% (148/306)   \rResolving deltas:  50% (154/306)   \rResolving deltas:  52% (161/306)   \rResolving deltas:  54% (168/306)   \rResolving deltas:  64% (196/306)   \rResolving deltas:  66% (203/306)   \rResolving deltas:  68% (209/306)   \rResolving deltas:  70% (216/306)   \rResolving deltas:  73% (224/306)   \rResolving deltas:  76% (234/306)   \rResolving deltas:  77% (236/306)   \rResolving deltas:  78% (241/306)   \rResolving deltas:  79% (243/306)   \rResolving deltas:  80% (247/306)   \rResolving deltas:  82% (252/306)   \rResolving deltas:  90% (276/306)   \rResolving deltas:  92% (282/306)   \rResolving deltas:  96% (294/306)   \rResolving deltas:  97% (297/306)   \rResolving deltas:  98% (300/306)   \rResolving deltas:  99% (303/306)   \rResolving deltas: 100% (306/306)   \rResolving deltas: 100% (306/306), done.\n"
          ],
          "name": "stdout"
        }
      ]
    },
    {
      "cell_type": "code",
      "metadata": {
        "id": "DphTGYwumbdl",
        "colab_type": "code",
        "outputId": "050e2137-e6d3-49c1-b4d0-ee3d9d502495",
        "colab": {
          "base_uri": "https://localhost:8080/",
          "height": 34
        }
      },
      "source": [
        "!git clone https://github.com/tensorflow/tensor2tensor.git\n"
      ],
      "execution_count": 17,
      "outputs": [
        {
          "output_type": "stream",
          "text": [
            "fatal: destination path 'tensor2tensor' already exists and is not an empty directory.\n"
          ],
          "name": "stdout"
        }
      ]
    },
    {
      "cell_type": "code",
      "metadata": {
        "id": "RKpVqhl98dgE",
        "colab_type": "code",
        "outputId": "b754a956-63b4-4b7a-ac1d-2915ead11824",
        "colab": {
          "base_uri": "https://localhost:8080/",
          "height": 136
        }
      },
      "source": [
        "!git clone https://github.com/awslabs/sockeye.git"
      ],
      "execution_count": 4,
      "outputs": [
        {
          "output_type": "stream",
          "text": [
            "Cloning into 'sockeye'...\n",
            "remote: Enumerating objects: 122, done.\u001b[K\n",
            "remote: Counting objects: 100% (122/122), done.\u001b[K\n",
            "remote: Compressing objects: 100% (96/96), done.\u001b[K\n",
            "remote: Total 6501 (delta 71), reused 49 (delta 26), pack-reused 6379\u001b[K\n",
            "Receiving objects: 100% (6501/6501), 8.05 MiB | 22.10 MiB/s, done.\n",
            "Resolving deltas: 100% (4909/4909), done.\n"
          ],
          "name": "stdout"
        }
      ]
    },
    {
      "cell_type": "code",
      "metadata": {
        "id": "UDUQSnhimdKG",
        "colab_type": "code",
        "colab": {}
      },
      "source": [
        "%load https://colab.sandbox.google.com/github/tensorflow/tensor2tensor/blob/master/tensor2tensor/notebooks/hello_t2t.ipynb\n"
      ],
      "execution_count": 0,
      "outputs": []
    },
    {
      "cell_type": "code",
      "metadata": {
        "id": "gBy5b7xfm7qg",
        "colab_type": "code",
        "colab": {}
      },
      "source": [
        "#%run https://colab.sandbox.google.com/github/tensorflow/tensor2tensor/blob/master/tensor2tensor/notebooks/hello_t2t.ipynb"
      ],
      "execution_count": 0,
      "outputs": []
    },
    {
      "cell_type": "code",
      "metadata": {
        "id": "2VKNk8HynIMa",
        "colab_type": "code",
        "outputId": "cd8aed72-22b6-4cfc-f1f2-8e542f2e9e5d",
        "colab": {
          "base_uri": "https://localhost:8080/",
          "height": 102
        }
      },
      "source": [
        "!git clone https://github.com/ArunMichaelDsouza/tensorflow-image-detection.git"
      ],
      "execution_count": 7,
      "outputs": [
        {
          "output_type": "stream",
          "text": [
            "Cloning into 'tensorflow-image-detection'...\n",
            "remote: Enumerating objects: 121, done.\u001b[K\n",
            "Receiving objects:   0% (1/121)   \rReceiving objects:   1% (2/121)   \rReceiving objects:   2% (3/121)   \rReceiving objects:   3% (4/121)   \rReceiving objects:   4% (5/121)   \rReceiving objects:   5% (7/121)   \rReceiving objects:   6% (8/121)   \rReceiving objects:   7% (9/121)   \rReceiving objects:   8% (10/121)   \rReceiving objects:   9% (11/121)   \rReceiving objects:  10% (13/121)   \rReceiving objects:  11% (14/121)   \rReceiving objects:  12% (15/121)   \rReceiving objects:  13% (16/121)   \rReceiving objects:  14% (17/121)   \rReceiving objects:  15% (19/121)   \rReceiving objects:  16% (20/121)   \rReceiving objects:  17% (21/121)   \rReceiving objects:  18% (22/121)   \rReceiving objects:  19% (23/121)   \rReceiving objects:  20% (25/121)   \rReceiving objects:  21% (26/121)   \rReceiving objects:  22% (27/121)   \rReceiving objects:  23% (28/121)   \rReceiving objects:  24% (30/121)   \rReceiving objects:  25% (31/121)   \rReceiving objects:  26% (32/121)   \rReceiving objects:  27% (33/121)   \rReceiving objects:  28% (34/121)   \rReceiving objects:  29% (36/121)   \rReceiving objects:  30% (37/121)   \rReceiving objects:  31% (38/121)   \rReceiving objects:  32% (39/121)   \rReceiving objects:  33% (40/121)   \rReceiving objects:  34% (42/121)   \rReceiving objects:  35% (43/121)   \rReceiving objects:  36% (44/121)   \rReceiving objects:  37% (45/121)   \rReceiving objects:  38% (46/121)   \rReceiving objects:  39% (48/121)   \rReceiving objects:  40% (49/121)   \rReceiving objects:  41% (50/121)   \rReceiving objects:  42% (51/121)   \rReceiving objects:  43% (53/121)   \rReceiving objects:  44% (54/121)   \rReceiving objects:  45% (55/121)   \rReceiving objects:  46% (56/121)   \rReceiving objects:  47% (57/121)   \rReceiving objects:  48% (59/121)   \rReceiving objects:  49% (60/121)   \rReceiving objects:  50% (61/121)   \rReceiving objects:  51% (62/121)   \rReceiving objects:  52% (63/121)   \rReceiving objects:  53% (65/121)   \rReceiving objects:  54% (66/121)   \rReceiving objects:  55% (67/121)   \rReceiving objects:  56% (68/121)   \rReceiving objects:  57% (69/121)   \rReceiving objects:  58% (71/121)   \rReceiving objects:  59% (72/121)   \rReceiving objects:  60% (73/121)   \rReceiving objects:  61% (74/121)   \rReceiving objects:  62% (76/121)   \rReceiving objects:  63% (77/121)   \rReceiving objects:  64% (78/121)   \rReceiving objects:  65% (79/121)   \rReceiving objects:  66% (80/121)   \rReceiving objects:  67% (82/121)   \rReceiving objects:  68% (83/121)   \rReceiving objects:  69% (84/121)   \rReceiving objects:  70% (85/121)   \rReceiving objects:  71% (86/121)   \rReceiving objects:  72% (88/121)   \rReceiving objects:  73% (89/121)   \rReceiving objects:  74% (90/121)   \rReceiving objects:  75% (91/121)   \rReceiving objects:  76% (92/121)   \rReceiving objects:  77% (94/121)   \rReceiving objects:  78% (95/121)   \rReceiving objects:  79% (96/121)   \rReceiving objects:  80% (97/121)   \rReceiving objects:  81% (99/121)   \rReceiving objects:  82% (100/121)   \rReceiving objects:  83% (101/121)   \rReceiving objects:  84% (102/121)   \rReceiving objects:  85% (103/121)   \rremote: Total 121 (delta 0), reused 0 (delta 0), pack-reused 121\u001b[K\n",
            "Receiving objects:  86% (105/121)   \rReceiving objects:  87% (106/121)   \rReceiving objects:  88% (107/121)   \rReceiving objects:  89% (108/121)   \rReceiving objects:  90% (109/121)   \rReceiving objects:  91% (111/121)   \rReceiving objects:  92% (112/121)   \rReceiving objects:  93% (113/121)   \rReceiving objects:  94% (114/121)   \rReceiving objects:  95% (115/121)   \rReceiving objects:  96% (117/121)   \rReceiving objects:  97% (118/121)   \rReceiving objects:  98% (119/121)   \rReceiving objects:  99% (120/121)   \rReceiving objects: 100% (121/121)   \rReceiving objects: 100% (121/121), 1.15 MiB | 23.08 MiB/s, done.\n",
            "Resolving deltas:   0% (0/62)   \rResolving deltas:   1% (1/62)   \rResolving deltas:   3% (2/62)   \rResolving deltas:  12% (8/62)   \rResolving deltas:  24% (15/62)   \rResolving deltas:  27% (17/62)   \rResolving deltas:  45% (28/62)   \rResolving deltas:  77% (48/62)   \rResolving deltas:  90% (56/62)   \rResolving deltas:  93% (58/62)   \rResolving deltas: 100% (62/62)   \rResolving deltas: 100% (62/62), done.\n"
          ],
          "name": "stdout"
        }
      ]
    },
    {
      "cell_type": "code",
      "metadata": {
        "id": "--tlwOrYo2hZ",
        "colab_type": "code",
        "outputId": "d9fc644b-c46d-4aef-866d-a3fdb0e316af",
        "colab": {
          "base_uri": "https://localhost:8080/",
          "height": 102
        }
      },
      "source": [
        "!git clone https://github.com/ageitgey/face_recognition.git\n"
      ],
      "execution_count": 8,
      "outputs": [
        {
          "output_type": "stream",
          "text": [
            "Cloning into 'face_recognition'...\n",
            "remote: Enumerating objects: 793, done.\u001b[K\n",
            "remote: Total 793 (delta 0), reused 0 (delta 0), pack-reused 793\u001b[K\n",
            "Receiving objects: 100% (793/793), 101.42 MiB | 28.35 MiB/s, done.\n",
            "Resolving deltas: 100% (456/456), done.\n"
          ],
          "name": "stdout"
        }
      ]
    },
    {
      "cell_type": "code",
      "metadata": {
        "id": "ITZhk3X1pEvS",
        "colab_type": "code",
        "outputId": "91eccdf6-6b70-45fb-8020-500720cb39b7",
        "colab": {
          "base_uri": "https://localhost:8080/",
          "height": 153
        }
      },
      "source": [
        "!git clone https://github.com/tensorflow/models.git"
      ],
      "execution_count": 9,
      "outputs": [
        {
          "output_type": "stream",
          "text": [
            "Cloning into 'models'...\n",
            "remote: Enumerating objects: 28, done.\u001b[K\n",
            "remote: Counting objects: 100% (28/28), done.\n",
            "remote: Compressing objects: 100% (28/28), done.\u001b[K\n",
            "remote: Total 32055 (delta 13), reused 14 (delta 0), pack-reused 32027\u001b[K\n",
            "Receiving objects: 100% (32055/32055), 511.22 MiB | 30.45 MiB/s, done.\n",
            "Resolving deltas: 100% (20297/20297), done.\n",
            "Checking out files: 100% (3135/3135), done.\n"
          ],
          "name": "stdout"
        }
      ]
    },
    {
      "cell_type": "code",
      "metadata": {
        "id": "NoowmTepph6C",
        "colab_type": "code",
        "outputId": "3d238903-04bc-4e5b-ee29-cef6d7ea2275",
        "colab": {
          "base_uri": "https://localhost:8080/",
          "height": 136
        }
      },
      "source": [
        "!git clone https://github.com/cedrickchee/awesome-bert-nlp.git"
      ],
      "execution_count": 10,
      "outputs": [
        {
          "output_type": "stream",
          "text": [
            "Cloning into 'awesome-bert-nlp'...\n",
            "remote: Enumerating objects: 76, done.\u001b[K\n",
            "remote: Counting objects:   1% (1/76)\u001b[K\rremote: Counting objects:   2% (2/76)\u001b[K\rremote: Counting objects:   3% (3/76)\u001b[K\rremote: Counting objects:   5% (4/76)\u001b[K\rremote: Counting objects:   6% (5/76)\u001b[K\rremote: Counting objects:   7% (6/76)\u001b[K\rremote: Counting objects:   9% (7/76)\u001b[K\rremote: Counting objects:  10% (8/76)\u001b[K\rremote: Counting objects:  11% (9/76)\u001b[K\rremote: Counting objects:  13% (10/76)\u001b[K\rremote: Counting objects:  14% (11/76)\u001b[K\rremote: Counting objects:  15% (12/76)\u001b[K\rremote: Counting objects:  17% (13/76)\u001b[K\rremote: Counting objects:  18% (14/76)\u001b[K\rremote: Counting objects:  19% (15/76)\u001b[K\rremote: Counting objects:  21% (16/76)\u001b[K\rremote: Counting objects:  22% (17/76)\u001b[K\rremote: Counting objects:  23% (18/76)\u001b[K\rremote: Counting objects:  25% (19/76)\u001b[K\rremote: Counting objects:  26% (20/76)\u001b[K\rremote: Counting objects:  27% (21/76)\u001b[K\rremote: Counting objects:  28% (22/76)\u001b[K\rremote: Counting objects:  30% (23/76)\u001b[K\rremote: Counting objects:  31% (24/76)\u001b[K\rremote: Counting objects:  32% (25/76)\u001b[K\rremote: Counting objects:  34% (26/76)\u001b[K\rremote: Counting objects:  35% (27/76)\u001b[K\rremote: Counting objects:  36% (28/76)\u001b[K\rremote: Counting objects:  38% (29/76)\u001b[K\rremote: Counting objects:  39% (30/76)\u001b[K\rremote: Counting objects:  40% (31/76)\u001b[K\rremote: Counting objects:  42% (32/76)\u001b[K\rremote: Counting objects:  43% (33/76)\u001b[K\rremote: Counting objects:  44% (34/76)\u001b[K\rremote: Counting objects:  46% (35/76)\u001b[K\rremote: Counting objects:  47% (36/76)\u001b[K\rremote: Counting objects:  48% (37/76)\u001b[K\rremote: Counting objects:  50% (38/76)\u001b[K\rremote: Counting objects:  51% (39/76)\u001b[K\rremote: Counting objects:  52% (40/76)\u001b[K\rremote: Counting objects:  53% (41/76)\u001b[K\rremote: Counting objects:  55% (42/76)\u001b[K\rremote: Counting objects:  56% (43/76)\u001b[K\rremote: Counting objects:  57% (44/76)\u001b[K\rremote: Counting objects:  59% (45/76)\u001b[K\rremote: Counting objects:  60% (46/76)\u001b[K\rremote: Counting objects:  61% (47/76)\u001b[K\rremote: Counting objects:  63% (48/76)\u001b[K\rremote: Counting objects:  64% (49/76)\u001b[K\rremote: Counting objects:  65% (50/76)\u001b[K\rremote: Counting objects:  67% (51/76)\u001b[K\rremote: Counting objects:  68% (52/76)\u001b[K\rremote: Counting objects:  69% (53/76)\u001b[K\rremote: Counting objects:  71% (54/76)\u001b[K\rremote: Counting objects:  72% (55/76)\u001b[K\rremote: Counting objects:  73% (56/76)\u001b[K\rremote: Counting objects:  75% (57/76)\u001b[K\rremote: Counting objects:  76% (58/76)\u001b[K\rremote: Counting objects:  77% (59/76)\u001b[K\rremote: Counting objects:  78% (60/76)\u001b[K\rremote: Counting objects:  80% (61/76)\u001b[K\rremote: Counting objects:  81% (62/76)\u001b[K\rremote: Counting objects:  82% (63/76)\u001b[K\rremote: Counting objects:  84% (64/76)\u001b[K\rremote: Counting objects:  85% (65/76)\u001b[K\rremote: Counting objects:  86% (66/76)\u001b[K\rremote: Counting objects:  88% (67/76)\u001b[K\rremote: Counting objects:  89% (68/76)\u001b[K\rremote: Counting objects:  90% (69/76)\u001b[K\rremote: Counting objects:  92% (70/76)\u001b[K\rremote: Counting objects:  93% (71/76)\u001b[K\rremote: Counting objects:  94% (72/76)\u001b[K\rremote: Counting objects:  96% (73/76)\u001b[K\rremote: Counting objects:  97% (74/76)\u001b[K\rremote: Counting objects:  98% (75/76)\u001b[K\rremote: Counting objects: 100% (76/76)\u001b[K\rremote: Counting objects: 100% (76/76), done.\u001b[K\n",
            "remote: Compressing objects:   1% (1/76)\u001b[K\rremote: Compressing objects:   2% (2/76)\u001b[K\rremote: Compressing objects:   3% (3/76)\u001b[K\rremote: Compressing objects:   5% (4/76)\u001b[K\rremote: Compressing objects:   6% (5/76)\u001b[K\rremote: Compressing objects:   7% (6/76)\u001b[K\rremote: Compressing objects:   9% (7/76)\u001b[K\rremote: Compressing objects:  10% (8/76)\u001b[K\rremote: Compressing objects:  11% (9/76)\u001b[K\rremote: Compressing objects:  13% (10/76)\u001b[K\rremote: Compressing objects:  14% (11/76)\u001b[K\rremote: Compressing objects:  15% (12/76)\u001b[K\rremote: Compressing objects:  17% (13/76)\u001b[K\rremote: Compressing objects:  18% (14/76)\u001b[K\rremote: Compressing objects:  19% (15/76)\u001b[K\rremote: Compressing objects:  21% (16/76)\u001b[K\rremote: Compressing objects:  22% (17/76)\u001b[K\rremote: Compressing objects:  23% (18/76)\u001b[K\rremote: Compressing objects:  25% (19/76)\u001b[K\rremote: Compressing objects:  26% (20/76)\u001b[K\rremote: Compressing objects:  27% (21/76)\u001b[K\rremote: Compressing objects:  28% (22/76)\u001b[K\rremote: Compressing objects:  30% (23/76)\u001b[K\rremote: Compressing objects:  31% (24/76)\u001b[K\rremote: Compressing objects:  32% (25/76)\u001b[K\rremote: Compressing objects:  34% (26/76)\u001b[K\rremote: Compressing objects:  35% (27/76)\u001b[K\rremote: Compressing objects:  36% (28/76)\u001b[K\rremote: Compressing objects:  38% (29/76)\u001b[K\rremote: Compressing objects:  39% (30/76)\u001b[K\rremote: Compressing objects:  40% (31/76)\u001b[K\rremote: Compressing objects:  42% (32/76)\u001b[K\rremote: Compressing objects:  43% (33/76)\u001b[K\rremote: Compressing objects:  44% (34/76)\u001b[K\rremote: Compressing objects:  46% (35/76)\u001b[K\rremote: Compressing objects:  47% (36/76)\u001b[K\rremote: Compressing objects:  48% (37/76)\u001b[K\rremote: Compressing objects:  50% (38/76)\u001b[K\rremote: Compressing objects:  51% (39/76)\u001b[K\rremote: Compressing objects:  52% (40/76)\u001b[K\rremote: Compressing objects:  53% (41/76)\u001b[K\rremote: Compressing objects:  55% (42/76)\u001b[K\rremote: Compressing objects:  56% (43/76)\u001b[K\rremote: Compressing objects:  57% (44/76)\u001b[K\rremote: Compressing objects:  59% (45/76)\u001b[K\rremote: Compressing objects:  60% (46/76)\u001b[K\rremote: Compressing objects:  61% (47/76)\u001b[K\rremote: Compressing objects:  63% (48/76)\u001b[K\rremote: Compressing objects:  64% (49/76)\u001b[K\rremote: Compressing objects:  65% (50/76)\u001b[K\rremote: Compressing objects:  67% (51/76)\u001b[K\rremote: Compressing objects:  68% (52/76)\u001b[K\rremote: Compressing objects:  69% (53/76)\u001b[K\rremote: Compressing objects:  71% (54/76)\u001b[K\rremote: Compressing objects:  72% (55/76)\u001b[K\rremote: Compressing objects:  73% (56/76)\u001b[K\rremote: Compressing objects:  75% (57/76)\u001b[K\rremote: Compressing objects:  76% (58/76)\u001b[K\rremote: Compressing objects:  77% (59/76)\u001b[K\rremote: Compressing objects:  78% (60/76)\u001b[K\rremote: Compressing objects:  80% (61/76)\u001b[K\rremote: Compressing objects:  81% (62/76)\u001b[K\rremote: Compressing objects:  82% (63/76)\u001b[K\rremote: Compressing objects:  84% (64/76)\u001b[K\rremote: Compressing objects:  85% (65/76)\u001b[K\rremote: Compressing objects:  86% (66/76)\u001b[K\rremote: Compressing objects:  88% (67/76)\u001b[K\rremote: Compressing objects:  89% (68/76)\u001b[K\rremote: Compressing objects:  90% (69/76)\u001b[K\rremote: Compressing objects:  92% (70/76)\u001b[K\rremote: Compressing objects:  93% (71/76)\u001b[K\rremote: Compressing objects:  94% (72/76)\u001b[K\rremote: Compressing objects:  96% (73/76)\u001b[K\rremote: Compressing objects:  97% (74/76)\u001b[K\rremote: Compressing objects:  98% (75/76)\u001b[K\rremote: Compressing objects: 100% (76/76)\u001b[K\rremote: Compressing objects: 100% (76/76), done.\u001b[K\n",
            "Receiving objects:   0% (1/141)   \rReceiving objects:   1% (2/141)   \rReceiving objects:   2% (3/141)   \rReceiving objects:   3% (5/141)   \rReceiving objects:   4% (6/141)   \rReceiving objects:   5% (8/141)   \rReceiving objects:   6% (9/141)   \rReceiving objects:   7% (10/141)   \rReceiving objects:   8% (12/141)   \rReceiving objects:   9% (13/141)   \rReceiving objects:  10% (15/141)   \rReceiving objects:  11% (16/141)   \rReceiving objects:  12% (17/141)   \rReceiving objects:  13% (19/141)   \rReceiving objects:  14% (20/141)   \rReceiving objects:  15% (22/141)   \rReceiving objects:  16% (23/141)   \rReceiving objects:  17% (24/141)   \rReceiving objects:  18% (26/141)   \rReceiving objects:  19% (27/141)   \rReceiving objects:  20% (29/141)   \rReceiving objects:  21% (30/141)   \rReceiving objects:  22% (32/141)   \rReceiving objects:  23% (33/141)   \rReceiving objects:  24% (34/141)   \rReceiving objects:  25% (36/141)   \rReceiving objects:  26% (37/141)   \rReceiving objects:  27% (39/141)   \rReceiving objects:  28% (40/141)   \rReceiving objects:  29% (41/141)   \rReceiving objects:  30% (43/141)   \rReceiving objects:  31% (44/141)   \rReceiving objects:  32% (46/141)   \rReceiving objects:  33% (47/141)   \rReceiving objects:  34% (48/141)   \rReceiving objects:  35% (50/141)   \rReceiving objects:  36% (51/141)   \rReceiving objects:  37% (53/141)   \rReceiving objects:  38% (54/141)   \rReceiving objects:  39% (55/141)   \rReceiving objects:  40% (57/141)   \rReceiving objects:  41% (58/141)   \rReceiving objects:  42% (60/141)   \rReceiving objects:  43% (61/141)   \rReceiving objects:  44% (63/141)   \rReceiving objects:  45% (64/141)   \rReceiving objects:  46% (65/141)   \rReceiving objects:  47% (67/141)   \rReceiving objects:  48% (68/141)   \rReceiving objects:  49% (70/141)   \rReceiving objects:  50% (71/141)   \rReceiving objects:  51% (72/141)   \rReceiving objects:  52% (74/141)   \rReceiving objects:  53% (75/141)   \rReceiving objects:  54% (77/141)   \rReceiving objects:  55% (78/141)   \rReceiving objects:  56% (79/141)   \rReceiving objects:  57% (81/141)   \rReceiving objects:  58% (82/141)   \rReceiving objects:  59% (84/141)   \rReceiving objects:  60% (85/141)   \rReceiving objects:  61% (87/141)   \rReceiving objects:  62% (88/141)   \rReceiving objects:  63% (89/141)   \rReceiving objects:  64% (91/141)   \rReceiving objects:  65% (92/141)   \rremote: Total 141 (delta 24), reused 0 (delta 0), pack-reused 65\u001b[K\n",
            "Receiving objects:  66% (94/141)   \rReceiving objects:  67% (95/141)   \rReceiving objects:  68% (96/141)   \rReceiving objects:  69% (98/141)   \rReceiving objects:  70% (99/141)   \rReceiving objects:  71% (101/141)   \rReceiving objects:  72% (102/141)   \rReceiving objects:  73% (103/141)   \rReceiving objects:  74% (105/141)   \rReceiving objects:  75% (106/141)   \rReceiving objects:  76% (108/141)   \rReceiving objects:  77% (109/141)   \rReceiving objects:  78% (110/141)   \rReceiving objects:  79% (112/141)   \rReceiving objects:  80% (113/141)   \rReceiving objects:  81% (115/141)   \rReceiving objects:  82% (116/141)   \rReceiving objects:  83% (118/141)   \rReceiving objects:  84% (119/141)   \rReceiving objects:  85% (120/141)   \rReceiving objects:  86% (122/141)   \rReceiving objects:  87% (123/141)   \rReceiving objects:  88% (125/141)   \rReceiving objects:  89% (126/141)   \rReceiving objects:  90% (127/141)   \rReceiving objects:  91% (129/141)   \rReceiving objects:  92% (130/141)   \rReceiving objects:  93% (132/141)   \rReceiving objects:  94% (133/141)   \rReceiving objects:  95% (134/141)   \rReceiving objects:  96% (136/141)   \rReceiving objects:  97% (137/141)   \rReceiving objects:  98% (139/141)   \rReceiving objects:  99% (140/141)   \rReceiving objects: 100% (141/141)   \rReceiving objects: 100% (141/141), 53.03 KiB | 1024.00 KiB/s, done.\n",
            "Resolving deltas:   0% (0/43)   \rResolving deltas:  76% (33/43)   \rResolving deltas: 100% (43/43)   \rResolving deltas: 100% (43/43), done.\n"
          ],
          "name": "stdout"
        }
      ]
    },
    {
      "cell_type": "code",
      "metadata": {
        "id": "jyAxvEgjpqYa",
        "colab_type": "code",
        "outputId": "393be8f5-cc97-475f-ad7e-1cc788a758c8",
        "colab": {
          "base_uri": "https://localhost:8080/",
          "height": 136
        }
      },
      "source": [
        "!git clone https://github.com/dennybritz/reinforcement-learning.git"
      ],
      "execution_count": 11,
      "outputs": [
        {
          "output_type": "stream",
          "text": [
            "Cloning into 'reinforcement-learning'...\n",
            "remote: Enumerating objects: 9, done.\u001b[K\n",
            "remote: Counting objects:  11% (1/9)\u001b[K\rremote: Counting objects:  22% (2/9)\u001b[K\rremote: Counting objects:  33% (3/9)\u001b[K\rremote: Counting objects:  44% (4/9)\u001b[K\rremote: Counting objects:  55% (5/9)\u001b[K\rremote: Counting objects:  66% (6/9)\u001b[K\rremote: Counting objects:  77% (7/9)\u001b[K\rremote: Counting objects:  88% (8/9)\u001b[K\rremote: Counting objects: 100% (9/9)\u001b[K\rremote: Counting objects: 100% (9/9), done.\u001b[K\n",
            "remote: Compressing objects:  11% (1/9)\u001b[K\rremote: Compressing objects:  22% (2/9)\u001b[K\rremote: Compressing objects:  33% (3/9)\u001b[K\rremote: Compressing objects:  44% (4/9)\u001b[K\rremote: Compressing objects:  55% (5/9)\u001b[K\rremote: Compressing objects:  66% (6/9)\u001b[K\rremote: Compressing objects:  77% (7/9)\u001b[K\rremote: Compressing objects:  88% (8/9)\u001b[K\rremote: Compressing objects: 100% (9/9)\u001b[K\rremote: Compressing objects: 100% (9/9), done.\u001b[K\n",
            "Receiving objects:   0% (1/1270)   \rReceiving objects:   1% (13/1270)   \rReceiving objects:   2% (26/1270)   \rReceiving objects:   3% (39/1270)   \rReceiving objects:   4% (51/1270)   \rReceiving objects:   5% (64/1270)   \rReceiving objects:   6% (77/1270)   \rReceiving objects:   7% (89/1270)   \rReceiving objects:   8% (102/1270)   \rReceiving objects:   9% (115/1270)   \rReceiving objects:  10% (127/1270)   \rReceiving objects:  11% (140/1270)   \rReceiving objects:  12% (153/1270)   \rReceiving objects:  13% (166/1270)   \rReceiving objects:  14% (178/1270)   \rReceiving objects:  15% (191/1270)   \rReceiving objects:  16% (204/1270)   \rReceiving objects:  17% (216/1270)   \rReceiving objects:  18% (229/1270)   \rReceiving objects:  19% (242/1270)   \rReceiving objects:  20% (254/1270)   \rReceiving objects:  21% (267/1270)   \rReceiving objects:  22% (280/1270)   \rReceiving objects:  23% (293/1270)   \rReceiving objects:  24% (305/1270)   \rReceiving objects:  25% (318/1270)   \rReceiving objects:  26% (331/1270)   \rReceiving objects:  27% (343/1270)   \rReceiving objects:  28% (356/1270)   \rReceiving objects:  29% (369/1270)   \rReceiving objects:  30% (381/1270)   \rReceiving objects:  31% (394/1270)   \rReceiving objects:  32% (407/1270)   \rReceiving objects:  33% (420/1270)   \rReceiving objects:  34% (432/1270)   \rReceiving objects:  35% (445/1270)   \rReceiving objects:  36% (458/1270)   \rReceiving objects:  37% (470/1270)   \rReceiving objects:  38% (483/1270)   \rReceiving objects:  39% (496/1270)   \rReceiving objects:  40% (508/1270)   \rReceiving objects:  41% (521/1270)   \rReceiving objects:  42% (534/1270)   \rReceiving objects:  43% (547/1270)   \rReceiving objects:  44% (559/1270)   \rReceiving objects:  45% (572/1270)   \rReceiving objects:  46% (585/1270)   \rReceiving objects:  47% (597/1270)   \rReceiving objects:  48% (610/1270)   \rReceiving objects:  49% (623/1270)   \rReceiving objects:  50% (635/1270)   \rReceiving objects:  51% (648/1270)   \rReceiving objects:  52% (661/1270)   \rReceiving objects:  53% (674/1270)   \rReceiving objects:  54% (686/1270)   \rReceiving objects:  55% (699/1270)   \rReceiving objects:  56% (712/1270)   \rReceiving objects:  57% (724/1270)   \rReceiving objects:  58% (737/1270)   \rReceiving objects:  59% (750/1270)   \rReceiving objects:  60% (762/1270)   \rReceiving objects:  61% (775/1270)   \rReceiving objects:  62% (788/1270)   \rReceiving objects:  63% (801/1270)   \rReceiving objects:  64% (813/1270)   \rReceiving objects:  65% (826/1270)   \rReceiving objects:  66% (839/1270)   \rReceiving objects:  67% (851/1270)   \rReceiving objects:  68% (864/1270)   \rReceiving objects:  69% (877/1270)   \rReceiving objects:  70% (889/1270)   \rReceiving objects:  71% (902/1270)   \rReceiving objects:  72% (915/1270)   \rReceiving objects:  73% (928/1270)   \rReceiving objects:  74% (940/1270)   \rReceiving objects:  75% (953/1270)   \rReceiving objects:  76% (966/1270)   \rReceiving objects:  77% (978/1270)   \rReceiving objects:  78% (991/1270)   \rReceiving objects:  79% (1004/1270)   \rReceiving objects:  80% (1016/1270)   \rReceiving objects:  81% (1029/1270)   \rReceiving objects:  82% (1042/1270)   \rReceiving objects:  83% (1055/1270)   \rReceiving objects:  84% (1067/1270)   \rReceiving objects:  85% (1080/1270)   \rReceiving objects:  86% (1093/1270)   \rReceiving objects:  87% (1105/1270)   \rReceiving objects:  88% (1118/1270)   \rReceiving objects:  89% (1131/1270)   \rReceiving objects:  90% (1143/1270)   \rReceiving objects:  91% (1156/1270)   \rReceiving objects:  92% (1169/1270)   \rReceiving objects:  93% (1182/1270)   \rReceiving objects:  94% (1194/1270)   \rReceiving objects:  95% (1207/1270)   \rReceiving objects:  96% (1220/1270)   \rReceiving objects:  97% (1232/1270)   \rremote: Total 1270 (delta 3), reused 3 (delta 0), pack-reused 1261\u001b[K\n",
            "Receiving objects:  98% (1245/1270)   \rReceiving objects:  99% (1258/1270)   \rReceiving objects: 100% (1270/1270)   \rReceiving objects: 100% (1270/1270), 5.25 MiB | 27.55 MiB/s, done.\n",
            "Resolving deltas:   0% (0/816)   \rResolving deltas:   4% (34/816)   \rResolving deltas:   5% (42/816)   \rResolving deltas:   6% (56/816)   \rResolving deltas:   9% (76/816)   \rResolving deltas:  10% (82/816)   \rResolving deltas:  11% (91/816)   \rResolving deltas:  13% (108/816)   \rResolving deltas:  14% (117/816)   \rResolving deltas:  15% (124/816)   \rResolving deltas:  16% (136/816)   \rResolving deltas:  17% (139/816)   \rResolving deltas:  18% (148/816)   \rResolving deltas:  20% (165/816)   \rResolving deltas:  21% (178/816)   \rResolving deltas:  24% (202/816)   \rResolving deltas:  25% (205/816)   \rResolving deltas:  26% (213/816)   \rResolving deltas:  27% (224/816)   \rResolving deltas:  28% (235/816)   \rResolving deltas:  29% (239/816)   \rResolving deltas:  31% (257/816)   \rResolving deltas:  33% (272/816)   \rResolving deltas:  34% (278/816)   \rResolving deltas:  35% (287/816)   \rResolving deltas:  36% (294/816)   \rResolving deltas:  38% (311/816)   \rResolving deltas:  39% (323/816)   \rResolving deltas:  40% (327/816)   \rResolving deltas:  42% (346/816)   \rResolving deltas:  44% (366/816)   \rResolving deltas:  45% (369/816)   \rResolving deltas:  50% (408/816)   \rResolving deltas:  51% (421/816)   \rResolving deltas:  52% (427/816)   \rResolving deltas:  54% (441/816)   \rResolving deltas:  57% (469/816)   \rResolving deltas:  60% (490/816)   \rResolving deltas:  64% (524/816)   \rResolving deltas:  65% (535/816)   \rResolving deltas:  67% (549/816)   \rResolving deltas:  69% (571/816)   \rResolving deltas:  71% (585/816)   \rResolving deltas:  73% (603/816)   \rResolving deltas:  74% (607/816)   \rResolving deltas:  75% (618/816)   \rResolving deltas:  76% (622/816)   \rResolving deltas:  77% (633/816)   \rResolving deltas:  79% (647/816)   \rResolving deltas:  80% (658/816)   \rResolving deltas:  83% (682/816)   \rResolving deltas:  85% (696/816)   \rResolving deltas:  88% (726/816)   \rResolving deltas:  89% (727/816)   \rResolving deltas:  90% (741/816)   \rResolving deltas:  91% (747/816)   \rResolving deltas:  94% (771/816)   \rResolving deltas:  95% (778/816)   \rResolving deltas:  97% (795/816)   \rResolving deltas:  99% (809/816)   \rResolving deltas: 100% (816/816)   \rResolving deltas: 100% (816/816), done.\n"
          ],
          "name": "stdout"
        }
      ]
    },
    {
      "cell_type": "code",
      "metadata": {
        "id": "8aPN2i7SIDAK",
        "colab_type": "code",
        "outputId": "4be9ab6e-4971-4289-e0f7-de50513b2511",
        "colab": {
          "base_uri": "https://localhost:8080/",
          "height": 102
        }
      },
      "source": [
        "!git clone https://github.com/MorvanZhou/Reinforcement-learning-with-tensorflow.git"
      ],
      "execution_count": 12,
      "outputs": [
        {
          "output_type": "stream",
          "text": [
            "Cloning into 'Reinforcement-learning-with-tensorflow'...\n",
            "remote: Enumerating objects: 669, done.\u001b[K\n",
            "Receiving objects:   0% (1/669)   \rReceiving objects:   1% (7/669)   \rReceiving objects:   2% (14/669)   \rReceiving objects:   3% (21/669)   \rReceiving objects:   4% (27/669)   \rReceiving objects:   5% (34/669)   \rReceiving objects:   6% (41/669)   \rReceiving objects:   7% (47/669)   \rReceiving objects:   8% (54/669)   \rReceiving objects:   9% (61/669)   \rReceiving objects:  10% (67/669)   \rReceiving objects:  11% (74/669)   \rReceiving objects:  12% (81/669)   \rReceiving objects:  13% (87/669)   \rReceiving objects:  14% (94/669)   \rReceiving objects:  15% (101/669)   \rReceiving objects:  16% (108/669)   \rReceiving objects:  17% (114/669)   \rReceiving objects:  18% (121/669)   \rReceiving objects:  19% (128/669)   \rReceiving objects:  20% (134/669)   \rReceiving objects:  21% (141/669)   \rReceiving objects:  22% (148/669)   \rReceiving objects:  23% (154/669)   \rReceiving objects:  24% (161/669)   \rReceiving objects:  25% (168/669)   \rReceiving objects:  26% (174/669)   \rReceiving objects:  27% (181/669)   \rReceiving objects:  28% (188/669)   \rReceiving objects:  29% (195/669)   \rReceiving objects:  30% (201/669)   \rReceiving objects:  31% (208/669)   \rReceiving objects:  32% (215/669)   \rReceiving objects:  33% (221/669)   \rReceiving objects:  34% (228/669)   \rReceiving objects:  35% (235/669)   \rReceiving objects:  36% (241/669)   \rReceiving objects:  37% (248/669)   \rReceiving objects:  38% (255/669)   \rReceiving objects:  39% (261/669)   \rReceiving objects:  40% (268/669)   \rReceiving objects:  41% (275/669)   \rremote: Total 669 (delta 0), reused 0 (delta 0), pack-reused 669\u001b[K\n",
            "Receiving objects:  42% (281/669)   \rReceiving objects:  43% (288/669)   \rReceiving objects:  44% (295/669)   \rReceiving objects:  45% (302/669)   \rReceiving objects:  46% (308/669)   \rReceiving objects:  47% (315/669)   \rReceiving objects:  48% (322/669)   \rReceiving objects:  49% (328/669)   \rReceiving objects:  50% (335/669)   \rReceiving objects:  51% (342/669)   \rReceiving objects:  52% (348/669)   \rReceiving objects:  53% (355/669)   \rReceiving objects:  54% (362/669)   \rReceiving objects:  55% (368/669)   \rReceiving objects:  56% (375/669)   \rReceiving objects:  57% (382/669)   \rReceiving objects:  58% (389/669)   \rReceiving objects:  59% (395/669)   \rReceiving objects:  60% (402/669)   \rReceiving objects:  61% (409/669)   \rReceiving objects:  62% (415/669)   \rReceiving objects:  63% (422/669)   \rReceiving objects:  64% (429/669)   \rReceiving objects:  65% (435/669)   \rReceiving objects:  66% (442/669)   \rReceiving objects:  67% (449/669)   \rReceiving objects:  68% (455/669)   \rReceiving objects:  69% (462/669)   \rReceiving objects:  70% (469/669)   \rReceiving objects:  71% (475/669)   \rReceiving objects:  72% (482/669)   \rReceiving objects:  73% (489/669)   \rReceiving objects:  74% (496/669)   \rReceiving objects:  75% (502/669)   \rReceiving objects:  76% (509/669)   \rReceiving objects:  77% (516/669)   \rReceiving objects:  78% (522/669)   \rReceiving objects:  79% (529/669)   \rReceiving objects:  80% (536/669)   \rReceiving objects:  81% (542/669)   \rReceiving objects:  82% (549/669)   \rReceiving objects:  83% (556/669)   \rReceiving objects:  84% (562/669)   \rReceiving objects:  85% (569/669)   \rReceiving objects:  86% (576/669)   \rReceiving objects:  87% (583/669)   \rReceiving objects:  88% (589/669)   \rReceiving objects:  89% (596/669)   \rReceiving objects:  90% (603/669)   \rReceiving objects:  91% (609/669)   \rReceiving objects:  92% (616/669)   \rReceiving objects:  93% (623/669)   \rReceiving objects:  94% (629/669)   \rReceiving objects:  95% (636/669)   \rReceiving objects:  96% (643/669)   \rReceiving objects:  97% (649/669)   \rReceiving objects:  98% (656/669)   \rReceiving objects:  99% (663/669)   \rReceiving objects: 100% (669/669)   \rReceiving objects: 100% (669/669), 421.45 KiB | 12.40 MiB/s, done.\n",
            "Resolving deltas:   0% (0/384)   \rResolving deltas:   2% (9/384)   \rResolving deltas:   8% (32/384)   \rResolving deltas:  15% (60/384)   \rResolving deltas:  19% (75/384)   \rResolving deltas:  23% (89/384)   \rResolving deltas:  27% (107/384)   \rResolving deltas:  29% (112/384)   \rResolving deltas:  31% (120/384)   \rResolving deltas:  34% (133/384)   \rResolving deltas:  35% (138/384)   \rResolving deltas:  36% (140/384)   \rResolving deltas:  38% (147/384)   \rResolving deltas:  39% (153/384)   \rResolving deltas:  40% (156/384)   \rResolving deltas:  41% (158/384)   \rResolving deltas:  42% (164/384)   \rResolving deltas:  47% (181/384)   \rResolving deltas:  50% (192/384)   \rResolving deltas:  51% (197/384)   \rResolving deltas:  52% (200/384)   \rResolving deltas:  53% (204/384)   \rResolving deltas:  64% (246/384)   \rResolving deltas:  66% (255/384)   \rResolving deltas:  68% (263/384)   \rResolving deltas:  69% (265/384)   \rResolving deltas:  70% (269/384)   \rResolving deltas:  74% (286/384)   \rResolving deltas:  75% (288/384)   \rResolving deltas:  76% (294/384)   \rResolving deltas:  78% (301/384)   \rResolving deltas:  80% (309/384)   \rResolving deltas:  86% (331/384)   \rResolving deltas:  87% (336/384)   \rResolving deltas:  88% (338/384)   \rResolving deltas:  89% (344/384)   \rResolving deltas:  90% (348/384)   \rResolving deltas:  91% (350/384)   \rResolving deltas:  92% (356/384)   \rResolving deltas:  93% (358/384)   \rResolving deltas:  94% (364/384)   \rResolving deltas:  95% (366/384)   \rResolving deltas:  96% (370/384)   \rResolving deltas:  97% (376/384)   \rResolving deltas:  98% (378/384)   \rResolving deltas: 100% (384/384)   \rResolving deltas: 100% (384/384), done.\n"
          ],
          "name": "stdout"
        }
      ]
    },
    {
      "cell_type": "code",
      "metadata": {
        "id": "jtwPnQIpIWYN",
        "colab_type": "code",
        "outputId": "2073b01a-0187-4a1f-9b04-17db10bc0c49",
        "colab": {
          "base_uri": "https://localhost:8080/",
          "height": 102
        }
      },
      "source": [
        "!git clone https://github.com/udacity/deep-reinforcement-learning.git"
      ],
      "execution_count": 13,
      "outputs": [
        {
          "output_type": "stream",
          "text": [
            "Cloning into 'deep-reinforcement-learning'...\n",
            "remote: Enumerating objects: 223, done.\u001b[K\n",
            "Receiving objects:   0% (1/223)   \rReceiving objects:   1% (3/223)   \rReceiving objects:   2% (5/223)   \rReceiving objects:   3% (7/223)   \rReceiving objects:   4% (9/223)   \rReceiving objects:   5% (12/223)   \rReceiving objects:   6% (14/223)   \rReceiving objects:   7% (16/223)   \rReceiving objects:   8% (18/223)   \rReceiving objects:   9% (21/223)   \rReceiving objects:  10% (23/223)   \rReceiving objects:  11% (25/223)   \rReceiving objects:  12% (27/223)   \rReceiving objects:  13% (29/223)   \rReceiving objects:  14% (32/223)   \rReceiving objects:  15% (34/223)   \rReceiving objects:  16% (36/223)   \rReceiving objects:  17% (38/223)   \rReceiving objects:  18% (41/223)   \rReceiving objects:  19% (43/223)   \rReceiving objects:  20% (45/223)   \rReceiving objects:  21% (47/223)   \rReceiving objects:  22% (50/223)   \rReceiving objects:  23% (52/223)   \rReceiving objects:  24% (54/223)   \rReceiving objects:  25% (56/223)   \rReceiving objects:  26% (58/223)   \rReceiving objects:  27% (61/223)   \rReceiving objects:  28% (63/223)   \rReceiving objects:  29% (65/223)   \rReceiving objects:  30% (67/223)   \rReceiving objects:  31% (70/223)   \rReceiving objects:  32% (72/223)   \rReceiving objects:  33% (74/223)   \rReceiving objects:  34% (76/223)   \rReceiving objects:  35% (79/223)   \rReceiving objects:  36% (81/223)   \rReceiving objects:  37% (83/223)   \rReceiving objects:  38% (85/223)   \rReceiving objects:  39% (87/223)   \rReceiving objects:  40% (90/223)   \rReceiving objects:  41% (92/223)   \rReceiving objects:  42% (94/223)   \rReceiving objects:  43% (96/223)   \rReceiving objects:  44% (99/223)   \rReceiving objects:  45% (101/223)   \rReceiving objects:  46% (103/223)   \rReceiving objects:  47% (105/223)   \rReceiving objects:  48% (108/223)   \rReceiving objects:  49% (110/223)   \rReceiving objects:  50% (112/223)   \rReceiving objects:  51% (114/223)   \rReceiving objects:  52% (116/223)   \rReceiving objects:  53% (119/223)   \rReceiving objects:  54% (121/223)   \rReceiving objects:  55% (123/223)   \rReceiving objects:  56% (125/223)   \rReceiving objects:  57% (128/223)   \rReceiving objects:  58% (130/223)   \rReceiving objects:  59% (132/223)   \rReceiving objects:  60% (134/223)   \rReceiving objects:  61% (137/223)   \rReceiving objects:  62% (139/223)   \rReceiving objects:  63% (141/223)   \rReceiving objects:  64% (143/223)   \rReceiving objects:  65% (145/223)   \rReceiving objects:  66% (148/223)   \rReceiving objects:  67% (150/223)   \rReceiving objects:  68% (152/223)   \rReceiving objects:  69% (154/223)   \rReceiving objects:  70% (157/223)   \rReceiving objects:  71% (159/223)   \rReceiving objects:  72% (161/223)   \rReceiving objects:  73% (163/223)   \rReceiving objects:  74% (166/223)   \rReceiving objects:  75% (168/223)   \rReceiving objects:  76% (170/223)   \rReceiving objects:  77% (172/223)   \rReceiving objects:  78% (174/223)   \rReceiving objects:  79% (177/223)   \rReceiving objects:  80% (179/223)   \rReceiving objects:  81% (181/223)   \rReceiving objects:  82% (183/223)   \rReceiving objects:  83% (186/223)   \rReceiving objects:  84% (188/223)   \rReceiving objects:  85% (190/223)   \rremote: Total 223 (delta 0), reused 0 (delta 0), pack-reused 223\u001b[K\n",
            "Receiving objects:  86% (192/223)   \rReceiving objects:  87% (195/223)   \rReceiving objects:  88% (197/223)   \rReceiving objects:  89% (199/223)   \rReceiving objects:  90% (201/223)   \rReceiving objects:  91% (203/223)   \rReceiving objects:  92% (206/223)   \rReceiving objects:  93% (208/223)   \rReceiving objects:  94% (210/223)   \rReceiving objects:  95% (212/223)   \rReceiving objects:  96% (215/223)   \rReceiving objects:  97% (217/223)   \rReceiving objects:  98% (219/223)   \rReceiving objects:  99% (221/223)   \rReceiving objects: 100% (223/223)   \rReceiving objects: 100% (223/223), 3.45 MiB | 7.42 MiB/s, done.\n",
            "Resolving deltas:   0% (0/51)   \rResolving deltas:   1% (1/51)   \rResolving deltas:   5% (3/51)   \rResolving deltas:   9% (5/51)   \rResolving deltas:  27% (14/51)   \rResolving deltas:  33% (17/51)   \rResolving deltas:  43% (22/51)   \rResolving deltas:  45% (23/51)   \rResolving deltas:  47% (24/51)   \rResolving deltas:  50% (26/51)   \rResolving deltas:  54% (28/51)   \rResolving deltas:  60% (31/51)   \rResolving deltas:  62% (32/51)   \rResolving deltas:  64% (33/51)   \rResolving deltas:  70% (36/51)   \rResolving deltas:  72% (37/51)   \rResolving deltas:  98% (50/51)   \rResolving deltas: 100% (51/51)   \rResolving deltas: 100% (51/51), done.\n"
          ],
          "name": "stdout"
        }
      ]
    },
    {
      "cell_type": "code",
      "metadata": {
        "id": "4z6AL2XzIqpk",
        "colab_type": "code",
        "outputId": "a001fc02-ba53-4c72-f132-19671bf8b618",
        "colab": {
          "base_uri": "https://localhost:8080/",
          "height": 102
        }
      },
      "source": [
        "!git clone https://github.com/Zeta36/chess-alpha-zero.git"
      ],
      "execution_count": 14,
      "outputs": [
        {
          "output_type": "stream",
          "text": [
            "Cloning into 'chess-alpha-zero'...\n",
            "remote: Enumerating objects: 478, done.\u001b[K\n",
            "Receiving objects:   0% (1/478)   \rReceiving objects:   1% (5/478)   \rReceiving objects:   2% (10/478)   \rReceiving objects:   3% (15/478)   \rReceiving objects:   4% (20/478)   \rReceiving objects:   5% (24/478)   \rReceiving objects:   6% (29/478)   \rReceiving objects:   7% (34/478)   \rReceiving objects:   8% (39/478)   \rReceiving objects:   9% (44/478)   \rReceiving objects:  10% (48/478)   \rReceiving objects:  11% (53/478)   \rReceiving objects:  12% (58/478)   \rReceiving objects:  13% (63/478)   \rReceiving objects:  14% (67/478)   \rReceiving objects:  15% (72/478)   \rReceiving objects:  16% (77/478)   \rReceiving objects:  17% (82/478)   \rReceiving objects:  18% (87/478)   \rReceiving objects:  19% (91/478)   \rReceiving objects:  20% (96/478)   \rReceiving objects:  21% (101/478)   \rReceiving objects:  22% (106/478)   \rReceiving objects:  23% (110/478)   \rReceiving objects:  24% (115/478)   \rReceiving objects:  25% (120/478)   \rReceiving objects:  26% (125/478)   \rReceiving objects:  27% (130/478)   \rReceiving objects:  28% (134/478)   \rReceiving objects:  29% (139/478)   \rReceiving objects:  30% (144/478)   \rReceiving objects:  31% (149/478)   \rReceiving objects:  32% (153/478)   \rReceiving objects:  32% (156/478), 22.63 MiB | 22.62 MiB/s   \rReceiving objects:  33% (158/478), 22.63 MiB | 22.62 MiB/s   \rReceiving objects:  34% (163/478), 22.63 MiB | 22.62 MiB/s   \rReceiving objects:  35% (168/478), 22.63 MiB | 22.62 MiB/s   \rReceiving objects:  35% (170/478), 56.40 MiB | 28.20 MiB/s   \rReceiving objects:  36% (173/478), 56.40 MiB | 28.20 MiB/s   \rReceiving objects:  37% (177/478), 56.40 MiB | 28.20 MiB/s   \rReceiving objects:  38% (182/478), 56.40 MiB | 28.20 MiB/s   \rReceiving objects:  39% (187/478), 56.40 MiB | 28.20 MiB/s   \rReceiving objects:  40% (192/478), 56.40 MiB | 28.20 MiB/s   \rReceiving objects:  41% (196/478), 56.40 MiB | 28.20 MiB/s   \rReceiving objects:  42% (201/478), 56.40 MiB | 28.20 MiB/s   \rReceiving objects:  43% (206/478), 56.40 MiB | 28.20 MiB/s   \rReceiving objects:  44% (211/478), 56.40 MiB | 28.20 MiB/s   \rReceiving objects:  45% (216/478), 56.40 MiB | 28.20 MiB/s   \rReceiving objects:  46% (220/478), 56.40 MiB | 28.20 MiB/s   \rReceiving objects:  47% (225/478), 56.40 MiB | 28.20 MiB/s   \rReceiving objects:  48% (230/478), 56.40 MiB | 28.20 MiB/s   \rReceiving objects:  49% (235/478), 56.40 MiB | 28.20 MiB/s   \rReceiving objects:  50% (239/478), 56.40 MiB | 28.20 MiB/s   \rReceiving objects:  51% (244/478), 56.40 MiB | 28.20 MiB/s   \rReceiving objects:  51% (245/478), 91.16 MiB | 30.38 MiB/s   \rReceiving objects:  52% (249/478), 91.16 MiB | 30.38 MiB/s   \rremote: Total 478 (delta 0), reused 0 (delta 0), pack-reused 478\u001b[K\n",
            "Receiving objects:  53% (254/478), 108.27 MiB | 30.93 MiB/s   \rReceiving objects:  54% (259/478), 108.27 MiB | 30.93 MiB/s   \rReceiving objects:  55% (263/478), 108.27 MiB | 30.93 MiB/s   \rReceiving objects:  56% (268/478), 108.27 MiB | 30.93 MiB/s   \rReceiving objects:  57% (273/478), 108.27 MiB | 30.93 MiB/s   \rReceiving objects:  58% (278/478), 108.27 MiB | 30.93 MiB/s   \rReceiving objects:  59% (283/478), 108.27 MiB | 30.93 MiB/s   \rReceiving objects:  60% (287/478), 108.27 MiB | 30.93 MiB/s   \rReceiving objects:  61% (292/478), 108.27 MiB | 30.93 MiB/s   \rReceiving objects:  62% (297/478), 108.27 MiB | 30.93 MiB/s   \rReceiving objects:  63% (302/478), 108.27 MiB | 30.93 MiB/s   \rReceiving objects:  64% (306/478), 108.27 MiB | 30.93 MiB/s   \rReceiving objects:  65% (311/478), 108.27 MiB | 30.93 MiB/s   \rReceiving objects:  66% (316/478), 108.27 MiB | 30.93 MiB/s   \rReceiving objects:  67% (321/478), 108.27 MiB | 30.93 MiB/s   \rReceiving objects:  68% (326/478), 108.27 MiB | 30.93 MiB/s   \rReceiving objects:  69% (330/478), 108.27 MiB | 30.93 MiB/s   \rReceiving objects:  70% (335/478), 108.27 MiB | 30.93 MiB/s   \rReceiving objects:  71% (340/478), 108.27 MiB | 30.93 MiB/s   \rReceiving objects:  72% (345/478), 108.27 MiB | 30.93 MiB/s   \rReceiving objects:  73% (349/478), 108.27 MiB | 30.93 MiB/s   \rReceiving objects:  74% (354/478), 108.27 MiB | 30.93 MiB/s   \rReceiving objects:  75% (359/478), 108.27 MiB | 30.93 MiB/s   \rReceiving objects:  76% (364/478), 108.27 MiB | 30.93 MiB/s   \rReceiving objects:  77% (369/478), 108.27 MiB | 30.93 MiB/s   \rReceiving objects:  78% (373/478), 108.27 MiB | 30.93 MiB/s   \rReceiving objects:  79% (378/478), 108.27 MiB | 30.93 MiB/s   \rReceiving objects:  80% (383/478), 108.27 MiB | 30.93 MiB/s   \rReceiving objects:  81% (388/478), 108.27 MiB | 30.93 MiB/s   \rReceiving objects:  82% (392/478), 108.27 MiB | 30.93 MiB/s   \rReceiving objects:  83% (397/478), 108.27 MiB | 30.93 MiB/s   \rReceiving objects:  84% (402/478), 108.27 MiB | 30.93 MiB/s   \rReceiving objects:  85% (407/478), 108.27 MiB | 30.93 MiB/s   \rReceiving objects:  86% (412/478), 108.27 MiB | 30.93 MiB/s   \rReceiving objects:  87% (416/478), 108.27 MiB | 30.93 MiB/s   \rReceiving objects:  88% (421/478), 108.27 MiB | 30.93 MiB/s   \rReceiving objects:  89% (426/478), 108.27 MiB | 30.93 MiB/s   \rReceiving objects:  90% (431/478), 108.27 MiB | 30.93 MiB/s   \rReceiving objects:  91% (435/478), 108.27 MiB | 30.93 MiB/s   \rReceiving objects:  92% (440/478), 108.27 MiB | 30.93 MiB/s   \rReceiving objects:  93% (445/478), 108.27 MiB | 30.93 MiB/s   \rReceiving objects:  94% (450/478), 108.27 MiB | 30.93 MiB/s   \rReceiving objects:  95% (455/478), 108.27 MiB | 30.93 MiB/s   \rReceiving objects:  96% (459/478), 108.27 MiB | 30.93 MiB/s   \rReceiving objects:  97% (464/478), 108.27 MiB | 30.93 MiB/s   \rReceiving objects:  98% (469/478), 108.27 MiB | 30.93 MiB/s   \rReceiving objects:  99% (474/478), 108.27 MiB | 30.93 MiB/s   \rReceiving objects: 100% (478/478), 108.27 MiB | 30.93 MiB/s   \rReceiving objects: 100% (478/478), 122.38 MiB | 31.10 MiB/s, done.\n",
            "Resolving deltas:   0% (0/250)   \rResolving deltas:   3% (9/250)   \rResolving deltas:   4% (10/250)   \rResolving deltas:  10% (26/250)   \rResolving deltas:  11% (28/250)   \rResolving deltas:  17% (44/250)   \rResolving deltas:  21% (53/250)   \rResolving deltas:  22% (55/250)   \rResolving deltas:  23% (59/250)   \rResolving deltas:  24% (60/250)   \rResolving deltas:  27% (68/250)   \rResolving deltas:  28% (71/250)   \rResolving deltas:  29% (74/250)   \rResolving deltas:  32% (82/250)   \rResolving deltas:  34% (85/250)   \rResolving deltas:  35% (88/250)   \rResolving deltas:  36% (91/250)   \rResolving deltas:  38% (95/250)   \rResolving deltas:  42% (106/250)   \rResolving deltas:  44% (110/250)   \rResolving deltas:  45% (113/250)   \rResolving deltas:  46% (116/250)   \rResolving deltas:  49% (123/250)   \rResolving deltas:  50% (125/250)   \rResolving deltas:  51% (129/250)   \rResolving deltas:  54% (135/250)   \rResolving deltas:  55% (138/250)   \rResolving deltas:  57% (144/250)   \rResolving deltas:  60% (150/250)   \rResolving deltas:  68% (170/250)   \rResolving deltas:  69% (174/250)   \rResolving deltas:  70% (175/250)   \rResolving deltas:  72% (181/250)   \rResolving deltas:  75% (188/250)   \rResolving deltas:  76% (190/250)   \rResolving deltas:  88% (222/250)   \rResolving deltas:  89% (223/250)   \rResolving deltas:  90% (225/250)   \rResolving deltas:  92% (231/250)   \rResolving deltas:  95% (238/250)   \rResolving deltas:  96% (242/250)   \rResolving deltas:  98% (245/250)   \rResolving deltas:  99% (249/250)   \rResolving deltas: 100% (250/250)   \rResolving deltas: 100% (250/250), done.\n"
          ],
          "name": "stdout"
        }
      ]
    },
    {
      "cell_type": "code",
      "metadata": {
        "id": "pewKcEYII7ad",
        "colab_type": "code",
        "outputId": "525505a9-0ac1-4640-f7b0-eff2bd2be0b0",
        "colab": {
          "base_uri": "https://localhost:8080/",
          "height": 119
        }
      },
      "source": [
        "!git clone https://github.com/suragnair/alpha-zero-general.git"
      ],
      "execution_count": 15,
      "outputs": [
        {
          "output_type": "stream",
          "text": [
            "Cloning into 'alpha-zero-general'...\n",
            "remote: Enumerating objects: 927, done.\u001b[K\n",
            "remote: Total 927 (delta 0), reused 0 (delta 0), pack-reused 927\u001b[K\n",
            "Receiving objects: 100% (927/927), 230.16 MiB | 31.74 MiB/s, done.\n",
            "Resolving deltas: 100% (508/508), done.\n",
            "Checking out files: 100% (133/133), done.\n"
          ],
          "name": "stdout"
        }
      ]
    },
    {
      "cell_type": "code",
      "metadata": {
        "id": "xxNq7FWkJqL7",
        "colab_type": "code",
        "outputId": "7f9eb031-2bfc-47ff-fd41-4b57811fd1ab",
        "colab": {
          "base_uri": "https://localhost:8080/",
          "height": 136
        }
      },
      "source": [
        "!git clone https://github.com/glinscott/leela-chess.git"
      ],
      "execution_count": 16,
      "outputs": [
        {
          "output_type": "stream",
          "text": [
            "Cloning into 'leela-chess'...\n",
            "remote: Enumerating objects: 5, done.\u001b[K\n",
            "remote: Counting objects:  20% (1/5)\u001b[K\rremote: Counting objects:  40% (2/5)\u001b[K\rremote: Counting objects:  60% (3/5)\u001b[K\rremote: Counting objects:  80% (4/5)\u001b[K\rremote: Counting objects: 100% (5/5)\u001b[K\rremote: Counting objects: 100% (5/5), done.\u001b[K\n",
            "remote: Compressing objects:  25% (1/4)\u001b[K\rremote: Compressing objects:  50% (2/4)\u001b[K\rremote: Compressing objects:  75% (3/4)\u001b[K\rremote: Compressing objects: 100% (4/4)\u001b[K\rremote: Compressing objects: 100% (4/4), done.\u001b[K\n",
            "Receiving objects:   0% (1/6791)   \rReceiving objects:   1% (68/6791)   \rReceiving objects:   2% (136/6791)   \rReceiving objects:   3% (204/6791)   \rReceiving objects:   4% (272/6791)   \rReceiving objects:   5% (340/6791)   \rReceiving objects:   6% (408/6791)   \rReceiving objects:   7% (476/6791)   \rReceiving objects:   8% (544/6791)   \rReceiving objects:   9% (612/6791)   \rReceiving objects:  10% (680/6791)   \rReceiving objects:  11% (748/6791)   \rReceiving objects:  12% (815/6791)   \rReceiving objects:  13% (883/6791)   \rReceiving objects:  14% (951/6791)   \rReceiving objects:  15% (1019/6791)   \rReceiving objects:  16% (1087/6791)   \rReceiving objects:  17% (1155/6791)   \rReceiving objects:  18% (1223/6791)   \rReceiving objects:  19% (1291/6791)   \rReceiving objects:  20% (1359/6791)   \rReceiving objects:  21% (1427/6791)   \rReceiving objects:  22% (1495/6791)   \rReceiving objects:  23% (1562/6791)   \rReceiving objects:  24% (1630/6791)   \rReceiving objects:  25% (1698/6791)   \rReceiving objects:  26% (1766/6791)   \rReceiving objects:  27% (1834/6791)   \rReceiving objects:  28% (1902/6791)   \rReceiving objects:  29% (1970/6791)   \rReceiving objects:  30% (2038/6791)   \rReceiving objects:  31% (2106/6791)   \rReceiving objects:  32% (2174/6791)   \rReceiving objects:  33% (2242/6791)   \rReceiving objects:  34% (2309/6791)   \rReceiving objects:  35% (2377/6791)   \rReceiving objects:  36% (2445/6791)   \rReceiving objects:  37% (2513/6791)   \rReceiving objects:  38% (2581/6791)   \rReceiving objects:  39% (2649/6791)   \rReceiving objects:  40% (2717/6791)   \rReceiving objects:  41% (2785/6791)   \rReceiving objects:  42% (2853/6791)   \rReceiving objects:  43% (2921/6791)   \rReceiving objects:  44% (2989/6791)   \rReceiving objects:  45% (3056/6791)   \rReceiving objects:  46% (3124/6791)   \rReceiving objects:  47% (3192/6791)   \rReceiving objects:  48% (3260/6791)   \rReceiving objects:  49% (3328/6791)   \rReceiving objects:  50% (3396/6791)   \rReceiving objects:  51% (3464/6791)   \rReceiving objects:  52% (3532/6791)   \rReceiving objects:  53% (3600/6791)   \rReceiving objects:  54% (3668/6791)   \rReceiving objects:  55% (3736/6791)   \rReceiving objects:  56% (3803/6791)   \rReceiving objects:  57% (3871/6791)   \rReceiving objects:  58% (3939/6791)   \rReceiving objects:  59% (4007/6791)   \rReceiving objects:  60% (4075/6791)   \rReceiving objects:  61% (4143/6791)   \rReceiving objects:  62% (4211/6791)   \rReceiving objects:  62% (4229/6791), 16.22 MiB | 16.22 MiB/s   \rReceiving objects:  63% (4279/6791), 26.95 MiB | 17.97 MiB/s   \rReceiving objects:  64% (4347/6791), 26.95 MiB | 17.97 MiB/s   \rReceiving objects:  65% (4415/6791), 26.95 MiB | 17.97 MiB/s   \rReceiving objects:  66% (4483/6791), 26.95 MiB | 17.97 MiB/s   \rReceiving objects:  67% (4550/6791), 26.95 MiB | 17.97 MiB/s   \rReceiving objects:  68% (4618/6791), 26.95 MiB | 17.97 MiB/s   \rReceiving objects:  69% (4686/6791), 26.95 MiB | 17.97 MiB/s   \rReceiving objects:  70% (4754/6791), 26.95 MiB | 17.97 MiB/s   \rReceiving objects:  71% (4822/6791), 26.95 MiB | 17.97 MiB/s   \rReceiving objects:  72% (4890/6791), 26.95 MiB | 17.97 MiB/s   \rReceiving objects:  73% (4958/6791), 26.95 MiB | 17.97 MiB/s   \rReceiving objects:  74% (5026/6791), 26.95 MiB | 17.97 MiB/s   \rReceiving objects:  75% (5094/6791), 26.95 MiB | 17.97 MiB/s   \rReceiving objects:  76% (5162/6791), 26.95 MiB | 17.97 MiB/s   \rReceiving objects:  77% (5230/6791), 26.95 MiB | 17.97 MiB/s   \rReceiving objects:  78% (5297/6791), 26.95 MiB | 17.97 MiB/s   \rReceiving objects:  79% (5365/6791), 26.95 MiB | 17.97 MiB/s   \rReceiving objects:  80% (5433/6791), 26.95 MiB | 17.97 MiB/s   \rReceiving objects:  81% (5501/6791), 26.95 MiB | 17.97 MiB/s   \rReceiving objects:  82% (5569/6791), 26.95 MiB | 17.97 MiB/s   \rReceiving objects:  83% (5637/6791), 26.95 MiB | 17.97 MiB/s   \rReceiving objects:  84% (5705/6791), 26.95 MiB | 17.97 MiB/s   \rReceiving objects:  85% (5773/6791), 26.95 MiB | 17.97 MiB/s   \rReceiving objects:  86% (5841/6791), 26.95 MiB | 17.97 MiB/s   \rReceiving objects:  87% (5909/6791), 26.95 MiB | 17.97 MiB/s   \rReceiving objects:  88% (5977/6791), 26.95 MiB | 17.97 MiB/s   \rReceiving objects:  89% (6044/6791), 26.95 MiB | 17.97 MiB/s   \rReceiving objects:  90% (6112/6791), 26.95 MiB | 17.97 MiB/s   \rReceiving objects:  91% (6180/6791), 26.95 MiB | 17.97 MiB/s   \rReceiving objects:  92% (6248/6791), 26.95 MiB | 17.97 MiB/s   \rReceiving objects:  93% (6316/6791), 26.95 MiB | 17.97 MiB/s   \rReceiving objects:  94% (6384/6791), 26.95 MiB | 17.97 MiB/s   \rReceiving objects:  95% (6452/6791), 26.95 MiB | 17.97 MiB/s   \rReceiving objects:  96% (6520/6791), 26.95 MiB | 17.97 MiB/s   \rReceiving objects:  97% (6588/6791), 26.95 MiB | 17.97 MiB/s   \rremote: Total 6791 (delta 0), reused 0 (delta 0), pack-reused 6786\u001b[K\n",
            "Receiving objects:  98% (6656/6791), 26.95 MiB | 17.97 MiB/s   \rReceiving objects:  99% (6724/6791), 26.95 MiB | 17.97 MiB/s   \rReceiving objects: 100% (6791/6791), 26.95 MiB | 17.97 MiB/s   \rReceiving objects: 100% (6791/6791), 34.98 MiB | 18.64 MiB/s, done.\n",
            "Resolving deltas:   0% (0/4304)   \rResolving deltas:   1% (45/4304)   \rResolving deltas:   2% (98/4304)   \rResolving deltas:   3% (154/4304)   \rResolving deltas:   4% (184/4304)   \rResolving deltas:   5% (232/4304)   \rResolving deltas:   6% (277/4304)   \rResolving deltas:   7% (311/4304)   \rResolving deltas:   8% (359/4304)   \rResolving deltas:   9% (393/4304)   \rResolving deltas:  10% (442/4304)   \rResolving deltas:  11% (478/4304)   \rResolving deltas:  12% (519/4304)   \rResolving deltas:  13% (580/4304)   \rResolving deltas:  14% (615/4304)   \rResolving deltas:  15% (672/4304)   \rResolving deltas:  17% (734/4304)   \rResolving deltas:  18% (793/4304)   \rResolving deltas:  19% (845/4304)   \rResolving deltas:  20% (865/4304)   \rResolving deltas:  21% (915/4304)   \rResolving deltas:  22% (950/4304)   \rResolving deltas:  23% (995/4304)   \rResolving deltas:  24% (1059/4304)   \rResolving deltas:  25% (1096/4304)   \rResolving deltas:  26% (1122/4304)   \rResolving deltas:  27% (1185/4304)   \rResolving deltas:  28% (1213/4304)   \rResolving deltas:  29% (1258/4304)   \rResolving deltas:  30% (1302/4304)   \rResolving deltas:  31% (1342/4304)   \rResolving deltas:  32% (1383/4304)   \rResolving deltas:  33% (1429/4304)   \rResolving deltas:  34% (1465/4304)   \rResolving deltas:  35% (1545/4304)   \rResolving deltas:  36% (1577/4304)   \rResolving deltas:  37% (1596/4304)   \rResolving deltas:  38% (1660/4304)   \rResolving deltas:  39% (1684/4304)   \rResolving deltas:  40% (1743/4304)   \rResolving deltas:  41% (1766/4304)   \rResolving deltas:  42% (1809/4304)   \rResolving deltas:  43% (1880/4304)   \rResolving deltas:  44% (1928/4304)   \rResolving deltas:  45% (1945/4304)   \rResolving deltas:  46% (1994/4304)   \rResolving deltas:  47% (2025/4304)   \rResolving deltas:  48% (2075/4304)   \rResolving deltas:  49% (2110/4304)   \rResolving deltas:  59% (2556/4304)   \rResolving deltas:  60% (2590/4304)   \rResolving deltas:  61% (2635/4304)   \rResolving deltas:  63% (2712/4304)   \rResolving deltas:  64% (2758/4304)   \rResolving deltas:  65% (2814/4304)   \rResolving deltas:  66% (2878/4304)   \rResolving deltas:  67% (2896/4304)   \rResolving deltas:  68% (2967/4304)   \rResolving deltas:  69% (2994/4304)   \rResolving deltas:  70% (3024/4304)   \rResolving deltas:  71% (3061/4304)   \rResolving deltas:  72% (3125/4304)   \rResolving deltas:  75% (3252/4304)   \rResolving deltas:  76% (3273/4304)   \rResolving deltas:  78% (3397/4304)   \rResolving deltas:  79% (3422/4304)   \rResolving deltas:  80% (3448/4304)   \rResolving deltas:  81% (3489/4304)   \rResolving deltas:  82% (3537/4304)   \rResolving deltas:  83% (3587/4304)   \rResolving deltas:  84% (3625/4304)   \rResolving deltas:  85% (3659/4304)   \rResolving deltas:  86% (3721/4304)   \rResolving deltas:  87% (3755/4304)   \rResolving deltas:  88% (3792/4304)   \rResolving deltas:  89% (3831/4304)   \rResolving deltas:  90% (3874/4304)   \rResolving deltas:  91% (3918/4304)   \rResolving deltas:  92% (3967/4304)   \rResolving deltas:  93% (4021/4304)   \rResolving deltas:  94% (4077/4304)   \rResolving deltas:  95% (4094/4304)   \rResolving deltas:  96% (4133/4304)   \rResolving deltas:  97% (4178/4304)   \rResolving deltas:  98% (4224/4304)   \rResolving deltas:  99% (4278/4304)   \rResolving deltas: 100% (4304/4304)   \rResolving deltas: 100% (4304/4304), done.\n"
          ],
          "name": "stdout"
        }
      ]
    },
    {
      "cell_type": "code",
      "metadata": {
        "id": "m_srHOUII-37",
        "colab_type": "code",
        "colab": {
          "base_uri": "https://localhost:8080/",
          "height": 136
        },
        "outputId": "42fcf269-e84f-411d-e93d-700639de83a7"
      },
      "source": [
        "!git clone https://github.com/XanaduAI/pennylane.git"
      ],
      "execution_count": 18,
      "outputs": [
        {
          "output_type": "stream",
          "text": [
            "Cloning into 'pennylane'...\n",
            "remote: Enumerating objects: 130, done.\u001b[K\n",
            "remote: Counting objects: 100% (130/130), done.\u001b[K\n",
            "remote: Compressing objects: 100% (90/90), done.\u001b[K\n",
            "remote: Total 9834 (delta 83), reused 54 (delta 40), pack-reused 9704\u001b[K\n",
            "Receiving objects: 100% (9834/9834), 22.47 MiB | 23.01 MiB/s, done.\n",
            "Resolving deltas: 100% (6904/6904), done.\n"
          ],
          "name": "stdout"
        }
      ]
    },
    {
      "cell_type": "code",
      "metadata": {
        "id": "v12ktEQoJBQm",
        "colab_type": "code",
        "colab": {}
      },
      "source": [
        ""
      ],
      "execution_count": 0,
      "outputs": []
    }
  ]
}