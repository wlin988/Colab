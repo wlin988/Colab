{
  "nbformat": 4,
  "nbformat_minor": 0,
  "metadata": {
    "colab": {
      "name": "ImageCaptions.ipynb",
      "provenance": [],
      "collapsed_sections": [],
      "include_colab_link": true
    },
    "kernelspec": {
      "name": "python3",
      "display_name": "Python 3"
    }
  },
  "cells": [
    {
      "cell_type": "markdown",
      "metadata": {
        "id": "view-in-github",
        "colab_type": "text"
      },
      "source": [
        "<a href=\"https://colab.research.google.com/github/wlin988/Colab/blob/master/ImageCaptions.ipynb\" target=\"_parent\"><img src=\"https://colab.research.google.com/assets/colab-badge.svg\" alt=\"Open In Colab\"/></a>"
      ]
    },
    {
      "cell_type": "code",
      "metadata": {
        "id": "9B4V8jC0j5pq",
        "colab_type": "code",
        "colab": {
          "base_uri": "https://localhost:8080/",
          "height": 102
        },
        "outputId": "5bdc0ab0-0c4f-49ef-e62c-fb39256f2d84"
      },
      "source": [
        "!git clone https://github.com/DeepRNN/image_captioning.git\n"
      ],
      "execution_count": 1,
      "outputs": [
        {
          "output_type": "stream",
          "text": [
            "Cloning into 'image_captioning'...\n",
            "remote: Enumerating objects: 343, done.\u001b[K\n",
            "remote: Total 343 (delta 0), reused 0 (delta 0), pack-reused 343\u001b[K\n",
            "Receiving objects: 100% (343/343), 75.43 MiB | 30.66 MiB/s, done.\n",
            "Resolving deltas: 100% (150/150), done.\n"
          ],
          "name": "stdout"
        }
      ]
    },
    {
      "cell_type": "code",
      "metadata": {
        "id": "AYDeI3g3j71U",
        "colab_type": "code",
        "colab": {
          "base_uri": "https://localhost:8080/",
          "height": 136
        },
        "outputId": "31033249-f115-4f97-a447-f4595f954bca"
      },
      "source": [
        "!git clone https://github.com/Div99/Image-Captioning.git"
      ],
      "execution_count": 2,
      "outputs": [
        {
          "output_type": "stream",
          "text": [
            "Cloning into 'Image-Captioning'...\n",
            "remote: Enumerating objects: 13, done.\u001b[K\n",
            "remote: Counting objects:   7% (1/13)\u001b[K\rremote: Counting objects:  15% (2/13)\u001b[K\rremote: Counting objects:  23% (3/13)\u001b[K\rremote: Counting objects:  30% (4/13)\u001b[K\rremote: Counting objects:  38% (5/13)\u001b[K\rremote: Counting objects:  46% (6/13)\u001b[K\rremote: Counting objects:  53% (7/13)\u001b[K\rremote: Counting objects:  61% (8/13)\u001b[K\rremote: Counting objects:  69% (9/13)\u001b[K\rremote: Counting objects:  76% (10/13)\u001b[K\rremote: Counting objects:  84% (11/13)\u001b[K\rremote: Counting objects:  92% (12/13)\u001b[K\rremote: Counting objects: 100% (13/13)\u001b[K\rremote: Counting objects: 100% (13/13), done.\u001b[K\n",
            "remote: Compressing objects: 100% (8/8), done.\u001b[K\n",
            "remote: Total 464 (delta 5), reused 11 (delta 5), pack-reused 451\u001b[K\n",
            "Receiving objects: 100% (464/464), 1.21 MiB | 26.89 MiB/s, done.\n",
            "Resolving deltas: 100% (306/306), done.\n"
          ],
          "name": "stdout"
        }
      ]
    },
    {
      "cell_type": "code",
      "metadata": {
        "id": "DHco4aTeli46",
        "colab_type": "code",
        "colab": {
          "base_uri": "https://localhost:8080/",
          "height": 122
        },
        "outputId": "48e7ea35-dd3d-4adc-8c48-a404d27cf5ba"
      },
      "source": [
        "from google.colab import drive\n",
        "drive.mount('/content/drive')"
      ],
      "execution_count": 3,
      "outputs": [
        {
          "output_type": "stream",
          "text": [
            "Go to this URL in a browser: https://accounts.google.com/o/oauth2/auth?client_id=947318989803-6bn6qk8qdgf4n4g3pfee6491hc0brc4i.apps.googleusercontent.com&redirect_uri=urn%3Aietf%3Awg%3Aoauth%3A2.0%3Aoob&scope=email%20https%3A%2F%2Fwww.googleapis.com%2Fauth%2Fdocs.test%20https%3A%2F%2Fwww.googleapis.com%2Fauth%2Fdrive%20https%3A%2F%2Fwww.googleapis.com%2Fauth%2Fdrive.photos.readonly%20https%3A%2F%2Fwww.googleapis.com%2Fauth%2Fpeopleapi.readonly&response_type=code\n",
            "\n",
            "Enter your authorization code:\n",
            "··········\n",
            "Mounted at /content/drive\n"
          ],
          "name": "stdout"
        }
      ]
    },
    {
      "cell_type": "code",
      "metadata": {
        "id": "DphTGYwumbdl",
        "colab_type": "code",
        "colab": {
          "base_uri": "https://localhost:8080/",
          "height": 136
        },
        "outputId": "63a9ee11-9677-4452-a35d-79203a448d18"
      },
      "source": [
        "!git clone https://github.com/tensorflow/tensor2tensor.git\n"
      ],
      "execution_count": 4,
      "outputs": [
        {
          "output_type": "stream",
          "text": [
            "Cloning into 'tensor2tensor'...\n",
            "remote: Enumerating objects: 46, done.\u001b[K\n",
            "remote: Counting objects: 100% (46/46), done.\u001b[K\n",
            "remote: Compressing objects: 100% (45/45), done.\u001b[K\n",
            "remote: Total 30758 (delta 24), reused 23 (delta 1), pack-reused 30712\u001b[K\n",
            "Receiving objects: 100% (30758/30758), 14.31 MiB | 17.51 MiB/s, done.\n",
            "Resolving deltas: 100% (24847/24847), done.\n"
          ],
          "name": "stdout"
        }
      ]
    },
    {
      "cell_type": "code",
      "metadata": {
        "id": "UDUQSnhimdKG",
        "colab_type": "code",
        "colab": {}
      },
      "source": [
        "%load https://colab.sandbox.google.com/github/tensorflow/tensor2tensor/blob/master/tensor2tensor/notebooks/hello_t2t.ipynb\n"
      ],
      "execution_count": 0,
      "outputs": []
    },
    {
      "cell_type": "code",
      "metadata": {
        "id": "gBy5b7xfm7qg",
        "colab_type": "code",
        "colab": {
          "base_uri": "https://localhost:8080/",
          "height": 54
        },
        "outputId": "edc074fa-99f8-4108-cead-4d5d4bf5c98d"
      },
      "source": [
        "%run https://colab.sandbox.google.com/github/tensorflow/tensor2tensor/blob/master/tensor2tensor/notebooks/hello_t2t.ipynb"
      ],
      "execution_count": 8,
      "outputs": [
        {
          "output_type": "stream",
          "text": [
            "ERROR:root:File `'https://colab.sandbox.google.com/github/tensorflow/tensor2tensor/blob/master/tensor2tensor/notebooks/hello_t2t.ipynb.py'` not found.\n"
          ],
          "name": "stderr"
        }
      ]
    },
    {
      "cell_type": "code",
      "metadata": {
        "id": "2VKNk8HynIMa",
        "colab_type": "code",
        "colab": {
          "base_uri": "https://localhost:8080/",
          "height": 102
        },
        "outputId": "a540529a-793d-4658-800f-ce980d5b8542"
      },
      "source": [
        "!git clone https://github.com/ArunMichaelDsouza/tensorflow-image-detection.git"
      ],
      "execution_count": 9,
      "outputs": [
        {
          "output_type": "stream",
          "text": [
            "Cloning into 'tensorflow-image-detection'...\n",
            "remote: Enumerating objects: 121, done.\u001b[K\n",
            "remote: Total 121 (delta 0), reused 0 (delta 0), pack-reused 121\u001b[K\n",
            "Receiving objects: 100% (121/121), 1.15 MiB | 3.02 MiB/s, done.\n",
            "Resolving deltas: 100% (62/62), done.\n"
          ],
          "name": "stdout"
        }
      ]
    },
    {
      "cell_type": "code",
      "metadata": {
        "id": "--tlwOrYo2hZ",
        "colab_type": "code",
        "colab": {
          "base_uri": "https://localhost:8080/",
          "height": 102
        },
        "outputId": "ad2304bc-3627-469b-e384-f69bfae32639"
      },
      "source": [
        "!git clone https://github.com/ageitgey/face_recognition.git\n"
      ],
      "execution_count": 10,
      "outputs": [
        {
          "output_type": "stream",
          "text": [
            "Cloning into 'face_recognition'...\n",
            "remote: Enumerating objects: 793, done.\u001b[K\n",
            "remote: Total 793 (delta 0), reused 0 (delta 0), pack-reused 793\u001b[K\n",
            "Receiving objects: 100% (793/793), 101.42 MiB | 27.32 MiB/s, done.\n",
            "Resolving deltas: 100% (456/456), done.\n"
          ],
          "name": "stdout"
        }
      ]
    },
    {
      "cell_type": "code",
      "metadata": {
        "id": "ITZhk3X1pEvS",
        "colab_type": "code",
        "colab": {
          "base_uri": "https://localhost:8080/",
          "height": 153
        },
        "outputId": "779a172b-82e9-4fe1-cffb-661e9c2f7aaa"
      },
      "source": [
        "!git clone https://github.com/tensorflow/models.git"
      ],
      "execution_count": 11,
      "outputs": [
        {
          "output_type": "stream",
          "text": [
            "Cloning into 'models'...\n",
            "remote: Enumerating objects: 11, done.\u001b[K\n",
            "remote: Counting objects: 100% (11/11), done.\u001b[K\n",
            "remote: Compressing objects: 100% (11/11), done.\u001b[K\n",
            "remote: Total 31979 (delta 0), reused 11 (delta 0), pack-reused 31968\n",
            "Receiving objects: 100% (31979/31979), 511.21 MiB | 29.08 MiB/s, done.\n",
            "Resolving deltas: 100% (20239/20239), done.\n",
            "Checking out files: 100% (3133/3133), done.\n"
          ],
          "name": "stdout"
        }
      ]
    },
    {
      "cell_type": "code",
      "metadata": {
        "id": "NoowmTepph6C",
        "colab_type": "code",
        "colab": {
          "base_uri": "https://localhost:8080/",
          "height": 136
        },
        "outputId": "fb51deca-05fb-4fa1-fcd2-5f7f24a805a8"
      },
      "source": [
        "!git clone https://github.com/cedrickchee/awesome-bert-nlp.git"
      ],
      "execution_count": 12,
      "outputs": [
        {
          "output_type": "stream",
          "text": [
            "Cloning into 'awesome-bert-nlp'...\n",
            "remote: Enumerating objects: 76, done.\u001b[K\n",
            "remote: Counting objects:   1% (1/76)\u001b[K\rremote: Counting objects:   2% (2/76)\u001b[K\rremote: Counting objects:   3% (3/76)\u001b[K\rremote: Counting objects:   5% (4/76)\u001b[K\rremote: Counting objects:   6% (5/76)\u001b[K\rremote: Counting objects:   7% (6/76)\u001b[K\rremote: Counting objects:   9% (7/76)\u001b[K\rremote: Counting objects:  10% (8/76)\u001b[K\rremote: Counting objects:  11% (9/76)\u001b[K\rremote: Counting objects:  13% (10/76)\u001b[K\rremote: Counting objects:  14% (11/76)\u001b[K\rremote: Counting objects:  15% (12/76)\u001b[K\rremote: Counting objects:  17% (13/76)\u001b[K\rremote: Counting objects:  18% (14/76)\u001b[K\rremote: Counting objects:  19% (15/76)\u001b[K\rremote: Counting objects:  21% (16/76)\u001b[K\rremote: Counting objects:  22% (17/76)\u001b[K\rremote: Counting objects:  23% (18/76)\u001b[K\rremote: Counting objects:  25% (19/76)\u001b[K\rremote: Counting objects:  26% (20/76)\u001b[K\rremote: Counting objects:  27% (21/76)\u001b[K\rremote: Counting objects:  28% (22/76)\u001b[K\rremote: Counting objects:  30% (23/76)\u001b[K\rremote: Counting objects:  31% (24/76)\u001b[K\rremote: Counting objects:  32% (25/76)\u001b[K\rremote: Counting objects:  34% (26/76)\u001b[K\rremote: Counting objects:  35% (27/76)\u001b[K\rremote: Counting objects:  36% (28/76)\u001b[K\rremote: Counting objects:  38% (29/76)\u001b[K\rremote: Counting objects:  39% (30/76)\u001b[K\rremote: Counting objects:  40% (31/76)\u001b[K\rremote: Counting objects:  42% (32/76)\u001b[K\rremote: Counting objects:  43% (33/76)\u001b[K\rremote: Counting objects:  44% (34/76)\u001b[K\rremote: Counting objects:  46% (35/76)\u001b[K\rremote: Counting objects:  47% (36/76)\u001b[K\rremote: Counting objects:  48% (37/76)\u001b[K\rremote: Counting objects:  50% (38/76)\u001b[K\rremote: Counting objects:  51% (39/76)\u001b[K\rremote: Counting objects:  52% (40/76)\u001b[K\rremote: Counting objects:  53% (41/76)\u001b[K\rremote: Counting objects:  55% (42/76)\u001b[K\rremote: Counting objects:  56% (43/76)\u001b[K\rremote: Counting objects:  57% (44/76)\u001b[K\rremote: Counting objects:  59% (45/76)\u001b[K\rremote: Counting objects:  60% (46/76)\u001b[K\rremote: Counting objects:  61% (47/76)\u001b[K\rremote: Counting objects:  63% (48/76)\u001b[K\rremote: Counting objects:  64% (49/76)\u001b[K\rremote: Counting objects:  65% (50/76)\u001b[K\rremote: Counting objects:  67% (51/76)\u001b[K\rremote: Counting objects:  68% (52/76)\u001b[K\rremote: Counting objects:  69% (53/76)\u001b[K\rremote: Counting objects:  71% (54/76)\u001b[K\rremote: Counting objects:  72% (55/76)\u001b[K\rremote: Counting objects:  73% (56/76)\u001b[K\rremote: Counting objects:  75% (57/76)\u001b[K\rremote: Counting objects:  76% (58/76)\u001b[K\rremote: Counting objects:  77% (59/76)\u001b[K\rremote: Counting objects:  78% (60/76)\u001b[K\rremote: Counting objects:  80% (61/76)\u001b[K\rremote: Counting objects:  81% (62/76)\u001b[K\rremote: Counting objects:  82% (63/76)\u001b[K\rremote: Counting objects:  84% (64/76)\u001b[K\rremote: Counting objects:  85% (65/76)\u001b[K\rremote: Counting objects:  86% (66/76)\u001b[K\rremote: Counting objects:  88% (67/76)\u001b[K\rremote: Counting objects:  89% (68/76)\u001b[K\rremote: Counting objects:  90% (69/76)\u001b[K\rremote: Counting objects:  92% (70/76)\u001b[K\rremote: Counting objects:  93% (71/76)\u001b[K\rremote: Counting objects:  94% (72/76)\u001b[K\rremote: Counting objects:  96% (73/76)\u001b[K\rremote: Counting objects:  97% (74/76)\u001b[K\rremote: Counting objects:  98% (75/76)\u001b[K\rremote: Counting objects: 100% (76/76)\u001b[K\rremote: Counting objects: 100% (76/76), done.\u001b[K\n",
            "remote: Compressing objects:   1% (1/76)\u001b[K\rremote: Compressing objects:   2% (2/76)\u001b[K\rremote: Compressing objects:   3% (3/76)\u001b[K\rremote: Compressing objects:   5% (4/76)\u001b[K\rremote: Compressing objects:   6% (5/76)\u001b[K\rremote: Compressing objects:   7% (6/76)\u001b[K\rremote: Compressing objects:   9% (7/76)\u001b[K\rremote: Compressing objects:  10% (8/76)\u001b[K\rremote: Compressing objects:  11% (9/76)\u001b[K\rremote: Compressing objects:  13% (10/76)\u001b[K\rremote: Compressing objects:  14% (11/76)\u001b[K\rremote: Compressing objects:  15% (12/76)\u001b[K\rremote: Compressing objects:  17% (13/76)\u001b[K\rremote: Compressing objects:  18% (14/76)\u001b[K\rremote: Compressing objects:  19% (15/76)\u001b[K\rremote: Compressing objects:  21% (16/76)\u001b[K\rremote: Compressing objects:  22% (17/76)\u001b[K\rremote: Compressing objects:  23% (18/76)\u001b[K\rremote: Compressing objects:  25% (19/76)\u001b[K\rremote: Compressing objects:  26% (20/76)\u001b[K\rremote: Compressing objects:  27% (21/76)\u001b[K\rremote: Compressing objects:  28% (22/76)\u001b[K\rremote: Compressing objects:  30% (23/76)\u001b[K\rremote: Compressing objects:  31% (24/76)\u001b[K\rremote: Compressing objects:  32% (25/76)\u001b[K\rremote: Compressing objects:  34% (26/76)\u001b[K\rremote: Compressing objects:  35% (27/76)\u001b[K\rremote: Compressing objects:  36% (28/76)\u001b[K\rremote: Compressing objects:  38% (29/76)\u001b[K\rremote: Compressing objects:  39% (30/76)\u001b[K\rremote: Compressing objects:  40% (31/76)\u001b[K\rremote: Compressing objects:  42% (32/76)\u001b[K\rremote: Compressing objects:  43% (33/76)\u001b[K\rremote: Compressing objects:  44% (34/76)\u001b[K\rremote: Compressing objects:  46% (35/76)\u001b[K\rremote: Compressing objects:  47% (36/76)\u001b[K\rremote: Compressing objects:  48% (37/76)\u001b[K\rremote: Compressing objects:  50% (38/76)\u001b[K\rremote: Compressing objects:  51% (39/76)\u001b[K\rremote: Compressing objects:  52% (40/76)\u001b[K\rremote: Compressing objects:  53% (41/76)\u001b[K\rremote: Compressing objects:  55% (42/76)\u001b[K\rremote: Compressing objects:  56% (43/76)\u001b[K\rremote: Compressing objects:  57% (44/76)\u001b[K\rremote: Compressing objects:  59% (45/76)\u001b[K\rremote: Compressing objects:  60% (46/76)\u001b[K\rremote: Compressing objects:  61% (47/76)\u001b[K\rremote: Compressing objects:  63% (48/76)\u001b[K\rremote: Compressing objects:  64% (49/76)\u001b[K\rremote: Compressing objects:  65% (50/76)\u001b[K\rremote: Compressing objects:  67% (51/76)\u001b[K\rremote: Compressing objects:  68% (52/76)\u001b[K\rremote: Compressing objects:  69% (53/76)\u001b[K\rremote: Compressing objects:  71% (54/76)\u001b[K\rremote: Compressing objects:  72% (55/76)\u001b[K\rremote: Compressing objects:  73% (56/76)\u001b[K\rremote: Compressing objects:  75% (57/76)\u001b[K\rremote: Compressing objects:  76% (58/76)\u001b[K\rremote: Compressing objects:  77% (59/76)\u001b[K\rremote: Compressing objects:  78% (60/76)\u001b[K\rremote: Compressing objects:  80% (61/76)\u001b[K\rremote: Compressing objects:  81% (62/76)\u001b[K\rremote: Compressing objects:  82% (63/76)\u001b[K\rremote: Compressing objects:  84% (64/76)\u001b[K\rremote: Compressing objects:  85% (65/76)\u001b[K\rremote: Compressing objects:  86% (66/76)\u001b[K\rremote: Compressing objects:  88% (67/76)\u001b[K\rremote: Compressing objects:  89% (68/76)\u001b[K\rremote: Compressing objects:  90% (69/76)\u001b[K\rremote: Compressing objects:  92% (70/76)\u001b[K\rremote: Compressing objects:  93% (71/76)\u001b[K\rremote: Compressing objects:  94% (72/76)\u001b[K\rremote: Compressing objects:  96% (73/76)\u001b[K\rremote: Compressing objects:  97% (74/76)\u001b[K\rremote: Compressing objects:  98% (75/76)\u001b[K\rremote: Compressing objects: 100% (76/76)\u001b[K\rremote: Compressing objects: 100% (76/76), done.\u001b[K\n",
            "Receiving objects:   0% (1/141)   \rReceiving objects:   1% (2/141)   \rReceiving objects:   2% (3/141)   \rReceiving objects:   3% (5/141)   \rReceiving objects:   4% (6/141)   \rReceiving objects:   5% (8/141)   \rReceiving objects:   6% (9/141)   \rReceiving objects:   7% (10/141)   \rReceiving objects:   8% (12/141)   \rReceiving objects:   9% (13/141)   \rReceiving objects:  10% (15/141)   \rReceiving objects:  11% (16/141)   \rReceiving objects:  12% (17/141)   \rReceiving objects:  13% (19/141)   \rReceiving objects:  14% (20/141)   \rReceiving objects:  15% (22/141)   \rReceiving objects:  16% (23/141)   \rReceiving objects:  17% (24/141)   \rReceiving objects:  18% (26/141)   \rReceiving objects:  19% (27/141)   \rReceiving objects:  20% (29/141)   \rReceiving objects:  21% (30/141)   \rReceiving objects:  22% (32/141)   \rReceiving objects:  23% (33/141)   \rReceiving objects:  24% (34/141)   \rReceiving objects:  25% (36/141)   \rReceiving objects:  26% (37/141)   \rReceiving objects:  27% (39/141)   \rReceiving objects:  28% (40/141)   \rReceiving objects:  29% (41/141)   \rReceiving objects:  30% (43/141)   \rReceiving objects:  31% (44/141)   \rReceiving objects:  32% (46/141)   \rReceiving objects:  33% (47/141)   \rReceiving objects:  34% (48/141)   \rReceiving objects:  35% (50/141)   \rReceiving objects:  36% (51/141)   \rReceiving objects:  37% (53/141)   \rReceiving objects:  38% (54/141)   \rReceiving objects:  39% (55/141)   \rReceiving objects:  40% (57/141)   \rReceiving objects:  41% (58/141)   \rReceiving objects:  42% (60/141)   \rReceiving objects:  43% (61/141)   \rReceiving objects:  44% (63/141)   \rReceiving objects:  45% (64/141)   \rReceiving objects:  46% (65/141)   \rReceiving objects:  47% (67/141)   \rReceiving objects:  48% (68/141)   \rReceiving objects:  49% (70/141)   \rReceiving objects:  50% (71/141)   \rReceiving objects:  51% (72/141)   \rReceiving objects:  52% (74/141)   \rReceiving objects:  53% (75/141)   \rReceiving objects:  54% (77/141)   \rReceiving objects:  55% (78/141)   \rReceiving objects:  56% (79/141)   \rReceiving objects:  57% (81/141)   \rReceiving objects:  58% (82/141)   \rremote: Total 141 (delta 24), reused 0 (delta 0), pack-reused 65\u001b[K\n",
            "Receiving objects:  59% (84/141)   \rReceiving objects:  60% (85/141)   \rReceiving objects:  61% (87/141)   \rReceiving objects:  62% (88/141)   \rReceiving objects:  63% (89/141)   \rReceiving objects:  64% (91/141)   \rReceiving objects:  65% (92/141)   \rReceiving objects:  66% (94/141)   \rReceiving objects:  67% (95/141)   \rReceiving objects:  68% (96/141)   \rReceiving objects:  69% (98/141)   \rReceiving objects:  70% (99/141)   \rReceiving objects:  71% (101/141)   \rReceiving objects:  72% (102/141)   \rReceiving objects:  73% (103/141)   \rReceiving objects:  74% (105/141)   \rReceiving objects:  75% (106/141)   \rReceiving objects:  76% (108/141)   \rReceiving objects:  77% (109/141)   \rReceiving objects:  78% (110/141)   \rReceiving objects:  79% (112/141)   \rReceiving objects:  80% (113/141)   \rReceiving objects:  81% (115/141)   \rReceiving objects:  82% (116/141)   \rReceiving objects:  83% (118/141)   \rReceiving objects:  84% (119/141)   \rReceiving objects:  85% (120/141)   \rReceiving objects:  86% (122/141)   \rReceiving objects:  87% (123/141)   \rReceiving objects:  88% (125/141)   \rReceiving objects:  89% (126/141)   \rReceiving objects:  90% (127/141)   \rReceiving objects:  91% (129/141)   \rReceiving objects:  92% (130/141)   \rReceiving objects:  93% (132/141)   \rReceiving objects:  94% (133/141)   \rReceiving objects:  95% (134/141)   \rReceiving objects:  96% (136/141)   \rReceiving objects:  97% (137/141)   \rReceiving objects:  98% (139/141)   \rReceiving objects:  99% (140/141)   \rReceiving objects: 100% (141/141)   \rReceiving objects: 100% (141/141), 53.03 KiB | 835.00 KiB/s, done.\n",
            "Resolving deltas:   0% (0/43)   \rResolving deltas:  76% (33/43)   \rResolving deltas: 100% (43/43)   \rResolving deltas: 100% (43/43), done.\n"
          ],
          "name": "stdout"
        }
      ]
    },
    {
      "cell_type": "code",
      "metadata": {
        "id": "jyAxvEgjpqYa",
        "colab_type": "code",
        "colab": {}
      },
      "source": [
        ""
      ],
      "execution_count": 0,
      "outputs": []
    }
  ]
}