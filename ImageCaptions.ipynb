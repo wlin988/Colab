{
  "nbformat": 4,
  "nbformat_minor": 0,
  "metadata": {
    "colab": {
      "name": "ImageCaptions.ipynb",
      "provenance": [],
      "collapsed_sections": [],
      "include_colab_link": true
    },
    "kernelspec": {
      "name": "python3",
      "display_name": "Python 3"
    },
    "accelerator": "TPU"
  },
  "cells": [
    {
      "cell_type": "markdown",
      "metadata": {
        "id": "view-in-github",
        "colab_type": "text"
      },
      "source": [
        "<a href=\"https://colab.research.google.com/github/wlin988/Colab/blob/master/ImageCaptions.ipynb\" target=\"_parent\"><img src=\"https://colab.research.google.com/assets/colab-badge.svg\" alt=\"Open In Colab\"/></a>"
      ]
    },
    {
      "cell_type": "code",
      "metadata": {
        "id": "A3B1starRY2g",
        "colab_type": "code",
        "colab": {}
      },
      "source": [
        "#from google.colab import drive\n",
        "#drive.mount('/content/drive')"
      ],
      "execution_count": 0,
      "outputs": []
    },
    {
      "cell_type": "code",
      "metadata": {
        "id": "4nER-5ajGFmK",
        "colab_type": "code",
        "colab": {}
      },
      "source": [
        "#from google.colab import drive\n",
        "#drive.mount('/gdrive')"
      ],
      "execution_count": 0,
      "outputs": []
    },
    {
      "cell_type": "code",
      "metadata": {
        "id": "GQSOhe6iGENM",
        "colab_type": "code",
        "colab": {}
      },
      "source": [
        "#with open('/gdrive/My Drive/foo.txt', 'w') as f:\n",
        "#  f.write('Hello Google Drive!')\n",
        "#!cat '/gdrive/My Drive/foo.txt'"
      ],
      "execution_count": 0,
      "outputs": []
    },
    {
      "cell_type": "code",
      "metadata": {
        "id": "9B4V8jC0j5pq",
        "colab_type": "code",
        "outputId": "ac917082-17e3-4850-fe6e-125be7a8b749",
        "colab": {
          "base_uri": "https://localhost:8080/",
          "height": 102
        }
      },
      "source": [
        "!git clone https://github.com/DeepRNN/image_captioning.git\n"
      ],
      "execution_count": 4,
      "outputs": [
        {
          "output_type": "stream",
          "text": [
            "Cloning into 'image_captioning'...\n",
            "remote: Enumerating objects: 343, done.\u001b[K\n",
            "remote: Total 343 (delta 0), reused 0 (delta 0), pack-reused 343\u001b[K\n",
            "Receiving objects: 100% (343/343), 75.43 MiB | 47.18 MiB/s, done.\n",
            "Resolving deltas: 100% (150/150), done.\n"
          ],
          "name": "stdout"
        }
      ]
    },
    {
      "cell_type": "code",
      "metadata": {
        "id": "AYDeI3g3j71U",
        "colab_type": "code",
        "outputId": "4c525aad-7cca-43ca-b58b-93829623aab2",
        "colab": {
          "base_uri": "https://localhost:8080/",
          "height": 102
        }
      },
      "source": [
        "!git clone https://github.com/Div99/Image-Captioning.git"
      ],
      "execution_count": 5,
      "outputs": [
        {
          "output_type": "stream",
          "text": [
            "Cloning into 'Image-Captioning'...\n",
            "remote: Enumerating objects: 464, done.\u001b[K\n",
            "Receiving objects:   0% (1/464)   \rReceiving objects:   1% (5/464)   \rReceiving objects:   2% (10/464)   \rReceiving objects:   3% (14/464)   \rReceiving objects:   4% (19/464)   \rReceiving objects:   5% (24/464)   \rReceiving objects:   6% (28/464)   \rReceiving objects:   7% (33/464)   \rReceiving objects:   8% (38/464)   \rReceiving objects:   9% (42/464)   \rReceiving objects:  10% (47/464)   \rReceiving objects:  11% (52/464)   \rReceiving objects:  12% (56/464)   \rReceiving objects:  13% (61/464)   \rReceiving objects:  14% (65/464)   \rReceiving objects:  15% (70/464)   \rReceiving objects:  16% (75/464)   \rReceiving objects:  17% (79/464)   \rReceiving objects:  18% (84/464)   \rReceiving objects:  19% (89/464)   \rReceiving objects:  20% (93/464)   \rReceiving objects:  21% (98/464)   \rReceiving objects:  22% (103/464)   \rReceiving objects:  23% (107/464)   \rReceiving objects:  24% (112/464)   \rReceiving objects:  25% (116/464)   \rReceiving objects:  26% (121/464)   \rReceiving objects:  27% (126/464)   \rReceiving objects:  28% (130/464)   \rReceiving objects:  29% (135/464)   \rReceiving objects:  30% (140/464)   \rReceiving objects:  31% (144/464)   \rReceiving objects:  32% (149/464)   \rReceiving objects:  33% (154/464)   \rReceiving objects:  34% (158/464)   \rReceiving objects:  35% (163/464)   \rReceiving objects:  36% (168/464)   \rReceiving objects:  37% (172/464)   \rReceiving objects:  38% (177/464)   \rReceiving objects:  39% (181/464)   \rReceiving objects:  40% (186/464)   \rReceiving objects:  41% (191/464)   \rReceiving objects:  42% (195/464)   \rReceiving objects:  43% (200/464)   \rReceiving objects:  44% (205/464)   \rReceiving objects:  45% (209/464)   \rReceiving objects:  46% (214/464)   \rReceiving objects:  47% (219/464)   \rReceiving objects:  48% (223/464)   \rReceiving objects:  49% (228/464)   \rReceiving objects:  50% (232/464)   \rReceiving objects:  51% (237/464)   \rReceiving objects:  52% (242/464)   \rReceiving objects:  53% (246/464)   \rReceiving objects:  54% (251/464)   \rReceiving objects:  55% (256/464)   \rReceiving objects:  56% (260/464)   \rReceiving objects:  57% (265/464)   \rReceiving objects:  58% (270/464)   \rReceiving objects:  59% (274/464)   \rReceiving objects:  60% (279/464)   \rReceiving objects:  61% (284/464)   \rReceiving objects:  62% (288/464)   \rReceiving objects:  63% (293/464)   \rReceiving objects:  64% (297/464)   \rReceiving objects:  65% (302/464)   \rReceiving objects:  66% (307/464)   \rReceiving objects:  67% (311/464)   \rReceiving objects:  68% (316/464)   \rReceiving objects:  69% (321/464)   \rReceiving objects:  70% (325/464)   \rReceiving objects:  71% (330/464)   \rReceiving objects:  72% (335/464)   \rReceiving objects:  73% (339/464)   \rReceiving objects:  74% (344/464)   \rReceiving objects:  75% (348/464)   \rReceiving objects:  76% (353/464)   \rReceiving objects:  77% (358/464)   \rReceiving objects:  78% (362/464)   \rReceiving objects:  79% (367/464)   \rReceiving objects:  80% (372/464)   \rReceiving objects:  81% (376/464)   \rReceiving objects:  82% (381/464)   \rReceiving objects:  83% (386/464)   \rReceiving objects:  84% (390/464)   \rReceiving objects:  85% (395/464)   \rReceiving objects:  86% (400/464)   \rReceiving objects:  87% (404/464)   \rReceiving objects:  88% (409/464)   \rReceiving objects:  89% (413/464)   \rReceiving objects:  90% (418/464)   \rReceiving objects:  91% (423/464)   \rReceiving objects:  92% (427/464)   \rremote: Total 464 (delta 0), reused 0 (delta 0), pack-reused 464\u001b[K\n",
            "Receiving objects:  93% (432/464)   \rReceiving objects:  94% (437/464)   \rReceiving objects:  95% (441/464)   \rReceiving objects:  96% (446/464)   \rReceiving objects:  97% (451/464)   \rReceiving objects:  98% (455/464)   \rReceiving objects:  99% (460/464)   \rReceiving objects: 100% (464/464)   \rReceiving objects: 100% (464/464), 1.21 MiB | 9.09 MiB/s, done.\n",
            "Resolving deltas:   0% (0/309)   \rResolving deltas:   1% (4/309)   \rResolving deltas:   2% (8/309)   \rResolving deltas:   3% (10/309)   \rResolving deltas:   4% (13/309)   \rResolving deltas:   5% (16/309)   \rResolving deltas:   6% (19/309)   \rResolving deltas:   7% (22/309)   \rResolving deltas:   8% (25/309)   \rResolving deltas:   9% (28/309)   \rResolving deltas:  10% (31/309)   \rResolving deltas:  11% (34/309)   \rResolving deltas:  12% (38/309)   \rResolving deltas:  13% (41/309)   \rResolving deltas:  17% (55/309)   \rResolving deltas:  18% (57/309)   \rResolving deltas:  20% (62/309)   \rResolving deltas:  22% (71/309)   \rResolving deltas:  23% (74/309)   \rResolving deltas:  25% (80/309)   \rResolving deltas:  30% (94/309)   \rResolving deltas:  33% (102/309)   \rResolving deltas:  43% (134/309)   \rResolving deltas:  49% (152/309)   \rResolving deltas:  68% (211/309)   \rResolving deltas:  70% (218/309)   \rResolving deltas:  77% (238/309)   \rResolving deltas:  78% (244/309)   \rResolving deltas:  79% (246/309)   \rResolving deltas:  80% (249/309)   \rResolving deltas:  81% (251/309)   \rResolving deltas:  82% (255/309)   \rResolving deltas:  83% (259/309)   \rResolving deltas:  91% (284/309)   \rResolving deltas:  93% (290/309)   \rResolving deltas:  94% (291/309)   \rResolving deltas:  97% (302/309)   \rResolving deltas:  98% (305/309)   \rResolving deltas:  99% (307/309)   \rResolving deltas: 100% (309/309)   \rResolving deltas: 100% (309/309), done.\n"
          ],
          "name": "stdout"
        }
      ]
    },
    {
      "cell_type": "code",
      "metadata": {
        "id": "DphTGYwumbdl",
        "colab_type": "code",
        "outputId": "c75f4576-a0f4-47f9-d292-f4e986cb2f0a",
        "colab": {
          "base_uri": "https://localhost:8080/",
          "height": 136
        }
      },
      "source": [
        "!git clone https://github.com/tensorflow/tensor2tensor.git\n"
      ],
      "execution_count": 6,
      "outputs": [
        {
          "output_type": "stream",
          "text": [
            "Cloning into 'tensor2tensor'...\n",
            "remote: Enumerating objects: 32, done.\u001b[K\n",
            "remote: Counting objects:   3% (1/32)\u001b[K\rremote: Counting objects:   6% (2/32)\u001b[K\rremote: Counting objects:   9% (3/32)\u001b[K\rremote: Counting objects:  12% (4/32)\u001b[K\rremote: Counting objects:  15% (5/32)\u001b[K\rremote: Counting objects:  18% (6/32)\u001b[K\rremote: Counting objects:  21% (7/32)\u001b[K\rremote: Counting objects:  25% (8/32)\u001b[K\rremote: Counting objects:  28% (9/32)\u001b[K\rremote: Counting objects:  31% (10/32)\u001b[K\rremote: Counting objects:  34% (11/32)\u001b[K\rremote: Counting objects:  37% (12/32)\u001b[K\rremote: Counting objects:  40% (13/32)\u001b[K\rremote: Counting objects:  43% (14/32)\u001b[K\rremote: Counting objects:  46% (15/32)\u001b[K\rremote: Counting objects:  50% (16/32)\u001b[K\rremote: Counting objects:  53% (17/32)\u001b[K\rremote: Counting objects:  56% (18/32)\u001b[K\rremote: Counting objects:  59% (19/32)\u001b[K\rremote: Counting objects:  62% (20/32)\u001b[K\rremote: Counting objects:  65% (21/32)\u001b[K\rremote: Counting objects:  68% (22/32)\u001b[K\rremote: Counting objects:  71% (23/32)\u001b[K\rremote: Counting objects:  75% (24/32)\u001b[K\rremote: Counting objects:  78% (25/32)\u001b[K\rremote: Counting objects:  81% (26/32)\u001b[K\rremote: Counting objects:  84% (27/32)\u001b[K\rremote: Counting objects:  87% (28/32)\u001b[K\rremote: Counting objects:  90% (29/32)\u001b[K\rremote: Counting objects:  93% (30/32)\u001b[K\rremote: Counting objects:  96% (31/32)\u001b[K\rremote: Counting objects: 100% (32/32)\u001b[K\rremote: Counting objects: 100% (32/32), done.\u001b[K\n",
            "remote: Compressing objects: 100% (32/32), done.\u001b[K\n",
            "remote: Total 31010 (delta 19), reused 8 (delta 0), pack-reused 30978\u001b[K\n",
            "Receiving objects: 100% (31010/31010), 14.38 MiB | 23.53 MiB/s, done.\n",
            "Resolving deltas: 100% (25057/25057), done.\n"
          ],
          "name": "stdout"
        }
      ]
    },
    {
      "cell_type": "code",
      "metadata": {
        "id": "RKpVqhl98dgE",
        "colab_type": "code",
        "outputId": "eab2ef84-3ed7-4745-9098-936ed99b6715",
        "colab": {
          "base_uri": "https://localhost:8080/",
          "height": 136
        }
      },
      "source": [
        "!git clone https://github.com/awslabs/sockeye.git"
      ],
      "execution_count": 7,
      "outputs": [
        {
          "output_type": "stream",
          "text": [
            "Cloning into 'sockeye'...\n",
            "remote: Enumerating objects: 61, done.\u001b[K\n",
            "remote: Counting objects: 100% (61/61), done.\u001b[K\n",
            "remote: Compressing objects: 100% (46/46), done.\u001b[K\n",
            "remote: Total 6557 (delta 26), reused 27 (delta 14), pack-reused 6496\u001b[K\n",
            "Receiving objects: 100% (6557/6557), 7.98 MiB | 19.83 MiB/s, done.\n",
            "Resolving deltas: 100% (4958/4958), done.\n"
          ],
          "name": "stdout"
        }
      ]
    },
    {
      "cell_type": "code",
      "metadata": {
        "id": "UDUQSnhimdKG",
        "colab_type": "code",
        "colab": {}
      },
      "source": [
        "%load https://colab.sandbox.google.com/github/tensorflow/tensor2tensor/blob/master/tensor2tensor/notebooks/hello_t2t.ipynb\n"
      ],
      "execution_count": 0,
      "outputs": []
    },
    {
      "cell_type": "code",
      "metadata": {
        "id": "gBy5b7xfm7qg",
        "colab_type": "code",
        "colab": {}
      },
      "source": [
        "#%run https://colab.sandbox.google.com/github/tensorflow/tensor2tensor/blob/master/tensor2tensor/notebooks/hello_t2t.ipynb"
      ],
      "execution_count": 0,
      "outputs": []
    },
    {
      "cell_type": "code",
      "metadata": {
        "id": "2VKNk8HynIMa",
        "colab_type": "code",
        "outputId": "26d13823-d725-4fe9-ca7b-dbfd375c06f0",
        "colab": {
          "base_uri": "https://localhost:8080/",
          "height": 102
        }
      },
      "source": [
        "!git clone https://github.com/ArunMichaelDsouza/tensorflow-image-detection.git"
      ],
      "execution_count": 10,
      "outputs": [
        {
          "output_type": "stream",
          "text": [
            "Cloning into 'tensorflow-image-detection'...\n",
            "remote: Enumerating objects: 121, done.\u001b[K\n",
            "Receiving objects:   0% (1/121)   \rReceiving objects:   1% (2/121)   \rReceiving objects:   2% (3/121)   \rReceiving objects:   3% (4/121)   \rReceiving objects:   4% (5/121)   \rReceiving objects:   5% (7/121)   \rReceiving objects:   6% (8/121)   \rReceiving objects:   7% (9/121)   \rReceiving objects:   8% (10/121)   \rReceiving objects:   9% (11/121)   \rReceiving objects:  10% (13/121)   \rReceiving objects:  11% (14/121)   \rReceiving objects:  12% (15/121)   \rReceiving objects:  13% (16/121)   \rReceiving objects:  14% (17/121)   \rReceiving objects:  15% (19/121)   \rReceiving objects:  16% (20/121)   \rReceiving objects:  17% (21/121)   \rReceiving objects:  18% (22/121)   \rReceiving objects:  19% (23/121)   \rReceiving objects:  20% (25/121)   \rReceiving objects:  21% (26/121)   \rReceiving objects:  22% (27/121)   \rReceiving objects:  23% (28/121)   \rReceiving objects:  24% (30/121)   \rReceiving objects:  25% (31/121)   \rReceiving objects:  26% (32/121)   \rReceiving objects:  27% (33/121)   \rReceiving objects:  28% (34/121)   \rReceiving objects:  29% (36/121)   \rReceiving objects:  30% (37/121)   \rReceiving objects:  31% (38/121)   \rReceiving objects:  32% (39/121)   \rReceiving objects:  33% (40/121)   \rReceiving objects:  34% (42/121)   \rReceiving objects:  35% (43/121)   \rReceiving objects:  36% (44/121)   \rReceiving objects:  37% (45/121)   \rReceiving objects:  38% (46/121)   \rReceiving objects:  39% (48/121)   \rReceiving objects:  40% (49/121)   \rReceiving objects:  41% (50/121)   \rReceiving objects:  42% (51/121)   \rReceiving objects:  43% (53/121)   \rReceiving objects:  44% (54/121)   \rReceiving objects:  45% (55/121)   \rReceiving objects:  46% (56/121)   \rReceiving objects:  47% (57/121)   \rReceiving objects:  48% (59/121)   \rReceiving objects:  49% (60/121)   \rReceiving objects:  50% (61/121)   \rReceiving objects:  51% (62/121)   \rReceiving objects:  52% (63/121)   \rReceiving objects:  53% (65/121)   \rReceiving objects:  54% (66/121)   \rReceiving objects:  55% (67/121)   \rReceiving objects:  56% (68/121)   \rReceiving objects:  57% (69/121)   \rReceiving objects:  58% (71/121)   \rReceiving objects:  59% (72/121)   \rReceiving objects:  60% (73/121)   \rReceiving objects:  61% (74/121)   \rReceiving objects:  62% (76/121)   \rReceiving objects:  63% (77/121)   \rReceiving objects:  64% (78/121)   \rReceiving objects:  65% (79/121)   \rReceiving objects:  66% (80/121)   \rReceiving objects:  67% (82/121)   \rReceiving objects:  68% (83/121)   \rReceiving objects:  69% (84/121)   \rReceiving objects:  70% (85/121)   \rReceiving objects:  71% (86/121)   \rReceiving objects:  72% (88/121)   \rReceiving objects:  73% (89/121)   \rReceiving objects:  74% (90/121)   \rReceiving objects:  75% (91/121)   \rReceiving objects:  76% (92/121)   \rReceiving objects:  77% (94/121)   \rReceiving objects:  78% (95/121)   \rReceiving objects:  79% (96/121)   \rReceiving objects:  80% (97/121)   \rReceiving objects:  81% (99/121)   \rReceiving objects:  82% (100/121)   \rReceiving objects:  83% (101/121)   \rReceiving objects:  84% (102/121)   \rReceiving objects:  85% (103/121)   \rremote: Total 121 (delta 0), reused 0 (delta 0), pack-reused 121\n",
            "Receiving objects:  86% (105/121)   \rReceiving objects:  87% (106/121)   \rReceiving objects:  88% (107/121)   \rReceiving objects:  89% (108/121)   \rReceiving objects:  90% (109/121)   \rReceiving objects:  91% (111/121)   \rReceiving objects:  92% (112/121)   \rReceiving objects:  93% (113/121)   \rReceiving objects:  94% (114/121)   \rReceiving objects:  95% (115/121)   \rReceiving objects:  96% (117/121)   \rReceiving objects:  97% (118/121)   \rReceiving objects:  98% (119/121)   \rReceiving objects:  99% (120/121)   \rReceiving objects: 100% (121/121)   \rReceiving objects: 100% (121/121), 1.15 MiB | 8.59 MiB/s, done.\n",
            "Resolving deltas:   0% (0/62)   \rResolving deltas:   1% (1/62)   \rResolving deltas:   3% (2/62)   \rResolving deltas:   9% (6/62)   \rResolving deltas:  24% (15/62)   \rResolving deltas:  25% (16/62)   \rResolving deltas:  45% (28/62)   \rResolving deltas:  75% (47/62)   \rResolving deltas:  87% (54/62)   \rResolving deltas:  90% (56/62)   \rResolving deltas: 100% (62/62)   \rResolving deltas: 100% (62/62), done.\n"
          ],
          "name": "stdout"
        }
      ]
    },
    {
      "cell_type": "code",
      "metadata": {
        "id": "--tlwOrYo2hZ",
        "colab_type": "code",
        "outputId": "ee3120a8-da5a-44ad-d61a-5312a80cabaf",
        "colab": {
          "base_uri": "https://localhost:8080/",
          "height": 102
        }
      },
      "source": [
        "!git clone https://github.com/ageitgey/face_recognition.git\n"
      ],
      "execution_count": 11,
      "outputs": [
        {
          "output_type": "stream",
          "text": [
            "Cloning into 'face_recognition'...\n",
            "remote: Enumerating objects: 800, done.\u001b[K\n",
            "remote: Total 800 (delta 0), reused 0 (delta 0), pack-reused 800\u001b[K\n",
            "Receiving objects: 100% (800/800), 101.42 MiB | 33.57 MiB/s, done.\n",
            "Resolving deltas: 100% (460/460), done.\n"
          ],
          "name": "stdout"
        }
      ]
    },
    {
      "cell_type": "code",
      "metadata": {
        "id": "ITZhk3X1pEvS",
        "colab_type": "code",
        "outputId": "56d62e3b-8b05-4140-9f48-918d8902eb3e",
        "colab": {
          "base_uri": "https://localhost:8080/",
          "height": 153
        }
      },
      "source": [
        "!git clone https://github.com/tensorflow/models.git"
      ],
      "execution_count": 12,
      "outputs": [
        {
          "output_type": "stream",
          "text": [
            "Cloning into 'models'...\n",
            "remote: Enumerating objects: 23, done.\u001b[K\n",
            "remote: Counting objects: 100% (23/23), done.\u001b[K\n",
            "remote: Compressing objects: 100% (22/22), done.\u001b[K\n",
            "remote: Total 33199 (delta 10), reused 14 (delta 1), pack-reused 33176\u001b[K\n",
            "Receiving objects: 100% (33199/33199), 511.75 MiB | 36.48 MiB/s, done.\n",
            "Resolving deltas: 100% (21195/21195), done.\n",
            "Checking out files: 100% (3189/3189), done.\n"
          ],
          "name": "stdout"
        }
      ]
    },
    {
      "cell_type": "code",
      "metadata": {
        "id": "NoowmTepph6C",
        "colab_type": "code",
        "outputId": "884f0bd9-be1d-4c91-a7ba-313f71ad5136",
        "colab": {
          "base_uri": "https://localhost:8080/",
          "height": 136
        }
      },
      "source": [
        "!git clone https://github.com/cedrickchee/awesome-bert-nlp.git"
      ],
      "execution_count": 13,
      "outputs": [
        {
          "output_type": "stream",
          "text": [
            "Cloning into 'awesome-bert-nlp'...\n",
            "remote: Enumerating objects: 79, done.\u001b[K\n",
            "remote: Counting objects: 100% (79/79), done.\u001b[K\n",
            "remote: Compressing objects: 100% (79/79), done.\u001b[K\n",
            "remote: Total 144 (delta 25), reused 0 (delta 0), pack-reused 65\u001b[K\n",
            "Receiving objects: 100% (144/144), 53.83 KiB | 13.46 MiB/s, done.\n",
            "Resolving deltas: 100% (44/44), done.\n"
          ],
          "name": "stdout"
        }
      ]
    },
    {
      "cell_type": "code",
      "metadata": {
        "id": "jyAxvEgjpqYa",
        "colab_type": "code",
        "outputId": "a73b586c-0c97-4fa0-cb22-568846290720",
        "colab": {
          "base_uri": "https://localhost:8080/",
          "height": 136
        }
      },
      "source": [
        "!git clone https://github.com/dennybritz/reinforcement-learning.git"
      ],
      "execution_count": 14,
      "outputs": [
        {
          "output_type": "stream",
          "text": [
            "Cloning into 'reinforcement-learning'...\n",
            "remote: Enumerating objects: 4, done.\u001b[K\n",
            "remote: Counting objects:  25% (1/4)\u001b[K\rremote: Counting objects:  50% (2/4)\u001b[K\rremote: Counting objects:  75% (3/4)\u001b[K\rremote: Counting objects: 100% (4/4)\u001b[K\rremote: Counting objects: 100% (4/4), done.\u001b[K\n",
            "remote: Compressing objects: 100% (4/4), done.\u001b[K\n",
            "remote: Total 1274 (delta 0), reused 1 (delta 0), pack-reused 1270\u001b[K\n",
            "Receiving objects: 100% (1274/1274), 5.25 MiB | 22.39 MiB/s, done.\n",
            "Resolving deltas: 100% (819/819), done.\n"
          ],
          "name": "stdout"
        }
      ]
    },
    {
      "cell_type": "code",
      "metadata": {
        "id": "8aPN2i7SIDAK",
        "colab_type": "code",
        "outputId": "9fe66edf-96ca-41d8-fdc8-eb14ac9588ec",
        "colab": {
          "base_uri": "https://localhost:8080/",
          "height": 102
        }
      },
      "source": [
        "!git clone https://github.com/MorvanZhou/Reinforcement-learning-with-tensorflow.git"
      ],
      "execution_count": 15,
      "outputs": [
        {
          "output_type": "stream",
          "text": [
            "Cloning into 'Reinforcement-learning-with-tensorflow'...\n",
            "remote: Enumerating objects: 669, done.\u001b[K\n",
            "Receiving objects:   0% (1/669)   \rReceiving objects:   1% (7/669)   \rReceiving objects:   2% (14/669)   \rReceiving objects:   3% (21/669)   \rReceiving objects:   4% (27/669)   \rReceiving objects:   5% (34/669)   \rReceiving objects:   6% (41/669)   \rReceiving objects:   7% (47/669)   \rReceiving objects:   8% (54/669)   \rReceiving objects:   9% (61/669)   \rReceiving objects:  10% (67/669)   \rReceiving objects:  11% (74/669)   \rReceiving objects:  12% (81/669)   \rReceiving objects:  13% (87/669)   \rReceiving objects:  14% (94/669)   \rReceiving objects:  15% (101/669)   \rReceiving objects:  16% (108/669)   \rReceiving objects:  17% (114/669)   \rReceiving objects:  18% (121/669)   \rReceiving objects:  19% (128/669)   \rReceiving objects:  20% (134/669)   \rReceiving objects:  21% (141/669)   \rReceiving objects:  22% (148/669)   \rReceiving objects:  23% (154/669)   \rReceiving objects:  24% (161/669)   \rReceiving objects:  25% (168/669)   \rReceiving objects:  26% (174/669)   \rReceiving objects:  27% (181/669)   \rReceiving objects:  28% (188/669)   \rReceiving objects:  29% (195/669)   \rReceiving objects:  30% (201/669)   \rReceiving objects:  31% (208/669)   \rReceiving objects:  32% (215/669)   \rReceiving objects:  33% (221/669)   \rReceiving objects:  34% (228/669)   \rReceiving objects:  35% (235/669)   \rReceiving objects:  36% (241/669)   \rReceiving objects:  37% (248/669)   \rReceiving objects:  38% (255/669)   \rReceiving objects:  39% (261/669)   \rReceiving objects:  40% (268/669)   \rReceiving objects:  41% (275/669)   \rReceiving objects:  42% (281/669)   \rReceiving objects:  43% (288/669)   \rReceiving objects:  44% (295/669)   \rReceiving objects:  45% (302/669)   \rReceiving objects:  46% (308/669)   \rReceiving objects:  47% (315/669)   \rReceiving objects:  48% (322/669)   \rReceiving objects:  49% (328/669)   \rReceiving objects:  50% (335/669)   \rReceiving objects:  51% (342/669)   \rremote: Total 669 (delta 0), reused 0 (delta 0), pack-reused 669\u001b[K\n",
            "Receiving objects:  52% (348/669)   \rReceiving objects:  53% (355/669)   \rReceiving objects:  54% (362/669)   \rReceiving objects:  55% (368/669)   \rReceiving objects:  56% (375/669)   \rReceiving objects:  57% (382/669)   \rReceiving objects:  58% (389/669)   \rReceiving objects:  59% (395/669)   \rReceiving objects:  60% (402/669)   \rReceiving objects:  61% (409/669)   \rReceiving objects:  62% (415/669)   \rReceiving objects:  63% (422/669)   \rReceiving objects:  64% (429/669)   \rReceiving objects:  65% (435/669)   \rReceiving objects:  66% (442/669)   \rReceiving objects:  67% (449/669)   \rReceiving objects:  68% (455/669)   \rReceiving objects:  69% (462/669)   \rReceiving objects:  70% (469/669)   \rReceiving objects:  71% (475/669)   \rReceiving objects:  72% (482/669)   \rReceiving objects:  73% (489/669)   \rReceiving objects:  74% (496/669)   \rReceiving objects:  75% (502/669)   \rReceiving objects:  76% (509/669)   \rReceiving objects:  77% (516/669)   \rReceiving objects:  78% (522/669)   \rReceiving objects:  79% (529/669)   \rReceiving objects:  80% (536/669)   \rReceiving objects:  81% (542/669)   \rReceiving objects:  82% (549/669)   \rReceiving objects:  83% (556/669)   \rReceiving objects:  84% (562/669)   \rReceiving objects:  85% (569/669)   \rReceiving objects:  86% (576/669)   \rReceiving objects:  87% (583/669)   \rReceiving objects:  88% (589/669)   \rReceiving objects:  89% (596/669)   \rReceiving objects:  90% (603/669)   \rReceiving objects:  91% (609/669)   \rReceiving objects:  92% (616/669)   \rReceiving objects:  93% (623/669)   \rReceiving objects:  94% (629/669)   \rReceiving objects:  95% (636/669)   \rReceiving objects:  96% (643/669)   \rReceiving objects:  97% (649/669)   \rReceiving objects:  98% (656/669)   \rReceiving objects:  99% (663/669)   \rReceiving objects: 100% (669/669)   \rReceiving objects: 100% (669/669), 421.45 KiB | 4.17 MiB/s, done.\n",
            "Resolving deltas:   0% (0/384)   \rResolving deltas:   3% (15/384)   \rResolving deltas:   5% (23/384)   \rResolving deltas:  12% (48/384)   \rResolving deltas:  22% (87/384)   \rResolving deltas:  25% (98/384)   \rResolving deltas:  28% (109/384)   \rResolving deltas:  31% (122/384)   \rResolving deltas:  33% (127/384)   \rResolving deltas:  39% (153/384)   \rResolving deltas:  41% (158/384)   \rResolving deltas:  43% (167/384)   \rResolving deltas:  44% (169/384)   \rResolving deltas:  45% (173/384)   \rResolving deltas:  46% (177/384)   \rResolving deltas:  47% (183/384)   \rResolving deltas:  50% (194/384)   \rResolving deltas:  52% (201/384)   \rResolving deltas:  53% (205/384)   \rResolving deltas:  54% (208/384)   \rResolving deltas:  64% (248/384)   \rResolving deltas:  67% (258/384)   \rResolving deltas:  68% (264/384)   \rResolving deltas:  69% (265/384)   \rResolving deltas:  73% (281/384)   \rResolving deltas:  75% (289/384)   \rResolving deltas:  76% (294/384)   \rResolving deltas:  78% (302/384)   \rResolving deltas:  86% (332/384)   \rResolving deltas:  87% (337/384)   \rResolving deltas:  88% (338/384)   \rResolving deltas:  89% (345/384)   \rResolving deltas:  90% (346/384)   \rResolving deltas:  91% (350/384)   \rResolving deltas:  92% (354/384)   \rResolving deltas:  95% (368/384)   \rResolving deltas:  96% (371/384)   \rResolving deltas:  98% (379/384)   \rResolving deltas:  99% (381/384)   \rResolving deltas: 100% (384/384)   \rResolving deltas: 100% (384/384), done.\n"
          ],
          "name": "stdout"
        }
      ]
    },
    {
      "cell_type": "code",
      "metadata": {
        "id": "jtwPnQIpIWYN",
        "colab_type": "code",
        "outputId": "4ac7452f-3807-441f-cc3b-8de93551bafa",
        "colab": {
          "base_uri": "https://localhost:8080/",
          "height": 102
        }
      },
      "source": [
        "!git clone https://github.com/udacity/deep-reinforcement-learning.git"
      ],
      "execution_count": 16,
      "outputs": [
        {
          "output_type": "stream",
          "text": [
            "Cloning into 'deep-reinforcement-learning'...\n",
            "remote: Enumerating objects: 223, done.\u001b[K\n",
            "Receiving objects:   0% (1/223)   \rReceiving objects:   1% (3/223)   \rReceiving objects:   2% (5/223)   \rReceiving objects:   3% (7/223)   \rReceiving objects:   4% (9/223)   \rReceiving objects:   5% (12/223)   \rReceiving objects:   6% (14/223)   \rReceiving objects:   7% (16/223)   \rReceiving objects:   8% (18/223)   \rReceiving objects:   9% (21/223)   \rReceiving objects:  10% (23/223)   \rReceiving objects:  11% (25/223)   \rReceiving objects:  12% (27/223)   \rReceiving objects:  13% (29/223)   \rReceiving objects:  14% (32/223)   \rReceiving objects:  15% (34/223)   \rReceiving objects:  16% (36/223)   \rReceiving objects:  17% (38/223)   \rReceiving objects:  18% (41/223)   \rReceiving objects:  19% (43/223)   \rReceiving objects:  20% (45/223)   \rReceiving objects:  21% (47/223)   \rReceiving objects:  22% (50/223)   \rReceiving objects:  23% (52/223)   \rReceiving objects:  24% (54/223)   \rReceiving objects:  25% (56/223)   \rReceiving objects:  26% (58/223)   \rReceiving objects:  27% (61/223)   \rReceiving objects:  28% (63/223)   \rReceiving objects:  29% (65/223)   \rReceiving objects:  30% (67/223)   \rReceiving objects:  31% (70/223)   \rReceiving objects:  32% (72/223)   \rReceiving objects:  33% (74/223)   \rReceiving objects:  34% (76/223)   \rReceiving objects:  35% (79/223)   \rReceiving objects:  36% (81/223)   \rReceiving objects:  37% (83/223)   \rReceiving objects:  38% (85/223)   \rReceiving objects:  39% (87/223)   \rReceiving objects:  40% (90/223)   \rReceiving objects:  41% (92/223)   \rReceiving objects:  42% (94/223)   \rReceiving objects:  43% (96/223)   \rReceiving objects:  44% (99/223)   \rReceiving objects:  45% (101/223)   \rReceiving objects:  46% (103/223)   \rReceiving objects:  47% (105/223)   \rReceiving objects:  48% (108/223)   \rReceiving objects:  49% (110/223)   \rReceiving objects:  50% (112/223)   \rReceiving objects:  51% (114/223)   \rReceiving objects:  52% (116/223)   \rReceiving objects:  53% (119/223)   \rReceiving objects:  54% (121/223)   \rReceiving objects:  55% (123/223)   \rReceiving objects:  56% (125/223)   \rReceiving objects:  57% (128/223)   \rReceiving objects:  58% (130/223)   \rReceiving objects:  59% (132/223)   \rReceiving objects:  60% (134/223)   \rReceiving objects:  61% (137/223)   \rReceiving objects:  62% (139/223)   \rReceiving objects:  63% (141/223)   \rReceiving objects:  64% (143/223)   \rReceiving objects:  65% (145/223)   \rReceiving objects:  66% (148/223)   \rReceiving objects:  67% (150/223)   \rReceiving objects:  68% (152/223)   \rReceiving objects:  69% (154/223)   \rReceiving objects:  70% (157/223)   \rReceiving objects:  71% (159/223)   \rReceiving objects:  72% (161/223)   \rReceiving objects:  73% (163/223)   \rReceiving objects:  74% (166/223)   \rReceiving objects:  75% (168/223)   \rReceiving objects:  76% (170/223)   \rReceiving objects:  77% (172/223)   \rReceiving objects:  78% (174/223)   \rReceiving objects:  79% (177/223)   \rReceiving objects:  80% (179/223)   \rReceiving objects:  81% (181/223)   \rReceiving objects:  82% (183/223)   \rReceiving objects:  83% (186/223)   \rReceiving objects:  84% (188/223)   \rReceiving objects:  85% (190/223)   \rremote: Total 223 (delta 0), reused 0 (delta 0), pack-reused 223\u001b[K\n",
            "Receiving objects:  86% (192/223)   \rReceiving objects:  87% (195/223)   \rReceiving objects:  88% (197/223)   \rReceiving objects:  89% (199/223)   \rReceiving objects:  90% (201/223)   \rReceiving objects:  91% (203/223)   \rReceiving objects:  92% (206/223)   \rReceiving objects:  93% (208/223)   \rReceiving objects:  94% (210/223)   \rReceiving objects:  95% (212/223)   \rReceiving objects:  96% (215/223)   \rReceiving objects:  97% (217/223)   \rReceiving objects:  98% (219/223)   \rReceiving objects:  99% (221/223)   \rReceiving objects: 100% (223/223)   \rReceiving objects: 100% (223/223), 3.45 MiB | 17.83 MiB/s, done.\n",
            "Resolving deltas:   0% (0/51)   \rResolving deltas:   1% (1/51)   \rResolving deltas:   9% (5/51)   \rResolving deltas:  13% (7/51)   \rResolving deltas:  17% (9/51)   \rResolving deltas:  31% (16/51)   \rResolving deltas:  39% (20/51)   \rResolving deltas:  52% (27/51)   \rResolving deltas:  56% (29/51)   \rResolving deltas:  64% (33/51)   \rResolving deltas:  66% (34/51)   \rResolving deltas:  68% (35/51)   \rResolving deltas:  74% (38/51)   \rResolving deltas:  98% (50/51)   \rResolving deltas: 100% (51/51)   \rResolving deltas: 100% (51/51), done.\n"
          ],
          "name": "stdout"
        }
      ]
    },
    {
      "cell_type": "code",
      "metadata": {
        "id": "4z6AL2XzIqpk",
        "colab_type": "code",
        "outputId": "2537e6f5-9c1e-45a7-aaf3-3919dafa94f2",
        "colab": {
          "base_uri": "https://localhost:8080/",
          "height": 102
        }
      },
      "source": [
        "!git clone https://github.com/Zeta36/chess-alpha-zero.git"
      ],
      "execution_count": 17,
      "outputs": [
        {
          "output_type": "stream",
          "text": [
            "Cloning into 'chess-alpha-zero'...\n",
            "remote: Enumerating objects: 478, done.\u001b[K\n",
            "remote: Total 478 (delta 0), reused 0 (delta 0), pack-reused 478\u001b[K\n",
            "Receiving objects: 100% (478/478), 122.38 MiB | 37.26 MiB/s, done.\n",
            "Resolving deltas: 100% (250/250), done.\n"
          ],
          "name": "stdout"
        }
      ]
    },
    {
      "cell_type": "code",
      "metadata": {
        "id": "pewKcEYII7ad",
        "colab_type": "code",
        "outputId": "a9b125d5-078f-498d-a7f3-4ff50d1612ad",
        "colab": {
          "base_uri": "https://localhost:8080/",
          "height": 153
        }
      },
      "source": [
        "!git clone https://github.com/suragnair/alpha-zero-general.git"
      ],
      "execution_count": 18,
      "outputs": [
        {
          "output_type": "stream",
          "text": [
            "Cloning into 'alpha-zero-general'...\n",
            "remote: Enumerating objects: 4, done.\u001b[K\n",
            "remote: Counting objects:  25% (1/4)\u001b[K\rremote: Counting objects:  50% (2/4)\u001b[K\rremote: Counting objects:  75% (3/4)\u001b[K\rremote: Counting objects: 100% (4/4)\u001b[K\rremote: Counting objects: 100% (4/4), done.\u001b[K\n",
            "remote: Compressing objects: 100% (4/4), done.\u001b[K\n",
            "remote: Total 945 (delta 0), reused 1 (delta 0), pack-reused 941\u001b[K\n",
            "Receiving objects: 100% (945/945), 230.16 MiB | 38.01 MiB/s, done.\n",
            "Resolving deltas: 100% (520/520), done.\n",
            "Checking out files: 100% (134/134), done.\n"
          ],
          "name": "stdout"
        }
      ]
    },
    {
      "cell_type": "code",
      "metadata": {
        "id": "xxNq7FWkJqL7",
        "colab_type": "code",
        "outputId": "fdca8045-d093-41c4-abe3-c94a64b90db1",
        "colab": {
          "base_uri": "https://localhost:8080/",
          "height": 136
        }
      },
      "source": [
        "!git clone https://github.com/glinscott/leela-chess.git"
      ],
      "execution_count": 19,
      "outputs": [
        {
          "output_type": "stream",
          "text": [
            "Cloning into 'leela-chess'...\n",
            "remote: Enumerating objects: 5, done.\u001b[K\n",
            "remote: Counting objects:  20% (1/5)\u001b[K\rremote: Counting objects:  40% (2/5)\u001b[K\rremote: Counting objects:  60% (3/5)\u001b[K\rremote: Counting objects:  80% (4/5)\u001b[K\rremote: Counting objects: 100% (5/5)\u001b[K\rremote: Counting objects: 100% (5/5), done.\u001b[K\n",
            "remote: Compressing objects: 100% (4/4), done.\u001b[K\n",
            "remote: Total 6791 (delta 0), reused 0 (delta 0), pack-reused 6786\u001b[K\n",
            "Receiving objects: 100% (6791/6791), 34.98 MiB | 21.42 MiB/s, done.\n",
            "Resolving deltas: 100% (4304/4304), done.\n"
          ],
          "name": "stdout"
        }
      ]
    },
    {
      "cell_type": "code",
      "metadata": {
        "id": "m_srHOUII-37",
        "colab_type": "code",
        "outputId": "ce946892-d62d-4c96-949a-f0efda8d16ae",
        "colab": {
          "base_uri": "https://localhost:8080/",
          "height": 136
        }
      },
      "source": [
        "!git clone https://github.com/XanaduAI/pennylane.git"
      ],
      "execution_count": 20,
      "outputs": [
        {
          "output_type": "stream",
          "text": [
            "Cloning into 'pennylane'...\n",
            "remote: Enumerating objects: 75, done.\u001b[K\n",
            "remote: Counting objects:   1% (1/75)\u001b[K\rremote: Counting objects:   2% (2/75)\u001b[K\rremote: Counting objects:   4% (3/75)\u001b[K\rremote: Counting objects:   5% (4/75)\u001b[K\rremote: Counting objects:   6% (5/75)\u001b[K\rremote: Counting objects:   8% (6/75)\u001b[K\rremote: Counting objects:   9% (7/75)\u001b[K\rremote: Counting objects:  10% (8/75)\u001b[K\rremote: Counting objects:  12% (9/75)\u001b[K\rremote: Counting objects:  13% (10/75)\u001b[K\rremote: Counting objects:  14% (11/75)\u001b[K\rremote: Counting objects:  16% (12/75)\u001b[K\rremote: Counting objects:  17% (13/75)\u001b[K\rremote: Counting objects:  18% (14/75)\u001b[K\rremote: Counting objects:  20% (15/75)\u001b[K\rremote: Counting objects:  21% (16/75)\u001b[K\rremote: Counting objects:  22% (17/75)\u001b[K\rremote: Counting objects:  24% (18/75)\u001b[K\rremote: Counting objects:  25% (19/75)\u001b[K\rremote: Counting objects:  26% (20/75)\u001b[K\rremote: Counting objects:  28% (21/75)\u001b[K\rremote: Counting objects:  29% (22/75)\u001b[K\rremote: Counting objects:  30% (23/75)\u001b[K\rremote: Counting objects:  32% (24/75)\u001b[K\rremote: Counting objects:  33% (25/75)\u001b[K\rremote: Counting objects:  34% (26/75)\u001b[K\rremote: Counting objects:  36% (27/75)\u001b[K\rremote: Counting objects:  37% (28/75)\u001b[K\rremote: Counting objects:  38% (29/75)\u001b[K\rremote: Counting objects:  40% (30/75)\u001b[K\rremote: Counting objects:  41% (31/75)\u001b[K\rremote: Counting objects:  42% (32/75)\u001b[K\rremote: Counting objects:  44% (33/75)\u001b[K\rremote: Counting objects:  45% (34/75)\u001b[K\rremote: Counting objects:  46% (35/75)\u001b[K\rremote: Counting objects:  48% (36/75)\u001b[K\rremote: Counting objects:  49% (37/75)\u001b[K\rremote: Counting objects:  50% (38/75)\u001b[K\rremote: Counting objects:  52% (39/75)\u001b[K\rremote: Counting objects:  53% (40/75)\u001b[K\rremote: Counting objects:  54% (41/75)\u001b[K\rremote: Counting objects:  56% (42/75)\u001b[K\rremote: Counting objects:  57% (43/75)\u001b[K\rremote: Counting objects:  58% (44/75)\u001b[K\rremote: Counting objects:  60% (45/75)\u001b[K\rremote: Counting objects:  61% (46/75)\u001b[K\rremote: Counting objects:  62% (47/75)\u001b[K\rremote: Counting objects:  64% (48/75)\u001b[K\rremote: Counting objects:  65% (49/75)\u001b[K\rremote: Counting objects:  66% (50/75)\u001b[K\rremote: Counting objects:  68% (51/75)\u001b[K\rremote: Counting objects:  69% (52/75)\u001b[K\rremote: Counting objects:  70% (53/75)\u001b[K\rremote: Counting objects:  72% (54/75)\u001b[K\rremote: Counting objects:  73% (55/75)\u001b[K\rremote: Counting objects:  74% (56/75)\u001b[K\rremote: Counting objects:  76% (57/75)\u001b[K\rremote: Counting objects:  77% (58/75)\u001b[K\rremote: Counting objects:  78% (59/75)\u001b[K\rremote: Counting objects:  80% (60/75)\u001b[K\rremote: Counting objects:  81% (61/75)\u001b[K\rremote: Counting objects:  82% (62/75)\u001b[K\rremote: Counting objects:  84% (63/75)\u001b[K\rremote: Counting objects:  85% (64/75)\u001b[K\rremote: Counting objects:  86% (65/75)\u001b[K\rremote: Counting objects:  88% (66/75)\u001b[K\rremote: Counting objects:  89% (67/75)\u001b[K\rremote: Counting objects:  90% (68/75)\u001b[K\rremote: Counting objects:  92% (69/75)\u001b[K\rremote: Counting objects:  93% (70/75)\u001b[K\rremote: Counting objects:  94% (71/75)\u001b[K\rremote: Counting objects:  96% (72/75)\u001b[K\rremote: Counting objects:  97% (73/75)\u001b[K\rremote: Counting objects:  98% (74/75)\u001b[K\rremote: Counting objects: 100% (75/75)\u001b[K\rremote: Counting objects: 100% (75/75), done.\u001b[K\n",
            "remote: Compressing objects: 100% (53/53), done.\u001b[K\n",
            "remote: Total 11088 (delta 42), reused 47 (delta 22), pack-reused 11013\u001b[K\n",
            "Receiving objects: 100% (11088/11088), 23.12 MiB | 34.61 MiB/s, done.\n",
            "Resolving deltas: 100% (7872/7872), done.\n"
          ],
          "name": "stdout"
        }
      ]
    },
    {
      "cell_type": "code",
      "metadata": {
        "id": "TbsOg4sKSo8G",
        "colab_type": "code",
        "outputId": "ccea7964-4f83-4400-fd21-9b3758ab0dfa",
        "colab": {
          "base_uri": "https://localhost:8080/",
          "height": 102
        }
      },
      "source": [
        "!git clone https://github.com/google/dopamine.git"
      ],
      "execution_count": 21,
      "outputs": [
        {
          "output_type": "stream",
          "text": [
            "Cloning into 'dopamine'...\n",
            "remote: Enumerating objects: 1485, done.\u001b[K\n",
            "remote: Total 1485 (delta 0), reused 0 (delta 0), pack-reused 1485\u001b[K\n",
            "Receiving objects: 100% (1485/1485), 7.35 MiB | 22.13 MiB/s, done.\n",
            "Resolving deltas: 100% (963/963), done.\n"
          ],
          "name": "stdout"
        }
      ]
    },
    {
      "cell_type": "code",
      "metadata": {
        "id": "v12ktEQoJBQm",
        "colab_type": "code",
        "outputId": "7b015a93-db5a-436e-9a7d-690be39e4b8b",
        "colab": {
          "base_uri": "https://localhost:8080/",
          "height": 136
        }
      },
      "source": [
        "!git clone https://github.com/mukeshmithrakumar/scientific.git"
      ],
      "execution_count": 22,
      "outputs": [
        {
          "output_type": "stream",
          "text": [
            "Cloning into 'scientific'...\n",
            "remote: Enumerating objects: 100, done.\u001b[K\n",
            "remote: Counting objects:   1% (1/100)\u001b[K\rremote: Counting objects:   2% (2/100)\u001b[K\rremote: Counting objects:   3% (3/100)\u001b[K\rremote: Counting objects:   4% (4/100)\u001b[K\rremote: Counting objects:   5% (5/100)\u001b[K\rremote: Counting objects:   6% (6/100)\u001b[K\rremote: Counting objects:   7% (7/100)\u001b[K\rremote: Counting objects:   8% (8/100)\u001b[K\rremote: Counting objects:   9% (9/100)\u001b[K\rremote: Counting objects:  10% (10/100)\u001b[K\rremote: Counting objects:  11% (11/100)\u001b[K\rremote: Counting objects:  12% (12/100)\u001b[K\rremote: Counting objects:  13% (13/100)\u001b[K\rremote: Counting objects:  14% (14/100)\u001b[K\rremote: Counting objects:  15% (15/100)\u001b[K\rremote: Counting objects:  16% (16/100)\u001b[K\rremote: Counting objects:  17% (17/100)\u001b[K\rremote: Counting objects:  18% (18/100)\u001b[K\rremote: Counting objects:  19% (19/100)\u001b[K\rremote: Counting objects:  20% (20/100)\u001b[K\rremote: Counting objects:  21% (21/100)\u001b[K\rremote: Counting objects:  22% (22/100)\u001b[K\rremote: Counting objects:  23% (23/100)\u001b[K\rremote: Counting objects:  24% (24/100)\u001b[K\rremote: Counting objects:  25% (25/100)\u001b[K\rremote: Counting objects:  26% (26/100)\u001b[K\rremote: Counting objects:  27% (27/100)\u001b[K\rremote: Counting objects:  28% (28/100)\u001b[K\rremote: Counting objects:  29% (29/100)\u001b[K\rremote: Counting objects:  30% (30/100)\u001b[K\rremote: Counting objects:  31% (31/100)\u001b[K\rremote: Counting objects:  32% (32/100)\u001b[K\rremote: Counting objects:  33% (33/100)\u001b[K\rremote: Counting objects:  34% (34/100)\u001b[K\rremote: Counting objects:  35% (35/100)\u001b[K\rremote: Counting objects:  36% (36/100)\u001b[K\rremote: Counting objects:  37% (37/100)\u001b[K\rremote: Counting objects:  38% (38/100)\u001b[K\rremote: Counting objects:  39% (39/100)\u001b[K\rremote: Counting objects:  40% (40/100)\u001b[K\rremote: Counting objects:  41% (41/100)\u001b[K\rremote: Counting objects:  42% (42/100)\u001b[K\rremote: Counting objects:  43% (43/100)\u001b[K\rremote: Counting objects:  44% (44/100)\u001b[K\rremote: Counting objects:  45% (45/100)\u001b[K\rremote: Counting objects:  46% (46/100)\u001b[K\rremote: Counting objects:  47% (47/100)\u001b[K\rremote: Counting objects:  48% (48/100)\u001b[K\rremote: Counting objects:  49% (49/100)\u001b[K\rremote: Counting objects:  50% (50/100)\u001b[K\rremote: Counting objects:  51% (51/100)\u001b[K\rremote: Counting objects:  52% (52/100)\u001b[K\rremote: Counting objects:  53% (53/100)\u001b[K\rremote: Counting objects:  54% (54/100)\u001b[K\rremote: Counting objects:  55% (55/100)\u001b[K\rremote: Counting objects:  56% (56/100)\u001b[K\rremote: Counting objects:  57% (57/100)\u001b[K\rremote: Counting objects:  58% (58/100)\u001b[K\rremote: Counting objects:  59% (59/100)\u001b[K\rremote: Counting objects:  60% (60/100)\u001b[K\rremote: Counting objects:  61% (61/100)\u001b[K\rremote: Counting objects:  62% (62/100)\u001b[K\rremote: Counting objects:  63% (63/100)\u001b[K\rremote: Counting objects:  64% (64/100)\u001b[K\rremote: Counting objects:  65% (65/100)\u001b[K\rremote: Counting objects:  66% (66/100)\u001b[K\rremote: Counting objects:  67% (67/100)\u001b[K\rremote: Counting objects:  68% (68/100)\u001b[K\rremote: Counting objects:  69% (69/100)\u001b[K\rremote: Counting objects:  70% (70/100)\u001b[K\rremote: Counting objects:  71% (71/100)\u001b[K\rremote: Counting objects:  72% (72/100)\u001b[K\rremote: Counting objects:  73% (73/100)\u001b[K\rremote: Counting objects:  74% (74/100)\u001b[K\rremote: Counting objects:  75% (75/100)\u001b[K\rremote: Counting objects:  76% (76/100)\u001b[K\rremote: Counting objects:  77% (77/100)\u001b[K\rremote: Counting objects:  78% (78/100)\u001b[K\rremote: Counting objects:  79% (79/100)\u001b[K\rremote: Counting objects:  80% (80/100)\u001b[K\rremote: Counting objects:  81% (81/100)\u001b[K\rremote: Counting objects:  82% (82/100)\u001b[K\rremote: Counting objects:  83% (83/100)\u001b[K\rremote: Counting objects:  84% (84/100)\u001b[K\rremote: Counting objects:  85% (85/100)\u001b[K\rremote: Counting objects:  86% (86/100)\u001b[K\rremote: Counting objects:  87% (87/100)\u001b[K\rremote: Counting objects:  88% (88/100)\u001b[K\rremote: Counting objects:  89% (89/100)\u001b[K\rremote: Counting objects:  90% (90/100)\u001b[K\rremote: Counting objects:  91% (91/100)\u001b[K\rremote: Counting objects:  92% (92/100)\u001b[K\rremote: Counting objects:  93% (93/100)\u001b[K\rremote: Counting objects:  94% (94/100)\u001b[K\rremote: Counting objects:  95% (95/100)\u001b[K\rremote: Counting objects:  96% (96/100)\u001b[K\rremote: Counting objects:  97% (97/100)\u001b[K\rremote: Counting objects:  98% (98/100)\u001b[K\rremote: Counting objects:  99% (99/100)\u001b[K\rremote: Counting objects: 100% (100/100)\u001b[K\rremote: Counting objects: 100% (100/100), done.\u001b[K\n",
            "remote: Compressing objects:   1% (1/70)\u001b[K\rremote: Compressing objects:   2% (2/70)\u001b[K\rremote: Compressing objects:   4% (3/70)\u001b[K\rremote: Compressing objects:   5% (4/70)\u001b[K\rremote: Compressing objects:   7% (5/70)\u001b[K\rremote: Compressing objects:   8% (6/70)\u001b[K\rremote: Compressing objects:  10% (7/70)\u001b[K\rremote: Compressing objects:  11% (8/70)\u001b[K\rremote: Compressing objects:  12% (9/70)\u001b[K\rremote: Compressing objects:  14% (10/70)\u001b[K\rremote: Compressing objects:  15% (11/70)\u001b[K\rremote: Compressing objects:  17% (12/70)\u001b[K\rremote: Compressing objects:  18% (13/70)\u001b[K\rremote: Compressing objects:  20% (14/70)\u001b[K\rremote: Compressing objects:  21% (15/70)\u001b[K\rremote: Compressing objects:  22% (16/70)\u001b[K\rremote: Compressing objects:  24% (17/70)\u001b[K\rremote: Compressing objects:  25% (18/70)\u001b[K\rremote: Compressing objects:  27% (19/70)\u001b[K\rremote: Compressing objects:  28% (20/70)\u001b[K\rremote: Compressing objects:  30% (21/70)\u001b[K\rremote: Compressing objects:  31% (22/70)\u001b[K\rremote: Compressing objects:  32% (23/70)\u001b[K\rremote: Compressing objects:  34% (24/70)\u001b[K\rremote: Compressing objects:  35% (25/70)\u001b[K\rremote: Compressing objects:  37% (26/70)\u001b[K\rremote: Compressing objects:  38% (27/70)\u001b[K\rremote: Compressing objects:  40% (28/70)\u001b[K\rremote: Compressing objects:  41% (29/70)\u001b[K\rremote: Compressing objects:  42% (30/70)\u001b[K\rremote: Compressing objects:  44% (31/70)\u001b[K\rremote: Compressing objects:  45% (32/70)\u001b[K\rremote: Compressing objects:  47% (33/70)\u001b[K\rremote: Compressing objects:  48% (34/70)\u001b[K\rremote: Compressing objects:  50% (35/70)\u001b[K\rremote: Compressing objects:  51% (36/70)\u001b[K\rremote: Compressing objects:  52% (37/70)\u001b[K\rremote: Compressing objects:  54% (38/70)\u001b[K\rremote: Compressing objects:  55% (39/70)\u001b[K\rremote: Compressing objects:  57% (40/70)\u001b[K\rremote: Compressing objects:  58% (41/70)\u001b[K\rremote: Compressing objects:  60% (42/70)\u001b[K\rremote: Compressing objects:  61% (43/70)\u001b[K\rremote: Compressing objects:  62% (44/70)\u001b[K\rremote: Compressing objects:  64% (45/70)\u001b[K\rremote: Compressing objects:  65% (46/70)\u001b[K\rremote: Compressing objects:  67% (47/70)\u001b[K\rremote: Compressing objects:  68% (48/70)\u001b[K\rremote: Compressing objects:  70% (49/70)\u001b[K\rremote: Compressing objects:  71% (50/70)\u001b[K\rremote: Compressing objects:  72% (51/70)\u001b[K\rremote: Compressing objects:  74% (52/70)\u001b[K\rremote: Compressing objects:  75% (53/70)\u001b[K\rremote: Compressing objects:  77% (54/70)\u001b[K\rremote: Compressing objects:  78% (55/70)\u001b[K\rremote: Compressing objects:  80% (56/70)\u001b[K\rremote: Compressing objects:  81% (57/70)\u001b[K\rremote: Compressing objects:  82% (58/70)\u001b[K\rremote: Compressing objects:  84% (59/70)\u001b[K\rremote: Compressing objects:  85% (60/70)\u001b[K\rremote: Compressing objects:  87% (61/70)\u001b[K\rremote: Compressing objects:  88% (62/70)\u001b[K\rremote: Compressing objects:  90% (63/70)\u001b[K\rremote: Compressing objects:  91% (64/70)\u001b[K\rremote: Compressing objects:  92% (65/70)\u001b[K\rremote: Compressing objects:  94% (66/70)\u001b[K\rremote: Compressing objects:  95% (67/70)\u001b[K\rremote: Compressing objects:  97% (68/70)\u001b[K\rremote: Compressing objects:  98% (69/70)\u001b[K\rremote: Compressing objects: 100% (70/70)\u001b[K\rremote: Compressing objects: 100% (70/70), done.\u001b[K\n",
            "Receiving objects:   1% (1/100)   \rReceiving objects:   2% (2/100)   \rReceiving objects:   3% (3/100)   \rReceiving objects:   4% (4/100)   \rReceiving objects:   5% (5/100)   \rReceiving objects:   6% (6/100)   \rReceiving objects:   7% (7/100)   \rReceiving objects:   8% (8/100)   \rReceiving objects:   9% (9/100)   \rReceiving objects:  10% (10/100)   \rReceiving objects:  11% (11/100)   \rReceiving objects:  12% (12/100)   \rReceiving objects:  13% (13/100)   \rReceiving objects:  14% (14/100)   \rReceiving objects:  15% (15/100)   \rReceiving objects:  16% (16/100)   \rReceiving objects:  17% (17/100)   \rReceiving objects:  18% (18/100)   \rReceiving objects:  19% (19/100)   \rReceiving objects:  20% (20/100)   \rReceiving objects:  21% (21/100)   \rReceiving objects:  22% (22/100)   \rReceiving objects:  23% (23/100)   \rReceiving objects:  24% (24/100)   \rReceiving objects:  25% (25/100)   \rReceiving objects:  26% (26/100)   \rReceiving objects:  27% (27/100)   \rReceiving objects:  28% (28/100)   \rReceiving objects:  29% (29/100)   \rReceiving objects:  30% (30/100)   \rReceiving objects:  31% (31/100)   \rReceiving objects:  32% (32/100)   \rReceiving objects:  33% (33/100)   \rReceiving objects:  34% (34/100)   \rReceiving objects:  35% (35/100)   \rReceiving objects:  36% (36/100)   \rReceiving objects:  37% (37/100)   \rReceiving objects:  38% (38/100)   \rReceiving objects:  39% (39/100)   \rReceiving objects:  40% (40/100)   \rReceiving objects:  41% (41/100)   \rReceiving objects:  42% (42/100)   \rReceiving objects:  43% (43/100)   \rReceiving objects:  44% (44/100)   \rReceiving objects:  45% (45/100)   \rReceiving objects:  46% (46/100)   \rReceiving objects:  47% (47/100)   \rReceiving objects:  48% (48/100)   \rReceiving objects:  49% (49/100)   \rReceiving objects:  50% (50/100)   \rReceiving objects:  51% (51/100)   \rReceiving objects:  52% (52/100)   \rReceiving objects:  53% (53/100)   \rReceiving objects:  54% (54/100)   \rReceiving objects:  55% (55/100)   \rReceiving objects:  56% (56/100)   \rReceiving objects:  57% (57/100)   \rReceiving objects:  58% (58/100)   \rReceiving objects:  59% (59/100)   \rReceiving objects:  60% (60/100)   \rReceiving objects:  61% (61/100)   \rReceiving objects:  62% (62/100)   \rReceiving objects:  63% (63/100)   \rReceiving objects:  64% (64/100)   \rReceiving objects:  65% (65/100)   \rReceiving objects:  66% (66/100)   \rReceiving objects:  67% (67/100)   \rReceiving objects:  68% (68/100)   \rReceiving objects:  69% (69/100)   \rReceiving objects:  70% (70/100)   \rReceiving objects:  71% (71/100)   \rReceiving objects:  72% (72/100)   \rReceiving objects:  73% (73/100)   \rReceiving objects:  74% (74/100)   \rReceiving objects:  75% (75/100)   \rReceiving objects:  76% (76/100)   \rReceiving objects:  77% (77/100)   \rReceiving objects:  78% (78/100)   \rReceiving objects:  79% (79/100)   \rReceiving objects:  80% (80/100)   \rReceiving objects:  81% (81/100)   \rReceiving objects:  82% (82/100)   \rReceiving objects:  83% (83/100)   \rReceiving objects:  84% (84/100)   \rReceiving objects:  85% (85/100)   \rReceiving objects:  86% (86/100)   \rReceiving objects:  87% (87/100)   \rReceiving objects:  88% (88/100)   \rReceiving objects:  89% (89/100)   \rReceiving objects:  90% (90/100)   \rremote: Total 100 (delta 36), reused 81 (delta 19), pack-reused 0\u001b[K\n",
            "Receiving objects:  91% (91/100)   \rReceiving objects:  92% (92/100)   \rReceiving objects:  93% (93/100)   \rReceiving objects:  94% (94/100)   \rReceiving objects:  95% (95/100)   \rReceiving objects:  96% (96/100)   \rReceiving objects:  97% (97/100)   \rReceiving objects:  98% (98/100)   \rReceiving objects:  99% (99/100)   \rReceiving objects: 100% (100/100)   \rReceiving objects: 100% (100/100), 70.49 KiB | 2.52 MiB/s, done.\n",
            "Resolving deltas:   0% (0/36)   \rResolving deltas:   2% (1/36)   \rResolving deltas:   5% (2/36)   \rResolving deltas:  11% (4/36)   \rResolving deltas:  36% (13/36)   \rResolving deltas:  41% (15/36)   \rResolving deltas:  44% (16/36)   \rResolving deltas:  47% (17/36)   \rResolving deltas:  55% (20/36)   \rResolving deltas:  58% (21/36)   \rResolving deltas:  61% (22/36)   \rResolving deltas:  69% (25/36)   \rResolving deltas:  77% (28/36)   \rResolving deltas:  91% (33/36)   \rResolving deltas:  94% (34/36)   \rResolving deltas: 100% (36/36)   \rResolving deltas: 100% (36/36), done.\n"
          ],
          "name": "stdout"
        }
      ]
    },
    {
      "cell_type": "code",
      "metadata": {
        "id": "q6gwaoa9RUdx",
        "colab_type": "code",
        "outputId": "15650af0-b556-4962-d7e4-6c7021086068",
        "colab": {
          "base_uri": "https://localhost:8080/",
          "height": 513
        }
      },
      "source": [
        "!pip install pytorch-pretrained-bert"
      ],
      "execution_count": 23,
      "outputs": [
        {
          "output_type": "stream",
          "text": [
            "Collecting pytorch-pretrained-bert\n",
            "\u001b[?25l  Downloading https://files.pythonhosted.org/packages/d7/e0/c08d5553b89973d9a240605b9c12404bcf8227590de62bae27acbcfe076b/pytorch_pretrained_bert-0.6.2-py3-none-any.whl (123kB)\n",
            "\r\u001b[K     |██▋                             | 10kB 20.6MB/s eta 0:00:01\r\u001b[K     |█████▎                          | 20kB 2.2MB/s eta 0:00:01\r\u001b[K     |████████                        | 30kB 3.2MB/s eta 0:00:01\r\u001b[K     |██████████▋                     | 40kB 2.1MB/s eta 0:00:01\r\u001b[K     |█████████████▎                  | 51kB 2.6MB/s eta 0:00:01\r\u001b[K     |███████████████▉                | 61kB 3.1MB/s eta 0:00:01\r\u001b[K     |██████████████████▌             | 71kB 3.6MB/s eta 0:00:01\r\u001b[K     |█████████████████████▏          | 81kB 4.1MB/s eta 0:00:01\r\u001b[K     |███████████████████████▉        | 92kB 4.6MB/s eta 0:00:01\r\u001b[K     |██████████████████████████▌     | 102kB 3.5MB/s eta 0:00:01\r\u001b[K     |█████████████████████████████▏  | 112kB 3.5MB/s eta 0:00:01\r\u001b[K     |███████████████████████████████▊| 122kB 3.5MB/s eta 0:00:01\r\u001b[K     |████████████████████████████████| 133kB 3.5MB/s \n",
            "\u001b[?25hRequirement already satisfied: boto3 in /usr/local/lib/python3.6/dist-packages (from pytorch-pretrained-bert) (1.10.36)\n",
            "Requirement already satisfied: torch>=0.4.1 in /usr/local/lib/python3.6/dist-packages (from pytorch-pretrained-bert) (1.3.1)\n",
            "Collecting regex\n",
            "\u001b[?25l  Downloading https://files.pythonhosted.org/packages/8c/db/4b29a0adec5881542cd81cb5d1929b5c0787003c5740b3c921e627d9c2e5/regex-2019.12.9.tar.gz (669kB)\n",
            "\u001b[K     |████████████████████████████████| 675kB 63.3MB/s \n",
            "\u001b[?25hRequirement already satisfied: numpy in /usr/local/lib/python3.6/dist-packages (from pytorch-pretrained-bert) (1.17.4)\n",
            "Requirement already satisfied: tqdm in /usr/local/lib/python3.6/dist-packages (from pytorch-pretrained-bert) (4.28.1)\n",
            "Requirement already satisfied: requests in /usr/local/lib/python3.6/dist-packages (from pytorch-pretrained-bert) (2.21.0)\n",
            "Requirement already satisfied: botocore<1.14.0,>=1.13.36 in /usr/local/lib/python3.6/dist-packages (from boto3->pytorch-pretrained-bert) (1.13.36)\n",
            "Requirement already satisfied: s3transfer<0.3.0,>=0.2.0 in /usr/local/lib/python3.6/dist-packages (from boto3->pytorch-pretrained-bert) (0.2.1)\n",
            "Requirement already satisfied: jmespath<1.0.0,>=0.7.1 in /usr/local/lib/python3.6/dist-packages (from boto3->pytorch-pretrained-bert) (0.9.4)\n",
            "Requirement already satisfied: urllib3<1.25,>=1.21.1 in /usr/local/lib/python3.6/dist-packages (from requests->pytorch-pretrained-bert) (1.24.3)\n",
            "Requirement already satisfied: idna<2.9,>=2.5 in /usr/local/lib/python3.6/dist-packages (from requests->pytorch-pretrained-bert) (2.8)\n",
            "Requirement already satisfied: certifi>=2017.4.17 in /usr/local/lib/python3.6/dist-packages (from requests->pytorch-pretrained-bert) (2019.11.28)\n",
            "Requirement already satisfied: chardet<3.1.0,>=3.0.2 in /usr/local/lib/python3.6/dist-packages (from requests->pytorch-pretrained-bert) (3.0.4)\n",
            "Requirement already satisfied: docutils<0.16,>=0.10 in /usr/local/lib/python3.6/dist-packages (from botocore<1.14.0,>=1.13.36->boto3->pytorch-pretrained-bert) (0.15.2)\n",
            "Requirement already satisfied: python-dateutil<2.8.1,>=2.1; python_version >= \"2.7\" in /usr/local/lib/python3.6/dist-packages (from botocore<1.14.0,>=1.13.36->boto3->pytorch-pretrained-bert) (2.6.1)\n",
            "Requirement already satisfied: six>=1.5 in /usr/local/lib/python3.6/dist-packages (from python-dateutil<2.8.1,>=2.1; python_version >= \"2.7\"->botocore<1.14.0,>=1.13.36->boto3->pytorch-pretrained-bert) (1.12.0)\n",
            "Building wheels for collected packages: regex\n",
            "  Building wheel for regex (setup.py) ... \u001b[?25l\u001b[?25hdone\n",
            "  Created wheel for regex: filename=regex-2019.12.9-cp36-cp36m-linux_x86_64.whl size=609182 sha256=dda67f5e197de4d3d321ce29fc95c8f8528f607137fb6b3439bf51b3e8b7cab6\n",
            "  Stored in directory: /root/.cache/pip/wheels/0d/fb/b3/a89169557229468c49ca64f6839418f22461f6ee0a74f342b1\n",
            "Successfully built regex\n",
            "Installing collected packages: regex, pytorch-pretrained-bert\n",
            "Successfully installed pytorch-pretrained-bert-0.6.2 regex-2019.12.9\n"
          ],
          "name": "stdout"
        }
      ]
    },
    {
      "cell_type": "code",
      "metadata": {
        "id": "0ao1OwbAj2BD",
        "colab_type": "code",
        "outputId": "c2a2de05-b3b6-43cc-ee61-9032027c8d33",
        "colab": {
          "base_uri": "https://localhost:8080/",
          "height": 102
        }
      },
      "source": [
        "!git clone https://github.com/maknotavailable/pytorch-pretrained-BERT.git"
      ],
      "execution_count": 24,
      "outputs": [
        {
          "output_type": "stream",
          "text": [
            "Cloning into 'pytorch-pretrained-BERT'...\n",
            "remote: Enumerating objects: 972, done.\u001b[K\n",
            "remote: Total 972 (delta 0), reused 0 (delta 0), pack-reused 972\u001b[K\n",
            "Receiving objects: 100% (972/972), 549.12 KiB | 5.23 MiB/s, done.\n",
            "Resolving deltas: 100% (621/621), done.\n"
          ],
          "name": "stdout"
        }
      ]
    },
    {
      "cell_type": "code",
      "metadata": {
        "id": "zFbzN0YL6z28",
        "colab_type": "code",
        "outputId": "a7d01160-6be1-4c2e-9368-187853c5f07f",
        "colab": {
          "base_uri": "https://localhost:8080/",
          "height": 34
        }
      },
      "source": [
        "!pwd"
      ],
      "execution_count": 25,
      "outputs": [
        {
          "output_type": "stream",
          "text": [
            "/content\n"
          ],
          "name": "stdout"
        }
      ]
    },
    {
      "cell_type": "code",
      "metadata": {
        "id": "SPjMCKv762N9",
        "colab_type": "code",
        "outputId": "575eedac-c6fd-4992-8087-287a0a09ede6",
        "colab": {
          "base_uri": "https://localhost:8080/",
          "height": 187
        }
      },
      "source": [
        "!ls"
      ],
      "execution_count": 26,
      "outputs": [
        {
          "output_type": "stream",
          "text": [
            "alpha-zero-general\t     pennylane\n",
            "awesome-bert-nlp\t     pytorch-pretrained-BERT\n",
            "chess-alpha-zero\t     reinforcement-learning\n",
            "deep-reinforcement-learning  Reinforcement-learning-with-tensorflow\n",
            "dopamine\t\t     sample_data\n",
            "face_recognition\t     scientific\n",
            "image_captioning\t     sockeye\n",
            "Image-Captioning\t     tensor2tensor\n",
            "leela-chess\t\t     tensorflow-image-detection\n",
            "models\n"
          ],
          "name": "stdout"
        }
      ]
    },
    {
      "cell_type": "code",
      "metadata": {
        "id": "BePOdcPv63kR",
        "colab_type": "code",
        "outputId": "b5c97676-f697-45d1-91bf-e01a304300e5",
        "colab": {
          "base_uri": "https://localhost:8080/",
          "height": 34
        }
      },
      "source": [
        "%cd pytorch-pretrained-BERT/"
      ],
      "execution_count": 27,
      "outputs": [
        {
          "output_type": "stream",
          "text": [
            "/content/pytorch-pretrained-BERT\n"
          ],
          "name": "stdout"
        }
      ]
    },
    {
      "cell_type": "code",
      "metadata": {
        "id": "2ywrly9Z69tC",
        "colab_type": "code",
        "outputId": "d4ae8afa-9e83-44e3-b7b0-3d890073e0fd",
        "colab": {
          "base_uri": "https://localhost:8080/",
          "height": 51
        }
      },
      "source": [
        "!ls\n"
      ],
      "execution_count": 28,
      "outputs": [
        {
          "output_type": "stream",
          "text": [
            "bin\t  LICENSE    pytorch_pretrained_bert  requirements.txt\tsetup.py\n",
            "examples  notebooks  README.md\t\t      samples\t\ttests\n"
          ],
          "name": "stdout"
        }
      ]
    },
    {
      "cell_type": "code",
      "metadata": {
        "id": "4oOGoCq86-44",
        "colab_type": "code",
        "outputId": "949a8e8c-0a7f-4084-9e6a-c32f35c10961",
        "colab": {
          "base_uri": "https://localhost:8080/",
          "height": 34
        }
      },
      "source": [
        "%cd pytorch_pretrained_bert/\n"
      ],
      "execution_count": 29,
      "outputs": [
        {
          "output_type": "stream",
          "text": [
            "/content/pytorch-pretrained-BERT/pytorch_pretrained_bert\n"
          ],
          "name": "stdout"
        }
      ]
    },
    {
      "cell_type": "code",
      "metadata": {
        "id": "Zte1Wp4T7Haq",
        "colab_type": "code",
        "outputId": "2036b6fa-2864-4f02-f73f-9ab1e6fbba45",
        "colab": {
          "base_uri": "https://localhost:8080/",
          "height": 68
        }
      },
      "source": [
        "!ls\n"
      ],
      "execution_count": 30,
      "outputs": [
        {
          "output_type": "stream",
          "text": [
            "convert_tf_checkpoint_to_pytorch.py  __main__.py      tokenization.py\n",
            "file_utils.py\t\t\t     modeling.py\n",
            "__init__.py\t\t\t     optimization.py\n"
          ],
          "name": "stdout"
        }
      ]
    },
    {
      "cell_type": "code",
      "metadata": {
        "id": "gny1m0fk7IkQ",
        "colab_type": "code",
        "outputId": "0aeb4292-34c9-436f-bac3-937a8c4da129",
        "colab": {
          "base_uri": "https://localhost:8080/",
          "height": 34
        }
      },
      "source": [
        "%cd ../examples/"
      ],
      "execution_count": 31,
      "outputs": [
        {
          "output_type": "stream",
          "text": [
            "/content/pytorch-pretrained-BERT/examples\n"
          ],
          "name": "stdout"
        }
      ]
    },
    {
      "cell_type": "code",
      "metadata": {
        "id": "4ZUyGGjd7Mi5",
        "colab_type": "code",
        "outputId": "3229cce8-a655-48d1-be14-673889e3f2c5",
        "colab": {
          "base_uri": "https://localhost:8080/",
          "height": 34
        }
      },
      "source": [
        "!ls\n"
      ],
      "execution_count": 32,
      "outputs": [
        {
          "output_type": "stream",
          "text": [
            "extract_features.py  run_classifier.py\trun_squad.py\n"
          ],
          "name": "stdout"
        }
      ]
    },
    {
      "cell_type": "code",
      "metadata": {
        "id": "93Ishcc27NU5",
        "colab_type": "code",
        "outputId": "e5851070-68ef-474a-f4da-a8550dd058e4",
        "colab": {
          "base_uri": "https://localhost:8080/",
          "height": 734
        }
      },
      "source": [
        "!python extract_features.py --input_file ../samples/input.txt --output_file results.out --bert_model bert-base-chinese"
      ],
      "execution_count": 33,
      "outputs": [
        {
          "output_type": "stream",
          "text": [
            "12/13/2019 00:04:44 - INFO - __main__ -   device: cpu n_gpu: 0 distributed training: False\n",
            "12/13/2019 00:04:44 - WARNING - pytorch_pretrained_bert.tokenization -   The pre-trained model you are loading is an uncased model but you have set `do_lower_case` to False. We are setting `do_lower_case=True` for you but you may want to check this behavior.\n",
            "12/13/2019 00:04:44 - INFO - pytorch_pretrained_bert.file_utils -   https://s3.amazonaws.com/models.huggingface.co/bert/bert-base-chinese-vocab.txt not found in cache, downloading to /tmp/tmpavbwkylt\n",
            "100% 109540/109540 [00:00<00:00, 1730805.54B/s]\n",
            "12/13/2019 00:04:44 - INFO - pytorch_pretrained_bert.file_utils -   copying /tmp/tmpavbwkylt to cache at /root/.pytorch_pretrained_bert/8a0c070123c1f794c42a29c6904beb7c1b8715741e235bee04aca2c7636fc83f.9b42061518a39ca00b8b52059fd2bede8daa613f8a8671500e518a8c29de8c00\n",
            "12/13/2019 00:04:44 - INFO - pytorch_pretrained_bert.file_utils -   creating metadata file for /root/.pytorch_pretrained_bert/8a0c070123c1f794c42a29c6904beb7c1b8715741e235bee04aca2c7636fc83f.9b42061518a39ca00b8b52059fd2bede8daa613f8a8671500e518a8c29de8c00\n",
            "12/13/2019 00:04:44 - INFO - pytorch_pretrained_bert.file_utils -   removing temp file /tmp/tmpavbwkylt\n",
            "12/13/2019 00:04:44 - INFO - pytorch_pretrained_bert.tokenization -   loading vocabulary file https://s3.amazonaws.com/models.huggingface.co/bert/bert-base-chinese-vocab.txt from cache at /root/.pytorch_pretrained_bert/8a0c070123c1f794c42a29c6904beb7c1b8715741e235bee04aca2c7636fc83f.9b42061518a39ca00b8b52059fd2bede8daa613f8a8671500e518a8c29de8c00\n",
            "12/13/2019 00:04:44 - INFO - __main__ -   *** Example ***\n",
            "12/13/2019 00:04:44 - INFO - __main__ -   unique_id: 0\n",
            "12/13/2019 00:04:44 - INFO - __main__ -   tokens: [CLS] who was jim he ##ns ##on ? [SEP] jim he ##ns ##on was a pu ##pp ##et ##ee ##r [SEP]\n",
            "12/13/2019 00:04:44 - INFO - __main__ -   input_ids: 101 9372 9947 11268 9245 8727 8224 136 102 11268 9245 8727 8224 9947 143 11227 9586 8418 8854 8180 102 0 0 0 0 0 0 0 0 0 0 0 0 0 0 0 0 0 0 0 0 0 0 0 0 0 0 0 0 0 0 0 0 0 0 0 0 0 0 0 0 0 0 0 0 0 0 0 0 0 0 0 0 0 0 0 0 0 0 0 0 0 0 0 0 0 0 0 0 0 0 0 0 0 0 0 0 0 0 0 0 0 0 0 0 0 0 0 0 0 0 0 0 0 0 0 0 0 0 0 0 0 0 0 0 0 0 0\n",
            "12/13/2019 00:04:44 - INFO - __main__ -   input_mask: 1 1 1 1 1 1 1 1 1 1 1 1 1 1 1 1 1 1 1 1 1 0 0 0 0 0 0 0 0 0 0 0 0 0 0 0 0 0 0 0 0 0 0 0 0 0 0 0 0 0 0 0 0 0 0 0 0 0 0 0 0 0 0 0 0 0 0 0 0 0 0 0 0 0 0 0 0 0 0 0 0 0 0 0 0 0 0 0 0 0 0 0 0 0 0 0 0 0 0 0 0 0 0 0 0 0 0 0 0 0 0 0 0 0 0 0 0 0 0 0 0 0 0 0 0 0 0 0\n",
            "12/13/2019 00:04:44 - INFO - __main__ -   input_type_ids: 0 0 0 0 0 0 0 0 0 1 1 1 1 1 1 1 1 1 1 1 1 0 0 0 0 0 0 0 0 0 0 0 0 0 0 0 0 0 0 0 0 0 0 0 0 0 0 0 0 0 0 0 0 0 0 0 0 0 0 0 0 0 0 0 0 0 0 0 0 0 0 0 0 0 0 0 0 0 0 0 0 0 0 0 0 0 0 0 0 0 0 0 0 0 0 0 0 0 0 0 0 0 0 0 0 0 0 0 0 0 0 0 0 0 0 0 0 0 0 0 0 0 0 0 0 0 0 0\n",
            "12/13/2019 00:04:44 - INFO - pytorch_pretrained_bert.file_utils -   https://s3.amazonaws.com/models.huggingface.co/bert/bert-base-chinese.tar.gz not found in cache, downloading to /tmp/tmpd3djz5qi\n",
            "100% 382072689/382072689 [00:09<00:00, 38641073.33B/s]\n",
            "12/13/2019 00:04:54 - INFO - pytorch_pretrained_bert.file_utils -   copying /tmp/tmpd3djz5qi to cache at /root/.pytorch_pretrained_bert/42d4a64dda3243ffeca7ec268d5544122e67d9d06b971608796b483925716512.02ac7d664cff08d793eb00d6aac1d04368a1322435e5fe0a27c70b0b3a85327f\n",
            "12/13/2019 00:04:56 - INFO - pytorch_pretrained_bert.file_utils -   creating metadata file for /root/.pytorch_pretrained_bert/42d4a64dda3243ffeca7ec268d5544122e67d9d06b971608796b483925716512.02ac7d664cff08d793eb00d6aac1d04368a1322435e5fe0a27c70b0b3a85327f\n",
            "12/13/2019 00:04:56 - INFO - pytorch_pretrained_bert.file_utils -   removing temp file /tmp/tmpd3djz5qi\n",
            "12/13/2019 00:04:56 - INFO - pytorch_pretrained_bert.modeling -   loading archive file https://s3.amazonaws.com/models.huggingface.co/bert/bert-base-chinese.tar.gz from cache at /root/.pytorch_pretrained_bert/42d4a64dda3243ffeca7ec268d5544122e67d9d06b971608796b483925716512.02ac7d664cff08d793eb00d6aac1d04368a1322435e5fe0a27c70b0b3a85327f\n",
            "12/13/2019 00:04:56 - INFO - pytorch_pretrained_bert.modeling -   extracting archive file /root/.pytorch_pretrained_bert/42d4a64dda3243ffeca7ec268d5544122e67d9d06b971608796b483925716512.02ac7d664cff08d793eb00d6aac1d04368a1322435e5fe0a27c70b0b3a85327f to temp dir /tmp/tmpk_2povpv\n",
            "12/13/2019 00:05:00 - INFO - pytorch_pretrained_bert.modeling -   Model config {\n",
            "  \"attention_probs_dropout_prob\": 0.1,\n",
            "  \"directionality\": \"bidi\",\n",
            "  \"hidden_act\": \"gelu\",\n",
            "  \"hidden_dropout_prob\": 0.1,\n",
            "  \"hidden_size\": 768,\n",
            "  \"initializer_range\": 0.02,\n",
            "  \"intermediate_size\": 3072,\n",
            "  \"max_position_embeddings\": 512,\n",
            "  \"num_attention_heads\": 12,\n",
            "  \"num_hidden_layers\": 12,\n",
            "  \"pooler_fc_size\": 768,\n",
            "  \"pooler_num_attention_heads\": 12,\n",
            "  \"pooler_num_fc_layers\": 3,\n",
            "  \"pooler_size_per_head\": 128,\n",
            "  \"pooler_type\": \"first_token_transform\",\n",
            "  \"type_vocab_size\": 2,\n",
            "  \"vocab_size\": 21128\n",
            "}\n",
            "\n"
          ],
          "name": "stdout"
        }
      ]
    },
    {
      "cell_type": "code",
      "metadata": {
        "id": "5-VudQX88Jlb",
        "colab_type": "code",
        "outputId": "aa779e14-603e-4349-8f0b-1c0dba392659",
        "colab": {
          "base_uri": "https://localhost:8080/",
          "height": 51
        }
      },
      "source": [
        "%cd ..\n",
        "!pwd"
      ],
      "execution_count": 34,
      "outputs": [
        {
          "output_type": "stream",
          "text": [
            "/content/pytorch-pretrained-BERT\n",
            "/content/pytorch-pretrained-BERT\n"
          ],
          "name": "stdout"
        }
      ]
    },
    {
      "cell_type": "code",
      "metadata": {
        "id": "LohaVwiL7PxC",
        "colab_type": "code",
        "outputId": "9b039fb3-25c0-4db9-d713-e88a80e63049",
        "colab": {
          "base_uri": "https://localhost:8080/",
          "height": 462
        }
      },
      "source": [
        "!python -m pytest -sv tests/"
      ],
      "execution_count": 35,
      "outputs": [
        {
          "output_type": "stream",
          "text": [
            "\u001b[1m============================= test session starts ==============================\u001b[0m\n",
            "platform linux -- Python 3.6.9, pytest-3.6.4, py-1.8.0, pluggy-0.7.1 -- /usr/bin/python3\n",
            "cachedir: .pytest_cache\n",
            "rootdir: /content/pytorch-pretrained-BERT, inifile:\n",
            "collected 11 items                                                             \u001b[0m\n",
            "\n",
            "tests/modeling_test.py::BertModelTest::test_config_to_json_string \u001b[32mPASSED\u001b[0m\n",
            "tests/modeling_test.py::BertModelTest::test_default \u001b[32mPASSED\u001b[0m\n",
            "tests/optimization_test.py::OptimizationTest::test_adam \u001b[32mPASSED\u001b[0m\n",
            "tests/tokenization_test.py::TokenizationTest::test_basic_tokenizer_lower \u001b[32mPASSED\u001b[0m\n",
            "tests/tokenization_test.py::TokenizationTest::test_basic_tokenizer_no_lower \u001b[32mPASSED\u001b[0m\n",
            "tests/tokenization_test.py::TokenizationTest::test_chinese \u001b[32mPASSED\u001b[0m\n",
            "tests/tokenization_test.py::TokenizationTest::test_full_tokenizer \u001b[32mPASSED\u001b[0m\n",
            "tests/tokenization_test.py::TokenizationTest::test_is_control \u001b[32mPASSED\u001b[0m\n",
            "tests/tokenization_test.py::TokenizationTest::test_is_punctuation \u001b[32mPASSED\u001b[0m\n",
            "tests/tokenization_test.py::TokenizationTest::test_is_whitespace \u001b[32mPASSED\u001b[0m\n",
            "tests/tokenization_test.py::TokenizationTest::test_wordpiece_tokenizer \u001b[32mPASSED\u001b[0m\n",
            "\n",
            "\u001b[33m=============================== warnings summary ===============================\u001b[0m\n",
            "tests/optimization_test.py::OptimizationTest::test_adam\n",
            "  /usr/local/lib/python3.6/dist-packages/torch/nn/_reduction.py:13: UserWarning: reduction='elementwise_mean' is deprecated, please use reduction='mean' instead.\n",
            "    warnings.warn(\"reduction='elementwise_mean' is deprecated, please use reduction='mean' instead.\")\n",
            "\n",
            "-- Docs: http://doc.pytest.org/en/latest/warnings.html\n",
            "\u001b[33m\u001b[1m==================== 11 passed, 1 warnings in 0.83 seconds =====================\u001b[0m\n"
          ],
          "name": "stdout"
        }
      ]
    },
    {
      "cell_type": "code",
      "metadata": {
        "id": "rJIenKZvILyy",
        "colab_type": "code",
        "outputId": "d7c2215f-f9ee-44bb-da15-e6b23cd1602c",
        "colab": {
          "base_uri": "https://localhost:8080/",
          "height": 34
        }
      },
      "source": [
        "%cd .."
      ],
      "execution_count": 36,
      "outputs": [
        {
          "output_type": "stream",
          "text": [
            "/content\n"
          ],
          "name": "stdout"
        }
      ]
    },
    {
      "cell_type": "code",
      "metadata": {
        "id": "xpPhiXkC8MIR",
        "colab_type": "code",
        "outputId": "8e2edc8e-d810-44bc-ee0e-9e04d82b93e2",
        "colab": {
          "base_uri": "https://localhost:8080/",
          "height": 102
        }
      },
      "source": [
        "!git clone https://github.com/google-research/bert.git"
      ],
      "execution_count": 37,
      "outputs": [
        {
          "output_type": "stream",
          "text": [
            "Cloning into 'bert'...\n",
            "remote: Enumerating objects: 336, done.\u001b[K\n",
            "remote: Total 336 (delta 0), reused 0 (delta 0), pack-reused 336\u001b[K\n",
            "Receiving objects: 100% (336/336), 283.40 KiB | 3.83 MiB/s, done.\n",
            "Resolving deltas: 100% (185/185), done.\n"
          ],
          "name": "stdout"
        }
      ]
    },
    {
      "cell_type": "code",
      "metadata": {
        "id": "jTvI6KP7yLn1",
        "colab_type": "code",
        "outputId": "2134324e-6603-40fb-ab47-eaaa2cddbed7",
        "colab": {
          "base_uri": "https://localhost:8080/",
          "height": 136
        }
      },
      "source": [
        "!git clone https://github.com/deepmipt/DeepPavlov.git"
      ],
      "execution_count": 38,
      "outputs": [
        {
          "output_type": "stream",
          "text": [
            "Cloning into 'DeepPavlov'...\n",
            "remote: Enumerating objects: 112, done.\u001b[K\n",
            "remote: Counting objects: 100% (112/112), done.\u001b[K\n",
            "remote: Compressing objects: 100% (84/84), done.\u001b[K\n",
            "remote: Total 48392 (delta 56), reused 55 (delta 26), pack-reused 48280\u001b[K\n",
            "Receiving objects: 100% (48392/48392), 34.35 MiB | 24.04 MiB/s, done.\n",
            "Resolving deltas: 100% (36834/36834), done.\n"
          ],
          "name": "stdout"
        }
      ]
    },
    {
      "cell_type": "code",
      "metadata": {
        "id": "n0I8KhndyUOm",
        "colab_type": "code",
        "outputId": "25cb3dc3-fd7b-4679-df80-9716343fde2d",
        "colab": {
          "base_uri": "https://localhost:8080/",
          "height": 136
        }
      },
      "source": [
        "!git clone https://github.com/RasaHQ/rasa.git"
      ],
      "execution_count": 39,
      "outputs": [
        {
          "output_type": "stream",
          "text": [
            "Cloning into 'rasa'...\n",
            "remote: Enumerating objects: 6173, done.\u001b[K\n",
            "remote: Counting objects: 100% (6173/6173), done.\u001b[K\n",
            "remote: Compressing objects: 100% (1167/1167), done.\u001b[K\n",
            "remote: Total 997165 (delta 5251), reused 5715 (delta 4915), pack-reused 990992\u001b[K\n",
            "Receiving objects: 100% (997165/997165), 538.60 MiB | 27.50 MiB/s, done.\n",
            "Resolving deltas: 100% (811303/811303), done.\n"
          ],
          "name": "stdout"
        }
      ]
    },
    {
      "cell_type": "code",
      "metadata": {
        "id": "DEtiRa7ymiei",
        "colab_type": "code",
        "outputId": "b994d6b1-2dda-4618-aab4-1c9bbb3b00da",
        "colab": {
          "base_uri": "https://localhost:8080/",
          "height": 102
        }
      },
      "source": [
        "!git clone https://github.com/google/seq2seq.git"
      ],
      "execution_count": 40,
      "outputs": [
        {
          "output_type": "stream",
          "text": [
            "Cloning into 'seq2seq'...\n",
            "remote: Enumerating objects: 5995, done.\u001b[K\n",
            "remote: Total 5995 (delta 0), reused 0 (delta 0), pack-reused 5995\u001b[K\n",
            "Receiving objects: 100% (5995/5995), 1.63 MiB | 10.33 MiB/s, done.\n",
            "Resolving deltas: 100% (4189/4189), done.\n"
          ],
          "name": "stdout"
        }
      ]
    },
    {
      "cell_type": "code",
      "metadata": {
        "id": "QLL2PLDymkRn",
        "colab_type": "code",
        "outputId": "5bd083cf-c3b8-49a4-ac9f-ff08c4ebdb07",
        "colab": {
          "base_uri": "https://localhost:8080/",
          "height": 136
        }
      },
      "source": [
        "!git clone https://github.com/dragen1860/TensorFlow-2.x-Tutorials.git"
      ],
      "execution_count": 41,
      "outputs": [
        {
          "output_type": "stream",
          "text": [
            "Cloning into 'TensorFlow-2.x-Tutorials'...\n",
            "remote: Enumerating objects: 113, done.\u001b[K\n",
            "remote: Counting objects:   0% (1/113)\u001b[K\rremote: Counting objects:   1% (2/113)\u001b[K\rremote: Counting objects:   2% (3/113)\u001b[K\rremote: Counting objects:   3% (4/113)\u001b[K\rremote: Counting objects:   4% (5/113)\u001b[K\rremote: Counting objects:   5% (6/113)\u001b[K\rremote: Counting objects:   6% (7/113)\u001b[K\rremote: Counting objects:   7% (8/113)\u001b[K\rremote: Counting objects:   8% (10/113)\u001b[K\rremote: Counting objects:   9% (11/113)\u001b[K\rremote: Counting objects:  10% (12/113)\u001b[K\rremote: Counting objects:  11% (13/113)\u001b[K\rremote: Counting objects:  12% (14/113)\u001b[K\rremote: Counting objects:  13% (15/113)\u001b[K\rremote: Counting objects:  14% (16/113)\u001b[K\rremote: Counting objects:  15% (17/113)\u001b[K\rremote: Counting objects:  16% (19/113)\u001b[K\rremote: Counting objects:  17% (20/113)\u001b[K\rremote: Counting objects:  18% (21/113)\u001b[K\rremote: Counting objects:  19% (22/113)\u001b[K\rremote: Counting objects:  20% (23/113)\u001b[K\rremote: Counting objects:  21% (24/113)\u001b[K\rremote: Counting objects:  22% (25/113)\u001b[K\rremote: Counting objects:  23% (26/113)\u001b[K\rremote: Counting objects:  24% (28/113)\u001b[K\rremote: Counting objects:  25% (29/113)\u001b[K\rremote: Counting objects:  26% (30/113)\u001b[K\rremote: Counting objects:  27% (31/113)\u001b[K\rremote: Counting objects:  28% (32/113)\u001b[K\rremote: Counting objects:  29% (33/113)\u001b[K\rremote: Counting objects:  30% (34/113)\u001b[K\rremote: Counting objects:  31% (36/113)\u001b[K\rremote: Counting objects:  32% (37/113)\u001b[K\rremote: Counting objects:  33% (38/113)\u001b[K\rremote: Counting objects:  34% (39/113)\u001b[K\rremote: Counting objects:  35% (40/113)\u001b[K\rremote: Counting objects:  36% (41/113)\u001b[K\rremote: Counting objects:  37% (42/113)\u001b[K\rremote: Counting objects:  38% (43/113)\u001b[K\rremote: Counting objects:  39% (45/113)\u001b[K\rremote: Counting objects:  40% (46/113)\u001b[K\rremote: Counting objects:  41% (47/113)\u001b[K\rremote: Counting objects:  42% (48/113)\u001b[K\rremote: Counting objects:  43% (49/113)\u001b[K\rremote: Counting objects:  44% (50/113)\u001b[K\rremote: Counting objects:  45% (51/113)\u001b[K\rremote: Counting objects:  46% (52/113)\u001b[K\rremote: Counting objects:  47% (54/113)\u001b[K\rremote: Counting objects:  48% (55/113)\u001b[K\rremote: Counting objects:  49% (56/113)\u001b[K\rremote: Counting objects:  50% (57/113)\u001b[K\rremote: Counting objects:  51% (58/113)\u001b[K\rremote: Counting objects:  52% (59/113)\u001b[K\rremote: Counting objects:  53% (60/113)\u001b[K\rremote: Counting objects:  54% (62/113)\u001b[K\rremote: Counting objects:  55% (63/113)\u001b[K\rremote: Counting objects:  56% (64/113)\u001b[K\rremote: Counting objects:  57% (65/113)\u001b[K\rremote: Counting objects:  58% (66/113)\u001b[K\rremote: Counting objects:  59% (67/113)\u001b[K\rremote: Counting objects:  60% (68/113)\u001b[K\rremote: Counting objects:  61% (69/113)\u001b[K\rremote: Counting objects:  62% (71/113)\u001b[K\rremote: Counting objects:  63% (72/113)\u001b[K\rremote: Counting objects:  64% (73/113)\u001b[K\rremote: Counting objects:  65% (74/113)\u001b[K\rremote: Counting objects:  66% (75/113)\u001b[K\rremote: Counting objects:  67% (76/113)\u001b[K\rremote: Counting objects:  68% (77/113)\u001b[K\rremote: Counting objects:  69% (78/113)\u001b[K\rremote: Counting objects:  70% (80/113)\u001b[K\rremote: Counting objects:  71% (81/113)\u001b[K\rremote: Counting objects:  72% (82/113)\u001b[K\rremote: Counting objects:  73% (83/113)\u001b[K\rremote: Counting objects:  74% (84/113)\u001b[K\rremote: Counting objects:  75% (85/113)\u001b[K\rremote: Counting objects:  76% (86/113)\u001b[K\rremote: Counting objects:  77% (88/113)\u001b[K\rremote: Counting objects:  78% (89/113)\u001b[K\rremote: Counting objects:  79% (90/113)\u001b[K\rremote: Counting objects:  80% (91/113)\u001b[K\rremote: Counting objects:  81% (92/113)\u001b[K\rremote: Counting objects:  82% (93/113)\u001b[K\rremote: Counting objects:  83% (94/113)\u001b[K\rremote: Counting objects:  84% (95/113)\u001b[K\rremote: Counting objects:  85% (97/113)\u001b[K\rremote: Counting objects:  86% (98/113)\u001b[K\rremote: Counting objects:  87% (99/113)\u001b[K\rremote: Counting objects:  88% (100/113)\u001b[K\rremote: Counting objects:  89% (101/113)\u001b[K\rremote: Counting objects:  90% (102/113)\u001b[K\rremote: Counting objects:  91% (103/113)\u001b[K\rremote: Counting objects:  92% (104/113)\u001b[K\rremote: Counting objects:  93% (106/113)\u001b[K\rremote: Counting objects:  94% (107/113)\u001b[K\rremote: Counting objects:  95% (108/113)\u001b[K\rremote: Counting objects:  96% (109/113)\u001b[K\rremote: Counting objects:  97% (110/113)\u001b[K\rremote: Counting objects:  98% (111/113)\u001b[K\rremote: Counting objects:  99% (112/113)\u001b[K\rremote: Counting objects: 100% (113/113)\u001b[K\rremote: Counting objects: 100% (113/113), done.\u001b[K\n",
            "remote: Compressing objects: 100% (82/82), done.\u001b[K\n",
            "remote: Total 1748 (delta 49), reused 66 (delta 30), pack-reused 1635\u001b[K\n",
            "Receiving objects: 100% (1748/1748), 159.79 MiB | 39.20 MiB/s, done.\n",
            "Resolving deltas: 100% (674/674), done.\n"
          ],
          "name": "stdout"
        }
      ]
    },
    {
      "cell_type": "code",
      "metadata": {
        "id": "mt9Moc8p583p",
        "colab_type": "code",
        "outputId": "d98c115d-0896-4566-ed45-5feb1b39ede5",
        "colab": {
          "base_uri": "https://localhost:8080/",
          "height": 153
        }
      },
      "source": [
        "!git clone https://github.com/tensorflow/tensorflow.git"
      ],
      "execution_count": 42,
      "outputs": [
        {
          "output_type": "stream",
          "text": [
            "Cloning into 'tensorflow'...\n",
            "remote: Enumerating objects: 216, done.\u001b[K\n",
            "remote: Counting objects: 100% (216/216), done.\u001b[K\n",
            "remote: Compressing objects: 100% (187/187), done.\u001b[K\n",
            "remote: Total 783807 (delta 79), reused 153 (delta 26), pack-reused 783591\u001b[K\n",
            "Receiving objects: 100% (783807/783807), 447.49 MiB | 27.84 MiB/s, done.\n",
            "Resolving deltas: 100% (633673/633673), done.\n",
            "Checking out files: 100% (19481/19481), done.\n"
          ],
          "name": "stdout"
        }
      ]
    },
    {
      "cell_type": "code",
      "metadata": {
        "id": "VXroyZLs6P5z",
        "colab_type": "code",
        "outputId": "8a99d9c0-bbfd-40b8-d0fb-56e27b00485b",
        "colab": {
          "base_uri": "https://localhost:8080/",
          "height": 85
        }
      },
      "source": [
        "!git clone https://github.com/sujaybabruwad/LeNet-in-Tensorflow.git"
      ],
      "execution_count": 43,
      "outputs": [
        {
          "output_type": "stream",
          "text": [
            "Cloning into 'LeNet-in-Tensorflow'...\n",
            "remote: Enumerating objects: 31, done.\u001b[K\n",
            "Unpacking objects:   3% (1/31)   \rUnpacking objects:   6% (2/31)   \rUnpacking objects:   9% (3/31)   \rUnpacking objects:  12% (4/31)   \rUnpacking objects:  16% (5/31)   \rUnpacking objects:  19% (6/31)   \rUnpacking objects:  22% (7/31)   \rUnpacking objects:  25% (8/31)   \rUnpacking objects:  29% (9/31)   \rUnpacking objects:  32% (10/31)   \rUnpacking objects:  35% (11/31)   \rUnpacking objects:  38% (12/31)   \rUnpacking objects:  41% (13/31)   \rUnpacking objects:  45% (14/31)   \rUnpacking objects:  48% (15/31)   \rUnpacking objects:  51% (16/31)   \rUnpacking objects:  54% (17/31)   \rUnpacking objects:  58% (18/31)   \rremote: Total 31 (delta 0), reused 0 (delta 0), pack-reused 31\u001b[K\n",
            "Unpacking objects:  61% (19/31)   \rUnpacking objects:  64% (20/31)   \rUnpacking objects:  67% (21/31)   \rUnpacking objects:  70% (22/31)   \rUnpacking objects:  74% (23/31)   \rUnpacking objects:  77% (24/31)   \rUnpacking objects:  80% (25/31)   \rUnpacking objects:  83% (26/31)   \rUnpacking objects:  87% (27/31)   \rUnpacking objects:  90% (28/31)   \rUnpacking objects:  93% (29/31)   \rUnpacking objects:  96% (30/31)   \rUnpacking objects: 100% (31/31)   \rUnpacking objects: 100% (31/31), done.\n"
          ],
          "name": "stdout"
        }
      ]
    },
    {
      "cell_type": "code",
      "metadata": {
        "id": "PuqUeJibyFsI",
        "colab_type": "code",
        "outputId": "2f2e1846-ef00-4b61-8eb2-c55a9cc47639",
        "colab": {
          "base_uri": "https://localhost:8080/",
          "height": 102
        }
      },
      "source": [
        "!git clone https://github.com/tensorflow/playground.git"
      ],
      "execution_count": 44,
      "outputs": [
        {
          "output_type": "stream",
          "text": [
            "Cloning into 'playground'...\n",
            "remote: Enumerating objects: 1223, done.\u001b[K\n",
            "remote: Total 1223 (delta 0), reused 0 (delta 0), pack-reused 1223\u001b[K\n",
            "Receiving objects: 100% (1223/1223), 1.17 MiB | 8.62 MiB/s, done.\n",
            "Resolving deltas: 100% (770/770), done.\n"
          ],
          "name": "stdout"
        }
      ]
    },
    {
      "cell_type": "code",
      "metadata": {
        "id": "O7IyUdsbyJcS",
        "colab_type": "code",
        "outputId": "27ec5f6a-271d-4af7-d78d-51c326782a41",
        "colab": {
          "base_uri": "https://localhost:8080/",
          "height": 136
        }
      },
      "source": [
        "!git clone https://github.com/pytorch/vision.git\n"
      ],
      "execution_count": 45,
      "outputs": [
        {
          "output_type": "stream",
          "text": [
            "Cloning into 'vision'...\n",
            "remote: Enumerating objects: 4, done.\u001b[K\n",
            "remote: Counting objects:  25% (1/4)\u001b[K\rremote: Counting objects:  50% (2/4)\u001b[K\rremote: Counting objects:  75% (3/4)\u001b[K\rremote: Counting objects: 100% (4/4)\u001b[K\rremote: Counting objects: 100% (4/4), done.\u001b[K\n",
            "remote: Compressing objects: 100% (4/4), done.\u001b[K\n",
            "remote: Total 6024 (delta 0), reused 1 (delta 0), pack-reused 6020\u001b[K\n",
            "Receiving objects: 100% (6024/6024), 9.58 MiB | 16.15 MiB/s, done.\n",
            "Resolving deltas: 100% (4006/4006), done.\n"
          ],
          "name": "stdout"
        }
      ]
    },
    {
      "cell_type": "code",
      "metadata": {
        "id": "ZS_-5x7lzK5A",
        "colab_type": "code",
        "outputId": "fc01ed90-b428-4b9a-9339-50b70b6e566e",
        "colab": {
          "base_uri": "https://localhost:8080/",
          "height": 102
        }
      },
      "source": [
        "!git clone https://github.com/ry/tensorflow-resnet.git"
      ],
      "execution_count": 46,
      "outputs": [
        {
          "output_type": "stream",
          "text": [
            "Cloning into 'tensorflow-resnet'...\n",
            "remote: Enumerating objects: 294, done.\u001b[K\n",
            "remote: Total 294 (delta 0), reused 0 (delta 0), pack-reused 294\u001b[K\n",
            "Receiving objects: 100% (294/294), 1.39 MiB | 9.89 MiB/s, done.\n",
            "Resolving deltas: 100% (162/162), done.\n"
          ],
          "name": "stdout"
        }
      ]
    },
    {
      "cell_type": "code",
      "metadata": {
        "id": "xpQJ2ZJfzyrp",
        "colab_type": "code",
        "outputId": "3a8c9b3e-3130-43a2-c9dc-e5d866262aa4",
        "colab": {
          "base_uri": "https://localhost:8080/",
          "height": 136
        }
      },
      "source": [
        "!git clone https://github.com/tensorflow/swift-models.git"
      ],
      "execution_count": 47,
      "outputs": [
        {
          "output_type": "stream",
          "text": [
            "Cloning into 'swift-models'...\n",
            "remote: Enumerating objects: 25, done.\u001b[K\n",
            "remote: Counting objects:   4% (1/25)\u001b[K\rremote: Counting objects:   8% (2/25)\u001b[K\rremote: Counting objects:  12% (3/25)\u001b[K\rremote: Counting objects:  16% (4/25)\u001b[K\rremote: Counting objects:  20% (5/25)\u001b[K\rremote: Counting objects:  24% (6/25)\u001b[K\rremote: Counting objects:  28% (7/25)\u001b[K\rremote: Counting objects:  32% (8/25)\u001b[K\rremote: Counting objects:  36% (9/25)\u001b[K\rremote: Counting objects:  40% (10/25)\u001b[K\rremote: Counting objects:  44% (11/25)\u001b[K\rremote: Counting objects:  48% (12/25)\u001b[K\rremote: Counting objects:  52% (13/25)\u001b[K\rremote: Counting objects:  56% (14/25)\u001b[K\rremote: Counting objects:  60% (15/25)\u001b[K\rremote: Counting objects:  64% (16/25)\u001b[K\rremote: Counting objects:  68% (17/25)\u001b[K\rremote: Counting objects:  72% (18/25)\u001b[K\rremote: Counting objects:  76% (19/25)\u001b[K\rremote: Counting objects:  80% (20/25)\u001b[K\rremote: Counting objects:  84% (21/25)\u001b[K\rremote: Counting objects:  88% (22/25)\u001b[K\rremote: Counting objects:  92% (23/25)\u001b[K\rremote: Counting objects:  96% (24/25)\u001b[K\rremote: Counting objects: 100% (25/25)\u001b[K\rremote: Counting objects: 100% (25/25), done.\u001b[K\n",
            "remote: Compressing objects: 100% (21/21), done.\u001b[K\n",
            "remote: Total 1565 (delta 6), reused 8 (delta 1), pack-reused 1540\n",
            "Receiving objects: 100% (1565/1565), 35.32 MiB | 27.59 MiB/s, done.\n",
            "Resolving deltas: 100% (850/850), done.\n"
          ],
          "name": "stdout"
        }
      ]
    },
    {
      "cell_type": "code",
      "metadata": {
        "id": "Yi48YLYiz3kp",
        "colab_type": "code",
        "outputId": "da593012-50a0-4504-9a0c-21b0d2ad64a2",
        "colab": {
          "base_uri": "https://localhost:8080/",
          "height": 136
        }
      },
      "source": [
        "!git clone https://github.com/tensorflow/lattice.git"
      ],
      "execution_count": 48,
      "outputs": [
        {
          "output_type": "stream",
          "text": [
            "Cloning into 'lattice'...\n",
            "remote: Enumerating objects: 86, done.\u001b[K\n",
            "remote: Counting objects:   1% (1/86)\u001b[K\rremote: Counting objects:   2% (2/86)\u001b[K\rremote: Counting objects:   3% (3/86)\u001b[K\rremote: Counting objects:   4% (4/86)\u001b[K\rremote: Counting objects:   5% (5/86)\u001b[K\rremote: Counting objects:   6% (6/86)\u001b[K\rremote: Counting objects:   8% (7/86)\u001b[K\rremote: Counting objects:   9% (8/86)\u001b[K\rremote: Counting objects:  10% (9/86)\u001b[K\rremote: Counting objects:  11% (10/86)\u001b[K\rremote: Counting objects:  12% (11/86)\u001b[K\rremote: Counting objects:  13% (12/86)\u001b[K\rremote: Counting objects:  15% (13/86)\u001b[K\rremote: Counting objects:  16% (14/86)\u001b[K\rremote: Counting objects:  17% (15/86)\u001b[K\rremote: Counting objects:  18% (16/86)\u001b[K\rremote: Counting objects:  19% (17/86)\u001b[K\rremote: Counting objects:  20% (18/86)\u001b[K\rremote: Counting objects:  22% (19/86)\u001b[K\rremote: Counting objects:  23% (20/86)\u001b[K\rremote: Counting objects:  24% (21/86)\u001b[K\rremote: Counting objects:  25% (22/86)\u001b[K\rremote: Counting objects:  26% (23/86)\u001b[K\rremote: Counting objects:  27% (24/86)\u001b[K\rremote: Counting objects:  29% (25/86)\u001b[K\rremote: Counting objects:  30% (26/86)\u001b[K\rremote: Counting objects:  31% (27/86)\u001b[K\rremote: Counting objects:  32% (28/86)\u001b[K\rremote: Counting objects:  33% (29/86)\u001b[K\rremote: Counting objects:  34% (30/86)\u001b[K\rremote: Counting objects:  36% (31/86)\u001b[K\rremote: Counting objects:  37% (32/86)\u001b[K\rremote: Counting objects:  38% (33/86)\u001b[K\rremote: Counting objects:  39% (34/86)\u001b[K\rremote: Counting objects:  40% (35/86)\u001b[K\rremote: Counting objects:  41% (36/86)\u001b[K\rremote: Counting objects:  43% (37/86)\u001b[K\rremote: Counting objects:  44% (38/86)\u001b[K\rremote: Counting objects:  45% (39/86)\u001b[K\rremote: Counting objects:  46% (40/86)\u001b[K\rremote: Counting objects:  47% (41/86)\u001b[K\rremote: Counting objects:  48% (42/86)\u001b[K\rremote: Counting objects:  50% (43/86)\u001b[K\rremote: Counting objects:  51% (44/86)\u001b[K\rremote: Counting objects:  52% (45/86)\u001b[K\rremote: Counting objects:  53% (46/86)\u001b[K\rremote: Counting objects:  54% (47/86)\u001b[K\rremote: Counting objects:  55% (48/86)\u001b[K\rremote: Counting objects:  56% (49/86)\u001b[K\rremote: Counting objects:  58% (50/86)\u001b[K\rremote: Counting objects:  59% (51/86)\u001b[K\rremote: Counting objects:  60% (52/86)\u001b[K\rremote: Counting objects:  61% (53/86)\u001b[K\rremote: Counting objects:  62% (54/86)\u001b[K\rremote: Counting objects:  63% (55/86)\u001b[K\rremote: Counting objects:  65% (56/86)\u001b[K\rremote: Counting objects:  66% (57/86)\u001b[K\rremote: Counting objects:  67% (58/86)\u001b[K\rremote: Counting objects:  68% (59/86)\u001b[K\rremote: Counting objects:  69% (60/86)\u001b[K\rremote: Counting objects:  70% (61/86)\u001b[K\rremote: Counting objects:  72% (62/86)\u001b[K\rremote: Counting objects:  73% (63/86)\u001b[K\rremote: Counting objects:  74% (64/86)\u001b[K\rremote: Counting objects:  75% (65/86)\u001b[K\rremote: Counting objects:  76% (66/86)\u001b[K\rremote: Counting objects:  77% (67/86)\u001b[K\rremote: Counting objects:  79% (68/86)\u001b[K\rremote: Counting objects:  80% (69/86)\u001b[K\rremote: Counting objects:  81% (70/86)\u001b[K\rremote: Counting objects:  82% (71/86)\u001b[K\rremote: Counting objects:  83% (72/86)\u001b[K\rremote: Counting objects:  84% (73/86)\u001b[K\rremote: Counting objects:  86% (74/86)\u001b[K\rremote: Counting objects:  87% (75/86)\u001b[K\rremote: Counting objects:  88% (76/86)\u001b[K\rremote: Counting objects:  89% (77/86)\u001b[K\rremote: Counting objects:  90% (78/86)\u001b[K\rremote: Counting objects:  91% (79/86)\u001b[K\rremote: Counting objects:  93% (80/86)\u001b[K\rremote: Counting objects:  94% (81/86)\u001b[K\rremote: Counting objects:  95% (82/86)\u001b[K\rremote: Counting objects:  96% (83/86)\u001b[K\rremote: Counting objects:  97% (84/86)\u001b[K\rremote: Counting objects:  98% (85/86)\u001b[K\rremote: Counting objects: 100% (86/86)\u001b[K\rremote: Counting objects: 100% (86/86), done.\u001b[K\n",
            "remote: Compressing objects: 100% (83/83), done.\u001b[K\n",
            "remote: Total 609 (delta 25), reused 23 (delta 3), pack-reused 523\u001b[K\n",
            "Receiving objects: 100% (609/609), 849.63 KiB | 9.04 MiB/s, done.\n",
            "Resolving deltas: 100% (332/332), done.\n"
          ],
          "name": "stdout"
        }
      ]
    },
    {
      "cell_type": "code",
      "metadata": {
        "id": "2edQA8J0Vw5L",
        "colab_type": "code",
        "outputId": "221c300e-b002-4e42-ac2f-2cdb393b616b",
        "colab": {
          "base_uri": "https://localhost:8080/",
          "height": 102
        }
      },
      "source": [
        "!git clone https://github.com/dipanjanS/hands-on-transfer-learning-with-python.git"
      ],
      "execution_count": 49,
      "outputs": [
        {
          "output_type": "stream",
          "text": [
            "Cloning into 'hands-on-transfer-learning-with-python'...\n",
            "remote: Enumerating objects: 184, done.\u001b[K\n",
            "remote: Total 184 (delta 0), reused 0 (delta 0), pack-reused 184\u001b[K\n",
            "Receiving objects: 100% (184/184), 38.33 MiB | 32.38 MiB/s, done.\n",
            "Resolving deltas: 100% (40/40), done.\n"
          ],
          "name": "stdout"
        }
      ]
    },
    {
      "cell_type": "code",
      "metadata": {
        "id": "d6_goA7bVytW",
        "colab_type": "code",
        "outputId": "3bbf3b8a-52a6-49bb-e44b-065ffcd4a2f0",
        "colab": {
          "base_uri": "https://localhost:8080/",
          "height": 119
        }
      },
      "source": [
        "!git clone https://github.com/huggingface/transfer-learning-conv-ai.git"
      ],
      "execution_count": 50,
      "outputs": [
        {
          "output_type": "stream",
          "text": [
            "Cloning into 'transfer-learning-conv-ai'...\n",
            "remote: Enumerating objects: 3, done.\u001b[K\n",
            "remote: Counting objects:  33% (1/3)\u001b[K\rremote: Counting objects:  66% (2/3)\u001b[K\rremote: Counting objects: 100% (3/3)\u001b[K\rremote: Counting objects: 100% (3/3), done.\u001b[K\n",
            "remote: Compressing objects:  33% (1/3)\u001b[K\rremote: Compressing objects:  66% (2/3)\u001b[K\rremote: Compressing objects: 100% (3/3)\u001b[K\rremote: Compressing objects: 100% (3/3), done.\u001b[K\n",
            "Unpacking objects:   1% (1/99)   \rUnpacking objects:   2% (2/99)   \rUnpacking objects:   3% (3/99)   \rUnpacking objects:   4% (4/99)   \rUnpacking objects:   5% (5/99)   \rUnpacking objects:   6% (6/99)   \rUnpacking objects:   7% (7/99)   \rUnpacking objects:   8% (8/99)   \rUnpacking objects:   9% (9/99)   \rUnpacking objects:  10% (10/99)   \rUnpacking objects:  11% (11/99)   \rUnpacking objects:  12% (12/99)   \rUnpacking objects:  13% (13/99)   \rUnpacking objects:  14% (14/99)   \rUnpacking objects:  15% (15/99)   \rUnpacking objects:  16% (16/99)   \rUnpacking objects:  17% (17/99)   \rUnpacking objects:  18% (18/99)   \rUnpacking objects:  19% (19/99)   \rUnpacking objects:  20% (20/99)   \rUnpacking objects:  21% (21/99)   \rUnpacking objects:  22% (22/99)   \rUnpacking objects:  23% (23/99)   \rUnpacking objects:  24% (24/99)   \rUnpacking objects:  25% (25/99)   \rUnpacking objects:  26% (26/99)   \rUnpacking objects:  27% (27/99)   \rUnpacking objects:  28% (28/99)   \rUnpacking objects:  29% (29/99)   \rUnpacking objects:  30% (30/99)   \rUnpacking objects:  31% (31/99)   \rUnpacking objects:  32% (32/99)   \rUnpacking objects:  33% (33/99)   \rremote: Total 99 (delta 0), reused 1 (delta 0), pack-reused 96\u001b[K\n",
            "Unpacking objects:  34% (34/99)   \rUnpacking objects:  35% (35/99)   \rUnpacking objects:  36% (36/99)   \rUnpacking objects:  37% (37/99)   \rUnpacking objects:  38% (38/99)   \rUnpacking objects:  39% (39/99)   \rUnpacking objects:  40% (40/99)   \rUnpacking objects:  41% (41/99)   \rUnpacking objects:  42% (42/99)   \rUnpacking objects:  43% (43/99)   \rUnpacking objects:  44% (44/99)   \rUnpacking objects:  45% (45/99)   \rUnpacking objects:  46% (46/99)   \rUnpacking objects:  47% (47/99)   \rUnpacking objects:  48% (48/99)   \rUnpacking objects:  49% (49/99)   \rUnpacking objects:  50% (50/99)   \rUnpacking objects:  51% (51/99)   \rUnpacking objects:  52% (52/99)   \rUnpacking objects:  53% (53/99)   \rUnpacking objects:  54% (54/99)   \rUnpacking objects:  55% (55/99)   \rUnpacking objects:  56% (56/99)   \rUnpacking objects:  57% (57/99)   \rUnpacking objects:  58% (58/99)   \rUnpacking objects:  59% (59/99)   \rUnpacking objects:  60% (60/99)   \rUnpacking objects:  61% (61/99)   \rUnpacking objects:  62% (62/99)   \rUnpacking objects:  63% (63/99)   \rUnpacking objects:  64% (64/99)   \rUnpacking objects:  65% (65/99)   \rUnpacking objects:  66% (66/99)   \rUnpacking objects:  67% (67/99)   \rUnpacking objects:  68% (68/99)   \rUnpacking objects:  69% (69/99)   \rUnpacking objects:  70% (70/99)   \rUnpacking objects:  71% (71/99)   \rUnpacking objects:  72% (72/99)   \rUnpacking objects:  73% (73/99)   \rUnpacking objects:  74% (74/99)   \rUnpacking objects:  75% (75/99)   \rUnpacking objects:  76% (76/99)   \rUnpacking objects:  77% (77/99)   \rUnpacking objects:  78% (78/99)   \rUnpacking objects:  79% (79/99)   \rUnpacking objects:  80% (80/99)   \rUnpacking objects:  81% (81/99)   \rUnpacking objects:  82% (82/99)   \rUnpacking objects:  83% (83/99)   \rUnpacking objects:  84% (84/99)   \rUnpacking objects:  85% (85/99)   \rUnpacking objects:  86% (86/99)   \rUnpacking objects:  87% (87/99)   \rUnpacking objects:  88% (88/99)   \rUnpacking objects:  89% (89/99)   \rUnpacking objects:  90% (90/99)   \rUnpacking objects:  91% (91/99)   \rUnpacking objects:  92% (92/99)   \rUnpacking objects:  93% (93/99)   \rUnpacking objects:  94% (94/99)   \rUnpacking objects:  95% (95/99)   \rUnpacking objects:  96% (96/99)   \rUnpacking objects:  97% (97/99)   \rUnpacking objects:  98% (98/99)   \rUnpacking objects: 100% (99/99)   \rUnpacking objects: 100% (99/99), done.\n"
          ],
          "name": "stdout"
        }
      ]
    },
    {
      "cell_type": "code",
      "metadata": {
        "id": "QEDQKX8hWLlQ",
        "colab_type": "code",
        "outputId": "5e8d57d2-4b9f-4fad-f4de-deee7c559509",
        "colab": {
          "base_uri": "https://localhost:8080/",
          "height": 119
        }
      },
      "source": [
        "!git clone https://github.com/vishalprabha/Image-Classification-Transfer-Learning-with-Inception-v3.git"
      ],
      "execution_count": 51,
      "outputs": [
        {
          "output_type": "stream",
          "text": [
            "Cloning into 'Image-Classification-Transfer-Learning-with-Inception-v3'...\n",
            "remote: Enumerating objects: 3701, done.\u001b[K\n",
            "remote: Total 3701 (delta 0), reused 0 (delta 0), pack-reused 3701\u001b[K\n",
            "Receiving objects: 100% (3701/3701), 218.76 MiB | 44.17 MiB/s, done.\n",
            "Resolving deltas: 100% (7/7), done.\n",
            "Checking out files: 100% (3684/3684), done.\n"
          ],
          "name": "stdout"
        }
      ]
    },
    {
      "cell_type": "code",
      "metadata": {
        "id": "49aPb2RiWiPf",
        "colab_type": "code",
        "outputId": "3048636d-06e3-40d2-ad1e-d90e7f468151",
        "colab": {
          "base_uri": "https://localhost:8080/",
          "height": 85
        }
      },
      "source": [
        "!git clone https://github.com/VikasSinghBhadouria/Image-Classification-using-VGG-transfer-learning.git"
      ],
      "execution_count": 52,
      "outputs": [
        {
          "output_type": "stream",
          "text": [
            "Cloning into 'Image-Classification-using-VGG-transfer-learning'...\n",
            "remote: Enumerating objects: 6, done.\u001b[K\n",
            "remote: Total 6 (delta 0), reused 0 (delta 0), pack-reused 6\u001b[K\n",
            "Unpacking objects:  16% (1/6)   \rUnpacking objects:  33% (2/6)   \rUnpacking objects:  50% (3/6)   \rUnpacking objects:  66% (4/6)   \rUnpacking objects:  83% (5/6)   \rUnpacking objects: 100% (6/6)   \rUnpacking objects: 100% (6/6), done.\n"
          ],
          "name": "stdout"
        }
      ]
    },
    {
      "cell_type": "code",
      "metadata": {
        "id": "K-wEBp32WskA",
        "colab_type": "code",
        "outputId": "f31b6eb8-d66d-4c7c-ea5b-c5f333d40c7d",
        "colab": {
          "base_uri": "https://localhost:8080/",
          "height": 85
        }
      },
      "source": [
        "!git clone https://github.com/google/inception.git"
      ],
      "execution_count": 53,
      "outputs": [
        {
          "output_type": "stream",
          "text": [
            "Cloning into 'inception'...\n",
            "remote: Enumerating objects: 20, done.\u001b[K\n",
            "remote: Total 20 (delta 0), reused 0 (delta 0), pack-reused 20\u001b[K\n",
            "Unpacking objects: 100% (20/20), done.\n"
          ],
          "name": "stdout"
        }
      ]
    },
    {
      "cell_type": "code",
      "metadata": {
        "id": "81RrJbMfW_vX",
        "colab_type": "code",
        "outputId": "0f42c49f-ce6b-4d77-a623-15a688a74b6a",
        "colab": {
          "base_uri": "https://localhost:8080/",
          "height": 85
        }
      },
      "source": [
        "!git clone https://github.com/EN10/KerasModels.git"
      ],
      "execution_count": 54,
      "outputs": [
        {
          "output_type": "stream",
          "text": [
            "Cloning into 'KerasModels'...\n",
            "remote: Enumerating objects: 25, done.\u001b[K\n",
            "Unpacking objects:   4% (1/25)   \rUnpacking objects:   8% (2/25)   \rUnpacking objects:  12% (3/25)   \rUnpacking objects:  16% (4/25)   \rUnpacking objects:  20% (5/25)   \rUnpacking objects:  24% (6/25)   \rUnpacking objects:  28% (7/25)   \rUnpacking objects:  32% (8/25)   \rUnpacking objects:  36% (9/25)   \rremote: Total 25 (delta 0), reused 0 (delta 0), pack-reused 25\u001b[K\n",
            "Unpacking objects:  40% (10/25)   \rUnpacking objects:  44% (11/25)   \rUnpacking objects:  48% (12/25)   \rUnpacking objects:  52% (13/25)   \rUnpacking objects:  56% (14/25)   \rUnpacking objects:  60% (15/25)   \rUnpacking objects:  64% (16/25)   \rUnpacking objects:  68% (17/25)   \rUnpacking objects:  72% (18/25)   \rUnpacking objects:  76% (19/25)   \rUnpacking objects:  80% (20/25)   \rUnpacking objects:  84% (21/25)   \rUnpacking objects:  88% (22/25)   \rUnpacking objects:  92% (23/25)   \rUnpacking objects:  96% (24/25)   \rUnpacking objects: 100% (25/25)   \rUnpacking objects: 100% (25/25), done.\n"
          ],
          "name": "stdout"
        }
      ]
    },
    {
      "cell_type": "code",
      "metadata": {
        "id": "6qoMggpeZey2",
        "colab_type": "code",
        "outputId": "9e525841-487b-4d82-fad5-b0acdca58770",
        "colab": {
          "base_uri": "https://localhost:8080/",
          "height": 85
        }
      },
      "source": [
        "!git clone https://github.com/alexwolf22/tensor2tensor_translator.git"
      ],
      "execution_count": 55,
      "outputs": [
        {
          "output_type": "stream",
          "text": [
            "Cloning into 'tensor2tensor_translator'...\n",
            "remote: Enumerating objects: 15, done.\u001b[K\n",
            "remote: Total 15 (delta 0), reused 0 (delta 0), pack-reused 15\n",
            "Unpacking objects: 100% (15/15), done.\n"
          ],
          "name": "stdout"
        }
      ]
    },
    {
      "cell_type": "code",
      "metadata": {
        "id": "pjwMaqstYvPK",
        "colab_type": "code",
        "colab": {}
      },
      "source": [
        "%load  https://colab.sandbox.google.com/github/tensorflow/docs/blob/master/site/en/tutorials/text/text_generation.ipynb"
      ],
      "execution_count": 0,
      "outputs": []
    },
    {
      "cell_type": "code",
      "metadata": {
        "id": "NgPA86jgXXff",
        "colab_type": "code",
        "outputId": "e014f881-fab0-4b93-bb20-935f28900373",
        "colab": {
          "base_uri": "https://localhost:8080/",
          "height": 136
        }
      },
      "source": [
        "!git clone https://github.com/openai/gym.git"
      ],
      "execution_count": 57,
      "outputs": [
        {
          "output_type": "stream",
          "text": [
            "Cloning into 'gym'...\n",
            "remote: Enumerating objects: 15, done.\u001b[K\n",
            "remote: Counting objects: 100% (15/15), done.\u001b[K\n",
            "remote: Compressing objects: 100% (15/15), done.\u001b[K\n",
            "remote: Total 10194 (delta 3), reused 5 (delta 0), pack-reused 10179\u001b[K\n",
            "Receiving objects: 100% (10194/10194), 3.93 MiB | 18.07 MiB/s, done.\n",
            "Resolving deltas: 100% (6859/6859), done.\n"
          ],
          "name": "stdout"
        }
      ]
    },
    {
      "cell_type": "code",
      "metadata": {
        "id": "XItgXXKvXcaj",
        "colab_type": "code",
        "outputId": "2e0e1df7-f75e-4e8a-cc1e-33baa953bb8b",
        "colab": {
          "base_uri": "https://localhost:8080/",
          "height": 85
        }
      },
      "source": [
        "!git clone https://github.com/MasazI/dqn-gym.git"
      ],
      "execution_count": 58,
      "outputs": [
        {
          "output_type": "stream",
          "text": [
            "Cloning into 'dqn-gym'...\n",
            "remote: Enumerating objects: 44, done.\u001b[K\n",
            "remote: Total 44 (delta 0), reused 0 (delta 0), pack-reused 44\u001b[K\n",
            "Unpacking objects: 100% (44/44), done.\n"
          ],
          "name": "stdout"
        }
      ]
    },
    {
      "cell_type": "code",
      "metadata": {
        "id": "6lU--azheMKH",
        "colab_type": "code",
        "colab": {}
      },
      "source": [
        "#!git clone https://github.com/dennybritz/reinforcement-learning.git"
      ],
      "execution_count": 0,
      "outputs": []
    },
    {
      "cell_type": "code",
      "metadata": {
        "id": "0JjZmWC_lqVD",
        "colab_type": "code",
        "outputId": "5529ab93-f433-4632-e9ed-68665c54a893",
        "colab": {
          "base_uri": "https://localhost:8080/",
          "height": 102
        }
      },
      "source": [
        "!git clone https://github.com/openai/baselines.git"
      ],
      "execution_count": 60,
      "outputs": [
        {
          "output_type": "stream",
          "text": [
            "Cloning into 'baselines'...\n",
            "remote: Enumerating objects: 3612, done.\u001b[K\n",
            "remote: Total 3612 (delta 0), reused 0 (delta 0), pack-reused 3612\u001b[K\n",
            "Receiving objects: 100% (3612/3612), 6.46 MiB | 22.42 MiB/s, done.\n",
            "Resolving deltas: 100% (2416/2416), done.\n"
          ],
          "name": "stdout"
        }
      ]
    },
    {
      "cell_type": "code",
      "metadata": {
        "id": "PwjubFLjmSSi",
        "colab_type": "code",
        "outputId": "bd833ff2-35c5-4485-fb24-c72957297902",
        "colab": {
          "base_uri": "https://localhost:8080/",
          "height": 102
        }
      },
      "source": [
        "!git clone https://github.com/kpzhang93/MTCNN_face_detection_alignment.git"
      ],
      "execution_count": 61,
      "outputs": [
        {
          "output_type": "stream",
          "text": [
            "Cloning into 'MTCNN_face_detection_alignment'...\n",
            "remote: Enumerating objects: 139, done.\u001b[K\n",
            "remote: Total 139 (delta 0), reused 0 (delta 0), pack-reused 139\u001b[K\n",
            "Receiving objects: 100% (139/139), 32.04 MiB | 36.45 MiB/s, done.\n",
            "Resolving deltas: 100% (51/51), done.\n"
          ],
          "name": "stdout"
        }
      ]
    },
    {
      "cell_type": "code",
      "metadata": {
        "id": "R4Ww1o-p30rU",
        "colab_type": "code",
        "outputId": "eba82cdd-ba3b-4c7c-d56e-590f38a8faf3",
        "colab": {
          "base_uri": "https://localhost:8080/",
          "height": 136
        }
      },
      "source": [
        "!git clone https://github.com/krasserm/face-recognition.git"
      ],
      "execution_count": 62,
      "outputs": [
        {
          "output_type": "stream",
          "text": [
            "Cloning into 'face-recognition'...\n",
            "remote: Enumerating objects: 15, done.\u001b[K\n",
            "remote: Counting objects:   6% (1/15)\u001b[K\rremote: Counting objects:  13% (2/15)\u001b[K\rremote: Counting objects:  20% (3/15)\u001b[K\rremote: Counting objects:  26% (4/15)\u001b[K\rremote: Counting objects:  33% (5/15)\u001b[K\rremote: Counting objects:  40% (6/15)\u001b[K\rremote: Counting objects:  46% (7/15)\u001b[K\rremote: Counting objects:  53% (8/15)\u001b[K\rremote: Counting objects:  60% (9/15)\u001b[K\rremote: Counting objects:  66% (10/15)\u001b[K\rremote: Counting objects:  73% (11/15)\u001b[K\rremote: Counting objects:  80% (12/15)\u001b[K\rremote: Counting objects:  86% (13/15)\u001b[K\rremote: Counting objects:  93% (14/15)\u001b[K\rremote: Counting objects: 100% (15/15)\u001b[K\rremote: Counting objects: 100% (15/15), done.\u001b[K\n",
            "remote: Compressing objects: 100% (15/15), done.\u001b[K\n",
            "remote: Total 170 (delta 7), reused 2 (delta 0), pack-reused 155\u001b[K\n",
            "Receiving objects: 100% (170/170), 16.84 MiB | 33.56 MiB/s, done.\n",
            "Resolving deltas: 100% (25/25), done.\n"
          ],
          "name": "stdout"
        }
      ]
    },
    {
      "cell_type": "code",
      "metadata": {
        "id": "--qMjo6M34OJ",
        "colab_type": "code",
        "outputId": "688032e5-f80b-43a8-a29a-c6105ae44b24",
        "colab": {
          "base_uri": "https://localhost:8080/",
          "height": 119
        }
      },
      "source": [
        "!git clone https://github.com/iwantooxxoox/Keras-OpenFace.git"
      ],
      "execution_count": 63,
      "outputs": [
        {
          "output_type": "stream",
          "text": [
            "Cloning into 'Keras-OpenFace'...\n",
            "remote: Enumerating objects: 383, done.\u001b[K\n",
            "remote: Total 383 (delta 0), reused 0 (delta 0), pack-reused 383\u001b[K\n",
            "Receiving objects: 100% (383/383), 109.63 MiB | 28.87 MiB/s, done.\n",
            "Resolving deltas: 100% (74/74), done.\n",
            "Checking out files: 100% (257/257), done.\n"
          ],
          "name": "stdout"
        }
      ]
    },
    {
      "cell_type": "code",
      "metadata": {
        "id": "Zgsy0UWo8urg",
        "colab_type": "code",
        "colab": {}
      },
      "source": [
        "%load https://github.com/mzaradzki/neuralnets/blob/master/vgg_faces_keras/vgg_faces_demo.ipynb"
      ],
      "execution_count": 0,
      "outputs": []
    },
    {
      "cell_type": "code",
      "metadata": {
        "id": "4m14vTo280vx",
        "colab_type": "code",
        "outputId": "a5004487-251c-46d4-af0b-de0d427305ff",
        "colab": {
          "base_uri": "https://localhost:8080/",
          "height": 102
        }
      },
      "source": [
        "!git clone https://github.com/jupyter/colaboratory.git"
      ],
      "execution_count": 65,
      "outputs": [
        {
          "output_type": "stream",
          "text": [
            "Cloning into 'colaboratory'...\n",
            "remote: Enumerating objects: 2056, done.\u001b[K\n",
            "remote: Total 2056 (delta 0), reused 0 (delta 0), pack-reused 2056\u001b[K\n",
            "Receiving objects: 100% (2056/2056), 1.04 MiB | 8.04 MiB/s, done.\n",
            "Resolving deltas: 100% (1297/1297), done.\n"
          ],
          "name": "stdout"
        }
      ]
    },
    {
      "cell_type": "code",
      "metadata": {
        "id": "pnh6y3zv1fTb",
        "colab_type": "code",
        "outputId": "c49dc753-ed8e-4eda-d49b-ab5a81a0efc2",
        "colab": {
          "base_uri": "https://localhost:8080/",
          "height": 136
        }
      },
      "source": [
        "!git clone https://github.com/quantumlib/Cirq.git"
      ],
      "execution_count": 66,
      "outputs": [
        {
          "output_type": "stream",
          "text": [
            "Cloning into 'Cirq'...\n",
            "remote: Enumerating objects: 36, done.\u001b[K\n",
            "remote: Counting objects:   2% (1/36)\u001b[K\rremote: Counting objects:   5% (2/36)\u001b[K\rremote: Counting objects:   8% (3/36)\u001b[K\rremote: Counting objects:  11% (4/36)\u001b[K\rremote: Counting objects:  13% (5/36)\u001b[K\rremote: Counting objects:  16% (6/36)\u001b[K\rremote: Counting objects:  19% (7/36)\u001b[K\rremote: Counting objects:  22% (8/36)\u001b[K\rremote: Counting objects:  25% (9/36)\u001b[K\rremote: Counting objects:  27% (10/36)\u001b[K\rremote: Counting objects:  30% (11/36)\u001b[K\rremote: Counting objects:  33% (12/36)\u001b[K\rremote: Counting objects:  36% (13/36)\u001b[K\rremote: Counting objects:  38% (14/36)\u001b[K\rremote: Counting objects:  41% (15/36)\u001b[K\rremote: Counting objects:  44% (16/36)\u001b[K\rremote: Counting objects:  47% (17/36)\u001b[K\rremote: Counting objects:  50% (18/36)\u001b[K\rremote: Counting objects:  52% (19/36)\u001b[K\rremote: Counting objects:  55% (20/36)\u001b[K\rremote: Counting objects:  58% (21/36)\u001b[K\rremote: Counting objects:  61% (22/36)\u001b[K\rremote: Counting objects:  63% (23/36)\u001b[K\rremote: Counting objects:  66% (24/36)\u001b[K\rremote: Counting objects:  69% (25/36)\u001b[K\rremote: Counting objects:  72% (26/36)\u001b[K\rremote: Counting objects:  75% (27/36)\u001b[K\rremote: Counting objects:  77% (28/36)\u001b[K\rremote: Counting objects:  80% (29/36)\u001b[K\rremote: Counting objects:  83% (30/36)\u001b[K\rremote: Counting objects:  86% (31/36)\u001b[K\rremote: Counting objects:  88% (32/36)\u001b[K\rremote: Counting objects:  91% (33/36)\u001b[K\rremote: Counting objects:  94% (34/36)\u001b[K\rremote: Counting objects:  97% (35/36)\u001b[K\rremote: Counting objects: 100% (36/36)\rremote: Counting objects: 100% (36/36), done.\u001b[K\n",
            "remote: Compressing objects: 100% (36/36), done.\u001b[K\n",
            "remote: Total 17005 (delta 13), reused 6 (delta 0), pack-reused 16969\u001b[K\n",
            "Receiving objects: 100% (17005/17005), 6.96 MiB | 23.21 MiB/s, done.\n",
            "Resolving deltas: 100% (13369/13369), done.\n"
          ],
          "name": "stdout"
        }
      ]
    },
    {
      "cell_type": "code",
      "metadata": {
        "id": "pcrNa-qp9yrL",
        "colab_type": "code",
        "outputId": "58e2a7d4-3a34-4170-e9bc-613f6537870b",
        "colab": {
          "base_uri": "https://localhost:8080/",
          "height": 85
        }
      },
      "source": [
        "!git clone https://github.com/saitejdandge/Sentimental_Analysis_LSTM_Conv1D.git"
      ],
      "execution_count": 67,
      "outputs": [
        {
          "output_type": "stream",
          "text": [
            "Cloning into 'Sentimental_Analysis_LSTM_Conv1D'...\n",
            "remote: Enumerating objects: 45, done.\u001b[K\n",
            "remote: Total 45 (delta 0), reused 0 (delta 0), pack-reused 45\u001b[K\n",
            "Unpacking objects: 100% (45/45), done.\n"
          ],
          "name": "stdout"
        }
      ]
    },
    {
      "cell_type": "code",
      "metadata": {
        "id": "UOxiScmp7XDh",
        "colab_type": "code",
        "outputId": "ba97eb14-a3b3-4dd2-d808-26332ea574eb",
        "colab": {
          "base_uri": "https://localhost:8080/",
          "height": 119
        }
      },
      "source": [
        "!git clone https://github.com/rohan-varma/word2vec.git"
      ],
      "execution_count": 68,
      "outputs": [
        {
          "output_type": "stream",
          "text": [
            "Cloning into 'word2vec'...\n",
            "remote: Enumerating objects: 299, done.\u001b[K\n",
            "remote: Total 299 (delta 0), reused 0 (delta 0), pack-reused 299\u001b[K\n",
            "Receiving objects: 100% (299/299), 289.76 MiB | 31.91 MiB/s, done.\n",
            "Resolving deltas: 100% (150/150), done.\n",
            "Checking out files: 100% (28/28), done.\n"
          ],
          "name": "stdout"
        }
      ]
    },
    {
      "cell_type": "code",
      "metadata": {
        "id": "yy26-MNY7bp0",
        "colab_type": "code",
        "outputId": "8461aa53-faa8-49b8-81d2-e07b62b563df",
        "colab": {
          "base_uri": "https://localhost:8080/",
          "height": 136
        }
      },
      "source": [
        "!git clone https://github.com/MorganGeek/bookmarks.git"
      ],
      "execution_count": 69,
      "outputs": [
        {
          "output_type": "stream",
          "text": [
            "Cloning into 'bookmarks'...\n",
            "remote: Enumerating objects: 120, done.\u001b[K\n",
            "remote: Counting objects: 100% (120/120), done.\u001b[K\n",
            "remote: Compressing objects: 100% (114/114), done.\u001b[K\n",
            "remote: Total 8244 (delta 74), reused 9 (delta 5), pack-reused 8124\u001b[K\n",
            "Receiving objects: 100% (8244/8244), 4.58 MiB | 20.85 MiB/s, done.\n",
            "Resolving deltas: 100% (5393/5393), done.\n"
          ],
          "name": "stdout"
        }
      ]
    },
    {
      "cell_type": "code",
      "metadata": {
        "id": "C9TOwwiiESbl",
        "colab_type": "code",
        "colab": {}
      },
      "source": [
        "#import import_ipynb\n",
        "#import https://github.com/wlin988/Colab/blob/master/Gamblers_Problem.ipynb"
      ],
      "execution_count": 0,
      "outputs": []
    },
    {
      "cell_type": "code",
      "metadata": {
        "id": "VZx1Q4lp9KV6",
        "colab_type": "code",
        "outputId": "368d7bc8-dadb-4348-b09e-cf6df02904ce",
        "colab": {
          "base_uri": "https://localhost:8080/",
          "height": 136
        }
      },
      "source": [
        "!git clone https://github.com/jupyter/jupyter.git\n"
      ],
      "execution_count": 71,
      "outputs": [
        {
          "output_type": "stream",
          "text": [
            "Cloning into 'jupyter'...\n",
            "remote: Enumerating objects: 163, done.\u001b[K\n",
            "remote: Counting objects:   0% (1/163)\u001b[K\rremote: Counting objects:   1% (2/163)\u001b[K\rremote: Counting objects:   2% (4/163)\u001b[K\rremote: Counting objects:   3% (5/163)\u001b[K\rremote: Counting objects:   4% (7/163)\u001b[K\rremote: Counting objects:   5% (9/163)\u001b[K\rremote: Counting objects:   6% (10/163)\u001b[K\rremote: Counting objects:   7% (12/163)\u001b[K\rremote: Counting objects:   8% (14/163)\u001b[K\rremote: Counting objects:   9% (15/163)\u001b[K\rremote: Counting objects:  10% (17/163)\u001b[K\rremote: Counting objects:  11% (18/163)\u001b[K\rremote: Counting objects:  12% (20/163)\u001b[K\rremote: Counting objects:  13% (22/163)\u001b[K\rremote: Counting objects:  14% (23/163)\u001b[K\rremote: Counting objects:  15% (25/163)\u001b[K\rremote: Counting objects:  16% (27/163)\u001b[K\rremote: Counting objects:  17% (28/163)\u001b[K\rremote: Counting objects:  18% (30/163)\u001b[K\rremote: Counting objects:  19% (31/163)\u001b[K\rremote: Counting objects:  20% (33/163)\u001b[K\rremote: Counting objects:  21% (35/163)\u001b[K\rremote: Counting objects:  22% (36/163)\u001b[K\rremote: Counting objects:  23% (38/163)\u001b[K\rremote: Counting objects:  24% (40/163)\u001b[K\rremote: Counting objects:  25% (41/163)\u001b[K\rremote: Counting objects:  26% (43/163)\u001b[K\rremote: Counting objects:  27% (45/163)\u001b[K\rremote: Counting objects:  28% (46/163)\u001b[K\rremote: Counting objects:  29% (48/163)\u001b[K\rremote: Counting objects:  30% (49/163)\u001b[K\rremote: Counting objects:  31% (51/163)\u001b[K\rremote: Counting objects:  32% (53/163)\u001b[K\rremote: Counting objects:  33% (54/163)\u001b[K\rremote: Counting objects:  34% (56/163)\u001b[K\rremote: Counting objects:  35% (58/163)\u001b[K\rremote: Counting objects:  36% (59/163)\u001b[K\rremote: Counting objects:  37% (61/163)\u001b[K\rremote: Counting objects:  38% (62/163)\u001b[K\rremote: Counting objects:  39% (64/163)\u001b[K\rremote: Counting objects:  40% (66/163)\u001b[K\rremote: Counting objects:  41% (67/163)\u001b[K\rremote: Counting objects:  42% (69/163)\u001b[K\rremote: Counting objects:  43% (71/163)\u001b[K\rremote: Counting objects:  44% (72/163)\u001b[K\rremote: Counting objects:  45% (74/163)\u001b[K\rremote: Counting objects:  46% (75/163)\u001b[K\rremote: Counting objects:  47% (77/163)\u001b[K\rremote: Counting objects:  48% (79/163)\u001b[K\rremote: Counting objects:  49% (80/163)\u001b[K\rremote: Counting objects:  50% (82/163)\u001b[K\rremote: Counting objects:  51% (84/163)\u001b[K\rremote: Counting objects:  52% (85/163)\u001b[K\rremote: Counting objects:  53% (87/163)\u001b[K\rremote: Counting objects:  54% (89/163)\u001b[K\rremote: Counting objects:  55% (90/163)\u001b[K\rremote: Counting objects:  56% (92/163)\u001b[K\rremote: Counting objects:  57% (93/163)\u001b[K\rremote: Counting objects:  58% (95/163)\u001b[K\rremote: Counting objects:  59% (97/163)\u001b[K\rremote: Counting objects:  60% (98/163)\u001b[K\rremote: Counting objects:  61% (100/163)\u001b[K\rremote: Counting objects:  62% (102/163)\u001b[K\rremote: Counting objects:  63% (103/163)\u001b[K\rremote: Counting objects:  64% (105/163)\u001b[K\rremote: Counting objects:  65% (106/163)\u001b[K\rremote: Counting objects:  66% (108/163)\u001b[K\rremote: Counting objects:  67% (110/163)\u001b[K\rremote: Counting objects:  68% (111/163)\u001b[K\rremote: Counting objects:  69% (113/163)\u001b[K\rremote: Counting objects:  70% (115/163)\u001b[K\rremote: Counting objects:  71% (116/163)\u001b[K\rremote: Counting objects:  72% (118/163)\u001b[K\rremote: Counting objects:  73% (119/163)\u001b[K\rremote: Counting objects:  74% (121/163)\u001b[K\rremote: Counting objects:  75% (123/163)\u001b[K\rremote: Counting objects:  76% (124/163)\u001b[K\rremote: Counting objects:  77% (126/163)\u001b[K\rremote: Counting objects:  78% (128/163)\u001b[K\rremote: Counting objects:  79% (129/163)\u001b[K\rremote: Counting objects:  80% (131/163)\u001b[K\rremote: Counting objects:  81% (133/163)\u001b[K\rremote: Counting objects:  82% (134/163)\u001b[K\rremote: Counting objects:  83% (136/163)\u001b[K\rremote: Counting objects:  84% (137/163)\u001b[K\rremote: Counting objects:  85% (139/163)\u001b[K\rremote: Counting objects:  86% (141/163)\u001b[K\rremote: Counting objects:  87% (142/163)\u001b[K\rremote: Counting objects:  88% (144/163)\u001b[K\rremote: Counting objects:  89% (146/163)\u001b[K\rremote: Counting objects:  90% (147/163)\u001b[K\rremote: Counting objects:  91% (149/163)\u001b[K\rremote: Counting objects:  92% (150/163)\u001b[K\rremote: Counting objects:  93% (152/163)\u001b[K\rremote: Counting objects:  94% (154/163)\u001b[K\rremote: Counting objects:  95% (155/163)\u001b[K\rremote: Counting objects:  96% (157/163)\u001b[K\rremote: Counting objects:  97% (159/163)\u001b[K\rremote: Counting objects:  98% (160/163)\u001b[K\rremote: Counting objects:  99% (162/163)\u001b[K\rremote: Counting objects: 100% (163/163)\u001b[K\rremote: Counting objects: 100% (163/163), done.\u001b[K\n",
            "remote: Compressing objects: 100% (131/131), done.\u001b[K\n",
            "remote: Total 3177 (delta 89), reused 22 (delta 7), pack-reused 3014\u001b[K\n",
            "Receiving objects: 100% (3177/3177), 4.99 MiB | 23.02 MiB/s, done.\n",
            "Resolving deltas: 100% (2072/2072), done.\n"
          ],
          "name": "stdout"
        }
      ]
    },
    {
      "cell_type": "code",
      "metadata": {
        "id": "W8V63ijbJihN",
        "colab_type": "code",
        "colab": {
          "base_uri": "https://localhost:8080/",
          "height": 85
        },
        "outputId": "7b6176eb-0ace-4a6f-a47b-caee5d6987a0"
      },
      "source": [
        "!git clone https://github.com/odewahn/ipynb-examples.git"
      ],
      "execution_count": 72,
      "outputs": [
        {
          "output_type": "stream",
          "text": [
            "Cloning into 'ipynb-examples'...\n",
            "remote: Enumerating objects: 24, done.\u001b[K\n",
            "remote: Total 24 (delta 0), reused 0 (delta 0), pack-reused 24\u001b[K\n",
            "Unpacking objects: 100% (24/24), done.\n"
          ],
          "name": "stdout"
        }
      ]
    },
    {
      "cell_type": "code",
      "metadata": {
        "id": "GDBQSfHFNc8Q",
        "colab_type": "code",
        "colab": {
          "base_uri": "https://localhost:8080/",
          "height": 190
        },
        "outputId": "f03a8685-f0d0-4f9d-aea3-5d16a17f5f0e"
      },
      "source": [
        "!pip install import-ipynb\n",
        "import import_ipynb"
      ],
      "execution_count": 73,
      "outputs": [
        {
          "output_type": "stream",
          "text": [
            "Collecting import-ipynb\n",
            "  Downloading https://files.pythonhosted.org/packages/63/35/495e0021bfdcc924c7cdec4e9fbb87c88dd03b9b9b22419444dc370c8a45/import-ipynb-0.1.3.tar.gz\n",
            "Building wheels for collected packages: import-ipynb\n",
            "  Building wheel for import-ipynb (setup.py) ... \u001b[?25l\u001b[?25hdone\n",
            "  Created wheel for import-ipynb: filename=import_ipynb-0.1.3-cp36-none-any.whl size=2975 sha256=95887b93f2f5ef681f58c2f904ac4a7e286bb52779fff0a39af2032731685c7b\n",
            "  Stored in directory: /root/.cache/pip/wheels/b4/7b/e9/a3a6e496115dffdb4e3085d0ae39ffe8a814eacc44bbf494b5\n",
            "Successfully built import-ipynb\n",
            "Installing collected packages: import-ipynb\n",
            "Successfully installed import-ipynb-0.1.3\n"
          ],
          "name": "stdout"
        }
      ]
    },
    {
      "cell_type": "code",
      "metadata": {
        "id": "HT4ArHWQgWzC",
        "colab_type": "code",
        "colab": {}
      },
      "source": [
        "%load http://colab.research.google.com/github/wlin988/Colab/blob/master/Gamblers_Problem.ipynb"
      ],
      "execution_count": 0,
      "outputs": []
    },
    {
      "cell_type": "code",
      "metadata": {
        "id": "3U61jMJzOxY4",
        "colab_type": "code",
        "colab": {}
      },
      "source": [
        "%load https://colab.sandbox.google.com/github/googlecolab/colabtools/blob/master/notebooks/colab-github-demo.ipynb"
      ],
      "execution_count": 0,
      "outputs": []
    },
    {
      "cell_type": "code",
      "metadata": {
        "id": "Yp_VVNwwSY0k",
        "colab_type": "code",
        "colab": {
          "base_uri": "https://localhost:8080/",
          "height": 102
        },
        "outputId": "2cdc2e95-43e5-4930-fc26-30ba71ef6193"
      },
      "source": [
        "!git clone https://github.com/explosion/sense2vec.git"
      ],
      "execution_count": 76,
      "outputs": [
        {
          "output_type": "stream",
          "text": [
            "Cloning into 'sense2vec'...\n",
            "remote: Enumerating objects: 2148, done.\u001b[K\n",
            "remote: Total 2148 (delta 0), reused 0 (delta 0), pack-reused 2148\u001b[K\n",
            "Receiving objects: 100% (2148/2148), 1.13 MiB | 8.17 MiB/s, done.\n",
            "Resolving deltas: 100% (1194/1194), done.\n"
          ],
          "name": "stdout"
        }
      ]
    }
  ]
}