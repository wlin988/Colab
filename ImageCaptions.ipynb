{
  "nbformat": 4,
  "nbformat_minor": 0,
  "metadata": {
    "colab": {
      "name": "ImageCaptions.ipynb",
      "provenance": [],
      "collapsed_sections": [],
      "include_colab_link": true
    },
    "kernelspec": {
      "name": "python3",
      "display_name": "Python 3"
    }
  },
  "cells": [
    {
      "cell_type": "markdown",
      "metadata": {
        "id": "view-in-github",
        "colab_type": "text"
      },
      "source": [
        "<a href=\"https://colab.research.google.com/github/wlin988/Colab/blob/master/ImageCaptions.ipynb\" target=\"_parent\"><img src=\"https://colab.research.google.com/assets/colab-badge.svg\" alt=\"Open In Colab\"/></a>"
      ]
    },
    {
      "cell_type": "code",
      "metadata": {
        "id": "9B4V8jC0j5pq",
        "colab_type": "code",
        "outputId": "d05e7650-5890-4c79-9efd-168e7ab765fe",
        "colab": {
          "base_uri": "https://localhost:8080/",
          "height": 102
        }
      },
      "source": [
        "!git clone https://github.com/DeepRNN/image_captioning.git\n"
      ],
      "execution_count": 1,
      "outputs": [
        {
          "output_type": "stream",
          "text": [
            "Cloning into 'image_captioning'...\n",
            "remote: Enumerating objects: 343, done.\u001b[K\n",
            "remote: Total 343 (delta 0), reused 0 (delta 0), pack-reused 343\u001b[K\n",
            "Receiving objects: 100% (343/343), 75.43 MiB | 28.43 MiB/s, done.\n",
            "Resolving deltas: 100% (150/150), done.\n"
          ],
          "name": "stdout"
        }
      ]
    },
    {
      "cell_type": "code",
      "metadata": {
        "id": "AYDeI3g3j71U",
        "colab_type": "code",
        "outputId": "7cec2397-100a-4641-d59b-b875d57f9e74",
        "colab": {
          "base_uri": "https://localhost:8080/",
          "height": 136
        }
      },
      "source": [
        "!git clone https://github.com/Div99/Image-Captioning.git"
      ],
      "execution_count": 2,
      "outputs": [
        {
          "output_type": "stream",
          "text": [
            "Cloning into 'Image-Captioning'...\n",
            "remote: Enumerating objects: 13, done.\u001b[K\n",
            "remote: Counting objects:   7% (1/13)\u001b[K\rremote: Counting objects:  15% (2/13)\u001b[K\rremote: Counting objects:  23% (3/13)\u001b[K\rremote: Counting objects:  30% (4/13)\u001b[K\rremote: Counting objects:  38% (5/13)\u001b[K\rremote: Counting objects:  46% (6/13)\u001b[K\rremote: Counting objects:  53% (7/13)\u001b[K\rremote: Counting objects:  61% (8/13)\u001b[K\rremote: Counting objects:  69% (9/13)\u001b[K\rremote: Counting objects:  76% (10/13)\u001b[K\rremote: Counting objects:  84% (11/13)\u001b[K\rremote: Counting objects:  92% (12/13)\u001b[K\rremote: Counting objects: 100% (13/13)\u001b[K\rremote: Counting objects: 100% (13/13), done.\u001b[K\n",
            "remote: Compressing objects: 100% (8/8), done.\u001b[K\n",
            "remote: Total 464 (delta 5), reused 11 (delta 5), pack-reused 451\u001b[K\n",
            "Receiving objects: 100% (464/464), 1.21 MiB | 2.49 MiB/s, done.\n",
            "Resolving deltas: 100% (306/306), done.\n"
          ],
          "name": "stdout"
        }
      ]
    },
    {
      "cell_type": "code",
      "metadata": {
        "id": "DphTGYwumbdl",
        "colab_type": "code",
        "outputId": "8bdfde59-04bf-415a-cc2a-be633f2297e4",
        "colab": {
          "base_uri": "https://localhost:8080/",
          "height": 136
        }
      },
      "source": [
        "!git clone https://github.com/tensorflow/tensor2tensor.git\n"
      ],
      "execution_count": 3,
      "outputs": [
        {
          "output_type": "stream",
          "text": [
            "Cloning into 'tensor2tensor'...\n",
            "remote: Enumerating objects: 12, done.\u001b[K\n",
            "remote: Counting objects: 100% (12/12), done.\u001b[K\n",
            "remote: Compressing objects: 100% (12/12), done.\u001b[K\n",
            "remote: Total 30775 (delta 2), reused 10 (delta 0), pack-reused 30763\u001b[K\n",
            "Receiving objects: 100% (30775/30775), 14.23 MiB | 14.75 MiB/s, done.\n",
            "Resolving deltas: 100% (24863/24863), done.\n"
          ],
          "name": "stdout"
        }
      ]
    },
    {
      "cell_type": "code",
      "metadata": {
        "id": "RKpVqhl98dgE",
        "colab_type": "code",
        "outputId": "c60d9b2d-4b64-4865-a77c-c48ae831ec11",
        "colab": {
          "base_uri": "https://localhost:8080/",
          "height": 136
        }
      },
      "source": [
        "!git clone https://github.com/awslabs/sockeye.git"
      ],
      "execution_count": 4,
      "outputs": [
        {
          "output_type": "stream",
          "text": [
            "Cloning into 'sockeye'...\n",
            "remote: Enumerating objects: 122, done.\u001b[K\n",
            "remote: Counting objects: 100% (122/122), done.\u001b[K\n",
            "remote: Compressing objects: 100% (96/96), done.\u001b[K\n",
            "remote: Total 6501 (delta 71), reused 49 (delta 26), pack-reused 6379\u001b[K\n",
            "Receiving objects: 100% (6501/6501), 8.03 MiB | 10.80 MiB/s, done.\n",
            "Resolving deltas: 100% (4906/4906), done.\n"
          ],
          "name": "stdout"
        }
      ]
    },
    {
      "cell_type": "code",
      "metadata": {
        "id": "UDUQSnhimdKG",
        "colab_type": "code",
        "colab": {}
      },
      "source": [
        "%load https://colab.sandbox.google.com/github/tensorflow/tensor2tensor/blob/master/tensor2tensor/notebooks/hello_t2t.ipynb\n"
      ],
      "execution_count": 0,
      "outputs": []
    },
    {
      "cell_type": "code",
      "metadata": {
        "id": "gBy5b7xfm7qg",
        "colab_type": "code",
        "colab": {}
      },
      "source": [
        "#%run https://colab.sandbox.google.com/github/tensorflow/tensor2tensor/blob/master/tensor2tensor/notebooks/hello_t2t.ipynb"
      ],
      "execution_count": 0,
      "outputs": []
    },
    {
      "cell_type": "code",
      "metadata": {
        "id": "2VKNk8HynIMa",
        "colab_type": "code",
        "outputId": "fccf5502-8382-46dd-ac27-55ff0deb7cf1",
        "colab": {
          "base_uri": "https://localhost:8080/",
          "height": 102
        }
      },
      "source": [
        "!git clone https://github.com/ArunMichaelDsouza/tensorflow-image-detection.git"
      ],
      "execution_count": 7,
      "outputs": [
        {
          "output_type": "stream",
          "text": [
            "Cloning into 'tensorflow-image-detection'...\n",
            "remote: Enumerating objects: 121, done.\u001b[K\n",
            "remote: Total 121 (delta 0), reused 0 (delta 0), pack-reused 121\u001b[K\n",
            "Receiving objects: 100% (121/121), 1.15 MiB | 2.53 MiB/s, done.\n",
            "Resolving deltas: 100% (62/62), done.\n"
          ],
          "name": "stdout"
        }
      ]
    },
    {
      "cell_type": "code",
      "metadata": {
        "id": "--tlwOrYo2hZ",
        "colab_type": "code",
        "outputId": "acf0ea57-3e20-4f86-cea1-e6872899f726",
        "colab": {
          "base_uri": "https://localhost:8080/",
          "height": 102
        }
      },
      "source": [
        "!git clone https://github.com/ageitgey/face_recognition.git\n"
      ],
      "execution_count": 8,
      "outputs": [
        {
          "output_type": "stream",
          "text": [
            "Cloning into 'face_recognition'...\n",
            "remote: Enumerating objects: 793, done.\u001b[K\n",
            "remote: Total 793 (delta 0), reused 0 (delta 0), pack-reused 793\n",
            "Receiving objects: 100% (793/793), 101.42 MiB | 26.94 MiB/s, done.\n",
            "Resolving deltas: 100% (456/456), done.\n"
          ],
          "name": "stdout"
        }
      ]
    },
    {
      "cell_type": "code",
      "metadata": {
        "id": "ITZhk3X1pEvS",
        "colab_type": "code",
        "outputId": "34f036fa-70c8-4e5d-f0d7-34d350cbf594",
        "colab": {
          "base_uri": "https://localhost:8080/",
          "height": 153
        }
      },
      "source": [
        "!git clone https://github.com/tensorflow/models.git"
      ],
      "execution_count": 9,
      "outputs": [
        {
          "output_type": "stream",
          "text": [
            "Cloning into 'models'...\n",
            "remote: Enumerating objects: 28, done.\u001b[K\n",
            "remote: Counting objects: 100% (28/28), done.\n",
            "remote: Compressing objects: 100% (28/28), done.\u001b[K\n",
            "remote: Total 32059 (delta 13), reused 14 (delta 0), pack-reused 32031\u001b[K\n",
            "Receiving objects: 100% (32059/32059), 511.22 MiB | 34.65 MiB/s, done.\n",
            "Resolving deltas: 100% (20302/20302), done.\n",
            "Checking out files: 100% (3135/3135), done.\n"
          ],
          "name": "stdout"
        }
      ]
    },
    {
      "cell_type": "code",
      "metadata": {
        "id": "NoowmTepph6C",
        "colab_type": "code",
        "outputId": "a96b93cc-2eef-4fbe-8ec4-f274274c1f55",
        "colab": {
          "base_uri": "https://localhost:8080/",
          "height": 136
        }
      },
      "source": [
        "!git clone https://github.com/cedrickchee/awesome-bert-nlp.git"
      ],
      "execution_count": 10,
      "outputs": [
        {
          "output_type": "stream",
          "text": [
            "Cloning into 'awesome-bert-nlp'...\n",
            "remote: Enumerating objects: 76, done.\u001b[K\n",
            "remote: Counting objects:   1% (1/76)\u001b[K\rremote: Counting objects:   2% (2/76)\u001b[K\rremote: Counting objects:   3% (3/76)\u001b[K\rremote: Counting objects:   5% (4/76)\u001b[K\rremote: Counting objects:   6% (5/76)\u001b[K\rremote: Counting objects:   7% (6/76)\u001b[K\rremote: Counting objects:   9% (7/76)\u001b[K\rremote: Counting objects:  10% (8/76)\u001b[K\rremote: Counting objects:  11% (9/76)\u001b[K\rremote: Counting objects:  13% (10/76)\u001b[K\rremote: Counting objects:  14% (11/76)\u001b[K\rremote: Counting objects:  15% (12/76)\u001b[K\rremote: Counting objects:  17% (13/76)\u001b[K\rremote: Counting objects:  18% (14/76)\u001b[K\rremote: Counting objects:  19% (15/76)\u001b[K\rremote: Counting objects:  21% (16/76)\u001b[K\rremote: Counting objects:  22% (17/76)\u001b[K\rremote: Counting objects:  23% (18/76)\u001b[K\rremote: Counting objects:  25% (19/76)\u001b[K\rremote: Counting objects:  26% (20/76)\u001b[K\rremote: Counting objects:  27% (21/76)\u001b[K\rremote: Counting objects:  28% (22/76)\u001b[K\rremote: Counting objects:  30% (23/76)\u001b[K\rremote: Counting objects:  31% (24/76)\u001b[K\rremote: Counting objects:  32% (25/76)\u001b[K\rremote: Counting objects:  34% (26/76)\u001b[K\rremote: Counting objects:  35% (27/76)\u001b[K\rremote: Counting objects:  36% (28/76)\u001b[K\rremote: Counting objects:  38% (29/76)\u001b[K\rremote: Counting objects:  39% (30/76)\u001b[K\rremote: Counting objects:  40% (31/76)\u001b[K\rremote: Counting objects:  42% (32/76)\u001b[K\rremote: Counting objects:  43% (33/76)\u001b[K\rremote: Counting objects:  44% (34/76)\u001b[K\rremote: Counting objects:  46% (35/76)\u001b[K\rremote: Counting objects:  47% (36/76)\u001b[K\rremote: Counting objects:  48% (37/76)\u001b[K\rremote: Counting objects:  50% (38/76)\u001b[K\rremote: Counting objects:  51% (39/76)\u001b[K\rremote: Counting objects:  52% (40/76)\u001b[K\rremote: Counting objects:  53% (41/76)\u001b[K\rremote: Counting objects:  55% (42/76)\u001b[K\rremote: Counting objects:  56% (43/76)\u001b[K\rremote: Counting objects:  57% (44/76)\u001b[K\rremote: Counting objects:  59% (45/76)\u001b[K\rremote: Counting objects:  60% (46/76)\u001b[K\rremote: Counting objects:  61% (47/76)\u001b[K\rremote: Counting objects:  63% (48/76)\u001b[K\rremote: Counting objects:  64% (49/76)\u001b[K\rremote: Counting objects:  65% (50/76)\u001b[K\rremote: Counting objects:  67% (51/76)\u001b[K\rremote: Counting objects:  68% (52/76)\u001b[K\rremote: Counting objects:  69% (53/76)\u001b[K\rremote: Counting objects:  71% (54/76)\u001b[K\rremote: Counting objects:  72% (55/76)\u001b[K\rremote: Counting objects:  73% (56/76)\u001b[K\rremote: Counting objects:  75% (57/76)\u001b[K\rremote: Counting objects:  76% (58/76)\u001b[K\rremote: Counting objects:  77% (59/76)\u001b[K\rremote: Counting objects:  78% (60/76)\u001b[K\rremote: Counting objects:  80% (61/76)\u001b[K\rremote: Counting objects:  81% (62/76)\u001b[K\rremote: Counting objects:  82% (63/76)\u001b[K\rremote: Counting objects:  84% (64/76)\u001b[K\rremote: Counting objects:  85% (65/76)\u001b[K\rremote: Counting objects:  86% (66/76)\u001b[K\rremote: Counting objects:  88% (67/76)\u001b[K\rremote: Counting objects:  89% (68/76)\u001b[K\rremote: Counting objects:  90% (69/76)\u001b[K\rremote: Counting objects:  92% (70/76)\u001b[K\rremote: Counting objects:  93% (71/76)\u001b[K\rremote: Counting objects:  94% (72/76)\u001b[K\rremote: Counting objects:  96% (73/76)\u001b[K\rremote: Counting objects:  97% (74/76)\u001b[K\rremote: Counting objects:  98% (75/76)\u001b[K\rremote: Counting objects: 100% (76/76)\u001b[K\rremote: Counting objects: 100% (76/76), done.\u001b[K\n",
            "remote: Compressing objects:   1% (1/76)\u001b[K\rremote: Compressing objects:   2% (2/76)\u001b[K\rremote: Compressing objects:   3% (3/76)\u001b[K\rremote: Compressing objects:   5% (4/76)\u001b[K\rremote: Compressing objects:   6% (5/76)\u001b[K\rremote: Compressing objects:   7% (6/76)\u001b[K\rremote: Compressing objects:   9% (7/76)\u001b[K\rremote: Compressing objects:  10% (8/76)\u001b[K\rremote: Compressing objects:  11% (9/76)\u001b[K\rremote: Compressing objects:  13% (10/76)\u001b[K\rremote: Compressing objects:  14% (11/76)\u001b[K\rremote: Compressing objects:  15% (12/76)\u001b[K\rremote: Compressing objects:  17% (13/76)\u001b[K\rremote: Compressing objects:  18% (14/76)\u001b[K\rremote: Compressing objects:  19% (15/76)\u001b[K\rremote: Compressing objects:  21% (16/76)\u001b[K\rremote: Compressing objects:  22% (17/76)\u001b[K\rremote: Compressing objects:  23% (18/76)\u001b[K\rremote: Compressing objects:  25% (19/76)\u001b[K\rremote: Compressing objects:  26% (20/76)\u001b[K\rremote: Compressing objects:  27% (21/76)\u001b[K\rremote: Compressing objects:  28% (22/76)\u001b[K\rremote: Compressing objects:  30% (23/76)\u001b[K\rremote: Compressing objects:  31% (24/76)\u001b[K\rremote: Compressing objects:  32% (25/76)\u001b[K\rremote: Compressing objects:  34% (26/76)\u001b[K\rremote: Compressing objects:  35% (27/76)\u001b[K\rremote: Compressing objects:  36% (28/76)\u001b[K\rremote: Compressing objects:  38% (29/76)\u001b[K\rremote: Compressing objects:  39% (30/76)\u001b[K\rremote: Compressing objects:  40% (31/76)\u001b[K\rremote: Compressing objects:  42% (32/76)\u001b[K\rremote: Compressing objects:  43% (33/76)\u001b[K\rremote: Compressing objects:  44% (34/76)\u001b[K\rremote: Compressing objects:  46% (35/76)\u001b[K\rremote: Compressing objects:  47% (36/76)\u001b[K\rremote: Compressing objects:  48% (37/76)\u001b[K\rremote: Compressing objects:  50% (38/76)\u001b[K\rremote: Compressing objects:  51% (39/76)\u001b[K\rremote: Compressing objects:  52% (40/76)\u001b[K\rremote: Compressing objects:  53% (41/76)\u001b[K\rremote: Compressing objects:  55% (42/76)\u001b[K\rremote: Compressing objects:  56% (43/76)\u001b[K\rremote: Compressing objects:  57% (44/76)\u001b[K\rremote: Compressing objects:  59% (45/76)\u001b[K\rremote: Compressing objects:  60% (46/76)\u001b[K\rremote: Compressing objects:  61% (47/76)\u001b[K\rremote: Compressing objects:  63% (48/76)\u001b[K\rremote: Compressing objects:  64% (49/76)\u001b[K\rremote: Compressing objects:  65% (50/76)\u001b[K\rremote: Compressing objects:  67% (51/76)\u001b[K\rremote: Compressing objects:  68% (52/76)\u001b[K\rremote: Compressing objects:  69% (53/76)\u001b[K\rremote: Compressing objects:  71% (54/76)\u001b[K\rremote: Compressing objects:  72% (55/76)\u001b[K\rremote: Compressing objects:  73% (56/76)\u001b[K\rremote: Compressing objects:  75% (57/76)\u001b[K\rremote: Compressing objects:  76% (58/76)\u001b[K\rremote: Compressing objects:  77% (59/76)\u001b[K\rremote: Compressing objects:  78% (60/76)\u001b[K\rremote: Compressing objects:  80% (61/76)\u001b[K\rremote: Compressing objects:  81% (62/76)\u001b[K\rremote: Compressing objects:  82% (63/76)\u001b[K\rremote: Compressing objects:  84% (64/76)\u001b[K\rremote: Compressing objects:  85% (65/76)\u001b[K\rremote: Compressing objects:  86% (66/76)\u001b[K\rremote: Compressing objects:  88% (67/76)\u001b[K\rremote: Compressing objects:  89% (68/76)\u001b[K\rremote: Compressing objects:  90% (69/76)\u001b[K\rremote: Compressing objects:  92% (70/76)\u001b[K\rremote: Compressing objects:  93% (71/76)\u001b[K\rremote: Compressing objects:  94% (72/76)\u001b[K\rremote: Compressing objects:  96% (73/76)\u001b[K\rremote: Compressing objects:  97% (74/76)\u001b[K\rremote: Compressing objects:  98% (75/76)\u001b[K\rremote: Compressing objects: 100% (76/76)\u001b[K\rremote: Compressing objects: 100% (76/76), done.\u001b[K\n",
            "Receiving objects:   0% (1/141)   \rReceiving objects:   1% (2/141)   \rReceiving objects:   2% (3/141)   \rReceiving objects:   3% (5/141)   \rReceiving objects:   4% (6/141)   \rReceiving objects:   5% (8/141)   \rReceiving objects:   6% (9/141)   \rReceiving objects:   7% (10/141)   \rReceiving objects:   8% (12/141)   \rReceiving objects:   9% (13/141)   \rReceiving objects:  10% (15/141)   \rReceiving objects:  11% (16/141)   \rReceiving objects:  12% (17/141)   \rReceiving objects:  13% (19/141)   \rReceiving objects:  14% (20/141)   \rReceiving objects:  15% (22/141)   \rReceiving objects:  16% (23/141)   \rReceiving objects:  17% (24/141)   \rReceiving objects:  18% (26/141)   \rReceiving objects:  19% (27/141)   \rReceiving objects:  20% (29/141)   \rReceiving objects:  21% (30/141)   \rReceiving objects:  22% (32/141)   \rReceiving objects:  23% (33/141)   \rReceiving objects:  24% (34/141)   \rReceiving objects:  25% (36/141)   \rReceiving objects:  26% (37/141)   \rReceiving objects:  27% (39/141)   \rReceiving objects:  28% (40/141)   \rReceiving objects:  29% (41/141)   \rReceiving objects:  30% (43/141)   \rReceiving objects:  31% (44/141)   \rReceiving objects:  32% (46/141)   \rReceiving objects:  33% (47/141)   \rReceiving objects:  34% (48/141)   \rReceiving objects:  35% (50/141)   \rReceiving objects:  36% (51/141)   \rReceiving objects:  37% (53/141)   \rReceiving objects:  38% (54/141)   \rReceiving objects:  39% (55/141)   \rReceiving objects:  40% (57/141)   \rReceiving objects:  41% (58/141)   \rReceiving objects:  42% (60/141)   \rReceiving objects:  43% (61/141)   \rReceiving objects:  44% (63/141)   \rReceiving objects:  45% (64/141)   \rReceiving objects:  46% (65/141)   \rReceiving objects:  47% (67/141)   \rReceiving objects:  48% (68/141)   \rReceiving objects:  49% (70/141)   \rReceiving objects:  50% (71/141)   \rReceiving objects:  51% (72/141)   \rReceiving objects:  52% (74/141)   \rReceiving objects:  53% (75/141)   \rReceiving objects:  54% (77/141)   \rReceiving objects:  55% (78/141)   \rReceiving objects:  56% (79/141)   \rReceiving objects:  57% (81/141)   \rReceiving objects:  58% (82/141)   \rReceiving objects:  59% (84/141)   \rReceiving objects:  60% (85/141)   \rReceiving objects:  61% (87/141)   \rReceiving objects:  62% (88/141)   \rReceiving objects:  63% (89/141)   \rReceiving objects:  64% (91/141)   \rReceiving objects:  65% (92/141)   \rremote: Total 141 (delta 24), reused 0 (delta 0), pack-reused 65\u001b[K\n",
            "Receiving objects:  66% (94/141)   \rReceiving objects:  67% (95/141)   \rReceiving objects:  68% (96/141)   \rReceiving objects:  69% (98/141)   \rReceiving objects:  70% (99/141)   \rReceiving objects:  71% (101/141)   \rReceiving objects:  72% (102/141)   \rReceiving objects:  73% (103/141)   \rReceiving objects:  74% (105/141)   \rReceiving objects:  75% (106/141)   \rReceiving objects:  76% (108/141)   \rReceiving objects:  77% (109/141)   \rReceiving objects:  78% (110/141)   \rReceiving objects:  79% (112/141)   \rReceiving objects:  80% (113/141)   \rReceiving objects:  81% (115/141)   \rReceiving objects:  82% (116/141)   \rReceiving objects:  83% (118/141)   \rReceiving objects:  84% (119/141)   \rReceiving objects:  85% (120/141)   \rReceiving objects:  86% (122/141)   \rReceiving objects:  87% (123/141)   \rReceiving objects:  88% (125/141)   \rReceiving objects:  89% (126/141)   \rReceiving objects:  90% (127/141)   \rReceiving objects:  91% (129/141)   \rReceiving objects:  92% (130/141)   \rReceiving objects:  93% (132/141)   \rReceiving objects:  94% (133/141)   \rReceiving objects:  95% (134/141)   \rReceiving objects:  96% (136/141)   \rReceiving objects:  97% (137/141)   \rReceiving objects:  98% (139/141)   \rReceiving objects:  99% (140/141)   \rReceiving objects: 100% (141/141)   \rReceiving objects: 100% (141/141), 53.03 KiB | 603.00 KiB/s, done.\n",
            "Resolving deltas:   0% (0/43)   \rResolving deltas:  67% (29/43)   \rResolving deltas: 100% (43/43)   \rResolving deltas: 100% (43/43), done.\n"
          ],
          "name": "stdout"
        }
      ]
    },
    {
      "cell_type": "code",
      "metadata": {
        "id": "jyAxvEgjpqYa",
        "colab_type": "code",
        "outputId": "d77c48df-889b-4fea-d1b3-8aada59e6636",
        "colab": {
          "base_uri": "https://localhost:8080/",
          "height": 136
        }
      },
      "source": [
        "!git clone https://github.com/dennybritz/reinforcement-learning.git"
      ],
      "execution_count": 11,
      "outputs": [
        {
          "output_type": "stream",
          "text": [
            "Cloning into 'reinforcement-learning'...\n",
            "remote: Enumerating objects: 9, done.\u001b[K\n",
            "remote: Counting objects:  11% (1/9)\u001b[K\rremote: Counting objects:  22% (2/9)\u001b[K\rremote: Counting objects:  33% (3/9)\u001b[K\rremote: Counting objects:  44% (4/9)\u001b[K\rremote: Counting objects:  55% (5/9)\u001b[K\rremote: Counting objects:  66% (6/9)\u001b[K\rremote: Counting objects:  77% (7/9)\u001b[K\rremote: Counting objects:  88% (8/9)\u001b[K\rremote: Counting objects: 100% (9/9)\u001b[K\rremote: Counting objects: 100% (9/9), done.\u001b[K\n",
            "remote: Compressing objects: 100% (9/9), done.\u001b[K\n",
            "remote: Total 1270 (delta 3), reused 3 (delta 0), pack-reused 1261\u001b[K\n",
            "Receiving objects: 100% (1270/1270), 5.25 MiB | 7.72 MiB/s, done.\n",
            "Resolving deltas: 100% (816/816), done.\n"
          ],
          "name": "stdout"
        }
      ]
    },
    {
      "cell_type": "code",
      "metadata": {
        "id": "8aPN2i7SIDAK",
        "colab_type": "code",
        "outputId": "661f76ec-2863-4428-cf6e-6c122053ae2c",
        "colab": {
          "base_uri": "https://localhost:8080/",
          "height": 102
        }
      },
      "source": [
        "!git clone https://github.com/MorvanZhou/Reinforcement-learning-with-tensorflow.git"
      ],
      "execution_count": 12,
      "outputs": [
        {
          "output_type": "stream",
          "text": [
            "Cloning into 'Reinforcement-learning-with-tensorflow'...\n",
            "remote: Enumerating objects: 669, done.\u001b[K\n",
            "remote: Total 669 (delta 0), reused 0 (delta 0), pack-reused 669\u001b[K\n",
            "Receiving objects: 100% (669/669), 421.45 KiB | 1.14 MiB/s, done.\n",
            "Resolving deltas: 100% (384/384), done.\n"
          ],
          "name": "stdout"
        }
      ]
    },
    {
      "cell_type": "code",
      "metadata": {
        "id": "jtwPnQIpIWYN",
        "colab_type": "code",
        "outputId": "6cea2810-f56c-451a-9160-e8ce0f52e42f",
        "colab": {
          "base_uri": "https://localhost:8080/",
          "height": 102
        }
      },
      "source": [
        "!git clone https://github.com/udacity/deep-reinforcement-learning.git"
      ],
      "execution_count": 13,
      "outputs": [
        {
          "output_type": "stream",
          "text": [
            "Cloning into 'deep-reinforcement-learning'...\n",
            "remote: Enumerating objects: 223, done.\u001b[K\n",
            "remote: Total 223 (delta 0), reused 0 (delta 0), pack-reused 223\u001b[K\n",
            "Receiving objects: 100% (223/223), 3.45 MiB | 5.37 MiB/s, done.\n",
            "Resolving deltas: 100% (51/51), done.\n"
          ],
          "name": "stdout"
        }
      ]
    },
    {
      "cell_type": "code",
      "metadata": {
        "id": "4z6AL2XzIqpk",
        "colab_type": "code",
        "outputId": "3b615df8-9dad-4daa-c363-bab97b6a1e63",
        "colab": {
          "base_uri": "https://localhost:8080/",
          "height": 102
        }
      },
      "source": [
        "!git clone https://github.com/Zeta36/chess-alpha-zero.git"
      ],
      "execution_count": 14,
      "outputs": [
        {
          "output_type": "stream",
          "text": [
            "Cloning into 'chess-alpha-zero'...\n",
            "remote: Enumerating objects: 478, done.\u001b[K\n",
            "remote: Total 478 (delta 0), reused 0 (delta 0), pack-reused 478\u001b[K\n",
            "Receiving objects: 100% (478/478), 122.38 MiB | 31.12 MiB/s, done.\n",
            "Resolving deltas: 100% (250/250), done.\n"
          ],
          "name": "stdout"
        }
      ]
    },
    {
      "cell_type": "code",
      "metadata": {
        "id": "pewKcEYII7ad",
        "colab_type": "code",
        "outputId": "355bc75d-5ead-494a-c1b0-bc2af05ceb0b",
        "colab": {
          "base_uri": "https://localhost:8080/",
          "height": 119
        }
      },
      "source": [
        "!git clone https://github.com/suragnair/alpha-zero-general.git"
      ],
      "execution_count": 15,
      "outputs": [
        {
          "output_type": "stream",
          "text": [
            "Cloning into 'alpha-zero-general'...\n",
            "remote: Enumerating objects: 927, done.\u001b[K\n",
            "remote: Total 927 (delta 0), reused 0 (delta 0), pack-reused 927\n",
            "Receiving objects: 100% (927/927), 230.16 MiB | 34.49 MiB/s, done.\n",
            "Resolving deltas: 100% (508/508), done.\n",
            "Checking out files: 100% (133/133), done.\n"
          ],
          "name": "stdout"
        }
      ]
    },
    {
      "cell_type": "code",
      "metadata": {
        "id": "xxNq7FWkJqL7",
        "colab_type": "code",
        "outputId": "f988840c-0bb6-41a3-ecda-56a257bbb8ac",
        "colab": {
          "base_uri": "https://localhost:8080/",
          "height": 136
        }
      },
      "source": [
        "!git clone https://github.com/glinscott/leela-chess.git"
      ],
      "execution_count": 16,
      "outputs": [
        {
          "output_type": "stream",
          "text": [
            "Cloning into 'leela-chess'...\n",
            "remote: Enumerating objects: 5, done.\u001b[K\n",
            "remote: Counting objects:  20% (1/5)\u001b[K\rremote: Counting objects:  40% (2/5)\u001b[K\rremote: Counting objects:  60% (3/5)\u001b[K\rremote: Counting objects:  80% (4/5)\u001b[K\rremote: Counting objects: 100% (5/5)\u001b[K\rremote: Counting objects: 100% (5/5), done.\u001b[K\n",
            "remote: Compressing objects: 100% (4/4), done.\u001b[K\n",
            "remote: Total 6791 (delta 0), reused 0 (delta 0), pack-reused 6786\u001b[K\n",
            "Receiving objects: 100% (6791/6791), 34.98 MiB | 18.19 MiB/s, done.\n",
            "Resolving deltas: 100% (4304/4304), done.\n"
          ],
          "name": "stdout"
        }
      ]
    }
  ]
}