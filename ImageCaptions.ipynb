{
  "nbformat": 4,
  "nbformat_minor": 0,
  "metadata": {
    "colab": {
      "name": "ImageCaptions.ipynb",
      "provenance": [],
      "collapsed_sections": [],
      "include_colab_link": true
    },
    "kernelspec": {
      "name": "python3",
      "display_name": "Python 3"
    },
    "accelerator": "TPU"
  },
  "cells": [
    {
      "cell_type": "markdown",
      "metadata": {
        "id": "view-in-github",
        "colab_type": "text"
      },
      "source": [
        "<a href=\"https://colab.research.google.com/github/wlin988/Colab/blob/master/ImageCaptions.ipynb\" target=\"_parent\"><img src=\"https://colab.research.google.com/assets/colab-badge.svg\" alt=\"Open In Colab\"/></a>"
      ]
    },
    {
      "cell_type": "code",
      "metadata": {
        "id": "A3B1starRY2g",
        "colab_type": "code",
        "colab": {}
      },
      "source": [
        "#from google.colab import drive\n",
        "#drive.mount('/content/drive')"
      ],
      "execution_count": 0,
      "outputs": []
    },
    {
      "cell_type": "code",
      "metadata": {
        "id": "4nER-5ajGFmK",
        "colab_type": "code",
        "colab": {}
      },
      "source": [
        "#from google.colab import drive\n",
        "#drive.mount('/gdrive')"
      ],
      "execution_count": 0,
      "outputs": []
    },
    {
      "cell_type": "code",
      "metadata": {
        "id": "GQSOhe6iGENM",
        "colab_type": "code",
        "colab": {}
      },
      "source": [
        "#with open('/gdrive/My Drive/foo.txt', 'w') as f:\n",
        "#  f.write('Hello Google Drive!')\n",
        "#!cat '/gdrive/My Drive/foo.txt'"
      ],
      "execution_count": 0,
      "outputs": []
    },
    {
      "cell_type": "code",
      "metadata": {
        "id": "9B4V8jC0j5pq",
        "colab_type": "code",
        "outputId": "fda6ac09-8b51-4d18-a3fd-89ad26b10b35",
        "colab": {
          "base_uri": "https://localhost:8080/",
          "height": 102
        }
      },
      "source": [
        "!git clone https://github.com/DeepRNN/image_captioning.git\n"
      ],
      "execution_count": 4,
      "outputs": [
        {
          "output_type": "stream",
          "text": [
            "Cloning into 'image_captioning'...\n",
            "remote: Enumerating objects: 343, done.\u001b[K\n",
            "remote: Total 343 (delta 0), reused 0 (delta 0), pack-reused 343\u001b[K\n",
            "Receiving objects: 100% (343/343), 75.43 MiB | 43.76 MiB/s, done.\n",
            "Resolving deltas: 100% (150/150), done.\n"
          ],
          "name": "stdout"
        }
      ]
    },
    {
      "cell_type": "code",
      "metadata": {
        "id": "AYDeI3g3j71U",
        "colab_type": "code",
        "outputId": "6f0a9cb2-48f1-41aa-8d42-96ebcd0bbc16",
        "colab": {
          "base_uri": "https://localhost:8080/",
          "height": 102
        }
      },
      "source": [
        "!git clone https://github.com/Div99/Image-Captioning.git"
      ],
      "execution_count": 5,
      "outputs": [
        {
          "output_type": "stream",
          "text": [
            "Cloning into 'Image-Captioning'...\n",
            "remote: Enumerating objects: 464, done.\u001b[K\n",
            "Receiving objects:   0% (1/464)   \rReceiving objects:   1% (5/464)   \rReceiving objects:   2% (10/464)   \rReceiving objects:   3% (14/464)   \rReceiving objects:   4% (19/464)   \rReceiving objects:   5% (24/464)   \rReceiving objects:   6% (28/464)   \rReceiving objects:   7% (33/464)   \rReceiving objects:   8% (38/464)   \rReceiving objects:   9% (42/464)   \rReceiving objects:  10% (47/464)   \rReceiving objects:  11% (52/464)   \rReceiving objects:  12% (56/464)   \rReceiving objects:  13% (61/464)   \rReceiving objects:  14% (65/464)   \rReceiving objects:  15% (70/464)   \rReceiving objects:  16% (75/464)   \rReceiving objects:  17% (79/464)   \rReceiving objects:  18% (84/464)   \rReceiving objects:  19% (89/464)   \rReceiving objects:  20% (93/464)   \rReceiving objects:  21% (98/464)   \rReceiving objects:  22% (103/464)   \rReceiving objects:  23% (107/464)   \rReceiving objects:  24% (112/464)   \rReceiving objects:  25% (116/464)   \rReceiving objects:  26% (121/464)   \rReceiving objects:  27% (126/464)   \rReceiving objects:  28% (130/464)   \rReceiving objects:  29% (135/464)   \rReceiving objects:  30% (140/464)   \rReceiving objects:  31% (144/464)   \rReceiving objects:  32% (149/464)   \rReceiving objects:  33% (154/464)   \rReceiving objects:  34% (158/464)   \rReceiving objects:  35% (163/464)   \rReceiving objects:  36% (168/464)   \rReceiving objects:  37% (172/464)   \rReceiving objects:  38% (177/464)   \rReceiving objects:  39% (181/464)   \rReceiving objects:  40% (186/464)   \rReceiving objects:  41% (191/464)   \rReceiving objects:  42% (195/464)   \rReceiving objects:  43% (200/464)   \rReceiving objects:  44% (205/464)   \rReceiving objects:  45% (209/464)   \rReceiving objects:  46% (214/464)   \rReceiving objects:  47% (219/464)   \rReceiving objects:  48% (223/464)   \rReceiving objects:  49% (228/464)   \rReceiving objects:  50% (232/464)   \rReceiving objects:  51% (237/464)   \rReceiving objects:  52% (242/464)   \rReceiving objects:  53% (246/464)   \rReceiving objects:  54% (251/464)   \rReceiving objects:  55% (256/464)   \rReceiving objects:  56% (260/464)   \rReceiving objects:  57% (265/464)   \rReceiving objects:  58% (270/464)   \rReceiving objects:  59% (274/464)   \rReceiving objects:  60% (279/464)   \rReceiving objects:  61% (284/464)   \rReceiving objects:  62% (288/464)   \rReceiving objects:  63% (293/464)   \rReceiving objects:  64% (297/464)   \rReceiving objects:  65% (302/464)   \rReceiving objects:  66% (307/464)   \rReceiving objects:  67% (311/464)   \rReceiving objects:  68% (316/464)   \rReceiving objects:  69% (321/464)   \rReceiving objects:  70% (325/464)   \rReceiving objects:  71% (330/464)   \rReceiving objects:  72% (335/464)   \rReceiving objects:  73% (339/464)   \rReceiving objects:  74% (344/464)   \rReceiving objects:  75% (348/464)   \rReceiving objects:  76% (353/464)   \rReceiving objects:  77% (358/464)   \rReceiving objects:  78% (362/464)   \rReceiving objects:  79% (367/464)   \rReceiving objects:  80% (372/464)   \rReceiving objects:  81% (376/464)   \rReceiving objects:  82% (381/464)   \rReceiving objects:  83% (386/464)   \rReceiving objects:  84% (390/464)   \rReceiving objects:  85% (395/464)   \rReceiving objects:  86% (400/464)   \rReceiving objects:  87% (404/464)   \rReceiving objects:  88% (409/464)   \rReceiving objects:  89% (413/464)   \rReceiving objects:  90% (418/464)   \rReceiving objects:  91% (423/464)   \rReceiving objects:  92% (427/464)   \rremote: Total 464 (delta 0), reused 0 (delta 0), pack-reused 464\u001b[K\n",
            "Receiving objects:  93% (432/464)   \rReceiving objects:  94% (437/464)   \rReceiving objects:  95% (441/464)   \rReceiving objects:  96% (446/464)   \rReceiving objects:  97% (451/464)   \rReceiving objects:  98% (455/464)   \rReceiving objects:  99% (460/464)   \rReceiving objects: 100% (464/464)   \rReceiving objects: 100% (464/464), 1.21 MiB | 8.96 MiB/s, done.\n",
            "Resolving deltas:   0% (0/309)   \rResolving deltas:   1% (4/309)   \rResolving deltas:   2% (8/309)   \rResolving deltas:   3% (10/309)   \rResolving deltas:   4% (13/309)   \rResolving deltas:   5% (16/309)   \rResolving deltas:   6% (19/309)   \rResolving deltas:   7% (22/309)   \rResolving deltas:   8% (25/309)   \rResolving deltas:   9% (28/309)   \rResolving deltas:  10% (31/309)   \rResolving deltas:  11% (34/309)   \rResolving deltas:  12% (38/309)   \rResolving deltas:  13% (41/309)   \rResolving deltas:  17% (54/309)   \rResolving deltas:  18% (57/309)   \rResolving deltas:  20% (62/309)   \rResolving deltas:  22% (71/309)   \rResolving deltas:  23% (74/309)   \rResolving deltas:  25% (79/309)   \rResolving deltas:  30% (95/309)   \rResolving deltas:  33% (103/309)   \rResolving deltas:  34% (106/309)   \rResolving deltas:  54% (167/309)   \rResolving deltas:  60% (187/309)   \rResolving deltas:  63% (196/309)   \rResolving deltas:  70% (219/309)   \rResolving deltas:  75% (233/309)   \rResolving deltas:  79% (246/309)   \rResolving deltas:  80% (249/309)   \rResolving deltas:  81% (251/309)   \rResolving deltas:  82% (255/309)   \rResolving deltas:  84% (260/309)   \rResolving deltas:  91% (284/309)   \rResolving deltas:  93% (290/309)   \rResolving deltas:  94% (291/309)   \rResolving deltas:  97% (302/309)   \rResolving deltas:  98% (305/309)   \rResolving deltas:  99% (307/309)   \rResolving deltas: 100% (309/309)   \rResolving deltas: 100% (309/309), done.\n"
          ],
          "name": "stdout"
        }
      ]
    },
    {
      "cell_type": "code",
      "metadata": {
        "id": "DphTGYwumbdl",
        "colab_type": "code",
        "outputId": "d0a63967-e90f-4f44-edec-22d60a1380b3",
        "colab": {
          "base_uri": "https://localhost:8080/",
          "height": 136
        }
      },
      "source": [
        "!git clone https://github.com/tensorflow/tensor2tensor.git\n"
      ],
      "execution_count": 6,
      "outputs": [
        {
          "output_type": "stream",
          "text": [
            "Cloning into 'tensor2tensor'...\n",
            "remote: Enumerating objects: 105, done.\u001b[K\n",
            "remote: Counting objects:   0% (1/105)\u001b[K\rremote: Counting objects:   1% (2/105)\u001b[K\rremote: Counting objects:   2% (3/105)\u001b[K\rremote: Counting objects:   3% (4/105)\u001b[K\rremote: Counting objects:   4% (5/105)\u001b[K\rremote: Counting objects:   5% (6/105)\u001b[K\rremote: Counting objects:   6% (7/105)\u001b[K\rremote: Counting objects:   7% (8/105)\u001b[K\rremote: Counting objects:   8% (9/105)\u001b[K\rremote: Counting objects:   9% (10/105)\u001b[K\rremote: Counting objects:  10% (11/105)\u001b[K\rremote: Counting objects:  11% (12/105)\u001b[K\rremote: Counting objects:  12% (13/105)\u001b[K\rremote: Counting objects:  13% (14/105)\u001b[K\rremote: Counting objects:  14% (15/105)\u001b[K\rremote: Counting objects:  15% (16/105)\u001b[K\rremote: Counting objects:  16% (17/105)\u001b[K\rremote: Counting objects:  17% (18/105)\u001b[K\rremote: Counting objects:  18% (19/105)\u001b[K\rremote: Counting objects:  19% (20/105)\u001b[K\rremote: Counting objects:  20% (21/105)\u001b[K\rremote: Counting objects:  21% (23/105)\u001b[K\rremote: Counting objects:  22% (24/105)\u001b[K\rremote: Counting objects:  23% (25/105)\u001b[K\rremote: Counting objects:  24% (26/105)\u001b[K\rremote: Counting objects:  25% (27/105)\u001b[K\rremote: Counting objects:  26% (28/105)\u001b[K\rremote: Counting objects:  27% (29/105)\u001b[K\rremote: Counting objects:  28% (30/105)\u001b[K\rremote: Counting objects:  29% (31/105)\u001b[K\rremote: Counting objects:  30% (32/105)\u001b[K\rremote: Counting objects:  31% (33/105)\u001b[K\rremote: Counting objects:  32% (34/105)\u001b[K\rremote: Counting objects:  33% (35/105)\u001b[K\rremote: Counting objects:  34% (36/105)\u001b[K\rremote: Counting objects:  35% (37/105)\u001b[K\rremote: Counting objects:  36% (38/105)\u001b[K\rremote: Counting objects:  37% (39/105)\u001b[K\rremote: Counting objects:  38% (40/105)\u001b[K\rremote: Counting objects:  39% (41/105)\u001b[K\rremote: Counting objects:  40% (42/105)\u001b[K\rremote: Counting objects:  41% (44/105)\u001b[K\rremote: Counting objects:  42% (45/105)\u001b[K\rremote: Counting objects:  43% (46/105)\u001b[K\rremote: Counting objects:  44% (47/105)\u001b[K\rremote: Counting objects:  45% (48/105)\u001b[K\rremote: Counting objects:  46% (49/105)\u001b[K\rremote: Counting objects:  47% (50/105)\u001b[K\rremote: Counting objects:  48% (51/105)\u001b[K\rremote: Counting objects:  49% (52/105)\u001b[K\rremote: Counting objects:  50% (53/105)\u001b[K\rremote: Counting objects:  51% (54/105)\u001b[K\rremote: Counting objects:  52% (55/105)\u001b[K\rremote: Counting objects:  53% (56/105)\u001b[K\rremote: Counting objects:  54% (57/105)\u001b[K\rremote: Counting objects:  55% (58/105)\u001b[K\rremote: Counting objects:  56% (59/105)\u001b[K\rremote: Counting objects:  57% (60/105)\u001b[K\rremote: Counting objects:  58% (61/105)\u001b[K\rremote: Counting objects:  59% (62/105)\u001b[K\rremote: Counting objects:  60% (63/105)\u001b[K\rremote: Counting objects:  61% (65/105)\u001b[K\rremote: Counting objects:  62% (66/105)\u001b[K\rremote: Counting objects:  63% (67/105)\u001b[K\rremote: Counting objects:  64% (68/105)\u001b[K\rremote: Counting objects:  65% (69/105)\u001b[K\rremote: Counting objects:  66% (70/105)\u001b[K\rremote: Counting objects:  67% (71/105)\u001b[K\rremote: Counting objects:  68% (72/105)\u001b[K\rremote: Counting objects:  69% (73/105)\u001b[K\rremote: Counting objects:  70% (74/105)\u001b[K\rremote: Counting objects:  71% (75/105)\u001b[K\rremote: Counting objects:  72% (76/105)\u001b[K\rremote: Counting objects:  73% (77/105)\u001b[K\rremote: Counting objects:  74% (78/105)\u001b[K\rremote: Counting objects:  75% (79/105)\u001b[K\rremote: Counting objects:  76% (80/105)\u001b[K\rremote: Counting objects:  77% (81/105)\u001b[K\rremote: Counting objects:  78% (82/105)\u001b[K\rremote: Counting objects:  79% (83/105)\u001b[K\rremote: Counting objects:  80% (84/105)\u001b[K\rremote: Counting objects:  81% (86/105)\u001b[K\rremote: Counting objects:  82% (87/105)\u001b[K\rremote: Counting objects:  83% (88/105)\u001b[K\rremote: Counting objects:  84% (89/105)\u001b[K\rremote: Counting objects:  85% (90/105)\u001b[K\rremote: Counting objects:  86% (91/105)\u001b[K\rremote: Counting objects:  87% (92/105)\u001b[K\rremote: Counting objects:  88% (93/105)\u001b[K\rremote: Counting objects:  89% (94/105)\u001b[K\rremote: Counting objects:  90% (95/105)\u001b[K\rremote: Counting objects:  91% (96/105)\u001b[K\rremote: Counting objects:  92% (97/105)\u001b[K\rremote: Counting objects:  93% (98/105)\u001b[K\rremote: Counting objects:  94% (99/105)\u001b[K\rremote: Counting objects:  95% (100/105)\u001b[K\rremote: Counting objects:  96% (101/105)\u001b[K\rremote: Counting objects:  97% (102/105)\u001b[K\rremote: Counting objects:  98% (103/105)\u001b[K\rremote: Counting objects:  99% (104/105)\u001b[K\rremote: Counting objects: 100% (105/105)\u001b[K\rremote: Counting objects: 100% (105/105), done.\u001b[K\n",
            "remote: Compressing objects: 100% (85/85), done.\u001b[K\n",
            "remote: Total 31156 (delta 24), reused 101 (delta 20), pack-reused 31051\u001b[K\n",
            "Receiving objects: 100% (31156/31156), 14.67 MiB | 21.19 MiB/s, done.\n",
            "Resolving deltas: 100% (25118/25118), done.\n"
          ],
          "name": "stdout"
        }
      ]
    },
    {
      "cell_type": "code",
      "metadata": {
        "id": "RKpVqhl98dgE",
        "colab_type": "code",
        "outputId": "45792ddf-1f8b-42d0-bf0d-caa6e10c7410",
        "colab": {
          "base_uri": "https://localhost:8080/",
          "height": 136
        }
      },
      "source": [
        "!git clone https://github.com/awslabs/sockeye.git"
      ],
      "execution_count": 7,
      "outputs": [
        {
          "output_type": "stream",
          "text": [
            "Cloning into 'sockeye'...\n",
            "remote: Enumerating objects: 150, done.\u001b[K\n",
            "remote: Counting objects: 100% (150/150), done.\u001b[K\n",
            "remote: Compressing objects: 100% (96/96), done.\u001b[K\n",
            "remote: Total 6646 (delta 83), reused 85 (delta 53), pack-reused 6496\u001b[K\n",
            "Receiving objects: 100% (6646/6646), 8.08 MiB | 20.03 MiB/s, done.\n",
            "Resolving deltas: 100% (5015/5015), done.\n"
          ],
          "name": "stdout"
        }
      ]
    },
    {
      "cell_type": "code",
      "metadata": {
        "id": "UDUQSnhimdKG",
        "colab_type": "code",
        "colab": {}
      },
      "source": [
        "%load https://colab.sandbox.google.com/github/tensorflow/tensor2tensor/blob/master/tensor2tensor/notebooks/hello_t2t.ipynb\n"
      ],
      "execution_count": 0,
      "outputs": []
    },
    {
      "cell_type": "code",
      "metadata": {
        "id": "gBy5b7xfm7qg",
        "colab_type": "code",
        "colab": {}
      },
      "source": [
        "#%run https://colab.sandbox.google.com/github/tensorflow/tensor2tensor/blob/master/tensor2tensor/notebooks/hello_t2t.ipynb"
      ],
      "execution_count": 0,
      "outputs": []
    },
    {
      "cell_type": "code",
      "metadata": {
        "id": "2VKNk8HynIMa",
        "colab_type": "code",
        "outputId": "845bbbd0-81fd-48b3-a338-5db736cf6913",
        "colab": {
          "base_uri": "https://localhost:8080/",
          "height": 102
        }
      },
      "source": [
        "!git clone https://github.com/ArunMichaelDsouza/tensorflow-image-detection.git"
      ],
      "execution_count": 10,
      "outputs": [
        {
          "output_type": "stream",
          "text": [
            "Cloning into 'tensorflow-image-detection'...\n",
            "remote: Enumerating objects: 121, done.\u001b[K\n",
            "remote: Total 121 (delta 0), reused 0 (delta 0), pack-reused 121\u001b[K\n",
            "Receiving objects: 100% (121/121), 1.15 MiB | 7.79 MiB/s, done.\n",
            "Resolving deltas: 100% (62/62), done.\n"
          ],
          "name": "stdout"
        }
      ]
    },
    {
      "cell_type": "code",
      "metadata": {
        "id": "--tlwOrYo2hZ",
        "colab_type": "code",
        "outputId": "d533f13b-5736-47f6-cd7e-64ff9d77e01e",
        "colab": {
          "base_uri": "https://localhost:8080/",
          "height": 102
        }
      },
      "source": [
        "!git clone https://github.com/ageitgey/face_recognition.git\n"
      ],
      "execution_count": 11,
      "outputs": [
        {
          "output_type": "stream",
          "text": [
            "Cloning into 'face_recognition'...\n",
            "remote: Enumerating objects: 814, done.\u001b[K\n",
            "remote: Total 814 (delta 0), reused 0 (delta 0), pack-reused 814\u001b[K\n",
            "Receiving objects: 100% (814/814), 101.42 MiB | 29.78 MiB/s, done.\n",
            "Resolving deltas: 100% (470/470), done.\n"
          ],
          "name": "stdout"
        }
      ]
    },
    {
      "cell_type": "code",
      "metadata": {
        "id": "ITZhk3X1pEvS",
        "colab_type": "code",
        "outputId": "df61c07a-9748-49b9-a3ff-9e9ab6738b5c",
        "colab": {
          "base_uri": "https://localhost:8080/",
          "height": 153
        }
      },
      "source": [
        "!git clone https://github.com/tensorflow/models.git"
      ],
      "execution_count": 12,
      "outputs": [
        {
          "output_type": "stream",
          "text": [
            "Cloning into 'models'...\n",
            "remote: Enumerating objects: 7, done.\u001b[K\n",
            "remote: Counting objects: 100% (7/7), done.\u001b[K\n",
            "remote: Compressing objects: 100% (7/7), done.\u001b[K\n",
            "remote: Total 33468 (delta 0), reused 7 (delta 0), pack-reused 33461\u001b[K\n",
            "Receiving objects: 100% (33468/33468), 512.00 MiB | 33.32 MiB/s, done.\n",
            "Resolving deltas: 100% (21385/21385), done.\n",
            "Checking out files: 100% (3194/3194), done.\n"
          ],
          "name": "stdout"
        }
      ]
    },
    {
      "cell_type": "code",
      "metadata": {
        "id": "NoowmTepph6C",
        "colab_type": "code",
        "outputId": "84748969-3cbe-4db9-be2a-1a07af3d43c3",
        "colab": {
          "base_uri": "https://localhost:8080/",
          "height": 136
        }
      },
      "source": [
        "!git clone https://github.com/cedrickchee/awesome-bert-nlp.git"
      ],
      "execution_count": 13,
      "outputs": [
        {
          "output_type": "stream",
          "text": [
            "Cloning into 'awesome-bert-nlp'...\n",
            "remote: Enumerating objects: 79, done.\u001b[K\n",
            "remote: Counting objects:   1% (1/79)\u001b[K\rremote: Counting objects:   2% (2/79)\u001b[K\rremote: Counting objects:   3% (3/79)\u001b[K\rremote: Counting objects:   5% (4/79)\u001b[K\rremote: Counting objects:   6% (5/79)\u001b[K\rremote: Counting objects:   7% (6/79)\u001b[K\rremote: Counting objects:   8% (7/79)\u001b[K\rremote: Counting objects:  10% (8/79)\u001b[K\rremote: Counting objects:  11% (9/79)\u001b[K\rremote: Counting objects:  12% (10/79)\u001b[K\rremote: Counting objects:  13% (11/79)\u001b[K\rremote: Counting objects:  15% (12/79)\u001b[K\rremote: Counting objects:  16% (13/79)\u001b[K\rremote: Counting objects:  17% (14/79)\u001b[K\rremote: Counting objects:  18% (15/79)\u001b[K\rremote: Counting objects:  20% (16/79)\u001b[K\rremote: Counting objects:  21% (17/79)\u001b[K\rremote: Counting objects:  22% (18/79)\u001b[K\rremote: Counting objects:  24% (19/79)\u001b[K\rremote: Counting objects:  25% (20/79)\u001b[K\rremote: Counting objects:  26% (21/79)\u001b[K\rremote: Counting objects:  27% (22/79)\u001b[K\rremote: Counting objects:  29% (23/79)\u001b[K\rremote: Counting objects:  30% (24/79)\u001b[K\rremote: Counting objects:  31% (25/79)\u001b[K\rremote: Counting objects:  32% (26/79)\u001b[K\rremote: Counting objects:  34% (27/79)\u001b[K\rremote: Counting objects:  35% (28/79)\u001b[K\rremote: Counting objects:  36% (29/79)\u001b[K\rremote: Counting objects:  37% (30/79)\u001b[K\rremote: Counting objects:  39% (31/79)\u001b[K\rremote: Counting objects:  40% (32/79)\u001b[K\rremote: Counting objects:  41% (33/79)\u001b[K\rremote: Counting objects:  43% (34/79)\u001b[K\rremote: Counting objects:  44% (35/79)\u001b[K\rremote: Counting objects:  45% (36/79)\u001b[K\rremote: Counting objects:  46% (37/79)\u001b[K\rremote: Counting objects:  48% (38/79)\u001b[K\rremote: Counting objects:  49% (39/79)\u001b[K\rremote: Counting objects:  50% (40/79)\u001b[K\rremote: Counting objects:  51% (41/79)\u001b[K\rremote: Counting objects:  53% (42/79)\u001b[K\rremote: Counting objects:  54% (43/79)\u001b[K\rremote: Counting objects:  55% (44/79)\u001b[K\rremote: Counting objects:  56% (45/79)\u001b[K\rremote: Counting objects:  58% (46/79)\u001b[K\rremote: Counting objects:  59% (47/79)\u001b[K\rremote: Counting objects:  60% (48/79)\u001b[K\rremote: Counting objects:  62% (49/79)\u001b[K\rremote: Counting objects:  63% (50/79)\u001b[K\rremote: Counting objects:  64% (51/79)\u001b[K\rremote: Counting objects:  65% (52/79)\u001b[K\rremote: Counting objects:  67% (53/79)\u001b[K\rremote: Counting objects:  68% (54/79)\u001b[K\rremote: Counting objects:  69% (55/79)\u001b[K\rremote: Counting objects:  70% (56/79)\u001b[K\rremote: Counting objects:  72% (57/79)\u001b[K\rremote: Counting objects:  73% (58/79)\u001b[K\rremote: Counting objects:  74% (59/79)\u001b[K\rremote: Counting objects:  75% (60/79)\u001b[K\rremote: Counting objects:  77% (61/79)\u001b[K\rremote: Counting objects:  78% (62/79)\u001b[K\rremote: Counting objects:  79% (63/79)\u001b[K\rremote: Counting objects:  81% (64/79)\u001b[K\rremote: Counting objects:  82% (65/79)\u001b[K\rremote: Counting objects:  83% (66/79)\u001b[K\rremote: Counting objects:  84% (67/79)\u001b[K\rremote: Counting objects:  86% (68/79)\u001b[K\rremote: Counting objects:  87% (69/79)\u001b[K\rremote: Counting objects:  88% (70/79)\u001b[K\rremote: Counting objects:  89% (71/79)\u001b[K\rremote: Counting objects:  91% (72/79)\u001b[K\rremote: Counting objects:  92% (73/79)\u001b[K\rremote: Counting objects:  93% (74/79)\u001b[K\rremote: Counting objects:  94% (75/79)\u001b[K\rremote: Counting objects:  96% (76/79)\u001b[K\rremote: Counting objects:  97% (77/79)\u001b[K\rremote: Counting objects:  98% (78/79)\u001b[K\rremote: Counting objects: 100% (79/79)\u001b[K\rremote: Counting objects: 100% (79/79), done.\u001b[K\n",
            "remote: Compressing objects:   1% (1/79)\u001b[K\rremote: Compressing objects:   2% (2/79)\u001b[K\rremote: Compressing objects:   3% (3/79)\u001b[K\rremote: Compressing objects:   5% (4/79)\u001b[K\rremote: Compressing objects:   6% (5/79)\u001b[K\rremote: Compressing objects:   7% (6/79)\u001b[K\rremote: Compressing objects:   8% (7/79)\u001b[K\rremote: Compressing objects:  10% (8/79)\u001b[K\rremote: Compressing objects:  11% (9/79)\u001b[K\rremote: Compressing objects:  12% (10/79)\u001b[K\rremote: Compressing objects:  13% (11/79)\u001b[K\rremote: Compressing objects:  15% (12/79)\u001b[K\rremote: Compressing objects:  16% (13/79)\u001b[K\rremote: Compressing objects:  17% (14/79)\u001b[K\rremote: Compressing objects:  18% (15/79)\u001b[K\rremote: Compressing objects:  20% (16/79)\u001b[K\rremote: Compressing objects:  21% (17/79)\u001b[K\rremote: Compressing objects:  22% (18/79)\u001b[K\rremote: Compressing objects:  24% (19/79)\u001b[K\rremote: Compressing objects:  25% (20/79)\u001b[K\rremote: Compressing objects:  26% (21/79)\u001b[K\rremote: Compressing objects:  27% (22/79)\u001b[K\rremote: Compressing objects:  29% (23/79)\u001b[K\rremote: Compressing objects:  30% (24/79)\u001b[K\rremote: Compressing objects:  31% (25/79)\u001b[K\rremote: Compressing objects:  32% (26/79)\u001b[K\rremote: Compressing objects:  34% (27/79)\u001b[K\rremote: Compressing objects:  35% (28/79)\u001b[K\rremote: Compressing objects:  36% (29/79)\u001b[K\rremote: Compressing objects:  37% (30/79)\u001b[K\rremote: Compressing objects:  39% (31/79)\u001b[K\rremote: Compressing objects:  40% (32/79)\u001b[K\rremote: Compressing objects:  41% (33/79)\u001b[K\rremote: Compressing objects:  43% (34/79)\u001b[K\rremote: Compressing objects:  44% (35/79)\u001b[K\rremote: Compressing objects:  45% (36/79)\u001b[K\rremote: Compressing objects:  46% (37/79)\u001b[K\rremote: Compressing objects:  48% (38/79)\u001b[K\rremote: Compressing objects:  49% (39/79)\u001b[K\rremote: Compressing objects:  50% (40/79)\u001b[K\rremote: Compressing objects:  51% (41/79)\u001b[K\rremote: Compressing objects:  53% (42/79)\u001b[K\rremote: Compressing objects:  54% (43/79)\u001b[K\rremote: Compressing objects:  55% (44/79)\u001b[K\rremote: Compressing objects:  56% (45/79)\u001b[K\rremote: Compressing objects:  58% (46/79)\u001b[K\rremote: Compressing objects:  59% (47/79)\u001b[K\rremote: Compressing objects:  60% (48/79)\u001b[K\rremote: Compressing objects:  62% (49/79)\u001b[K\rremote: Compressing objects:  63% (50/79)\u001b[K\rremote: Compressing objects:  64% (51/79)\u001b[K\rremote: Compressing objects:  65% (52/79)\u001b[K\rremote: Compressing objects:  67% (53/79)\u001b[K\rremote: Compressing objects:  68% (54/79)\u001b[K\rremote: Compressing objects:  69% (55/79)\u001b[K\rremote: Compressing objects:  70% (56/79)\u001b[K\rremote: Compressing objects:  72% (57/79)\u001b[K\rremote: Compressing objects:  73% (58/79)\u001b[K\rremote: Compressing objects:  74% (59/79)\u001b[K\rremote: Compressing objects:  75% (60/79)\u001b[K\rremote: Compressing objects:  77% (61/79)\u001b[K\rremote: Compressing objects:  78% (62/79)\u001b[K\rremote: Compressing objects:  79% (63/79)\u001b[K\rremote: Compressing objects:  81% (64/79)\u001b[K\rremote: Compressing objects:  82% (65/79)\u001b[K\rremote: Compressing objects:  83% (66/79)\u001b[K\rremote: Compressing objects:  84% (67/79)\u001b[K\rremote: Compressing objects:  86% (68/79)\u001b[K\rremote: Compressing objects:  87% (69/79)\u001b[K\rremote: Compressing objects:  88% (70/79)\u001b[K\rremote: Compressing objects:  89% (71/79)\u001b[K\rremote: Compressing objects:  91% (72/79)\u001b[K\rremote: Compressing objects:  92% (73/79)\u001b[K\rremote: Compressing objects:  93% (74/79)\u001b[K\rremote: Compressing objects:  94% (75/79)\u001b[K\rremote: Compressing objects:  96% (76/79)\u001b[K\rremote: Compressing objects:  97% (77/79)\u001b[K\rremote: Compressing objects:  98% (78/79)\u001b[K\rremote: Compressing objects: 100% (79/79)\u001b[K\rremote: Compressing objects: 100% (79/79), done.\u001b[K\n",
            "Receiving objects:   0% (1/144)   \rReceiving objects:   1% (2/144)   \rReceiving objects:   2% (3/144)   \rReceiving objects:   3% (5/144)   \rReceiving objects:   4% (6/144)   \rReceiving objects:   5% (8/144)   \rReceiving objects:   6% (9/144)   \rReceiving objects:   7% (11/144)   \rReceiving objects:   8% (12/144)   \rReceiving objects:   9% (13/144)   \rReceiving objects:  10% (15/144)   \rReceiving objects:  11% (16/144)   \rReceiving objects:  12% (18/144)   \rReceiving objects:  13% (19/144)   \rReceiving objects:  14% (21/144)   \rReceiving objects:  15% (22/144)   \rReceiving objects:  16% (24/144)   \rReceiving objects:  17% (25/144)   \rReceiving objects:  18% (26/144)   \rReceiving objects:  19% (28/144)   \rReceiving objects:  20% (29/144)   \rReceiving objects:  21% (31/144)   \rReceiving objects:  22% (32/144)   \rReceiving objects:  23% (34/144)   \rReceiving objects:  24% (35/144)   \rReceiving objects:  25% (36/144)   \rReceiving objects:  26% (38/144)   \rReceiving objects:  27% (39/144)   \rReceiving objects:  28% (41/144)   \rReceiving objects:  29% (42/144)   \rReceiving objects:  30% (44/144)   \rReceiving objects:  31% (45/144)   \rReceiving objects:  32% (47/144)   \rReceiving objects:  33% (48/144)   \rReceiving objects:  34% (49/144)   \rReceiving objects:  35% (51/144)   \rReceiving objects:  36% (52/144)   \rReceiving objects:  37% (54/144)   \rReceiving objects:  38% (55/144)   \rReceiving objects:  39% (57/144)   \rReceiving objects:  40% (58/144)   \rReceiving objects:  41% (60/144)   \rReceiving objects:  42% (61/144)   \rReceiving objects:  43% (62/144)   \rReceiving objects:  44% (64/144)   \rReceiving objects:  45% (65/144)   \rReceiving objects:  46% (67/144)   \rReceiving objects:  47% (68/144)   \rReceiving objects:  48% (70/144)   \rReceiving objects:  49% (71/144)   \rReceiving objects:  50% (72/144)   \rReceiving objects:  51% (74/144)   \rReceiving objects:  52% (75/144)   \rReceiving objects:  53% (77/144)   \rReceiving objects:  54% (78/144)   \rReceiving objects:  55% (80/144)   \rReceiving objects:  56% (81/144)   \rReceiving objects:  57% (83/144)   \rReceiving objects:  58% (84/144)   \rReceiving objects:  59% (85/144)   \rReceiving objects:  60% (87/144)   \rReceiving objects:  61% (88/144)   \rReceiving objects:  62% (90/144)   \rReceiving objects:  63% (91/144)   \rReceiving objects:  64% (93/144)   \rremote: Total 144 (delta 25), reused 0 (delta 0), pack-reused 65\u001b[K\n",
            "Receiving objects:  65% (94/144)   \rReceiving objects:  66% (96/144)   \rReceiving objects:  67% (97/144)   \rReceiving objects:  68% (98/144)   \rReceiving objects:  69% (100/144)   \rReceiving objects:  70% (101/144)   \rReceiving objects:  71% (103/144)   \rReceiving objects:  72% (104/144)   \rReceiving objects:  73% (106/144)   \rReceiving objects:  74% (107/144)   \rReceiving objects:  75% (108/144)   \rReceiving objects:  76% (110/144)   \rReceiving objects:  77% (111/144)   \rReceiving objects:  78% (113/144)   \rReceiving objects:  79% (114/144)   \rReceiving objects:  80% (116/144)   \rReceiving objects:  81% (117/144)   \rReceiving objects:  82% (119/144)   \rReceiving objects:  83% (120/144)   \rReceiving objects:  84% (121/144)   \rReceiving objects:  85% (123/144)   \rReceiving objects:  86% (124/144)   \rReceiving objects:  87% (126/144)   \rReceiving objects:  88% (127/144)   \rReceiving objects:  89% (129/144)   \rReceiving objects:  90% (130/144)   \rReceiving objects:  91% (132/144)   \rReceiving objects:  92% (133/144)   \rReceiving objects:  93% (134/144)   \rReceiving objects:  94% (136/144)   \rReceiving objects:  95% (137/144)   \rReceiving objects:  96% (139/144)   \rReceiving objects:  97% (140/144)   \rReceiving objects:  98% (142/144)   \rReceiving objects:  99% (143/144)   \rReceiving objects: 100% (144/144)   \rReceiving objects: 100% (144/144), 53.83 KiB | 2.34 MiB/s, done.\n",
            "Resolving deltas:   0% (0/44)   \rResolving deltas:  72% (32/44)   \rResolving deltas: 100% (44/44)   \rResolving deltas: 100% (44/44), done.\n"
          ],
          "name": "stdout"
        }
      ]
    },
    {
      "cell_type": "code",
      "metadata": {
        "id": "jyAxvEgjpqYa",
        "colab_type": "code",
        "outputId": "0e435b44-50bf-4e69-ff97-594c249f6f95",
        "colab": {
          "base_uri": "https://localhost:8080/",
          "height": 136
        }
      },
      "source": [
        "!git clone https://github.com/dennybritz/reinforcement-learning.git"
      ],
      "execution_count": 14,
      "outputs": [
        {
          "output_type": "stream",
          "text": [
            "Cloning into 'reinforcement-learning'...\n",
            "remote: Enumerating objects: 4, done.\u001b[K\n",
            "remote: Counting objects:  25% (1/4)\u001b[K\rremote: Counting objects:  50% (2/4)\u001b[K\rremote: Counting objects:  75% (3/4)\u001b[K\rremote: Counting objects: 100% (4/4)\u001b[K\rremote: Counting objects: 100% (4/4), done.\u001b[K\n",
            "remote: Compressing objects: 100% (4/4), done.\u001b[K\n",
            "remote: Total 1274 (delta 0), reused 1 (delta 0), pack-reused 1270\u001b[K\n",
            "Receiving objects: 100% (1274/1274), 5.25 MiB | 20.83 MiB/s, done.\n",
            "Resolving deltas: 100% (819/819), done.\n"
          ],
          "name": "stdout"
        }
      ]
    },
    {
      "cell_type": "code",
      "metadata": {
        "id": "8aPN2i7SIDAK",
        "colab_type": "code",
        "outputId": "8b134015-f8b8-48b1-8582-3a5ae28f3175",
        "colab": {
          "base_uri": "https://localhost:8080/",
          "height": 102
        }
      },
      "source": [
        "!git clone https://github.com/MorvanZhou/Reinforcement-learning-with-tensorflow.git"
      ],
      "execution_count": 15,
      "outputs": [
        {
          "output_type": "stream",
          "text": [
            "Cloning into 'Reinforcement-learning-with-tensorflow'...\n",
            "remote: Enumerating objects: 669, done.\u001b[K\n",
            "remote: Total 669 (delta 0), reused 0 (delta 0), pack-reused 669\u001b[K\n",
            "Receiving objects: 100% (669/669), 430.31 KiB | 4.22 MiB/s, done.\n",
            "Resolving deltas: 100% (379/379), done.\n"
          ],
          "name": "stdout"
        }
      ]
    },
    {
      "cell_type": "code",
      "metadata": {
        "id": "jtwPnQIpIWYN",
        "colab_type": "code",
        "outputId": "f1a48388-8815-4f38-f919-6b67b2fdee6c",
        "colab": {
          "base_uri": "https://localhost:8080/",
          "height": 102
        }
      },
      "source": [
        "!git clone https://github.com/udacity/deep-reinforcement-learning.git"
      ],
      "execution_count": 16,
      "outputs": [
        {
          "output_type": "stream",
          "text": [
            "Cloning into 'deep-reinforcement-learning'...\n",
            "remote: Enumerating objects: 223, done.\u001b[K\n",
            "remote: Total 223 (delta 0), reused 0 (delta 0), pack-reused 223\u001b[K\n",
            "Receiving objects: 100% (223/223), 3.45 MiB | 17.65 MiB/s, done.\n",
            "Resolving deltas: 100% (51/51), done.\n"
          ],
          "name": "stdout"
        }
      ]
    },
    {
      "cell_type": "code",
      "metadata": {
        "id": "4z6AL2XzIqpk",
        "colab_type": "code",
        "outputId": "b9a1802b-2e59-41a3-8b7f-a2e2f36b5104",
        "colab": {
          "base_uri": "https://localhost:8080/",
          "height": 136
        }
      },
      "source": [
        "!git clone https://github.com/Zeta36/chess-alpha-zero.git"
      ],
      "execution_count": 17,
      "outputs": [
        {
          "output_type": "stream",
          "text": [
            "Cloning into 'chess-alpha-zero'...\n",
            "remote: Enumerating objects: 11, done.\u001b[K\n",
            "remote: Counting objects:   9% (1/11)\u001b[K\rremote: Counting objects:  18% (2/11)\u001b[K\rremote: Counting objects:  27% (3/11)\u001b[K\rremote: Counting objects:  36% (4/11)\u001b[K\rremote: Counting objects:  45% (5/11)\u001b[K\rremote: Counting objects:  54% (6/11)\u001b[K\rremote: Counting objects:  63% (7/11)\u001b[K\rremote: Counting objects:  72% (8/11)\u001b[K\rremote: Counting objects:  81% (9/11)\u001b[K\rremote: Counting objects:  90% (10/11)\u001b[K\rremote: Counting objects: 100% (11/11)\u001b[K\rremote: Counting objects: 100% (11/11), done.\u001b[K\n",
            "remote: Compressing objects: 100% (11/11), done.\u001b[K\n",
            "remote: Total 494 (delta 2), reused 0 (delta 0), pack-reused 483\u001b[K\n",
            "Receiving objects: 100% (494/494), 122.39 MiB | 34.70 MiB/s, done.\n",
            "Resolving deltas: 100% (254/254), done.\n"
          ],
          "name": "stdout"
        }
      ]
    },
    {
      "cell_type": "code",
      "metadata": {
        "id": "pewKcEYII7ad",
        "colab_type": "code",
        "outputId": "27f398c3-8601-4498-b6f0-043846432c87",
        "colab": {
          "base_uri": "https://localhost:8080/",
          "height": 119
        }
      },
      "source": [
        "!git clone https://github.com/suragnair/alpha-zero-general.git"
      ],
      "execution_count": 18,
      "outputs": [
        {
          "output_type": "stream",
          "text": [
            "Cloning into 'alpha-zero-general'...\n",
            "remote: Enumerating objects: 945, done.\u001b[K\n",
            "remote: Total 945 (delta 0), reused 0 (delta 0), pack-reused 945\u001b[K\n",
            "Receiving objects: 100% (945/945), 230.16 MiB | 34.95 MiB/s, done.\n",
            "Resolving deltas: 100% (522/522), done.\n",
            "Checking out files: 100% (134/134), done.\n"
          ],
          "name": "stdout"
        }
      ]
    },
    {
      "cell_type": "code",
      "metadata": {
        "id": "xxNq7FWkJqL7",
        "colab_type": "code",
        "outputId": "1d04f49a-48d0-4d61-97f4-c47e4059fcf2",
        "colab": {
          "base_uri": "https://localhost:8080/",
          "height": 102
        }
      },
      "source": [
        "!git clone https://github.com/glinscott/leela-chess.git"
      ],
      "execution_count": 19,
      "outputs": [
        {
          "output_type": "stream",
          "text": [
            "Cloning into 'leela-chess'...\n",
            "remote: Enumerating objects: 6791, done.\u001b[K\n",
            "remote: Total 6791 (delta 0), reused 0 (delta 0), pack-reused 6791\n",
            "Receiving objects: 100% (6791/6791), 34.98 MiB | 21.58 MiB/s, done.\n",
            "Resolving deltas: 100% (4306/4306), done.\n"
          ],
          "name": "stdout"
        }
      ]
    },
    {
      "cell_type": "code",
      "metadata": {
        "id": "m_srHOUII-37",
        "colab_type": "code",
        "outputId": "ec7d7419-91c5-4b9c-dddb-65904ac6bc02",
        "colab": {
          "base_uri": "https://localhost:8080/",
          "height": 136
        }
      },
      "source": [
        "!git clone https://github.com/XanaduAI/pennylane.git"
      ],
      "execution_count": 20,
      "outputs": [
        {
          "output_type": "stream",
          "text": [
            "Cloning into 'pennylane'...\n",
            "remote: Enumerating objects: 261, done.\u001b[K\n",
            "remote: Counting objects: 100% (261/261), done.\u001b[K\n",
            "remote: Compressing objects: 100% (187/187), done.\u001b[K\n",
            "remote: Total 11158 (delta 161), reused 136 (delta 74), pack-reused 10897\u001b[K\n",
            "Receiving objects: 100% (11158/11158), 24.26 MiB | 25.84 MiB/s, done.\n",
            "Resolving deltas: 100% (7867/7867), done.\n"
          ],
          "name": "stdout"
        }
      ]
    },
    {
      "cell_type": "code",
      "metadata": {
        "id": "TbsOg4sKSo8G",
        "colab_type": "code",
        "outputId": "5b726f57-2c40-4119-babc-d5be779df944",
        "colab": {
          "base_uri": "https://localhost:8080/",
          "height": 136
        }
      },
      "source": [
        "!git clone https://github.com/google/dopamine.git"
      ],
      "execution_count": 21,
      "outputs": [
        {
          "output_type": "stream",
          "text": [
            "Cloning into 'dopamine'...\n",
            "remote: Enumerating objects: 91, done.\u001b[K\n",
            "remote: Counting objects: 100% (91/91), done.\u001b[K\n",
            "remote: Compressing objects: 100% (66/66), done.\u001b[K\n",
            "remote: Total 1576 (delta 28), reused 52 (delta 20), pack-reused 1485\u001b[K\n",
            "Receiving objects: 100% (1576/1576), 7.45 MiB | 22.91 MiB/s, done.\n",
            "Resolving deltas: 100% (991/991), done.\n"
          ],
          "name": "stdout"
        }
      ]
    },
    {
      "cell_type": "code",
      "metadata": {
        "id": "v12ktEQoJBQm",
        "colab_type": "code",
        "outputId": "6927d8cd-dde6-41da-d168-b3207f29db94",
        "colab": {
          "base_uri": "https://localhost:8080/",
          "height": 136
        }
      },
      "source": [
        "!git clone https://github.com/mukeshmithrakumar/scientific.git"
      ],
      "execution_count": 22,
      "outputs": [
        {
          "output_type": "stream",
          "text": [
            "Cloning into 'scientific'...\n",
            "remote: Enumerating objects: 100, done.\u001b[K\n",
            "remote: Counting objects: 100% (100/100), done.\u001b[K\n",
            "remote: Compressing objects: 100% (70/70), done.\u001b[K\n",
            "remote: Total 100 (delta 36), reused 81 (delta 19), pack-reused 0\u001b[K\n",
            "Receiving objects: 100% (100/100), 70.49 KiB | 3.36 MiB/s, done.\n",
            "Resolving deltas: 100% (36/36), done.\n"
          ],
          "name": "stdout"
        }
      ]
    },
    {
      "cell_type": "code",
      "metadata": {
        "id": "q6gwaoa9RUdx",
        "colab_type": "code",
        "outputId": "d3160a9b-20d5-403e-bfa7-ba560bead843",
        "colab": {
          "base_uri": "https://localhost:8080/",
          "height": 394
        }
      },
      "source": [
        "!pip install pytorch-pretrained-bert"
      ],
      "execution_count": 23,
      "outputs": [
        {
          "output_type": "stream",
          "text": [
            "Collecting pytorch-pretrained-bert\n",
            "\u001b[?25l  Downloading https://files.pythonhosted.org/packages/d7/e0/c08d5553b89973d9a240605b9c12404bcf8227590de62bae27acbcfe076b/pytorch_pretrained_bert-0.6.2-py3-none-any.whl (123kB)\n",
            "\r\u001b[K     |██▋                             | 10kB 16.2MB/s eta 0:00:01\r\u001b[K     |█████▎                          | 20kB 2.2MB/s eta 0:00:01\r\u001b[K     |████████                        | 30kB 3.2MB/s eta 0:00:01\r\u001b[K     |██████████▋                     | 40kB 2.1MB/s eta 0:00:01\r\u001b[K     |█████████████▎                  | 51kB 2.6MB/s eta 0:00:01\r\u001b[K     |███████████████▉                | 61kB 3.1MB/s eta 0:00:01\r\u001b[K     |██████████████████▌             | 71kB 3.6MB/s eta 0:00:01\r\u001b[K     |█████████████████████▏          | 81kB 4.0MB/s eta 0:00:01\r\u001b[K     |███████████████████████▉        | 92kB 4.5MB/s eta 0:00:01\r\u001b[K     |██████████████████████████▌     | 102kB 3.5MB/s eta 0:00:01\r\u001b[K     |█████████████████████████████▏  | 112kB 3.5MB/s eta 0:00:01\r\u001b[K     |███████████████████████████████▊| 122kB 3.5MB/s eta 0:00:01\r\u001b[K     |████████████████████████████████| 133kB 3.5MB/s \n",
            "\u001b[?25hRequirement already satisfied: torch>=0.4.1 in /usr/local/lib/python3.6/dist-packages (from pytorch-pretrained-bert) (1.3.1)\n",
            "Requirement already satisfied: numpy in /usr/local/lib/python3.6/dist-packages (from pytorch-pretrained-bert) (1.17.4)\n",
            "Requirement already satisfied: regex in /usr/local/lib/python3.6/dist-packages (from pytorch-pretrained-bert) (2019.12.9)\n",
            "Requirement already satisfied: boto3 in /usr/local/lib/python3.6/dist-packages (from pytorch-pretrained-bert) (1.10.40)\n",
            "Requirement already satisfied: tqdm in /usr/local/lib/python3.6/dist-packages (from pytorch-pretrained-bert) (4.28.1)\n",
            "Requirement already satisfied: requests in /usr/local/lib/python3.6/dist-packages (from pytorch-pretrained-bert) (2.21.0)\n",
            "Requirement already satisfied: jmespath<1.0.0,>=0.7.1 in /usr/local/lib/python3.6/dist-packages (from boto3->pytorch-pretrained-bert) (0.9.4)\n",
            "Requirement already satisfied: s3transfer<0.3.0,>=0.2.0 in /usr/local/lib/python3.6/dist-packages (from boto3->pytorch-pretrained-bert) (0.2.1)\n",
            "Requirement already satisfied: botocore<1.14.0,>=1.13.40 in /usr/local/lib/python3.6/dist-packages (from boto3->pytorch-pretrained-bert) (1.13.40)\n",
            "Requirement already satisfied: urllib3<1.25,>=1.21.1 in /usr/local/lib/python3.6/dist-packages (from requests->pytorch-pretrained-bert) (1.24.3)\n",
            "Requirement already satisfied: certifi>=2017.4.17 in /usr/local/lib/python3.6/dist-packages (from requests->pytorch-pretrained-bert) (2019.11.28)\n",
            "Requirement already satisfied: idna<2.9,>=2.5 in /usr/local/lib/python3.6/dist-packages (from requests->pytorch-pretrained-bert) (2.8)\n",
            "Requirement already satisfied: chardet<3.1.0,>=3.0.2 in /usr/local/lib/python3.6/dist-packages (from requests->pytorch-pretrained-bert) (3.0.4)\n",
            "Requirement already satisfied: docutils<0.16,>=0.10 in /usr/local/lib/python3.6/dist-packages (from botocore<1.14.0,>=1.13.40->boto3->pytorch-pretrained-bert) (0.15.2)\n",
            "Requirement already satisfied: python-dateutil<2.8.1,>=2.1; python_version >= \"2.7\" in /usr/local/lib/python3.6/dist-packages (from botocore<1.14.0,>=1.13.40->boto3->pytorch-pretrained-bert) (2.6.1)\n",
            "Requirement already satisfied: six>=1.5 in /usr/local/lib/python3.6/dist-packages (from python-dateutil<2.8.1,>=2.1; python_version >= \"2.7\"->botocore<1.14.0,>=1.13.40->boto3->pytorch-pretrained-bert) (1.12.0)\n",
            "Installing collected packages: pytorch-pretrained-bert\n",
            "Successfully installed pytorch-pretrained-bert-0.6.2\n"
          ],
          "name": "stdout"
        }
      ]
    },
    {
      "cell_type": "code",
      "metadata": {
        "id": "0ao1OwbAj2BD",
        "colab_type": "code",
        "outputId": "4efcf5c0-4ab9-4965-a7e9-83a6ede4f9eb",
        "colab": {
          "base_uri": "https://localhost:8080/",
          "height": 102
        }
      },
      "source": [
        "!git clone https://github.com/maknotavailable/pytorch-pretrained-BERT.git"
      ],
      "execution_count": 24,
      "outputs": [
        {
          "output_type": "stream",
          "text": [
            "Cloning into 'pytorch-pretrained-BERT'...\n",
            "remote: Enumerating objects: 972, done.\u001b[K\n",
            "remote: Total 972 (delta 0), reused 0 (delta 0), pack-reused 972\u001b[K\n",
            "Receiving objects: 100% (972/972), 549.12 KiB | 5.28 MiB/s, done.\n",
            "Resolving deltas: 100% (621/621), done.\n"
          ],
          "name": "stdout"
        }
      ]
    },
    {
      "cell_type": "code",
      "metadata": {
        "id": "zFbzN0YL6z28",
        "colab_type": "code",
        "outputId": "5d1c9b23-0889-42c8-9b1e-f3daa6293f4e",
        "colab": {
          "base_uri": "https://localhost:8080/",
          "height": 34
        }
      },
      "source": [
        "!pwd"
      ],
      "execution_count": 25,
      "outputs": [
        {
          "output_type": "stream",
          "text": [
            "/content\n"
          ],
          "name": "stdout"
        }
      ]
    },
    {
      "cell_type": "code",
      "metadata": {
        "id": "SPjMCKv762N9",
        "colab_type": "code",
        "outputId": "7a34a09a-de97-42cf-ccab-561d6334133c",
        "colab": {
          "base_uri": "https://localhost:8080/",
          "height": 187
        }
      },
      "source": [
        "!ls"
      ],
      "execution_count": 26,
      "outputs": [
        {
          "output_type": "stream",
          "text": [
            "alpha-zero-general\t     pennylane\n",
            "awesome-bert-nlp\t     pytorch-pretrained-BERT\n",
            "chess-alpha-zero\t     reinforcement-learning\n",
            "deep-reinforcement-learning  Reinforcement-learning-with-tensorflow\n",
            "dopamine\t\t     sample_data\n",
            "face_recognition\t     scientific\n",
            "image_captioning\t     sockeye\n",
            "Image-Captioning\t     tensor2tensor\n",
            "leela-chess\t\t     tensorflow-image-detection\n",
            "models\n"
          ],
          "name": "stdout"
        }
      ]
    },
    {
      "cell_type": "code",
      "metadata": {
        "id": "BePOdcPv63kR",
        "colab_type": "code",
        "outputId": "240c4c2d-d9ce-4633-df5c-65dc4e6aee37",
        "colab": {
          "base_uri": "https://localhost:8080/",
          "height": 34
        }
      },
      "source": [
        "%cd pytorch-pretrained-BERT/"
      ],
      "execution_count": 27,
      "outputs": [
        {
          "output_type": "stream",
          "text": [
            "/content/pytorch-pretrained-BERT\n"
          ],
          "name": "stdout"
        }
      ]
    },
    {
      "cell_type": "code",
      "metadata": {
        "id": "2ywrly9Z69tC",
        "colab_type": "code",
        "outputId": "d9f9cd4e-a179-40a5-d543-5203d0efd179",
        "colab": {
          "base_uri": "https://localhost:8080/",
          "height": 51
        }
      },
      "source": [
        "!ls\n"
      ],
      "execution_count": 28,
      "outputs": [
        {
          "output_type": "stream",
          "text": [
            "bin\t  LICENSE    pytorch_pretrained_bert  requirements.txt\tsetup.py\n",
            "examples  notebooks  README.md\t\t      samples\t\ttests\n"
          ],
          "name": "stdout"
        }
      ]
    },
    {
      "cell_type": "code",
      "metadata": {
        "id": "4oOGoCq86-44",
        "colab_type": "code",
        "outputId": "7b0cebed-ec3a-491a-9444-7bc09742a6a3",
        "colab": {
          "base_uri": "https://localhost:8080/",
          "height": 34
        }
      },
      "source": [
        "%cd pytorch_pretrained_bert/\n"
      ],
      "execution_count": 29,
      "outputs": [
        {
          "output_type": "stream",
          "text": [
            "/content/pytorch-pretrained-BERT/pytorch_pretrained_bert\n"
          ],
          "name": "stdout"
        }
      ]
    },
    {
      "cell_type": "code",
      "metadata": {
        "id": "Zte1Wp4T7Haq",
        "colab_type": "code",
        "outputId": "dcd178c6-b1b7-426b-d1f3-7b828862fc15",
        "colab": {
          "base_uri": "https://localhost:8080/",
          "height": 68
        }
      },
      "source": [
        "!ls\n"
      ],
      "execution_count": 30,
      "outputs": [
        {
          "output_type": "stream",
          "text": [
            "convert_tf_checkpoint_to_pytorch.py  __main__.py      tokenization.py\n",
            "file_utils.py\t\t\t     modeling.py\n",
            "__init__.py\t\t\t     optimization.py\n"
          ],
          "name": "stdout"
        }
      ]
    },
    {
      "cell_type": "code",
      "metadata": {
        "id": "gny1m0fk7IkQ",
        "colab_type": "code",
        "outputId": "a9c9d30e-3301-4012-acb2-b843196ed580",
        "colab": {
          "base_uri": "https://localhost:8080/",
          "height": 34
        }
      },
      "source": [
        "%cd ../examples/"
      ],
      "execution_count": 31,
      "outputs": [
        {
          "output_type": "stream",
          "text": [
            "/content/pytorch-pretrained-BERT/examples\n"
          ],
          "name": "stdout"
        }
      ]
    },
    {
      "cell_type": "code",
      "metadata": {
        "id": "4ZUyGGjd7Mi5",
        "colab_type": "code",
        "outputId": "3348268b-10ac-48da-c102-898070817a1b",
        "colab": {
          "base_uri": "https://localhost:8080/",
          "height": 34
        }
      },
      "source": [
        "!ls\n"
      ],
      "execution_count": 32,
      "outputs": [
        {
          "output_type": "stream",
          "text": [
            "extract_features.py  run_classifier.py\trun_squad.py\n"
          ],
          "name": "stdout"
        }
      ]
    },
    {
      "cell_type": "code",
      "metadata": {
        "id": "93Ishcc27NU5",
        "colab_type": "code",
        "outputId": "a347f686-239b-461d-bc84-213a2dde8da7",
        "colab": {
          "base_uri": "https://localhost:8080/",
          "height": 734
        }
      },
      "source": [
        "!python extract_features.py --input_file ../samples/input.txt --output_file results.out --bert_model bert-base-chinese"
      ],
      "execution_count": 33,
      "outputs": [
        {
          "output_type": "stream",
          "text": [
            "12/27/2019 18:02:41 - INFO - __main__ -   device: cpu n_gpu: 0 distributed training: False\n",
            "12/27/2019 18:02:41 - WARNING - pytorch_pretrained_bert.tokenization -   The pre-trained model you are loading is an uncased model but you have set `do_lower_case` to False. We are setting `do_lower_case=True` for you but you may want to check this behavior.\n",
            "12/27/2019 18:02:41 - INFO - pytorch_pretrained_bert.file_utils -   https://s3.amazonaws.com/models.huggingface.co/bert/bert-base-chinese-vocab.txt not found in cache, downloading to /tmp/tmp5e2sld_i\n",
            "100% 109540/109540 [00:00<00:00, 1868585.48B/s]\n",
            "12/27/2019 18:02:42 - INFO - pytorch_pretrained_bert.file_utils -   copying /tmp/tmp5e2sld_i to cache at /root/.pytorch_pretrained_bert/8a0c070123c1f794c42a29c6904beb7c1b8715741e235bee04aca2c7636fc83f.9b42061518a39ca00b8b52059fd2bede8daa613f8a8671500e518a8c29de8c00\n",
            "12/27/2019 18:02:42 - INFO - pytorch_pretrained_bert.file_utils -   creating metadata file for /root/.pytorch_pretrained_bert/8a0c070123c1f794c42a29c6904beb7c1b8715741e235bee04aca2c7636fc83f.9b42061518a39ca00b8b52059fd2bede8daa613f8a8671500e518a8c29de8c00\n",
            "12/27/2019 18:02:42 - INFO - pytorch_pretrained_bert.file_utils -   removing temp file /tmp/tmp5e2sld_i\n",
            "12/27/2019 18:02:42 - INFO - pytorch_pretrained_bert.tokenization -   loading vocabulary file https://s3.amazonaws.com/models.huggingface.co/bert/bert-base-chinese-vocab.txt from cache at /root/.pytorch_pretrained_bert/8a0c070123c1f794c42a29c6904beb7c1b8715741e235bee04aca2c7636fc83f.9b42061518a39ca00b8b52059fd2bede8daa613f8a8671500e518a8c29de8c00\n",
            "12/27/2019 18:02:42 - INFO - __main__ -   *** Example ***\n",
            "12/27/2019 18:02:42 - INFO - __main__ -   unique_id: 0\n",
            "12/27/2019 18:02:42 - INFO - __main__ -   tokens: [CLS] who was jim he ##ns ##on ? [SEP] jim he ##ns ##on was a pu ##pp ##et ##ee ##r [SEP]\n",
            "12/27/2019 18:02:42 - INFO - __main__ -   input_ids: 101 9372 9947 11268 9245 8727 8224 136 102 11268 9245 8727 8224 9947 143 11227 9586 8418 8854 8180 102 0 0 0 0 0 0 0 0 0 0 0 0 0 0 0 0 0 0 0 0 0 0 0 0 0 0 0 0 0 0 0 0 0 0 0 0 0 0 0 0 0 0 0 0 0 0 0 0 0 0 0 0 0 0 0 0 0 0 0 0 0 0 0 0 0 0 0 0 0 0 0 0 0 0 0 0 0 0 0 0 0 0 0 0 0 0 0 0 0 0 0 0 0 0 0 0 0 0 0 0 0 0 0 0 0 0 0\n",
            "12/27/2019 18:02:42 - INFO - __main__ -   input_mask: 1 1 1 1 1 1 1 1 1 1 1 1 1 1 1 1 1 1 1 1 1 0 0 0 0 0 0 0 0 0 0 0 0 0 0 0 0 0 0 0 0 0 0 0 0 0 0 0 0 0 0 0 0 0 0 0 0 0 0 0 0 0 0 0 0 0 0 0 0 0 0 0 0 0 0 0 0 0 0 0 0 0 0 0 0 0 0 0 0 0 0 0 0 0 0 0 0 0 0 0 0 0 0 0 0 0 0 0 0 0 0 0 0 0 0 0 0 0 0 0 0 0 0 0 0 0 0 0\n",
            "12/27/2019 18:02:42 - INFO - __main__ -   input_type_ids: 0 0 0 0 0 0 0 0 0 1 1 1 1 1 1 1 1 1 1 1 1 0 0 0 0 0 0 0 0 0 0 0 0 0 0 0 0 0 0 0 0 0 0 0 0 0 0 0 0 0 0 0 0 0 0 0 0 0 0 0 0 0 0 0 0 0 0 0 0 0 0 0 0 0 0 0 0 0 0 0 0 0 0 0 0 0 0 0 0 0 0 0 0 0 0 0 0 0 0 0 0 0 0 0 0 0 0 0 0 0 0 0 0 0 0 0 0 0 0 0 0 0 0 0 0 0 0 0\n",
            "12/27/2019 18:02:42 - INFO - pytorch_pretrained_bert.file_utils -   https://s3.amazonaws.com/models.huggingface.co/bert/bert-base-chinese.tar.gz not found in cache, downloading to /tmp/tmp2nptk5oc\n",
            "100% 382072689/382072689 [00:08<00:00, 42721877.02B/s]\n",
            "12/27/2019 18:02:52 - INFO - pytorch_pretrained_bert.file_utils -   copying /tmp/tmp2nptk5oc to cache at /root/.pytorch_pretrained_bert/42d4a64dda3243ffeca7ec268d5544122e67d9d06b971608796b483925716512.02ac7d664cff08d793eb00d6aac1d04368a1322435e5fe0a27c70b0b3a85327f\n",
            "12/27/2019 18:02:54 - INFO - pytorch_pretrained_bert.file_utils -   creating metadata file for /root/.pytorch_pretrained_bert/42d4a64dda3243ffeca7ec268d5544122e67d9d06b971608796b483925716512.02ac7d664cff08d793eb00d6aac1d04368a1322435e5fe0a27c70b0b3a85327f\n",
            "12/27/2019 18:02:54 - INFO - pytorch_pretrained_bert.file_utils -   removing temp file /tmp/tmp2nptk5oc\n",
            "12/27/2019 18:02:54 - INFO - pytorch_pretrained_bert.modeling -   loading archive file https://s3.amazonaws.com/models.huggingface.co/bert/bert-base-chinese.tar.gz from cache at /root/.pytorch_pretrained_bert/42d4a64dda3243ffeca7ec268d5544122e67d9d06b971608796b483925716512.02ac7d664cff08d793eb00d6aac1d04368a1322435e5fe0a27c70b0b3a85327f\n",
            "12/27/2019 18:02:54 - INFO - pytorch_pretrained_bert.modeling -   extracting archive file /root/.pytorch_pretrained_bert/42d4a64dda3243ffeca7ec268d5544122e67d9d06b971608796b483925716512.02ac7d664cff08d793eb00d6aac1d04368a1322435e5fe0a27c70b0b3a85327f to temp dir /tmp/tmpu8mfb379\n",
            "12/27/2019 18:03:00 - INFO - pytorch_pretrained_bert.modeling -   Model config {\n",
            "  \"attention_probs_dropout_prob\": 0.1,\n",
            "  \"directionality\": \"bidi\",\n",
            "  \"hidden_act\": \"gelu\",\n",
            "  \"hidden_dropout_prob\": 0.1,\n",
            "  \"hidden_size\": 768,\n",
            "  \"initializer_range\": 0.02,\n",
            "  \"intermediate_size\": 3072,\n",
            "  \"max_position_embeddings\": 512,\n",
            "  \"num_attention_heads\": 12,\n",
            "  \"num_hidden_layers\": 12,\n",
            "  \"pooler_fc_size\": 768,\n",
            "  \"pooler_num_attention_heads\": 12,\n",
            "  \"pooler_num_fc_layers\": 3,\n",
            "  \"pooler_size_per_head\": 128,\n",
            "  \"pooler_type\": \"first_token_transform\",\n",
            "  \"type_vocab_size\": 2,\n",
            "  \"vocab_size\": 21128\n",
            "}\n",
            "\n"
          ],
          "name": "stdout"
        }
      ]
    },
    {
      "cell_type": "code",
      "metadata": {
        "id": "5-VudQX88Jlb",
        "colab_type": "code",
        "outputId": "f4097e75-377e-4288-bb95-1aaf919e4bd4",
        "colab": {
          "base_uri": "https://localhost:8080/",
          "height": 51
        }
      },
      "source": [
        "%cd ..\n",
        "!pwd"
      ],
      "execution_count": 34,
      "outputs": [
        {
          "output_type": "stream",
          "text": [
            "/content/pytorch-pretrained-BERT\n",
            "/content/pytorch-pretrained-BERT\n"
          ],
          "name": "stdout"
        }
      ]
    },
    {
      "cell_type": "code",
      "metadata": {
        "id": "LohaVwiL7PxC",
        "colab_type": "code",
        "outputId": "51cf311d-482b-4541-fd32-cc7f8c7d1a48",
        "colab": {
          "base_uri": "https://localhost:8080/",
          "height": 462
        }
      },
      "source": [
        "!python -m pytest -sv tests/"
      ],
      "execution_count": 35,
      "outputs": [
        {
          "output_type": "stream",
          "text": [
            "\u001b[1m============================= test session starts ==============================\u001b[0m\n",
            "platform linux -- Python 3.6.9, pytest-3.6.4, py-1.8.0, pluggy-0.7.1 -- /usr/bin/python3\n",
            "cachedir: .pytest_cache\n",
            "rootdir: /content/pytorch-pretrained-BERT, inifile:\n",
            "collected 11 items                                                             \u001b[0m\n",
            "\n",
            "tests/modeling_test.py::BertModelTest::test_config_to_json_string \u001b[32mPASSED\u001b[0m\n",
            "tests/modeling_test.py::BertModelTest::test_default \u001b[32mPASSED\u001b[0m\n",
            "tests/optimization_test.py::OptimizationTest::test_adam \u001b[32mPASSED\u001b[0m\n",
            "tests/tokenization_test.py::TokenizationTest::test_basic_tokenizer_lower \u001b[32mPASSED\u001b[0m\n",
            "tests/tokenization_test.py::TokenizationTest::test_basic_tokenizer_no_lower \u001b[32mPASSED\u001b[0m\n",
            "tests/tokenization_test.py::TokenizationTest::test_chinese \u001b[32mPASSED\u001b[0m\n",
            "tests/tokenization_test.py::TokenizationTest::test_full_tokenizer \u001b[32mPASSED\u001b[0m\n",
            "tests/tokenization_test.py::TokenizationTest::test_is_control \u001b[32mPASSED\u001b[0m\n",
            "tests/tokenization_test.py::TokenizationTest::test_is_punctuation \u001b[32mPASSED\u001b[0m\n",
            "tests/tokenization_test.py::TokenizationTest::test_is_whitespace \u001b[32mPASSED\u001b[0m\n",
            "tests/tokenization_test.py::TokenizationTest::test_wordpiece_tokenizer \u001b[32mPASSED\u001b[0m\n",
            "\n",
            "\u001b[33m=============================== warnings summary ===============================\u001b[0m\n",
            "tests/optimization_test.py::OptimizationTest::test_adam\n",
            "  /usr/local/lib/python3.6/dist-packages/torch/nn/_reduction.py:13: UserWarning: reduction='elementwise_mean' is deprecated, please use reduction='mean' instead.\n",
            "    warnings.warn(\"reduction='elementwise_mean' is deprecated, please use reduction='mean' instead.\")\n",
            "\n",
            "-- Docs: http://doc.pytest.org/en/latest/warnings.html\n",
            "\u001b[33m\u001b[1m==================== 11 passed, 1 warnings in 0.91 seconds =====================\u001b[0m\n"
          ],
          "name": "stdout"
        }
      ]
    },
    {
      "cell_type": "code",
      "metadata": {
        "id": "rJIenKZvILyy",
        "colab_type": "code",
        "outputId": "dc687d2f-0a50-4973-9a35-5ea34c54e17f",
        "colab": {
          "base_uri": "https://localhost:8080/",
          "height": 34
        }
      },
      "source": [
        "%cd .."
      ],
      "execution_count": 36,
      "outputs": [
        {
          "output_type": "stream",
          "text": [
            "/content\n"
          ],
          "name": "stdout"
        }
      ]
    },
    {
      "cell_type": "code",
      "metadata": {
        "id": "xpPhiXkC8MIR",
        "colab_type": "code",
        "outputId": "d4d051e9-48a0-4bfe-b3a8-8952e98e6d43",
        "colab": {
          "base_uri": "https://localhost:8080/",
          "height": 102
        }
      },
      "source": [
        "!git clone https://github.com/google-research/bert.git"
      ],
      "execution_count": 37,
      "outputs": [
        {
          "output_type": "stream",
          "text": [
            "Cloning into 'bert'...\n",
            "remote: Enumerating objects: 336, done.\u001b[K\n",
            "Receiving objects:   0% (1/336)   \rReceiving objects:   1% (4/336)   \rReceiving objects:   2% (7/336)   \rReceiving objects:   3% (11/336)   \rReceiving objects:   4% (14/336)   \rReceiving objects:   5% (17/336)   \rReceiving objects:   6% (21/336)   \rReceiving objects:   7% (24/336)   \rReceiving objects:   8% (27/336)   \rReceiving objects:   9% (31/336)   \rReceiving objects:  10% (34/336)   \rReceiving objects:  11% (37/336)   \rReceiving objects:  12% (41/336)   \rReceiving objects:  13% (44/336)   \rReceiving objects:  14% (48/336)   \rReceiving objects:  15% (51/336)   \rReceiving objects:  16% (54/336)   \rReceiving objects:  17% (58/336)   \rReceiving objects:  18% (61/336)   \rReceiving objects:  19% (64/336)   \rReceiving objects:  20% (68/336)   \rReceiving objects:  21% (71/336)   \rReceiving objects:  22% (74/336)   \rReceiving objects:  23% (78/336)   \rReceiving objects:  24% (81/336)   \rReceiving objects:  25% (84/336)   \rReceiving objects:  26% (88/336)   \rReceiving objects:  27% (91/336)   \rReceiving objects:  28% (95/336)   \rReceiving objects:  29% (98/336)   \rReceiving objects:  30% (101/336)   \rReceiving objects:  31% (105/336)   \rReceiving objects:  32% (108/336)   \rReceiving objects:  33% (111/336)   \rReceiving objects:  34% (115/336)   \rReceiving objects:  35% (118/336)   \rReceiving objects:  36% (121/336)   \rReceiving objects:  37% (125/336)   \rReceiving objects:  38% (128/336)   \rReceiving objects:  39% (132/336)   \rReceiving objects:  40% (135/336)   \rReceiving objects:  41% (138/336)   \rReceiving objects:  42% (142/336)   \rReceiving objects:  43% (145/336)   \rReceiving objects:  44% (148/336)   \rReceiving objects:  45% (152/336)   \rReceiving objects:  46% (155/336)   \rReceiving objects:  47% (158/336)   \rReceiving objects:  48% (162/336)   \rReceiving objects:  49% (165/336)   \rReceiving objects:  50% (168/336)   \rReceiving objects:  51% (172/336)   \rReceiving objects:  52% (175/336)   \rReceiving objects:  53% (179/336)   \rReceiving objects:  54% (182/336)   \rReceiving objects:  55% (185/336)   \rReceiving objects:  56% (189/336)   \rReceiving objects:  57% (192/336)   \rremote: Total 336 (delta 0), reused 0 (delta 0), pack-reused 336\u001b[K\n",
            "Receiving objects: 100% (336/336), 291.40 KiB | 3.88 MiB/s, done.\n",
            "Resolving deltas: 100% (184/184), done.\n"
          ],
          "name": "stdout"
        }
      ]
    },
    {
      "cell_type": "code",
      "metadata": {
        "id": "jTvI6KP7yLn1",
        "colab_type": "code",
        "outputId": "3864fc21-cf8b-4d6e-e12f-b099ea5807e3",
        "colab": {
          "base_uri": "https://localhost:8080/",
          "height": 136
        }
      },
      "source": [
        "!git clone https://github.com/deepmipt/DeepPavlov.git"
      ],
      "execution_count": 38,
      "outputs": [
        {
          "output_type": "stream",
          "text": [
            "Cloning into 'DeepPavlov'...\n",
            "remote: Enumerating objects: 39, done.\u001b[K\n",
            "remote: Counting objects:   2% (1/39)\u001b[K\rremote: Counting objects:   5% (2/39)\u001b[K\rremote: Counting objects:   7% (3/39)\u001b[K\rremote: Counting objects:  10% (4/39)\u001b[K\rremote: Counting objects:  12% (5/39)\u001b[K\rremote: Counting objects:  15% (6/39)\u001b[K\rremote: Counting objects:  17% (7/39)\u001b[K\rremote: Counting objects:  20% (8/39)\u001b[K\rremote: Counting objects:  23% (9/39)\u001b[K\rremote: Counting objects:  25% (10/39)\u001b[K\rremote: Counting objects:  28% (11/39)\u001b[K\rremote: Counting objects:  30% (12/39)\u001b[K\rremote: Counting objects:  33% (13/39)\u001b[K\rremote: Counting objects:  35% (14/39)\u001b[K\rremote: Counting objects:  38% (15/39)\u001b[K\rremote: Counting objects:  41% (16/39)\u001b[K\rremote: Counting objects:  43% (17/39)\u001b[K\rremote: Counting objects:  46% (18/39)\u001b[K\rremote: Counting objects:  48% (19/39)\u001b[K\rremote: Counting objects:  51% (20/39)\u001b[K\rremote: Counting objects:  53% (21/39)\u001b[K\rremote: Counting objects:  56% (22/39)\u001b[K\rremote: Counting objects:  58% (23/39)\u001b[K\rremote: Counting objects:  61% (24/39)\u001b[K\rremote: Counting objects:  64% (25/39)\u001b[K\rremote: Counting objects:  66% (26/39)\u001b[K\rremote: Counting objects:  69% (27/39)\u001b[K\rremote: Counting objects:  71% (28/39)\u001b[K\rremote: Counting objects:  74% (29/39)\u001b[K\rremote: Counting objects:  76% (30/39)\u001b[K\rremote: Counting objects:  79% (31/39)\u001b[K\rremote: Counting objects:  82% (32/39)\u001b[K\rremote: Counting objects:  84% (33/39)\u001b[K\rremote: Counting objects:  87% (34/39)\u001b[K\rremote: Counting objects:  89% (35/39)\u001b[K\rremote: Counting objects:  92% (36/39)\u001b[K\rremote: Counting objects:  94% (37/39)\u001b[K\rremote: Counting objects:  97% (38/39)\u001b[K\rremote: Counting objects: 100% (39/39)\u001b[K\rremote: Counting objects: 100% (39/39), done.\u001b[K\n",
            "remote: Compressing objects: 100% (29/29), done.\u001b[K\n",
            "remote: Total 48575 (delta 12), reused 22 (delta 5), pack-reused 48536\u001b[K\n",
            "Receiving objects: 100% (48575/48575), 34.36 MiB | 33.45 MiB/s, done.\n",
            "Resolving deltas: 100% (36990/36990), done.\n"
          ],
          "name": "stdout"
        }
      ]
    },
    {
      "cell_type": "code",
      "metadata": {
        "id": "n0I8KhndyUOm",
        "colab_type": "code",
        "outputId": "b8b072b7-a3ae-45eb-9036-f93c52e17fdf",
        "colab": {
          "base_uri": "https://localhost:8080/",
          "height": 136
        }
      },
      "source": [
        "!git clone https://github.com/RasaHQ/rasa.git"
      ],
      "execution_count": 39,
      "outputs": [
        {
          "output_type": "stream",
          "text": [
            "Cloning into 'rasa'...\n",
            "remote: Enumerating objects: 65, done.\u001b[K\n",
            "remote: Counting objects: 100% (65/65), done.\u001b[K\n",
            "remote: Compressing objects: 100% (42/42), done.\u001b[K\n",
            "remote: Total 1013656 (delta 45), reused 36 (delta 22), pack-reused 1013591\n",
            "Receiving objects: 100% (1013656/1013656), 550.43 MiB | 26.85 MiB/s, done.\n",
            "Resolving deltas: 100% (825222/825222), done.\n"
          ],
          "name": "stdout"
        }
      ]
    },
    {
      "cell_type": "code",
      "metadata": {
        "id": "DEtiRa7ymiei",
        "colab_type": "code",
        "outputId": "288d37f6-8c82-4b06-9b61-d1dfbadab98c",
        "colab": {
          "base_uri": "https://localhost:8080/",
          "height": 102
        }
      },
      "source": [
        "!git clone https://github.com/google/seq2seq.git"
      ],
      "execution_count": 40,
      "outputs": [
        {
          "output_type": "stream",
          "text": [
            "Cloning into 'seq2seq'...\n",
            "remote: Enumerating objects: 5995, done.\u001b[K\n",
            "remote: Total 5995 (delta 0), reused 0 (delta 0), pack-reused 5995\u001b[K\n",
            "Receiving objects: 100% (5995/5995), 1.63 MiB | 9.61 MiB/s, done.\n",
            "Resolving deltas: 100% (4189/4189), done.\n"
          ],
          "name": "stdout"
        }
      ]
    },
    {
      "cell_type": "code",
      "metadata": {
        "id": "QLL2PLDymkRn",
        "colab_type": "code",
        "outputId": "fdc63027-749a-4501-fddf-0e79c978538b",
        "colab": {
          "base_uri": "https://localhost:8080/",
          "height": 102
        }
      },
      "source": [
        "!git clone https://github.com/dragen1860/TensorFlow-2.x-Tutorials.git"
      ],
      "execution_count": 41,
      "outputs": [
        {
          "output_type": "stream",
          "text": [
            "Cloning into 'TensorFlow-2.x-Tutorials'...\n",
            "remote: Enumerating objects: 1753, done.\u001b[K\n",
            "remote: Total 1753 (delta 0), reused 0 (delta 0), pack-reused 1753\u001b[K\n",
            "Receiving objects: 100% (1753/1753), 159.77 MiB | 40.36 MiB/s, done.\n",
            "Resolving deltas: 100% (709/709), done.\n"
          ],
          "name": "stdout"
        }
      ]
    },
    {
      "cell_type": "code",
      "metadata": {
        "id": "mt9Moc8p583p",
        "colab_type": "code",
        "outputId": "6f1fd9c9-be96-4421-dcba-a6d9043b7093",
        "colab": {
          "base_uri": "https://localhost:8080/",
          "height": 153
        }
      },
      "source": [
        "!git clone https://github.com/tensorflow/tensorflow.git"
      ],
      "execution_count": 42,
      "outputs": [
        {
          "output_type": "stream",
          "text": [
            "Cloning into 'tensorflow'...\n",
            "remote: Enumerating objects: 17, done.\u001b[K\n",
            "remote: Counting objects: 100% (17/17), done.\u001b[K\n",
            "remote: Compressing objects: 100% (17/17), done.\u001b[K\n",
            "remote: Total 795068 (delta 2), reused 15 (delta 0), pack-reused 795051\u001b[K\n",
            "Receiving objects: 100% (795068/795068), 454.77 MiB | 27.47 MiB/s, done.\n",
            "Resolving deltas: 100% (643049/643049), done.\n",
            "Checking out files: 100% (19641/19641), done.\n"
          ],
          "name": "stdout"
        }
      ]
    },
    {
      "cell_type": "code",
      "metadata": {
        "id": "VXroyZLs6P5z",
        "colab_type": "code",
        "outputId": "012a2ed3-f896-40de-b4d3-d572daedd91e",
        "colab": {
          "base_uri": "https://localhost:8080/",
          "height": 85
        }
      },
      "source": [
        "!git clone https://github.com/sujaybabruwad/LeNet-in-Tensorflow.git"
      ],
      "execution_count": 43,
      "outputs": [
        {
          "output_type": "stream",
          "text": [
            "Cloning into 'LeNet-in-Tensorflow'...\n",
            "remote: Enumerating objects: 31, done.\u001b[K\n",
            "Unpacking objects:   3% (1/31)   \rUnpacking objects:   6% (2/31)   \rUnpacking objects:   9% (3/31)   \rUnpacking objects:  12% (4/31)   \rUnpacking objects:  16% (5/31)   \rUnpacking objects:  19% (6/31)   \rUnpacking objects:  22% (7/31)   \rUnpacking objects:  25% (8/31)   \rUnpacking objects:  29% (9/31)   \rUnpacking objects:  32% (10/31)   \rUnpacking objects:  35% (11/31)   \rUnpacking objects:  38% (12/31)   \rUnpacking objects:  41% (13/31)   \rUnpacking objects:  45% (14/31)   \rUnpacking objects:  48% (15/31)   \rUnpacking objects:  51% (16/31)   \rUnpacking objects:  54% (17/31)   \rUnpacking objects:  58% (18/31)   \rremote: Total 31 (delta 0), reused 0 (delta 0), pack-reused 31\u001b[K\n",
            "Unpacking objects:  61% (19/31)   \rUnpacking objects:  64% (20/31)   \rUnpacking objects:  67% (21/31)   \rUnpacking objects:  70% (22/31)   \rUnpacking objects:  74% (23/31)   \rUnpacking objects:  77% (24/31)   \rUnpacking objects:  80% (25/31)   \rUnpacking objects:  83% (26/31)   \rUnpacking objects:  87% (27/31)   \rUnpacking objects:  90% (28/31)   \rUnpacking objects:  93% (29/31)   \rUnpacking objects:  96% (30/31)   \rUnpacking objects: 100% (31/31)   \rUnpacking objects: 100% (31/31), done.\n"
          ],
          "name": "stdout"
        }
      ]
    },
    {
      "cell_type": "code",
      "metadata": {
        "id": "PuqUeJibyFsI",
        "colab_type": "code",
        "outputId": "a64dfdcc-a2a9-4c4c-8a42-68249fba3d40",
        "colab": {
          "base_uri": "https://localhost:8080/",
          "height": 102
        }
      },
      "source": [
        "!git clone https://github.com/tensorflow/playground.git"
      ],
      "execution_count": 44,
      "outputs": [
        {
          "output_type": "stream",
          "text": [
            "Cloning into 'playground'...\n",
            "remote: Enumerating objects: 1223, done.\u001b[K\n",
            "Receiving objects:   0% (1/1223)   \rReceiving objects:   1% (13/1223)   \rReceiving objects:   2% (25/1223)   \rReceiving objects:   3% (37/1223)   \rReceiving objects:   4% (49/1223)   \rReceiving objects:   5% (62/1223)   \rReceiving objects:   6% (74/1223)   \rReceiving objects:   7% (86/1223)   \rReceiving objects:   8% (98/1223)   \rReceiving objects:   9% (111/1223)   \rReceiving objects:  10% (123/1223)   \rReceiving objects:  11% (135/1223)   \rReceiving objects:  12% (147/1223)   \rReceiving objects:  13% (159/1223)   \rReceiving objects:  14% (172/1223)   \rReceiving objects:  15% (184/1223)   \rReceiving objects:  16% (196/1223)   \rReceiving objects:  17% (208/1223)   \rReceiving objects:  18% (221/1223)   \rReceiving objects:  19% (233/1223)   \rReceiving objects:  20% (245/1223)   \rReceiving objects:  21% (257/1223)   \rReceiving objects:  22% (270/1223)   \rReceiving objects:  23% (282/1223)   \rReceiving objects:  24% (294/1223)   \rReceiving objects:  25% (306/1223)   \rReceiving objects:  26% (318/1223)   \rReceiving objects:  27% (331/1223)   \rReceiving objects:  28% (343/1223)   \rReceiving objects:  29% (355/1223)   \rReceiving objects:  30% (367/1223)   \rReceiving objects:  31% (380/1223)   \rReceiving objects:  32% (392/1223)   \rReceiving objects:  33% (404/1223)   \rReceiving objects:  34% (416/1223)   \rReceiving objects:  35% (429/1223)   \rReceiving objects:  36% (441/1223)   \rReceiving objects:  37% (453/1223)   \rReceiving objects:  38% (465/1223)   \rReceiving objects:  39% (477/1223)   \rReceiving objects:  40% (490/1223)   \rReceiving objects:  41% (502/1223)   \rReceiving objects:  42% (514/1223)   \rReceiving objects:  43% (526/1223)   \rReceiving objects:  44% (539/1223)   \rReceiving objects:  45% (551/1223)   \rReceiving objects:  46% (563/1223)   \rReceiving objects:  47% (575/1223)   \rReceiving objects:  48% (588/1223)   \rReceiving objects:  49% (600/1223)   \rReceiving objects:  50% (612/1223)   \rReceiving objects:  51% (624/1223)   \rReceiving objects:  52% (636/1223)   \rReceiving objects:  53% (649/1223)   \rReceiving objects:  54% (661/1223)   \rReceiving objects:  55% (673/1223)   \rReceiving objects:  56% (685/1223)   \rReceiving objects:  57% (698/1223)   \rReceiving objects:  58% (710/1223)   \rReceiving objects:  59% (722/1223)   \rReceiving objects:  60% (734/1223)   \rReceiving objects:  61% (747/1223)   \rReceiving objects:  62% (759/1223)   \rReceiving objects:  63% (771/1223)   \rReceiving objects:  64% (783/1223)   \rReceiving objects:  65% (795/1223)   \rReceiving objects:  66% (808/1223)   \rReceiving objects:  67% (820/1223)   \rReceiving objects:  68% (832/1223)   \rReceiving objects:  69% (844/1223)   \rReceiving objects:  70% (857/1223)   \rReceiving objects:  71% (869/1223)   \rReceiving objects:  72% (881/1223)   \rReceiving objects:  73% (893/1223)   \rReceiving objects:  74% (906/1223)   \rReceiving objects:  75% (918/1223)   \rremote: Total 1223 (delta 0), reused 0 (delta 0), pack-reused 1223\u001b[K\n",
            "Receiving objects: 100% (1223/1223), 1.17 MiB | 8.56 MiB/s, done.\n",
            "Resolving deltas: 100% (770/770), done.\n"
          ],
          "name": "stdout"
        }
      ]
    },
    {
      "cell_type": "code",
      "metadata": {
        "id": "O7IyUdsbyJcS",
        "colab_type": "code",
        "outputId": "72158446-559b-4eea-bbb4-9aac1ecfa55d",
        "colab": {
          "base_uri": "https://localhost:8080/",
          "height": 136
        }
      },
      "source": [
        "!git clone https://github.com/pytorch/vision.git\n"
      ],
      "execution_count": 45,
      "outputs": [
        {
          "output_type": "stream",
          "text": [
            "Cloning into 'vision'...\n",
            "remote: Enumerating objects: 6, done.\u001b[K\n",
            "remote: Counting objects: 100% (6/6), done.\u001b[K\n",
            "remote: Compressing objects: 100% (6/6), done.\u001b[K\n",
            "remote: Total 6134 (delta 5), reused 1 (delta 0), pack-reused 6128\u001b[K\n",
            "Receiving objects: 100% (6134/6134), 9.60 MiB | 4.22 MiB/s, done.\n",
            "Resolving deltas: 100% (4090/4090), done.\n"
          ],
          "name": "stdout"
        }
      ]
    },
    {
      "cell_type": "code",
      "metadata": {
        "id": "ZS_-5x7lzK5A",
        "colab_type": "code",
        "outputId": "7d27ded2-032b-4c9b-f788-7246c8a3e07f",
        "colab": {
          "base_uri": "https://localhost:8080/",
          "height": 102
        }
      },
      "source": [
        "!git clone https://github.com/ry/tensorflow-resnet.git"
      ],
      "execution_count": 46,
      "outputs": [
        {
          "output_type": "stream",
          "text": [
            "Cloning into 'tensorflow-resnet'...\n",
            "remote: Enumerating objects: 294, done.\u001b[K\n",
            "remote: Total 294 (delta 0), reused 0 (delta 0), pack-reused 294\u001b[K\n",
            "Receiving objects: 100% (294/294), 1.39 MiB | 10.10 MiB/s, done.\n",
            "Resolving deltas: 100% (162/162), done.\n"
          ],
          "name": "stdout"
        }
      ]
    },
    {
      "cell_type": "code",
      "metadata": {
        "id": "xpQJ2ZJfzyrp",
        "colab_type": "code",
        "outputId": "f8ea0f14-3160-4b0b-b34e-7548245c80a5",
        "colab": {
          "base_uri": "https://localhost:8080/",
          "height": 136
        }
      },
      "source": [
        "!git clone https://github.com/tensorflow/swift-models.git"
      ],
      "execution_count": 47,
      "outputs": [
        {
          "output_type": "stream",
          "text": [
            "Cloning into 'swift-models'...\n",
            "remote: Enumerating objects: 55, done.\u001b[K\n",
            "remote: Counting objects: 100% (55/55), done.\u001b[K\n",
            "remote: Compressing objects: 100% (39/39), done.\u001b[K\n",
            "remote: Total 1663 (delta 13), reused 36 (delta 8), pack-reused 1608\u001b[K\n",
            "Receiving objects: 100% (1663/1663), 35.35 MiB | 25.51 MiB/s, done.\n",
            "Resolving deltas: 100% (896/896), done.\n"
          ],
          "name": "stdout"
        }
      ]
    },
    {
      "cell_type": "code",
      "metadata": {
        "id": "Yi48YLYiz3kp",
        "colab_type": "code",
        "outputId": "5c1950f0-97ad-41e2-83c4-3eb32700228f",
        "colab": {
          "base_uri": "https://localhost:8080/",
          "height": 136
        }
      },
      "source": [
        "!git clone https://github.com/tensorflow/lattice.git"
      ],
      "execution_count": 48,
      "outputs": [
        {
          "output_type": "stream",
          "text": [
            "Cloning into 'lattice'...\n",
            "remote: Enumerating objects: 86, done.\u001b[K\n",
            "remote: Counting objects:   1% (1/86)\u001b[K\rremote: Counting objects:   2% (2/86)\u001b[K\rremote: Counting objects:   3% (3/86)\u001b[K\rremote: Counting objects:   4% (4/86)\u001b[K\rremote: Counting objects:   5% (5/86)\u001b[K\rremote: Counting objects:   6% (6/86)\u001b[K\rremote: Counting objects:   8% (7/86)\u001b[K\rremote: Counting objects:   9% (8/86)\u001b[K\rremote: Counting objects:  10% (9/86)\u001b[K\rremote: Counting objects:  11% (10/86)\u001b[K\rremote: Counting objects:  12% (11/86)\u001b[K\rremote: Counting objects:  13% (12/86)\u001b[K\rremote: Counting objects:  15% (13/86)\u001b[K\rremote: Counting objects:  16% (14/86)\u001b[K\rremote: Counting objects:  17% (15/86)\u001b[K\rremote: Counting objects:  18% (16/86)\u001b[K\rremote: Counting objects:  19% (17/86)\u001b[K\rremote: Counting objects:  20% (18/86)\u001b[K\rremote: Counting objects:  22% (19/86)\u001b[K\rremote: Counting objects:  23% (20/86)\u001b[K\rremote: Counting objects:  24% (21/86)\u001b[K\rremote: Counting objects:  25% (22/86)\u001b[K\rremote: Counting objects:  26% (23/86)\u001b[K\rremote: Counting objects:  27% (24/86)\u001b[K\rremote: Counting objects:  29% (25/86)\u001b[K\rremote: Counting objects:  30% (26/86)\u001b[K\rremote: Counting objects:  31% (27/86)\u001b[K\rremote: Counting objects:  32% (28/86)\u001b[K\rremote: Counting objects:  33% (29/86)\u001b[K\rremote: Counting objects:  34% (30/86)\u001b[K\rremote: Counting objects:  36% (31/86)\u001b[K\rremote: Counting objects:  37% (32/86)\u001b[K\rremote: Counting objects:  38% (33/86)\u001b[K\rremote: Counting objects:  39% (34/86)\u001b[K\rremote: Counting objects:  40% (35/86)\u001b[K\rremote: Counting objects:  41% (36/86)\u001b[K\rremote: Counting objects:  43% (37/86)\u001b[K\rremote: Counting objects:  44% (38/86)\u001b[K\rremote: Counting objects:  45% (39/86)\u001b[K\rremote: Counting objects:  46% (40/86)\u001b[K\rremote: Counting objects:  47% (41/86)\u001b[K\rremote: Counting objects:  48% (42/86)\u001b[K\rremote: Counting objects:  50% (43/86)\u001b[K\rremote: Counting objects:  51% (44/86)\u001b[K\rremote: Counting objects:  52% (45/86)\u001b[K\rremote: Counting objects:  53% (46/86)\u001b[K\rremote: Counting objects:  54% (47/86)\u001b[K\rremote: Counting objects:  55% (48/86)\u001b[K\rremote: Counting objects:  56% (49/86)\u001b[K\rremote: Counting objects:  58% (50/86)\u001b[K\rremote: Counting objects:  59% (51/86)\u001b[K\rremote: Counting objects:  60% (52/86)\u001b[K\rremote: Counting objects:  61% (53/86)\u001b[K\rremote: Counting objects:  62% (54/86)\u001b[K\rremote: Counting objects:  63% (55/86)\u001b[K\rremote: Counting objects:  65% (56/86)\u001b[K\rremote: Counting objects:  66% (57/86)\u001b[K\rremote: Counting objects:  67% (58/86)\u001b[K\rremote: Counting objects:  68% (59/86)\u001b[K\rremote: Counting objects:  69% (60/86)\u001b[K\rremote: Counting objects:  70% (61/86)\u001b[K\rremote: Counting objects:  72% (62/86)\u001b[K\rremote: Counting objects:  73% (63/86)\u001b[K\rremote: Counting objects:  74% (64/86)\u001b[K\rremote: Counting objects:  75% (65/86)\u001b[K\rremote: Counting objects:  76% (66/86)\u001b[K\rremote: Counting objects:  77% (67/86)\u001b[K\rremote: Counting objects:  79% (68/86)\u001b[K\rremote: Counting objects:  80% (69/86)\u001b[K\rremote: Counting objects:  81% (70/86)\u001b[K\rremote: Counting objects:  82% (71/86)\u001b[K\rremote: Counting objects:  83% (72/86)\u001b[K\rremote: Counting objects:  84% (73/86)\u001b[K\rremote: Counting objects:  86% (74/86)\u001b[K\rremote: Counting objects:  87% (75/86)\u001b[K\rremote: Counting objects:  88% (76/86)\u001b[K\rremote: Counting objects:  89% (77/86)\u001b[K\rremote: Counting objects:  90% (78/86)\u001b[K\rremote: Counting objects:  91% (79/86)\u001b[K\rremote: Counting objects:  93% (80/86)\u001b[K\rremote: Counting objects:  94% (81/86)\u001b[K\rremote: Counting objects:  95% (82/86)\u001b[K\rremote: Counting objects:  96% (83/86)\u001b[K\rremote: Counting objects:  97% (84/86)\u001b[K\rremote: Counting objects:  98% (85/86)\u001b[K\rremote: Counting objects: 100% (86/86)\u001b[K\rremote: Counting objects: 100% (86/86), done.\u001b[K\n",
            "remote: Compressing objects: 100% (83/83), done.\u001b[K\n",
            "remote: Total 609 (delta 25), reused 23 (delta 3), pack-reused 523\u001b[K\n",
            "Receiving objects: 100% (609/609), 849.63 KiB | 8.85 MiB/s, done.\n",
            "Resolving deltas: 100% (332/332), done.\n"
          ],
          "name": "stdout"
        }
      ]
    },
    {
      "cell_type": "code",
      "metadata": {
        "id": "2edQA8J0Vw5L",
        "colab_type": "code",
        "outputId": "e6afc5a0-74f9-4cec-a12f-851ed467c941",
        "colab": {
          "base_uri": "https://localhost:8080/",
          "height": 102
        }
      },
      "source": [
        "!git clone https://github.com/dipanjanS/hands-on-transfer-learning-with-python.git"
      ],
      "execution_count": 49,
      "outputs": [
        {
          "output_type": "stream",
          "text": [
            "Cloning into 'hands-on-transfer-learning-with-python'...\n",
            "remote: Enumerating objects: 184, done.\u001b[K\n",
            "remote: Total 184 (delta 0), reused 0 (delta 0), pack-reused 184\u001b[K\n",
            "Receiving objects: 100% (184/184), 38.33 MiB | 34.28 MiB/s, done.\n",
            "Resolving deltas: 100% (40/40), done.\n"
          ],
          "name": "stdout"
        }
      ]
    },
    {
      "cell_type": "code",
      "metadata": {
        "id": "d6_goA7bVytW",
        "colab_type": "code",
        "outputId": "e6701f04-129d-4aa7-8195-6219f974ff2b",
        "colab": {
          "base_uri": "https://localhost:8080/",
          "height": 119
        }
      },
      "source": [
        "!git clone https://github.com/huggingface/transfer-learning-conv-ai.git"
      ],
      "execution_count": 50,
      "outputs": [
        {
          "output_type": "stream",
          "text": [
            "Cloning into 'transfer-learning-conv-ai'...\n",
            "remote: Enumerating objects: 3, done.\u001b[K\n",
            "remote: Counting objects:  33% (1/3)\u001b[K\rremote: Counting objects:  66% (2/3)\u001b[K\rremote: Counting objects: 100% (3/3)\u001b[K\rremote: Counting objects: 100% (3/3), done.\u001b[K\n",
            "remote: Compressing objects:  33% (1/3)\u001b[K\rremote: Compressing objects:  66% (2/3)\u001b[K\rremote: Compressing objects: 100% (3/3)\u001b[K\rremote: Compressing objects: 100% (3/3), done.\u001b[K\n",
            "Unpacking objects:   1% (1/99)   \rUnpacking objects:   2% (2/99)   \rUnpacking objects:   3% (3/99)   \rUnpacking objects:   4% (4/99)   \rUnpacking objects:   5% (5/99)   \rUnpacking objects:   6% (6/99)   \rUnpacking objects:   7% (7/99)   \rUnpacking objects:   8% (8/99)   \rUnpacking objects:   9% (9/99)   \rUnpacking objects:  10% (10/99)   \rUnpacking objects:  11% (11/99)   \rUnpacking objects:  12% (12/99)   \rUnpacking objects:  13% (13/99)   \rUnpacking objects:  14% (14/99)   \rUnpacking objects:  15% (15/99)   \rUnpacking objects:  16% (16/99)   \rUnpacking objects:  17% (17/99)   \rUnpacking objects:  18% (18/99)   \rUnpacking objects:  19% (19/99)   \rUnpacking objects:  20% (20/99)   \rUnpacking objects:  21% (21/99)   \rUnpacking objects:  22% (22/99)   \rUnpacking objects:  23% (23/99)   \rUnpacking objects:  24% (24/99)   \rUnpacking objects:  25% (25/99)   \rUnpacking objects:  26% (26/99)   \rUnpacking objects:  27% (27/99)   \rUnpacking objects:  28% (28/99)   \rUnpacking objects:  29% (29/99)   \rUnpacking objects:  30% (30/99)   \rUnpacking objects:  31% (31/99)   \rUnpacking objects:  32% (32/99)   \rUnpacking objects:  33% (33/99)   \rUnpacking objects:  34% (34/99)   \rUnpacking objects:  35% (35/99)   \rUnpacking objects:  36% (36/99)   \rUnpacking objects:  37% (37/99)   \rUnpacking objects:  38% (38/99)   \rUnpacking objects:  39% (39/99)   \rUnpacking objects:  40% (40/99)   \rUnpacking objects:  41% (41/99)   \rUnpacking objects:  42% (42/99)   \rUnpacking objects:  43% (43/99)   \rUnpacking objects:  44% (44/99)   \rUnpacking objects:  45% (45/99)   \rUnpacking objects:  46% (46/99)   \rUnpacking objects:  47% (47/99)   \rUnpacking objects:  48% (48/99)   \rUnpacking objects:  49% (49/99)   \rUnpacking objects:  50% (50/99)   \rremote: Total 99 (delta 0), reused 0 (delta 0), pack-reused 96\u001b[K\n",
            "Unpacking objects:  51% (51/99)   \rUnpacking objects:  52% (52/99)   \rUnpacking objects:  53% (53/99)   \rUnpacking objects:  54% (54/99)   \rUnpacking objects:  55% (55/99)   \rUnpacking objects:  56% (56/99)   \rUnpacking objects:  57% (57/99)   \rUnpacking objects:  58% (58/99)   \rUnpacking objects:  59% (59/99)   \rUnpacking objects:  60% (60/99)   \rUnpacking objects:  61% (61/99)   \rUnpacking objects:  62% (62/99)   \rUnpacking objects:  63% (63/99)   \rUnpacking objects:  64% (64/99)   \rUnpacking objects:  65% (65/99)   \rUnpacking objects:  66% (66/99)   \rUnpacking objects:  67% (67/99)   \rUnpacking objects:  68% (68/99)   \rUnpacking objects:  69% (69/99)   \rUnpacking objects:  70% (70/99)   \rUnpacking objects:  71% (71/99)   \rUnpacking objects:  72% (72/99)   \rUnpacking objects:  73% (73/99)   \rUnpacking objects:  74% (74/99)   \rUnpacking objects:  75% (75/99)   \rUnpacking objects:  76% (76/99)   \rUnpacking objects:  77% (77/99)   \rUnpacking objects:  78% (78/99)   \rUnpacking objects:  79% (79/99)   \rUnpacking objects:  80% (80/99)   \rUnpacking objects:  81% (81/99)   \rUnpacking objects:  82% (82/99)   \rUnpacking objects:  83% (83/99)   \rUnpacking objects:  84% (84/99)   \rUnpacking objects:  85% (85/99)   \rUnpacking objects:  86% (86/99)   \rUnpacking objects:  87% (87/99)   \rUnpacking objects:  88% (88/99)   \rUnpacking objects:  89% (89/99)   \rUnpacking objects:  90% (90/99)   \rUnpacking objects:  91% (91/99)   \rUnpacking objects:  92% (92/99)   \rUnpacking objects:  93% (93/99)   \rUnpacking objects:  94% (94/99)   \rUnpacking objects:  95% (95/99)   \rUnpacking objects:  96% (96/99)   \rUnpacking objects:  97% (97/99)   \rUnpacking objects:  98% (98/99)   \rUnpacking objects: 100% (99/99)   \rUnpacking objects: 100% (99/99), done.\n"
          ],
          "name": "stdout"
        }
      ]
    },
    {
      "cell_type": "code",
      "metadata": {
        "id": "QEDQKX8hWLlQ",
        "colab_type": "code",
        "outputId": "01e33a3e-7034-44a2-9135-3be018247317",
        "colab": {
          "base_uri": "https://localhost:8080/",
          "height": 119
        }
      },
      "source": [
        "!git clone https://github.com/vishalprabha/Image-Classification-Transfer-Learning-with-Inception-v3.git"
      ],
      "execution_count": 51,
      "outputs": [
        {
          "output_type": "stream",
          "text": [
            "Cloning into 'Image-Classification-Transfer-Learning-with-Inception-v3'...\n",
            "remote: Enumerating objects: 3701, done.\u001b[K\n",
            "remote: Total 3701 (delta 0), reused 0 (delta 0), pack-reused 3701\u001b[K\n",
            "Receiving objects: 100% (3701/3701), 218.76 MiB | 7.67 MiB/s, done.\n",
            "Resolving deltas: 100% (7/7), done.\n",
            "Checking out files: 100% (3684/3684), done.\n"
          ],
          "name": "stdout"
        }
      ]
    },
    {
      "cell_type": "code",
      "metadata": {
        "id": "49aPb2RiWiPf",
        "colab_type": "code",
        "outputId": "452ed5b7-e5e6-49a2-91eb-16124c52bc8a",
        "colab": {
          "base_uri": "https://localhost:8080/",
          "height": 85
        }
      },
      "source": [
        "!git clone https://github.com/VikasSinghBhadouria/Image-Classification-using-VGG-transfer-learning.git"
      ],
      "execution_count": 52,
      "outputs": [
        {
          "output_type": "stream",
          "text": [
            "Cloning into 'Image-Classification-using-VGG-transfer-learning'...\n",
            "remote: Enumerating objects: 6, done.\u001b[K\n",
            "remote: Total 6 (delta 0), reused 0 (delta 0), pack-reused 6\u001b[K\n",
            "Unpacking objects: 100% (6/6), done.\n"
          ],
          "name": "stdout"
        }
      ]
    },
    {
      "cell_type": "code",
      "metadata": {
        "id": "K-wEBp32WskA",
        "colab_type": "code",
        "outputId": "2d87e7a7-61d5-4be4-fc19-a63058256915",
        "colab": {
          "base_uri": "https://localhost:8080/",
          "height": 85
        }
      },
      "source": [
        "!git clone https://github.com/google/inception.git"
      ],
      "execution_count": 53,
      "outputs": [
        {
          "output_type": "stream",
          "text": [
            "Cloning into 'inception'...\n",
            "remote: Enumerating objects: 20, done.\u001b[K\n",
            "remote: Total 20 (delta 0), reused 0 (delta 0), pack-reused 20\n",
            "Unpacking objects: 100% (20/20), done.\n"
          ],
          "name": "stdout"
        }
      ]
    },
    {
      "cell_type": "code",
      "metadata": {
        "id": "81RrJbMfW_vX",
        "colab_type": "code",
        "outputId": "6e2082ae-57b6-432f-ccdf-cd142ba05cd6",
        "colab": {
          "base_uri": "https://localhost:8080/",
          "height": 85
        }
      },
      "source": [
        "!git clone https://github.com/EN10/KerasModels.git"
      ],
      "execution_count": 54,
      "outputs": [
        {
          "output_type": "stream",
          "text": [
            "Cloning into 'KerasModels'...\n",
            "remote: Enumerating objects: 25, done.\u001b[K\n",
            "remote: Total 25 (delta 0), reused 0 (delta 0), pack-reused 25\u001b[K\n",
            "Unpacking objects: 100% (25/25), done.\n"
          ],
          "name": "stdout"
        }
      ]
    },
    {
      "cell_type": "code",
      "metadata": {
        "id": "6qoMggpeZey2",
        "colab_type": "code",
        "outputId": "0447d00c-581d-4448-e96a-5c427534fa13",
        "colab": {
          "base_uri": "https://localhost:8080/",
          "height": 85
        }
      },
      "source": [
        "!git clone https://github.com/alexwolf22/tensor2tensor_translator.git"
      ],
      "execution_count": 55,
      "outputs": [
        {
          "output_type": "stream",
          "text": [
            "Cloning into 'tensor2tensor_translator'...\n",
            "remote: Enumerating objects: 15, done.\u001b[K\n",
            "Unpacking objects:   6% (1/15)   \rUnpacking objects:  13% (2/15)   \rUnpacking objects:  20% (3/15)   \rUnpacking objects:  26% (4/15)   \rUnpacking objects:  33% (5/15)   \rUnpacking objects:  40% (6/15)   \rUnpacking objects:  46% (7/15)   \rremote: Total 15 (delta 0), reused 0 (delta 0), pack-reused 15\u001b[K\n",
            "Unpacking objects:  53% (8/15)   \rUnpacking objects:  60% (9/15)   \rUnpacking objects:  66% (10/15)   \rUnpacking objects:  73% (11/15)   \rUnpacking objects:  80% (12/15)   \rUnpacking objects:  86% (13/15)   \rUnpacking objects:  93% (14/15)   \rUnpacking objects: 100% (15/15)   \rUnpacking objects: 100% (15/15), done.\n"
          ],
          "name": "stdout"
        }
      ]
    },
    {
      "cell_type": "code",
      "metadata": {
        "id": "pjwMaqstYvPK",
        "colab_type": "code",
        "colab": {}
      },
      "source": [
        "%load  https://colab.sandbox.google.com/github/tensorflow/docs/blob/master/site/en/tutorials/text/text_generation.ipynb"
      ],
      "execution_count": 0,
      "outputs": []
    },
    {
      "cell_type": "code",
      "metadata": {
        "id": "NgPA86jgXXff",
        "colab_type": "code",
        "outputId": "f1973c12-d842-4049-d9b7-b13cdf82ce4c",
        "colab": {
          "base_uri": "https://localhost:8080/",
          "height": 136
        }
      },
      "source": [
        "!git clone https://github.com/openai/gym.git"
      ],
      "execution_count": 57,
      "outputs": [
        {
          "output_type": "stream",
          "text": [
            "Cloning into 'gym'...\n",
            "remote: Enumerating objects: 16, done.\u001b[K\n",
            "remote: Counting objects:   6% (1/16)\u001b[K\rremote: Counting objects:  12% (2/16)\u001b[K\rremote: Counting objects:  18% (3/16)\u001b[K\rremote: Counting objects:  25% (4/16)\u001b[K\rremote: Counting objects:  31% (5/16)\u001b[K\rremote: Counting objects:  37% (6/16)\u001b[K\rremote: Counting objects:  43% (7/16)\u001b[K\rremote: Counting objects:  50% (8/16)\u001b[K\rremote: Counting objects:  56% (9/16)\u001b[K\rremote: Counting objects:  62% (10/16)\u001b[K\rremote: Counting objects:  68% (11/16)\u001b[K\rremote: Counting objects:  75% (12/16)\u001b[K\rremote: Counting objects:  81% (13/16)\u001b[K\rremote: Counting objects:  87% (14/16)\u001b[K\rremote: Counting objects:  93% (15/16)\u001b[K\rremote: Counting objects: 100% (16/16)\u001b[K\rremote: Counting objects: 100% (16/16), done.\u001b[K\n",
            "remote: Compressing objects: 100% (16/16), done.\u001b[K\n",
            "remote: Total 10225 (delta 3), reused 3 (delta 0), pack-reused 10209\u001b[K\n",
            "Receiving objects: 100% (10225/10225), 3.95 MiB | 15.43 MiB/s, done.\n",
            "Resolving deltas: 100% (6875/6875), done.\n"
          ],
          "name": "stdout"
        }
      ]
    },
    {
      "cell_type": "code",
      "metadata": {
        "id": "XItgXXKvXcaj",
        "colab_type": "code",
        "outputId": "7999d1e8-3b31-4b89-a1e7-23c0ade07ca6",
        "colab": {
          "base_uri": "https://localhost:8080/",
          "height": 85
        }
      },
      "source": [
        "!git clone https://github.com/MasazI/dqn-gym.git"
      ],
      "execution_count": 58,
      "outputs": [
        {
          "output_type": "stream",
          "text": [
            "Cloning into 'dqn-gym'...\n",
            "remote: Enumerating objects: 44, done.\u001b[K\n",
            "remote: Total 44 (delta 0), reused 0 (delta 0), pack-reused 44\u001b[K\n",
            "Unpacking objects: 100% (44/44), done.\n"
          ],
          "name": "stdout"
        }
      ]
    },
    {
      "cell_type": "code",
      "metadata": {
        "id": "6lU--azheMKH",
        "colab_type": "code",
        "colab": {}
      },
      "source": [
        "#!git clone https://github.com/dennybritz/reinforcement-learning.git"
      ],
      "execution_count": 0,
      "outputs": []
    },
    {
      "cell_type": "code",
      "metadata": {
        "id": "0JjZmWC_lqVD",
        "colab_type": "code",
        "outputId": "e4e547b3-41c4-48a6-9e0d-ecb891c663d4",
        "colab": {
          "base_uri": "https://localhost:8080/",
          "height": 102
        }
      },
      "source": [
        "!git clone https://github.com/openai/baselines.git"
      ],
      "execution_count": 60,
      "outputs": [
        {
          "output_type": "stream",
          "text": [
            "Cloning into 'baselines'...\n",
            "remote: Enumerating objects: 3612, done.\u001b[K\n",
            "remote: Total 3612 (delta 0), reused 0 (delta 0), pack-reused 3612\u001b[K\n",
            "Receiving objects: 100% (3612/3612), 6.46 MiB | 21.13 MiB/s, done.\n",
            "Resolving deltas: 100% (2415/2415), done.\n"
          ],
          "name": "stdout"
        }
      ]
    },
    {
      "cell_type": "code",
      "metadata": {
        "id": "PwjubFLjmSSi",
        "colab_type": "code",
        "outputId": "20e30337-c129-43b0-e49b-013bc644f509",
        "colab": {
          "base_uri": "https://localhost:8080/",
          "height": 102
        }
      },
      "source": [
        "!git clone https://github.com/kpzhang93/MTCNN_face_detection_alignment.git"
      ],
      "execution_count": 61,
      "outputs": [
        {
          "output_type": "stream",
          "text": [
            "Cloning into 'MTCNN_face_detection_alignment'...\n",
            "remote: Enumerating objects: 139, done.\u001b[K\n",
            "remote: Total 139 (delta 0), reused 0 (delta 0), pack-reused 139\u001b[K\n",
            "Receiving objects: 100% (139/139), 32.04 MiB | 31.48 MiB/s, done.\n",
            "Resolving deltas: 100% (51/51), done.\n"
          ],
          "name": "stdout"
        }
      ]
    },
    {
      "cell_type": "code",
      "metadata": {
        "id": "R4Ww1o-p30rU",
        "colab_type": "code",
        "outputId": "aeb75d58-d7f2-4cb5-e302-3d9863121c7e",
        "colab": {
          "base_uri": "https://localhost:8080/",
          "height": 136
        }
      },
      "source": [
        "!git clone https://github.com/krasserm/face-recognition.git"
      ],
      "execution_count": 62,
      "outputs": [
        {
          "output_type": "stream",
          "text": [
            "Cloning into 'face-recognition'...\n",
            "remote: Enumerating objects: 15, done.\u001b[K\n",
            "remote: Counting objects:   6% (1/15)\u001b[K\rremote: Counting objects:  13% (2/15)\u001b[K\rremote: Counting objects:  20% (3/15)\u001b[K\rremote: Counting objects:  26% (4/15)\u001b[K\rremote: Counting objects:  33% (5/15)\u001b[K\rremote: Counting objects:  40% (6/15)\u001b[K\rremote: Counting objects:  46% (7/15)\u001b[K\rremote: Counting objects:  53% (8/15)\u001b[K\rremote: Counting objects:  60% (9/15)\u001b[K\rremote: Counting objects:  66% (10/15)\u001b[K\rremote: Counting objects:  73% (11/15)\u001b[K\rremote: Counting objects:  80% (12/15)\u001b[K\rremote: Counting objects:  86% (13/15)\u001b[K\rremote: Counting objects:  93% (14/15)\u001b[K\rremote: Counting objects: 100% (15/15)\u001b[K\rremote: Counting objects: 100% (15/15), done.\u001b[K\n",
            "remote: Compressing objects: 100% (15/15), done.\u001b[K\n",
            "remote: Total 170 (delta 7), reused 2 (delta 0), pack-reused 155\u001b[K\n",
            "Receiving objects: 100% (170/170), 16.84 MiB | 34.57 MiB/s, done.\n",
            "Resolving deltas: 100% (25/25), done.\n"
          ],
          "name": "stdout"
        }
      ]
    },
    {
      "cell_type": "code",
      "metadata": {
        "id": "--qMjo6M34OJ",
        "colab_type": "code",
        "outputId": "7daf7aab-1eaa-4782-dca3-5e07469663fa",
        "colab": {
          "base_uri": "https://localhost:8080/",
          "height": 119
        }
      },
      "source": [
        "!git clone https://github.com/iwantooxxoox/Keras-OpenFace.git"
      ],
      "execution_count": 63,
      "outputs": [
        {
          "output_type": "stream",
          "text": [
            "Cloning into 'Keras-OpenFace'...\n",
            "remote: Enumerating objects: 383, done.\u001b[K\n",
            "remote: Total 383 (delta 0), reused 0 (delta 0), pack-reused 383\n",
            "Receiving objects: 100% (383/383), 109.63 MiB | 24.83 MiB/s, done.\n",
            "Resolving deltas: 100% (74/74), done.\n",
            "Checking out files: 100% (257/257), done.\n"
          ],
          "name": "stdout"
        }
      ]
    },
    {
      "cell_type": "code",
      "metadata": {
        "id": "Zgsy0UWo8urg",
        "colab_type": "code",
        "colab": {}
      },
      "source": [
        "%load https://github.com/mzaradzki/neuralnets/blob/master/vgg_faces_keras/vgg_faces_demo.ipynb"
      ],
      "execution_count": 0,
      "outputs": []
    },
    {
      "cell_type": "code",
      "metadata": {
        "id": "4m14vTo280vx",
        "colab_type": "code",
        "outputId": "17cc063d-04c0-41e0-c7ad-58384d3652a0",
        "colab": {
          "base_uri": "https://localhost:8080/",
          "height": 102
        }
      },
      "source": [
        "!git clone https://github.com/jupyter/colaboratory.git"
      ],
      "execution_count": 65,
      "outputs": [
        {
          "output_type": "stream",
          "text": [
            "Cloning into 'colaboratory'...\n",
            "remote: Enumerating objects: 2056, done.\u001b[K\n",
            "remote: Total 2056 (delta 0), reused 0 (delta 0), pack-reused 2056\u001b[K\n",
            "Receiving objects: 100% (2056/2056), 1.04 MiB | 8.16 MiB/s, done.\n",
            "Resolving deltas: 100% (1297/1297), done.\n"
          ],
          "name": "stdout"
        }
      ]
    },
    {
      "cell_type": "code",
      "metadata": {
        "id": "pnh6y3zv1fTb",
        "colab_type": "code",
        "outputId": "84143c83-9c2f-4651-d0ee-4ec05cec5268",
        "colab": {
          "base_uri": "https://localhost:8080/",
          "height": 136
        }
      },
      "source": [
        "!git clone https://github.com/quantumlib/Cirq.git"
      ],
      "execution_count": 66,
      "outputs": [
        {
          "output_type": "stream",
          "text": [
            "Cloning into 'Cirq'...\n",
            "remote: Enumerating objects: 59, done.\u001b[K\n",
            "remote: Counting objects: 100% (59/59), done.\u001b[K\n",
            "remote: Compressing objects: 100% (50/50), done.\u001b[K\n",
            "remote: Total 16928 (delta 18), reused 21 (delta 9), pack-reused 16869\u001b[K\n",
            "Receiving objects: 100% (16928/16928), 6.99 MiB | 22.10 MiB/s, done.\n",
            "Resolving deltas: 100% (13265/13265), done.\n"
          ],
          "name": "stdout"
        }
      ]
    },
    {
      "cell_type": "code",
      "metadata": {
        "id": "pcrNa-qp9yrL",
        "colab_type": "code",
        "outputId": "f81ae780-88ca-4a0b-dc10-a0c19743705a",
        "colab": {
          "base_uri": "https://localhost:8080/",
          "height": 85
        }
      },
      "source": [
        "!git clone https://github.com/saitejdandge/Sentimental_Analysis_LSTM_Conv1D.git"
      ],
      "execution_count": 67,
      "outputs": [
        {
          "output_type": "stream",
          "text": [
            "Cloning into 'Sentimental_Analysis_LSTM_Conv1D'...\n",
            "remote: Enumerating objects: 45, done.\u001b[K\n",
            "remote: Total 45 (delta 0), reused 0 (delta 0), pack-reused 45\u001b[K\n",
            "Unpacking objects: 100% (45/45), done.\n"
          ],
          "name": "stdout"
        }
      ]
    },
    {
      "cell_type": "code",
      "metadata": {
        "id": "UOxiScmp7XDh",
        "colab_type": "code",
        "outputId": "a73119ce-7521-4bdc-dd61-334bf149955c",
        "colab": {
          "base_uri": "https://localhost:8080/",
          "height": 119
        }
      },
      "source": [
        "!git clone https://github.com/rohan-varma/word2vec.git"
      ],
      "execution_count": 68,
      "outputs": [
        {
          "output_type": "stream",
          "text": [
            "Cloning into 'word2vec'...\n",
            "remote: Enumerating objects: 299, done.\u001b[K\n",
            "remote: Total 299 (delta 0), reused 0 (delta 0), pack-reused 299\u001b[K\n",
            "Receiving objects: 100% (299/299), 289.76 MiB | 29.72 MiB/s, done.\n",
            "Resolving deltas: 100% (150/150), done.\n",
            "Checking out files: 100% (28/28), done.\n"
          ],
          "name": "stdout"
        }
      ]
    },
    {
      "cell_type": "code",
      "metadata": {
        "id": "yy26-MNY7bp0",
        "colab_type": "code",
        "outputId": "8628a60f-6d98-4354-95af-b3243589cc1f",
        "colab": {
          "base_uri": "https://localhost:8080/",
          "height": 136
        }
      },
      "source": [
        "!git clone https://github.com/MorganGeek/bookmarks.git"
      ],
      "execution_count": 69,
      "outputs": [
        {
          "output_type": "stream",
          "text": [
            "Cloning into 'bookmarks'...\n",
            "remote: Enumerating objects: 123, done.\u001b[K\n",
            "remote: Counting objects: 100% (123/123), done.\u001b[K\n",
            "remote: Compressing objects: 100% (117/117), done.\u001b[K\n",
            "remote: Total 8247 (delta 76), reused 9 (delta 5), pack-reused 8124\u001b[K\n",
            "Receiving objects: 100% (8247/8247), 4.58 MiB | 19.88 MiB/s, done.\n",
            "Resolving deltas: 100% (5395/5395), done.\n"
          ],
          "name": "stdout"
        }
      ]
    },
    {
      "cell_type": "code",
      "metadata": {
        "id": "C9TOwwiiESbl",
        "colab_type": "code",
        "colab": {}
      },
      "source": [
        "#import import_ipynb\n",
        "#import https://github.com/wlin988/Colab/blob/master/Gamblers_Problem.ipynb"
      ],
      "execution_count": 0,
      "outputs": []
    },
    {
      "cell_type": "code",
      "metadata": {
        "id": "VZx1Q4lp9KV6",
        "colab_type": "code",
        "outputId": "e63529bf-0796-4be2-e72c-e910aafe6c3c",
        "colab": {
          "base_uri": "https://localhost:8080/",
          "height": 102
        }
      },
      "source": [
        "!git clone https://github.com/jupyter/jupyter.git\n"
      ],
      "execution_count": 71,
      "outputs": [
        {
          "output_type": "stream",
          "text": [
            "Cloning into 'jupyter'...\n",
            "remote: Enumerating objects: 3177, done.\u001b[K\n",
            "remote: Total 3177 (delta 0), reused 0 (delta 0), pack-reused 3177\u001b[K\n",
            "Receiving objects: 100% (3177/3177), 4.94 MiB | 20.00 MiB/s, done.\n",
            "Resolving deltas: 100% (2087/2087), done.\n"
          ],
          "name": "stdout"
        }
      ]
    },
    {
      "cell_type": "code",
      "metadata": {
        "id": "W8V63ijbJihN",
        "colab_type": "code",
        "outputId": "4c57135a-1d20-44b2-bd5f-0fa79a2081e7",
        "colab": {
          "base_uri": "https://localhost:8080/",
          "height": 85
        }
      },
      "source": [
        "!git clone https://github.com/odewahn/ipynb-examples.git"
      ],
      "execution_count": 72,
      "outputs": [
        {
          "output_type": "stream",
          "text": [
            "Cloning into 'ipynb-examples'...\n",
            "remote: Enumerating objects: 24, done.\u001b[K\n",
            "remote: Total 24 (delta 0), reused 0 (delta 0), pack-reused 24\u001b[K\n",
            "Unpacking objects: 100% (24/24), done.\n"
          ],
          "name": "stdout"
        }
      ]
    },
    {
      "cell_type": "code",
      "metadata": {
        "id": "GDBQSfHFNc8Q",
        "colab_type": "code",
        "outputId": "b9b339c1-4869-4347-8f8d-8dac77bce4d2",
        "colab": {
          "base_uri": "https://localhost:8080/",
          "height": 190
        }
      },
      "source": [
        "!pip install import-ipynb\n",
        "import import_ipynb"
      ],
      "execution_count": 73,
      "outputs": [
        {
          "output_type": "stream",
          "text": [
            "Collecting import-ipynb\n",
            "  Downloading https://files.pythonhosted.org/packages/63/35/495e0021bfdcc924c7cdec4e9fbb87c88dd03b9b9b22419444dc370c8a45/import-ipynb-0.1.3.tar.gz\n",
            "Building wheels for collected packages: import-ipynb\n",
            "  Building wheel for import-ipynb (setup.py) ... \u001b[?25l\u001b[?25hdone\n",
            "  Created wheel for import-ipynb: filename=import_ipynb-0.1.3-cp36-none-any.whl size=2975 sha256=8985c28768300be0d1bca3dd031be79ecc6c7ce7c4cef8c75d3f0046e40c2006\n",
            "  Stored in directory: /root/.cache/pip/wheels/b4/7b/e9/a3a6e496115dffdb4e3085d0ae39ffe8a814eacc44bbf494b5\n",
            "Successfully built import-ipynb\n",
            "Installing collected packages: import-ipynb\n",
            "Successfully installed import-ipynb-0.1.3\n"
          ],
          "name": "stdout"
        }
      ]
    },
    {
      "cell_type": "code",
      "metadata": {
        "id": "HT4ArHWQgWzC",
        "colab_type": "code",
        "colab": {}
      },
      "source": [
        "%load http://colab.research.google.com/github/wlin988/Colab/blob/master/Gamblers_Problem.ipynb"
      ],
      "execution_count": 0,
      "outputs": []
    },
    {
      "cell_type": "code",
      "metadata": {
        "id": "3U61jMJzOxY4",
        "colab_type": "code",
        "colab": {}
      },
      "source": [
        "%load https://colab.sandbox.google.com/github/googlecolab/colabtools/blob/master/notebooks/colab-github-demo.ipynb"
      ],
      "execution_count": 0,
      "outputs": []
    },
    {
      "cell_type": "code",
      "metadata": {
        "id": "Yp_VVNwwSY0k",
        "colab_type": "code",
        "outputId": "d8983238-6624-40dd-8fb4-2e3a079a3fb6",
        "colab": {
          "base_uri": "https://localhost:8080/",
          "height": 102
        }
      },
      "source": [
        "!git clone https://github.com/explosion/sense2vec.git"
      ],
      "execution_count": 76,
      "outputs": [
        {
          "output_type": "stream",
          "text": [
            "Cloning into 'sense2vec'...\n",
            "remote: Enumerating objects: 2148, done.\u001b[K\n",
            "remote: Total 2148 (delta 0), reused 0 (delta 0), pack-reused 2148\u001b[K\n",
            "Receiving objects: 100% (2148/2148), 1.13 MiB | 8.17 MiB/s, done.\n",
            "Resolving deltas: 100% (1194/1194), done.\n"
          ],
          "name": "stdout"
        }
      ]
    },
    {
      "cell_type": "code",
      "metadata": {
        "id": "HhAMrIok7tjc",
        "colab_type": "code",
        "outputId": "e2e80d0c-ac5b-496b-bcdd-ebbb45d107c8",
        "colab": {
          "base_uri": "https://localhost:8080/",
          "height": 136
        }
      },
      "source": [
        "!git clone https://github.com/brightmart/text_classification.git"
      ],
      "execution_count": 77,
      "outputs": [
        {
          "output_type": "stream",
          "text": [
            "Cloning into 'text_classification'...\n",
            "remote: Enumerating objects: 6, done.\u001b[K\n",
            "remote: Counting objects:  16% (1/6)\u001b[K\rremote: Counting objects:  33% (2/6)\u001b[K\rremote: Counting objects:  50% (3/6)\u001b[K\rremote: Counting objects:  66% (4/6)\u001b[K\rremote: Counting objects:  83% (5/6)\u001b[K\rremote: Counting objects: 100% (6/6)\u001b[K\rremote: Counting objects: 100% (6/6), done.\u001b[K\n",
            "remote: Compressing objects: 100% (6/6), done.\u001b[K\n",
            "remote: Total 1206 (delta 2), reused 0 (delta 0), pack-reused 1200\u001b[K\n",
            "Receiving objects: 100% (1206/1206), 14.39 MiB | 28.40 MiB/s, done.\n",
            "Resolving deltas: 100% (752/752), done.\n"
          ],
          "name": "stdout"
        }
      ]
    },
    {
      "cell_type": "code",
      "metadata": {
        "id": "C5t55O1I7ue_",
        "colab_type": "code",
        "outputId": "153af3f4-4d48-45ea-9468-24f1a9f0e507",
        "colab": {
          "base_uri": "https://localhost:8080/",
          "height": 85
        }
      },
      "source": [
        "!git clone https://github.com/chongyangtao/Reading-List-of-Reinforcement-Learning-for-NLP.git"
      ],
      "execution_count": 78,
      "outputs": [
        {
          "output_type": "stream",
          "text": [
            "Cloning into 'Reading-List-of-Reinforcement-Learning-for-NLP'...\n",
            "remote: Enumerating objects: 6, done.\u001b[K\n",
            "remote: Total 6 (delta 0), reused 0 (delta 0), pack-reused 6\u001b[K\n",
            "Unpacking objects:  16% (1/6)   \rUnpacking objects:  33% (2/6)   \rUnpacking objects:  50% (3/6)   \rUnpacking objects:  66% (4/6)   \rUnpacking objects:  83% (5/6)   \rUnpacking objects: 100% (6/6)   \rUnpacking objects: 100% (6/6), done.\n"
          ],
          "name": "stdout"
        }
      ]
    },
    {
      "cell_type": "code",
      "metadata": {
        "id": "AlvmgUeb7ySS",
        "colab_type": "code",
        "outputId": "d4c11f73-8f2c-482c-b1d1-082022e5fd46",
        "colab": {
          "base_uri": "https://localhost:8080/",
          "height": 85
        }
      },
      "source": [
        "!git clone https://github.com/adityathakker/awesome-rl-nlp.git"
      ],
      "execution_count": 79,
      "outputs": [
        {
          "output_type": "stream",
          "text": [
            "Cloning into 'awesome-rl-nlp'...\n",
            "remote: Enumerating objects: 40, done.\u001b[K\n",
            "Unpacking objects:   2% (1/40)   \rUnpacking objects:   5% (2/40)   \rUnpacking objects:   7% (3/40)   \rUnpacking objects:  10% (4/40)   \rUnpacking objects:  12% (5/40)   \rUnpacking objects:  15% (6/40)   \rUnpacking objects:  17% (7/40)   \rUnpacking objects:  20% (8/40)   \rUnpacking objects:  22% (9/40)   \rUnpacking objects:  25% (10/40)   \rUnpacking objects:  27% (11/40)   \rUnpacking objects:  30% (12/40)   \rUnpacking objects:  32% (13/40)   \rUnpacking objects:  35% (14/40)   \rUnpacking objects:  37% (15/40)   \rUnpacking objects:  40% (16/40)   \rUnpacking objects:  42% (17/40)   \rUnpacking objects:  45% (18/40)   \rUnpacking objects:  47% (19/40)   \rUnpacking objects:  50% (20/40)   \rUnpacking objects:  52% (21/40)   \rUnpacking objects:  55% (22/40)   \rUnpacking objects:  57% (23/40)   \rUnpacking objects:  60% (24/40)   \rUnpacking objects:  62% (25/40)   \rUnpacking objects:  65% (26/40)   \rUnpacking objects:  67% (27/40)   \rUnpacking objects:  70% (28/40)   \rUnpacking objects:  72% (29/40)   \rUnpacking objects:  75% (30/40)   \rUnpacking objects:  77% (31/40)   \rUnpacking objects:  80% (32/40)   \rUnpacking objects:  82% (33/40)   \rUnpacking objects:  85% (34/40)   \rUnpacking objects:  87% (35/40)   \rUnpacking objects:  90% (36/40)   \rremote: Total 40 (delta 0), reused 0 (delta 0), pack-reused 40\u001b[K\n",
            "Unpacking objects:  92% (37/40)   \rUnpacking objects:  95% (38/40)   \rUnpacking objects:  97% (39/40)   \rUnpacking objects: 100% (40/40)   \rUnpacking objects: 100% (40/40), done.\n"
          ],
          "name": "stdout"
        }
      ]
    },
    {
      "cell_type": "code",
      "metadata": {
        "id": "yRfWhwt0708o",
        "colab_type": "code",
        "outputId": "54f5829a-812c-4ced-c84a-e646e7a24c74",
        "colab": {
          "base_uri": "https://localhost:8080/",
          "height": 136
        }
      },
      "source": [
        "!git clone https://github.com/gopala-kr/meta-learning.git"
      ],
      "execution_count": 80,
      "outputs": [
        {
          "output_type": "stream",
          "text": [
            "Cloning into 'meta-learning'...\n",
            "remote: Enumerating objects: 30, done.\u001b[K\n",
            "remote: Counting objects:   3% (1/30)\u001b[K\rremote: Counting objects:   6% (2/30)\u001b[K\rremote: Counting objects:  10% (3/30)\u001b[K\rremote: Counting objects:  13% (4/30)\u001b[K\rremote: Counting objects:  16% (5/30)\u001b[K\rremote: Counting objects:  20% (6/30)\u001b[K\rremote: Counting objects:  23% (7/30)\u001b[K\rremote: Counting objects:  26% (8/30)\u001b[K\rremote: Counting objects:  30% (9/30)\u001b[K\rremote: Counting objects:  33% (10/30)\u001b[K\rremote: Counting objects:  36% (11/30)\u001b[K\rremote: Counting objects:  40% (12/30)\u001b[K\rremote: Counting objects:  43% (13/30)\u001b[K\rremote: Counting objects:  46% (14/30)\u001b[K\rremote: Counting objects:  50% (15/30)\u001b[K\rremote: Counting objects:  53% (16/30)\u001b[K\rremote: Counting objects:  56% (17/30)\u001b[K\rremote: Counting objects:  60% (18/30)\u001b[K\rremote: Counting objects:  63% (19/30)\u001b[K\rremote: Counting objects:  66% (20/30)\u001b[K\rremote: Counting objects:  70% (21/30)\u001b[K\rremote: Counting objects:  73% (22/30)\u001b[K\rremote: Counting objects:  76% (23/30)\u001b[K\rremote: Counting objects:  80% (24/30)\u001b[K\rremote: Counting objects:  83% (25/30)\u001b[K\rremote: Counting objects:  86% (26/30)\u001b[K\rremote: Counting objects:  90% (27/30)\u001b[K\rremote: Counting objects:  93% (28/30)\u001b[K\rremote: Counting objects:  96% (29/30)\u001b[K\rremote: Counting objects: 100% (30/30)\u001b[K\rremote: Counting objects: 100% (30/30), done.\u001b[K\n",
            "remote: Compressing objects:   3% (1/30)\u001b[K\rremote: Compressing objects:   6% (2/30)\u001b[K\rremote: Compressing objects:  10% (3/30)\u001b[K\rremote: Compressing objects:  13% (4/30)\u001b[K\rremote: Compressing objects:  16% (5/30)\u001b[K\rremote: Compressing objects:  20% (6/30)\u001b[K\rremote: Compressing objects:  23% (7/30)\u001b[K\rremote: Compressing objects:  26% (8/30)\u001b[K\rremote: Compressing objects:  30% (9/30)\u001b[K\rremote: Compressing objects:  33% (10/30)\u001b[K\rremote: Compressing objects:  36% (11/30)\u001b[K\rremote: Compressing objects:  40% (12/30)\u001b[K\rremote: Compressing objects:  43% (13/30)\u001b[K\rremote: Compressing objects:  46% (14/30)\u001b[K\rremote: Compressing objects:  50% (15/30)\u001b[K\rremote: Compressing objects:  53% (16/30)\u001b[K\rremote: Compressing objects:  56% (17/30)\u001b[K\rremote: Compressing objects:  60% (18/30)\u001b[K\rremote: Compressing objects:  63% (19/30)\u001b[K\rremote: Compressing objects:  66% (20/30)\u001b[K\rremote: Compressing objects:  70% (21/30)\u001b[K\rremote: Compressing objects:  73% (22/30)\u001b[K\rremote: Compressing objects:  76% (23/30)\u001b[K\rremote: Compressing objects:  80% (24/30)\u001b[K\rremote: Compressing objects:  83% (25/30)\u001b[K\rremote: Compressing objects:  86% (26/30)\u001b[K\rremote: Compressing objects:  90% (27/30)\u001b[K\rremote: Compressing objects:  93% (28/30)\u001b[K\rremote: Compressing objects:  96% (29/30)\u001b[K\rremote: Compressing objects: 100% (30/30)\u001b[K\rremote: Compressing objects: 100% (30/30), done.\u001b[K\n",
            "Receiving objects:   0% (1/244)   \rReceiving objects:   1% (3/244)   \rReceiving objects:   2% (5/244)   \rReceiving objects:   3% (8/244)   \rReceiving objects:   4% (10/244)   \rReceiving objects:   5% (13/244)   \rReceiving objects:   6% (15/244)   \rReceiving objects:   7% (18/244)   \rReceiving objects:   8% (20/244)   \rReceiving objects:   9% (22/244)   \rReceiving objects:  10% (25/244)   \rReceiving objects:  11% (27/244)   \rReceiving objects:  12% (30/244)   \rReceiving objects:  13% (32/244)   \rReceiving objects:  14% (35/244)   \rReceiving objects:  15% (37/244)   \rReceiving objects:  16% (40/244)   \rReceiving objects:  17% (42/244)   \rReceiving objects:  18% (44/244)   \rReceiving objects:  19% (47/244)   \rReceiving objects:  20% (49/244)   \rReceiving objects:  21% (52/244)   \rReceiving objects:  22% (54/244)   \rReceiving objects:  23% (57/244)   \rReceiving objects:  24% (59/244)   \rReceiving objects:  25% (61/244)   \rReceiving objects:  26% (64/244)   \rReceiving objects:  27% (66/244)   \rReceiving objects:  28% (69/244)   \rReceiving objects:  29% (71/244)   \rReceiving objects:  30% (74/244)   \rReceiving objects:  31% (76/244)   \rReceiving objects:  32% (79/244)   \rReceiving objects:  33% (81/244)   \rReceiving objects:  34% (83/244)   \rReceiving objects:  35% (86/244)   \rReceiving objects:  36% (88/244)   \rReceiving objects:  37% (91/244)   \rReceiving objects:  38% (93/244)   \rReceiving objects:  39% (96/244)   \rReceiving objects:  40% (98/244)   \rReceiving objects:  41% (101/244)   \rReceiving objects:  42% (103/244)   \rReceiving objects:  43% (105/244)   \rReceiving objects:  44% (108/244)   \rReceiving objects:  45% (110/244)   \rReceiving objects:  46% (113/244)   \rReceiving objects:  47% (115/244)   \rReceiving objects:  48% (118/244)   \rReceiving objects:  49% (120/244)   \rReceiving objects:  50% (122/244)   \rReceiving objects:  51% (125/244)   \rReceiving objects:  52% (127/244)   \rReceiving objects:  53% (130/244)   \rReceiving objects:  54% (132/244)   \rReceiving objects:  55% (135/244)   \rReceiving objects:  56% (137/244)   \rReceiving objects:  57% (140/244)   \rReceiving objects:  58% (142/244)   \rReceiving objects:  59% (144/244)   \rReceiving objects:  60% (147/244)   \rReceiving objects:  61% (149/244)   \rReceiving objects:  62% (152/244)   \rReceiving objects:  63% (154/244)   \rReceiving objects:  64% (157/244)   \rremote: Total 244 (delta 9), reused 0 (delta 0), pack-reused 214\u001b[K\n",
            "Receiving objects:  65% (159/244)   \rReceiving objects:  66% (162/244)   \rReceiving objects:  67% (164/244)   \rReceiving objects:  68% (166/244)   \rReceiving objects:  69% (169/244)   \rReceiving objects:  70% (171/244)   \rReceiving objects:  71% (174/244)   \rReceiving objects:  72% (176/244)   \rReceiving objects:  73% (179/244)   \rReceiving objects:  74% (181/244)   \rReceiving objects:  75% (183/244)   \rReceiving objects:  76% (186/244)   \rReceiving objects:  77% (188/244)   \rReceiving objects:  78% (191/244)   \rReceiving objects:  79% (193/244)   \rReceiving objects:  80% (196/244)   \rReceiving objects:  81% (198/244)   \rReceiving objects:  82% (201/244)   \rReceiving objects:  83% (203/244)   \rReceiving objects:  84% (205/244)   \rReceiving objects:  85% (208/244)   \rReceiving objects:  86% (210/244)   \rReceiving objects:  87% (213/244)   \rReceiving objects:  88% (215/244)   \rReceiving objects:  89% (218/244)   \rReceiving objects:  90% (220/244)   \rReceiving objects:  91% (223/244)   \rReceiving objects:  92% (225/244)   \rReceiving objects:  93% (227/244)   \rReceiving objects:  94% (230/244)   \rReceiving objects:  95% (232/244)   \rReceiving objects:  96% (235/244)   \rReceiving objects:  97% (237/244)   \rReceiving objects:  98% (240/244)   \rReceiving objects:  99% (242/244)   \rReceiving objects: 100% (244/244)   \rReceiving objects: 100% (244/244), 74.64 KiB | 3.24 MiB/s, done.\n",
            "Resolving deltas:   0% (0/75)   \rResolving deltas:  26% (20/75)   \rResolving deltas:  69% (52/75)   \rResolving deltas:  77% (58/75)   \rResolving deltas:  96% (72/75)   \rResolving deltas: 100% (75/75)   \rResolving deltas: 100% (75/75), done.\n"
          ],
          "name": "stdout"
        }
      ]
    },
    {
      "cell_type": "code",
      "metadata": {
        "id": "2XdtD5nI73C2",
        "colab_type": "code",
        "outputId": "583e3acb-b0fe-4e06-8946-0458824279cf",
        "colab": {
          "base_uri": "https://localhost:8080/",
          "height": 136
        }
      },
      "source": [
        "!git clone https://github.com/hanxiao/bert-as-service.git"
      ],
      "execution_count": 81,
      "outputs": [
        {
          "output_type": "stream",
          "text": [
            "Cloning into 'bert-as-service'...\n",
            "remote: Enumerating objects: 29, done.\u001b[K\n",
            "remote: Counting objects:   3% (1/29)\u001b[K\rremote: Counting objects:   6% (2/29)\u001b[K\rremote: Counting objects:  10% (3/29)\u001b[K\rremote: Counting objects:  13% (4/29)\u001b[K\rremote: Counting objects:  17% (5/29)\u001b[K\rremote: Counting objects:  20% (6/29)\u001b[K\rremote: Counting objects:  24% (7/29)\u001b[K\rremote: Counting objects:  27% (8/29)\u001b[K\rremote: Counting objects:  31% (9/29)\u001b[K\rremote: Counting objects:  34% (10/29)\u001b[K\rremote: Counting objects:  37% (11/29)\u001b[K\rremote: Counting objects:  41% (12/29)\u001b[K\rremote: Counting objects:  44% (13/29)\u001b[K\rremote: Counting objects:  48% (14/29)\u001b[K\rremote: Counting objects:  51% (15/29)\u001b[K\rremote: Counting objects:  55% (16/29)\u001b[K\rremote: Counting objects:  58% (17/29)\u001b[K\rremote: Counting objects:  62% (18/29)\u001b[K\rremote: Counting objects:  65% (19/29)\u001b[K\rremote: Counting objects:  68% (20/29)\u001b[K\rremote: Counting objects:  72% (21/29)\u001b[K\rremote: Counting objects:  75% (22/29)\u001b[K\rremote: Counting objects:  79% (23/29)\u001b[K\rremote: Counting objects:  82% (24/29)\u001b[K\rremote: Counting objects:  86% (25/29)\u001b[K\rremote: Counting objects:  89% (26/29)\u001b[K\rremote: Counting objects:  93% (27/29)\u001b[K\rremote: Counting objects:  96% (28/29)\u001b[K\rremote: Counting objects: 100% (29/29)\u001b[K\rremote: Counting objects: 100% (29/29), done.\u001b[K\n",
            "remote: Compressing objects: 100% (26/26), done.\u001b[K\n",
            "remote: Total 7706 (delta 9), reused 11 (delta 3), pack-reused 7677\u001b[K\n",
            "Receiving objects: 100% (7706/7706), 8.73 MiB | 25.39 MiB/s, done.\n",
            "Resolving deltas: 100% (4675/4675), done.\n"
          ],
          "name": "stdout"
        }
      ]
    },
    {
      "cell_type": "code",
      "metadata": {
        "id": "iJRK2nhAETUn",
        "colab_type": "code",
        "outputId": "ed5641e0-c3c3-462e-9064-f41785b8cd91",
        "colab": {
          "base_uri": "https://localhost:8080/",
          "height": 136
        }
      },
      "source": [
        "!git clone https://github.com/huggingface/transformers.git"
      ],
      "execution_count": 82,
      "outputs": [
        {
          "output_type": "stream",
          "text": [
            "Cloning into 'transformers'...\n",
            "remote: Enumerating objects: 191, done.\u001b[K\n",
            "remote: Counting objects: 100% (191/191), done.\u001b[K\n",
            "remote: Compressing objects: 100% (138/138), done.\u001b[K\n",
            "remote: Total 17165 (delta 83), reused 89 (delta 43), pack-reused 16974\u001b[K\n",
            "Receiving objects: 100% (17165/17165), 10.38 MiB | 15.10 MiB/s, done.\n",
            "Resolving deltas: 100% (12726/12726), done.\n"
          ],
          "name": "stdout"
        }
      ]
    },
    {
      "cell_type": "code",
      "metadata": {
        "id": "OrZ0dn7sEU2P",
        "colab_type": "code",
        "outputId": "a7ba1e3d-54fc-4c8b-a172-6cc22e2508d1",
        "colab": {
          "base_uri": "https://localhost:8080/",
          "height": 102
        }
      },
      "source": [
        "!git clone https://github.com/soskek/bert-chainer.git"
      ],
      "execution_count": 83,
      "outputs": [
        {
          "output_type": "stream",
          "text": [
            "Cloning into 'bert-chainer'...\n",
            "remote: Enumerating objects: 1, done.\u001b[K\n",
            "remote: Counting objects: 100% (1/1)\u001b[K\rremote: Counting objects: 100% (1/1), done.\u001b[K\n",
            "Unpacking objects:   1% (1/93)   \rUnpacking objects:   2% (2/93)   \rUnpacking objects:   3% (3/93)   \rUnpacking objects:   4% (4/93)   \rUnpacking objects:   5% (5/93)   \rUnpacking objects:   6% (6/93)   \rUnpacking objects:   7% (7/93)   \rUnpacking objects:   8% (8/93)   \rUnpacking objects:   9% (9/93)   \rUnpacking objects:  10% (10/93)   \rUnpacking objects:  11% (11/93)   \rUnpacking objects:  12% (12/93)   \rUnpacking objects:  13% (13/93)   \rUnpacking objects:  15% (14/93)   \rUnpacking objects:  16% (15/93)   \rUnpacking objects:  17% (16/93)   \rUnpacking objects:  18% (17/93)   \rUnpacking objects:  19% (18/93)   \rUnpacking objects:  20% (19/93)   \rUnpacking objects:  21% (20/93)   \rUnpacking objects:  22% (21/93)   \rUnpacking objects:  23% (22/93)   \rUnpacking objects:  24% (23/93)   \rUnpacking objects:  25% (24/93)   \rUnpacking objects:  26% (25/93)   \rUnpacking objects:  27% (26/93)   \rUnpacking objects:  29% (27/93)   \rUnpacking objects:  30% (28/93)   \rUnpacking objects:  31% (29/93)   \rUnpacking objects:  32% (30/93)   \rUnpacking objects:  33% (31/93)   \rUnpacking objects:  34% (32/93)   \rUnpacking objects:  35% (33/93)   \rUnpacking objects:  36% (34/93)   \rUnpacking objects:  37% (35/93)   \rUnpacking objects:  38% (36/93)   \rUnpacking objects:  39% (37/93)   \rUnpacking objects:  40% (38/93)   \rUnpacking objects:  41% (39/93)   \rUnpacking objects:  43% (40/93)   \rUnpacking objects:  44% (41/93)   \rUnpacking objects:  45% (42/93)   \rUnpacking objects:  46% (43/93)   \rUnpacking objects:  47% (44/93)   \rUnpacking objects:  48% (45/93)   \rUnpacking objects:  49% (46/93)   \rUnpacking objects:  50% (47/93)   \rUnpacking objects:  51% (48/93)   \rUnpacking objects:  52% (49/93)   \rremote: Total 93 (delta 0), reused 0 (delta 0), pack-reused 92\u001b[K\n",
            "Unpacking objects:  53% (50/93)   \rUnpacking objects:  54% (51/93)   \rUnpacking objects:  55% (52/93)   \rUnpacking objects:  56% (53/93)   \rUnpacking objects:  58% (54/93)   \rUnpacking objects:  59% (55/93)   \rUnpacking objects:  60% (56/93)   \rUnpacking objects:  61% (57/93)   \rUnpacking objects:  62% (58/93)   \rUnpacking objects:  63% (59/93)   \rUnpacking objects:  64% (60/93)   \rUnpacking objects:  65% (61/93)   \rUnpacking objects:  66% (62/93)   \rUnpacking objects:  67% (63/93)   \rUnpacking objects:  68% (64/93)   \rUnpacking objects:  69% (65/93)   \rUnpacking objects:  70% (66/93)   \rUnpacking objects:  72% (67/93)   \rUnpacking objects:  73% (68/93)   \rUnpacking objects:  74% (69/93)   \rUnpacking objects:  75% (70/93)   \rUnpacking objects:  76% (71/93)   \rUnpacking objects:  77% (72/93)   \rUnpacking objects:  78% (73/93)   \rUnpacking objects:  79% (74/93)   \rUnpacking objects:  80% (75/93)   \rUnpacking objects:  81% (76/93)   \rUnpacking objects:  82% (77/93)   \rUnpacking objects:  83% (78/93)   \rUnpacking objects:  84% (79/93)   \rUnpacking objects:  86% (80/93)   \rUnpacking objects:  87% (81/93)   \rUnpacking objects:  88% (82/93)   \rUnpacking objects:  89% (83/93)   \rUnpacking objects:  90% (84/93)   \rUnpacking objects:  91% (85/93)   \rUnpacking objects:  92% (86/93)   \rUnpacking objects:  93% (87/93)   \rUnpacking objects:  94% (88/93)   \rUnpacking objects:  95% (89/93)   \rUnpacking objects:  96% (90/93)   \rUnpacking objects:  97% (91/93)   \rUnpacking objects:  98% (92/93)   \rUnpacking objects: 100% (93/93)   \rUnpacking objects: 100% (93/93), done.\n"
          ],
          "name": "stdout"
        }
      ]
    },
    {
      "cell_type": "code",
      "metadata": {
        "id": "J-78KIcEEj11",
        "colab_type": "code",
        "outputId": "1a507a1a-4b72-4047-8965-d5000ce3bf23",
        "colab": {
          "base_uri": "https://localhost:8080/",
          "height": 136
        }
      },
      "source": [
        "!git clone https://github.com/rajpurkar/SQuAD-explorer.git\n"
      ],
      "execution_count": 84,
      "outputs": [
        {
          "output_type": "stream",
          "text": [
            "Cloning into 'SQuAD-explorer'...\n",
            "remote: Enumerating objects: 11, done.\u001b[K\n",
            "remote: Counting objects:   9% (1/11)\u001b[K\rremote: Counting objects:  18% (2/11)\u001b[K\rremote: Counting objects:  27% (3/11)\u001b[K\rremote: Counting objects:  36% (4/11)\u001b[K\rremote: Counting objects:  45% (5/11)\u001b[K\rremote: Counting objects:  54% (6/11)\u001b[K\rremote: Counting objects:  63% (7/11)\u001b[K\rremote: Counting objects:  72% (8/11)\u001b[K\rremote: Counting objects:  81% (9/11)\u001b[K\rremote: Counting objects:  90% (10/11)\u001b[K\rremote: Counting objects: 100% (11/11)\u001b[K\rremote: Counting objects: 100% (11/11), done.\u001b[K\n",
            "remote: Compressing objects: 100% (9/9), done.\u001b[K\n",
            "remote: Total 5228 (delta 3), reused 7 (delta 2), pack-reused 5217\u001b[K\n",
            "Receiving objects: 100% (5228/5228), 50.58 MiB | 23.83 MiB/s, done.\n",
            "Resolving deltas: 100% (3426/3426), done.\n"
          ],
          "name": "stdout"
        }
      ]
    },
    {
      "cell_type": "code",
      "metadata": {
        "id": "VtDMjwZWG5Ku",
        "colab_type": "code",
        "outputId": "62e35f50-5e1b-4aa1-c3d4-0a777258d9a2",
        "colab": {
          "base_uri": "https://localhost:8080/",
          "height": 102
        }
      },
      "source": [
        "!git clone https://github.com/allenai/bi-att-flow.git"
      ],
      "execution_count": 85,
      "outputs": [
        {
          "output_type": "stream",
          "text": [
            "Cloning into 'bi-att-flow'...\n",
            "remote: Enumerating objects: 2543, done.\u001b[K\n",
            "remote: Total 2543 (delta 0), reused 0 (delta 0), pack-reused 2543\u001b[K\n",
            "Receiving objects: 100% (2543/2543), 94.92 MiB | 29.98 MiB/s, done.\n",
            "Resolving deltas: 100% (1486/1486), done.\n"
          ],
          "name": "stdout"
        }
      ]
    },
    {
      "cell_type": "code",
      "metadata": {
        "id": "0jgbRETXHDtv",
        "colab_type": "code",
        "outputId": "9b4a93f0-f1c1-41a6-b9ba-ec46dd10fcba",
        "colab": {
          "base_uri": "https://localhost:8080/",
          "height": 102
        }
      },
      "source": [
        "!git clone https://github.com/NLPLearn/QANet.git"
      ],
      "execution_count": 86,
      "outputs": [
        {
          "output_type": "stream",
          "text": [
            "Cloning into 'QANet'...\n",
            "remote: Enumerating objects: 176, done.\u001b[K\n",
            "remote: Total 176 (delta 0), reused 0 (delta 0), pack-reused 176\u001b[K\n",
            "Receiving objects: 100% (176/176), 357.63 KiB | 3.61 MiB/s, done.\n",
            "Resolving deltas: 100% (103/103), done.\n"
          ],
          "name": "stdout"
        }
      ]
    },
    {
      "cell_type": "code",
      "metadata": {
        "id": "d4HA0RlSHIhX",
        "colab_type": "code",
        "colab": {
          "base_uri": "https://localhost:8080/",
          "height": 102
        },
        "outputId": "480a9db1-1819-4bc9-f198-f192156152d9"
      },
      "source": [
        "!git clone https://github.com/hunkim/word-rnn-tensorflow.git"
      ],
      "execution_count": 87,
      "outputs": [
        {
          "output_type": "stream",
          "text": [
            "Cloning into 'word-rnn-tensorflow'...\n",
            "remote: Enumerating objects: 303, done.\u001b[K\n",
            "remote: Total 303 (delta 0), reused 0 (delta 0), pack-reused 303\u001b[K\n",
            "Receiving objects: 100% (303/303), 568.74 KiB | 5.03 MiB/s, done.\n",
            "Resolving deltas: 100% (180/180), done.\n"
          ],
          "name": "stdout"
        }
      ]
    },
    {
      "cell_type": "code",
      "metadata": {
        "id": "QzabPOP6HxVM",
        "colab_type": "code",
        "colab": {
          "base_uri": "https://localhost:8080/",
          "height": 102
        },
        "outputId": "779de385-9a36-4553-c032-9274cbbec08d"
      },
      "source": [
        "!git clone https://github.com/tensorflow/minigo.git"
      ],
      "execution_count": 88,
      "outputs": [
        {
          "output_type": "stream",
          "text": [
            "Cloning into 'minigo'...\n",
            "remote: Enumerating objects: 9765, done.\u001b[K\n",
            "remote: Total 9765 (delta 0), reused 0 (delta 0), pack-reused 9765\u001b[K\n",
            "Receiving objects: 100% (9765/9765), 8.10 MiB | 23.63 MiB/s, done.\n",
            "Resolving deltas: 100% (7258/7258), done.\n"
          ],
          "name": "stdout"
        }
      ]
    },
    {
      "cell_type": "code",
      "metadata": {
        "id": "fSAd3Slmt8Xr",
        "colab_type": "code",
        "colab": {
          "base_uri": "https://localhost:8080/",
          "height": 102
        },
        "outputId": "4830f61c-5353-40b1-dc9d-023976fc4f3d"
      },
      "source": [
        "!git clone https://github.com/cody2007/alpha_go_zero_implementation.git"
      ],
      "execution_count": 89,
      "outputs": [
        {
          "output_type": "stream",
          "text": [
            "Cloning into 'alpha_go_zero_implementation'...\n",
            "remote: Enumerating objects: 345, done.\u001b[K\n",
            "remote: Total 345 (delta 0), reused 0 (delta 0), pack-reused 345\u001b[K\n",
            "Receiving objects: 100% (345/345), 52.29 MiB | 30.74 MiB/s, done.\n",
            "Resolving deltas: 100% (220/220), done.\n"
          ],
          "name": "stdout"
        }
      ]
    },
    {
      "cell_type": "code",
      "metadata": {
        "id": "xgxThXpNuCrC",
        "colab_type": "code",
        "colab": {
          "base_uri": "https://localhost:8080/",
          "height": 136
        },
        "outputId": "56384bfc-e223-4135-ab81-aa30ddceed70"
      },
      "source": [
        "!git clone https://github.com/AppliedDataSciencePartners/DeepReinforcementLearning.git"
      ],
      "execution_count": 90,
      "outputs": [
        {
          "output_type": "stream",
          "text": [
            "Cloning into 'DeepReinforcementLearning'...\n",
            "remote: Enumerating objects: 6, done.\u001b[K\n",
            "remote: Counting objects:  16% (1/6)\u001b[K\rremote: Counting objects:  33% (2/6)\u001b[K\rremote: Counting objects:  50% (3/6)\u001b[K\rremote: Counting objects:  66% (4/6)\u001b[K\rremote: Counting objects:  83% (5/6)\u001b[K\rremote: Counting objects: 100% (6/6)\u001b[K\rremote: Counting objects: 100% (6/6), done.\u001b[K\n",
            "remote: Compressing objects: 100% (6/6), done.\u001b[K\n",
            "remote: Total 180 (delta 1), reused 0 (delta 0), pack-reused 174\u001b[K\n",
            "Receiving objects: 100% (180/180), 2.64 MiB | 14.79 MiB/s, done.\n",
            "Resolving deltas: 100% (84/84), done.\n"
          ],
          "name": "stdout"
        }
      ]
    },
    {
      "cell_type": "code",
      "metadata": {
        "id": "cRaB5TM8vPWw",
        "colab_type": "code",
        "colab": {
          "base_uri": "https://localhost:8080/",
          "height": 136
        },
        "outputId": "f1d07c1b-27e6-4c9b-f872-228e463c5386"
      },
      "source": [
        "!git clone https://github.com/leela-zero/leela-zero.git"
      ],
      "execution_count": 91,
      "outputs": [
        {
          "output_type": "stream",
          "text": [
            "Cloning into 'leela-zero'...\n",
            "remote: Enumerating objects: 8, done.\u001b[K\n",
            "remote: Counting objects: 100% (8/8), done.\u001b[K\n",
            "remote: Compressing objects: 100% (8/8), done.\u001b[K\n",
            "remote: Total 4972 (delta 1), reused 0 (delta 0), pack-reused 4964\u001b[K\n",
            "Receiving objects: 100% (4972/4972), 3.60 MiB | 16.03 MiB/s, done.\n",
            "Resolving deltas: 100% (3564/3564), done.\n"
          ],
          "name": "stdout"
        }
      ]
    },
    {
      "cell_type": "code",
      "metadata": {
        "id": "Oxx9jNzJw_bB",
        "colab_type": "code",
        "colab": {
          "base_uri": "https://localhost:8080/",
          "height": 85
        },
        "outputId": "055ddaae-4d8d-429f-ad3f-3f5a2c6b6b14"
      },
      "source": [
        "!git clone https://github.com/kayegarret/Chess-With-Odin.git"
      ],
      "execution_count": 92,
      "outputs": [
        {
          "output_type": "stream",
          "text": [
            "Cloning into 'Chess-With-Odin'...\n",
            "remote: Enumerating objects: 90, done.\u001b[K\n",
            "Unpacking objects:   1% (1/90)   \rUnpacking objects:   2% (2/90)   \rUnpacking objects:   3% (3/90)   \rUnpacking objects:   4% (4/90)   \rUnpacking objects:   5% (5/90)   \rUnpacking objects:   6% (6/90)   \rUnpacking objects:   7% (7/90)   \rUnpacking objects:   8% (8/90)   \rUnpacking objects:  10% (9/90)   \rUnpacking objects:  11% (10/90)   \rUnpacking objects:  12% (11/90)   \rUnpacking objects:  13% (12/90)   \rUnpacking objects:  14% (13/90)   \rUnpacking objects:  15% (14/90)   \rUnpacking objects:  16% (15/90)   \rUnpacking objects:  17% (16/90)   \rUnpacking objects:  18% (17/90)   \rUnpacking objects:  20% (18/90)   \rUnpacking objects:  21% (19/90)   \rUnpacking objects:  22% (20/90)   \rUnpacking objects:  23% (21/90)   \rUnpacking objects:  24% (22/90)   \rUnpacking objects:  25% (23/90)   \rUnpacking objects:  26% (24/90)   \rUnpacking objects:  27% (25/90)   \rUnpacking objects:  28% (26/90)   \rUnpacking objects:  30% (27/90)   \rUnpacking objects:  31% (28/90)   \rUnpacking objects:  32% (29/90)   \rUnpacking objects:  33% (30/90)   \rUnpacking objects:  34% (31/90)   \rUnpacking objects:  35% (32/90)   \rUnpacking objects:  36% (33/90)   \rUnpacking objects:  37% (34/90)   \rUnpacking objects:  38% (35/90)   \rUnpacking objects:  40% (36/90)   \rUnpacking objects:  41% (37/90)   \rUnpacking objects:  42% (38/90)   \rUnpacking objects:  43% (39/90)   \rUnpacking objects:  44% (40/90)   \rUnpacking objects:  45% (41/90)   \rUnpacking objects:  46% (42/90)   \rUnpacking objects:  47% (43/90)   \rUnpacking objects:  48% (44/90)   \rUnpacking objects:  50% (45/90)   \rUnpacking objects:  51% (46/90)   \rUnpacking objects:  52% (47/90)   \rUnpacking objects:  53% (48/90)   \rUnpacking objects:  54% (49/90)   \rUnpacking objects:  55% (50/90)   \rUnpacking objects:  56% (51/90)   \rUnpacking objects:  57% (52/90)   \rUnpacking objects:  58% (53/90)   \rUnpacking objects:  60% (54/90)   \rUnpacking objects:  61% (55/90)   \rUnpacking objects:  62% (56/90)   \rUnpacking objects:  63% (57/90)   \rUnpacking objects:  64% (58/90)   \rUnpacking objects:  65% (59/90)   \rUnpacking objects:  66% (60/90)   \rUnpacking objects:  67% (61/90)   \rUnpacking objects:  68% (62/90)   \rUnpacking objects:  70% (63/90)   \rUnpacking objects:  71% (64/90)   \rUnpacking objects:  72% (65/90)   \rUnpacking objects:  73% (66/90)   \rUnpacking objects:  74% (67/90)   \rremote: Total 90 (delta 0), reused 0 (delta 0), pack-reused 90\u001b[K\n",
            "Unpacking objects:  75% (68/90)   \rUnpacking objects:  76% (69/90)   \rUnpacking objects:  77% (70/90)   \rUnpacking objects:  78% (71/90)   \rUnpacking objects:  80% (72/90)   \rUnpacking objects:  81% (73/90)   \rUnpacking objects:  82% (74/90)   \rUnpacking objects:  83% (75/90)   \rUnpacking objects:  84% (76/90)   \rUnpacking objects:  85% (77/90)   \rUnpacking objects:  86% (78/90)   \rUnpacking objects:  87% (79/90)   \rUnpacking objects:  88% (80/90)   \rUnpacking objects:  90% (81/90)   \rUnpacking objects:  91% (82/90)   \rUnpacking objects:  92% (83/90)   \rUnpacking objects:  93% (84/90)   \rUnpacking objects:  94% (85/90)   \rUnpacking objects:  95% (86/90)   \rUnpacking objects:  96% (87/90)   \rUnpacking objects:  97% (88/90)   \rUnpacking objects:  98% (89/90)   \rUnpacking objects: 100% (90/90)   \rUnpacking objects: 100% (90/90), done.\n"
          ],
          "name": "stdout"
        }
      ]
    },
    {
      "cell_type": "code",
      "metadata": {
        "id": "_YAuuBVcCFrW",
        "colab_type": "code",
        "colab": {
          "base_uri": "https://localhost:8080/",
          "height": 102
        },
        "outputId": "f2cf09f5-68ef-43ad-dfd3-f0c026384cdf"
      },
      "source": [
        "!git clone https://github.com/HighCWu/keras-bert-tpu.git"
      ],
      "execution_count": 93,
      "outputs": [
        {
          "output_type": "stream",
          "text": [
            "Cloning into 'keras-bert-tpu'...\n",
            "remote: Enumerating objects: 512, done.\u001b[K\n",
            "remote: Total 512 (delta 0), reused 0 (delta 0), pack-reused 512\u001b[K\n",
            "Receiving objects: 100% (512/512), 10.76 MiB | 23.94 MiB/s, done.\n",
            "Resolving deltas: 100% (301/301), done.\n"
          ],
          "name": "stdout"
        }
      ]
    },
    {
      "cell_type": "code",
      "metadata": {
        "id": "RNF7fsQSEXCa",
        "colab_type": "code",
        "colab": {
          "base_uri": "https://localhost:8080/",
          "height": 136
        },
        "outputId": "a1f8b298-e4aa-4973-a1cc-fac46aad3fcc"
      },
      "source": [
        "!git clone https://github.com/CyberZHG/keras-bert.git"
      ],
      "execution_count": 94,
      "outputs": [
        {
          "output_type": "stream",
          "text": [
            "Cloning into 'keras-bert'...\n",
            "remote: Enumerating objects: 74, done.\u001b[K\n",
            "remote: Counting objects:   1% (1/74)\u001b[K\rremote: Counting objects:   2% (2/74)\u001b[K\rremote: Counting objects:   4% (3/74)\u001b[K\rremote: Counting objects:   5% (4/74)\u001b[K\rremote: Counting objects:   6% (5/74)\u001b[K\rremote: Counting objects:   8% (6/74)\u001b[K\rremote: Counting objects:   9% (7/74)\u001b[K\rremote: Counting objects:  10% (8/74)\u001b[K\rremote: Counting objects:  12% (9/74)\u001b[K\rremote: Counting objects:  13% (10/74)\u001b[K\rremote: Counting objects:  14% (11/74)\u001b[K\rremote: Counting objects:  16% (12/74)\u001b[K\rremote: Counting objects:  17% (13/74)\u001b[K\rremote: Counting objects:  18% (14/74)\u001b[K\rremote: Counting objects:  20% (15/74)\u001b[K\rremote: Counting objects:  21% (16/74)\u001b[K\rremote: Counting objects:  22% (17/74)\u001b[K\rremote: Counting objects:  24% (18/74)\u001b[K\rremote: Counting objects:  25% (19/74)\u001b[K\rremote: Counting objects:  27% (20/74)\u001b[K\rremote: Counting objects:  28% (21/74)\u001b[K\rremote: Counting objects:  29% (22/74)\u001b[K\rremote: Counting objects:  31% (23/74)\u001b[K\rremote: Counting objects:  32% (24/74)\u001b[K\rremote: Counting objects:  33% (25/74)\u001b[K\rremote: Counting objects:  35% (26/74)\u001b[K\rremote: Counting objects:  36% (27/74)\u001b[K\rremote: Counting objects:  37% (28/74)\u001b[K\rremote: Counting objects:  39% (29/74)\u001b[K\rremote: Counting objects:  40% (30/74)\u001b[K\rremote: Counting objects:  41% (31/74)\u001b[K\rremote: Counting objects:  43% (32/74)\u001b[K\rremote: Counting objects:  44% (33/74)\u001b[K\rremote: Counting objects:  45% (34/74)\u001b[K\rremote: Counting objects:  47% (35/74)\u001b[K\rremote: Counting objects:  48% (36/74)\u001b[K\rremote: Counting objects:  50% (37/74)\u001b[K\rremote: Counting objects:  51% (38/74)\u001b[K\rremote: Counting objects:  52% (39/74)\u001b[K\rremote: Counting objects:  54% (40/74)\u001b[K\rremote: Counting objects:  55% (41/74)\u001b[K\rremote: Counting objects:  56% (42/74)\u001b[K\rremote: Counting objects:  58% (43/74)\u001b[K\rremote: Counting objects:  59% (44/74)\u001b[K\rremote: Counting objects:  60% (45/74)\u001b[K\rremote: Counting objects:  62% (46/74)\u001b[K\rremote: Counting objects:  63% (47/74)\u001b[K\rremote: Counting objects:  64% (48/74)\u001b[K\rremote: Counting objects:  66% (49/74)\u001b[K\rremote: Counting objects:  67% (50/74)\u001b[K\rremote: Counting objects:  68% (51/74)\u001b[K\rremote: Counting objects:  70% (52/74)\u001b[K\rremote: Counting objects:  71% (53/74)\u001b[K\rremote: Counting objects:  72% (54/74)\rremote: Counting objects:  74% (55/74)\u001b[K\rremote: Counting objects:  75% (56/74)\u001b[K\rremote: Counting objects:  77% (57/74)\u001b[K\rremote: Counting objects:  78% (58/74)\u001b[K\rremote: Counting objects:  79% (59/74)\u001b[K\rremote: Counting objects:  81% (60/74)\u001b[K\rremote: Counting objects:  82% (61/74)\u001b[K\rremote: Counting objects:  83% (62/74)\u001b[K\rremote: Counting objects:  85% (63/74)\u001b[K\rremote: Counting objects:  86% (64/74)\u001b[K\rremote: Counting objects:  87% (65/74)\u001b[K\rremote: Counting objects:  89% (66/74)\u001b[K\rremote: Counting objects:  90% (67/74)\u001b[K\rremote: Counting objects:  91% (68/74)\u001b[K\rremote: Counting objects:  93% (69/74)\u001b[K\rremote: Counting objects:  94% (70/74)\u001b[K\rremote: Counting objects:  95% (71/74)\u001b[K\rremote: Counting objects:  97% (72/74)\u001b[K\rremote: Counting objects:  98% (73/74)\u001b[K\rremote: Counting objects: 100% (74/74)\u001b[K\rremote: Counting objects: 100% (74/74), done.\u001b[K\n",
            "remote: Compressing objects: 100% (53/53), done.\u001b[K\n",
            "remote: Total 1167 (delta 38), reused 46 (delta 20), pack-reused 1093\u001b[K\n",
            "Receiving objects: 100% (1167/1167), 14.12 MiB | 26.34 MiB/s, done.\n",
            "Resolving deltas: 100% (725/725), done.\n"
          ],
          "name": "stdout"
        }
      ]
    },
    {
      "cell_type": "code",
      "metadata": {
        "id": "gV9WTuwoEcWR",
        "colab_type": "code",
        "colab": {
          "base_uri": "https://localhost:8080/",
          "height": 136
        },
        "outputId": "5a208a69-bd76-4e9d-c54d-e21279007a1e"
      },
      "source": [
        "!git clone https://github.com/deepmind/trfl.git"
      ],
      "execution_count": 95,
      "outputs": [
        {
          "output_type": "stream",
          "text": [
            "Cloning into 'trfl'...\n",
            "remote: Enumerating objects: 238, done.\u001b[K\n",
            "remote: Counting objects:   0% (1/238)\u001b[K\rremote: Counting objects:   1% (3/238)\u001b[K\rremote: Counting objects:   2% (5/238)\u001b[K\rremote: Counting objects:   3% (8/238)\u001b[K\rremote: Counting objects:   4% (10/238)\u001b[K\rremote: Counting objects:   5% (12/238)\u001b[K\rremote: Counting objects:   6% (15/238)\u001b[K\rremote: Counting objects:   7% (17/238)\u001b[K\rremote: Counting objects:   8% (20/238)\u001b[K\rremote: Counting objects:   9% (22/238)\u001b[K\rremote: Counting objects:  10% (24/238)\u001b[K\rremote: Counting objects:  11% (27/238)\u001b[K\rremote: Counting objects:  12% (29/238)\u001b[K\rremote: Counting objects:  13% (31/238)\u001b[K\rremote: Counting objects:  14% (34/238)\u001b[K\rremote: Counting objects:  15% (36/238)\u001b[K\rremote: Counting objects:  16% (39/238)\u001b[K\rremote: Counting objects:  17% (41/238)\u001b[K\rremote: Counting objects:  18% (43/238)\u001b[K\rremote: Counting objects:  19% (46/238)\u001b[K\rremote: Counting objects:  20% (48/238)\u001b[K\rremote: Counting objects:  21% (50/238)\u001b[K\rremote: Counting objects:  22% (53/238)\u001b[K\rremote: Counting objects:  23% (55/238)\u001b[K\rremote: Counting objects:  24% (58/238)\u001b[K\rremote: Counting objects:  25% (60/238)\u001b[K\rremote: Counting objects:  26% (62/238)\u001b[K\rremote: Counting objects:  27% (65/238)\u001b[K\rremote: Counting objects:  28% (67/238)\u001b[K\rremote: Counting objects:  29% (70/238)\u001b[K\rremote: Counting objects:  30% (72/238)\u001b[K\rremote: Counting objects:  31% (74/238)\u001b[K\rremote: Counting objects:  32% (77/238)\u001b[K\rremote: Counting objects:  33% (79/238)\u001b[K\rremote: Counting objects:  34% (81/238)\u001b[K\rremote: Counting objects:  35% (84/238)\u001b[K\rremote: Counting objects:  36% (86/238)\u001b[K\rremote: Counting objects:  37% (89/238)\u001b[K\rremote: Counting objects:  38% (91/238)\u001b[K\rremote: Counting objects:  39% (93/238)\u001b[K\rremote: Counting objects:  40% (96/238)\u001b[K\rremote: Counting objects:  41% (98/238)\u001b[K\rremote: Counting objects:  42% (100/238)\u001b[K\rremote: Counting objects:  43% (103/238)\u001b[K\rremote: Counting objects:  44% (105/238)\u001b[K\rremote: Counting objects:  45% (108/238)\u001b[K\rremote: Counting objects:  46% (110/238)\u001b[K\rremote: Counting objects:  47% (112/238)\u001b[K\rremote: Counting objects:  48% (115/238)\u001b[K\rremote: Counting objects:  49% (117/238)\u001b[K\rremote: Counting objects:  50% (119/238)\u001b[K\rremote: Counting objects:  51% (122/238)\u001b[K\rremote: Counting objects:  52% (124/238)\u001b[K\rremote: Counting objects:  53% (127/238)\u001b[K\rremote: Counting objects:  54% (129/238)\u001b[K\rremote: Counting objects:  55% (131/238)\u001b[K\rremote: Counting objects:  56% (134/238)\u001b[K\rremote: Counting objects:  57% (136/238)\u001b[K\rremote: Counting objects:  58% (139/238)\u001b[K\rremote: Counting objects:  59% (141/238)\u001b[K\rremote: Counting objects:  60% (143/238)\u001b[K\rremote: Counting objects:  61% (146/238)\u001b[K\rremote: Counting objects:  62% (148/238)\u001b[K\rremote: Counting objects:  63% (150/238)\u001b[K\rremote: Counting objects:  64% (153/238)\u001b[K\rremote: Counting objects:  65% (155/238)\u001b[K\rremote: Counting objects:  66% (158/238)\u001b[K\rremote: Counting objects:  67% (160/238)\u001b[K\rremote: Counting objects:  68% (162/238)\u001b[K\rremote: Counting objects:  69% (165/238)\u001b[K\rremote: Counting objects:  70% (167/238)\u001b[K\rremote: Counting objects:  71% (169/238)\u001b[K\rremote: Counting objects:  72% (172/238)\u001b[K\rremote: Counting objects:  73% (174/238)\u001b[K\rremote: Counting objects:  74% (177/238)\u001b[K\rremote: Counting objects:  75% (179/238)\u001b[K\rremote: Counting objects:  76% (181/238)\u001b[K\rremote: Counting objects:  77% (184/238)\u001b[K\rremote: Counting objects:  78% (186/238)\u001b[K\rremote: Counting objects:  79% (189/238)\u001b[K\rremote: Counting objects:  80% (191/238)\u001b[K\rremote: Counting objects:  81% (193/238)\u001b[K\rremote: Counting objects:  82% (196/238)\u001b[K\rremote: Counting objects:  83% (198/238)\u001b[K\rremote: Counting objects:  84% (200/238)\u001b[K\rremote: Counting objects:  85% (203/238)\u001b[K\rremote: Counting objects:  86% (205/238)\u001b[K\rremote: Counting objects:  87% (208/238)\u001b[K\rremote: Counting objects:  88% (210/238)\u001b[K\rremote: Counting objects:  89% (212/238)\u001b[K\rremote: Counting objects:  90% (215/238)\u001b[K\rremote: Counting objects:  91% (217/238)\u001b[K\rremote: Counting objects:  92% (219/238)\u001b[K\rremote: Counting objects:  93% (222/238)\u001b[K\rremote: Counting objects:  94% (224/238)\u001b[K\rremote: Counting objects:  95% (227/238)\u001b[K\rremote: Counting objects:  96% (229/238)\u001b[K\rremote: Counting objects:  97% (231/238)\u001b[K\rremote: Counting objects:  98% (234/238)\u001b[K\rremote: Counting objects:  99% (236/238)\u001b[K\rremote: Counting objects: 100% (238/238)\u001b[K\rremote: Counting objects: 100% (238/238), done.\u001b[K\n",
            "remote: Compressing objects:   0% (1/112)\u001b[K\rremote: Compressing objects:   1% (2/112)\u001b[K\rremote: Compressing objects:   2% (3/112)\u001b[K\rremote: Compressing objects:   3% (4/112)\u001b[K\rremote: Compressing objects:   4% (5/112)\u001b[K\rremote: Compressing objects:   5% (6/112)\u001b[K\rremote: Compressing objects:   6% (7/112)\u001b[K\rremote: Compressing objects:   7% (8/112)\u001b[K\rremote: Compressing objects:   8% (9/112)\u001b[K\rremote: Compressing objects:   9% (11/112)\u001b[K\rremote: Compressing objects:  10% (12/112)\u001b[K\rremote: Compressing objects:  11% (13/112)\u001b[K\rremote: Compressing objects:  12% (14/112)\u001b[K\rremote: Compressing objects:  13% (15/112)\u001b[K\rremote: Compressing objects:  14% (16/112)\u001b[K\rremote: Compressing objects:  15% (17/112)\u001b[K\rremote: Compressing objects:  16% (18/112)\u001b[K\rremote: Compressing objects:  17% (20/112)\u001b[K\rremote: Compressing objects:  18% (21/112)\u001b[K\rremote: Compressing objects:  19% (22/112)\u001b[K\rremote: Compressing objects:  20% (23/112)\u001b[K\rremote: Compressing objects:  21% (24/112)\u001b[K\rremote: Compressing objects:  22% (25/112)\u001b[K\rremote: Compressing objects:  23% (26/112)\u001b[K\rremote: Compressing objects:  24% (27/112)\u001b[K\rremote: Compressing objects:  25% (28/112)\u001b[K\rremote: Compressing objects:  26% (30/112)\u001b[K\rremote: Compressing objects:  27% (31/112)\u001b[K\rremote: Compressing objects:  28% (32/112)\u001b[K\rremote: Compressing objects:  29% (33/112)\u001b[K\rremote: Compressing objects:  30% (34/112)\u001b[K\rremote: Compressing objects:  31% (35/112)\u001b[K\rremote: Compressing objects:  32% (36/112)\u001b[K\rremote: Compressing objects:  33% (37/112)\u001b[K\rremote: Compressing objects:  34% (39/112)\u001b[K\rremote: Compressing objects:  35% (40/112)\u001b[K\rremote: Compressing objects:  36% (41/112)\u001b[K\rremote: Compressing objects:  37% (42/112)\u001b[K\rremote: Compressing objects:  38% (43/112)\u001b[K\rremote: Compressing objects:  39% (44/112)\u001b[K\rremote: Compressing objects:  40% (45/112)\u001b[K\rremote: Compressing objects:  41% (46/112)\u001b[K\rremote: Compressing objects:  42% (48/112)\u001b[K\rremote: Compressing objects:  43% (49/112)\u001b[K\rremote: Compressing objects:  44% (50/112)\u001b[K\rremote: Compressing objects:  45% (51/112)\u001b[K\rremote: Compressing objects:  46% (52/112)\u001b[K\rremote: Compressing objects:  47% (53/112)\u001b[K\rremote: Compressing objects:  48% (54/112)\u001b[K\rremote: Compressing objects:  49% (55/112)\u001b[K\rremote: Compressing objects:  50% (56/112)\u001b[K\rremote: Compressing objects:  51% (58/112)\u001b[K\rremote: Compressing objects:  52% (59/112)\u001b[K\rremote: Compressing objects:  53% (60/112)\u001b[K\rremote: Compressing objects:  54% (61/112)\u001b[K\rremote: Compressing objects:  55% (62/112)\u001b[K\rremote: Compressing objects:  56% (63/112)\u001b[K\rremote: Compressing objects:  57% (64/112)\u001b[K\rremote: Compressing objects:  58% (65/112)\u001b[K\rremote: Compressing objects:  59% (67/112)\u001b[K\rremote: Compressing objects:  60% (68/112)\u001b[K\rremote: Compressing objects:  61% (69/112)\u001b[K\rremote: Compressing objects:  62% (70/112)\u001b[K\rremote: Compressing objects:  63% (71/112)\u001b[K\rremote: Compressing objects:  64% (72/112)\u001b[K\rremote: Compressing objects:  65% (73/112)\u001b[K\rremote: Compressing objects:  66% (74/112)\u001b[K\rremote: Compressing objects:  67% (76/112)\u001b[K\rremote: Compressing objects:  68% (77/112)\u001b[K\rremote: Compressing objects:  69% (78/112)\rremote: Compressing objects:  70% (79/112)\u001b[K\rremote: Compressing objects:  71% (80/112)\u001b[K\rremote: Compressing objects:  72% (81/112)\u001b[K\rremote: Compressing objects:  73% (82/112)\u001b[K\rremote: Compressing objects:  74% (83/112)\u001b[K\rremote: Compressing objects:  75% (84/112)\u001b[K\rremote: Compressing objects:  76% (86/112)\u001b[K\rremote: Compressing objects:  77% (87/112)\u001b[K\rremote: Compressing objects:  78% (88/112)\u001b[K\rremote: Compressing objects:  79% (89/112)\u001b[K\rremote: Compressing objects:  80% (90/112)\u001b[K\rremote: Compressing objects:  81% (91/112)\u001b[K\rremote: Compressing objects:  82% (92/112)\u001b[K\rremote: Compressing objects:  83% (93/112)\u001b[K\rremote: Compressing objects:  84% (95/112)\u001b[K\rremote: Compressing objects:  85% (96/112)\u001b[K\rremote: Compressing objects:  86% (97/112)\u001b[K\rremote: Compressing objects:  87% (98/112)\u001b[K\rremote: Compressing objects:  88% (99/112)\u001b[K\rremote: Compressing objects:  89% (100/112)\u001b[K\rremote: Compressing objects:  90% (101/112)\u001b[K\rremote: Compressing objects:  91% (102/112)\u001b[K\rremote: Compressing objects:  92% (104/112)\u001b[K\rremote: Compressing objects:  93% (105/112)\u001b[K\rremote: Compressing objects:  94% (106/112)\u001b[K\rremote: Compressing objects:  95% (107/112)\u001b[K\rremote: Compressing objects:  96% (108/112)\u001b[K\rremote: Compressing objects:  97% (109/112)\u001b[K\rremote: Compressing objects:  98% (110/112)\u001b[K\rremote: Compressing objects:  99% (111/112)\u001b[K\rremote: Compressing objects: 100% (112/112)\u001b[K\rremote: Compressing objects: 100% (112/112), done.\u001b[K\n",
            "Receiving objects:   0% (1/593)   \rReceiving objects:   1% (6/593)   \rReceiving objects:   2% (12/593)   \rReceiving objects:   3% (18/593)   \rReceiving objects:   4% (24/593)   \rReceiving objects:   5% (30/593)   \rReceiving objects:   6% (36/593)   \rReceiving objects:   7% (42/593)   \rReceiving objects:   8% (48/593)   \rReceiving objects:   9% (54/593)   \rReceiving objects:  10% (60/593)   \rReceiving objects:  11% (66/593)   \rReceiving objects:  12% (72/593)   \rReceiving objects:  13% (78/593)   \rReceiving objects:  14% (84/593)   \rReceiving objects:  15% (89/593)   \rReceiving objects:  16% (95/593)   \rReceiving objects:  17% (101/593)   \rReceiving objects:  18% (107/593)   \rReceiving objects:  19% (113/593)   \rReceiving objects:  20% (119/593)   \rReceiving objects:  21% (125/593)   \rReceiving objects:  22% (131/593)   \rReceiving objects:  23% (137/593)   \rReceiving objects:  24% (143/593)   \rReceiving objects:  25% (149/593)   \rReceiving objects:  26% (155/593)   \rReceiving objects:  27% (161/593)   \rReceiving objects:  28% (167/593)   \rReceiving objects:  29% (172/593)   \rReceiving objects:  30% (178/593)   \rReceiving objects:  31% (184/593)   \rReceiving objects:  32% (190/593)   \rReceiving objects:  33% (196/593)   \rReceiving objects:  34% (202/593)   \rReceiving objects:  35% (208/593)   \rReceiving objects:  36% (214/593)   \rReceiving objects:  37% (220/593)   \rReceiving objects:  38% (226/593)   \rReceiving objects:  39% (232/593)   \rReceiving objects:  40% (238/593)   \rReceiving objects:  41% (244/593)   \rReceiving objects:  42% (250/593)   \rReceiving objects:  43% (255/593)   \rReceiving objects:  44% (261/593)   \rReceiving objects:  45% (267/593)   \rReceiving objects:  46% (273/593)   \rReceiving objects:  47% (279/593)   \rReceiving objects:  48% (285/593)   \rReceiving objects:  49% (291/593)   \rReceiving objects:  50% (297/593)   \rReceiving objects:  51% (303/593)   \rReceiving objects:  52% (309/593)   \rReceiving objects:  53% (315/593)   \rReceiving objects:  54% (321/593)   \rReceiving objects:  55% (327/593)   \rReceiving objects:  56% (333/593)   \rReceiving objects:  57% (339/593)   \rReceiving objects:  58% (344/593)   \rReceiving objects:  59% (350/593)   \rReceiving objects:  60% (356/593)   \rReceiving objects:  61% (362/593)   \rReceiving objects:  62% (368/593)   \rReceiving objects:  63% (374/593)   \rReceiving objects:  64% (380/593)   \rReceiving objects:  65% (386/593)   \rReceiving objects:  66% (392/593)   \rReceiving objects:  67% (398/593)   \rReceiving objects:  68% (404/593)   \rReceiving objects:  69% (410/593)   \rReceiving objects:  70% (416/593)   \rReceiving objects:  71% (422/593)   \rReceiving objects:  72% (427/593)   \rReceiving objects:  73% (433/593)   \rReceiving objects:  74% (439/593)   \rReceiving objects:  75% (445/593)   \rReceiving objects:  76% (451/593)   \rremote: Total 593 (delta 145), reused 195 (delta 126), pack-reused 355\u001b[K\n",
            "Receiving objects:  77% (457/593)   \rReceiving objects:  78% (463/593)   \rReceiving objects:  79% (469/593)   \rReceiving objects:  80% (475/593)   \rReceiving objects:  81% (481/593)   \rReceiving objects:  82% (487/593)   \rReceiving objects:  83% (493/593)   \rReceiving objects:  84% (499/593)   \rReceiving objects:  85% (505/593)   \rReceiving objects:  86% (510/593)   \rReceiving objects:  87% (516/593)   \rReceiving objects:  88% (522/593)   \rReceiving objects:  89% (528/593)   \rReceiving objects:  90% (534/593)   \rReceiving objects:  91% (540/593)   \rReceiving objects:  92% (546/593)   \rReceiving objects:  93% (552/593)   \rReceiving objects:  94% (558/593)   \rReceiving objects:  95% (564/593)   \rReceiving objects:  96% (570/593)   \rReceiving objects:  97% (576/593)   \rReceiving objects:  98% (582/593)   \rReceiving objects:  99% (588/593)   \rReceiving objects: 100% (593/593)   \rReceiving objects: 100% (593/593), 340.40 KiB | 4.15 MiB/s, done.\n",
            "Resolving deltas:   0% (0/358)   \rResolving deltas:   1% (5/358)   \rResolving deltas:   2% (9/358)   \rResolving deltas:   7% (27/358)   \rResolving deltas:   8% (29/358)   \rResolving deltas:  12% (43/358)   \rResolving deltas:  13% (49/358)   \rResolving deltas:  15% (56/358)   \rResolving deltas:  17% (62/358)   \rResolving deltas:  20% (74/358)   \rResolving deltas:  21% (77/358)   \rResolving deltas:  22% (80/358)   \rResolving deltas:  23% (83/358)   \rResolving deltas:  24% (88/358)   \rResolving deltas:  25% (91/358)   \rResolving deltas:  26% (94/358)   \rResolving deltas:  28% (103/358)   \rResolving deltas:  29% (107/358)   \rResolving deltas:  30% (108/358)   \rResolving deltas:  31% (111/358)   \rResolving deltas:  35% (127/358)   \rResolving deltas:  36% (130/358)   \rResolving deltas:  43% (157/358)   \rResolving deltas:  46% (166/358)   \rResolving deltas:  47% (169/358)   \rResolving deltas:  48% (172/358)   \rResolving deltas:  52% (188/358)   \rResolving deltas:  53% (190/358)   \rResolving deltas:  54% (195/358)   \rResolving deltas:  56% (203/358)   \rResolving deltas:  57% (207/358)   \rResolving deltas:  58% (208/358)   \rResolving deltas:  59% (212/358)   \rResolving deltas:  63% (226/358)   \rResolving deltas:  69% (248/358)   \rResolving deltas:  77% (276/358)   \rResolving deltas:  82% (297/358)   \rResolving deltas:  83% (298/358)   \rResolving deltas:  84% (303/358)   \rResolving deltas:  85% (306/358)   \rResolving deltas:  86% (309/358)   \rResolving deltas:  87% (312/358)   \rResolving deltas:  88% (316/358)   \rResolving deltas:  89% (320/358)   \rResolving deltas:  91% (327/358)   \rResolving deltas:  92% (331/358)   \rResolving deltas:  93% (335/358)   \rResolving deltas:  94% (340/358)   \rResolving deltas:  96% (347/358)   \rResolving deltas: 100% (358/358)   \rResolving deltas: 100% (358/358), done.\n"
          ],
          "name": "stdout"
        }
      ]
    },
    {
      "cell_type": "code",
      "metadata": {
        "id": "9rT4xg1J785P",
        "colab_type": "code",
        "colab": {}
      },
      "source": [
        ""
      ],
      "execution_count": 0,
      "outputs": []
    }
  ]
}