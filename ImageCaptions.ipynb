{
  "nbformat": 4,
  "nbformat_minor": 0,
  "metadata": {
    "colab": {
      "name": "ImageCaptions.ipynb",
      "provenance": [],
      "collapsed_sections": [],
      "include_colab_link": true
    },
    "kernelspec": {
      "name": "python3",
      "display_name": "Python 3"
    },
    "accelerator": "TPU"
  },
  "cells": [
    {
      "cell_type": "markdown",
      "metadata": {
        "id": "view-in-github",
        "colab_type": "text"
      },
      "source": [
        "<a href=\"https://colab.research.google.com/github/wlin988/Colab/blob/master/ImageCaptions.ipynb\" target=\"_parent\"><img src=\"https://colab.research.google.com/assets/colab-badge.svg\" alt=\"Open In Colab\"/></a>"
      ]
    },
    {
      "cell_type": "code",
      "metadata": {
        "id": "A3B1starRY2g",
        "colab_type": "code",
        "outputId": "ff5f45ee-4a09-42ed-e1c3-2d3a2b0db270",
        "colab": {
          "base_uri": "https://localhost:8080/",
          "height": 122
        }
      },
      "source": [
        "from google.colab import drive\n",
        "drive.mount('/content/drive')"
      ],
      "execution_count": 1,
      "outputs": [
        {
          "output_type": "stream",
          "text": [
            "Go to this URL in a browser: https://accounts.google.com/o/oauth2/auth?client_id=947318989803-6bn6qk8qdgf4n4g3pfee6491hc0brc4i.apps.googleusercontent.com&redirect_uri=urn%3aietf%3awg%3aoauth%3a2.0%3aoob&response_type=code&scope=email%20https%3a%2f%2fwww.googleapis.com%2fauth%2fdocs.test%20https%3a%2f%2fwww.googleapis.com%2fauth%2fdrive%20https%3a%2f%2fwww.googleapis.com%2fauth%2fdrive.photos.readonly%20https%3a%2f%2fwww.googleapis.com%2fauth%2fpeopleapi.readonly\n",
            "\n",
            "Enter your authorization code:\n",
            "··········\n",
            "Mounted at /content/drive\n"
          ],
          "name": "stdout"
        }
      ]
    },
    {
      "cell_type": "code",
      "metadata": {
        "id": "9B4V8jC0j5pq",
        "colab_type": "code",
        "outputId": "cd269ac6-11ae-43ce-9d89-3de724d1f634",
        "colab": {
          "base_uri": "https://localhost:8080/",
          "height": 102
        }
      },
      "source": [
        "!git clone https://github.com/DeepRNN/image_captioning.git\n"
      ],
      "execution_count": 2,
      "outputs": [
        {
          "output_type": "stream",
          "text": [
            "Cloning into 'image_captioning'...\n",
            "remote: Enumerating objects: 343, done.\u001b[K\n",
            "remote: Total 343 (delta 0), reused 0 (delta 0), pack-reused 343\u001b[K\n",
            "Receiving objects: 100% (343/343), 75.43 MiB | 51.73 MiB/s, done.\n",
            "Resolving deltas: 100% (150/150), done.\n"
          ],
          "name": "stdout"
        }
      ]
    },
    {
      "cell_type": "code",
      "metadata": {
        "id": "AYDeI3g3j71U",
        "colab_type": "code",
        "outputId": "e4f283a0-2961-4df1-c70e-ddd85ca0471c",
        "colab": {
          "base_uri": "https://localhost:8080/",
          "height": 102
        }
      },
      "source": [
        "!git clone https://github.com/Div99/Image-Captioning.git"
      ],
      "execution_count": 3,
      "outputs": [
        {
          "output_type": "stream",
          "text": [
            "Cloning into 'Image-Captioning'...\n",
            "remote: Enumerating objects: 464, done.\u001b[K\n",
            "Receiving objects:   0% (1/464)   \rReceiving objects:   1% (5/464)   \rReceiving objects:   2% (10/464)   \rReceiving objects:   3% (14/464)   \rReceiving objects:   4% (19/464)   \rReceiving objects:   5% (24/464)   \rReceiving objects:   6% (28/464)   \rReceiving objects:   7% (33/464)   \rReceiving objects:   8% (38/464)   \rReceiving objects:   9% (42/464)   \rReceiving objects:  10% (47/464)   \rReceiving objects:  11% (52/464)   \rReceiving objects:  12% (56/464)   \rReceiving objects:  13% (61/464)   \rReceiving objects:  14% (65/464)   \rReceiving objects:  15% (70/464)   \rReceiving objects:  16% (75/464)   \rReceiving objects:  17% (79/464)   \rReceiving objects:  18% (84/464)   \rReceiving objects:  19% (89/464)   \rReceiving objects:  20% (93/464)   \rReceiving objects:  21% (98/464)   \rReceiving objects:  22% (103/464)   \rReceiving objects:  23% (107/464)   \rReceiving objects:  24% (112/464)   \rReceiving objects:  25% (116/464)   \rReceiving objects:  26% (121/464)   \rReceiving objects:  27% (126/464)   \rReceiving objects:  28% (130/464)   \rReceiving objects:  29% (135/464)   \rReceiving objects:  30% (140/464)   \rReceiving objects:  31% (144/464)   \rReceiving objects:  32% (149/464)   \rReceiving objects:  33% (154/464)   \rReceiving objects:  34% (158/464)   \rReceiving objects:  35% (163/464)   \rReceiving objects:  36% (168/464)   \rReceiving objects:  37% (172/464)   \rReceiving objects:  38% (177/464)   \rReceiving objects:  39% (181/464)   \rReceiving objects:  40% (186/464)   \rReceiving objects:  41% (191/464)   \rReceiving objects:  42% (195/464)   \rReceiving objects:  43% (200/464)   \rReceiving objects:  44% (205/464)   \rReceiving objects:  45% (209/464)   \rReceiving objects:  46% (214/464)   \rReceiving objects:  47% (219/464)   \rReceiving objects:  48% (223/464)   \rReceiving objects:  49% (228/464)   \rReceiving objects:  50% (232/464)   \rReceiving objects:  51% (237/464)   \rReceiving objects:  52% (242/464)   \rReceiving objects:  53% (246/464)   \rReceiving objects:  54% (251/464)   \rReceiving objects:  55% (256/464)   \rReceiving objects:  56% (260/464)   \rReceiving objects:  57% (265/464)   \rReceiving objects:  58% (270/464)   \rReceiving objects:  59% (274/464)   \rReceiving objects:  60% (279/464)   \rReceiving objects:  61% (284/464)   \rReceiving objects:  62% (288/464)   \rReceiving objects:  63% (293/464)   \rReceiving objects:  64% (297/464)   \rReceiving objects:  65% (302/464)   \rReceiving objects:  66% (307/464)   \rReceiving objects:  67% (311/464)   \rReceiving objects:  68% (316/464)   \rReceiving objects:  69% (321/464)   \rReceiving objects:  70% (325/464)   \rReceiving objects:  71% (330/464)   \rReceiving objects:  72% (335/464)   \rReceiving objects:  73% (339/464)   \rReceiving objects:  74% (344/464)   \rReceiving objects:  75% (348/464)   \rReceiving objects:  76% (353/464)   \rReceiving objects:  77% (358/464)   \rReceiving objects:  78% (362/464)   \rReceiving objects:  79% (367/464)   \rReceiving objects:  80% (372/464)   \rReceiving objects:  81% (376/464)   \rReceiving objects:  82% (381/464)   \rReceiving objects:  83% (386/464)   \rReceiving objects:  84% (390/464)   \rReceiving objects:  85% (395/464)   \rReceiving objects:  86% (400/464)   \rReceiving objects:  87% (404/464)   \rReceiving objects:  88% (409/464)   \rReceiving objects:  89% (413/464)   \rReceiving objects:  90% (418/464)   \rReceiving objects:  91% (423/464)   \rReceiving objects:  92% (427/464)   \rremote: Total 464 (delta 0), reused 0 (delta 0), pack-reused 464\u001b[K\n",
            "Receiving objects:  93% (432/464)   \rReceiving objects:  94% (437/464)   \rReceiving objects:  95% (441/464)   \rReceiving objects:  96% (446/464)   \rReceiving objects:  97% (451/464)   \rReceiving objects:  98% (455/464)   \rReceiving objects:  99% (460/464)   \rReceiving objects: 100% (464/464)   \rReceiving objects: 100% (464/464), 1.21 MiB | 8.08 MiB/s, done.\n",
            "Resolving deltas:   0% (0/309)   \rResolving deltas:   1% (4/309)   \rResolving deltas:   2% (7/309)   \rResolving deltas:   3% (10/309)   \rResolving deltas:   4% (13/309)   \rResolving deltas:   5% (16/309)   \rResolving deltas:   6% (19/309)   \rResolving deltas:   7% (22/309)   \rResolving deltas:   8% (25/309)   \rResolving deltas:   9% (28/309)   \rResolving deltas:  10% (31/309)   \rResolving deltas:  11% (34/309)   \rResolving deltas:  12% (38/309)   \rResolving deltas:  13% (41/309)   \rResolving deltas:  18% (56/309)   \rResolving deltas:  20% (62/309)   \rResolving deltas:  22% (71/309)   \rResolving deltas:  23% (74/309)   \rResolving deltas:  25% (80/309)   \rResolving deltas:  30% (94/309)   \rResolving deltas:  33% (102/309)   \rResolving deltas:  46% (145/309)   \rResolving deltas:  47% (148/309)   \rResolving deltas:  73% (226/309)   \rResolving deltas:  75% (234/309)   \rResolving deltas:  76% (237/309)   \rResolving deltas:  78% (244/309)   \rResolving deltas:  79% (246/309)   \rResolving deltas:  80% (249/309)   \rResolving deltas:  81% (251/309)   \rResolving deltas:  82% (255/309)   \rResolving deltas:  84% (260/309)   \rResolving deltas:  91% (284/309)   \rResolving deltas:  93% (290/309)   \rResolving deltas:  94% (291/309)   \rResolving deltas:  97% (302/309)   \rResolving deltas:  98% (305/309)   \rResolving deltas:  99% (307/309)   \rResolving deltas: 100% (309/309)   \rResolving deltas: 100% (309/309), done.\n"
          ],
          "name": "stdout"
        }
      ]
    },
    {
      "cell_type": "code",
      "metadata": {
        "id": "DphTGYwumbdl",
        "colab_type": "code",
        "outputId": "b1c43977-612c-4900-fa74-d64034c2f70a",
        "colab": {
          "base_uri": "https://localhost:8080/",
          "height": 136
        }
      },
      "source": [
        "!git clone https://github.com/tensorflow/tensor2tensor.git\n"
      ],
      "execution_count": 4,
      "outputs": [
        {
          "output_type": "stream",
          "text": [
            "Cloning into 'tensor2tensor'...\n",
            "remote: Enumerating objects: 38, done.\u001b[K\n",
            "remote: Counting objects:   2% (1/38)\u001b[K\rremote: Counting objects:   5% (2/38)\u001b[K\rremote: Counting objects:   7% (3/38)\u001b[K\rremote: Counting objects:  10% (4/38)\u001b[K\rremote: Counting objects:  13% (5/38)\u001b[K\rremote: Counting objects:  15% (6/38)\u001b[K\rremote: Counting objects:  18% (7/38)\u001b[K\rremote: Counting objects:  21% (8/38)\u001b[K\rremote: Counting objects:  23% (9/38)\u001b[K\rremote: Counting objects:  26% (10/38)\u001b[K\rremote: Counting objects:  28% (11/38)\u001b[K\rremote: Counting objects:  31% (12/38)\u001b[K\rremote: Counting objects:  34% (13/38)\u001b[K\rremote: Counting objects:  36% (14/38)\u001b[K\rremote: Counting objects:  39% (15/38)\u001b[K\rremote: Counting objects:  42% (16/38)\u001b[K\rremote: Counting objects:  44% (17/38)\u001b[K\rremote: Counting objects:  47% (18/38)\u001b[K\rremote: Counting objects:  50% (19/38)\u001b[K\rremote: Counting objects:  52% (20/38)\u001b[K\rremote: Counting objects:  55% (21/38)\u001b[K\rremote: Counting objects:  57% (22/38)\u001b[K\rremote: Counting objects:  60% (23/38)\u001b[K\rremote: Counting objects:  63% (24/38)\u001b[K\rremote: Counting objects:  65% (25/38)\u001b[K\rremote: Counting objects:  68% (26/38)\u001b[K\rremote: Counting objects:  71% (27/38)\u001b[K\rremote: Counting objects:  73% (28/38)\u001b[K\rremote: Counting objects:  76% (29/38)\u001b[K\rremote: Counting objects:  78% (30/38)\u001b[K\rremote: Counting objects:  81% (31/38)\u001b[K\rremote: Counting objects:  84% (32/38)\u001b[K\rremote: Counting objects:  86% (33/38)\u001b[K\rremote: Counting objects:  89% (34/38)\u001b[K\rremote: Counting objects:  92% (35/38)\u001b[K\rremote: Counting objects:  94% (36/38)\u001b[K\rremote: Counting objects:  97% (37/38)\u001b[K\rremote: Counting objects: 100% (38/38)\u001b[K\rremote: Counting objects: 100% (38/38), done.\u001b[K\n",
            "remote: Compressing objects: 100% (32/32), done.\u001b[K\n",
            "remote: Total 30952 (delta 9), reused 17 (delta 6), pack-reused 30914\u001b[K\n",
            "Receiving objects: 100% (30952/30952), 14.49 MiB | 24.90 MiB/s, done.\n",
            "Resolving deltas: 100% (24994/24994), done.\n"
          ],
          "name": "stdout"
        }
      ]
    },
    {
      "cell_type": "code",
      "metadata": {
        "id": "RKpVqhl98dgE",
        "colab_type": "code",
        "outputId": "05187d75-9559-4d72-d5c8-7f5f9a30c57e",
        "colab": {
          "base_uri": "https://localhost:8080/",
          "height": 102
        }
      },
      "source": [
        "!git clone https://github.com/awslabs/sockeye.git"
      ],
      "execution_count": 5,
      "outputs": [
        {
          "output_type": "stream",
          "text": [
            "Cloning into 'sockeye'...\n",
            "remote: Enumerating objects: 6705, done.\u001b[K\n",
            "remote: Total 6705 (delta 0), reused 0 (delta 0), pack-reused 6705\u001b[K\n",
            "Receiving objects: 100% (6705/6705), 7.93 MiB | 21.94 MiB/s, done.\n",
            "Resolving deltas: 100% (5108/5108), done.\n"
          ],
          "name": "stdout"
        }
      ]
    },
    {
      "cell_type": "code",
      "metadata": {
        "id": "UDUQSnhimdKG",
        "colab_type": "code",
        "colab": {}
      },
      "source": [
        "%load https://colab.sandbox.google.com/github/tensorflow/tensor2tensor/blob/master/tensor2tensor/notebooks/hello_t2t.ipynb\n"
      ],
      "execution_count": 0,
      "outputs": []
    },
    {
      "cell_type": "code",
      "metadata": {
        "id": "gBy5b7xfm7qg",
        "colab_type": "code",
        "colab": {}
      },
      "source": [
        "#%run https://colab.sandbox.google.com/github/tensorflow/tensor2tensor/blob/master/tensor2tensor/notebooks/hello_t2t.ipynb"
      ],
      "execution_count": 0,
      "outputs": []
    },
    {
      "cell_type": "code",
      "metadata": {
        "id": "2VKNk8HynIMa",
        "colab_type": "code",
        "outputId": "4a8dca06-2a73-4698-a0c5-67aa6757a034",
        "colab": {
          "base_uri": "https://localhost:8080/",
          "height": 102
        }
      },
      "source": [
        "!git clone https://github.com/ArunMichaelDsouza/tensorflow-image-detection.git"
      ],
      "execution_count": 8,
      "outputs": [
        {
          "output_type": "stream",
          "text": [
            "Cloning into 'tensorflow-image-detection'...\n",
            "remote: Enumerating objects: 121, done.\u001b[K\n",
            "remote: Total 121 (delta 0), reused 0 (delta 0), pack-reused 121\u001b[K\n",
            "Receiving objects: 100% (121/121), 1.15 MiB | 8.41 MiB/s, done.\n",
            "Resolving deltas: 100% (62/62), done.\n"
          ],
          "name": "stdout"
        }
      ]
    },
    {
      "cell_type": "code",
      "metadata": {
        "id": "--tlwOrYo2hZ",
        "colab_type": "code",
        "outputId": "81aa4725-2543-4f4a-fa79-347743742407",
        "colab": {
          "base_uri": "https://localhost:8080/",
          "height": 102
        }
      },
      "source": [
        "!git clone https://github.com/ageitgey/face_recognition.git\n"
      ],
      "execution_count": 9,
      "outputs": [
        {
          "output_type": "stream",
          "text": [
            "Cloning into 'face_recognition'...\n",
            "remote: Enumerating objects: 800, done.\u001b[K\n",
            "remote: Total 800 (delta 0), reused 0 (delta 0), pack-reused 800\u001b[K\n",
            "Receiving objects: 100% (800/800), 101.42 MiB | 34.16 MiB/s, done.\n",
            "Resolving deltas: 100% (460/460), done.\n"
          ],
          "name": "stdout"
        }
      ]
    },
    {
      "cell_type": "code",
      "metadata": {
        "id": "ITZhk3X1pEvS",
        "colab_type": "code",
        "outputId": "883aadf2-b2e7-4a8a-9881-ac15fc7ba1db",
        "colab": {
          "base_uri": "https://localhost:8080/",
          "height": 153
        }
      },
      "source": [
        "!git clone https://github.com/tensorflow/models.git"
      ],
      "execution_count": 10,
      "outputs": [
        {
          "output_type": "stream",
          "text": [
            "Cloning into 'models'...\n",
            "remote: Enumerating objects: 775, done.\u001b[K\n",
            "remote: Counting objects: 100% (775/775), done.\u001b[K\n",
            "remote: Compressing objects: 100% (449/449), done.\u001b[K\n",
            "remote: Total 32832 (delta 399), reused 530 (delta 325), pack-reused 32057\u001b[K\n",
            "Receiving objects: 100% (32832/32832), 512.20 MiB | 37.80 MiB/s, done.\n",
            "Resolving deltas: 100% (20708/20708), done.\n",
            "Checking out files: 100% (3183/3183), done.\n"
          ],
          "name": "stdout"
        }
      ]
    },
    {
      "cell_type": "code",
      "metadata": {
        "id": "NoowmTepph6C",
        "colab_type": "code",
        "outputId": "ab24fd01-8841-49b0-ad68-d6a119e41929",
        "colab": {
          "base_uri": "https://localhost:8080/",
          "height": 136
        }
      },
      "source": [
        "!git clone https://github.com/cedrickchee/awesome-bert-nlp.git"
      ],
      "execution_count": 11,
      "outputs": [
        {
          "output_type": "stream",
          "text": [
            "Cloning into 'awesome-bert-nlp'...\n",
            "remote: Enumerating objects: 76, done.\u001b[K\n",
            "remote: Counting objects:   1% (1/76)\u001b[K\rremote: Counting objects:   2% (2/76)\u001b[K\rremote: Counting objects:   3% (3/76)\u001b[K\rremote: Counting objects:   5% (4/76)\u001b[K\rremote: Counting objects:   6% (5/76)\u001b[K\rremote: Counting objects:   7% (6/76)\u001b[K\rremote: Counting objects:   9% (7/76)\u001b[K\rremote: Counting objects:  10% (8/76)\u001b[K\rremote: Counting objects:  11% (9/76)\u001b[K\rremote: Counting objects:  13% (10/76)\u001b[K\rremote: Counting objects:  14% (11/76)\u001b[K\rremote: Counting objects:  15% (12/76)\u001b[K\rremote: Counting objects:  17% (13/76)\u001b[K\rremote: Counting objects:  18% (14/76)\u001b[K\rremote: Counting objects:  19% (15/76)\u001b[K\rremote: Counting objects:  21% (16/76)\u001b[K\rremote: Counting objects:  22% (17/76)\u001b[K\rremote: Counting objects:  23% (18/76)\u001b[K\rremote: Counting objects:  25% (19/76)\u001b[K\rremote: Counting objects:  26% (20/76)\u001b[K\rremote: Counting objects:  27% (21/76)\u001b[K\rremote: Counting objects:  28% (22/76)\u001b[K\rremote: Counting objects:  30% (23/76)\u001b[K\rremote: Counting objects:  31% (24/76)\u001b[K\rremote: Counting objects:  32% (25/76)\u001b[K\rremote: Counting objects:  34% (26/76)\u001b[K\rremote: Counting objects:  35% (27/76)\u001b[K\rremote: Counting objects:  36% (28/76)\u001b[K\rremote: Counting objects:  38% (29/76)\u001b[K\rremote: Counting objects:  39% (30/76)\u001b[K\rremote: Counting objects:  40% (31/76)\u001b[K\rremote: Counting objects:  42% (32/76)\u001b[K\rremote: Counting objects:  43% (33/76)\u001b[K\rremote: Counting objects:  44% (34/76)\u001b[K\rremote: Counting objects:  46% (35/76)\u001b[K\rremote: Counting objects:  47% (36/76)\u001b[K\rremote: Counting objects:  48% (37/76)\u001b[K\rremote: Counting objects:  50% (38/76)\u001b[K\rremote: Counting objects:  51% (39/76)\u001b[K\rremote: Counting objects:  52% (40/76)\u001b[K\rremote: Counting objects:  53% (41/76)\u001b[K\rremote: Counting objects:  55% (42/76)\u001b[K\rremote: Counting objects:  56% (43/76)\u001b[K\rremote: Counting objects:  57% (44/76)\u001b[K\rremote: Counting objects:  59% (45/76)\u001b[K\rremote: Counting objects:  60% (46/76)\u001b[K\rremote: Counting objects:  61% (47/76)\u001b[K\rremote: Counting objects:  63% (48/76)\u001b[K\rremote: Counting objects:  64% (49/76)\u001b[K\rremote: Counting objects:  65% (50/76)\u001b[K\rremote: Counting objects:  67% (51/76)\u001b[K\rremote: Counting objects:  68% (52/76)\u001b[K\rremote: Counting objects:  69% (53/76)\u001b[K\rremote: Counting objects:  71% (54/76)\u001b[K\rremote: Counting objects:  72% (55/76)\u001b[K\rremote: Counting objects:  73% (56/76)\u001b[K\rremote: Counting objects:  75% (57/76)\u001b[K\rremote: Counting objects:  76% (58/76)\u001b[K\rremote: Counting objects:  77% (59/76)\u001b[K\rremote: Counting objects:  78% (60/76)\u001b[K\rremote: Counting objects:  80% (61/76)\u001b[K\rremote: Counting objects:  81% (62/76)\u001b[K\rremote: Counting objects:  82% (63/76)\u001b[K\rremote: Counting objects:  84% (64/76)\u001b[K\rremote: Counting objects:  85% (65/76)\u001b[K\rremote: Counting objects:  86% (66/76)\u001b[K\rremote: Counting objects:  88% (67/76)\u001b[K\rremote: Counting objects:  89% (68/76)\u001b[K\rremote: Counting objects:  90% (69/76)\u001b[K\rremote: Counting objects:  92% (70/76)\u001b[K\rremote: Counting objects:  93% (71/76)\u001b[K\rremote: Counting objects:  94% (72/76)\u001b[K\rremote: Counting objects:  96% (73/76)\u001b[K\rremote: Counting objects:  97% (74/76)\u001b[K\rremote: Counting objects:  98% (75/76)\u001b[K\rremote: Counting objects: 100% (76/76)\u001b[K\rremote: Counting objects: 100% (76/76), done.\u001b[K\n",
            "remote: Compressing objects:   1% (1/76)\u001b[K\rremote: Compressing objects:   2% (2/76)\u001b[K\rremote: Compressing objects:   3% (3/76)\u001b[K\rremote: Compressing objects:   5% (4/76)\u001b[K\rremote: Compressing objects:   6% (5/76)\u001b[K\rremote: Compressing objects:   7% (6/76)\u001b[K\rremote: Compressing objects:   9% (7/76)\u001b[K\rremote: Compressing objects:  10% (8/76)\u001b[K\rremote: Compressing objects:  11% (9/76)\u001b[K\rremote: Compressing objects:  13% (10/76)\u001b[K\rremote: Compressing objects:  14% (11/76)\u001b[K\rremote: Compressing objects:  15% (12/76)\u001b[K\rremote: Compressing objects:  17% (13/76)\u001b[K\rremote: Compressing objects:  18% (14/76)\u001b[K\rremote: Compressing objects:  19% (15/76)\u001b[K\rremote: Compressing objects:  21% (16/76)\u001b[K\rremote: Compressing objects:  22% (17/76)\u001b[K\rremote: Compressing objects:  23% (18/76)\u001b[K\rremote: Compressing objects:  25% (19/76)\u001b[K\rremote: Compressing objects:  26% (20/76)\u001b[K\rremote: Compressing objects:  27% (21/76)\u001b[K\rremote: Compressing objects:  28% (22/76)\u001b[K\rremote: Compressing objects:  30% (23/76)\u001b[K\rremote: Compressing objects:  31% (24/76)\u001b[K\rremote: Compressing objects:  32% (25/76)\u001b[K\rremote: Compressing objects:  34% (26/76)\u001b[K\rremote: Compressing objects:  35% (27/76)\u001b[K\rremote: Compressing objects:  36% (28/76)\u001b[K\rremote: Compressing objects:  38% (29/76)\u001b[K\rremote: Compressing objects:  39% (30/76)\u001b[K\rremote: Compressing objects:  40% (31/76)\u001b[K\rremote: Compressing objects:  42% (32/76)\u001b[K\rremote: Compressing objects:  43% (33/76)\u001b[K\rremote: Compressing objects:  44% (34/76)\u001b[K\rremote: Compressing objects:  46% (35/76)\u001b[K\rremote: Compressing objects:  47% (36/76)\u001b[K\rremote: Compressing objects:  48% (37/76)\u001b[K\rremote: Compressing objects:  50% (38/76)\u001b[K\rremote: Compressing objects:  51% (39/76)\u001b[K\rremote: Compressing objects:  52% (40/76)\u001b[K\rremote: Compressing objects:  53% (41/76)\u001b[K\rremote: Compressing objects:  55% (42/76)\u001b[K\rremote: Compressing objects:  56% (43/76)\u001b[K\rremote: Compressing objects:  57% (44/76)\u001b[K\rremote: Compressing objects:  59% (45/76)\u001b[K\rremote: Compressing objects:  60% (46/76)\u001b[K\rremote: Compressing objects:  61% (47/76)\u001b[K\rremote: Compressing objects:  63% (48/76)\u001b[K\rremote: Compressing objects:  64% (49/76)\u001b[K\rremote: Compressing objects:  65% (50/76)\u001b[K\rremote: Compressing objects:  67% (51/76)\u001b[K\rremote: Compressing objects:  68% (52/76)\u001b[K\rremote: Compressing objects:  69% (53/76)\u001b[K\rremote: Compressing objects:  71% (54/76)\u001b[K\rremote: Compressing objects:  72% (55/76)\u001b[K\rremote: Compressing objects:  73% (56/76)\u001b[K\rremote: Compressing objects:  75% (57/76)\u001b[K\rremote: Compressing objects:  76% (58/76)\u001b[K\rremote: Compressing objects:  77% (59/76)\u001b[K\rremote: Compressing objects:  78% (60/76)\u001b[K\rremote: Compressing objects:  80% (61/76)\u001b[K\rremote: Compressing objects:  81% (62/76)\u001b[K\rremote: Compressing objects:  82% (63/76)\u001b[K\rremote: Compressing objects:  84% (64/76)\u001b[K\rremote: Compressing objects:  85% (65/76)\u001b[K\rremote: Compressing objects:  86% (66/76)\u001b[K\rremote: Compressing objects:  88% (67/76)\u001b[K\rremote: Compressing objects:  89% (68/76)\u001b[K\rremote: Compressing objects:  90% (69/76)\u001b[K\rremote: Compressing objects:  92% (70/76)\u001b[K\rremote: Compressing objects:  93% (71/76)\u001b[K\rremote: Compressing objects:  94% (72/76)\u001b[K\rremote: Compressing objects:  96% (73/76)\u001b[K\rremote: Compressing objects:  97% (74/76)\u001b[K\rremote: Compressing objects:  98% (75/76)\u001b[K\rremote: Compressing objects: 100% (76/76)\u001b[K\rremote: Compressing objects: 100% (76/76), done.\u001b[K\n",
            "Receiving objects:   0% (1/141)   \rReceiving objects:   1% (2/141)   \rReceiving objects:   2% (3/141)   \rReceiving objects:   3% (5/141)   \rReceiving objects:   4% (6/141)   \rReceiving objects:   5% (8/141)   \rReceiving objects:   6% (9/141)   \rReceiving objects:   7% (10/141)   \rReceiving objects:   8% (12/141)   \rReceiving objects:   9% (13/141)   \rReceiving objects:  10% (15/141)   \rReceiving objects:  11% (16/141)   \rReceiving objects:  12% (17/141)   \rReceiving objects:  13% (19/141)   \rReceiving objects:  14% (20/141)   \rReceiving objects:  15% (22/141)   \rReceiving objects:  16% (23/141)   \rReceiving objects:  17% (24/141)   \rReceiving objects:  18% (26/141)   \rReceiving objects:  19% (27/141)   \rReceiving objects:  20% (29/141)   \rReceiving objects:  21% (30/141)   \rReceiving objects:  22% (32/141)   \rReceiving objects:  23% (33/141)   \rReceiving objects:  24% (34/141)   \rReceiving objects:  25% (36/141)   \rReceiving objects:  26% (37/141)   \rReceiving objects:  27% (39/141)   \rReceiving objects:  28% (40/141)   \rReceiving objects:  29% (41/141)   \rReceiving objects:  30% (43/141)   \rReceiving objects:  31% (44/141)   \rReceiving objects:  32% (46/141)   \rReceiving objects:  33% (47/141)   \rReceiving objects:  34% (48/141)   \rReceiving objects:  35% (50/141)   \rReceiving objects:  36% (51/141)   \rReceiving objects:  37% (53/141)   \rReceiving objects:  38% (54/141)   \rReceiving objects:  39% (55/141)   \rReceiving objects:  40% (57/141)   \rReceiving objects:  41% (58/141)   \rReceiving objects:  42% (60/141)   \rReceiving objects:  43% (61/141)   \rReceiving objects:  44% (63/141)   \rReceiving objects:  45% (64/141)   \rReceiving objects:  46% (65/141)   \rReceiving objects:  47% (67/141)   \rReceiving objects:  48% (68/141)   \rReceiving objects:  49% (70/141)   \rReceiving objects:  50% (71/141)   \rReceiving objects:  51% (72/141)   \rReceiving objects:  52% (74/141)   \rReceiving objects:  53% (75/141)   \rReceiving objects:  54% (77/141)   \rReceiving objects:  55% (78/141)   \rReceiving objects:  56% (79/141)   \rReceiving objects:  57% (81/141)   \rReceiving objects:  58% (82/141)   \rReceiving objects:  59% (84/141)   \rReceiving objects:  60% (85/141)   \rReceiving objects:  61% (87/141)   \rReceiving objects:  62% (88/141)   \rReceiving objects:  63% (89/141)   \rReceiving objects:  64% (91/141)   \rReceiving objects:  65% (92/141)   \rremote: Total 141 (delta 24), reused 0 (delta 0), pack-reused 65\u001b[K\n",
            "Receiving objects:  66% (94/141)   \rReceiving objects:  67% (95/141)   \rReceiving objects:  68% (96/141)   \rReceiving objects:  69% (98/141)   \rReceiving objects:  70% (99/141)   \rReceiving objects:  71% (101/141)   \rReceiving objects:  72% (102/141)   \rReceiving objects:  73% (103/141)   \rReceiving objects:  74% (105/141)   \rReceiving objects:  75% (106/141)   \rReceiving objects:  76% (108/141)   \rReceiving objects:  77% (109/141)   \rReceiving objects:  78% (110/141)   \rReceiving objects:  79% (112/141)   \rReceiving objects:  80% (113/141)   \rReceiving objects:  81% (115/141)   \rReceiving objects:  82% (116/141)   \rReceiving objects:  83% (118/141)   \rReceiving objects:  84% (119/141)   \rReceiving objects:  85% (120/141)   \rReceiving objects:  86% (122/141)   \rReceiving objects:  87% (123/141)   \rReceiving objects:  88% (125/141)   \rReceiving objects:  89% (126/141)   \rReceiving objects:  90% (127/141)   \rReceiving objects:  91% (129/141)   \rReceiving objects:  92% (130/141)   \rReceiving objects:  93% (132/141)   \rReceiving objects:  94% (133/141)   \rReceiving objects:  95% (134/141)   \rReceiving objects:  96% (136/141)   \rReceiving objects:  97% (137/141)   \rReceiving objects:  98% (139/141)   \rReceiving objects:  99% (140/141)   \rReceiving objects: 100% (141/141)   \rReceiving objects: 100% (141/141), 53.03 KiB | 2.95 MiB/s, done.\n",
            "Resolving deltas:   0% (0/43)   \rResolving deltas:  76% (33/43)   \rResolving deltas: 100% (43/43)   \rResolving deltas: 100% (43/43), done.\n"
          ],
          "name": "stdout"
        }
      ]
    },
    {
      "cell_type": "code",
      "metadata": {
        "id": "jyAxvEgjpqYa",
        "colab_type": "code",
        "outputId": "4e7c4bc7-dc3c-4c73-bf88-2cb033027fc6",
        "colab": {
          "base_uri": "https://localhost:8080/",
          "height": 136
        }
      },
      "source": [
        "!git clone https://github.com/dennybritz/reinforcement-learning.git"
      ],
      "execution_count": 12,
      "outputs": [
        {
          "output_type": "stream",
          "text": [
            "Cloning into 'reinforcement-learning'...\n",
            "remote: Enumerating objects: 4, done.\u001b[K\n",
            "remote: Counting objects:  25% (1/4)\u001b[K\rremote: Counting objects:  50% (2/4)\u001b[K\rremote: Counting objects:  75% (3/4)\u001b[K\rremote: Counting objects: 100% (4/4)\u001b[K\rremote: Counting objects: 100% (4/4), done.\u001b[K\n",
            "remote: Compressing objects: 100% (4/4), done.\u001b[K\n",
            "remote: Total 1274 (delta 0), reused 1 (delta 0), pack-reused 1270\u001b[K\n",
            "Receiving objects: 100% (1274/1274), 5.25 MiB | 20.83 MiB/s, done.\n",
            "Resolving deltas: 100% (819/819), done.\n"
          ],
          "name": "stdout"
        }
      ]
    },
    {
      "cell_type": "code",
      "metadata": {
        "id": "8aPN2i7SIDAK",
        "colab_type": "code",
        "outputId": "5fcd20c0-debc-4569-cca9-8d9c6e12e335",
        "colab": {
          "base_uri": "https://localhost:8080/",
          "height": 102
        }
      },
      "source": [
        "!git clone https://github.com/MorvanZhou/Reinforcement-learning-with-tensorflow.git"
      ],
      "execution_count": 13,
      "outputs": [
        {
          "output_type": "stream",
          "text": [
            "Cloning into 'Reinforcement-learning-with-tensorflow'...\n",
            "remote: Enumerating objects: 669, done.\u001b[K\n",
            "remote: Total 669 (delta 0), reused 0 (delta 0), pack-reused 669\u001b[K\n",
            "Receiving objects: 100% (669/669), 421.45 KiB | 4.13 MiB/s, done.\n",
            "Resolving deltas: 100% (384/384), done.\n"
          ],
          "name": "stdout"
        }
      ]
    },
    {
      "cell_type": "code",
      "metadata": {
        "id": "jtwPnQIpIWYN",
        "colab_type": "code",
        "outputId": "8183b873-93dd-4481-86e1-36692228cf5e",
        "colab": {
          "base_uri": "https://localhost:8080/",
          "height": 102
        }
      },
      "source": [
        "!git clone https://github.com/udacity/deep-reinforcement-learning.git"
      ],
      "execution_count": 14,
      "outputs": [
        {
          "output_type": "stream",
          "text": [
            "Cloning into 'deep-reinforcement-learning'...\n",
            "remote: Enumerating objects: 223, done.\u001b[K\n",
            "Receiving objects:   0% (1/223)   \rReceiving objects:   1% (3/223)   \rReceiving objects:   2% (5/223)   \rReceiving objects:   3% (7/223)   \rReceiving objects:   4% (9/223)   \rReceiving objects:   5% (12/223)   \rReceiving objects:   6% (14/223)   \rReceiving objects:   7% (16/223)   \rReceiving objects:   8% (18/223)   \rReceiving objects:   9% (21/223)   \rReceiving objects:  10% (23/223)   \rReceiving objects:  11% (25/223)   \rReceiving objects:  12% (27/223)   \rReceiving objects:  13% (29/223)   \rReceiving objects:  14% (32/223)   \rReceiving objects:  15% (34/223)   \rReceiving objects:  16% (36/223)   \rReceiving objects:  17% (38/223)   \rReceiving objects:  18% (41/223)   \rReceiving objects:  19% (43/223)   \rReceiving objects:  20% (45/223)   \rReceiving objects:  21% (47/223)   \rReceiving objects:  22% (50/223)   \rReceiving objects:  23% (52/223)   \rReceiving objects:  24% (54/223)   \rReceiving objects:  25% (56/223)   \rReceiving objects:  26% (58/223)   \rReceiving objects:  27% (61/223)   \rReceiving objects:  28% (63/223)   \rReceiving objects:  29% (65/223)   \rReceiving objects:  30% (67/223)   \rReceiving objects:  31% (70/223)   \rReceiving objects:  32% (72/223)   \rReceiving objects:  33% (74/223)   \rReceiving objects:  34% (76/223)   \rReceiving objects:  35% (79/223)   \rReceiving objects:  36% (81/223)   \rReceiving objects:  37% (83/223)   \rReceiving objects:  38% (85/223)   \rReceiving objects:  39% (87/223)   \rReceiving objects:  40% (90/223)   \rReceiving objects:  41% (92/223)   \rReceiving objects:  42% (94/223)   \rReceiving objects:  43% (96/223)   \rReceiving objects:  44% (99/223)   \rReceiving objects:  45% (101/223)   \rReceiving objects:  46% (103/223)   \rReceiving objects:  47% (105/223)   \rReceiving objects:  48% (108/223)   \rReceiving objects:  49% (110/223)   \rReceiving objects:  50% (112/223)   \rReceiving objects:  51% (114/223)   \rReceiving objects:  52% (116/223)   \rReceiving objects:  53% (119/223)   \rReceiving objects:  54% (121/223)   \rReceiving objects:  55% (123/223)   \rReceiving objects:  56% (125/223)   \rReceiving objects:  57% (128/223)   \rReceiving objects:  58% (130/223)   \rReceiving objects:  59% (132/223)   \rReceiving objects:  60% (134/223)   \rReceiving objects:  61% (137/223)   \rReceiving objects:  62% (139/223)   \rReceiving objects:  63% (141/223)   \rReceiving objects:  64% (143/223)   \rReceiving objects:  65% (145/223)   \rReceiving objects:  66% (148/223)   \rReceiving objects:  67% (150/223)   \rReceiving objects:  68% (152/223)   \rReceiving objects:  69% (154/223)   \rReceiving objects:  70% (157/223)   \rReceiving objects:  71% (159/223)   \rReceiving objects:  72% (161/223)   \rReceiving objects:  73% (163/223)   \rReceiving objects:  74% (166/223)   \rReceiving objects:  75% (168/223)   \rReceiving objects:  76% (170/223)   \rReceiving objects:  77% (172/223)   \rReceiving objects:  78% (174/223)   \rReceiving objects:  79% (177/223)   \rReceiving objects:  80% (179/223)   \rReceiving objects:  81% (181/223)   \rReceiving objects:  82% (183/223)   \rReceiving objects:  83% (186/223)   \rReceiving objects:  84% (188/223)   \rReceiving objects:  85% (190/223)   \rremote: Total 223 (delta 0), reused 0 (delta 0), pack-reused 223\u001b[K\n",
            "Receiving objects: 100% (223/223), 3.45 MiB | 16.35 MiB/s, done.\n",
            "Resolving deltas: 100% (51/51), done.\n"
          ],
          "name": "stdout"
        }
      ]
    },
    {
      "cell_type": "code",
      "metadata": {
        "id": "4z6AL2XzIqpk",
        "colab_type": "code",
        "outputId": "614e4b3e-9fce-43ca-ab96-6509275055b3",
        "colab": {
          "base_uri": "https://localhost:8080/",
          "height": 102
        }
      },
      "source": [
        "!git clone https://github.com/Zeta36/chess-alpha-zero.git"
      ],
      "execution_count": 15,
      "outputs": [
        {
          "output_type": "stream",
          "text": [
            "Cloning into 'chess-alpha-zero'...\n",
            "remote: Enumerating objects: 478, done.\u001b[K\n",
            "remote: Total 478 (delta 0), reused 0 (delta 0), pack-reused 478\u001b[K\n",
            "Receiving objects: 100% (478/478), 122.38 MiB | 39.67 MiB/s, done.\n",
            "Resolving deltas: 100% (250/250), done.\n"
          ],
          "name": "stdout"
        }
      ]
    },
    {
      "cell_type": "code",
      "metadata": {
        "id": "pewKcEYII7ad",
        "colab_type": "code",
        "outputId": "0b8bb8e8-874a-479b-9b28-fce65f0e1cce",
        "colab": {
          "base_uri": "https://localhost:8080/",
          "height": 153
        }
      },
      "source": [
        "!git clone https://github.com/suragnair/alpha-zero-general.git"
      ],
      "execution_count": 16,
      "outputs": [
        {
          "output_type": "stream",
          "text": [
            "Cloning into 'alpha-zero-general'...\n",
            "remote: Enumerating objects: 4, done.\u001b[K\n",
            "remote: Counting objects:  25% (1/4)\u001b[K\rremote: Counting objects:  50% (2/4)\u001b[K\rremote: Counting objects:  75% (3/4)\u001b[K\rremote: Counting objects: 100% (4/4)\u001b[K\rremote: Counting objects: 100% (4/4), done.\u001b[K\n",
            "remote: Compressing objects: 100% (4/4), done.\u001b[K\n",
            "remote: Total 945 (delta 0), reused 1 (delta 0), pack-reused 941\u001b[K\n",
            "Receiving objects: 100% (945/945), 230.16 MiB | 38.92 MiB/s, done.\n",
            "Resolving deltas: 100% (520/520), done.\n",
            "Checking out files: 100% (134/134), done.\n"
          ],
          "name": "stdout"
        }
      ]
    },
    {
      "cell_type": "code",
      "metadata": {
        "id": "xxNq7FWkJqL7",
        "colab_type": "code",
        "outputId": "2611dbe1-cc75-40ac-beba-f9747ff91f7d",
        "colab": {
          "base_uri": "https://localhost:8080/",
          "height": 136
        }
      },
      "source": [
        "!git clone https://github.com/glinscott/leela-chess.git"
      ],
      "execution_count": 17,
      "outputs": [
        {
          "output_type": "stream",
          "text": [
            "Cloning into 'leela-chess'...\n",
            "remote: Enumerating objects: 5, done.\u001b[K\n",
            "remote: Counting objects:  20% (1/5)\u001b[K\rremote: Counting objects:  40% (2/5)\u001b[K\rremote: Counting objects:  60% (3/5)\u001b[K\rremote: Counting objects:  80% (4/5)\u001b[K\rremote: Counting objects: 100% (5/5)\u001b[K\rremote: Counting objects: 100% (5/5), done.\u001b[K\n",
            "remote: Compressing objects: 100% (4/4), done.\u001b[K\n",
            "remote: Total 6791 (delta 0), reused 0 (delta 0), pack-reused 6786\u001b[K\n",
            "Receiving objects: 100% (6791/6791), 34.98 MiB | 21.77 MiB/s, done.\n",
            "Resolving deltas: 100% (4304/4304), done.\n"
          ],
          "name": "stdout"
        }
      ]
    },
    {
      "cell_type": "code",
      "metadata": {
        "id": "m_srHOUII-37",
        "colab_type": "code",
        "outputId": "09376046-9b32-4e50-a715-4193f798fbb8",
        "colab": {
          "base_uri": "https://localhost:8080/",
          "height": 136
        }
      },
      "source": [
        "!git clone https://github.com/XanaduAI/pennylane.git"
      ],
      "execution_count": 18,
      "outputs": [
        {
          "output_type": "stream",
          "text": [
            "Cloning into 'pennylane'...\n",
            "remote: Enumerating objects: 29, done.\u001b[K\n",
            "remote: Counting objects:   3% (1/29)\u001b[K\rremote: Counting objects:   6% (2/29)\u001b[K\rremote: Counting objects:  10% (3/29)\u001b[K\rremote: Counting objects:  13% (4/29)\u001b[K\rremote: Counting objects:  17% (5/29)\u001b[K\rremote: Counting objects:  20% (6/29)\u001b[K\rremote: Counting objects:  24% (7/29)\u001b[K\rremote: Counting objects:  27% (8/29)\u001b[K\rremote: Counting objects:  31% (9/29)\u001b[K\rremote: Counting objects:  34% (10/29)\u001b[K\rremote: Counting objects:  37% (11/29)\u001b[K\rremote: Counting objects:  41% (12/29)\u001b[K\rremote: Counting objects:  44% (13/29)\u001b[K\rremote: Counting objects:  48% (14/29)\u001b[K\rremote: Counting objects:  51% (15/29)\u001b[K\rremote: Counting objects:  55% (16/29)\u001b[K\rremote: Counting objects:  58% (17/29)\u001b[K\rremote: Counting objects:  62% (18/29)\u001b[K\rremote: Counting objects:  65% (19/29)\u001b[K\rremote: Counting objects:  68% (20/29)\u001b[K\rremote: Counting objects:  72% (21/29)\u001b[K\rremote: Counting objects:  75% (22/29)\u001b[K\rremote: Counting objects:  79% (23/29)\u001b[K\rremote: Counting objects:  82% (24/29)\u001b[K\rremote: Counting objects:  86% (25/29)\u001b[K\rremote: Counting objects:  89% (26/29)\u001b[K\rremote: Counting objects:  93% (27/29)\u001b[K\rremote: Counting objects:  96% (28/29)\u001b[K\rremote: Counting objects: 100% (29/29)\u001b[K\rremote: Counting objects: 100% (29/29), done.\u001b[K\n",
            "remote: Compressing objects: 100% (13/13), done.\u001b[K\n",
            "remote: Total 10544 (delta 18), reused 24 (delta 16), pack-reused 10515\u001b[K\n",
            "Receiving objects: 100% (10544/10544), 22.84 MiB | 29.72 MiB/s, done.\n",
            "Resolving deltas: 100% (7466/7466), done.\n"
          ],
          "name": "stdout"
        }
      ]
    },
    {
      "cell_type": "code",
      "metadata": {
        "id": "TbsOg4sKSo8G",
        "colab_type": "code",
        "outputId": "12ad572b-b958-4653-ce69-7bab51635bbc",
        "colab": {
          "base_uri": "https://localhost:8080/",
          "height": 102
        }
      },
      "source": [
        "!git clone https://github.com/google/dopamine.git"
      ],
      "execution_count": 19,
      "outputs": [
        {
          "output_type": "stream",
          "text": [
            "Cloning into 'dopamine'...\n",
            "remote: Enumerating objects: 1485, done.\u001b[K\n",
            "remote: Total 1485 (delta 0), reused 0 (delta 0), pack-reused 1485\u001b[K\n",
            "Receiving objects: 100% (1485/1485), 7.35 MiB | 23.16 MiB/s, done.\n",
            "Resolving deltas: 100% (963/963), done.\n"
          ],
          "name": "stdout"
        }
      ]
    },
    {
      "cell_type": "code",
      "metadata": {
        "id": "v12ktEQoJBQm",
        "colab_type": "code",
        "outputId": "25447b22-cfa5-43e3-d3a3-abe7a6d0e10b",
        "colab": {
          "base_uri": "https://localhost:8080/",
          "height": 136
        }
      },
      "source": [
        "!git clone https://github.com/mukeshmithrakumar/scientific.git"
      ],
      "execution_count": 20,
      "outputs": [
        {
          "output_type": "stream",
          "text": [
            "Cloning into 'scientific'...\n",
            "remote: Enumerating objects: 100, done.\u001b[K\n",
            "remote: Counting objects:   1% (1/100)\u001b[K\rremote: Counting objects:   2% (2/100)\u001b[K\rremote: Counting objects:   3% (3/100)\u001b[K\rremote: Counting objects:   4% (4/100)\u001b[K\rremote: Counting objects:   5% (5/100)\u001b[K\rremote: Counting objects:   6% (6/100)\u001b[K\rremote: Counting objects:   7% (7/100)\u001b[K\rremote: Counting objects:   8% (8/100)\u001b[K\rremote: Counting objects:   9% (9/100)\u001b[K\rremote: Counting objects:  10% (10/100)\u001b[K\rremote: Counting objects:  11% (11/100)\u001b[K\rremote: Counting objects:  12% (12/100)\u001b[K\rremote: Counting objects:  13% (13/100)\u001b[K\rremote: Counting objects:  14% (14/100)\u001b[K\rremote: Counting objects:  15% (15/100)\u001b[K\rremote: Counting objects:  16% (16/100)\u001b[K\rremote: Counting objects:  17% (17/100)\u001b[K\rremote: Counting objects:  18% (18/100)\u001b[K\rremote: Counting objects:  19% (19/100)\u001b[K\rremote: Counting objects:  20% (20/100)\u001b[K\rremote: Counting objects:  21% (21/100)\u001b[K\rremote: Counting objects:  22% (22/100)\u001b[K\rremote: Counting objects:  23% (23/100)\u001b[K\rremote: Counting objects:  24% (24/100)\u001b[K\rremote: Counting objects:  25% (25/100)\u001b[K\rremote: Counting objects:  26% (26/100)\u001b[K\rremote: Counting objects:  27% (27/100)\u001b[K\rremote: Counting objects:  28% (28/100)\u001b[K\rremote: Counting objects:  29% (29/100)\u001b[K\rremote: Counting objects:  30% (30/100)\u001b[K\rremote: Counting objects:  31% (31/100)\u001b[K\rremote: Counting objects:  32% (32/100)\u001b[K\rremote: Counting objects:  33% (33/100)\u001b[K\rremote: Counting objects:  34% (34/100)\u001b[K\rremote: Counting objects:  35% (35/100)\u001b[K\rremote: Counting objects:  36% (36/100)\u001b[K\rremote: Counting objects:  37% (37/100)\u001b[K\rremote: Counting objects:  38% (38/100)\u001b[K\rremote: Counting objects:  39% (39/100)\u001b[K\rremote: Counting objects:  40% (40/100)\u001b[K\rremote: Counting objects:  41% (41/100)\u001b[K\rremote: Counting objects:  42% (42/100)\u001b[K\rremote: Counting objects:  43% (43/100)\u001b[K\rremote: Counting objects:  44% (44/100)\u001b[K\rremote: Counting objects:  45% (45/100)\u001b[K\rremote: Counting objects:  46% (46/100)\u001b[K\rremote: Counting objects:  47% (47/100)\u001b[K\rremote: Counting objects:  48% (48/100)\u001b[K\rremote: Counting objects:  49% (49/100)\u001b[K\rremote: Counting objects:  50% (50/100)\u001b[K\rremote: Counting objects:  51% (51/100)\u001b[K\rremote: Counting objects:  52% (52/100)\u001b[K\rremote: Counting objects:  53% (53/100)\u001b[K\rremote: Counting objects:  54% (54/100)\u001b[K\rremote: Counting objects:  55% (55/100)\u001b[K\rremote: Counting objects:  56% (56/100)\u001b[K\rremote: Counting objects:  57% (57/100)\u001b[K\rremote: Counting objects:  58% (58/100)\u001b[K\rremote: Counting objects:  59% (59/100)\u001b[K\rremote: Counting objects:  60% (60/100)\u001b[K\rremote: Counting objects:  61% (61/100)\u001b[K\rremote: Counting objects:  62% (62/100)\u001b[K\rremote: Counting objects:  63% (63/100)\u001b[K\rremote: Counting objects:  64% (64/100)\u001b[K\rremote: Counting objects:  65% (65/100)\u001b[K\rremote: Counting objects:  66% (66/100)\u001b[K\rremote: Counting objects:  67% (67/100)\u001b[K\rremote: Counting objects:  68% (68/100)\u001b[K\rremote: Counting objects:  69% (69/100)\u001b[K\rremote: Counting objects:  70% (70/100)\u001b[K\rremote: Counting objects:  71% (71/100)\u001b[K\rremote: Counting objects:  72% (72/100)\u001b[K\rremote: Counting objects:  73% (73/100)\u001b[K\rremote: Counting objects:  74% (74/100)\u001b[K\rremote: Counting objects:  75% (75/100)\u001b[K\rremote: Counting objects:  76% (76/100)\u001b[K\rremote: Counting objects:  77% (77/100)\u001b[K\rremote: Counting objects:  78% (78/100)\u001b[K\rremote: Counting objects:  79% (79/100)\u001b[K\rremote: Counting objects:  80% (80/100)\u001b[K\rremote: Counting objects:  81% (81/100)\u001b[K\rremote: Counting objects:  82% (82/100)\u001b[K\rremote: Counting objects:  83% (83/100)\u001b[K\rremote: Counting objects:  84% (84/100)\u001b[K\rremote: Counting objects:  85% (85/100)\u001b[K\rremote: Counting objects:  86% (86/100)\u001b[K\rremote: Counting objects:  87% (87/100)\u001b[K\rremote: Counting objects:  88% (88/100)\u001b[K\rremote: Counting objects:  89% (89/100)\u001b[K\rremote: Counting objects:  90% (90/100)\u001b[K\rremote: Counting objects:  91% (91/100)\u001b[K\rremote: Counting objects:  92% (92/100)\u001b[K\rremote: Counting objects:  93% (93/100)\u001b[K\rremote: Counting objects:  94% (94/100)\u001b[K\rremote: Counting objects:  95% (95/100)\u001b[K\rremote: Counting objects:  96% (96/100)\u001b[K\rremote: Counting objects:  97% (97/100)\u001b[K\rremote: Counting objects:  98% (98/100)\u001b[K\rremote: Counting objects:  99% (99/100)\u001b[K\rremote: Counting objects: 100% (100/100)\u001b[K\rremote: Counting objects: 100% (100/100), done.\u001b[K\n",
            "remote: Compressing objects:   1% (1/70)\u001b[K\rremote: Compressing objects:   2% (2/70)\u001b[K\rremote: Compressing objects:   4% (3/70)\u001b[K\rremote: Compressing objects:   5% (4/70)\u001b[K\rremote: Compressing objects:   7% (5/70)\u001b[K\rremote: Compressing objects:   8% (6/70)\u001b[K\rremote: Compressing objects:  10% (7/70)\u001b[K\rremote: Compressing objects:  11% (8/70)\u001b[K\rremote: Compressing objects:  12% (9/70)\u001b[K\rremote: Compressing objects:  14% (10/70)\u001b[K\rremote: Compressing objects:  15% (11/70)\u001b[K\rremote: Compressing objects:  17% (12/70)\u001b[K\rremote: Compressing objects:  18% (13/70)\u001b[K\rremote: Compressing objects:  20% (14/70)\u001b[K\rremote: Compressing objects:  21% (15/70)\u001b[K\rremote: Compressing objects:  22% (16/70)\u001b[K\rremote: Compressing objects:  24% (17/70)\u001b[K\rremote: Compressing objects:  25% (18/70)\u001b[K\rremote: Compressing objects:  27% (19/70)\u001b[K\rremote: Compressing objects:  28% (20/70)\u001b[K\rremote: Compressing objects:  30% (21/70)\u001b[K\rremote: Compressing objects:  31% (22/70)\u001b[K\rremote: Compressing objects:  32% (23/70)\u001b[K\rremote: Compressing objects:  34% (24/70)\u001b[K\rremote: Compressing objects:  35% (25/70)\u001b[K\rremote: Compressing objects:  37% (26/70)\u001b[K\rremote: Compressing objects:  38% (27/70)\u001b[K\rremote: Compressing objects:  40% (28/70)\u001b[K\rremote: Compressing objects:  41% (29/70)\u001b[K\rremote: Compressing objects:  42% (30/70)\u001b[K\rremote: Compressing objects:  44% (31/70)\u001b[K\rremote: Compressing objects:  45% (32/70)\u001b[K\rremote: Compressing objects:  47% (33/70)\u001b[K\rremote: Compressing objects:  48% (34/70)\u001b[K\rremote: Compressing objects:  50% (35/70)\u001b[K\rremote: Compressing objects:  51% (36/70)\u001b[K\rremote: Compressing objects:  52% (37/70)\u001b[K\rremote: Compressing objects:  54% (38/70)\u001b[K\rremote: Compressing objects:  55% (39/70)\u001b[K\rremote: Compressing objects:  57% (40/70)\u001b[K\rremote: Compressing objects:  58% (41/70)\u001b[K\rremote: Compressing objects:  60% (42/70)\u001b[K\rremote: Compressing objects:  61% (43/70)\u001b[K\rremote: Compressing objects:  62% (44/70)\u001b[K\rremote: Compressing objects:  64% (45/70)\u001b[K\rremote: Compressing objects:  65% (46/70)\u001b[K\rremote: Compressing objects:  67% (47/70)\u001b[K\rremote: Compressing objects:  68% (48/70)\u001b[K\rremote: Compressing objects:  70% (49/70)\u001b[K\rremote: Compressing objects:  71% (50/70)\u001b[K\rremote: Compressing objects:  72% (51/70)\u001b[K\rremote: Compressing objects:  74% (52/70)\u001b[K\rremote: Compressing objects:  75% (53/70)\u001b[K\rremote: Compressing objects:  77% (54/70)\u001b[K\rremote: Compressing objects:  78% (55/70)\u001b[K\rremote: Compressing objects:  80% (56/70)\u001b[K\rremote: Compressing objects:  81% (57/70)\u001b[K\rremote: Compressing objects:  82% (58/70)\u001b[K\rremote: Compressing objects:  84% (59/70)\u001b[K\rremote: Compressing objects:  85% (60/70)\u001b[K\rremote: Compressing objects:  87% (61/70)\u001b[K\rremote: Compressing objects:  88% (62/70)\u001b[K\rremote: Compressing objects:  90% (63/70)\u001b[K\rremote: Compressing objects:  91% (64/70)\u001b[K\rremote: Compressing objects:  92% (65/70)\u001b[K\rremote: Compressing objects:  94% (66/70)\u001b[K\rremote: Compressing objects:  95% (67/70)\u001b[K\rremote: Compressing objects:  97% (68/70)\u001b[K\rremote: Compressing objects:  98% (69/70)\u001b[K\rremote: Compressing objects: 100% (70/70)\u001b[K\rremote: Compressing objects: 100% (70/70), done.\u001b[K\n",
            "Receiving objects:   1% (1/100)   \rReceiving objects:   2% (2/100)   \rReceiving objects:   3% (3/100)   \rReceiving objects:   4% (4/100)   \rReceiving objects:   5% (5/100)   \rReceiving objects:   6% (6/100)   \rReceiving objects:   7% (7/100)   \rReceiving objects:   8% (8/100)   \rReceiving objects:   9% (9/100)   \rReceiving objects:  10% (10/100)   \rReceiving objects:  11% (11/100)   \rReceiving objects:  12% (12/100)   \rReceiving objects:  13% (13/100)   \rReceiving objects:  14% (14/100)   \rReceiving objects:  15% (15/100)   \rReceiving objects:  16% (16/100)   \rReceiving objects:  17% (17/100)   \rReceiving objects:  18% (18/100)   \rReceiving objects:  19% (19/100)   \rReceiving objects:  20% (20/100)   \rReceiving objects:  21% (21/100)   \rReceiving objects:  22% (22/100)   \rReceiving objects:  23% (23/100)   \rReceiving objects:  24% (24/100)   \rReceiving objects:  25% (25/100)   \rReceiving objects:  26% (26/100)   \rReceiving objects:  27% (27/100)   \rReceiving objects:  28% (28/100)   \rReceiving objects:  29% (29/100)   \rReceiving objects:  30% (30/100)   \rReceiving objects:  31% (31/100)   \rReceiving objects:  32% (32/100)   \rReceiving objects:  33% (33/100)   \rReceiving objects:  34% (34/100)   \rReceiving objects:  35% (35/100)   \rReceiving objects:  36% (36/100)   \rReceiving objects:  37% (37/100)   \rReceiving objects:  38% (38/100)   \rReceiving objects:  39% (39/100)   \rReceiving objects:  40% (40/100)   \rReceiving objects:  41% (41/100)   \rReceiving objects:  42% (42/100)   \rReceiving objects:  43% (43/100)   \rReceiving objects:  44% (44/100)   \rReceiving objects:  45% (45/100)   \rReceiving objects:  46% (46/100)   \rReceiving objects:  47% (47/100)   \rReceiving objects:  48% (48/100)   \rReceiving objects:  49% (49/100)   \rReceiving objects:  50% (50/100)   \rReceiving objects:  51% (51/100)   \rReceiving objects:  52% (52/100)   \rReceiving objects:  53% (53/100)   \rReceiving objects:  54% (54/100)   \rReceiving objects:  55% (55/100)   \rReceiving objects:  56% (56/100)   \rReceiving objects:  57% (57/100)   \rReceiving objects:  58% (58/100)   \rReceiving objects:  59% (59/100)   \rReceiving objects:  60% (60/100)   \rReceiving objects:  61% (61/100)   \rReceiving objects:  62% (62/100)   \rReceiving objects:  63% (63/100)   \rReceiving objects:  64% (64/100)   \rReceiving objects:  65% (65/100)   \rReceiving objects:  66% (66/100)   \rReceiving objects:  67% (67/100)   \rReceiving objects:  68% (68/100)   \rReceiving objects:  69% (69/100)   \rReceiving objects:  70% (70/100)   \rReceiving objects:  71% (71/100)   \rReceiving objects:  72% (72/100)   \rReceiving objects:  73% (73/100)   \rReceiving objects:  74% (74/100)   \rReceiving objects:  75% (75/100)   \rReceiving objects:  76% (76/100)   \rReceiving objects:  77% (77/100)   \rReceiving objects:  78% (78/100)   \rReceiving objects:  79% (79/100)   \rReceiving objects:  80% (80/100)   \rReceiving objects:  81% (81/100)   \rReceiving objects:  82% (82/100)   \rReceiving objects:  83% (83/100)   \rReceiving objects:  84% (84/100)   \rReceiving objects:  85% (85/100)   \rReceiving objects:  86% (86/100)   \rReceiving objects:  87% (87/100)   \rReceiving objects:  88% (88/100)   \rReceiving objects:  89% (89/100)   \rReceiving objects:  90% (90/100)   \rremote: Total 100 (delta 36), reused 81 (delta 19), pack-reused 0\u001b[K\n",
            "Receiving objects:  91% (91/100)   \rReceiving objects:  92% (92/100)   \rReceiving objects:  93% (93/100)   \rReceiving objects:  94% (94/100)   \rReceiving objects:  95% (95/100)   \rReceiving objects:  96% (96/100)   \rReceiving objects:  97% (97/100)   \rReceiving objects:  98% (98/100)   \rReceiving objects:  99% (99/100)   \rReceiving objects: 100% (100/100)   \rReceiving objects: 100% (100/100), 70.49 KiB | 3.52 MiB/s, done.\n",
            "Resolving deltas:   0% (0/36)   \rResolving deltas:   2% (1/36)   \rResolving deltas:   5% (2/36)   \rResolving deltas:  11% (4/36)   \rResolving deltas:  38% (14/36)   \rResolving deltas:  41% (15/36)   \rResolving deltas:  44% (16/36)   \rResolving deltas:  47% (17/36)   \rResolving deltas:  55% (20/36)   \rResolving deltas:  58% (21/36)   \rResolving deltas:  61% (22/36)   \rResolving deltas:  72% (26/36)   \rResolving deltas:  77% (28/36)   \rResolving deltas:  91% (33/36)   \rResolving deltas:  94% (34/36)   \rResolving deltas: 100% (36/36)   \rResolving deltas: 100% (36/36), done.\n"
          ],
          "name": "stdout"
        }
      ]
    },
    {
      "cell_type": "code",
      "metadata": {
        "id": "q6gwaoa9RUdx",
        "colab_type": "code",
        "outputId": "b6d29a85-8ddb-4994-ddd4-70fa19bc1150",
        "colab": {
          "base_uri": "https://localhost:8080/",
          "height": 428
        }
      },
      "source": [
        "!pip install pytorch-pretrained-bert"
      ],
      "execution_count": 21,
      "outputs": [
        {
          "output_type": "stream",
          "text": [
            "Collecting pytorch-pretrained-bert\n",
            "\u001b[?25l  Downloading https://files.pythonhosted.org/packages/d7/e0/c08d5553b89973d9a240605b9c12404bcf8227590de62bae27acbcfe076b/pytorch_pretrained_bert-0.6.2-py3-none-any.whl (123kB)\n",
            "\r\u001b[K     |██▋                             | 10kB 16.5MB/s eta 0:00:01\r\u001b[K     |█████▎                          | 20kB 2.3MB/s eta 0:00:01\r\u001b[K     |████████                        | 30kB 3.3MB/s eta 0:00:01\r\u001b[K     |██████████▋                     | 40kB 2.1MB/s eta 0:00:01\r\u001b[K     |█████████████▎                  | 51kB 2.6MB/s eta 0:00:01\r\u001b[K     |███████████████▉                | 61kB 3.1MB/s eta 0:00:01\r\u001b[K     |██████████████████▌             | 71kB 3.6MB/s eta 0:00:01\r\u001b[K     |█████████████████████▏          | 81kB 4.1MB/s eta 0:00:01\r\u001b[K     |███████████████████████▉        | 92kB 4.6MB/s eta 0:00:01\r\u001b[K     |██████████████████████████▌     | 102kB 3.5MB/s eta 0:00:01\r\u001b[K     |█████████████████████████████▏  | 112kB 3.5MB/s eta 0:00:01\r\u001b[K     |███████████████████████████████▊| 122kB 3.5MB/s eta 0:00:01\r\u001b[K     |████████████████████████████████| 133kB 3.5MB/s \n",
            "\u001b[?25hRequirement already satisfied: boto3 in /usr/local/lib/python3.6/dist-packages (from pytorch-pretrained-bert) (1.10.18)\n",
            "Requirement already satisfied: torch>=0.4.1 in /usr/local/lib/python3.6/dist-packages (from pytorch-pretrained-bert) (1.3.1)\n",
            "Collecting regex\n",
            "\u001b[?25l  Downloading https://files.pythonhosted.org/packages/e3/8e/cbf2295643d7265e7883326fb4654e643bfc93b3a8a8274d8010a39d8804/regex-2019.11.1-cp36-cp36m-manylinux1_x86_64.whl (643kB)\n",
            "\u001b[K     |████████████████████████████████| 645kB 11.1MB/s \n",
            "\u001b[?25hRequirement already satisfied: requests in /usr/local/lib/python3.6/dist-packages (from pytorch-pretrained-bert) (2.21.0)\n",
            "Requirement already satisfied: tqdm in /usr/local/lib/python3.6/dist-packages (from pytorch-pretrained-bert) (4.28.1)\n",
            "Requirement already satisfied: numpy in /usr/local/lib/python3.6/dist-packages (from pytorch-pretrained-bert) (1.17.4)\n",
            "Requirement already satisfied: botocore<1.14.0,>=1.13.18 in /usr/local/lib/python3.6/dist-packages (from boto3->pytorch-pretrained-bert) (1.13.18)\n",
            "Requirement already satisfied: jmespath<1.0.0,>=0.7.1 in /usr/local/lib/python3.6/dist-packages (from boto3->pytorch-pretrained-bert) (0.9.4)\n",
            "Requirement already satisfied: s3transfer<0.3.0,>=0.2.0 in /usr/local/lib/python3.6/dist-packages (from boto3->pytorch-pretrained-bert) (0.2.1)\n",
            "Requirement already satisfied: urllib3<1.25,>=1.21.1 in /usr/local/lib/python3.6/dist-packages (from requests->pytorch-pretrained-bert) (1.24.3)\n",
            "Requirement already satisfied: chardet<3.1.0,>=3.0.2 in /usr/local/lib/python3.6/dist-packages (from requests->pytorch-pretrained-bert) (3.0.4)\n",
            "Requirement already satisfied: idna<2.9,>=2.5 in /usr/local/lib/python3.6/dist-packages (from requests->pytorch-pretrained-bert) (2.8)\n",
            "Requirement already satisfied: certifi>=2017.4.17 in /usr/local/lib/python3.6/dist-packages (from requests->pytorch-pretrained-bert) (2019.9.11)\n",
            "Requirement already satisfied: docutils<0.16,>=0.10 in /usr/local/lib/python3.6/dist-packages (from botocore<1.14.0,>=1.13.18->boto3->pytorch-pretrained-bert) (0.15.2)\n",
            "Requirement already satisfied: python-dateutil<2.8.1,>=2.1; python_version >= \"2.7\" in /usr/local/lib/python3.6/dist-packages (from botocore<1.14.0,>=1.13.18->boto3->pytorch-pretrained-bert) (2.6.1)\n",
            "Requirement already satisfied: six>=1.5 in /usr/local/lib/python3.6/dist-packages (from python-dateutil<2.8.1,>=2.1; python_version >= \"2.7\"->botocore<1.14.0,>=1.13.18->boto3->pytorch-pretrained-bert) (1.12.0)\n",
            "Installing collected packages: regex, pytorch-pretrained-bert\n",
            "Successfully installed pytorch-pretrained-bert-0.6.2 regex-2019.11.1\n"
          ],
          "name": "stdout"
        }
      ]
    },
    {
      "cell_type": "code",
      "metadata": {
        "id": "0ao1OwbAj2BD",
        "colab_type": "code",
        "outputId": "19eb4581-503c-4ea6-c936-89359d97c062",
        "colab": {
          "base_uri": "https://localhost:8080/",
          "height": 102
        }
      },
      "source": [
        "!git clone https://github.com/maknotavailable/pytorch-pretrained-BERT.git"
      ],
      "execution_count": 22,
      "outputs": [
        {
          "output_type": "stream",
          "text": [
            "Cloning into 'pytorch-pretrained-BERT'...\n",
            "remote: Enumerating objects: 972, done.\u001b[K\n",
            "remote: Total 972 (delta 0), reused 0 (delta 0), pack-reused 972\u001b[K\n",
            "Receiving objects: 100% (972/972), 549.12 KiB | 5.08 MiB/s, done.\n",
            "Resolving deltas: 100% (621/621), done.\n"
          ],
          "name": "stdout"
        }
      ]
    },
    {
      "cell_type": "code",
      "metadata": {
        "id": "zFbzN0YL6z28",
        "colab_type": "code",
        "outputId": "f401ab43-9586-45be-d261-25e35c34aaa9",
        "colab": {
          "base_uri": "https://localhost:8080/",
          "height": 34
        }
      },
      "source": [
        "!pwd"
      ],
      "execution_count": 23,
      "outputs": [
        {
          "output_type": "stream",
          "text": [
            "/content\n"
          ],
          "name": "stdout"
        }
      ]
    },
    {
      "cell_type": "code",
      "metadata": {
        "id": "SPjMCKv762N9",
        "colab_type": "code",
        "outputId": "83ea4a82-22f5-4611-b09c-df4ef66132ea",
        "colab": {
          "base_uri": "https://localhost:8080/",
          "height": 187
        }
      },
      "source": [
        "!ls"
      ],
      "execution_count": 24,
      "outputs": [
        {
          "output_type": "stream",
          "text": [
            "alpha-zero-general\t     models\n",
            "awesome-bert-nlp\t     pennylane\n",
            "chess-alpha-zero\t     pytorch-pretrained-BERT\n",
            "deep-reinforcement-learning  reinforcement-learning\n",
            "dopamine\t\t     Reinforcement-learning-with-tensorflow\n",
            "drive\t\t\t     sample_data\n",
            "face_recognition\t     scientific\n",
            "image_captioning\t     sockeye\n",
            "Image-Captioning\t     tensor2tensor\n",
            "leela-chess\t\t     tensorflow-image-detection\n"
          ],
          "name": "stdout"
        }
      ]
    },
    {
      "cell_type": "code",
      "metadata": {
        "id": "BePOdcPv63kR",
        "colab_type": "code",
        "outputId": "8688677d-c90c-4f66-a295-85a19b600509",
        "colab": {
          "base_uri": "https://localhost:8080/",
          "height": 34
        }
      },
      "source": [
        "%cd pytorch-pretrained-BERT/"
      ],
      "execution_count": 25,
      "outputs": [
        {
          "output_type": "stream",
          "text": [
            "/content/pytorch-pretrained-BERT\n"
          ],
          "name": "stdout"
        }
      ]
    },
    {
      "cell_type": "code",
      "metadata": {
        "id": "2ywrly9Z69tC",
        "colab_type": "code",
        "outputId": "88a047cb-15a2-4ae7-82b2-9c65302b5e63",
        "colab": {
          "base_uri": "https://localhost:8080/",
          "height": 51
        }
      },
      "source": [
        "!ls\n"
      ],
      "execution_count": 26,
      "outputs": [
        {
          "output_type": "stream",
          "text": [
            "bin\t  LICENSE    pytorch_pretrained_bert  requirements.txt\tsetup.py\n",
            "examples  notebooks  README.md\t\t      samples\t\ttests\n"
          ],
          "name": "stdout"
        }
      ]
    },
    {
      "cell_type": "code",
      "metadata": {
        "id": "4oOGoCq86-44",
        "colab_type": "code",
        "outputId": "0756236f-837f-41f5-9e82-c3e6bdd3bcc3",
        "colab": {
          "base_uri": "https://localhost:8080/",
          "height": 34
        }
      },
      "source": [
        "%cd pytorch_pretrained_bert/\n"
      ],
      "execution_count": 27,
      "outputs": [
        {
          "output_type": "stream",
          "text": [
            "/content/pytorch-pretrained-BERT/pytorch_pretrained_bert\n"
          ],
          "name": "stdout"
        }
      ]
    },
    {
      "cell_type": "code",
      "metadata": {
        "id": "Zte1Wp4T7Haq",
        "colab_type": "code",
        "outputId": "e2ea6273-ab7f-4738-b646-01fc7cade129",
        "colab": {
          "base_uri": "https://localhost:8080/",
          "height": 68
        }
      },
      "source": [
        "!ls\n"
      ],
      "execution_count": 28,
      "outputs": [
        {
          "output_type": "stream",
          "text": [
            "convert_tf_checkpoint_to_pytorch.py  __main__.py      tokenization.py\n",
            "file_utils.py\t\t\t     modeling.py\n",
            "__init__.py\t\t\t     optimization.py\n"
          ],
          "name": "stdout"
        }
      ]
    },
    {
      "cell_type": "code",
      "metadata": {
        "id": "gny1m0fk7IkQ",
        "colab_type": "code",
        "outputId": "5cc5eb7e-517e-44ad-ed40-617105907ca3",
        "colab": {
          "base_uri": "https://localhost:8080/",
          "height": 34
        }
      },
      "source": [
        "%cd ../examples/"
      ],
      "execution_count": 29,
      "outputs": [
        {
          "output_type": "stream",
          "text": [
            "/content/pytorch-pretrained-BERT/examples\n"
          ],
          "name": "stdout"
        }
      ]
    },
    {
      "cell_type": "code",
      "metadata": {
        "id": "4ZUyGGjd7Mi5",
        "colab_type": "code",
        "outputId": "6a3409bf-1ba3-4445-a74e-56ebcb1637ed",
        "colab": {
          "base_uri": "https://localhost:8080/",
          "height": 34
        }
      },
      "source": [
        "!ls\n"
      ],
      "execution_count": 30,
      "outputs": [
        {
          "output_type": "stream",
          "text": [
            "extract_features.py  run_classifier.py\trun_squad.py\n"
          ],
          "name": "stdout"
        }
      ]
    },
    {
      "cell_type": "code",
      "metadata": {
        "id": "93Ishcc27NU5",
        "colab_type": "code",
        "outputId": "bc73af74-ff2f-4a6c-d4f5-c0a641969d42",
        "colab": {
          "base_uri": "https://localhost:8080/",
          "height": 734
        }
      },
      "source": [
        "!python extract_features.py --input_file ../samples/input.txt --output_file results.out --bert_model bert-base-chinese"
      ],
      "execution_count": 31,
      "outputs": [
        {
          "output_type": "stream",
          "text": [
            "11/25/2019 18:19:50 - INFO - __main__ -   device: cpu n_gpu: 0 distributed training: False\n",
            "11/25/2019 18:19:50 - WARNING - pytorch_pretrained_bert.tokenization -   The pre-trained model you are loading is an uncased model but you have set `do_lower_case` to False. We are setting `do_lower_case=True` for you but you may want to check this behavior.\n",
            "11/25/2019 18:19:50 - INFO - pytorch_pretrained_bert.file_utils -   https://s3.amazonaws.com/models.huggingface.co/bert/bert-base-chinese-vocab.txt not found in cache, downloading to /tmp/tmpyojq0wq8\n",
            "100% 109540/109540 [00:00<00:00, 1872164.15B/s]\n",
            "11/25/2019 18:19:50 - INFO - pytorch_pretrained_bert.file_utils -   copying /tmp/tmpyojq0wq8 to cache at /root/.pytorch_pretrained_bert/8a0c070123c1f794c42a29c6904beb7c1b8715741e235bee04aca2c7636fc83f.9b42061518a39ca00b8b52059fd2bede8daa613f8a8671500e518a8c29de8c00\n",
            "11/25/2019 18:19:50 - INFO - pytorch_pretrained_bert.file_utils -   creating metadata file for /root/.pytorch_pretrained_bert/8a0c070123c1f794c42a29c6904beb7c1b8715741e235bee04aca2c7636fc83f.9b42061518a39ca00b8b52059fd2bede8daa613f8a8671500e518a8c29de8c00\n",
            "11/25/2019 18:19:50 - INFO - pytorch_pretrained_bert.file_utils -   removing temp file /tmp/tmpyojq0wq8\n",
            "11/25/2019 18:19:50 - INFO - pytorch_pretrained_bert.tokenization -   loading vocabulary file https://s3.amazonaws.com/models.huggingface.co/bert/bert-base-chinese-vocab.txt from cache at /root/.pytorch_pretrained_bert/8a0c070123c1f794c42a29c6904beb7c1b8715741e235bee04aca2c7636fc83f.9b42061518a39ca00b8b52059fd2bede8daa613f8a8671500e518a8c29de8c00\n",
            "11/25/2019 18:19:50 - INFO - __main__ -   *** Example ***\n",
            "11/25/2019 18:19:50 - INFO - __main__ -   unique_id: 0\n",
            "11/25/2019 18:19:50 - INFO - __main__ -   tokens: [CLS] who was jim he ##ns ##on ? [SEP] jim he ##ns ##on was a pu ##pp ##et ##ee ##r [SEP]\n",
            "11/25/2019 18:19:50 - INFO - __main__ -   input_ids: 101 9372 9947 11268 9245 8727 8224 136 102 11268 9245 8727 8224 9947 143 11227 9586 8418 8854 8180 102 0 0 0 0 0 0 0 0 0 0 0 0 0 0 0 0 0 0 0 0 0 0 0 0 0 0 0 0 0 0 0 0 0 0 0 0 0 0 0 0 0 0 0 0 0 0 0 0 0 0 0 0 0 0 0 0 0 0 0 0 0 0 0 0 0 0 0 0 0 0 0 0 0 0 0 0 0 0 0 0 0 0 0 0 0 0 0 0 0 0 0 0 0 0 0 0 0 0 0 0 0 0 0 0 0 0 0\n",
            "11/25/2019 18:19:50 - INFO - __main__ -   input_mask: 1 1 1 1 1 1 1 1 1 1 1 1 1 1 1 1 1 1 1 1 1 0 0 0 0 0 0 0 0 0 0 0 0 0 0 0 0 0 0 0 0 0 0 0 0 0 0 0 0 0 0 0 0 0 0 0 0 0 0 0 0 0 0 0 0 0 0 0 0 0 0 0 0 0 0 0 0 0 0 0 0 0 0 0 0 0 0 0 0 0 0 0 0 0 0 0 0 0 0 0 0 0 0 0 0 0 0 0 0 0 0 0 0 0 0 0 0 0 0 0 0 0 0 0 0 0 0 0\n",
            "11/25/2019 18:19:50 - INFO - __main__ -   input_type_ids: 0 0 0 0 0 0 0 0 0 1 1 1 1 1 1 1 1 1 1 1 1 0 0 0 0 0 0 0 0 0 0 0 0 0 0 0 0 0 0 0 0 0 0 0 0 0 0 0 0 0 0 0 0 0 0 0 0 0 0 0 0 0 0 0 0 0 0 0 0 0 0 0 0 0 0 0 0 0 0 0 0 0 0 0 0 0 0 0 0 0 0 0 0 0 0 0 0 0 0 0 0 0 0 0 0 0 0 0 0 0 0 0 0 0 0 0 0 0 0 0 0 0 0 0 0 0 0 0\n",
            "11/25/2019 18:19:50 - INFO - pytorch_pretrained_bert.file_utils -   https://s3.amazonaws.com/models.huggingface.co/bert/bert-base-chinese.tar.gz not found in cache, downloading to /tmp/tmptbeloiij\n",
            "100% 382072689/382072689 [00:07<00:00, 50530384.68B/s]\n",
            "11/25/2019 18:19:58 - INFO - pytorch_pretrained_bert.file_utils -   copying /tmp/tmptbeloiij to cache at /root/.pytorch_pretrained_bert/42d4a64dda3243ffeca7ec268d5544122e67d9d06b971608796b483925716512.02ac7d664cff08d793eb00d6aac1d04368a1322435e5fe0a27c70b0b3a85327f\n",
            "11/25/2019 18:19:59 - INFO - pytorch_pretrained_bert.file_utils -   creating metadata file for /root/.pytorch_pretrained_bert/42d4a64dda3243ffeca7ec268d5544122e67d9d06b971608796b483925716512.02ac7d664cff08d793eb00d6aac1d04368a1322435e5fe0a27c70b0b3a85327f\n",
            "11/25/2019 18:19:59 - INFO - pytorch_pretrained_bert.file_utils -   removing temp file /tmp/tmptbeloiij\n",
            "11/25/2019 18:19:59 - INFO - pytorch_pretrained_bert.modeling -   loading archive file https://s3.amazonaws.com/models.huggingface.co/bert/bert-base-chinese.tar.gz from cache at /root/.pytorch_pretrained_bert/42d4a64dda3243ffeca7ec268d5544122e67d9d06b971608796b483925716512.02ac7d664cff08d793eb00d6aac1d04368a1322435e5fe0a27c70b0b3a85327f\n",
            "11/25/2019 18:19:59 - INFO - pytorch_pretrained_bert.modeling -   extracting archive file /root/.pytorch_pretrained_bert/42d4a64dda3243ffeca7ec268d5544122e67d9d06b971608796b483925716512.02ac7d664cff08d793eb00d6aac1d04368a1322435e5fe0a27c70b0b3a85327f to temp dir /tmp/tmpr8lxjean\n",
            "11/25/2019 18:20:04 - INFO - pytorch_pretrained_bert.modeling -   Model config {\n",
            "  \"attention_probs_dropout_prob\": 0.1,\n",
            "  \"directionality\": \"bidi\",\n",
            "  \"hidden_act\": \"gelu\",\n",
            "  \"hidden_dropout_prob\": 0.1,\n",
            "  \"hidden_size\": 768,\n",
            "  \"initializer_range\": 0.02,\n",
            "  \"intermediate_size\": 3072,\n",
            "  \"max_position_embeddings\": 512,\n",
            "  \"num_attention_heads\": 12,\n",
            "  \"num_hidden_layers\": 12,\n",
            "  \"pooler_fc_size\": 768,\n",
            "  \"pooler_num_attention_heads\": 12,\n",
            "  \"pooler_num_fc_layers\": 3,\n",
            "  \"pooler_size_per_head\": 128,\n",
            "  \"pooler_type\": \"first_token_transform\",\n",
            "  \"type_vocab_size\": 2,\n",
            "  \"vocab_size\": 21128\n",
            "}\n",
            "\n"
          ],
          "name": "stdout"
        }
      ]
    },
    {
      "cell_type": "code",
      "metadata": {
        "id": "5-VudQX88Jlb",
        "colab_type": "code",
        "outputId": "d9f54b7d-eab6-4438-c337-c763c4dda7bf",
        "colab": {
          "base_uri": "https://localhost:8080/",
          "height": 51
        }
      },
      "source": [
        "%cd ..\n",
        "!pwd"
      ],
      "execution_count": 32,
      "outputs": [
        {
          "output_type": "stream",
          "text": [
            "/content/pytorch-pretrained-BERT\n",
            "/content/pytorch-pretrained-BERT\n"
          ],
          "name": "stdout"
        }
      ]
    },
    {
      "cell_type": "code",
      "metadata": {
        "id": "LohaVwiL7PxC",
        "colab_type": "code",
        "outputId": "c6c4fed7-867f-429e-8685-1981eb37846e",
        "colab": {
          "base_uri": "https://localhost:8080/",
          "height": 462
        }
      },
      "source": [
        "!python -m pytest -sv tests/"
      ],
      "execution_count": 33,
      "outputs": [
        {
          "output_type": "stream",
          "text": [
            "\u001b[1m============================= test session starts ==============================\u001b[0m\n",
            "platform linux -- Python 3.6.8, pytest-3.6.4, py-1.8.0, pluggy-0.7.1 -- /usr/bin/python3\n",
            "cachedir: .pytest_cache\n",
            "rootdir: /content/pytorch-pretrained-BERT, inifile:\n",
            "collected 11 items                                                             \u001b[0m\n",
            "\n",
            "tests/modeling_test.py::BertModelTest::test_config_to_json_string \u001b[32mPASSED\u001b[0m\n",
            "tests/modeling_test.py::BertModelTest::test_default \u001b[32mPASSED\u001b[0m\n",
            "tests/optimization_test.py::OptimizationTest::test_adam \u001b[32mPASSED\u001b[0m\n",
            "tests/tokenization_test.py::TokenizationTest::test_basic_tokenizer_lower \u001b[32mPASSED\u001b[0m\n",
            "tests/tokenization_test.py::TokenizationTest::test_basic_tokenizer_no_lower \u001b[32mPASSED\u001b[0m\n",
            "tests/tokenization_test.py::TokenizationTest::test_chinese \u001b[32mPASSED\u001b[0m\n",
            "tests/tokenization_test.py::TokenizationTest::test_full_tokenizer \u001b[32mPASSED\u001b[0m\n",
            "tests/tokenization_test.py::TokenizationTest::test_is_control \u001b[32mPASSED\u001b[0m\n",
            "tests/tokenization_test.py::TokenizationTest::test_is_punctuation \u001b[32mPASSED\u001b[0m\n",
            "tests/tokenization_test.py::TokenizationTest::test_is_whitespace \u001b[32mPASSED\u001b[0m\n",
            "tests/tokenization_test.py::TokenizationTest::test_wordpiece_tokenizer \u001b[32mPASSED\u001b[0m\n",
            "\n",
            "\u001b[33m=============================== warnings summary ===============================\u001b[0m\n",
            "tests/optimization_test.py::OptimizationTest::test_adam\n",
            "  /usr/local/lib/python3.6/dist-packages/torch/nn/_reduction.py:13: UserWarning: reduction='elementwise_mean' is deprecated, please use reduction='mean' instead.\n",
            "    warnings.warn(\"reduction='elementwise_mean' is deprecated, please use reduction='mean' instead.\")\n",
            "\n",
            "-- Docs: http://doc.pytest.org/en/latest/warnings.html\n",
            "\u001b[33m\u001b[1m==================== 11 passed, 1 warnings in 0.91 seconds =====================\u001b[0m\n"
          ],
          "name": "stdout"
        }
      ]
    },
    {
      "cell_type": "code",
      "metadata": {
        "id": "rJIenKZvILyy",
        "colab_type": "code",
        "outputId": "64e1f4bb-f405-40ab-bdf1-e0f1f7a17309",
        "colab": {
          "base_uri": "https://localhost:8080/",
          "height": 34
        }
      },
      "source": [
        "%cd .."
      ],
      "execution_count": 34,
      "outputs": [
        {
          "output_type": "stream",
          "text": [
            "/content\n"
          ],
          "name": "stdout"
        }
      ]
    },
    {
      "cell_type": "code",
      "metadata": {
        "id": "xpPhiXkC8MIR",
        "colab_type": "code",
        "outputId": "53193fc5-f330-4ff2-ca60-fded983771e6",
        "colab": {
          "base_uri": "https://localhost:8080/",
          "height": 102
        }
      },
      "source": [
        "!git clone https://github.com/google-research/bert.git"
      ],
      "execution_count": 35,
      "outputs": [
        {
          "output_type": "stream",
          "text": [
            "Cloning into 'bert'...\n",
            "remote: Enumerating objects: 336, done.\u001b[K\n",
            "remote: Total 336 (delta 0), reused 0 (delta 0), pack-reused 336\u001b[K\n",
            "Receiving objects: 100% (336/336), 283.40 KiB | 3.63 MiB/s, done.\n",
            "Resolving deltas: 100% (185/185), done.\n"
          ],
          "name": "stdout"
        }
      ]
    },
    {
      "cell_type": "code",
      "metadata": {
        "id": "jTvI6KP7yLn1",
        "colab_type": "code",
        "outputId": "09153272-1f4d-47e9-9655-41dccd09155e",
        "colab": {
          "base_uri": "https://localhost:8080/",
          "height": 136
        }
      },
      "source": [
        "!git clone https://github.com/deepmipt/DeepPavlov.git"
      ],
      "execution_count": 36,
      "outputs": [
        {
          "output_type": "stream",
          "text": [
            "Cloning into 'DeepPavlov'...\n",
            "remote: Enumerating objects: 587, done.\u001b[K\n",
            "remote: Counting objects:   0% (1/587)\u001b[K\rremote: Counting objects:   1% (6/587)\u001b[K\rremote: Counting objects:   2% (12/587)\u001b[K\rremote: Counting objects:   3% (18/587)\u001b[K\rremote: Counting objects:   4% (24/587)\u001b[K\rremote: Counting objects:   5% (30/587)\u001b[K\rremote: Counting objects:   6% (36/587)\u001b[K\rremote: Counting objects:   7% (42/587)\u001b[K\rremote: Counting objects:   8% (47/587)\u001b[K\rremote: Counting objects:   9% (53/587)\u001b[K\rremote: Counting objects:  10% (59/587)\u001b[K\rremote: Counting objects:  11% (65/587)\u001b[K\rremote: Counting objects:  12% (71/587)\u001b[K\rremote: Counting objects:  13% (77/587)\u001b[K\rremote: Counting objects:  14% (83/587)\u001b[K\rremote: Counting objects:  15% (89/587)\u001b[K\rremote: Counting objects:  16% (94/587)\u001b[K\rremote: Counting objects:  17% (100/587)\rremote: Counting objects:  18% (106/587)\u001b[K\rremote: Counting objects:  19% (112/587)\u001b[K\rremote: Counting objects:  20% (118/587)\u001b[K\rremote: Counting objects:  21% (124/587)\u001b[K\rremote: Counting objects:  22% (130/587)\u001b[K\rremote: Counting objects:  23% (136/587)\u001b[K\rremote: Counting objects:  24% (141/587)\u001b[K\rremote: Counting objects:  25% (147/587)\u001b[K\rremote: Counting objects:  26% (153/587)\u001b[K\rremote: Counting objects:  27% (159/587)\u001b[K\rremote: Counting objects:  28% (165/587)\u001b[K\rremote: Counting objects:  29% (171/587)\u001b[K\rremote: Counting objects:  30% (177/587)\u001b[K\rremote: Counting objects:  31% (182/587)\u001b[K\rremote: Counting objects:  32% (188/587)\u001b[K\rremote: Counting objects:  33% (194/587)\u001b[K\rremote: Counting objects:  34% (200/587)\u001b[K\rremote: Counting objects:  35% (206/587)\u001b[K\rremote: Counting objects:  36% (212/587)\u001b[K\rremote: Counting objects:  37% (218/587)\u001b[K\rremote: Counting objects:  38% (224/587)\u001b[K\rremote: Counting objects:  39% (229/587)\u001b[K\rremote: Counting objects:  40% (235/587)\u001b[K\rremote: Counting objects:  41% (241/587)\u001b[K\rremote: Counting objects:  42% (247/587)\u001b[K\rremote: Counting objects:  43% (253/587)\u001b[K\rremote: Counting objects:  44% (259/587)\u001b[K\rremote: Counting objects:  45% (265/587)\u001b[K\rremote: Counting objects:  46% (271/587)\u001b[K\rremote: Counting objects:  47% (276/587)\u001b[K\rremote: Counting objects:  48% (282/587)\u001b[K\rremote: Counting objects:  49% (288/587)\u001b[K\rremote: Counting objects:  50% (294/587)\u001b[K\rremote: Counting objects:  51% (300/587)\u001b[K\rremote: Counting objects:  52% (306/587)\u001b[K\rremote: Counting objects:  53% (312/587)\u001b[K\rremote: Counting objects:  54% (317/587)\u001b[K\rremote: Counting objects:  55% (323/587)\u001b[K\rremote: Counting objects:  56% (329/587)\u001b[K\rremote: Counting objects:  57% (335/587)\u001b[K\rremote: Counting objects:  58% (341/587)\u001b[K\rremote: Counting objects:  59% (347/587)\u001b[K\rremote: Counting objects:  60% (353/587)\u001b[K\rremote: Counting objects:  61% (359/587)\u001b[K\rremote: Counting objects:  62% (364/587)\u001b[K\rremote: Counting objects:  63% (370/587)\u001b[K\rremote: Counting objects:  64% (376/587)\u001b[K\rremote: Counting objects:  65% (382/587)\u001b[K\rremote: Counting objects:  66% (388/587)\u001b[K\rremote: Counting objects:  67% (394/587)\u001b[K\rremote: Counting objects:  68% (400/587)\u001b[K\rremote: Counting objects:  69% (406/587)\u001b[K\rremote: Counting objects:  70% (411/587)\u001b[K\rremote: Counting objects:  71% (417/587)\u001b[K\rremote: Counting objects:  72% (423/587)\u001b[K\rremote: Counting objects:  73% (429/587)\u001b[K\rremote: Counting objects:  74% (435/587)\u001b[K\rremote: Counting objects:  75% (441/587)\u001b[K\rremote: Counting objects:  76% (447/587)\u001b[K\rremote: Counting objects:  77% (452/587)\u001b[K\rremote: Counting objects:  78% (458/587)\u001b[K\rremote: Counting objects:  79% (464/587)\u001b[K\rremote: Counting objects:  80% (470/587)\u001b[K\rremote: Counting objects:  81% (476/587)\u001b[K\rremote: Counting objects:  82% (482/587)\u001b[K\rremote: Counting objects:  83% (488/587)\u001b[K\rremote: Counting objects:  84% (494/587)\u001b[K\rremote: Counting objects:  85% (499/587)\u001b[K\rremote: Counting objects:  86% (505/587)\u001b[K\rremote: Counting objects:  87% (511/587)\u001b[K\rremote: Counting objects:  88% (517/587)\u001b[K\rremote: Counting objects:  89% (523/587)\u001b[K\rremote: Counting objects:  90% (529/587)\u001b[K\rremote: Counting objects:  91% (535/587)\u001b[K\rremote: Counting objects:  92% (541/587)\u001b[K\rremote: Counting objects:  93% (546/587)\u001b[K\rremote: Counting objects:  94% (552/587)\u001b[K\rremote: Counting objects:  95% (558/587)\u001b[K\rremote: Counting objects:  96% (564/587)\u001b[K\rremote: Counting objects:  97% (570/587)\u001b[K\rremote: Counting objects:  98% (576/587)\u001b[K\rremote: Counting objects:  99% (582/587)\u001b[K\rremote: Counting objects: 100% (587/587)\u001b[K\rremote: Counting objects: 100% (587/587), done.\u001b[K\n",
            "remote: Compressing objects: 100% (359/359), done.\u001b[K\n",
            "remote: Total 48355 (delta 390), reused 366 (delta 223), pack-reused 47768\u001b[K\n",
            "Receiving objects: 100% (48355/48355), 34.34 MiB | 25.78 MiB/s, done.\n",
            "Resolving deltas: 100% (36789/36789), done.\n"
          ],
          "name": "stdout"
        }
      ]
    },
    {
      "cell_type": "code",
      "metadata": {
        "id": "n0I8KhndyUOm",
        "colab_type": "code",
        "outputId": "374de0b0-a497-45bc-dce0-f395ef9a1d20",
        "colab": {
          "base_uri": "https://localhost:8080/",
          "height": 136
        }
      },
      "source": [
        "!git clone https://github.com/RasaHQ/rasa.git"
      ],
      "execution_count": 37,
      "outputs": [
        {
          "output_type": "stream",
          "text": [
            "Cloning into 'rasa'...\n",
            "remote: Enumerating objects: 9368, done.\u001b[K\n",
            "remote: Counting objects: 100% (9368/9368), done.\u001b[K\n",
            "remote: Compressing objects: 100% (1170/1170), done.\u001b[K\n",
            "remote: Total 952813 (delta 5678), reused 8999 (delta 5403), pack-reused 943445\u001b[K\n",
            "Receiving objects: 100% (952813/952813), 508.48 MiB | 28.59 MiB/s, done.\n",
            "Resolving deltas: 100% (776870/776870), done.\n"
          ],
          "name": "stdout"
        }
      ]
    },
    {
      "cell_type": "code",
      "metadata": {
        "id": "DEtiRa7ymiei",
        "colab_type": "code",
        "outputId": "13076b30-038e-48f4-c262-2e8582c3ecf8",
        "colab": {
          "base_uri": "https://localhost:8080/",
          "height": 102
        }
      },
      "source": [
        "!git clone https://github.com/google/seq2seq.git"
      ],
      "execution_count": 38,
      "outputs": [
        {
          "output_type": "stream",
          "text": [
            "Cloning into 'seq2seq'...\n",
            "remote: Enumerating objects: 5995, done.\u001b[K\n",
            "remote: Total 5995 (delta 0), reused 0 (delta 0), pack-reused 5995\u001b[K\n",
            "Receiving objects: 100% (5995/5995), 1.63 MiB | 10.79 MiB/s, done.\n",
            "Resolving deltas: 100% (4189/4189), done.\n"
          ],
          "name": "stdout"
        }
      ]
    },
    {
      "cell_type": "code",
      "metadata": {
        "id": "QLL2PLDymkRn",
        "colab_type": "code",
        "outputId": "641bcefc-f8c2-4981-cd4e-103f53cc18b1",
        "colab": {
          "base_uri": "https://localhost:8080/",
          "height": 136
        }
      },
      "source": [
        "!git clone https://github.com/dragen1860/TensorFlow-2.x-Tutorials.git"
      ],
      "execution_count": 39,
      "outputs": [
        {
          "output_type": "stream",
          "text": [
            "Cloning into 'TensorFlow-2.x-Tutorials'...\n",
            "remote: Enumerating objects: 99, done.\u001b[K\n",
            "remote: Counting objects:   1% (1/99)\u001b[K\rremote: Counting objects:   2% (2/99)\u001b[K\rremote: Counting objects:   3% (3/99)\u001b[K\rremote: Counting objects:   4% (4/99)\u001b[K\rremote: Counting objects:   5% (5/99)\u001b[K\rremote: Counting objects:   6% (6/99)\u001b[K\rremote: Counting objects:   7% (7/99)\u001b[K\rremote: Counting objects:   8% (8/99)\u001b[K\rremote: Counting objects:   9% (9/99)\u001b[K\rremote: Counting objects:  10% (10/99)\u001b[K\rremote: Counting objects:  11% (11/99)\u001b[K\rremote: Counting objects:  12% (12/99)\u001b[K\rremote: Counting objects:  13% (13/99)\u001b[K\rremote: Counting objects:  14% (14/99)\u001b[K\rremote: Counting objects:  15% (15/99)\u001b[K\rremote: Counting objects:  16% (16/99)\u001b[K\rremote: Counting objects:  17% (17/99)\u001b[K\rremote: Counting objects:  18% (18/99)\u001b[K\rremote: Counting objects:  19% (19/99)\u001b[K\rremote: Counting objects:  20% (20/99)\u001b[K\rremote: Counting objects:  21% (21/99)\u001b[K\rremote: Counting objects:  22% (22/99)\u001b[K\rremote: Counting objects:  23% (23/99)\u001b[K\rremote: Counting objects:  24% (24/99)\u001b[K\rremote: Counting objects:  25% (25/99)\u001b[K\rremote: Counting objects:  26% (26/99)\u001b[K\rremote: Counting objects:  27% (27/99)\u001b[K\rremote: Counting objects:  28% (28/99)\u001b[K\rremote: Counting objects:  29% (29/99)\u001b[K\rremote: Counting objects:  30% (30/99)\u001b[K\rremote: Counting objects:  31% (31/99)\u001b[K\rremote: Counting objects:  32% (32/99)\u001b[K\rremote: Counting objects:  33% (33/99)\u001b[K\rremote: Counting objects:  34% (34/99)\u001b[K\rremote: Counting objects:  35% (35/99)\u001b[K\rremote: Counting objects:  36% (36/99)\u001b[K\rremote: Counting objects:  37% (37/99)\u001b[K\rremote: Counting objects:  38% (38/99)\u001b[K\rremote: Counting objects:  39% (39/99)\u001b[K\rremote: Counting objects:  40% (40/99)\u001b[K\rremote: Counting objects:  41% (41/99)\u001b[K\rremote: Counting objects:  42% (42/99)\u001b[K\rremote: Counting objects:  43% (43/99)\u001b[K\rremote: Counting objects:  44% (44/99)\u001b[K\rremote: Counting objects:  45% (45/99)\u001b[K\rremote: Counting objects:  46% (46/99)\u001b[K\rremote: Counting objects:  47% (47/99)\u001b[K\rremote: Counting objects:  48% (48/99)\u001b[K\rremote: Counting objects:  49% (49/99)\u001b[K\rremote: Counting objects:  50% (50/99)\u001b[K\rremote: Counting objects:  51% (51/99)\u001b[K\rremote: Counting objects:  52% (52/99)\u001b[K\rremote: Counting objects:  53% (53/99)\u001b[K\rremote: Counting objects:  54% (54/99)\u001b[K\rremote: Counting objects:  55% (55/99)\u001b[K\rremote: Counting objects:  56% (56/99)\u001b[K\rremote: Counting objects:  57% (57/99)\u001b[K\rremote: Counting objects:  58% (58/99)\u001b[K\rremote: Counting objects:  59% (59/99)\u001b[K\rremote: Counting objects:  60% (60/99)\u001b[K\rremote: Counting objects:  61% (61/99)\u001b[K\rremote: Counting objects:  62% (62/99)\u001b[K\rremote: Counting objects:  63% (63/99)\u001b[K\rremote: Counting objects:  64% (64/99)\u001b[K\rremote: Counting objects:  65% (65/99)\u001b[K\rremote: Counting objects:  66% (66/99)\u001b[K\rremote: Counting objects:  67% (67/99)\u001b[K\rremote: Counting objects:  68% (68/99)\u001b[K\rremote: Counting objects:  69% (69/99)\u001b[K\rremote: Counting objects:  70% (70/99)\u001b[K\rremote: Counting objects:  71% (71/99)\u001b[K\rremote: Counting objects:  72% (72/99)\u001b[K\rremote: Counting objects:  73% (73/99)\u001b[K\rremote: Counting objects:  74% (74/99)\u001b[K\rremote: Counting objects:  75% (75/99)\u001b[K\rremote: Counting objects:  76% (76/99)\u001b[K\rremote: Counting objects:  77% (77/99)\u001b[K\rremote: Counting objects:  78% (78/99)\u001b[K\rremote: Counting objects:  79% (79/99)\u001b[K\rremote: Counting objects:  80% (80/99)\u001b[K\rremote: Counting objects:  81% (81/99)\u001b[K\rremote: Counting objects:  82% (82/99)\u001b[K\rremote: Counting objects:  83% (83/99)\u001b[K\rremote: Counting objects:  84% (84/99)\u001b[K\rremote: Counting objects:  85% (85/99)\u001b[K\rremote: Counting objects:  86% (86/99)\u001b[K\rremote: Counting objects:  87% (87/99)\u001b[K\rremote: Counting objects:  88% (88/99)\u001b[K\rremote: Counting objects:  89% (89/99)\u001b[K\rremote: Counting objects:  90% (90/99)\u001b[K\rremote: Counting objects:  91% (91/99)\u001b[K\rremote: Counting objects:  92% (92/99)\u001b[K\rremote: Counting objects:  93% (93/99)\u001b[K\rremote: Counting objects:  94% (94/99)\u001b[K\rremote: Counting objects:  95% (95/99)\u001b[K\rremote: Counting objects:  96% (96/99)\u001b[K\rremote: Counting objects:  97% (97/99)\u001b[K\rremote: Counting objects:  98% (98/99)\u001b[K\rremote: Counting objects: 100% (99/99)\u001b[K\rremote: Counting objects: 100% (99/99), done.\u001b[K\n",
            "remote: Compressing objects: 100% (72/72), done.\u001b[K\n",
            "remote: Total 1734 (delta 38), reused 56 (delta 26), pack-reused 1635\u001b[K\n",
            "Receiving objects: 100% (1734/1734), 159.67 MiB | 21.45 MiB/s, done.\n",
            "Resolving deltas: 100% (663/663), done.\n"
          ],
          "name": "stdout"
        }
      ]
    },
    {
      "cell_type": "code",
      "metadata": {
        "id": "mt9Moc8p583p",
        "colab_type": "code",
        "outputId": "572cb9ea-83ab-4c79-a426-a92855d8115b",
        "colab": {
          "base_uri": "https://localhost:8080/",
          "height": 153
        }
      },
      "source": [
        "!git clone https://github.com/tensorflow/tensorflow.git"
      ],
      "execution_count": 40,
      "outputs": [
        {
          "output_type": "stream",
          "text": [
            "Cloning into 'tensorflow'...\n",
            "remote: Enumerating objects: 34, done.\u001b[K\n",
            "remote: Counting objects: 100% (34/34), done.\u001b[K\n",
            "remote: Compressing objects: 100% (34/34), done.\u001b[K\n",
            "remote: Total 770109 (delta 6), reused 28 (delta 0), pack-reused 770075\u001b[K\n",
            "Receiving objects: 100% (770109/770109), 433.95 MiB | 29.86 MiB/s, done.\n",
            "Resolving deltas: 100% (622349/622349), done.\n",
            "Checking out files: 100% (19301/19301), done.\n"
          ],
          "name": "stdout"
        }
      ]
    },
    {
      "cell_type": "code",
      "metadata": {
        "id": "VXroyZLs6P5z",
        "colab_type": "code",
        "outputId": "02383a64-616b-4249-9c2c-068c83209c5d",
        "colab": {
          "base_uri": "https://localhost:8080/",
          "height": 85
        }
      },
      "source": [
        "!git clone https://github.com/sujaybabruwad/LeNet-in-Tensorflow.git"
      ],
      "execution_count": 41,
      "outputs": [
        {
          "output_type": "stream",
          "text": [
            "Cloning into 'LeNet-in-Tensorflow'...\n",
            "remote: Enumerating objects: 31, done.\u001b[K\n",
            "Unpacking objects:   3% (1/31)   \rUnpacking objects:   6% (2/31)   \rUnpacking objects:   9% (3/31)   \rUnpacking objects:  12% (4/31)   \rUnpacking objects:  16% (5/31)   \rUnpacking objects:  19% (6/31)   \rUnpacking objects:  22% (7/31)   \rUnpacking objects:  25% (8/31)   \rUnpacking objects:  29% (9/31)   \rUnpacking objects:  32% (10/31)   \rUnpacking objects:  35% (11/31)   \rUnpacking objects:  38% (12/31)   \rUnpacking objects:  41% (13/31)   \rUnpacking objects:  45% (14/31)   \rUnpacking objects:  48% (15/31)   \rUnpacking objects:  51% (16/31)   \rUnpacking objects:  54% (17/31)   \rUnpacking objects:  58% (18/31)   \rremote: Total 31 (delta 0), reused 0 (delta 0), pack-reused 31\u001b[K\n",
            "Unpacking objects:  61% (19/31)   \rUnpacking objects:  64% (20/31)   \rUnpacking objects:  67% (21/31)   \rUnpacking objects:  70% (22/31)   \rUnpacking objects:  74% (23/31)   \rUnpacking objects:  77% (24/31)   \rUnpacking objects:  80% (25/31)   \rUnpacking objects:  83% (26/31)   \rUnpacking objects:  87% (27/31)   \rUnpacking objects:  90% (28/31)   \rUnpacking objects:  93% (29/31)   \rUnpacking objects:  96% (30/31)   \rUnpacking objects: 100% (31/31)   \rUnpacking objects: 100% (31/31), done.\n"
          ],
          "name": "stdout"
        }
      ]
    },
    {
      "cell_type": "code",
      "metadata": {
        "id": "PuqUeJibyFsI",
        "colab_type": "code",
        "outputId": "3aa91c34-d2a0-4c2f-d320-4c61d69bc1b3",
        "colab": {
          "base_uri": "https://localhost:8080/",
          "height": 102
        }
      },
      "source": [
        "!git clone https://github.com/tensorflow/playground.git"
      ],
      "execution_count": 42,
      "outputs": [
        {
          "output_type": "stream",
          "text": [
            "Cloning into 'playground'...\n",
            "remote: Enumerating objects: 1223, done.\u001b[K\n",
            "Receiving objects:   0% (1/1223)   \rReceiving objects:   1% (13/1223)   \rReceiving objects:   2% (25/1223)   \rReceiving objects:   3% (37/1223)   \rReceiving objects:   4% (49/1223)   \rReceiving objects:   5% (62/1223)   \rReceiving objects:   6% (74/1223)   \rReceiving objects:   7% (86/1223)   \rReceiving objects:   8% (98/1223)   \rReceiving objects:   9% (111/1223)   \rReceiving objects:  10% (123/1223)   \rReceiving objects:  11% (135/1223)   \rReceiving objects:  12% (147/1223)   \rReceiving objects:  13% (159/1223)   \rReceiving objects:  14% (172/1223)   \rReceiving objects:  15% (184/1223)   \rReceiving objects:  16% (196/1223)   \rReceiving objects:  17% (208/1223)   \rReceiving objects:  18% (221/1223)   \rReceiving objects:  19% (233/1223)   \rReceiving objects:  20% (245/1223)   \rReceiving objects:  21% (257/1223)   \rReceiving objects:  22% (270/1223)   \rReceiving objects:  23% (282/1223)   \rReceiving objects:  24% (294/1223)   \rReceiving objects:  25% (306/1223)   \rReceiving objects:  26% (318/1223)   \rReceiving objects:  27% (331/1223)   \rReceiving objects:  28% (343/1223)   \rReceiving objects:  29% (355/1223)   \rReceiving objects:  30% (367/1223)   \rReceiving objects:  31% (380/1223)   \rReceiving objects:  32% (392/1223)   \rReceiving objects:  33% (404/1223)   \rReceiving objects:  34% (416/1223)   \rReceiving objects:  35% (429/1223)   \rReceiving objects:  36% (441/1223)   \rReceiving objects:  37% (453/1223)   \rReceiving objects:  38% (465/1223)   \rReceiving objects:  39% (477/1223)   \rReceiving objects:  40% (490/1223)   \rReceiving objects:  41% (502/1223)   \rReceiving objects:  42% (514/1223)   \rReceiving objects:  43% (526/1223)   \rReceiving objects:  44% (539/1223)   \rReceiving objects:  45% (551/1223)   \rReceiving objects:  46% (563/1223)   \rReceiving objects:  47% (575/1223)   \rReceiving objects:  48% (588/1223)   \rReceiving objects:  49% (600/1223)   \rReceiving objects:  50% (612/1223)   \rReceiving objects:  51% (624/1223)   \rReceiving objects:  52% (636/1223)   \rReceiving objects:  53% (649/1223)   \rReceiving objects:  54% (661/1223)   \rReceiving objects:  55% (673/1223)   \rReceiving objects:  56% (685/1223)   \rReceiving objects:  57% (698/1223)   \rReceiving objects:  58% (710/1223)   \rReceiving objects:  59% (722/1223)   \rReceiving objects:  60% (734/1223)   \rReceiving objects:  61% (747/1223)   \rReceiving objects:  62% (759/1223)   \rReceiving objects:  63% (771/1223)   \rReceiving objects:  64% (783/1223)   \rReceiving objects:  65% (795/1223)   \rReceiving objects:  66% (808/1223)   \rReceiving objects:  67% (820/1223)   \rReceiving objects:  68% (832/1223)   \rReceiving objects:  69% (844/1223)   \rReceiving objects:  70% (857/1223)   \rReceiving objects:  71% (869/1223)   \rReceiving objects:  72% (881/1223)   \rReceiving objects:  73% (893/1223)   \rReceiving objects:  74% (906/1223)   \rReceiving objects:  75% (918/1223)   \rremote: Total 1223 (delta 0), reused 0 (delta 0), pack-reused 1223\u001b[K\n",
            "Receiving objects:  76% (930/1223)   \rReceiving objects:  77% (942/1223)   \rReceiving objects:  78% (954/1223)   \rReceiving objects:  79% (967/1223)   \rReceiving objects:  80% (979/1223)   \rReceiving objects:  81% (991/1223)   \rReceiving objects:  82% (1003/1223)   \rReceiving objects:  83% (1016/1223)   \rReceiving objects:  84% (1028/1223)   \rReceiving objects:  85% (1040/1223)   \rReceiving objects:  86% (1052/1223)   \rReceiving objects:  87% (1065/1223)   \rReceiving objects:  88% (1077/1223)   \rReceiving objects:  89% (1089/1223)   \rReceiving objects:  90% (1101/1223)   \rReceiving objects:  91% (1113/1223)   \rReceiving objects:  92% (1126/1223)   \rReceiving objects:  93% (1138/1223)   \rReceiving objects:  94% (1150/1223)   \rReceiving objects:  95% (1162/1223)   \rReceiving objects:  96% (1175/1223)   \rReceiving objects:  97% (1187/1223)   \rReceiving objects:  98% (1199/1223)   \rReceiving objects:  99% (1211/1223)   \rReceiving objects: 100% (1223/1223)   \rReceiving objects: 100% (1223/1223), 1.17 MiB | 9.44 MiB/s, done.\n",
            "Resolving deltas:   0% (0/770)   \rResolving deltas:   1% (15/770)   \rResolving deltas:   2% (18/770)   \rResolving deltas:   3% (24/770)   \rResolving deltas:   4% (34/770)   \rResolving deltas:   5% (41/770)   \rResolving deltas:   6% (52/770)   \rResolving deltas:   8% (62/770)   \rResolving deltas:   9% (75/770)   \rResolving deltas:  12% (95/770)   \rResolving deltas:  20% (156/770)   \rResolving deltas:  22% (170/770)   \rResolving deltas:  23% (181/770)   \rResolving deltas:  25% (194/770)   \rResolving deltas:  26% (202/770)   \rResolving deltas:  29% (230/770)   \rResolving deltas:  30% (231/770)   \rResolving deltas:  31% (240/770)   \rResolving deltas:  40% (315/770)   \rResolving deltas:  41% (317/770)   \rResolving deltas:  43% (335/770)   \rResolving deltas:  44% (344/770)   \rResolving deltas:  45% (354/770)   \rResolving deltas:  46% (355/770)   \rResolving deltas:  48% (370/770)   \rResolving deltas:  50% (385/770)   \rResolving deltas:  51% (397/770)   \rResolving deltas:  52% (401/770)   \rResolving deltas:  61% (476/770)   \rResolving deltas:  62% (479/770)   \rResolving deltas:  63% (486/770)   \rResolving deltas:  64% (493/770)   \rResolving deltas:  72% (562/770)   \rResolving deltas:  73% (566/770)   \rResolving deltas:  80% (622/770)   \rResolving deltas:  81% (625/770)   \rResolving deltas:  85% (656/770)   \rResolving deltas:  92% (710/770)   \rResolving deltas:  94% (728/770)   \rResolving deltas:  97% (750/770)   \rResolving deltas:  98% (758/770)   \rResolving deltas:  99% (766/770)   \rResolving deltas: 100% (770/770)   \rResolving deltas: 100% (770/770), done.\n"
          ],
          "name": "stdout"
        }
      ]
    },
    {
      "cell_type": "code",
      "metadata": {
        "id": "O7IyUdsbyJcS",
        "colab_type": "code",
        "outputId": "2b0afc85-1ce5-4a72-b40c-550442e864ff",
        "colab": {
          "base_uri": "https://localhost:8080/",
          "height": 136
        }
      },
      "source": [
        "!git clone https://github.com/pytorch/vision.git\n"
      ],
      "execution_count": 43,
      "outputs": [
        {
          "output_type": "stream",
          "text": [
            "Cloning into 'vision'...\n",
            "remote: Enumerating objects: 3, done.\u001b[K\n",
            "remote: Counting objects: 100% (3/3), done.\u001b[K\n",
            "remote: Compressing objects: 100% (3/3), done.\u001b[K\n",
            "remote: Total 5936 (delta 0), reused 2 (delta 0), pack-reused 5933\u001b[K\n",
            "Receiving objects: 100% (5936/5936), 9.52 MiB | 16.64 MiB/s, done.\n",
            "Resolving deltas: 100% (3946/3946), done.\n"
          ],
          "name": "stdout"
        }
      ]
    },
    {
      "cell_type": "code",
      "metadata": {
        "id": "ZS_-5x7lzK5A",
        "colab_type": "code",
        "outputId": "572bf433-5b97-4b12-f828-b4889c471a7f",
        "colab": {
          "base_uri": "https://localhost:8080/",
          "height": 102
        }
      },
      "source": [
        "!git clone https://github.com/ry/tensorflow-resnet.git"
      ],
      "execution_count": 44,
      "outputs": [
        {
          "output_type": "stream",
          "text": [
            "Cloning into 'tensorflow-resnet'...\n",
            "remote: Enumerating objects: 294, done.\u001b[K\n",
            "Receiving objects:   0% (1/294)   \rReceiving objects:   1% (3/294)   \rReceiving objects:   2% (6/294)   \rReceiving objects:   3% (9/294)   \rReceiving objects:   4% (12/294)   \rReceiving objects:   5% (15/294)   \rReceiving objects:   6% (18/294)   \rReceiving objects:   7% (21/294)   \rReceiving objects:   8% (24/294)   \rReceiving objects:   9% (27/294)   \rReceiving objects:  10% (30/294)   \rReceiving objects:  11% (33/294)   \rReceiving objects:  12% (36/294)   \rReceiving objects:  13% (39/294)   \rReceiving objects:  14% (42/294)   \rReceiving objects:  15% (45/294)   \rReceiving objects:  16% (48/294)   \rReceiving objects:  17% (50/294)   \rReceiving objects:  18% (53/294)   \rReceiving objects:  19% (56/294)   \rReceiving objects:  20% (59/294)   \rReceiving objects:  21% (62/294)   \rReceiving objects:  22% (65/294)   \rReceiving objects:  23% (68/294)   \rReceiving objects:  24% (71/294)   \rReceiving objects:  25% (74/294)   \rReceiving objects:  26% (77/294)   \rReceiving objects:  27% (80/294)   \rReceiving objects:  28% (83/294)   \rReceiving objects:  29% (86/294)   \rReceiving objects:  30% (89/294)   \rReceiving objects:  31% (92/294)   \rReceiving objects:  32% (95/294)   \rReceiving objects:  33% (98/294)   \rReceiving objects:  34% (100/294)   \rReceiving objects:  35% (103/294)   \rReceiving objects:  36% (106/294)   \rReceiving objects:  37% (109/294)   \rReceiving objects:  38% (112/294)   \rReceiving objects:  39% (115/294)   \rReceiving objects:  40% (118/294)   \rReceiving objects:  41% (121/294)   \rReceiving objects:  42% (124/294)   \rReceiving objects:  43% (127/294)   \rReceiving objects:  44% (130/294)   \rReceiving objects:  45% (133/294)   \rReceiving objects:  46% (136/294)   \rReceiving objects:  47% (139/294)   \rReceiving objects:  48% (142/294)   \rReceiving objects:  49% (145/294)   \rReceiving objects:  50% (147/294)   \rReceiving objects:  51% (150/294)   \rReceiving objects:  52% (153/294)   \rReceiving objects:  53% (156/294)   \rReceiving objects:  54% (159/294)   \rReceiving objects:  55% (162/294)   \rReceiving objects:  56% (165/294)   \rReceiving objects:  57% (168/294)   \rReceiving objects:  58% (171/294)   \rReceiving objects:  59% (174/294)   \rReceiving objects:  60% (177/294)   \rReceiving objects:  61% (180/294)   \rReceiving objects:  62% (183/294)   \rReceiving objects:  63% (186/294)   \rReceiving objects:  64% (189/294)   \rReceiving objects:  65% (192/294)   \rReceiving objects:  66% (195/294)   \rReceiving objects:  67% (197/294)   \rReceiving objects:  68% (200/294)   \rReceiving objects:  69% (203/294)   \rReceiving objects:  70% (206/294)   \rReceiving objects:  71% (209/294)   \rReceiving objects:  72% (212/294)   \rReceiving objects:  73% (215/294)   \rReceiving objects:  74% (218/294)   \rReceiving objects:  75% (221/294)   \rReceiving objects:  76% (224/294)   \rReceiving objects:  77% (227/294)   \rReceiving objects:  78% (230/294)   \rReceiving objects:  79% (233/294)   \rReceiving objects:  80% (236/294)   \rReceiving objects:  81% (239/294)   \rReceiving objects:  82% (242/294)   \rReceiving objects:  83% (245/294)   \rremote: Total 294 (delta 0), reused 0 (delta 0), pack-reused 294\u001b[K\n",
            "Receiving objects:  84% (247/294)   \rReceiving objects:  85% (250/294)   \rReceiving objects:  86% (253/294)   \rReceiving objects:  87% (256/294)   \rReceiving objects:  88% (259/294)   \rReceiving objects:  89% (262/294)   \rReceiving objects:  90% (265/294)   \rReceiving objects:  91% (268/294)   \rReceiving objects:  92% (271/294)   \rReceiving objects:  93% (274/294)   \rReceiving objects:  94% (277/294)   \rReceiving objects:  95% (280/294)   \rReceiving objects:  96% (283/294)   \rReceiving objects:  97% (286/294)   \rReceiving objects:  98% (289/294)   \rReceiving objects:  99% (292/294)   \rReceiving objects: 100% (294/294)   \rReceiving objects: 100% (294/294), 1.39 MiB | 9.37 MiB/s, done.\n",
            "Resolving deltas:   0% (0/162)   \rResolving deltas:   2% (4/162)   \rResolving deltas:   3% (6/162)   \rResolving deltas:   4% (8/162)   \rResolving deltas:   8% (13/162)   \rResolving deltas:  14% (24/162)   \rResolving deltas:  19% (31/162)   \rResolving deltas:  21% (35/162)   \rResolving deltas:  28% (46/162)   \rResolving deltas:  29% (47/162)   \rResolving deltas:  30% (50/162)   \rResolving deltas:  31% (51/162)   \rResolving deltas:  39% (64/162)   \rResolving deltas:  41% (68/162)   \rResolving deltas:  43% (70/162)   \rResolving deltas:  52% (85/162)   \rResolving deltas:  53% (86/162)   \rResolving deltas:  54% (88/162)   \rResolving deltas:  55% (90/162)   \rResolving deltas:  59% (97/162)   \rResolving deltas:  61% (100/162)   \rResolving deltas:  64% (104/162)   \rResolving deltas:  65% (106/162)   \rResolving deltas:  66% (107/162)   \rResolving deltas:  67% (109/162)   \rResolving deltas:  69% (112/162)   \rResolving deltas:  70% (114/162)   \rResolving deltas:  72% (117/162)   \rResolving deltas:  85% (139/162)   \rResolving deltas:  93% (152/162)   \rResolving deltas:  94% (153/162)   \rResolving deltas:  95% (154/162)   \rResolving deltas:  96% (157/162)   \rResolving deltas:  99% (161/162)   \rResolving deltas: 100% (162/162)   \rResolving deltas: 100% (162/162), done.\n"
          ],
          "name": "stdout"
        }
      ]
    },
    {
      "cell_type": "code",
      "metadata": {
        "id": "xpQJ2ZJfzyrp",
        "colab_type": "code",
        "outputId": "d274bc5e-d655-4906-e737-eda488632b8b",
        "colab": {
          "base_uri": "https://localhost:8080/",
          "height": 136
        }
      },
      "source": [
        "!git clone https://github.com/tensorflow/swift-models.git"
      ],
      "execution_count": 45,
      "outputs": [
        {
          "output_type": "stream",
          "text": [
            "Cloning into 'swift-models'...\n",
            "remote: Enumerating objects: 10, done.\u001b[K\n",
            "remote: Counting objects:  10% (1/10)\u001b[K\rremote: Counting objects:  20% (2/10)\u001b[K\rremote: Counting objects:  30% (3/10)\u001b[K\rremote: Counting objects:  40% (4/10)\u001b[K\rremote: Counting objects:  50% (5/10)\u001b[K\rremote: Counting objects:  60% (6/10)\u001b[K\rremote: Counting objects:  70% (7/10)\u001b[K\rremote: Counting objects:  80% (8/10)\u001b[K\rremote: Counting objects:  90% (9/10)\u001b[K\rremote: Counting objects: 100% (10/10)\u001b[K\rremote: Counting objects: 100% (10/10), done.\u001b[K\n",
            "remote: Compressing objects: 100% (9/9), done.\u001b[K\n",
            "remote: Total 1408 (delta 0), reused 4 (delta 0), pack-reused 1398\u001b[K\n",
            "Receiving objects: 100% (1408/1408), 16.47 MiB | 20.69 MiB/s, done.\n",
            "Resolving deltas: 100% (775/775), done.\n"
          ],
          "name": "stdout"
        }
      ]
    },
    {
      "cell_type": "code",
      "metadata": {
        "id": "Yi48YLYiz3kp",
        "colab_type": "code",
        "outputId": "2ab8a581-ad74-4dc7-deef-ac88346d6062",
        "colab": {
          "base_uri": "https://localhost:8080/",
          "height": 136
        }
      },
      "source": [
        "!git clone https://github.com/tensorflow/lattice.git"
      ],
      "execution_count": 46,
      "outputs": [
        {
          "output_type": "stream",
          "text": [
            "Cloning into 'lattice'...\n",
            "remote: Enumerating objects: 86, done.\u001b[K\n",
            "remote: Counting objects:   1% (1/86)\u001b[K\rremote: Counting objects:   2% (2/86)\u001b[K\rremote: Counting objects:   3% (3/86)\u001b[K\rremote: Counting objects:   4% (4/86)\u001b[K\rremote: Counting objects:   5% (5/86)\u001b[K\rremote: Counting objects:   6% (6/86)\u001b[K\rremote: Counting objects:   8% (7/86)\u001b[K\rremote: Counting objects:   9% (8/86)\u001b[K\rremote: Counting objects:  10% (9/86)\u001b[K\rremote: Counting objects:  11% (10/86)\u001b[K\rremote: Counting objects:  12% (11/86)\u001b[K\rremote: Counting objects:  13% (12/86)\u001b[K\rremote: Counting objects:  15% (13/86)\u001b[K\rremote: Counting objects:  16% (14/86)\u001b[K\rremote: Counting objects:  17% (15/86)\u001b[K\rremote: Counting objects:  18% (16/86)\u001b[K\rremote: Counting objects:  19% (17/86)\u001b[K\rremote: Counting objects:  20% (18/86)\u001b[K\rremote: Counting objects:  22% (19/86)\u001b[K\rremote: Counting objects:  23% (20/86)\u001b[K\rremote: Counting objects:  24% (21/86)\u001b[K\rremote: Counting objects:  25% (22/86)\u001b[K\rremote: Counting objects:  26% (23/86)\u001b[K\rremote: Counting objects:  27% (24/86)\u001b[K\rremote: Counting objects:  29% (25/86)\u001b[K\rremote: Counting objects:  30% (26/86)\u001b[K\rremote: Counting objects:  31% (27/86)\u001b[K\rremote: Counting objects:  32% (28/86)\u001b[K\rremote: Counting objects:  33% (29/86)\u001b[K\rremote: Counting objects:  34% (30/86)\u001b[K\rremote: Counting objects:  36% (31/86)\u001b[K\rremote: Counting objects:  37% (32/86)\u001b[K\rremote: Counting objects:  38% (33/86)\u001b[K\rremote: Counting objects:  39% (34/86)\u001b[K\rremote: Counting objects:  40% (35/86)\u001b[K\rremote: Counting objects:  41% (36/86)\u001b[K\rremote: Counting objects:  43% (37/86)\u001b[K\rremote: Counting objects:  44% (38/86)\u001b[K\rremote: Counting objects:  45% (39/86)\u001b[K\rremote: Counting objects:  46% (40/86)\u001b[K\rremote: Counting objects:  47% (41/86)\u001b[K\rremote: Counting objects:  48% (42/86)\u001b[K\rremote: Counting objects:  50% (43/86)\u001b[K\rremote: Counting objects:  51% (44/86)\u001b[K\rremote: Counting objects:  52% (45/86)\u001b[K\rremote: Counting objects:  53% (46/86)\u001b[K\rremote: Counting objects:  54% (47/86)\u001b[K\rremote: Counting objects:  55% (48/86)\u001b[K\rremote: Counting objects:  56% (49/86)\u001b[K\rremote: Counting objects:  58% (50/86)\u001b[K\rremote: Counting objects:  59% (51/86)\u001b[K\rremote: Counting objects:  60% (52/86)\u001b[K\rremote: Counting objects:  61% (53/86)\u001b[K\rremote: Counting objects:  62% (54/86)\u001b[K\rremote: Counting objects:  63% (55/86)\u001b[K\rremote: Counting objects:  65% (56/86)\u001b[K\rremote: Counting objects:  66% (57/86)\u001b[K\rremote: Counting objects:  67% (58/86)\u001b[K\rremote: Counting objects:  68% (59/86)\u001b[K\rremote: Counting objects:  69% (60/86)\u001b[K\rremote: Counting objects:  70% (61/86)\u001b[K\rremote: Counting objects:  72% (62/86)\u001b[K\rremote: Counting objects:  73% (63/86)\u001b[K\rremote: Counting objects:  74% (64/86)\u001b[K\rremote: Counting objects:  75% (65/86)\u001b[K\rremote: Counting objects:  76% (66/86)\u001b[K\rremote: Counting objects:  77% (67/86)\u001b[K\rremote: Counting objects:  79% (68/86)\u001b[K\rremote: Counting objects:  80% (69/86)\u001b[K\rremote: Counting objects:  81% (70/86)\u001b[K\rremote: Counting objects:  82% (71/86)\u001b[K\rremote: Counting objects:  83% (72/86)\u001b[K\rremote: Counting objects:  84% (73/86)\u001b[K\rremote: Counting objects:  86% (74/86)\u001b[K\rremote: Counting objects:  87% (75/86)\u001b[K\rremote: Counting objects:  88% (76/86)\u001b[K\rremote: Counting objects:  89% (77/86)\u001b[K\rremote: Counting objects:  90% (78/86)\u001b[K\rremote: Counting objects:  91% (79/86)\u001b[K\rremote: Counting objects:  93% (80/86)\u001b[K\rremote: Counting objects:  94% (81/86)\u001b[K\rremote: Counting objects:  95% (82/86)\u001b[K\rremote: Counting objects:  96% (83/86)\u001b[K\rremote: Counting objects:  97% (84/86)\u001b[K\rremote: Counting objects:  98% (85/86)\u001b[K\rremote: Counting objects: 100% (86/86)\u001b[K\rremote: Counting objects: 100% (86/86), done.\u001b[K\n",
            "remote: Compressing objects: 100% (83/83), done.\u001b[K\n",
            "remote: Total 609 (delta 25), reused 23 (delta 3), pack-reused 523\u001b[K\n",
            "Receiving objects: 100% (609/609), 849.63 KiB | 8.17 MiB/s, done.\n",
            "Resolving deltas: 100% (332/332), done.\n"
          ],
          "name": "stdout"
        }
      ]
    },
    {
      "cell_type": "code",
      "metadata": {
        "id": "2edQA8J0Vw5L",
        "colab_type": "code",
        "outputId": "df10f67e-f5e7-4285-a225-c489951bf1df",
        "colab": {
          "base_uri": "https://localhost:8080/",
          "height": 102
        }
      },
      "source": [
        "!git clone https://github.com/dipanjanS/hands-on-transfer-learning-with-python.git"
      ],
      "execution_count": 47,
      "outputs": [
        {
          "output_type": "stream",
          "text": [
            "Cloning into 'hands-on-transfer-learning-with-python'...\n",
            "remote: Enumerating objects: 184, done.\u001b[K\n",
            "remote: Total 184 (delta 0), reused 0 (delta 0), pack-reused 184\u001b[K\n",
            "Receiving objects: 100% (184/184), 38.33 MiB | 34.89 MiB/s, done.\n",
            "Resolving deltas: 100% (40/40), done.\n"
          ],
          "name": "stdout"
        }
      ]
    },
    {
      "cell_type": "code",
      "metadata": {
        "id": "d6_goA7bVytW",
        "colab_type": "code",
        "outputId": "8120ef39-496b-40f2-ba8e-e99273af38ba",
        "colab": {
          "base_uri": "https://localhost:8080/",
          "height": 119
        }
      },
      "source": [
        "!git clone https://github.com/huggingface/transfer-learning-conv-ai.git"
      ],
      "execution_count": 48,
      "outputs": [
        {
          "output_type": "stream",
          "text": [
            "Cloning into 'transfer-learning-conv-ai'...\n",
            "remote: Enumerating objects: 3, done.\u001b[K\n",
            "remote: Counting objects:  33% (1/3)\u001b[K\rremote: Counting objects:  66% (2/3)\u001b[K\rremote: Counting objects: 100% (3/3)\u001b[K\rremote: Counting objects: 100% (3/3), done.\u001b[K\n",
            "remote: Compressing objects:  33% (1/3)\u001b[K\rremote: Compressing objects:  66% (2/3)\u001b[K\rremote: Compressing objects: 100% (3/3)\u001b[K\rremote: Compressing objects: 100% (3/3), done.\u001b[K\n",
            "Unpacking objects:   1% (1/99)   \rUnpacking objects:   2% (2/99)   \rUnpacking objects:   3% (3/99)   \rUnpacking objects:   4% (4/99)   \rUnpacking objects:   5% (5/99)   \rUnpacking objects:   6% (6/99)   \rUnpacking objects:   7% (7/99)   \rUnpacking objects:   8% (8/99)   \rUnpacking objects:   9% (9/99)   \rUnpacking objects:  10% (10/99)   \rUnpacking objects:  11% (11/99)   \rUnpacking objects:  12% (12/99)   \rUnpacking objects:  13% (13/99)   \rUnpacking objects:  14% (14/99)   \rUnpacking objects:  15% (15/99)   \rUnpacking objects:  16% (16/99)   \rUnpacking objects:  17% (17/99)   \rUnpacking objects:  18% (18/99)   \rUnpacking objects:  19% (19/99)   \rUnpacking objects:  20% (20/99)   \rUnpacking objects:  21% (21/99)   \rUnpacking objects:  22% (22/99)   \rUnpacking objects:  23% (23/99)   \rUnpacking objects:  24% (24/99)   \rUnpacking objects:  25% (25/99)   \rUnpacking objects:  26% (26/99)   \rUnpacking objects:  27% (27/99)   \rUnpacking objects:  28% (28/99)   \rUnpacking objects:  29% (29/99)   \rUnpacking objects:  30% (30/99)   \rUnpacking objects:  31% (31/99)   \rUnpacking objects:  32% (32/99)   \rremote: Total 99 (delta 0), reused 0 (delta 0), pack-reused 96\u001b[K\n",
            "Unpacking objects:  33% (33/99)   \rUnpacking objects:  34% (34/99)   \rUnpacking objects:  35% (35/99)   \rUnpacking objects:  36% (36/99)   \rUnpacking objects:  37% (37/99)   \rUnpacking objects:  38% (38/99)   \rUnpacking objects:  39% (39/99)   \rUnpacking objects:  40% (40/99)   \rUnpacking objects:  41% (41/99)   \rUnpacking objects:  42% (42/99)   \rUnpacking objects:  43% (43/99)   \rUnpacking objects:  44% (44/99)   \rUnpacking objects:  45% (45/99)   \rUnpacking objects:  46% (46/99)   \rUnpacking objects:  47% (47/99)   \rUnpacking objects:  48% (48/99)   \rUnpacking objects:  49% (49/99)   \rUnpacking objects:  50% (50/99)   \rUnpacking objects:  51% (51/99)   \rUnpacking objects:  52% (52/99)   \rUnpacking objects:  53% (53/99)   \rUnpacking objects:  54% (54/99)   \rUnpacking objects:  55% (55/99)   \rUnpacking objects:  56% (56/99)   \rUnpacking objects:  57% (57/99)   \rUnpacking objects:  58% (58/99)   \rUnpacking objects:  59% (59/99)   \rUnpacking objects:  60% (60/99)   \rUnpacking objects:  61% (61/99)   \rUnpacking objects:  62% (62/99)   \rUnpacking objects:  63% (63/99)   \rUnpacking objects:  64% (64/99)   \rUnpacking objects:  65% (65/99)   \rUnpacking objects:  66% (66/99)   \rUnpacking objects:  67% (67/99)   \rUnpacking objects:  68% (68/99)   \rUnpacking objects:  69% (69/99)   \rUnpacking objects:  70% (70/99)   \rUnpacking objects:  71% (71/99)   \rUnpacking objects:  72% (72/99)   \rUnpacking objects:  73% (73/99)   \rUnpacking objects:  74% (74/99)   \rUnpacking objects:  75% (75/99)   \rUnpacking objects:  76% (76/99)   \rUnpacking objects:  77% (77/99)   \rUnpacking objects:  78% (78/99)   \rUnpacking objects:  79% (79/99)   \rUnpacking objects:  80% (80/99)   \rUnpacking objects:  81% (81/99)   \rUnpacking objects:  82% (82/99)   \rUnpacking objects:  83% (83/99)   \rUnpacking objects:  84% (84/99)   \rUnpacking objects:  85% (85/99)   \rUnpacking objects:  86% (86/99)   \rUnpacking objects:  87% (87/99)   \rUnpacking objects:  88% (88/99)   \rUnpacking objects:  89% (89/99)   \rUnpacking objects:  90% (90/99)   \rUnpacking objects:  91% (91/99)   \rUnpacking objects:  92% (92/99)   \rUnpacking objects:  93% (93/99)   \rUnpacking objects:  94% (94/99)   \rUnpacking objects:  95% (95/99)   \rUnpacking objects:  96% (96/99)   \rUnpacking objects:  97% (97/99)   \rUnpacking objects:  98% (98/99)   \rUnpacking objects: 100% (99/99)   \rUnpacking objects: 100% (99/99), done.\n"
          ],
          "name": "stdout"
        }
      ]
    },
    {
      "cell_type": "code",
      "metadata": {
        "id": "QEDQKX8hWLlQ",
        "colab_type": "code",
        "outputId": "c7e423d7-707f-4cee-fb01-8796b007fcc7",
        "colab": {
          "base_uri": "https://localhost:8080/",
          "height": 119
        }
      },
      "source": [
        "!git clone https://github.com/vishalprabha/Image-Classification-Transfer-Learning-with-Inception-v3.git"
      ],
      "execution_count": 49,
      "outputs": [
        {
          "output_type": "stream",
          "text": [
            "Cloning into 'Image-Classification-Transfer-Learning-with-Inception-v3'...\n",
            "remote: Enumerating objects: 3701, done.\u001b[K\n",
            "remote: Total 3701 (delta 0), reused 0 (delta 0), pack-reused 3701\u001b[K\n",
            "Receiving objects: 100% (3701/3701), 218.76 MiB | 49.28 MiB/s, done.\n",
            "Resolving deltas: 100% (7/7), done.\n",
            "Checking out files: 100% (3684/3684), done.\n"
          ],
          "name": "stdout"
        }
      ]
    },
    {
      "cell_type": "code",
      "metadata": {
        "id": "49aPb2RiWiPf",
        "colab_type": "code",
        "outputId": "06c6e415-2d38-4184-aa82-22dc8e985968",
        "colab": {
          "base_uri": "https://localhost:8080/",
          "height": 85
        }
      },
      "source": [
        "!git clone https://github.com/VikasSinghBhadouria/Image-Classification-using-VGG-transfer-learning.git"
      ],
      "execution_count": 50,
      "outputs": [
        {
          "output_type": "stream",
          "text": [
            "Cloning into 'Image-Classification-using-VGG-transfer-learning'...\n",
            "remote: Enumerating objects: 6, done.\u001b[K\n",
            "remote: Total 6 (delta 0), reused 0 (delta 0), pack-reused 6\u001b[K\n",
            "Unpacking objects:  16% (1/6)   \rUnpacking objects:  33% (2/6)   \rUnpacking objects:  50% (3/6)   \rUnpacking objects:  66% (4/6)   \rUnpacking objects:  83% (5/6)   \rUnpacking objects: 100% (6/6)   \rUnpacking objects: 100% (6/6), done.\n"
          ],
          "name": "stdout"
        }
      ]
    },
    {
      "cell_type": "code",
      "metadata": {
        "id": "K-wEBp32WskA",
        "colab_type": "code",
        "outputId": "d7022e81-b00e-49c0-cf46-91f7f68abb51",
        "colab": {
          "base_uri": "https://localhost:8080/",
          "height": 85
        }
      },
      "source": [
        "!git clone https://github.com/google/inception.git"
      ],
      "execution_count": 51,
      "outputs": [
        {
          "output_type": "stream",
          "text": [
            "Cloning into 'inception'...\n",
            "remote: Enumerating objects: 20, done.\u001b[K\n",
            "remote: Total 20 (delta 0), reused 0 (delta 0), pack-reused 20\u001b[K\n",
            "Unpacking objects: 100% (20/20), done.\n"
          ],
          "name": "stdout"
        }
      ]
    },
    {
      "cell_type": "code",
      "metadata": {
        "id": "81RrJbMfW_vX",
        "colab_type": "code",
        "outputId": "373d1ed5-4feb-4bb4-eae6-7b1faddaab4b",
        "colab": {
          "base_uri": "https://localhost:8080/",
          "height": 85
        }
      },
      "source": [
        "!git clone https://github.com/EN10/KerasModels.git"
      ],
      "execution_count": 52,
      "outputs": [
        {
          "output_type": "stream",
          "text": [
            "Cloning into 'KerasModels'...\n",
            "remote: Enumerating objects: 25, done.\u001b[K\n",
            "Unpacking objects:   4% (1/25)   \rUnpacking objects:   8% (2/25)   \rUnpacking objects:  12% (3/25)   \rUnpacking objects:  16% (4/25)   \rUnpacking objects:  20% (5/25)   \rUnpacking objects:  24% (6/25)   \rUnpacking objects:  28% (7/25)   \rUnpacking objects:  32% (8/25)   \rUnpacking objects:  36% (9/25)   \rremote: Total 25 (delta 0), reused 0 (delta 0), pack-reused 25\u001b[K\n",
            "Unpacking objects:  40% (10/25)   \rUnpacking objects:  44% (11/25)   \rUnpacking objects:  48% (12/25)   \rUnpacking objects:  52% (13/25)   \rUnpacking objects:  56% (14/25)   \rUnpacking objects:  60% (15/25)   \rUnpacking objects:  64% (16/25)   \rUnpacking objects:  68% (17/25)   \rUnpacking objects:  72% (18/25)   \rUnpacking objects:  76% (19/25)   \rUnpacking objects:  80% (20/25)   \rUnpacking objects:  84% (21/25)   \rUnpacking objects:  88% (22/25)   \rUnpacking objects:  92% (23/25)   \rUnpacking objects:  96% (24/25)   \rUnpacking objects: 100% (25/25)   \rUnpacking objects: 100% (25/25), done.\n"
          ],
          "name": "stdout"
        }
      ]
    },
    {
      "cell_type": "code",
      "metadata": {
        "id": "6qoMggpeZey2",
        "colab_type": "code",
        "outputId": "fdfea793-94ab-4d73-a298-9bc423b0971b",
        "colab": {
          "base_uri": "https://localhost:8080/",
          "height": 85
        }
      },
      "source": [
        "!git clone https://github.com/alexwolf22/tensor2tensor_translator.git"
      ],
      "execution_count": 53,
      "outputs": [
        {
          "output_type": "stream",
          "text": [
            "Cloning into 'tensor2tensor_translator'...\n",
            "remote: Enumerating objects: 15, done.\u001b[K\n",
            "Unpacking objects:   6% (1/15)   \rUnpacking objects:  13% (2/15)   \rUnpacking objects:  20% (3/15)   \rUnpacking objects:  26% (4/15)   \rUnpacking objects:  33% (5/15)   \rUnpacking objects:  40% (6/15)   \rUnpacking objects:  46% (7/15)   \rremote: Total 15 (delta 0), reused 0 (delta 0), pack-reused 15\u001b[K\n",
            "Unpacking objects:  53% (8/15)   \rUnpacking objects:  60% (9/15)   \rUnpacking objects:  66% (10/15)   \rUnpacking objects:  73% (11/15)   \rUnpacking objects:  80% (12/15)   \rUnpacking objects:  86% (13/15)   \rUnpacking objects:  93% (14/15)   \rUnpacking objects: 100% (15/15)   \rUnpacking objects: 100% (15/15), done.\n"
          ],
          "name": "stdout"
        }
      ]
    },
    {
      "cell_type": "code",
      "metadata": {
        "id": "pjwMaqstYvPK",
        "colab_type": "code",
        "colab": {}
      },
      "source": [
        "%load  https://colab.sandbox.google.com/github/tensorflow/docs/blob/master/site/en/tutorials/text/text_generation.ipynb"
      ],
      "execution_count": 0,
      "outputs": []
    },
    {
      "cell_type": "code",
      "metadata": {
        "id": "NgPA86jgXXff",
        "colab_type": "code",
        "outputId": "97022c2c-e9bc-463d-c208-7d4576f8f8cc",
        "colab": {
          "base_uri": "https://localhost:8080/",
          "height": 102
        }
      },
      "source": [
        "!git clone https://github.com/openai/gym.git"
      ],
      "execution_count": 55,
      "outputs": [
        {
          "output_type": "stream",
          "text": [
            "Cloning into 'gym'...\n",
            "remote: Enumerating objects: 10172, done.\u001b[K\n",
            "remote: Total 10172 (delta 0), reused 0 (delta 0), pack-reused 10172\n",
            "Receiving objects: 100% (10172/10172), 3.92 MiB | 16.34 MiB/s, done.\n",
            "Resolving deltas: 100% (6849/6849), done.\n"
          ],
          "name": "stdout"
        }
      ]
    },
    {
      "cell_type": "code",
      "metadata": {
        "id": "XItgXXKvXcaj",
        "colab_type": "code",
        "outputId": "dc112833-f7c8-413f-b96b-104435d4112f",
        "colab": {
          "base_uri": "https://localhost:8080/",
          "height": 85
        }
      },
      "source": [
        "!git clone https://github.com/MasazI/dqn-gym.git"
      ],
      "execution_count": 56,
      "outputs": [
        {
          "output_type": "stream",
          "text": [
            "Cloning into 'dqn-gym'...\n",
            "remote: Enumerating objects: 44, done.\u001b[K\n",
            "remote: Total 44 (delta 0), reused 0 (delta 0), pack-reused 44\u001b[K\n",
            "Unpacking objects: 100% (44/44), done.\n"
          ],
          "name": "stdout"
        }
      ]
    },
    {
      "cell_type": "code",
      "metadata": {
        "id": "6lU--azheMKH",
        "colab_type": "code",
        "colab": {}
      },
      "source": [
        "#!git clone https://github.com/dennybritz/reinforcement-learning.git"
      ],
      "execution_count": 0,
      "outputs": []
    },
    {
      "cell_type": "code",
      "metadata": {
        "id": "0JjZmWC_lqVD",
        "colab_type": "code",
        "outputId": "8bcafbf8-71bd-407f-c8ee-3a38362386d7",
        "colab": {
          "base_uri": "https://localhost:8080/",
          "height": 102
        }
      },
      "source": [
        "!git clone https://github.com/openai/baselines.git"
      ],
      "execution_count": 58,
      "outputs": [
        {
          "output_type": "stream",
          "text": [
            "Cloning into 'baselines'...\n",
            "remote: Enumerating objects: 3612, done.\u001b[K\n",
            "remote: Total 3612 (delta 0), reused 0 (delta 0), pack-reused 3612\u001b[K\n",
            "Receiving objects: 100% (3612/3612), 6.46 MiB | 27.21 MiB/s, done.\n",
            "Resolving deltas: 100% (2415/2415), done.\n"
          ],
          "name": "stdout"
        }
      ]
    },
    {
      "cell_type": "code",
      "metadata": {
        "id": "PwjubFLjmSSi",
        "colab_type": "code",
        "colab": {
          "base_uri": "https://localhost:8080/",
          "height": 102
        },
        "outputId": "8411ac63-8492-480d-b1be-d432ff46b2b5"
      },
      "source": [
        "!git clone https://github.com/kpzhang93/MTCNN_face_detection_alignment.git"
      ],
      "execution_count": 59,
      "outputs": [
        {
          "output_type": "stream",
          "text": [
            "Cloning into 'MTCNN_face_detection_alignment'...\n",
            "remote: Enumerating objects: 139, done.\u001b[K\n",
            "remote: Total 139 (delta 0), reused 0 (delta 0), pack-reused 139\u001b[K\n",
            "Receiving objects: 100% (139/139), 32.04 MiB | 38.15 MiB/s, done.\n",
            "Resolving deltas: 100% (51/51), done.\n"
          ],
          "name": "stdout"
        }
      ]
    },
    {
      "cell_type": "code",
      "metadata": {
        "id": "R4Ww1o-p30rU",
        "colab_type": "code",
        "colab": {
          "base_uri": "https://localhost:8080/",
          "height": 136
        },
        "outputId": "0af7d5ea-f6f2-413d-d6c2-b375f1f64151"
      },
      "source": [
        "!git clone https://github.com/krasserm/face-recognition.git"
      ],
      "execution_count": 60,
      "outputs": [
        {
          "output_type": "stream",
          "text": [
            "Cloning into 'face-recognition'...\n",
            "remote: Enumerating objects: 15, done.\u001b[K\n",
            "remote: Counting objects:   6% (1/15)\u001b[K\rremote: Counting objects:  13% (2/15)\u001b[K\rremote: Counting objects:  20% (3/15)\u001b[K\rremote: Counting objects:  26% (4/15)\u001b[K\rremote: Counting objects:  33% (5/15)\u001b[K\rremote: Counting objects:  40% (6/15)\u001b[K\rremote: Counting objects:  46% (7/15)\u001b[K\rremote: Counting objects:  53% (8/15)\u001b[K\rremote: Counting objects:  60% (9/15)\u001b[K\rremote: Counting objects:  66% (10/15)\u001b[K\rremote: Counting objects:  73% (11/15)\u001b[K\rremote: Counting objects:  80% (12/15)\u001b[K\rremote: Counting objects:  86% (13/15)\u001b[K\rremote: Counting objects:  93% (14/15)\u001b[K\rremote: Counting objects: 100% (15/15)\u001b[K\rremote: Counting objects: 100% (15/15), done.\u001b[K\n",
            "remote: Compressing objects: 100% (15/15), done.\u001b[K\n",
            "remote: Total 170 (delta 7), reused 2 (delta 0), pack-reused 155\u001b[K\n",
            "Receiving objects: 100% (170/170), 16.84 MiB | 34.57 MiB/s, done.\n",
            "Resolving deltas: 100% (25/25), done.\n"
          ],
          "name": "stdout"
        }
      ]
    },
    {
      "cell_type": "code",
      "metadata": {
        "id": "--qMjo6M34OJ",
        "colab_type": "code",
        "colab": {}
      },
      "source": [
        ""
      ],
      "execution_count": 0,
      "outputs": []
    }
  ]
}