{
  "nbformat": 4,
  "nbformat_minor": 0,
  "metadata": {
    "colab": {
      "name": "ImageCaptions.ipynb",
      "provenance": [],
      "collapsed_sections": [],
      "include_colab_link": true
    },
    "kernelspec": {
      "name": "python3",
      "display_name": "Python 3"
    },
    "accelerator": "TPU"
  },
  "cells": [
    {
      "cell_type": "markdown",
      "metadata": {
        "id": "view-in-github",
        "colab_type": "text"
      },
      "source": [
        "<a href=\"https://colab.research.google.com/github/wlin988/Colab/blob/master/ImageCaptions.ipynb\" target=\"_parent\"><img src=\"https://colab.research.google.com/assets/colab-badge.svg\" alt=\"Open In Colab\"/></a>"
      ]
    },
    {
      "cell_type": "code",
      "metadata": {
        "id": "A3B1starRY2g",
        "colab_type": "code",
        "outputId": "2437924c-91e4-4bc4-8699-a20318d2d465",
        "colab": {
          "base_uri": "https://localhost:8080/",
          "height": 122
        }
      },
      "source": [
        "from google.colab import drive\n",
        "drive.mount('/content/drive')"
      ],
      "execution_count": 1,
      "outputs": [
        {
          "output_type": "stream",
          "text": [
            "Go to this URL in a browser: https://accounts.google.com/o/oauth2/auth?client_id=947318989803-6bn6qk8qdgf4n4g3pfee6491hc0brc4i.apps.googleusercontent.com&redirect_uri=urn%3aietf%3awg%3aoauth%3a2.0%3aoob&response_type=code&scope=email%20https%3a%2f%2fwww.googleapis.com%2fauth%2fdocs.test%20https%3a%2f%2fwww.googleapis.com%2fauth%2fdrive%20https%3a%2f%2fwww.googleapis.com%2fauth%2fdrive.photos.readonly%20https%3a%2f%2fwww.googleapis.com%2fauth%2fpeopleapi.readonly\n",
            "\n",
            "Enter your authorization code:\n",
            "··········\n",
            "Mounted at /content/drive\n"
          ],
          "name": "stdout"
        }
      ]
    },
    {
      "cell_type": "code",
      "metadata": {
        "id": "9B4V8jC0j5pq",
        "colab_type": "code",
        "outputId": "484a918a-d0ab-4037-f468-13cddc73e6c7",
        "colab": {
          "base_uri": "https://localhost:8080/",
          "height": 102
        }
      },
      "source": [
        "!git clone https://github.com/DeepRNN/image_captioning.git\n"
      ],
      "execution_count": 2,
      "outputs": [
        {
          "output_type": "stream",
          "text": [
            "Cloning into 'image_captioning'...\n",
            "remote: Enumerating objects: 343, done.\u001b[K\n",
            "remote: Total 343 (delta 0), reused 0 (delta 0), pack-reused 343\u001b[K\n",
            "Receiving objects: 100% (343/343), 75.43 MiB | 49.23 MiB/s, done.\n",
            "Resolving deltas: 100% (150/150), done.\n"
          ],
          "name": "stdout"
        }
      ]
    },
    {
      "cell_type": "code",
      "metadata": {
        "id": "AYDeI3g3j71U",
        "colab_type": "code",
        "outputId": "1f7506fa-dc56-461d-9c36-bec94d74c040",
        "colab": {
          "base_uri": "https://localhost:8080/",
          "height": 102
        }
      },
      "source": [
        "!git clone https://github.com/Div99/Image-Captioning.git"
      ],
      "execution_count": 3,
      "outputs": [
        {
          "output_type": "stream",
          "text": [
            "Cloning into 'Image-Captioning'...\n",
            "remote: Enumerating objects: 464, done.\u001b[K\n",
            "remote: Total 464 (delta 0), reused 0 (delta 0), pack-reused 464\u001b[K\n",
            "Receiving objects: 100% (464/464), 1.21 MiB | 6.94 MiB/s, done.\n",
            "Resolving deltas: 100% (309/309), done.\n"
          ],
          "name": "stdout"
        }
      ]
    },
    {
      "cell_type": "code",
      "metadata": {
        "id": "DphTGYwumbdl",
        "colab_type": "code",
        "outputId": "99dd5e4b-7226-49e1-b8b3-08f7f4cd7ffc",
        "colab": {
          "base_uri": "https://localhost:8080/",
          "height": 136
        }
      },
      "source": [
        "!git clone https://github.com/tensorflow/tensor2tensor.git\n"
      ],
      "execution_count": 4,
      "outputs": [
        {
          "output_type": "stream",
          "text": [
            "Cloning into 'tensor2tensor'...\n",
            "remote: Enumerating objects: 20, done.\u001b[K\n",
            "remote: Counting objects:   5% (1/20)\u001b[K\rremote: Counting objects:  10% (2/20)\u001b[K\rremote: Counting objects:  15% (3/20)\u001b[K\rremote: Counting objects:  20% (4/20)\u001b[K\rremote: Counting objects:  25% (5/20)\u001b[K\rremote: Counting objects:  30% (6/20)\u001b[K\rremote: Counting objects:  35% (7/20)\u001b[K\rremote: Counting objects:  40% (8/20)\u001b[K\rremote: Counting objects:  45% (9/20)\u001b[K\rremote: Counting objects:  50% (10/20)\u001b[K\rremote: Counting objects:  55% (11/20)\u001b[K\rremote: Counting objects:  60% (12/20)\u001b[K\rremote: Counting objects:  65% (13/20)\u001b[K\rremote: Counting objects:  70% (14/20)\u001b[K\rremote: Counting objects:  75% (15/20)\u001b[K\rremote: Counting objects:  80% (16/20)\u001b[K\rremote: Counting objects:  85% (17/20)\u001b[K\rremote: Counting objects:  90% (18/20)\u001b[K\rremote: Counting objects:  95% (19/20)\u001b[K\rremote: Counting objects: 100% (20/20)\u001b[K\rremote: Counting objects: 100% (20/20), done.\u001b[K\n",
            "remote: Compressing objects: 100% (17/17), done.\u001b[K\n",
            "remote: Total 30934 (delta 3), reused 10 (delta 3), pack-reused 30914\u001b[K\n",
            "Receiving objects: 100% (30934/30934), 14.37 MiB | 23.77 MiB/s, done.\n",
            "Resolving deltas: 100% (24988/24988), done.\n"
          ],
          "name": "stdout"
        }
      ]
    },
    {
      "cell_type": "code",
      "metadata": {
        "id": "RKpVqhl98dgE",
        "colab_type": "code",
        "outputId": "15b8f6bc-a08b-4182-ed8e-f4dcfe18eaf6",
        "colab": {
          "base_uri": "https://localhost:8080/",
          "height": 136
        }
      },
      "source": [
        "!git clone https://github.com/awslabs/sockeye.git"
      ],
      "execution_count": 5,
      "outputs": [
        {
          "output_type": "stream",
          "text": [
            "Cloning into 'sockeye'...\n",
            "remote: Enumerating objects: 156, done.\u001b[K\n",
            "remote: Counting objects: 100% (156/156), done.\u001b[K\n",
            "remote: Compressing objects: 100% (95/95), done.\u001b[K\n",
            "remote: Total 6705 (delta 101), reused 88 (delta 61), pack-reused 6549\u001b[K\n",
            "Receiving objects: 100% (6705/6705), 8.02 MiB | 21.18 MiB/s, done.\n",
            "Resolving deltas: 100% (5076/5076), done.\n"
          ],
          "name": "stdout"
        }
      ]
    },
    {
      "cell_type": "code",
      "metadata": {
        "id": "UDUQSnhimdKG",
        "colab_type": "code",
        "colab": {}
      },
      "source": [
        "%load https://colab.sandbox.google.com/github/tensorflow/tensor2tensor/blob/master/tensor2tensor/notebooks/hello_t2t.ipynb\n"
      ],
      "execution_count": 0,
      "outputs": []
    },
    {
      "cell_type": "code",
      "metadata": {
        "id": "gBy5b7xfm7qg",
        "colab_type": "code",
        "colab": {}
      },
      "source": [
        "#%run https://colab.sandbox.google.com/github/tensorflow/tensor2tensor/blob/master/tensor2tensor/notebooks/hello_t2t.ipynb"
      ],
      "execution_count": 0,
      "outputs": []
    },
    {
      "cell_type": "code",
      "metadata": {
        "id": "2VKNk8HynIMa",
        "colab_type": "code",
        "outputId": "bc1f3134-4894-4b49-9685-f62993fcfab8",
        "colab": {
          "base_uri": "https://localhost:8080/",
          "height": 102
        }
      },
      "source": [
        "!git clone https://github.com/ArunMichaelDsouza/tensorflow-image-detection.git"
      ],
      "execution_count": 8,
      "outputs": [
        {
          "output_type": "stream",
          "text": [
            "Cloning into 'tensorflow-image-detection'...\n",
            "remote: Enumerating objects: 121, done.\u001b[K\n",
            "remote: Total 121 (delta 0), reused 0 (delta 0), pack-reused 121\u001b[K\n",
            "Receiving objects: 100% (121/121), 1.15 MiB | 7.26 MiB/s, done.\n",
            "Resolving deltas: 100% (62/62), done.\n"
          ],
          "name": "stdout"
        }
      ]
    },
    {
      "cell_type": "code",
      "metadata": {
        "id": "--tlwOrYo2hZ",
        "colab_type": "code",
        "outputId": "52048b86-40b7-41f2-c021-0b62f0e2b45d",
        "colab": {
          "base_uri": "https://localhost:8080/",
          "height": 102
        }
      },
      "source": [
        "!git clone https://github.com/ageitgey/face_recognition.git\n"
      ],
      "execution_count": 9,
      "outputs": [
        {
          "output_type": "stream",
          "text": [
            "Cloning into 'face_recognition'...\n",
            "remote: Enumerating objects: 800, done.\u001b[K\n",
            "remote: Total 800 (delta 0), reused 0 (delta 0), pack-reused 800\u001b[K\n",
            "Receiving objects: 100% (800/800), 101.42 MiB | 34.34 MiB/s, done.\n",
            "Resolving deltas: 100% (460/460), done.\n"
          ],
          "name": "stdout"
        }
      ]
    },
    {
      "cell_type": "code",
      "metadata": {
        "id": "ITZhk3X1pEvS",
        "colab_type": "code",
        "outputId": "ac5b42ff-c26d-4b88-b543-7127e5a5dfed",
        "colab": {
          "base_uri": "https://localhost:8080/",
          "height": 153
        }
      },
      "source": [
        "!git clone https://github.com/tensorflow/models.git"
      ],
      "execution_count": 10,
      "outputs": [
        {
          "output_type": "stream",
          "text": [
            "Cloning into 'models'...\n",
            "remote: Enumerating objects: 744, done.\u001b[K\n",
            "remote: Counting objects: 100% (744/744), done.\u001b[K\n",
            "remote: Compressing objects: 100% (478/478), done.\u001b[K\n",
            "remote: Total 32801 (delta 377), reused 457 (delta 265), pack-reused 32057\u001b[K\n",
            "Receiving objects: 100% (32801/32801), 512.18 MiB | 35.98 MiB/s, done.\n",
            "Resolving deltas: 100% (20686/20686), done.\n",
            "Checking out files: 100% (3183/3183), done.\n"
          ],
          "name": "stdout"
        }
      ]
    },
    {
      "cell_type": "code",
      "metadata": {
        "id": "NoowmTepph6C",
        "colab_type": "code",
        "outputId": "edc73bfe-41e2-470d-9b9b-d9935de268df",
        "colab": {
          "base_uri": "https://localhost:8080/",
          "height": 136
        }
      },
      "source": [
        "!git clone https://github.com/cedrickchee/awesome-bert-nlp.git"
      ],
      "execution_count": 11,
      "outputs": [
        {
          "output_type": "stream",
          "text": [
            "Cloning into 'awesome-bert-nlp'...\n",
            "remote: Enumerating objects: 76, done.\u001b[K\n",
            "remote: Counting objects:   1% (1/76)\u001b[K\rremote: Counting objects:   2% (2/76)\u001b[K\rremote: Counting objects:   3% (3/76)\u001b[K\rremote: Counting objects:   5% (4/76)\u001b[K\rremote: Counting objects:   6% (5/76)\u001b[K\rremote: Counting objects:   7% (6/76)\u001b[K\rremote: Counting objects:   9% (7/76)\u001b[K\rremote: Counting objects:  10% (8/76)\u001b[K\rremote: Counting objects:  11% (9/76)\u001b[K\rremote: Counting objects:  13% (10/76)\u001b[K\rremote: Counting objects:  14% (11/76)\u001b[K\rremote: Counting objects:  15% (12/76)\u001b[K\rremote: Counting objects:  17% (13/76)\u001b[K\rremote: Counting objects:  18% (14/76)\u001b[K\rremote: Counting objects:  19% (15/76)\u001b[K\rremote: Counting objects:  21% (16/76)\u001b[K\rremote: Counting objects:  22% (17/76)\u001b[K\rremote: Counting objects:  23% (18/76)\u001b[K\rremote: Counting objects:  25% (19/76)\u001b[K\rremote: Counting objects:  26% (20/76)\u001b[K\rremote: Counting objects:  27% (21/76)\u001b[K\rremote: Counting objects:  28% (22/76)\u001b[K\rremote: Counting objects:  30% (23/76)\u001b[K\rremote: Counting objects:  31% (24/76)\u001b[K\rremote: Counting objects:  32% (25/76)\u001b[K\rremote: Counting objects:  34% (26/76)\u001b[K\rremote: Counting objects:  35% (27/76)\u001b[K\rremote: Counting objects:  36% (28/76)\u001b[K\rremote: Counting objects:  38% (29/76)\u001b[K\rremote: Counting objects:  39% (30/76)\u001b[K\rremote: Counting objects:  40% (31/76)\u001b[K\rremote: Counting objects:  42% (32/76)\u001b[K\rremote: Counting objects:  43% (33/76)\u001b[K\rremote: Counting objects:  44% (34/76)\u001b[K\rremote: Counting objects:  46% (35/76)\u001b[K\rremote: Counting objects:  47% (36/76)\u001b[K\rremote: Counting objects:  48% (37/76)\u001b[K\rremote: Counting objects:  50% (38/76)\u001b[K\rremote: Counting objects:  51% (39/76)\u001b[K\rremote: Counting objects:  52% (40/76)\u001b[K\rremote: Counting objects:  53% (41/76)\u001b[K\rremote: Counting objects:  55% (42/76)\u001b[K\rremote: Counting objects:  56% (43/76)\u001b[K\rremote: Counting objects:  57% (44/76)\u001b[K\rremote: Counting objects:  59% (45/76)\u001b[K\rremote: Counting objects:  60% (46/76)\u001b[K\rremote: Counting objects:  61% (47/76)\u001b[K\rremote: Counting objects:  63% (48/76)\u001b[K\rremote: Counting objects:  64% (49/76)\u001b[K\rremote: Counting objects:  65% (50/76)\u001b[K\rremote: Counting objects:  67% (51/76)\u001b[K\rremote: Counting objects:  68% (52/76)\u001b[K\rremote: Counting objects:  69% (53/76)\u001b[K\rremote: Counting objects:  71% (54/76)\u001b[K\rremote: Counting objects:  72% (55/76)\u001b[K\rremote: Counting objects:  73% (56/76)\u001b[K\rremote: Counting objects:  75% (57/76)\u001b[K\rremote: Counting objects:  76% (58/76)\u001b[K\rremote: Counting objects:  77% (59/76)\u001b[K\rremote: Counting objects:  78% (60/76)\u001b[K\rremote: Counting objects:  80% (61/76)\u001b[K\rremote: Counting objects:  81% (62/76)\u001b[K\rremote: Counting objects:  82% (63/76)\u001b[K\rremote: Counting objects:  84% (64/76)\u001b[K\rremote: Counting objects:  85% (65/76)\u001b[K\rremote: Counting objects:  86% (66/76)\u001b[K\rremote: Counting objects:  88% (67/76)\u001b[K\rremote: Counting objects:  89% (68/76)\u001b[K\rremote: Counting objects:  90% (69/76)\u001b[K\rremote: Counting objects:  92% (70/76)\u001b[K\rremote: Counting objects:  93% (71/76)\u001b[K\rremote: Counting objects:  94% (72/76)\u001b[K\rremote: Counting objects:  96% (73/76)\u001b[K\rremote: Counting objects:  97% (74/76)\u001b[K\rremote: Counting objects:  98% (75/76)\u001b[K\rremote: Counting objects: 100% (76/76)\u001b[K\rremote: Counting objects: 100% (76/76), done.\u001b[K\n",
            "remote: Compressing objects: 100% (76/76), done.\u001b[K\n",
            "remote: Total 141 (delta 24), reused 0 (delta 0), pack-reused 65\u001b[K\n",
            "Receiving objects: 100% (141/141), 53.03 KiB | 1.83 MiB/s, done.\n",
            "Resolving deltas: 100% (43/43), done.\n"
          ],
          "name": "stdout"
        }
      ]
    },
    {
      "cell_type": "code",
      "metadata": {
        "id": "jyAxvEgjpqYa",
        "colab_type": "code",
        "outputId": "648b64ae-6494-49ec-84fd-4bd2908c6cc0",
        "colab": {
          "base_uri": "https://localhost:8080/",
          "height": 136
        }
      },
      "source": [
        "!git clone https://github.com/dennybritz/reinforcement-learning.git"
      ],
      "execution_count": 12,
      "outputs": [
        {
          "output_type": "stream",
          "text": [
            "Cloning into 'reinforcement-learning'...\n",
            "remote: Enumerating objects: 4, done.\u001b[K\n",
            "remote: Counting objects:  25% (1/4)\u001b[K\rremote: Counting objects:  50% (2/4)\u001b[K\rremote: Counting objects:  75% (3/4)\u001b[K\rremote: Counting objects: 100% (4/4)\u001b[K\rremote: Counting objects: 100% (4/4), done.\u001b[K\n",
            "remote: Compressing objects: 100% (4/4), done.\u001b[K\n",
            "remote: Total 1274 (delta 0), reused 1 (delta 0), pack-reused 1270\u001b[K\n",
            "Receiving objects: 100% (1274/1274), 5.25 MiB | 17.79 MiB/s, done.\n",
            "Resolving deltas: 100% (819/819), done.\n"
          ],
          "name": "stdout"
        }
      ]
    },
    {
      "cell_type": "code",
      "metadata": {
        "id": "8aPN2i7SIDAK",
        "colab_type": "code",
        "outputId": "0464c87b-d663-4899-c5bd-67f5a5152113",
        "colab": {
          "base_uri": "https://localhost:8080/",
          "height": 102
        }
      },
      "source": [
        "!git clone https://github.com/MorvanZhou/Reinforcement-learning-with-tensorflow.git"
      ],
      "execution_count": 13,
      "outputs": [
        {
          "output_type": "stream",
          "text": [
            "Cloning into 'Reinforcement-learning-with-tensorflow'...\n",
            "remote: Enumerating objects: 669, done.\u001b[K\n",
            "Receiving objects:   0% (1/669)   \rReceiving objects:   1% (7/669)   \rReceiving objects:   2% (14/669)   \rReceiving objects:   3% (21/669)   \rReceiving objects:   4% (27/669)   \rReceiving objects:   5% (34/669)   \rReceiving objects:   6% (41/669)   \rReceiving objects:   7% (47/669)   \rReceiving objects:   8% (54/669)   \rReceiving objects:   9% (61/669)   \rReceiving objects:  10% (67/669)   \rReceiving objects:  11% (74/669)   \rReceiving objects:  12% (81/669)   \rReceiving objects:  13% (87/669)   \rReceiving objects:  14% (94/669)   \rReceiving objects:  15% (101/669)   \rReceiving objects:  16% (108/669)   \rReceiving objects:  17% (114/669)   \rReceiving objects:  18% (121/669)   \rReceiving objects:  19% (128/669)   \rReceiving objects:  20% (134/669)   \rReceiving objects:  21% (141/669)   \rReceiving objects:  22% (148/669)   \rReceiving objects:  23% (154/669)   \rReceiving objects:  24% (161/669)   \rReceiving objects:  25% (168/669)   \rReceiving objects:  26% (174/669)   \rReceiving objects:  27% (181/669)   \rReceiving objects:  28% (188/669)   \rReceiving objects:  29% (195/669)   \rReceiving objects:  30% (201/669)   \rReceiving objects:  31% (208/669)   \rReceiving objects:  32% (215/669)   \rReceiving objects:  33% (221/669)   \rReceiving objects:  34% (228/669)   \rReceiving objects:  35% (235/669)   \rReceiving objects:  36% (241/669)   \rReceiving objects:  37% (248/669)   \rReceiving objects:  38% (255/669)   \rReceiving objects:  39% (261/669)   \rReceiving objects:  40% (268/669)   \rReceiving objects:  41% (275/669)   \rremote: Total 669 (delta 0), reused 0 (delta 0), pack-reused 669\u001b[K\n",
            "Receiving objects:  42% (281/669)   \rReceiving objects:  43% (288/669)   \rReceiving objects:  44% (295/669)   \rReceiving objects:  45% (302/669)   \rReceiving objects:  46% (308/669)   \rReceiving objects:  47% (315/669)   \rReceiving objects:  48% (322/669)   \rReceiving objects:  49% (328/669)   \rReceiving objects:  50% (335/669)   \rReceiving objects:  51% (342/669)   \rReceiving objects:  52% (348/669)   \rReceiving objects:  53% (355/669)   \rReceiving objects:  54% (362/669)   \rReceiving objects:  55% (368/669)   \rReceiving objects:  56% (375/669)   \rReceiving objects:  57% (382/669)   \rReceiving objects:  58% (389/669)   \rReceiving objects:  59% (395/669)   \rReceiving objects:  60% (402/669)   \rReceiving objects:  61% (409/669)   \rReceiving objects:  62% (415/669)   \rReceiving objects:  63% (422/669)   \rReceiving objects:  64% (429/669)   \rReceiving objects:  65% (435/669)   \rReceiving objects:  66% (442/669)   \rReceiving objects:  67% (449/669)   \rReceiving objects:  68% (455/669)   \rReceiving objects:  69% (462/669)   \rReceiving objects:  70% (469/669)   \rReceiving objects:  71% (475/669)   \rReceiving objects:  72% (482/669)   \rReceiving objects:  73% (489/669)   \rReceiving objects:  74% (496/669)   \rReceiving objects:  75% (502/669)   \rReceiving objects:  76% (509/669)   \rReceiving objects:  77% (516/669)   \rReceiving objects:  78% (522/669)   \rReceiving objects:  79% (529/669)   \rReceiving objects:  80% (536/669)   \rReceiving objects:  81% (542/669)   \rReceiving objects:  82% (549/669)   \rReceiving objects:  83% (556/669)   \rReceiving objects:  84% (562/669)   \rReceiving objects:  85% (569/669)   \rReceiving objects:  86% (576/669)   \rReceiving objects:  87% (583/669)   \rReceiving objects:  88% (589/669)   \rReceiving objects:  89% (596/669)   \rReceiving objects:  90% (603/669)   \rReceiving objects:  91% (609/669)   \rReceiving objects:  92% (616/669)   \rReceiving objects:  93% (623/669)   \rReceiving objects:  94% (629/669)   \rReceiving objects:  95% (636/669)   \rReceiving objects:  96% (643/669)   \rReceiving objects:  97% (649/669)   \rReceiving objects:  98% (656/669)   \rReceiving objects:  99% (663/669)   \rReceiving objects: 100% (669/669)   \rReceiving objects: 100% (669/669), 421.45 KiB | 3.19 MiB/s, done.\n",
            "Resolving deltas:   0% (0/384)   \rResolving deltas:   2% (9/384)   \rResolving deltas:   8% (32/384)   \rResolving deltas:  15% (60/384)   \rResolving deltas:  20% (78/384)   \rResolving deltas:  23% (92/384)   \rResolving deltas:  27% (105/384)   \rResolving deltas:  28% (110/384)   \rResolving deltas:  29% (114/384)   \rResolving deltas:  31% (122/384)   \rResolving deltas:  34% (131/384)   \rResolving deltas:  35% (137/384)   \rResolving deltas:  37% (145/384)   \rResolving deltas:  38% (148/384)   \rResolving deltas:  39% (151/384)   \rResolving deltas:  40% (155/384)   \rResolving deltas:  42% (163/384)   \rResolving deltas:  46% (179/384)   \rResolving deltas:  49% (191/384)   \rResolving deltas:  51% (199/384)   \rResolving deltas:  52% (200/384)   \rResolving deltas:  53% (204/384)   \rResolving deltas:  64% (249/384)   \rResolving deltas:  67% (259/384)   \rResolving deltas:  68% (263/384)   \rResolving deltas:  69% (265/384)   \rResolving deltas:  72% (277/384)   \rResolving deltas:  74% (287/384)   \rResolving deltas:  75% (291/384)   \rResolving deltas:  77% (298/384)   \rResolving deltas:  86% (333/384)   \rResolving deltas:  87% (337/384)   \rResolving deltas:  88% (339/384)   \rResolving deltas:  89% (345/384)   \rResolving deltas:  90% (349/384)   \rResolving deltas:  91% (350/384)   \rResolving deltas:  93% (360/384)   \rResolving deltas:  94% (361/384)   \rResolving deltas:  96% (372/384)   \rResolving deltas:  97% (376/384)   \rResolving deltas:  99% (383/384)   \rResolving deltas: 100% (384/384)   \rResolving deltas: 100% (384/384), done.\n"
          ],
          "name": "stdout"
        }
      ]
    },
    {
      "cell_type": "code",
      "metadata": {
        "id": "jtwPnQIpIWYN",
        "colab_type": "code",
        "outputId": "ce25c3f0-344f-4cad-ba44-1400563a5241",
        "colab": {
          "base_uri": "https://localhost:8080/",
          "height": 102
        }
      },
      "source": [
        "!git clone https://github.com/udacity/deep-reinforcement-learning.git"
      ],
      "execution_count": 14,
      "outputs": [
        {
          "output_type": "stream",
          "text": [
            "Cloning into 'deep-reinforcement-learning'...\n",
            "remote: Enumerating objects: 223, done.\u001b[K\n",
            "remote: Total 223 (delta 0), reused 0 (delta 0), pack-reused 223\u001b[K\n",
            "Receiving objects: 100% (223/223), 3.45 MiB | 14.07 MiB/s, done.\n",
            "Resolving deltas: 100% (51/51), done.\n"
          ],
          "name": "stdout"
        }
      ]
    },
    {
      "cell_type": "code",
      "metadata": {
        "id": "4z6AL2XzIqpk",
        "colab_type": "code",
        "outputId": "236dc099-fcc6-4c34-fb44-b3f943cff2cd",
        "colab": {
          "base_uri": "https://localhost:8080/",
          "height": 102
        }
      },
      "source": [
        "!git clone https://github.com/Zeta36/chess-alpha-zero.git"
      ],
      "execution_count": 15,
      "outputs": [
        {
          "output_type": "stream",
          "text": [
            "Cloning into 'chess-alpha-zero'...\n",
            "remote: Enumerating objects: 478, done.\u001b[K\n",
            "remote: Total 478 (delta 0), reused 0 (delta 0), pack-reused 478\u001b[K\n",
            "Receiving objects: 100% (478/478), 122.38 MiB | 36.82 MiB/s, done.\n",
            "Resolving deltas: 100% (250/250), done.\n"
          ],
          "name": "stdout"
        }
      ]
    },
    {
      "cell_type": "code",
      "metadata": {
        "id": "pewKcEYII7ad",
        "colab_type": "code",
        "outputId": "dc6e56bc-ea59-40f9-a933-a5361e5287f1",
        "colab": {
          "base_uri": "https://localhost:8080/",
          "height": 153
        }
      },
      "source": [
        "!git clone https://github.com/suragnair/alpha-zero-general.git"
      ],
      "execution_count": 16,
      "outputs": [
        {
          "output_type": "stream",
          "text": [
            "Cloning into 'alpha-zero-general'...\n",
            "remote: Enumerating objects: 4, done.\u001b[K\n",
            "remote: Counting objects:  25% (1/4)\u001b[K\rremote: Counting objects:  50% (2/4)\u001b[K\rremote: Counting objects:  75% (3/4)\u001b[K\rremote: Counting objects: 100% (4/4)\u001b[K\rremote: Counting objects: 100% (4/4), done.\u001b[K\n",
            "remote: Compressing objects: 100% (4/4), done.\u001b[K\n",
            "remote: Total 945 (delta 0), reused 1 (delta 0), pack-reused 941\u001b[K\n",
            "Receiving objects: 100% (945/945), 230.16 MiB | 39.30 MiB/s, done.\n",
            "Resolving deltas: 100% (520/520), done.\n",
            "Checking out files: 100% (134/134), done.\n"
          ],
          "name": "stdout"
        }
      ]
    },
    {
      "cell_type": "code",
      "metadata": {
        "id": "xxNq7FWkJqL7",
        "colab_type": "code",
        "outputId": "a3a711e2-ccc7-4a8f-b0c7-9a76b17809df",
        "colab": {
          "base_uri": "https://localhost:8080/",
          "height": 136
        }
      },
      "source": [
        "!git clone https://github.com/glinscott/leela-chess.git"
      ],
      "execution_count": 17,
      "outputs": [
        {
          "output_type": "stream",
          "text": [
            "Cloning into 'leela-chess'...\n",
            "remote: Enumerating objects: 5, done.\u001b[K\n",
            "remote: Counting objects:  20% (1/5)\u001b[K\rremote: Counting objects:  40% (2/5)\u001b[K\rremote: Counting objects:  60% (3/5)\u001b[K\rremote: Counting objects:  80% (4/5)\u001b[K\rremote: Counting objects: 100% (5/5)\u001b[K\rremote: Counting objects: 100% (5/5), done.\u001b[K\n",
            "remote: Compressing objects: 100% (4/4), done.\u001b[K\n",
            "remote: Total 6791 (delta 0), reused 0 (delta 0), pack-reused 6786\u001b[K\n",
            "Receiving objects: 100% (6791/6791), 34.98 MiB | 21.89 MiB/s, done.\n",
            "Resolving deltas: 100% (4304/4304), done.\n"
          ],
          "name": "stdout"
        }
      ]
    },
    {
      "cell_type": "code",
      "metadata": {
        "id": "m_srHOUII-37",
        "colab_type": "code",
        "outputId": "a6318a2c-cab3-4d10-cf1f-0820737705db",
        "colab": {
          "base_uri": "https://localhost:8080/",
          "height": 136
        }
      },
      "source": [
        "!git clone https://github.com/XanaduAI/pennylane.git"
      ],
      "execution_count": 18,
      "outputs": [
        {
          "output_type": "stream",
          "text": [
            "Cloning into 'pennylane'...\n",
            "remote: Enumerating objects: 244, done.\u001b[K\n",
            "remote: Counting objects: 100% (244/244), done.\u001b[K\n",
            "remote: Compressing objects: 100% (161/161), done.\u001b[K\n",
            "remote: Total 10477 (delta 139), reused 135 (delta 83), pack-reused 10233\u001b[K\n",
            "Receiving objects: 100% (10477/10477), 22.95 MiB | 30.93 MiB/s, done.\n",
            "Resolving deltas: 100% (7358/7358), done.\n"
          ],
          "name": "stdout"
        }
      ]
    },
    {
      "cell_type": "code",
      "metadata": {
        "id": "TbsOg4sKSo8G",
        "colab_type": "code",
        "outputId": "2c1cecd7-49a5-4ecd-cfe0-9e155bd90887",
        "colab": {
          "base_uri": "https://localhost:8080/",
          "height": 102
        }
      },
      "source": [
        "!git clone https://github.com/google/dopamine.git"
      ],
      "execution_count": 19,
      "outputs": [
        {
          "output_type": "stream",
          "text": [
            "Cloning into 'dopamine'...\n",
            "remote: Enumerating objects: 1485, done.\u001b[K\n",
            "remote: Total 1485 (delta 0), reused 0 (delta 0), pack-reused 1485\u001b[K\n",
            "Receiving objects: 100% (1485/1485), 7.35 MiB | 20.45 MiB/s, done.\n",
            "Resolving deltas: 100% (963/963), done.\n"
          ],
          "name": "stdout"
        }
      ]
    },
    {
      "cell_type": "code",
      "metadata": {
        "id": "v12ktEQoJBQm",
        "colab_type": "code",
        "outputId": "ae747188-72d5-4e2a-c01b-3922fdd2d51a",
        "colab": {
          "base_uri": "https://localhost:8080/",
          "height": 136
        }
      },
      "source": [
        "!git clone https://github.com/mukeshmithrakumar/scientific.git"
      ],
      "execution_count": 20,
      "outputs": [
        {
          "output_type": "stream",
          "text": [
            "Cloning into 'scientific'...\n",
            "remote: Enumerating objects: 100, done.\u001b[K\n",
            "remote: Counting objects:   1% (1/100)\u001b[K\rremote: Counting objects:   2% (2/100)\u001b[K\rremote: Counting objects:   3% (3/100)\u001b[K\rremote: Counting objects:   4% (4/100)\u001b[K\rremote: Counting objects:   5% (5/100)\u001b[K\rremote: Counting objects:   6% (6/100)\u001b[K\rremote: Counting objects:   7% (7/100)\u001b[K\rremote: Counting objects:   8% (8/100)\u001b[K\rremote: Counting objects:   9% (9/100)\u001b[K\rremote: Counting objects:  10% (10/100)\u001b[K\rremote: Counting objects:  11% (11/100)\u001b[K\rremote: Counting objects:  12% (12/100)\u001b[K\rremote: Counting objects:  13% (13/100)\u001b[K\rremote: Counting objects:  14% (14/100)\u001b[K\rremote: Counting objects:  15% (15/100)\u001b[K\rremote: Counting objects:  16% (16/100)\u001b[K\rremote: Counting objects:  17% (17/100)\u001b[K\rremote: Counting objects:  18% (18/100)\u001b[K\rremote: Counting objects:  19% (19/100)\u001b[K\rremote: Counting objects:  20% (20/100)\u001b[K\rremote: Counting objects:  21% (21/100)\u001b[K\rremote: Counting objects:  22% (22/100)\u001b[K\rremote: Counting objects:  23% (23/100)\u001b[K\rremote: Counting objects:  24% (24/100)\u001b[K\rremote: Counting objects:  25% (25/100)\u001b[K\rremote: Counting objects:  26% (26/100)\u001b[K\rremote: Counting objects:  27% (27/100)\u001b[K\rremote: Counting objects:  28% (28/100)\u001b[K\rremote: Counting objects:  29% (29/100)\u001b[K\rremote: Counting objects:  30% (30/100)\u001b[K\rremote: Counting objects:  31% (31/100)\u001b[K\rremote: Counting objects:  32% (32/100)\u001b[K\rremote: Counting objects:  33% (33/100)\u001b[K\rremote: Counting objects:  34% (34/100)\u001b[K\rremote: Counting objects:  35% (35/100)\u001b[K\rremote: Counting objects:  36% (36/100)\u001b[K\rremote: Counting objects:  37% (37/100)\u001b[K\rremote: Counting objects:  38% (38/100)\u001b[K\rremote: Counting objects:  39% (39/100)\u001b[K\rremote: Counting objects:  40% (40/100)\u001b[K\rremote: Counting objects:  41% (41/100)\u001b[K\rremote: Counting objects:  42% (42/100)\u001b[K\rremote: Counting objects:  43% (43/100)\u001b[K\rremote: Counting objects:  44% (44/100)\u001b[K\rremote: Counting objects:  45% (45/100)\u001b[K\rremote: Counting objects:  46% (46/100)\u001b[K\rremote: Counting objects:  47% (47/100)\u001b[K\rremote: Counting objects:  48% (48/100)\u001b[K\rremote: Counting objects:  49% (49/100)\u001b[K\rremote: Counting objects:  50% (50/100)\u001b[K\rremote: Counting objects:  51% (51/100)\u001b[K\rremote: Counting objects:  52% (52/100)\u001b[K\rremote: Counting objects:  53% (53/100)\u001b[K\rremote: Counting objects:  54% (54/100)\u001b[K\rremote: Counting objects:  55% (55/100)\u001b[K\rremote: Counting objects:  56% (56/100)\u001b[K\rremote: Counting objects:  57% (57/100)\u001b[K\rremote: Counting objects:  58% (58/100)\u001b[K\rremote: Counting objects:  59% (59/100)\u001b[K\rremote: Counting objects:  60% (60/100)\u001b[K\rremote: Counting objects:  61% (61/100)\u001b[K\rremote: Counting objects:  62% (62/100)\u001b[K\rremote: Counting objects:  63% (63/100)\u001b[K\rremote: Counting objects:  64% (64/100)\u001b[K\rremote: Counting objects:  65% (65/100)\u001b[K\rremote: Counting objects:  66% (66/100)\u001b[K\rremote: Counting objects:  67% (67/100)\u001b[K\rremote: Counting objects:  68% (68/100)\u001b[K\rremote: Counting objects:  69% (69/100)\u001b[K\rremote: Counting objects:  70% (70/100)\u001b[K\rremote: Counting objects:  71% (71/100)\u001b[K\rremote: Counting objects:  72% (72/100)\u001b[K\rremote: Counting objects:  73% (73/100)\u001b[K\rremote: Counting objects:  74% (74/100)\u001b[K\rremote: Counting objects:  75% (75/100)\u001b[K\rremote: Counting objects:  76% (76/100)\u001b[K\rremote: Counting objects:  77% (77/100)\u001b[K\rremote: Counting objects:  78% (78/100)\u001b[K\rremote: Counting objects:  79% (79/100)\u001b[K\rremote: Counting objects:  80% (80/100)\u001b[K\rremote: Counting objects:  81% (81/100)\u001b[K\rremote: Counting objects:  82% (82/100)\u001b[K\rremote: Counting objects:  83% (83/100)\u001b[K\rremote: Counting objects:  84% (84/100)\u001b[K\rremote: Counting objects:  85% (85/100)\u001b[K\rremote: Counting objects:  86% (86/100)\u001b[K\rremote: Counting objects:  87% (87/100)\u001b[K\rremote: Counting objects:  88% (88/100)\u001b[K\rremote: Counting objects:  89% (89/100)\u001b[K\rremote: Counting objects:  90% (90/100)\u001b[K\rremote: Counting objects:  91% (91/100)\u001b[K\rremote: Counting objects:  92% (92/100)\u001b[K\rremote: Counting objects:  93% (93/100)\u001b[K\rremote: Counting objects:  94% (94/100)\u001b[K\rremote: Counting objects:  95% (95/100)\u001b[K\rremote: Counting objects:  96% (96/100)\u001b[K\rremote: Counting objects:  97% (97/100)\u001b[K\rremote: Counting objects:  98% (98/100)\u001b[K\rremote: Counting objects:  99% (99/100)\u001b[K\rremote: Counting objects: 100% (100/100)\u001b[K\rremote: Counting objects: 100% (100/100), done.\u001b[K\n",
            "remote: Compressing objects:   1% (1/70)\u001b[K\rremote: Compressing objects:   2% (2/70)\u001b[K\rremote: Compressing objects:   4% (3/70)\u001b[K\rremote: Compressing objects:   5% (4/70)\u001b[K\rremote: Compressing objects:   7% (5/70)\u001b[K\rremote: Compressing objects:   8% (6/70)\u001b[K\rremote: Compressing objects:  10% (7/70)\u001b[K\rremote: Compressing objects:  11% (8/70)\u001b[K\rremote: Compressing objects:  12% (9/70)\u001b[K\rremote: Compressing objects:  14% (10/70)\u001b[K\rremote: Compressing objects:  15% (11/70)\u001b[K\rremote: Compressing objects:  17% (12/70)\u001b[K\rremote: Compressing objects:  18% (13/70)\u001b[K\rremote: Compressing objects:  20% (14/70)\u001b[K\rremote: Compressing objects:  21% (15/70)\u001b[K\rremote: Compressing objects:  22% (16/70)\u001b[K\rremote: Compressing objects:  24% (17/70)\u001b[K\rremote: Compressing objects:  25% (18/70)\u001b[K\rremote: Compressing objects:  27% (19/70)\u001b[K\rremote: Compressing objects:  28% (20/70)\u001b[K\rremote: Compressing objects:  30% (21/70)\u001b[K\rremote: Compressing objects:  31% (22/70)\u001b[K\rremote: Compressing objects:  32% (23/70)\u001b[K\rremote: Compressing objects:  34% (24/70)\u001b[K\rremote: Compressing objects:  35% (25/70)\u001b[K\rremote: Compressing objects:  37% (26/70)\u001b[K\rremote: Compressing objects:  38% (27/70)\u001b[K\rremote: Compressing objects:  40% (28/70)\u001b[K\rremote: Compressing objects:  41% (29/70)\u001b[K\rremote: Compressing objects:  42% (30/70)\u001b[K\rremote: Compressing objects:  44% (31/70)\u001b[K\rremote: Compressing objects:  45% (32/70)\u001b[K\rremote: Compressing objects:  47% (33/70)\u001b[K\rremote: Compressing objects:  48% (34/70)\u001b[K\rremote: Compressing objects:  50% (35/70)\u001b[K\rremote: Compressing objects:  51% (36/70)\u001b[K\rremote: Compressing objects:  52% (37/70)\u001b[K\rremote: Compressing objects:  54% (38/70)\u001b[K\rremote: Compressing objects:  55% (39/70)\u001b[K\rremote: Compressing objects:  57% (40/70)\u001b[K\rremote: Compressing objects:  58% (41/70)\u001b[K\rremote: Compressing objects:  60% (42/70)\u001b[K\rremote: Compressing objects:  61% (43/70)\u001b[K\rremote: Compressing objects:  62% (44/70)\u001b[K\rremote: Compressing objects:  64% (45/70)\u001b[K\rremote: Compressing objects:  65% (46/70)\u001b[K\rremote: Compressing objects:  67% (47/70)\u001b[K\rremote: Compressing objects:  68% (48/70)\u001b[K\rremote: Compressing objects:  70% (49/70)\u001b[K\rremote: Compressing objects:  71% (50/70)\u001b[K\rremote: Compressing objects:  72% (51/70)\u001b[K\rremote: Compressing objects:  74% (52/70)\u001b[K\rremote: Compressing objects:  75% (53/70)\u001b[K\rremote: Compressing objects:  77% (54/70)\u001b[K\rremote: Compressing objects:  78% (55/70)\u001b[K\rremote: Compressing objects:  80% (56/70)\u001b[K\rremote: Compressing objects:  81% (57/70)\u001b[K\rremote: Compressing objects:  82% (58/70)\u001b[K\rremote: Compressing objects:  84% (59/70)\u001b[K\rremote: Compressing objects:  85% (60/70)\u001b[K\rremote: Compressing objects:  87% (61/70)\u001b[K\rremote: Compressing objects:  88% (62/70)\u001b[K\rremote: Compressing objects:  90% (63/70)\u001b[K\rremote: Compressing objects:  91% (64/70)\u001b[K\rremote: Compressing objects:  92% (65/70)\u001b[K\rremote: Compressing objects:  94% (66/70)\u001b[K\rremote: Compressing objects:  95% (67/70)\u001b[K\rremote: Compressing objects:  97% (68/70)\u001b[K\rremote: Compressing objects:  98% (69/70)\u001b[K\rremote: Compressing objects: 100% (70/70)\u001b[K\rremote: Compressing objects: 100% (70/70), done.\u001b[K\n",
            "Receiving objects:   1% (1/100)   \rReceiving objects:   2% (2/100)   \rReceiving objects:   3% (3/100)   \rReceiving objects:   4% (4/100)   \rReceiving objects:   5% (5/100)   \rReceiving objects:   6% (6/100)   \rReceiving objects:   7% (7/100)   \rReceiving objects:   8% (8/100)   \rReceiving objects:   9% (9/100)   \rReceiving objects:  10% (10/100)   \rReceiving objects:  11% (11/100)   \rReceiving objects:  12% (12/100)   \rReceiving objects:  13% (13/100)   \rReceiving objects:  14% (14/100)   \rReceiving objects:  15% (15/100)   \rReceiving objects:  16% (16/100)   \rReceiving objects:  17% (17/100)   \rReceiving objects:  18% (18/100)   \rReceiving objects:  19% (19/100)   \rReceiving objects:  20% (20/100)   \rReceiving objects:  21% (21/100)   \rReceiving objects:  22% (22/100)   \rReceiving objects:  23% (23/100)   \rReceiving objects:  24% (24/100)   \rReceiving objects:  25% (25/100)   \rReceiving objects:  26% (26/100)   \rReceiving objects:  27% (27/100)   \rReceiving objects:  28% (28/100)   \rReceiving objects:  29% (29/100)   \rReceiving objects:  30% (30/100)   \rReceiving objects:  31% (31/100)   \rReceiving objects:  32% (32/100)   \rReceiving objects:  33% (33/100)   \rReceiving objects:  34% (34/100)   \rReceiving objects:  35% (35/100)   \rReceiving objects:  36% (36/100)   \rReceiving objects:  37% (37/100)   \rReceiving objects:  38% (38/100)   \rReceiving objects:  39% (39/100)   \rReceiving objects:  40% (40/100)   \rReceiving objects:  41% (41/100)   \rReceiving objects:  42% (42/100)   \rReceiving objects:  43% (43/100)   \rReceiving objects:  44% (44/100)   \rReceiving objects:  45% (45/100)   \rReceiving objects:  46% (46/100)   \rReceiving objects:  47% (47/100)   \rReceiving objects:  48% (48/100)   \rReceiving objects:  49% (49/100)   \rReceiving objects:  50% (50/100)   \rReceiving objects:  51% (51/100)   \rReceiving objects:  52% (52/100)   \rReceiving objects:  53% (53/100)   \rReceiving objects:  54% (54/100)   \rReceiving objects:  55% (55/100)   \rReceiving objects:  56% (56/100)   \rReceiving objects:  57% (57/100)   \rReceiving objects:  58% (58/100)   \rReceiving objects:  59% (59/100)   \rReceiving objects:  60% (60/100)   \rReceiving objects:  61% (61/100)   \rReceiving objects:  62% (62/100)   \rReceiving objects:  63% (63/100)   \rReceiving objects:  64% (64/100)   \rReceiving objects:  65% (65/100)   \rReceiving objects:  66% (66/100)   \rReceiving objects:  67% (67/100)   \rReceiving objects:  68% (68/100)   \rReceiving objects:  69% (69/100)   \rReceiving objects:  70% (70/100)   \rReceiving objects:  71% (71/100)   \rReceiving objects:  72% (72/100)   \rReceiving objects:  73% (73/100)   \rReceiving objects:  74% (74/100)   \rReceiving objects:  75% (75/100)   \rReceiving objects:  76% (76/100)   \rReceiving objects:  77% (77/100)   \rremote: Total 100 (delta 36), reused 81 (delta 19), pack-reused 0\u001b[K\n",
            "Receiving objects:  78% (78/100)   \rReceiving objects:  79% (79/100)   \rReceiving objects:  80% (80/100)   \rReceiving objects:  81% (81/100)   \rReceiving objects:  82% (82/100)   \rReceiving objects:  83% (83/100)   \rReceiving objects:  84% (84/100)   \rReceiving objects:  85% (85/100)   \rReceiving objects:  86% (86/100)   \rReceiving objects:  87% (87/100)   \rReceiving objects:  88% (88/100)   \rReceiving objects:  89% (89/100)   \rReceiving objects:  90% (90/100)   \rReceiving objects:  91% (91/100)   \rReceiving objects:  92% (92/100)   \rReceiving objects:  93% (93/100)   \rReceiving objects:  94% (94/100)   \rReceiving objects:  95% (95/100)   \rReceiving objects:  96% (96/100)   \rReceiving objects:  97% (97/100)   \rReceiving objects:  98% (98/100)   \rReceiving objects:  99% (99/100)   \rReceiving objects: 100% (100/100)   \rReceiving objects: 100% (100/100), 70.49 KiB | 2.43 MiB/s, done.\n",
            "Resolving deltas:   0% (0/36)   \rResolving deltas:   2% (1/36)   \rResolving deltas:   5% (2/36)   \rResolving deltas:   8% (3/36)   \rResolving deltas:  27% (10/36)   \rResolving deltas:  36% (13/36)   \rResolving deltas:  44% (16/36)   \rResolving deltas:  47% (17/36)   \rResolving deltas:  55% (20/36)   \rResolving deltas:  58% (21/36)   \rResolving deltas:  61% (22/36)   \rResolving deltas:  72% (26/36)   \rResolving deltas:  77% (28/36)   \rResolving deltas:  91% (33/36)   \rResolving deltas:  94% (34/36)   \rResolving deltas: 100% (36/36)   \rResolving deltas: 100% (36/36), done.\n"
          ],
          "name": "stdout"
        }
      ]
    },
    {
      "cell_type": "code",
      "metadata": {
        "id": "q6gwaoa9RUdx",
        "colab_type": "code",
        "outputId": "88c1d065-29dc-4615-d8a0-c96a79cb301c",
        "colab": {
          "base_uri": "https://localhost:8080/",
          "height": 428
        }
      },
      "source": [
        "!pip install pytorch-pretrained-bert"
      ],
      "execution_count": 21,
      "outputs": [
        {
          "output_type": "stream",
          "text": [
            "Collecting pytorch-pretrained-bert\n",
            "\u001b[?25l  Downloading https://files.pythonhosted.org/packages/d7/e0/c08d5553b89973d9a240605b9c12404bcf8227590de62bae27acbcfe076b/pytorch_pretrained_bert-0.6.2-py3-none-any.whl (123kB)\n",
            "\u001b[K     |████████████████████████████████| 133kB 3.0MB/s \n",
            "\u001b[?25hCollecting regex\n",
            "\u001b[?25l  Downloading https://files.pythonhosted.org/packages/e3/8e/cbf2295643d7265e7883326fb4654e643bfc93b3a8a8274d8010a39d8804/regex-2019.11.1-cp36-cp36m-manylinux1_x86_64.whl (643kB)\n",
            "\u001b[K     |████████████████████████████████| 645kB 9.8MB/s \n",
            "\u001b[?25hRequirement already satisfied: numpy in /usr/local/lib/python3.6/dist-packages (from pytorch-pretrained-bert) (1.17.4)\n",
            "Requirement already satisfied: tqdm in /usr/local/lib/python3.6/dist-packages (from pytorch-pretrained-bert) (4.28.1)\n",
            "Requirement already satisfied: torch>=0.4.1 in /usr/local/lib/python3.6/dist-packages (from pytorch-pretrained-bert) (1.3.1)\n",
            "Requirement already satisfied: boto3 in /usr/local/lib/python3.6/dist-packages (from pytorch-pretrained-bert) (1.10.18)\n",
            "Requirement already satisfied: requests in /usr/local/lib/python3.6/dist-packages (from pytorch-pretrained-bert) (2.21.0)\n",
            "Requirement already satisfied: s3transfer<0.3.0,>=0.2.0 in /usr/local/lib/python3.6/dist-packages (from boto3->pytorch-pretrained-bert) (0.2.1)\n",
            "Requirement already satisfied: jmespath<1.0.0,>=0.7.1 in /usr/local/lib/python3.6/dist-packages (from boto3->pytorch-pretrained-bert) (0.9.4)\n",
            "Requirement already satisfied: botocore<1.14.0,>=1.13.18 in /usr/local/lib/python3.6/dist-packages (from boto3->pytorch-pretrained-bert) (1.13.18)\n",
            "Requirement already satisfied: chardet<3.1.0,>=3.0.2 in /usr/local/lib/python3.6/dist-packages (from requests->pytorch-pretrained-bert) (3.0.4)\n",
            "Requirement already satisfied: certifi>=2017.4.17 in /usr/local/lib/python3.6/dist-packages (from requests->pytorch-pretrained-bert) (2019.9.11)\n",
            "Requirement already satisfied: idna<2.9,>=2.5 in /usr/local/lib/python3.6/dist-packages (from requests->pytorch-pretrained-bert) (2.8)\n",
            "Requirement already satisfied: urllib3<1.25,>=1.21.1 in /usr/local/lib/python3.6/dist-packages (from requests->pytorch-pretrained-bert) (1.24.3)\n",
            "Requirement already satisfied: docutils<0.16,>=0.10 in /usr/local/lib/python3.6/dist-packages (from botocore<1.14.0,>=1.13.18->boto3->pytorch-pretrained-bert) (0.15.2)\n",
            "Requirement already satisfied: python-dateutil<2.8.1,>=2.1; python_version >= \"2.7\" in /usr/local/lib/python3.6/dist-packages (from botocore<1.14.0,>=1.13.18->boto3->pytorch-pretrained-bert) (2.6.1)\n",
            "Requirement already satisfied: six>=1.5 in /usr/local/lib/python3.6/dist-packages (from python-dateutil<2.8.1,>=2.1; python_version >= \"2.7\"->botocore<1.14.0,>=1.13.18->boto3->pytorch-pretrained-bert) (1.12.0)\n",
            "Installing collected packages: regex, pytorch-pretrained-bert\n",
            "Successfully installed pytorch-pretrained-bert-0.6.2 regex-2019.11.1\n"
          ],
          "name": "stdout"
        }
      ]
    },
    {
      "cell_type": "code",
      "metadata": {
        "id": "0ao1OwbAj2BD",
        "colab_type": "code",
        "outputId": "be9a702a-0d7f-4970-a3d4-e9fed4a1c4f7",
        "colab": {
          "base_uri": "https://localhost:8080/",
          "height": 102
        }
      },
      "source": [
        "!git clone https://github.com/maknotavailable/pytorch-pretrained-BERT.git"
      ],
      "execution_count": 22,
      "outputs": [
        {
          "output_type": "stream",
          "text": [
            "Cloning into 'pytorch-pretrained-BERT'...\n",
            "remote: Enumerating objects: 972, done.\u001b[K\n",
            "Receiving objects:   0% (1/972)   \rReceiving objects:   1% (10/972)   \rReceiving objects:   2% (20/972)   \rReceiving objects:   3% (30/972)   \rReceiving objects:   4% (39/972)   \rReceiving objects:   5% (49/972)   \rReceiving objects:   6% (59/972)   \rReceiving objects:   7% (69/972)   \rReceiving objects:   8% (78/972)   \rReceiving objects:   9% (88/972)   \rReceiving objects:  10% (98/972)   \rReceiving objects:  11% (107/972)   \rReceiving objects:  12% (117/972)   \rReceiving objects:  13% (127/972)   \rReceiving objects:  14% (137/972)   \rReceiving objects:  15% (146/972)   \rReceiving objects:  16% (156/972)   \rReceiving objects:  17% (166/972)   \rReceiving objects:  18% (175/972)   \rReceiving objects:  19% (185/972)   \rReceiving objects:  20% (195/972)   \rReceiving objects:  21% (205/972)   \rReceiving objects:  22% (214/972)   \rReceiving objects:  23% (224/972)   \rReceiving objects:  24% (234/972)   \rReceiving objects:  25% (243/972)   \rReceiving objects:  26% (253/972)   \rReceiving objects:  27% (263/972)   \rReceiving objects:  28% (273/972)   \rReceiving objects:  29% (282/972)   \rReceiving objects:  30% (292/972)   \rReceiving objects:  31% (302/972)   \rReceiving objects:  32% (312/972)   \rReceiving objects:  33% (321/972)   \rReceiving objects:  34% (331/972)   \rReceiving objects:  35% (341/972)   \rReceiving objects:  36% (350/972)   \rReceiving objects:  37% (360/972)   \rReceiving objects:  38% (370/972)   \rReceiving objects:  39% (380/972)   \rReceiving objects:  40% (389/972)   \rReceiving objects:  41% (399/972)   \rReceiving objects:  42% (409/972)   \rReceiving objects:  43% (418/972)   \rReceiving objects:  44% (428/972)   \rReceiving objects:  45% (438/972)   \rReceiving objects:  46% (448/972)   \rReceiving objects:  47% (457/972)   \rReceiving objects:  48% (467/972)   \rReceiving objects:  49% (477/972)   \rReceiving objects:  50% (486/972)   \rReceiving objects:  51% (496/972)   \rReceiving objects:  52% (506/972)   \rReceiving objects:  53% (516/972)   \rReceiving objects:  54% (525/972)   \rReceiving objects:  55% (535/972)   \rReceiving objects:  56% (545/972)   \rReceiving objects:  57% (555/972)   \rReceiving objects:  58% (564/972)   \rReceiving objects:  59% (574/972)   \rReceiving objects:  60% (584/972)   \rReceiving objects:  61% (593/972)   \rReceiving objects:  62% (603/972)   \rReceiving objects:  63% (613/972)   \rReceiving objects:  64% (623/972)   \rReceiving objects:  65% (632/972)   \rReceiving objects:  66% (642/972)   \rReceiving objects:  67% (652/972)   \rReceiving objects:  68% (661/972)   \rReceiving objects:  69% (671/972)   \rReceiving objects:  70% (681/972)   \rReceiving objects:  71% (691/972)   \rReceiving objects:  72% (700/972)   \rReceiving objects:  73% (710/972)   \rReceiving objects:  74% (720/972)   \rReceiving objects:  75% (729/972)   \rReceiving objects:  76% (739/972)   \rReceiving objects:  77% (749/972)   \rReceiving objects:  78% (759/972)   \rremote: Total 972 (delta 0), reused 0 (delta 0), pack-reused 972\u001b[K\n",
            "Receiving objects:  79% (768/972)   \rReceiving objects:  80% (778/972)   \rReceiving objects:  81% (788/972)   \rReceiving objects:  82% (798/972)   \rReceiving objects:  83% (807/972)   \rReceiving objects:  84% (817/972)   \rReceiving objects:  85% (827/972)   \rReceiving objects:  86% (836/972)   \rReceiving objects:  87% (846/972)   \rReceiving objects:  88% (856/972)   \rReceiving objects:  89% (866/972)   \rReceiving objects:  90% (875/972)   \rReceiving objects:  91% (885/972)   \rReceiving objects:  92% (895/972)   \rReceiving objects:  93% (904/972)   \rReceiving objects:  94% (914/972)   \rReceiving objects:  95% (924/972)   \rReceiving objects:  96% (934/972)   \rReceiving objects:  97% (943/972)   \rReceiving objects:  98% (953/972)   \rReceiving objects:  99% (963/972)   \rReceiving objects: 100% (972/972)   \rReceiving objects: 100% (972/972), 549.11 KiB | 4.29 MiB/s, done.\n",
            "Resolving deltas:   0% (0/621)   \rResolving deltas:   7% (44/621)   \rResolving deltas:  12% (77/621)   \rResolving deltas:  17% (106/621)   \rResolving deltas:  19% (120/621)   \rResolving deltas:  20% (130/621)   \rResolving deltas:  21% (131/621)   \rResolving deltas:  22% (138/621)   \rResolving deltas:  23% (146/621)   \rResolving deltas:  24% (153/621)   \rResolving deltas:  25% (156/621)   \rResolving deltas:  26% (167/621)   \rResolving deltas:  35% (218/621)   \rResolving deltas:  39% (245/621)   \rResolving deltas:  40% (254/621)   \rResolving deltas:  42% (261/621)   \rResolving deltas:  44% (274/621)   \rResolving deltas:  46% (288/621)   \rResolving deltas:  47% (292/621)   \rResolving deltas:  50% (313/621)   \rResolving deltas:  54% (341/621)   \rResolving deltas:  56% (350/621)   \rResolving deltas:  69% (434/621)   \rResolving deltas:  70% (435/621)   \rResolving deltas:  71% (445/621)   \rResolving deltas:  72% (448/621)   \rResolving deltas:  74% (461/621)   \rResolving deltas:  75% (467/621)   \rResolving deltas:  76% (478/621)   \rResolving deltas:  78% (488/621)   \rResolving deltas:  80% (503/621)   \rResolving deltas:  83% (518/621)   \rResolving deltas:  96% (598/621)   \rResolving deltas:  97% (606/621)   \rResolving deltas:  99% (615/621)   \rResolving deltas: 100% (621/621)   \rResolving deltas: 100% (621/621), done.\n"
          ],
          "name": "stdout"
        }
      ]
    },
    {
      "cell_type": "code",
      "metadata": {
        "id": "zFbzN0YL6z28",
        "colab_type": "code",
        "outputId": "c39bc611-2418-40b2-ca09-ebf40dfd4114",
        "colab": {
          "base_uri": "https://localhost:8080/",
          "height": 34
        }
      },
      "source": [
        "!pwd"
      ],
      "execution_count": 23,
      "outputs": [
        {
          "output_type": "stream",
          "text": [
            "/content\n"
          ],
          "name": "stdout"
        }
      ]
    },
    {
      "cell_type": "code",
      "metadata": {
        "id": "SPjMCKv762N9",
        "colab_type": "code",
        "outputId": "43575464-2c70-421e-fc8e-45277d9b3774",
        "colab": {
          "base_uri": "https://localhost:8080/",
          "height": 187
        }
      },
      "source": [
        "!ls"
      ],
      "execution_count": 24,
      "outputs": [
        {
          "output_type": "stream",
          "text": [
            "alpha-zero-general\t     models\n",
            "awesome-bert-nlp\t     pennylane\n",
            "chess-alpha-zero\t     pytorch-pretrained-BERT\n",
            "deep-reinforcement-learning  reinforcement-learning\n",
            "dopamine\t\t     Reinforcement-learning-with-tensorflow\n",
            "drive\t\t\t     sample_data\n",
            "face_recognition\t     scientific\n",
            "image_captioning\t     sockeye\n",
            "Image-Captioning\t     tensor2tensor\n",
            "leela-chess\t\t     tensorflow-image-detection\n"
          ],
          "name": "stdout"
        }
      ]
    },
    {
      "cell_type": "code",
      "metadata": {
        "id": "BePOdcPv63kR",
        "colab_type": "code",
        "outputId": "85fa58f4-ad03-4fb9-9da9-4a4bb99c7186",
        "colab": {
          "base_uri": "https://localhost:8080/",
          "height": 34
        }
      },
      "source": [
        "%cd pytorch-pretrained-BERT/"
      ],
      "execution_count": 25,
      "outputs": [
        {
          "output_type": "stream",
          "text": [
            "/content/pytorch-pretrained-BERT\n"
          ],
          "name": "stdout"
        }
      ]
    },
    {
      "cell_type": "code",
      "metadata": {
        "id": "2ywrly9Z69tC",
        "colab_type": "code",
        "outputId": "560fa611-955f-4375-f794-1177b6a5ec45",
        "colab": {
          "base_uri": "https://localhost:8080/",
          "height": 51
        }
      },
      "source": [
        "!ls\n"
      ],
      "execution_count": 26,
      "outputs": [
        {
          "output_type": "stream",
          "text": [
            "bin\t  LICENSE    pytorch_pretrained_bert  requirements.txt\tsetup.py\n",
            "examples  notebooks  README.md\t\t      samples\t\ttests\n"
          ],
          "name": "stdout"
        }
      ]
    },
    {
      "cell_type": "code",
      "metadata": {
        "id": "4oOGoCq86-44",
        "colab_type": "code",
        "outputId": "afde0772-6639-4830-b42d-0e91fb5bf496",
        "colab": {
          "base_uri": "https://localhost:8080/",
          "height": 34
        }
      },
      "source": [
        "%cd pytorch_pretrained_bert/\n"
      ],
      "execution_count": 27,
      "outputs": [
        {
          "output_type": "stream",
          "text": [
            "/content/pytorch-pretrained-BERT/pytorch_pretrained_bert\n"
          ],
          "name": "stdout"
        }
      ]
    },
    {
      "cell_type": "code",
      "metadata": {
        "id": "Zte1Wp4T7Haq",
        "colab_type": "code",
        "outputId": "65898c59-b8f8-4e37-fdb2-86f85ec2aec5",
        "colab": {
          "base_uri": "https://localhost:8080/",
          "height": 68
        }
      },
      "source": [
        "!ls\n"
      ],
      "execution_count": 28,
      "outputs": [
        {
          "output_type": "stream",
          "text": [
            "convert_tf_checkpoint_to_pytorch.py  __main__.py      tokenization.py\n",
            "file_utils.py\t\t\t     modeling.py\n",
            "__init__.py\t\t\t     optimization.py\n"
          ],
          "name": "stdout"
        }
      ]
    },
    {
      "cell_type": "code",
      "metadata": {
        "id": "gny1m0fk7IkQ",
        "colab_type": "code",
        "outputId": "4f93e39f-f2ab-4a3e-a3c7-24e94951a229",
        "colab": {
          "base_uri": "https://localhost:8080/",
          "height": 34
        }
      },
      "source": [
        "%cd ../examples/"
      ],
      "execution_count": 29,
      "outputs": [
        {
          "output_type": "stream",
          "text": [
            "/content/pytorch-pretrained-BERT/examples\n"
          ],
          "name": "stdout"
        }
      ]
    },
    {
      "cell_type": "code",
      "metadata": {
        "id": "4ZUyGGjd7Mi5",
        "colab_type": "code",
        "outputId": "a624e08e-9500-406c-d580-830e941f5cd9",
        "colab": {
          "base_uri": "https://localhost:8080/",
          "height": 34
        }
      },
      "source": [
        "!ls\n"
      ],
      "execution_count": 30,
      "outputs": [
        {
          "output_type": "stream",
          "text": [
            "extract_features.py  run_classifier.py\trun_squad.py\n"
          ],
          "name": "stdout"
        }
      ]
    },
    {
      "cell_type": "code",
      "metadata": {
        "id": "93Ishcc27NU5",
        "colab_type": "code",
        "outputId": "cdc91a2a-8063-4956-c4e3-80b9e8c0a19f",
        "colab": {
          "base_uri": "https://localhost:8080/",
          "height": 734
        }
      },
      "source": [
        "!python extract_features.py --input_file ../samples/input.txt --output_file results.out --bert_model bert-base-chinese"
      ],
      "execution_count": 31,
      "outputs": [
        {
          "output_type": "stream",
          "text": [
            "11/23/2019 04:59:37 - INFO - __main__ -   device: cpu n_gpu: 0 distributed training: False\n",
            "11/23/2019 04:59:37 - WARNING - pytorch_pretrained_bert.tokenization -   The pre-trained model you are loading is an uncased model but you have set `do_lower_case` to False. We are setting `do_lower_case=True` for you but you may want to check this behavior.\n",
            "11/23/2019 04:59:38 - INFO - pytorch_pretrained_bert.file_utils -   https://s3.amazonaws.com/models.huggingface.co/bert/bert-base-chinese-vocab.txt not found in cache, downloading to /tmp/tmpl7e8sahv\n",
            "100% 109540/109540 [00:00<00:00, 1140586.13B/s]\n",
            "11/23/2019 04:59:38 - INFO - pytorch_pretrained_bert.file_utils -   copying /tmp/tmpl7e8sahv to cache at /root/.pytorch_pretrained_bert/8a0c070123c1f794c42a29c6904beb7c1b8715741e235bee04aca2c7636fc83f.9b42061518a39ca00b8b52059fd2bede8daa613f8a8671500e518a8c29de8c00\n",
            "11/23/2019 04:59:38 - INFO - pytorch_pretrained_bert.file_utils -   creating metadata file for /root/.pytorch_pretrained_bert/8a0c070123c1f794c42a29c6904beb7c1b8715741e235bee04aca2c7636fc83f.9b42061518a39ca00b8b52059fd2bede8daa613f8a8671500e518a8c29de8c00\n",
            "11/23/2019 04:59:38 - INFO - pytorch_pretrained_bert.file_utils -   removing temp file /tmp/tmpl7e8sahv\n",
            "11/23/2019 04:59:38 - INFO - pytorch_pretrained_bert.tokenization -   loading vocabulary file https://s3.amazonaws.com/models.huggingface.co/bert/bert-base-chinese-vocab.txt from cache at /root/.pytorch_pretrained_bert/8a0c070123c1f794c42a29c6904beb7c1b8715741e235bee04aca2c7636fc83f.9b42061518a39ca00b8b52059fd2bede8daa613f8a8671500e518a8c29de8c00\n",
            "11/23/2019 04:59:38 - INFO - __main__ -   *** Example ***\n",
            "11/23/2019 04:59:38 - INFO - __main__ -   unique_id: 0\n",
            "11/23/2019 04:59:38 - INFO - __main__ -   tokens: [CLS] who was jim he ##ns ##on ? [SEP] jim he ##ns ##on was a pu ##pp ##et ##ee ##r [SEP]\n",
            "11/23/2019 04:59:38 - INFO - __main__ -   input_ids: 101 9372 9947 11268 9245 8727 8224 136 102 11268 9245 8727 8224 9947 143 11227 9586 8418 8854 8180 102 0 0 0 0 0 0 0 0 0 0 0 0 0 0 0 0 0 0 0 0 0 0 0 0 0 0 0 0 0 0 0 0 0 0 0 0 0 0 0 0 0 0 0 0 0 0 0 0 0 0 0 0 0 0 0 0 0 0 0 0 0 0 0 0 0 0 0 0 0 0 0 0 0 0 0 0 0 0 0 0 0 0 0 0 0 0 0 0 0 0 0 0 0 0 0 0 0 0 0 0 0 0 0 0 0 0 0\n",
            "11/23/2019 04:59:38 - INFO - __main__ -   input_mask: 1 1 1 1 1 1 1 1 1 1 1 1 1 1 1 1 1 1 1 1 1 0 0 0 0 0 0 0 0 0 0 0 0 0 0 0 0 0 0 0 0 0 0 0 0 0 0 0 0 0 0 0 0 0 0 0 0 0 0 0 0 0 0 0 0 0 0 0 0 0 0 0 0 0 0 0 0 0 0 0 0 0 0 0 0 0 0 0 0 0 0 0 0 0 0 0 0 0 0 0 0 0 0 0 0 0 0 0 0 0 0 0 0 0 0 0 0 0 0 0 0 0 0 0 0 0 0 0\n",
            "11/23/2019 04:59:38 - INFO - __main__ -   input_type_ids: 0 0 0 0 0 0 0 0 0 1 1 1 1 1 1 1 1 1 1 1 1 0 0 0 0 0 0 0 0 0 0 0 0 0 0 0 0 0 0 0 0 0 0 0 0 0 0 0 0 0 0 0 0 0 0 0 0 0 0 0 0 0 0 0 0 0 0 0 0 0 0 0 0 0 0 0 0 0 0 0 0 0 0 0 0 0 0 0 0 0 0 0 0 0 0 0 0 0 0 0 0 0 0 0 0 0 0 0 0 0 0 0 0 0 0 0 0 0 0 0 0 0 0 0 0 0 0 0\n",
            "11/23/2019 04:59:38 - INFO - pytorch_pretrained_bert.file_utils -   https://s3.amazonaws.com/models.huggingface.co/bert/bert-base-chinese.tar.gz not found in cache, downloading to /tmp/tmp0bc_m4ba\n",
            "100% 382072689/382072689 [00:06<00:00, 56679198.39B/s]\n",
            "11/23/2019 04:59:45 - INFO - pytorch_pretrained_bert.file_utils -   copying /tmp/tmp0bc_m4ba to cache at /root/.pytorch_pretrained_bert/42d4a64dda3243ffeca7ec268d5544122e67d9d06b971608796b483925716512.02ac7d664cff08d793eb00d6aac1d04368a1322435e5fe0a27c70b0b3a85327f\n",
            "11/23/2019 04:59:46 - INFO - pytorch_pretrained_bert.file_utils -   creating metadata file for /root/.pytorch_pretrained_bert/42d4a64dda3243ffeca7ec268d5544122e67d9d06b971608796b483925716512.02ac7d664cff08d793eb00d6aac1d04368a1322435e5fe0a27c70b0b3a85327f\n",
            "11/23/2019 04:59:46 - INFO - pytorch_pretrained_bert.file_utils -   removing temp file /tmp/tmp0bc_m4ba\n",
            "11/23/2019 04:59:46 - INFO - pytorch_pretrained_bert.modeling -   loading archive file https://s3.amazonaws.com/models.huggingface.co/bert/bert-base-chinese.tar.gz from cache at /root/.pytorch_pretrained_bert/42d4a64dda3243ffeca7ec268d5544122e67d9d06b971608796b483925716512.02ac7d664cff08d793eb00d6aac1d04368a1322435e5fe0a27c70b0b3a85327f\n",
            "11/23/2019 04:59:46 - INFO - pytorch_pretrained_bert.modeling -   extracting archive file /root/.pytorch_pretrained_bert/42d4a64dda3243ffeca7ec268d5544122e67d9d06b971608796b483925716512.02ac7d664cff08d793eb00d6aac1d04368a1322435e5fe0a27c70b0b3a85327f to temp dir /tmp/tmphj1y3pwl\n",
            "11/23/2019 04:59:50 - INFO - pytorch_pretrained_bert.modeling -   Model config {\n",
            "  \"attention_probs_dropout_prob\": 0.1,\n",
            "  \"directionality\": \"bidi\",\n",
            "  \"hidden_act\": \"gelu\",\n",
            "  \"hidden_dropout_prob\": 0.1,\n",
            "  \"hidden_size\": 768,\n",
            "  \"initializer_range\": 0.02,\n",
            "  \"intermediate_size\": 3072,\n",
            "  \"max_position_embeddings\": 512,\n",
            "  \"num_attention_heads\": 12,\n",
            "  \"num_hidden_layers\": 12,\n",
            "  \"pooler_fc_size\": 768,\n",
            "  \"pooler_num_attention_heads\": 12,\n",
            "  \"pooler_num_fc_layers\": 3,\n",
            "  \"pooler_size_per_head\": 128,\n",
            "  \"pooler_type\": \"first_token_transform\",\n",
            "  \"type_vocab_size\": 2,\n",
            "  \"vocab_size\": 21128\n",
            "}\n",
            "\n"
          ],
          "name": "stdout"
        }
      ]
    },
    {
      "cell_type": "code",
      "metadata": {
        "id": "5-VudQX88Jlb",
        "colab_type": "code",
        "outputId": "863e5f3f-30dd-426e-808a-c0b582fdacb7",
        "colab": {
          "base_uri": "https://localhost:8080/",
          "height": 51
        }
      },
      "source": [
        "%cd ..\n",
        "!pwd"
      ],
      "execution_count": 32,
      "outputs": [
        {
          "output_type": "stream",
          "text": [
            "/content/pytorch-pretrained-BERT\n",
            "/content/pytorch-pretrained-BERT\n"
          ],
          "name": "stdout"
        }
      ]
    },
    {
      "cell_type": "code",
      "metadata": {
        "id": "LohaVwiL7PxC",
        "colab_type": "code",
        "outputId": "dd8cca3a-1d85-41b7-a3f7-c0c2258c93c1",
        "colab": {
          "base_uri": "https://localhost:8080/",
          "height": 462
        }
      },
      "source": [
        "!python -m pytest -sv tests/"
      ],
      "execution_count": 33,
      "outputs": [
        {
          "output_type": "stream",
          "text": [
            "\u001b[1m============================= test session starts ==============================\u001b[0m\n",
            "platform linux -- Python 3.6.8, pytest-3.6.4, py-1.8.0, pluggy-0.7.1 -- /usr/bin/python3\n",
            "cachedir: .pytest_cache\n",
            "rootdir: /content/pytorch-pretrained-BERT, inifile:\n",
            "collected 11 items                                                             \u001b[0m\n",
            "\n",
            "tests/modeling_test.py::BertModelTest::test_config_to_json_string \u001b[32mPASSED\u001b[0m\n",
            "tests/modeling_test.py::BertModelTest::test_default \u001b[32mPASSED\u001b[0m\n",
            "tests/optimization_test.py::OptimizationTest::test_adam \u001b[32mPASSED\u001b[0m\n",
            "tests/tokenization_test.py::TokenizationTest::test_basic_tokenizer_lower \u001b[32mPASSED\u001b[0m\n",
            "tests/tokenization_test.py::TokenizationTest::test_basic_tokenizer_no_lower \u001b[32mPASSED\u001b[0m\n",
            "tests/tokenization_test.py::TokenizationTest::test_chinese \u001b[32mPASSED\u001b[0m\n",
            "tests/tokenization_test.py::TokenizationTest::test_full_tokenizer \u001b[32mPASSED\u001b[0m\n",
            "tests/tokenization_test.py::TokenizationTest::test_is_control \u001b[32mPASSED\u001b[0m\n",
            "tests/tokenization_test.py::TokenizationTest::test_is_punctuation \u001b[32mPASSED\u001b[0m\n",
            "tests/tokenization_test.py::TokenizationTest::test_is_whitespace \u001b[32mPASSED\u001b[0m\n",
            "tests/tokenization_test.py::TokenizationTest::test_wordpiece_tokenizer \u001b[32mPASSED\u001b[0m\n",
            "\n",
            "\u001b[33m=============================== warnings summary ===============================\u001b[0m\n",
            "tests/optimization_test.py::OptimizationTest::test_adam\n",
            "  /usr/local/lib/python3.6/dist-packages/torch/nn/_reduction.py:13: UserWarning: reduction='elementwise_mean' is deprecated, please use reduction='mean' instead.\n",
            "    warnings.warn(\"reduction='elementwise_mean' is deprecated, please use reduction='mean' instead.\")\n",
            "\n",
            "-- Docs: http://doc.pytest.org/en/latest/warnings.html\n",
            "\u001b[33m\u001b[1m==================== 11 passed, 1 warnings in 0.89 seconds =====================\u001b[0m\n"
          ],
          "name": "stdout"
        }
      ]
    },
    {
      "cell_type": "code",
      "metadata": {
        "id": "rJIenKZvILyy",
        "colab_type": "code",
        "outputId": "ed3160aa-9098-4e90-f520-f28ae545fd60",
        "colab": {
          "base_uri": "https://localhost:8080/",
          "height": 34
        }
      },
      "source": [
        "%cd .."
      ],
      "execution_count": 34,
      "outputs": [
        {
          "output_type": "stream",
          "text": [
            "/content\n"
          ],
          "name": "stdout"
        }
      ]
    },
    {
      "cell_type": "code",
      "metadata": {
        "id": "xpPhiXkC8MIR",
        "colab_type": "code",
        "outputId": "0cad4545-f075-4f2c-cb2b-669ca5fe3b4d",
        "colab": {
          "base_uri": "https://localhost:8080/",
          "height": 102
        }
      },
      "source": [
        "!git clone https://github.com/google-research/bert.git"
      ],
      "execution_count": 35,
      "outputs": [
        {
          "output_type": "stream",
          "text": [
            "Cloning into 'bert'...\n",
            "remote: Enumerating objects: 336, done.\u001b[K\n",
            "Receiving objects:   0% (1/336)   \rReceiving objects:   1% (4/336)   \rReceiving objects:   2% (7/336)   \rReceiving objects:   3% (11/336)   \rReceiving objects:   4% (14/336)   \rReceiving objects:   5% (17/336)   \rReceiving objects:   6% (21/336)   \rReceiving objects:   7% (24/336)   \rReceiving objects:   8% (27/336)   \rReceiving objects:   9% (31/336)   \rReceiving objects:  10% (34/336)   \rReceiving objects:  11% (37/336)   \rReceiving objects:  12% (41/336)   \rReceiving objects:  13% (44/336)   \rReceiving objects:  14% (48/336)   \rReceiving objects:  15% (51/336)   \rReceiving objects:  16% (54/336)   \rReceiving objects:  17% (58/336)   \rReceiving objects:  18% (61/336)   \rReceiving objects:  19% (64/336)   \rReceiving objects:  20% (68/336)   \rReceiving objects:  21% (71/336)   \rReceiving objects:  22% (74/336)   \rReceiving objects:  23% (78/336)   \rReceiving objects:  24% (81/336)   \rReceiving objects:  25% (84/336)   \rReceiving objects:  26% (88/336)   \rReceiving objects:  27% (91/336)   \rReceiving objects:  28% (95/336)   \rReceiving objects:  29% (98/336)   \rReceiving objects:  30% (101/336)   \rReceiving objects:  31% (105/336)   \rReceiving objects:  32% (108/336)   \rReceiving objects:  33% (111/336)   \rReceiving objects:  34% (115/336)   \rReceiving objects:  35% (118/336)   \rReceiving objects:  36% (121/336)   \rReceiving objects:  37% (125/336)   \rReceiving objects:  38% (128/336)   \rReceiving objects:  39% (132/336)   \rReceiving objects:  40% (135/336)   \rReceiving objects:  41% (138/336)   \rReceiving objects:  42% (142/336)   \rReceiving objects:  43% (145/336)   \rReceiving objects:  44% (148/336)   \rReceiving objects:  45% (152/336)   \rReceiving objects:  46% (155/336)   \rReceiving objects:  47% (158/336)   \rReceiving objects:  48% (162/336)   \rReceiving objects:  49% (165/336)   \rReceiving objects:  50% (168/336)   \rReceiving objects:  51% (172/336)   \rReceiving objects:  52% (175/336)   \rReceiving objects:  53% (179/336)   \rremote: Total 336 (delta 0), reused 0 (delta 0), pack-reused 336\u001b[K\n",
            "Receiving objects:  54% (182/336)   \rReceiving objects:  55% (185/336)   \rReceiving objects:  56% (189/336)   \rReceiving objects:  57% (192/336)   \rReceiving objects:  58% (195/336)   \rReceiving objects:  59% (199/336)   \rReceiving objects:  60% (202/336)   \rReceiving objects:  61% (205/336)   \rReceiving objects:  62% (209/336)   \rReceiving objects:  63% (212/336)   \rReceiving objects:  64% (216/336)   \rReceiving objects:  65% (219/336)   \rReceiving objects:  66% (222/336)   \rReceiving objects:  67% (226/336)   \rReceiving objects:  68% (229/336)   \rReceiving objects:  69% (232/336)   \rReceiving objects:  70% (236/336)   \rReceiving objects:  71% (239/336)   \rReceiving objects:  72% (242/336)   \rReceiving objects:  73% (246/336)   \rReceiving objects:  74% (249/336)   \rReceiving objects:  75% (252/336)   \rReceiving objects:  76% (256/336)   \rReceiving objects:  77% (259/336)   \rReceiving objects:  78% (263/336)   \rReceiving objects:  79% (266/336)   \rReceiving objects:  80% (269/336)   \rReceiving objects:  81% (273/336)   \rReceiving objects:  82% (276/336)   \rReceiving objects:  83% (279/336)   \rReceiving objects:  84% (283/336)   \rReceiving objects:  85% (286/336)   \rReceiving objects:  86% (289/336)   \rReceiving objects:  87% (293/336)   \rReceiving objects:  88% (296/336)   \rReceiving objects:  89% (300/336)   \rReceiving objects:  90% (303/336)   \rReceiving objects:  91% (306/336)   \rReceiving objects:  92% (310/336)   \rReceiving objects:  93% (313/336)   \rReceiving objects:  94% (316/336)   \rReceiving objects:  95% (320/336)   \rReceiving objects:  96% (323/336)   \rReceiving objects:  97% (326/336)   \rReceiving objects:  98% (330/336)   \rReceiving objects:  99% (333/336)   \rReceiving objects: 100% (336/336)   \rReceiving objects: 100% (336/336), 283.40 KiB | 2.98 MiB/s, done.\n",
            "Resolving deltas:   0% (0/185)   \rResolving deltas:   1% (2/185)   \rResolving deltas:   2% (4/185)   \rResolving deltas:   4% (8/185)   \rResolving deltas:   7% (13/185)   \rResolving deltas:   8% (16/185)   \rResolving deltas:   9% (18/185)   \rResolving deltas:  16% (31/185)   \rResolving deltas:  22% (42/185)   \rResolving deltas:  39% (73/185)   \rResolving deltas:  40% (75/185)   \rResolving deltas:  41% (76/185)   \rResolving deltas:  44% (82/185)   \rResolving deltas:  49% (92/185)   \rResolving deltas:  52% (98/185)   \rResolving deltas:  57% (106/185)   \rResolving deltas:  59% (110/185)   \rResolving deltas:  65% (122/185)   \rResolving deltas: 100% (185/185)   \rResolving deltas: 100% (185/185), done.\n"
          ],
          "name": "stdout"
        }
      ]
    },
    {
      "cell_type": "code",
      "metadata": {
        "id": "jTvI6KP7yLn1",
        "colab_type": "code",
        "outputId": "9a26bbd4-4108-45ce-9eef-a008539c3cc5",
        "colab": {
          "base_uri": "https://localhost:8080/",
          "height": 136
        }
      },
      "source": [
        "!git clone https://github.com/deepmipt/DeepPavlov.git"
      ],
      "execution_count": 36,
      "outputs": [
        {
          "output_type": "stream",
          "text": [
            "Cloning into 'DeepPavlov'...\n",
            "remote: Enumerating objects: 503, done.\u001b[K\n",
            "remote: Counting objects:   0% (1/503)\u001b[K\rremote: Counting objects:   1% (6/503)\u001b[K\rremote: Counting objects:   2% (11/503)\u001b[K\rremote: Counting objects:   3% (16/503)\u001b[K\rremote: Counting objects:   4% (21/503)\u001b[K\rremote: Counting objects:   5% (26/503)\u001b[K\rremote: Counting objects:   6% (31/503)\u001b[K\rremote: Counting objects:   7% (36/503)\u001b[K\rremote: Counting objects:   8% (41/503)\u001b[K\rremote: Counting objects:   9% (46/503)\u001b[K\rremote: Counting objects:  10% (51/503)\u001b[K\rremote: Counting objects:  11% (56/503)\u001b[K\rremote: Counting objects:  12% (61/503)\u001b[K\rremote: Counting objects:  13% (66/503)\u001b[K\rremote: Counting objects:  14% (71/503)\u001b[K\rremote: Counting objects:  15% (76/503)\u001b[K\rremote: Counting objects:  16% (81/503)\u001b[K\rremote: Counting objects:  17% (86/503)\u001b[K\rremote: Counting objects:  18% (91/503)\u001b[K\rremote: Counting objects:  19% (96/503)\u001b[K\rremote: Counting objects:  20% (101/503)\u001b[K\rremote: Counting objects:  21% (106/503)\u001b[K\rremote: Counting objects:  22% (111/503)\u001b[K\rremote: Counting objects:  23% (116/503)\u001b[K\rremote: Counting objects:  24% (121/503)\u001b[K\rremote: Counting objects:  25% (126/503)\u001b[K\rremote: Counting objects:  26% (131/503)\u001b[K\rremote: Counting objects:  27% (136/503)\u001b[K\rremote: Counting objects:  28% (141/503)\u001b[K\rremote: Counting objects:  29% (146/503)\u001b[K\rremote: Counting objects:  30% (151/503)\u001b[K\rremote: Counting objects:  31% (156/503)\u001b[K\rremote: Counting objects:  32% (161/503)\u001b[K\rremote: Counting objects:  33% (166/503)\u001b[K\rremote: Counting objects:  34% (172/503)\u001b[K\rremote: Counting objects:  35% (177/503)\u001b[K\rremote: Counting objects:  36% (182/503)\u001b[K\rremote: Counting objects:  37% (187/503)\u001b[K\rremote: Counting objects:  38% (192/503)\u001b[K\rremote: Counting objects:  39% (197/503)\u001b[K\rremote: Counting objects:  40% (202/503)\u001b[K\rremote: Counting objects:  41% (207/503)\u001b[K\rremote: Counting objects:  42% (212/503)\u001b[K\rremote: Counting objects:  43% (217/503)\u001b[K\rremote: Counting objects:  44% (222/503)\u001b[K\rremote: Counting objects:  45% (227/503)\u001b[K\rremote: Counting objects:  46% (232/503)\u001b[K\rremote: Counting objects:  47% (237/503)\u001b[K\rremote: Counting objects:  48% (242/503)\u001b[K\rremote: Counting objects:  49% (247/503)\u001b[K\rremote: Counting objects:  50% (252/503)\u001b[K\rremote: Counting objects:  51% (257/503)\u001b[K\rremote: Counting objects:  52% (262/503)\u001b[K\rremote: Counting objects:  53% (267/503)\u001b[K\rremote: Counting objects:  54% (272/503)\u001b[K\rremote: Counting objects:  55% (277/503)\u001b[K\rremote: Counting objects:  56% (282/503)\u001b[K\rremote: Counting objects:  57% (287/503)\u001b[K\rremote: Counting objects:  58% (292/503)\u001b[K\rremote: Counting objects:  59% (297/503)\u001b[K\rremote: Counting objects:  60% (302/503)\u001b[K\rremote: Counting objects:  61% (307/503)\u001b[K\rremote: Counting objects:  62% (312/503)\u001b[K\rremote: Counting objects:  63% (317/503)\u001b[K\rremote: Counting objects:  64% (322/503)\u001b[K\rremote: Counting objects:  65% (327/503)\u001b[K\rremote: Counting objects:  66% (332/503)\u001b[K\rremote: Counting objects:  67% (338/503)\u001b[K\rremote: Counting objects:  68% (343/503)\u001b[K\rremote: Counting objects:  69% (348/503)\u001b[K\rremote: Counting objects:  70% (353/503)\u001b[K\rremote: Counting objects:  71% (358/503)\u001b[K\rremote: Counting objects:  72% (363/503)\u001b[K\rremote: Counting objects:  73% (368/503)\u001b[K\rremote: Counting objects:  74% (373/503)\u001b[K\rremote: Counting objects:  75% (378/503)\u001b[K\rremote: Counting objects:  76% (383/503)\u001b[K\rremote: Counting objects:  77% (388/503)\u001b[K\rremote: Counting objects:  78% (393/503)\u001b[K\rremote: Counting objects:  79% (398/503)\u001b[K\rremote: Counting objects:  80% (403/503)\u001b[K\rremote: Counting objects:  81% (408/503)\u001b[K\rremote: Counting objects:  82% (413/503)\u001b[K\rremote: Counting objects:  83% (418/503)\u001b[K\rremote: Counting objects:  84% (423/503)\u001b[K\rremote: Counting objects:  85% (428/503)\u001b[K\rremote: Counting objects:  86% (433/503)\u001b[K\rremote: Counting objects:  87% (438/503)\u001b[K\rremote: Counting objects:  88% (443/503)\u001b[K\rremote: Counting objects:  89% (448/503)\u001b[K\rremote: Counting objects:  90% (453/503)\u001b[K\rremote: Counting objects:  91% (458/503)\u001b[K\rremote: Counting objects:  92% (463/503)\u001b[K\rremote: Counting objects:  93% (468/503)\u001b[K\rremote: Counting objects:  94% (473/503)\u001b[K\rremote: Counting objects:  95% (478/503)\u001b[K\rremote: Counting objects:  96% (483/503)\u001b[K\rremote: Counting objects:  97% (488/503)\u001b[K\rremote: Counting objects:  98% (493/503)\u001b[K\rremote: Counting objects:  99% (498/503)\u001b[K\rremote: Counting objects: 100% (503/503)\u001b[K\rremote: Counting objects: 100% (503/503), done.\u001b[K\n",
            "remote: Compressing objects: 100% (312/312), done.\u001b[K\n",
            "remote: Total 48271 (delta 326), reused 307 (delta 186), pack-reused 47768\u001b[K\n",
            "Receiving objects: 100% (48271/48271), 34.32 MiB | 19.80 MiB/s, done.\n",
            "Resolving deltas: 100% (36725/36725), done.\n"
          ],
          "name": "stdout"
        }
      ]
    },
    {
      "cell_type": "code",
      "metadata": {
        "id": "n0I8KhndyUOm",
        "colab_type": "code",
        "outputId": "63cccd1e-d619-4546-8e41-89998bd2302e",
        "colab": {
          "base_uri": "https://localhost:8080/",
          "height": 136
        }
      },
      "source": [
        "!git clone https://github.com/RasaHQ/rasa.git"
      ],
      "execution_count": 37,
      "outputs": [
        {
          "output_type": "stream",
          "text": [
            "Cloning into 'rasa'...\n",
            "remote: Enumerating objects: 13632, done.\u001b[K\n",
            "remote: Counting objects: 100% (13632/13632), done.\u001b[K\n",
            "remote: Compressing objects: 100% (1513/1513), done.\u001b[K\n",
            "remote: Total 943324 (delta 9571), reused 13374 (delta 9422), pack-reused 929692\u001b[K\n",
            "Receiving objects: 100% (943324/943324), 505.06 MiB | 30.33 MiB/s, done.\n",
            "Resolving deltas: 100% (770981/770981), done.\n"
          ],
          "name": "stdout"
        }
      ]
    },
    {
      "cell_type": "code",
      "metadata": {
        "id": "DEtiRa7ymiei",
        "colab_type": "code",
        "outputId": "dd9432e3-f654-4988-ee16-8ed0ddd0ffe2",
        "colab": {
          "base_uri": "https://localhost:8080/",
          "height": 102
        }
      },
      "source": [
        "!git clone https://github.com/google/seq2seq.git"
      ],
      "execution_count": 38,
      "outputs": [
        {
          "output_type": "stream",
          "text": [
            "Cloning into 'seq2seq'...\n",
            "remote: Enumerating objects: 5995, done.\u001b[K\n",
            "remote: Total 5995 (delta 0), reused 0 (delta 0), pack-reused 5995\u001b[K\n",
            "Receiving objects: 100% (5995/5995), 1.63 MiB | 8.49 MiB/s, done.\n",
            "Resolving deltas: 100% (4189/4189), done.\n"
          ],
          "name": "stdout"
        }
      ]
    },
    {
      "cell_type": "code",
      "metadata": {
        "id": "QLL2PLDymkRn",
        "colab_type": "code",
        "outputId": "4a02e470-29d5-45f2-e27c-c63e268a5fb9",
        "colab": {
          "base_uri": "https://localhost:8080/",
          "height": 136
        }
      },
      "source": [
        "!git clone https://github.com/dragen1860/TensorFlow-2.x-Tutorials.git"
      ],
      "execution_count": 39,
      "outputs": [
        {
          "output_type": "stream",
          "text": [
            "Cloning into 'TensorFlow-2.x-Tutorials'...\n",
            "remote: Enumerating objects: 92, done.\u001b[K\n",
            "remote: Counting objects: 100% (92/92), done.\u001b[K\n",
            "remote: Compressing objects: 100% (69/69), done.\u001b[K\n",
            "remote: Total 1727 (delta 35), reused 49 (delta 23), pack-reused 1635\u001b[K\n",
            "Receiving objects: 100% (1727/1727), 158.95 MiB | 45.32 MiB/s, done.\n",
            "Resolving deltas: 100% (660/660), done.\n"
          ],
          "name": "stdout"
        }
      ]
    },
    {
      "cell_type": "code",
      "metadata": {
        "id": "mt9Moc8p583p",
        "colab_type": "code",
        "outputId": "b7d59dfe-c500-4a98-c2de-9b1ee4dbc2c3",
        "colab": {
          "base_uri": "https://localhost:8080/",
          "height": 153
        }
      },
      "source": [
        "!git clone https://github.com/tensorflow/tensorflow.git"
      ],
      "execution_count": 40,
      "outputs": [
        {
          "output_type": "stream",
          "text": [
            "Cloning into 'tensorflow'...\n",
            "remote: Enumerating objects: 13, done.\u001b[K\n",
            "remote: Counting objects: 100% (13/13), done.\u001b[K\n",
            "remote: Compressing objects: 100% (11/11), done.\u001b[K\n",
            "remote: Total 769654 (delta 1), reused 13 (delta 1), pack-reused 769641\u001b[K\n",
            "Receiving objects: 100% (769654/769654), 435.49 MiB | 27.91 MiB/s, done.\n",
            "Resolving deltas: 100% (621992/621992), done.\n",
            "Checking out files: 100% (19298/19298), done.\n"
          ],
          "name": "stdout"
        }
      ]
    },
    {
      "cell_type": "code",
      "metadata": {
        "id": "VXroyZLs6P5z",
        "colab_type": "code",
        "outputId": "8a14e978-4a39-4423-ba76-11c55d445240",
        "colab": {
          "base_uri": "https://localhost:8080/",
          "height": 85
        }
      },
      "source": [
        "!git clone https://github.com/sujaybabruwad/LeNet-in-Tensorflow.git"
      ],
      "execution_count": 41,
      "outputs": [
        {
          "output_type": "stream",
          "text": [
            "Cloning into 'LeNet-in-Tensorflow'...\n",
            "remote: Enumerating objects: 31, done.\u001b[K\n",
            "Unpacking objects:   3% (1/31)   \rUnpacking objects:   6% (2/31)   \rUnpacking objects:   9% (3/31)   \rUnpacking objects:  12% (4/31)   \rUnpacking objects:  16% (5/31)   \rUnpacking objects:  19% (6/31)   \rUnpacking objects:  22% (7/31)   \rUnpacking objects:  25% (8/31)   \rUnpacking objects:  29% (9/31)   \rUnpacking objects:  32% (10/31)   \rUnpacking objects:  35% (11/31)   \rUnpacking objects:  38% (12/31)   \rUnpacking objects:  41% (13/31)   \rUnpacking objects:  45% (14/31)   \rUnpacking objects:  48% (15/31)   \rUnpacking objects:  51% (16/31)   \rUnpacking objects:  54% (17/31)   \rUnpacking objects:  58% (18/31)   \rremote: Total 31 (delta 0), reused 0 (delta 0), pack-reused 31\u001b[K\n",
            "Unpacking objects:  61% (19/31)   \rUnpacking objects:  64% (20/31)   \rUnpacking objects:  67% (21/31)   \rUnpacking objects:  70% (22/31)   \rUnpacking objects:  74% (23/31)   \rUnpacking objects:  77% (24/31)   \rUnpacking objects:  80% (25/31)   \rUnpacking objects:  83% (26/31)   \rUnpacking objects:  87% (27/31)   \rUnpacking objects:  90% (28/31)   \rUnpacking objects:  93% (29/31)   \rUnpacking objects:  96% (30/31)   \rUnpacking objects: 100% (31/31)   \rUnpacking objects: 100% (31/31), done.\n"
          ],
          "name": "stdout"
        }
      ]
    },
    {
      "cell_type": "code",
      "metadata": {
        "id": "PuqUeJibyFsI",
        "colab_type": "code",
        "outputId": "0eb1cd1d-9bc9-4dbe-fb4c-a8c63e15f8b6",
        "colab": {
          "base_uri": "https://localhost:8080/",
          "height": 102
        }
      },
      "source": [
        "!git clone https://github.com/tensorflow/playground.git"
      ],
      "execution_count": 42,
      "outputs": [
        {
          "output_type": "stream",
          "text": [
            "Cloning into 'playground'...\n",
            "remote: Enumerating objects: 1223, done.\u001b[K\n",
            "remote: Total 1223 (delta 0), reused 0 (delta 0), pack-reused 1223\u001b[K\n",
            "Receiving objects: 100% (1223/1223), 1.17 MiB | 7.49 MiB/s, done.\n",
            "Resolving deltas: 100% (770/770), done.\n"
          ],
          "name": "stdout"
        }
      ]
    },
    {
      "cell_type": "code",
      "metadata": {
        "id": "O7IyUdsbyJcS",
        "colab_type": "code",
        "outputId": "3b20f932-a790-4cd8-df9a-bae6e456a71e",
        "colab": {
          "base_uri": "https://localhost:8080/",
          "height": 136
        }
      },
      "source": [
        "!git clone https://github.com/pytorch/vision.git\n"
      ],
      "execution_count": 43,
      "outputs": [
        {
          "output_type": "stream",
          "text": [
            "Cloning into 'vision'...\n",
            "remote: Enumerating objects: 11, done.\u001b[K\n",
            "remote: Counting objects:   9% (1/11)\u001b[K\rremote: Counting objects:  18% (2/11)\u001b[K\rremote: Counting objects:  27% (3/11)\u001b[K\rremote: Counting objects:  36% (4/11)\u001b[K\rremote: Counting objects:  45% (5/11)\u001b[K\rremote: Counting objects:  54% (6/11)\u001b[K\rremote: Counting objects:  63% (7/11)\u001b[K\rremote: Counting objects:  72% (8/11)\u001b[K\rremote: Counting objects:  81% (9/11)\u001b[K\rremote: Counting objects:  90% (10/11)\u001b[K\rremote: Counting objects: 100% (11/11)\u001b[K\rremote: Counting objects: 100% (11/11), done.\u001b[K\n",
            "remote: Compressing objects: 100% (11/11), done.\u001b[K\n",
            "remote: Total 5928 (delta 2), reused 3 (delta 0), pack-reused 5917\u001b[K\n",
            "Receiving objects: 100% (5928/5928), 9.53 MiB | 16.15 MiB/s, done.\n",
            "Resolving deltas: 100% (3938/3938), done.\n"
          ],
          "name": "stdout"
        }
      ]
    },
    {
      "cell_type": "code",
      "metadata": {
        "id": "ZS_-5x7lzK5A",
        "colab_type": "code",
        "outputId": "2579da89-5f3d-4a93-e8a9-73c0c7aa63c2",
        "colab": {
          "base_uri": "https://localhost:8080/",
          "height": 102
        }
      },
      "source": [
        "!git clone https://github.com/ry/tensorflow-resnet.git"
      ],
      "execution_count": 44,
      "outputs": [
        {
          "output_type": "stream",
          "text": [
            "Cloning into 'tensorflow-resnet'...\n",
            "remote: Enumerating objects: 294, done.\u001b[K\n",
            "remote: Total 294 (delta 0), reused 0 (delta 0), pack-reused 294\u001b[K\n",
            "Receiving objects: 100% (294/294), 1.39 MiB | 7.57 MiB/s, done.\n",
            "Resolving deltas: 100% (162/162), done.\n"
          ],
          "name": "stdout"
        }
      ]
    },
    {
      "cell_type": "code",
      "metadata": {
        "id": "xpQJ2ZJfzyrp",
        "colab_type": "code",
        "outputId": "53bbd6b4-b0c2-43a6-b915-72e50a709715",
        "colab": {
          "base_uri": "https://localhost:8080/",
          "height": 102
        }
      },
      "source": [
        "!git clone https://github.com/tensorflow/swift-models.git"
      ],
      "execution_count": 45,
      "outputs": [
        {
          "output_type": "stream",
          "text": [
            "Cloning into 'swift-models'...\n",
            "remote: Enumerating objects: 1396, done.\u001b[K\n",
            "remote: Total 1396 (delta 0), reused 0 (delta 0), pack-reused 1396\u001b[K\n",
            "Receiving objects: 100% (1396/1396), 16.46 MiB | 19.31 MiB/s, done.\n",
            "Resolving deltas: 100% (773/773), done.\n"
          ],
          "name": "stdout"
        }
      ]
    },
    {
      "cell_type": "code",
      "metadata": {
        "id": "Yi48YLYiz3kp",
        "colab_type": "code",
        "outputId": "f5c23f3f-4bdc-4747-887c-3d619e533c52",
        "colab": {
          "base_uri": "https://localhost:8080/",
          "height": 136
        }
      },
      "source": [
        "!git clone https://github.com/tensorflow/lattice.git"
      ],
      "execution_count": 46,
      "outputs": [
        {
          "output_type": "stream",
          "text": [
            "Cloning into 'lattice'...\n",
            "remote: Enumerating objects: 86, done.\u001b[K\n",
            "remote: Counting objects:   1% (1/86)\u001b[K\rremote: Counting objects:   2% (2/86)\u001b[K\rremote: Counting objects:   3% (3/86)\u001b[K\rremote: Counting objects:   4% (4/86)\u001b[K\rremote: Counting objects:   5% (5/86)\u001b[K\rremote: Counting objects:   6% (6/86)\u001b[K\rremote: Counting objects:   8% (7/86)\u001b[K\rremote: Counting objects:   9% (8/86)\u001b[K\rremote: Counting objects:  10% (9/86)\u001b[K\rremote: Counting objects:  11% (10/86)\u001b[K\rremote: Counting objects:  12% (11/86)\u001b[K\rremote: Counting objects:  13% (12/86)\u001b[K\rremote: Counting objects:  15% (13/86)\u001b[K\rremote: Counting objects:  16% (14/86)\u001b[K\rremote: Counting objects:  17% (15/86)\u001b[K\rremote: Counting objects:  18% (16/86)\u001b[K\rremote: Counting objects:  19% (17/86)\u001b[K\rremote: Counting objects:  20% (18/86)\u001b[K\rremote: Counting objects:  22% (19/86)\u001b[K\rremote: Counting objects:  23% (20/86)\u001b[K\rremote: Counting objects:  24% (21/86)\u001b[K\rremote: Counting objects:  25% (22/86)\u001b[K\rremote: Counting objects:  26% (23/86)\u001b[K\rremote: Counting objects:  27% (24/86)\u001b[K\rremote: Counting objects:  29% (25/86)\u001b[K\rremote: Counting objects:  30% (26/86)\u001b[K\rremote: Counting objects:  31% (27/86)\u001b[K\rremote: Counting objects:  32% (28/86)\u001b[K\rremote: Counting objects:  33% (29/86)\u001b[K\rremote: Counting objects:  34% (30/86)\u001b[K\rremote: Counting objects:  36% (31/86)\u001b[K\rremote: Counting objects:  37% (32/86)\u001b[K\rremote: Counting objects:  38% (33/86)\u001b[K\rremote: Counting objects:  39% (34/86)\u001b[K\rremote: Counting objects:  40% (35/86)\u001b[K\rremote: Counting objects:  41% (36/86)\u001b[K\rremote: Counting objects:  43% (37/86)\u001b[K\rremote: Counting objects:  44% (38/86)\u001b[K\rremote: Counting objects:  45% (39/86)\u001b[K\rremote: Counting objects:  46% (40/86)\u001b[K\rremote: Counting objects:  47% (41/86)\u001b[K\rremote: Counting objects:  48% (42/86)\u001b[K\rremote: Counting objects:  50% (43/86)\u001b[K\rremote: Counting objects:  51% (44/86)\u001b[K\rremote: Counting objects:  52% (45/86)\u001b[K\rremote: Counting objects:  53% (46/86)\u001b[K\rremote: Counting objects:  54% (47/86)\u001b[K\rremote: Counting objects:  55% (48/86)\u001b[K\rremote: Counting objects:  56% (49/86)\u001b[K\rremote: Counting objects:  58% (50/86)\u001b[K\rremote: Counting objects:  59% (51/86)\u001b[K\rremote: Counting objects:  60% (52/86)\u001b[K\rremote: Counting objects:  61% (53/86)\u001b[K\rremote: Counting objects:  62% (54/86)\u001b[K\rremote: Counting objects:  63% (55/86)\u001b[K\rremote: Counting objects:  65% (56/86)\u001b[K\rremote: Counting objects:  66% (57/86)\u001b[K\rremote: Counting objects:  67% (58/86)\u001b[K\rremote: Counting objects:  68% (59/86)\u001b[K\rremote: Counting objects:  69% (60/86)\u001b[K\rremote: Counting objects:  70% (61/86)\u001b[K\rremote: Counting objects:  72% (62/86)\u001b[K\rremote: Counting objects:  73% (63/86)\u001b[K\rremote: Counting objects:  74% (64/86)\u001b[K\rremote: Counting objects:  75% (65/86)\u001b[K\rremote: Counting objects:  76% (66/86)\u001b[K\rremote: Counting objects:  77% (67/86)\u001b[K\rremote: Counting objects:  79% (68/86)\u001b[K\rremote: Counting objects:  80% (69/86)\u001b[K\rremote: Counting objects:  81% (70/86)\u001b[K\rremote: Counting objects:  82% (71/86)\u001b[K\rremote: Counting objects:  83% (72/86)\u001b[K\rremote: Counting objects:  84% (73/86)\u001b[K\rremote: Counting objects:  86% (74/86)\u001b[K\rremote: Counting objects:  87% (75/86)\u001b[K\rremote: Counting objects:  88% (76/86)\u001b[K\rremote: Counting objects:  89% (77/86)\u001b[K\rremote: Counting objects:  90% (78/86)\u001b[K\rremote: Counting objects:  91% (79/86)\u001b[K\rremote: Counting objects:  93% (80/86)\u001b[K\rremote: Counting objects:  94% (81/86)\u001b[K\rremote: Counting objects:  95% (82/86)\u001b[K\rremote: Counting objects:  96% (83/86)\u001b[K\rremote: Counting objects:  97% (84/86)\u001b[K\rremote: Counting objects:  98% (85/86)\u001b[K\rremote: Counting objects: 100% (86/86)\u001b[K\rremote: Counting objects: 100% (86/86), done.\u001b[K\n",
            "remote: Compressing objects:   1% (1/83)\u001b[K\rremote: Compressing objects:   2% (2/83)\u001b[K\rremote: Compressing objects:   3% (3/83)\u001b[K\rremote: Compressing objects:   4% (4/83)\u001b[K\rremote: Compressing objects:   6% (5/83)\u001b[K\rremote: Compressing objects:   7% (6/83)\u001b[K\rremote: Compressing objects:   8% (7/83)\u001b[K\rremote: Compressing objects:   9% (8/83)\u001b[K\rremote: Compressing objects:  10% (9/83)\u001b[K\rremote: Compressing objects:  12% (10/83)\u001b[K\rremote: Compressing objects:  13% (11/83)\u001b[K\rremote: Compressing objects:  14% (12/83)\u001b[K\rremote: Compressing objects:  15% (13/83)\u001b[K\rremote: Compressing objects:  16% (14/83)\u001b[K\rremote: Compressing objects:  18% (15/83)\u001b[K\rremote: Compressing objects:  19% (16/83)\u001b[K\rremote: Compressing objects:  20% (17/83)\u001b[K\rremote: Compressing objects:  21% (18/83)\u001b[K\rremote: Compressing objects:  22% (19/83)\u001b[K\rremote: Compressing objects:  24% (20/83)\u001b[K\rremote: Compressing objects:  25% (21/83)\u001b[K\rremote: Compressing objects:  26% (22/83)\u001b[K\rremote: Compressing objects:  27% (23/83)\u001b[K\rremote: Compressing objects:  28% (24/83)\u001b[K\rremote: Compressing objects:  30% (25/83)\u001b[K\rremote: Compressing objects:  31% (26/83)\u001b[K\rremote: Compressing objects:  32% (27/83)\u001b[K\rremote: Compressing objects:  33% (28/83)\u001b[K\rremote: Compressing objects:  34% (29/83)\u001b[K\rremote: Compressing objects:  36% (30/83)\u001b[K\rremote: Compressing objects:  37% (31/83)\u001b[K\rremote: Compressing objects:  38% (32/83)\u001b[K\rremote: Compressing objects:  39% (33/83)\u001b[K\rremote: Compressing objects:  40% (34/83)\u001b[K\rremote: Compressing objects:  42% (35/83)\u001b[K\rremote: Compressing objects:  43% (36/83)\u001b[K\rremote: Compressing objects:  44% (37/83)\u001b[K\rremote: Compressing objects:  45% (38/83)\u001b[K\rremote: Compressing objects:  46% (39/83)\u001b[K\rremote: Compressing objects:  48% (40/83)\u001b[K\rremote: Compressing objects:  49% (41/83)\u001b[K\rremote: Compressing objects:  50% (42/83)\u001b[K\rremote: Compressing objects:  51% (43/83)\u001b[K\rremote: Compressing objects:  53% (44/83)\u001b[K\rremote: Compressing objects:  54% (45/83)\u001b[K\rremote: Compressing objects:  55% (46/83)\u001b[K\rremote: Compressing objects:  56% (47/83)\u001b[K\rremote: Compressing objects:  57% (48/83)\u001b[K\rremote: Compressing objects:  59% (49/83)\u001b[K\rremote: Compressing objects:  60% (50/83)\u001b[K\rremote: Compressing objects:  61% (51/83)\u001b[K\rremote: Compressing objects:  62% (52/83)\u001b[K\rremote: Compressing objects:  63% (53/83)\u001b[K\rremote: Compressing objects:  65% (54/83)\u001b[K\rremote: Compressing objects:  66% (55/83)\u001b[K\rremote: Compressing objects:  67% (56/83)\u001b[K\rremote: Compressing objects:  68% (57/83)\u001b[K\rremote: Compressing objects:  69% (58/83)\u001b[K\rremote: Compressing objects:  71% (59/83)\u001b[K\rremote: Compressing objects:  72% (60/83)\u001b[K\rremote: Compressing objects:  73% (61/83)\u001b[K\rremote: Compressing objects:  74% (62/83)\u001b[K\rremote: Compressing objects:  75% (63/83)\u001b[K\rremote: Compressing objects:  77% (64/83)\u001b[K\rremote: Compressing objects:  78% (65/83)\u001b[K\rremote: Compressing objects:  79% (66/83)\u001b[K\rremote: Compressing objects:  80% (67/83)\u001b[K\rremote: Compressing objects:  81% (68/83)\u001b[K\rremote: Compressing objects:  83% (69/83)\u001b[K\rremote: Compressing objects:  84% (70/83)\u001b[K\rremote: Compressing objects:  85% (71/83)\u001b[K\rremote: Compressing objects:  86% (72/83)\u001b[K\rremote: Compressing objects:  87% (73/83)\u001b[K\rremote: Compressing objects:  89% (74/83)\u001b[K\rremote: Compressing objects:  90% (75/83)\u001b[K\rremote: Compressing objects:  91% (76/83)\u001b[K\rremote: Compressing objects:  92% (77/83)\u001b[K\rremote: Compressing objects:  93% (78/83)\u001b[K\rremote: Compressing objects:  95% (79/83)\u001b[K\rremote: Compressing objects:  96% (80/83)\u001b[K\rremote: Compressing objects:  97% (81/83)\u001b[K\rremote: Compressing objects:  98% (82/83)\u001b[K\rremote: Compressing objects: 100% (83/83)\u001b[K\rremote: Compressing objects: 100% (83/83), done.\u001b[K\n",
            "Receiving objects:   0% (1/609)   \rReceiving objects:   1% (7/609)   \rReceiving objects:   2% (13/609)   \rReceiving objects:   3% (19/609)   \rReceiving objects:   4% (25/609)   \rReceiving objects:   5% (31/609)   \rReceiving objects:   6% (37/609)   \rReceiving objects:   7% (43/609)   \rReceiving objects:   8% (49/609)   \rReceiving objects:   9% (55/609)   \rReceiving objects:  10% (61/609)   \rReceiving objects:  11% (67/609)   \rReceiving objects:  12% (74/609)   \rReceiving objects:  13% (80/609)   \rReceiving objects:  14% (86/609)   \rReceiving objects:  15% (92/609)   \rReceiving objects:  16% (98/609)   \rReceiving objects:  17% (104/609)   \rReceiving objects:  18% (110/609)   \rReceiving objects:  19% (116/609)   \rReceiving objects:  20% (122/609)   \rReceiving objects:  21% (128/609)   \rReceiving objects:  22% (134/609)   \rReceiving objects:  23% (141/609)   \rReceiving objects:  24% (147/609)   \rReceiving objects:  25% (153/609)   \rReceiving objects:  26% (159/609)   \rReceiving objects:  27% (165/609)   \rReceiving objects:  28% (171/609)   \rReceiving objects:  29% (177/609)   \rReceiving objects:  30% (183/609)   \rReceiving objects:  31% (189/609)   \rReceiving objects:  32% (195/609)   \rReceiving objects:  33% (201/609)   \rReceiving objects:  34% (208/609)   \rReceiving objects:  35% (214/609)   \rReceiving objects:  36% (220/609)   \rReceiving objects:  37% (226/609)   \rReceiving objects:  38% (232/609)   \rReceiving objects:  39% (238/609)   \rReceiving objects:  40% (244/609)   \rReceiving objects:  41% (250/609)   \rReceiving objects:  42% (256/609)   \rReceiving objects:  43% (262/609)   \rReceiving objects:  44% (268/609)   \rReceiving objects:  45% (275/609)   \rReceiving objects:  46% (281/609)   \rReceiving objects:  47% (287/609)   \rReceiving objects:  48% (293/609)   \rReceiving objects:  49% (299/609)   \rReceiving objects:  50% (305/609)   \rReceiving objects:  51% (311/609)   \rReceiving objects:  52% (317/609)   \rReceiving objects:  53% (323/609)   \rReceiving objects:  54% (329/609)   \rReceiving objects:  55% (335/609)   \rReceiving objects:  56% (342/609)   \rReceiving objects:  57% (348/609)   \rReceiving objects:  58% (354/609)   \rReceiving objects:  59% (360/609)   \rReceiving objects:  60% (366/609)   \rReceiving objects:  61% (372/609)   \rReceiving objects:  62% (378/609)   \rReceiving objects:  63% (384/609)   \rReceiving objects:  64% (390/609)   \rReceiving objects:  65% (396/609)   \rReceiving objects:  66% (402/609)   \rReceiving objects:  67% (409/609)   \rReceiving objects:  68% (415/609)   \rReceiving objects:  69% (421/609)   \rReceiving objects:  70% (427/609)   \rReceiving objects:  71% (433/609)   \rReceiving objects:  72% (439/609)   \rReceiving objects:  73% (445/609)   \rReceiving objects:  74% (451/609)   \rReceiving objects:  75% (457/609)   \rReceiving objects:  76% (463/609)   \rReceiving objects:  77% (469/609)   \rReceiving objects:  78% (476/609)   \rReceiving objects:  79% (482/609)   \rReceiving objects:  80% (488/609)   \rReceiving objects:  81% (494/609)   \rReceiving objects:  82% (500/609)   \rReceiving objects:  83% (506/609)   \rReceiving objects:  84% (512/609)   \rReceiving objects:  85% (518/609)   \rReceiving objects:  86% (524/609)   \rReceiving objects:  87% (530/609)   \rReceiving objects:  88% (536/609)   \rReceiving objects:  89% (543/609)   \rReceiving objects:  90% (549/609)   \rReceiving objects:  91% (555/609)   \rReceiving objects:  92% (561/609)   \rReceiving objects:  93% (567/609)   \rReceiving objects:  94% (573/609)   \rReceiving objects:  95% (579/609)   \rReceiving objects:  96% (585/609)   \rremote: Total 609 (delta 25), reused 23 (delta 3), pack-reused 523\u001b[K\n",
            "Receiving objects:  97% (591/609)   \rReceiving objects:  98% (597/609)   \rReceiving objects:  99% (603/609)   \rReceiving objects: 100% (609/609)   \rReceiving objects: 100% (609/609), 849.63 KiB | 6.64 MiB/s, done.\n",
            "Resolving deltas:   0% (0/332)   \rResolving deltas:   1% (4/332)   \rResolving deltas:   6% (21/332)   \rResolving deltas:   7% (24/332)   \rResolving deltas:   9% (33/332)   \rResolving deltas:  10% (35/332)   \rResolving deltas:  11% (39/332)   \rResolving deltas:  12% (41/332)   \rResolving deltas:  15% (52/332)   \rResolving deltas:  16% (54/332)   \rResolving deltas:  18% (60/332)   \rResolving deltas:  19% (65/332)   \rResolving deltas:  21% (73/332)   \rResolving deltas:  23% (77/332)   \rResolving deltas:  24% (80/332)   \rResolving deltas:  25% (83/332)   \rResolving deltas:  26% (87/332)   \rResolving deltas:  28% (93/332)   \rResolving deltas:  29% (97/332)   \rResolving deltas:  30% (100/332)   \rResolving deltas:  31% (103/332)   \rResolving deltas:  37% (124/332)   \rResolving deltas:  39% (131/332)   \rResolving deltas:  44% (147/332)   \rResolving deltas:  46% (155/332)   \rResolving deltas:  47% (159/332)   \rResolving deltas:  48% (162/332)   \rResolving deltas:  50% (167/332)   \rResolving deltas:  51% (170/332)   \rResolving deltas:  53% (176/332)   \rResolving deltas:  55% (184/332)   \rResolving deltas:  56% (188/332)   \rResolving deltas:  57% (192/332)   \rResolving deltas:  58% (193/332)   \rResolving deltas:  59% (198/332)   \rResolving deltas:  60% (200/332)   \rResolving deltas:  61% (203/332)   \rResolving deltas:  62% (207/332)   \rResolving deltas:  65% (219/332)   \rResolving deltas:  67% (225/332)   \rResolving deltas:  68% (226/332)   \rResolving deltas:  74% (247/332)   \rResolving deltas:  75% (251/332)   \rResolving deltas:  81% (270/332)   \rResolving deltas:  83% (276/332)   \rResolving deltas:  84% (280/332)   \rResolving deltas:  87% (289/332)   \rResolving deltas:  89% (296/332)   \rResolving deltas:  90% (299/332)   \rResolving deltas:  91% (303/332)   \rResolving deltas:  92% (306/332)   \rResolving deltas:  93% (310/332)   \rResolving deltas:  94% (314/332)   \rResolving deltas:  95% (316/332)   \rResolving deltas:  96% (319/332)   \rResolving deltas:  99% (329/332)   \rResolving deltas: 100% (332/332)   \rResolving deltas: 100% (332/332), done.\n"
          ],
          "name": "stdout"
        }
      ]
    },
    {
      "cell_type": "code",
      "metadata": {
        "id": "2edQA8J0Vw5L",
        "colab_type": "code",
        "outputId": "7883de32-01f3-4323-e39d-a8a963eba4ee",
        "colab": {
          "base_uri": "https://localhost:8080/",
          "height": 102
        }
      },
      "source": [
        "!git clone https://github.com/dipanjanS/hands-on-transfer-learning-with-python.git"
      ],
      "execution_count": 47,
      "outputs": [
        {
          "output_type": "stream",
          "text": [
            "Cloning into 'hands-on-transfer-learning-with-python'...\n",
            "remote: Enumerating objects: 184, done.\u001b[K\n",
            "remote: Total 184 (delta 0), reused 0 (delta 0), pack-reused 184\u001b[K\n",
            "Receiving objects: 100% (184/184), 38.33 MiB | 30.78 MiB/s, done.\n",
            "Resolving deltas: 100% (40/40), done.\n"
          ],
          "name": "stdout"
        }
      ]
    },
    {
      "cell_type": "code",
      "metadata": {
        "id": "d6_goA7bVytW",
        "colab_type": "code",
        "outputId": "a56f76c1-1a0b-43d4-cc5f-c4763e8fd0d4",
        "colab": {
          "base_uri": "https://localhost:8080/",
          "height": 119
        }
      },
      "source": [
        "!git clone https://github.com/huggingface/transfer-learning-conv-ai.git"
      ],
      "execution_count": 48,
      "outputs": [
        {
          "output_type": "stream",
          "text": [
            "Cloning into 'transfer-learning-conv-ai'...\n",
            "remote: Enumerating objects: 3, done.\u001b[K\n",
            "remote: Counting objects:  33% (1/3)\u001b[K\rremote: Counting objects:  66% (2/3)\u001b[K\rremote: Counting objects: 100% (3/3)\u001b[K\rremote: Counting objects: 100% (3/3), done.\u001b[K\n",
            "remote: Compressing objects:  33% (1/3)\u001b[K\rremote: Compressing objects:  66% (2/3)\u001b[K\rremote: Compressing objects: 100% (3/3)\u001b[K\rremote: Compressing objects: 100% (3/3), done.\u001b[K\n",
            "Unpacking objects:   1% (1/99)   \rUnpacking objects:   2% (2/99)   \rUnpacking objects:   3% (3/99)   \rUnpacking objects:   4% (4/99)   \rUnpacking objects:   5% (5/99)   \rUnpacking objects:   6% (6/99)   \rUnpacking objects:   7% (7/99)   \rUnpacking objects:   8% (8/99)   \rUnpacking objects:   9% (9/99)   \rUnpacking objects:  10% (10/99)   \rUnpacking objects:  11% (11/99)   \rUnpacking objects:  12% (12/99)   \rUnpacking objects:  13% (13/99)   \rUnpacking objects:  14% (14/99)   \rUnpacking objects:  15% (15/99)   \rUnpacking objects:  16% (16/99)   \rUnpacking objects:  17% (17/99)   \rUnpacking objects:  18% (18/99)   \rUnpacking objects:  19% (19/99)   \rUnpacking objects:  20% (20/99)   \rUnpacking objects:  21% (21/99)   \rUnpacking objects:  22% (22/99)   \rUnpacking objects:  23% (23/99)   \rUnpacking objects:  24% (24/99)   \rUnpacking objects:  25% (25/99)   \rUnpacking objects:  26% (26/99)   \rUnpacking objects:  27% (27/99)   \rUnpacking objects:  28% (28/99)   \rUnpacking objects:  29% (29/99)   \rUnpacking objects:  30% (30/99)   \rUnpacking objects:  31% (31/99)   \rUnpacking objects:  32% (32/99)   \rUnpacking objects:  33% (33/99)   \rremote: Total 99 (delta 0), reused 0 (delta 0), pack-reused 96\u001b[K\n",
            "Unpacking objects:  34% (34/99)   \rUnpacking objects:  35% (35/99)   \rUnpacking objects:  36% (36/99)   \rUnpacking objects:  37% (37/99)   \rUnpacking objects:  38% (38/99)   \rUnpacking objects:  39% (39/99)   \rUnpacking objects:  40% (40/99)   \rUnpacking objects:  41% (41/99)   \rUnpacking objects:  42% (42/99)   \rUnpacking objects:  43% (43/99)   \rUnpacking objects:  44% (44/99)   \rUnpacking objects:  45% (45/99)   \rUnpacking objects:  46% (46/99)   \rUnpacking objects:  47% (47/99)   \rUnpacking objects:  48% (48/99)   \rUnpacking objects:  49% (49/99)   \rUnpacking objects:  50% (50/99)   \rUnpacking objects:  51% (51/99)   \rUnpacking objects:  52% (52/99)   \rUnpacking objects:  53% (53/99)   \rUnpacking objects:  54% (54/99)   \rUnpacking objects:  55% (55/99)   \rUnpacking objects:  56% (56/99)   \rUnpacking objects:  57% (57/99)   \rUnpacking objects:  58% (58/99)   \rUnpacking objects:  59% (59/99)   \rUnpacking objects:  60% (60/99)   \rUnpacking objects:  61% (61/99)   \rUnpacking objects:  62% (62/99)   \rUnpacking objects:  63% (63/99)   \rUnpacking objects:  64% (64/99)   \rUnpacking objects:  65% (65/99)   \rUnpacking objects:  66% (66/99)   \rUnpacking objects:  67% (67/99)   \rUnpacking objects:  68% (68/99)   \rUnpacking objects:  69% (69/99)   \rUnpacking objects:  70% (70/99)   \rUnpacking objects:  71% (71/99)   \rUnpacking objects:  72% (72/99)   \rUnpacking objects:  73% (73/99)   \rUnpacking objects:  74% (74/99)   \rUnpacking objects:  75% (75/99)   \rUnpacking objects:  76% (76/99)   \rUnpacking objects:  77% (77/99)   \rUnpacking objects:  78% (78/99)   \rUnpacking objects:  79% (79/99)   \rUnpacking objects:  80% (80/99)   \rUnpacking objects:  81% (81/99)   \rUnpacking objects:  82% (82/99)   \rUnpacking objects:  83% (83/99)   \rUnpacking objects:  84% (84/99)   \rUnpacking objects:  85% (85/99)   \rUnpacking objects:  86% (86/99)   \rUnpacking objects:  87% (87/99)   \rUnpacking objects:  88% (88/99)   \rUnpacking objects:  89% (89/99)   \rUnpacking objects:  90% (90/99)   \rUnpacking objects:  91% (91/99)   \rUnpacking objects:  92% (92/99)   \rUnpacking objects:  93% (93/99)   \rUnpacking objects:  94% (94/99)   \rUnpacking objects:  95% (95/99)   \rUnpacking objects:  96% (96/99)   \rUnpacking objects:  97% (97/99)   \rUnpacking objects:  98% (98/99)   \rUnpacking objects: 100% (99/99)   \rUnpacking objects: 100% (99/99), done.\n"
          ],
          "name": "stdout"
        }
      ]
    },
    {
      "cell_type": "code",
      "metadata": {
        "id": "QEDQKX8hWLlQ",
        "colab_type": "code",
        "outputId": "d79a3cf4-ec9b-4b78-b0db-26db9c0da116",
        "colab": {
          "base_uri": "https://localhost:8080/",
          "height": 119
        }
      },
      "source": [
        "!git clone https://github.com/vishalprabha/Image-Classification-Transfer-Learning-with-Inception-v3.git"
      ],
      "execution_count": 49,
      "outputs": [
        {
          "output_type": "stream",
          "text": [
            "Cloning into 'Image-Classification-Transfer-Learning-with-Inception-v3'...\n",
            "remote: Enumerating objects: 3701, done.\u001b[K\n",
            "remote: Total 3701 (delta 0), reused 0 (delta 0), pack-reused 3701\u001b[K\n",
            "Receiving objects: 100% (3701/3701), 218.76 MiB | 45.79 MiB/s, done.\n",
            "Resolving deltas: 100% (7/7), done.\n",
            "Checking out files: 100% (3684/3684), done.\n"
          ],
          "name": "stdout"
        }
      ]
    },
    {
      "cell_type": "code",
      "metadata": {
        "id": "49aPb2RiWiPf",
        "colab_type": "code",
        "outputId": "7ef096b2-d07d-43e6-dd09-510bc0644c90",
        "colab": {
          "base_uri": "https://localhost:8080/",
          "height": 85
        }
      },
      "source": [
        "!git clone https://github.com/VikasSinghBhadouria/Image-Classification-using-VGG-transfer-learning.git"
      ],
      "execution_count": 50,
      "outputs": [
        {
          "output_type": "stream",
          "text": [
            "Cloning into 'Image-Classification-using-VGG-transfer-learning'...\n",
            "remote: Enumerating objects: 6, done.\u001b[K\n",
            "remote: Total 6 (delta 0), reused 0 (delta 0), pack-reused 6\u001b[K\n",
            "Unpacking objects:  16% (1/6)   \rUnpacking objects:  33% (2/6)   \rUnpacking objects:  50% (3/6)   \rUnpacking objects:  66% (4/6)   \rUnpacking objects:  83% (5/6)   \rUnpacking objects: 100% (6/6)   \rUnpacking objects: 100% (6/6), done.\n"
          ],
          "name": "stdout"
        }
      ]
    },
    {
      "cell_type": "code",
      "metadata": {
        "id": "K-wEBp32WskA",
        "colab_type": "code",
        "outputId": "152bee28-adb0-4866-b58c-056ba175b091",
        "colab": {
          "base_uri": "https://localhost:8080/",
          "height": 85
        }
      },
      "source": [
        "!git clone https://github.com/google/inception.git"
      ],
      "execution_count": 51,
      "outputs": [
        {
          "output_type": "stream",
          "text": [
            "Cloning into 'inception'...\n",
            "remote: Enumerating objects: 20, done.\u001b[K\n",
            "remote: Total 20 (delta 0), reused 0 (delta 0), pack-reused 20\n",
            "Unpacking objects: 100% (20/20), done.\n"
          ],
          "name": "stdout"
        }
      ]
    },
    {
      "cell_type": "code",
      "metadata": {
        "id": "81RrJbMfW_vX",
        "colab_type": "code",
        "outputId": "47bb34cb-67ed-4404-deb1-d4fbcb576fe5",
        "colab": {
          "base_uri": "https://localhost:8080/",
          "height": 85
        }
      },
      "source": [
        "!git clone https://github.com/EN10/KerasModels.git"
      ],
      "execution_count": 52,
      "outputs": [
        {
          "output_type": "stream",
          "text": [
            "Cloning into 'KerasModels'...\n",
            "remote: Enumerating objects: 25, done.\u001b[K\n",
            "Unpacking objects:   4% (1/25)   \rUnpacking objects:   8% (2/25)   \rUnpacking objects:  12% (3/25)   \rUnpacking objects:  16% (4/25)   \rUnpacking objects:  20% (5/25)   \rUnpacking objects:  24% (6/25)   \rUnpacking objects:  28% (7/25)   \rUnpacking objects:  32% (8/25)   \rUnpacking objects:  36% (9/25)   \rremote: Total 25 (delta 0), reused 0 (delta 0), pack-reused 25\n",
            "Unpacking objects:  40% (10/25)   \rUnpacking objects:  44% (11/25)   \rUnpacking objects:  48% (12/25)   \rUnpacking objects:  52% (13/25)   \rUnpacking objects:  56% (14/25)   \rUnpacking objects:  60% (15/25)   \rUnpacking objects:  64% (16/25)   \rUnpacking objects:  68% (17/25)   \rUnpacking objects:  72% (18/25)   \rUnpacking objects:  76% (19/25)   \rUnpacking objects:  80% (20/25)   \rUnpacking objects:  84% (21/25)   \rUnpacking objects:  88% (22/25)   \rUnpacking objects:  92% (23/25)   \rUnpacking objects:  96% (24/25)   \rUnpacking objects: 100% (25/25)   \rUnpacking objects: 100% (25/25), done.\n"
          ],
          "name": "stdout"
        }
      ]
    },
    {
      "cell_type": "code",
      "metadata": {
        "id": "6qoMggpeZey2",
        "colab_type": "code",
        "outputId": "2e6e38d5-f3dd-4b2e-c3b8-c3aa69077adb",
        "colab": {
          "base_uri": "https://localhost:8080/",
          "height": 85
        }
      },
      "source": [
        "!git clone https://github.com/alexwolf22/tensor2tensor_translator.git"
      ],
      "execution_count": 53,
      "outputs": [
        {
          "output_type": "stream",
          "text": [
            "Cloning into 'tensor2tensor_translator'...\n",
            "remote: Enumerating objects: 15, done.\u001b[K\n",
            "Unpacking objects:   6% (1/15)   \rUnpacking objects:  13% (2/15)   \rUnpacking objects:  20% (3/15)   \rUnpacking objects:  26% (4/15)   \rUnpacking objects:  33% (5/15)   \rUnpacking objects:  40% (6/15)   \rUnpacking objects:  46% (7/15)   \rremote: Total 15 (delta 0), reused 0 (delta 0), pack-reused 15\u001b[K\n",
            "Unpacking objects:  53% (8/15)   \rUnpacking objects:  60% (9/15)   \rUnpacking objects:  66% (10/15)   \rUnpacking objects:  73% (11/15)   \rUnpacking objects:  80% (12/15)   \rUnpacking objects:  86% (13/15)   \rUnpacking objects:  93% (14/15)   \rUnpacking objects: 100% (15/15)   \rUnpacking objects: 100% (15/15), done.\n"
          ],
          "name": "stdout"
        }
      ]
    },
    {
      "cell_type": "code",
      "metadata": {
        "id": "pjwMaqstYvPK",
        "colab_type": "code",
        "colab": {}
      },
      "source": [
        "%load  https://colab.sandbox.google.com/github/tensorflow/docs/blob/master/site/en/tutorials/text/text_generation.ipynb"
      ],
      "execution_count": 0,
      "outputs": []
    },
    {
      "cell_type": "code",
      "metadata": {
        "id": "NgPA86jgXXff",
        "colab_type": "code",
        "outputId": "de79bd47-e8f1-4c64-b077-4baf1a832cd0",
        "colab": {
          "base_uri": "https://localhost:8080/",
          "height": 102
        }
      },
      "source": [
        "!git clone https://github.com/openai/gym.git"
      ],
      "execution_count": 55,
      "outputs": [
        {
          "output_type": "stream",
          "text": [
            "Cloning into 'gym'...\n",
            "remote: Enumerating objects: 10172, done.\u001b[K\n",
            "remote: Total 10172 (delta 0), reused 0 (delta 0), pack-reused 10172\u001b[K\n",
            "Receiving objects: 100% (10172/10172), 3.92 MiB | 16.61 MiB/s, done.\n",
            "Resolving deltas: 100% (6849/6849), done.\n"
          ],
          "name": "stdout"
        }
      ]
    },
    {
      "cell_type": "code",
      "metadata": {
        "id": "XItgXXKvXcaj",
        "colab_type": "code",
        "outputId": "9562b718-c848-490c-88a2-3f3cac6387b6",
        "colab": {
          "base_uri": "https://localhost:8080/",
          "height": 85
        }
      },
      "source": [
        "!git clone https://github.com/MasazI/dqn-gym.git"
      ],
      "execution_count": 56,
      "outputs": [
        {
          "output_type": "stream",
          "text": [
            "Cloning into 'dqn-gym'...\n",
            "remote: Enumerating objects: 44, done.\u001b[K\n",
            "remote: Total 44 (delta 0), reused 0 (delta 0), pack-reused 44\u001b[K\n",
            "Unpacking objects: 100% (44/44), done.\n"
          ],
          "name": "stdout"
        }
      ]
    },
    {
      "cell_type": "code",
      "metadata": {
        "id": "6lU--azheMKH",
        "colab_type": "code",
        "outputId": "393ce1f2-8999-43f8-a154-13de3549f4d5",
        "colab": {
          "base_uri": "https://localhost:8080/",
          "height": 34
        }
      },
      "source": [
        "#!git clone https://github.com/dennybritz/reinforcement-learning.git"
      ],
      "execution_count": 57,
      "outputs": [
        {
          "output_type": "stream",
          "text": [
            "fatal: destination path 'reinforcement-learning' already exists and is not an empty directory.\n"
          ],
          "name": "stdout"
        }
      ]
    },
    {
      "cell_type": "code",
      "metadata": {
        "id": "0JjZmWC_lqVD",
        "colab_type": "code",
        "outputId": "80afb9ee-ae08-4e78-bf11-858c8fd548d9",
        "colab": {
          "base_uri": "https://localhost:8080/",
          "height": 102
        }
      },
      "source": [
        "!git clone https://github.com/openai/baselines.git"
      ],
      "execution_count": 58,
      "outputs": [
        {
          "output_type": "stream",
          "text": [
            "Cloning into 'baselines'...\n",
            "remote: Enumerating objects: 3612, done.\u001b[K\n",
            "remote: Total 3612 (delta 0), reused 0 (delta 0), pack-reused 3612\u001b[K\n",
            "Receiving objects: 100% (3612/3612), 6.46 MiB | 22.73 MiB/s, done.\n",
            "Resolving deltas: 100% (2415/2415), done.\n"
          ],
          "name": "stdout"
        }
      ]
    },
    {
      "cell_type": "code",
      "metadata": {
        "id": "PwjubFLjmSSi",
        "colab_type": "code",
        "colab": {}
      },
      "source": [
        ""
      ],
      "execution_count": 0,
      "outputs": []
    }
  ]
}