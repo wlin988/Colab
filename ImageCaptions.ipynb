{
  "nbformat": 4,
  "nbformat_minor": 0,
  "metadata": {
    "colab": {
      "name": "ImageCaptions.ipynb",
      "provenance": [],
      "collapsed_sections": [],
      "include_colab_link": true
    },
    "kernelspec": {
      "name": "python3",
      "display_name": "Python 3"
    }
  },
  "cells": [
    {
      "cell_type": "markdown",
      "metadata": {
        "id": "view-in-github",
        "colab_type": "text"
      },
      "source": [
        "<a href=\"https://colab.research.google.com/github/wlin988/Colab/blob/master/ImageCaptions.ipynb\" target=\"_parent\"><img src=\"https://colab.research.google.com/assets/colab-badge.svg\" alt=\"Open In Colab\"/></a>"
      ]
    },
    {
      "cell_type": "code",
      "metadata": {
        "id": "9B4V8jC0j5pq",
        "colab_type": "code",
        "outputId": "a4a8fbbb-9ada-418f-e19c-f7d897c001fa",
        "colab": {
          "base_uri": "https://localhost:8080/",
          "height": 102
        }
      },
      "source": [
        "!git clone https://github.com/DeepRNN/image_captioning.git\n"
      ],
      "execution_count": 3,
      "outputs": [
        {
          "output_type": "stream",
          "text": [
            "Cloning into 'image_captioning'...\n",
            "remote: Enumerating objects: 343, done.\u001b[K\n",
            "remote: Total 343 (delta 0), reused 0 (delta 0), pack-reused 343\u001b[K\n",
            "Receiving objects: 100% (343/343), 75.43 MiB | 48.33 MiB/s, done.\n",
            "Resolving deltas: 100% (150/150), done.\n"
          ],
          "name": "stdout"
        }
      ]
    },
    {
      "cell_type": "code",
      "metadata": {
        "id": "AYDeI3g3j71U",
        "colab_type": "code",
        "outputId": "6952ca6c-1a60-4896-9213-59fc4d0d7533",
        "colab": {
          "base_uri": "https://localhost:8080/",
          "height": 102
        }
      },
      "source": [
        "!git clone https://github.com/Div99/Image-Captioning.git"
      ],
      "execution_count": 4,
      "outputs": [
        {
          "output_type": "stream",
          "text": [
            "Cloning into 'Image-Captioning'...\n",
            "remote: Enumerating objects: 464, done.\u001b[K\n",
            "remote: Total 464 (delta 0), reused 0 (delta 0), pack-reused 464\u001b[K\n",
            "Receiving objects: 100% (464/464), 1.21 MiB | 7.73 MiB/s, done.\n",
            "Resolving deltas: 100% (309/309), done.\n"
          ],
          "name": "stdout"
        }
      ]
    },
    {
      "cell_type": "code",
      "metadata": {
        "id": "DphTGYwumbdl",
        "colab_type": "code",
        "outputId": "e4423d74-0ff1-4cfa-cc2e-0ccdd01b8721",
        "colab": {
          "base_uri": "https://localhost:8080/",
          "height": 136
        }
      },
      "source": [
        "!git clone https://github.com/tensorflow/tensor2tensor.git\n"
      ],
      "execution_count": 5,
      "outputs": [
        {
          "output_type": "stream",
          "text": [
            "Cloning into 'tensor2tensor'...\n",
            "remote: Enumerating objects: 17, done.\u001b[K\n",
            "remote: Counting objects:   5% (1/17)\u001b[K\rremote: Counting objects:  11% (2/17)\u001b[K\rremote: Counting objects:  17% (3/17)\u001b[K\rremote: Counting objects:  23% (4/17)\u001b[K\rremote: Counting objects:  29% (5/17)\u001b[K\rremote: Counting objects:  35% (6/17)\u001b[K\rremote: Counting objects:  41% (7/17)\u001b[K\rremote: Counting objects:  47% (8/17)\u001b[K\rremote: Counting objects:  52% (9/17)\u001b[K\rremote: Counting objects:  58% (10/17)\u001b[K\rremote: Counting objects:  64% (11/17)\u001b[K\rremote: Counting objects:  70% (12/17)\u001b[K\rremote: Counting objects:  76% (13/17)\u001b[K\rremote: Counting objects:  82% (14/17)\u001b[K\rremote: Counting objects:  88% (15/17)\u001b[K\rremote: Counting objects:  94% (16/17)\u001b[K\rremote: Counting objects: 100% (17/17)\u001b[K\rremote: Counting objects: 100% (17/17), done.\u001b[K\n",
            "remote: Compressing objects: 100% (17/17), done.\u001b[K\n",
            "remote: Total 30780 (delta 4), reused 13 (delta 0), pack-reused 30763\u001b[K\n",
            "Receiving objects: 100% (30780/30780), 14.24 MiB | 25.09 MiB/s, done.\n",
            "Resolving deltas: 100% (24865/24865), done.\n"
          ],
          "name": "stdout"
        }
      ]
    },
    {
      "cell_type": "code",
      "metadata": {
        "id": "RKpVqhl98dgE",
        "colab_type": "code",
        "outputId": "656cb008-ceb6-4a32-fc68-93e3ff669c0d",
        "colab": {
          "base_uri": "https://localhost:8080/",
          "height": 136
        }
      },
      "source": [
        "!git clone https://github.com/awslabs/sockeye.git"
      ],
      "execution_count": 6,
      "outputs": [
        {
          "output_type": "stream",
          "text": [
            "Cloning into 'sockeye'...\n",
            "remote: Enumerating objects: 129, done.\u001b[K\n",
            "remote: Counting objects:   0% (1/129)\u001b[K\rremote: Counting objects:   1% (2/129)\u001b[K\rremote: Counting objects:   2% (3/129)\u001b[K\rremote: Counting objects:   3% (4/129)\u001b[K\rremote: Counting objects:   4% (6/129)\u001b[K\rremote: Counting objects:   5% (7/129)\u001b[K\rremote: Counting objects:   6% (8/129)\u001b[K\rremote: Counting objects:   7% (10/129)\u001b[K\rremote: Counting objects:   8% (11/129)\u001b[K\rremote: Counting objects:   9% (12/129)\u001b[K\rremote: Counting objects:  10% (13/129)\u001b[K\rremote: Counting objects:  11% (15/129)\u001b[K\rremote: Counting objects:  12% (16/129)\u001b[K\rremote: Counting objects:  13% (17/129)\u001b[K\rremote: Counting objects:  14% (19/129)\u001b[K\rremote: Counting objects:  15% (20/129)\u001b[K\rremote: Counting objects:  16% (21/129)\u001b[K\rremote: Counting objects:  17% (22/129)\u001b[K\rremote: Counting objects:  18% (24/129)\u001b[K\rremote: Counting objects:  19% (25/129)\u001b[K\rremote: Counting objects:  20% (26/129)\u001b[K\rremote: Counting objects:  21% (28/129)\u001b[K\rremote: Counting objects:  22% (29/129)\u001b[K\rremote: Counting objects:  23% (30/129)\u001b[K\rremote: Counting objects:  24% (31/129)\u001b[K\rremote: Counting objects:  25% (33/129)\u001b[K\rremote: Counting objects:  26% (34/129)\u001b[K\rremote: Counting objects:  27% (35/129)\u001b[K\rremote: Counting objects:  28% (37/129)\u001b[K\rremote: Counting objects:  29% (38/129)\u001b[K\rremote: Counting objects:  30% (39/129)\u001b[K\rremote: Counting objects:  31% (40/129)\u001b[K\rremote: Counting objects:  32% (42/129)\u001b[K\rremote: Counting objects:  33% (43/129)\u001b[K\rremote: Counting objects:  34% (44/129)\u001b[K\rremote: Counting objects:  35% (46/129)\u001b[K\rremote: Counting objects:  36% (47/129)\u001b[K\rremote: Counting objects:  37% (48/129)\u001b[K\rremote: Counting objects:  38% (50/129)\u001b[K\rremote: Counting objects:  39% (51/129)\u001b[K\rremote: Counting objects:  40% (52/129)\u001b[K\rremote: Counting objects:  41% (53/129)\u001b[K\rremote: Counting objects:  42% (55/129)\u001b[K\rremote: Counting objects:  43% (56/129)\u001b[K\rremote: Counting objects:  44% (57/129)\u001b[K\rremote: Counting objects:  45% (59/129)\u001b[K\rremote: Counting objects:  46% (60/129)\u001b[K\rremote: Counting objects:  47% (61/129)\u001b[K\rremote: Counting objects:  48% (62/129)\u001b[K\rremote: Counting objects:  49% (64/129)\u001b[K\rremote: Counting objects:  50% (65/129)\u001b[K\rremote: Counting objects:  51% (66/129)\u001b[K\rremote: Counting objects:  52% (68/129)\u001b[K\rremote: Counting objects:  53% (69/129)\u001b[K\rremote: Counting objects:  54% (70/129)\u001b[K\rremote: Counting objects:  55% (71/129)\u001b[K\rremote: Counting objects:  56% (73/129)\u001b[K\rremote: Counting objects:  57% (74/129)\u001b[K\rremote: Counting objects:  58% (75/129)\u001b[K\rremote: Counting objects:  59% (77/129)\u001b[K\rremote: Counting objects:  60% (78/129)\u001b[K\rremote: Counting objects:  61% (79/129)\u001b[K\rremote: Counting objects:  62% (80/129)\u001b[K\rremote: Counting objects:  63% (82/129)\u001b[K\rremote: Counting objects:  64% (83/129)\u001b[K\rremote: Counting objects:  65% (84/129)\u001b[K\rremote: Counting objects:  66% (86/129)\u001b[K\rremote: Counting objects:  67% (87/129)\u001b[K\rremote: Counting objects:  68% (88/129)\u001b[K\rremote: Counting objects:  69% (90/129)\u001b[K\rremote: Counting objects:  70% (91/129)\u001b[K\rremote: Counting objects:  71% (92/129)\u001b[K\rremote: Counting objects:  72% (93/129)\u001b[K\rremote: Counting objects:  73% (95/129)\u001b[K\rremote: Counting objects:  74% (96/129)\u001b[K\rremote: Counting objects:  75% (97/129)\u001b[K\rremote: Counting objects:  76% (99/129)\u001b[K\rremote: Counting objects:  77% (100/129)\u001b[K\rremote: Counting objects:  78% (101/129)\u001b[K\rremote: Counting objects:  79% (102/129)\u001b[K\rremote: Counting objects:  80% (104/129)\u001b[K\rremote: Counting objects:  81% (105/129)\u001b[K\rremote: Counting objects:  82% (106/129)\u001b[K\rremote: Counting objects:  83% (108/129)\u001b[K\rremote: Counting objects:  84% (109/129)\u001b[K\rremote: Counting objects:  85% (110/129)\u001b[K\rremote: Counting objects:  86% (111/129)\u001b[K\rremote: Counting objects:  87% (113/129)\u001b[K\rremote: Counting objects:  88% (114/129)\u001b[K\rremote: Counting objects:  89% (115/129)\u001b[K\rremote: Counting objects:  90% (117/129)\u001b[K\rremote: Counting objects:  91% (118/129)\u001b[K\rremote: Counting objects:  92% (119/129)\u001b[K\rremote: Counting objects:  93% (120/129)\u001b[K\rremote: Counting objects:  94% (122/129)\u001b[K\rremote: Counting objects:  95% (123/129)\u001b[K\rremote: Counting objects:  96% (124/129)\u001b[K\rremote: Counting objects:  97% (126/129)\u001b[K\rremote: Counting objects:  98% (127/129)\u001b[K\rremote: Counting objects:  99% (128/129)\u001b[K\rremote: Counting objects: 100% (129/129)\u001b[K\rremote: Counting objects: 100% (129/129), done.\u001b[K\n",
            "remote: Compressing objects: 100% (97/97), done.\u001b[K\n",
            "remote: Total 6508 (delta 77), reused 56 (delta 32), pack-reused 6379\u001b[K\n",
            "Receiving objects: 100% (6508/6508), 8.03 MiB | 23.56 MiB/s, done.\n",
            "Resolving deltas: 100% (4912/4912), done.\n"
          ],
          "name": "stdout"
        }
      ]
    },
    {
      "cell_type": "code",
      "metadata": {
        "id": "UDUQSnhimdKG",
        "colab_type": "code",
        "colab": {}
      },
      "source": [
        "%load https://colab.sandbox.google.com/github/tensorflow/tensor2tensor/blob/master/tensor2tensor/notebooks/hello_t2t.ipynb\n"
      ],
      "execution_count": 0,
      "outputs": []
    },
    {
      "cell_type": "code",
      "metadata": {
        "id": "gBy5b7xfm7qg",
        "colab_type": "code",
        "colab": {}
      },
      "source": [
        "#%run https://colab.sandbox.google.com/github/tensorflow/tensor2tensor/blob/master/tensor2tensor/notebooks/hello_t2t.ipynb"
      ],
      "execution_count": 0,
      "outputs": []
    },
    {
      "cell_type": "code",
      "metadata": {
        "id": "2VKNk8HynIMa",
        "colab_type": "code",
        "outputId": "fa74c907-a70e-45c2-cb6c-3f47dd2a2f1a",
        "colab": {
          "base_uri": "https://localhost:8080/",
          "height": 102
        }
      },
      "source": [
        "!git clone https://github.com/ArunMichaelDsouza/tensorflow-image-detection.git"
      ],
      "execution_count": 9,
      "outputs": [
        {
          "output_type": "stream",
          "text": [
            "Cloning into 'tensorflow-image-detection'...\n",
            "remote: Enumerating objects: 121, done.\u001b[K\n",
            "remote: Total 121 (delta 0), reused 0 (delta 0), pack-reused 121\u001b[K\n",
            "Receiving objects: 100% (121/121), 1.15 MiB | 8.98 MiB/s, done.\n",
            "Resolving deltas: 100% (62/62), done.\n"
          ],
          "name": "stdout"
        }
      ]
    },
    {
      "cell_type": "code",
      "metadata": {
        "id": "--tlwOrYo2hZ",
        "colab_type": "code",
        "outputId": "da5e782d-50a5-42e4-af0f-c34d51f3d5d7",
        "colab": {
          "base_uri": "https://localhost:8080/",
          "height": 102
        }
      },
      "source": [
        "!git clone https://github.com/ageitgey/face_recognition.git\n"
      ],
      "execution_count": 10,
      "outputs": [
        {
          "output_type": "stream",
          "text": [
            "Cloning into 'face_recognition'...\n",
            "remote: Enumerating objects: 793, done.\u001b[K\n",
            "remote: Total 793 (delta 0), reused 0 (delta 0), pack-reused 793\u001b[K\n",
            "Receiving objects: 100% (793/793), 101.42 MiB | 33.05 MiB/s, done.\n",
            "Resolving deltas: 100% (456/456), done.\n"
          ],
          "name": "stdout"
        }
      ]
    },
    {
      "cell_type": "code",
      "metadata": {
        "id": "ITZhk3X1pEvS",
        "colab_type": "code",
        "outputId": "01f2ad0d-2f1c-4519-beee-100ebdff405c",
        "colab": {
          "base_uri": "https://localhost:8080/",
          "height": 119
        }
      },
      "source": [
        "!git clone https://github.com/tensorflow/models.git"
      ],
      "execution_count": 11,
      "outputs": [
        {
          "output_type": "stream",
          "text": [
            "Cloning into 'models'...\n",
            "remote: Enumerating objects: 32055, done.\u001b[K\n",
            "remote: Total 32055 (delta 0), reused 0 (delta 0), pack-reused 32055\u001b[K\n",
            "Receiving objects: 100% (32055/32055), 511.21 MiB | 38.23 MiB/s, done.\n",
            "Resolving deltas: 100% (20308/20308), done.\n",
            "Checking out files: 100% (3135/3135), done.\n"
          ],
          "name": "stdout"
        }
      ]
    },
    {
      "cell_type": "code",
      "metadata": {
        "id": "NoowmTepph6C",
        "colab_type": "code",
        "outputId": "498e3219-8a8b-4f91-be12-1e06458e1298",
        "colab": {
          "base_uri": "https://localhost:8080/",
          "height": 136
        }
      },
      "source": [
        "!git clone https://github.com/cedrickchee/awesome-bert-nlp.git"
      ],
      "execution_count": 12,
      "outputs": [
        {
          "output_type": "stream",
          "text": [
            "Cloning into 'awesome-bert-nlp'...\n",
            "remote: Enumerating objects: 76, done.\u001b[K\n",
            "remote: Counting objects: 100% (76/76), done.\u001b[K\n",
            "remote: Compressing objects: 100% (76/76), done.\u001b[K\n",
            "remote: Total 141 (delta 24), reused 0 (delta 0), pack-reused 65\u001b[K\n",
            "Receiving objects: 100% (141/141), 53.03 KiB | 13.26 MiB/s, done.\n",
            "Resolving deltas: 100% (43/43), done.\n"
          ],
          "name": "stdout"
        }
      ]
    },
    {
      "cell_type": "code",
      "metadata": {
        "id": "jyAxvEgjpqYa",
        "colab_type": "code",
        "outputId": "fdf9440a-9e11-4043-82c8-20bb48350537",
        "colab": {
          "base_uri": "https://localhost:8080/",
          "height": 136
        }
      },
      "source": [
        "!git clone https://github.com/dennybritz/reinforcement-learning.git"
      ],
      "execution_count": 13,
      "outputs": [
        {
          "output_type": "stream",
          "text": [
            "Cloning into 'reinforcement-learning'...\n",
            "remote: Enumerating objects: 9, done.\u001b[K\n",
            "remote: Counting objects:  11% (1/9)\u001b[K\rremote: Counting objects:  22% (2/9)\u001b[K\rremote: Counting objects:  33% (3/9)\u001b[K\rremote: Counting objects:  44% (4/9)\u001b[K\rremote: Counting objects:  55% (5/9)\u001b[K\rremote: Counting objects:  66% (6/9)\u001b[K\rremote: Counting objects:  77% (7/9)\u001b[K\rremote: Counting objects:  88% (8/9)\u001b[K\rremote: Counting objects: 100% (9/9)\u001b[K\rremote: Counting objects: 100% (9/9), done.\u001b[K\n",
            "remote: Compressing objects: 100% (9/9), done.\u001b[K\n",
            "remote: Total 1270 (delta 3), reused 3 (delta 0), pack-reused 1261\u001b[K\n",
            "Receiving objects: 100% (1270/1270), 5.25 MiB | 21.84 MiB/s, done.\n",
            "Resolving deltas: 100% (816/816), done.\n"
          ],
          "name": "stdout"
        }
      ]
    },
    {
      "cell_type": "code",
      "metadata": {
        "id": "8aPN2i7SIDAK",
        "colab_type": "code",
        "outputId": "12198ca3-428d-41c7-e1df-5f911c0ea766",
        "colab": {
          "base_uri": "https://localhost:8080/",
          "height": 102
        }
      },
      "source": [
        "!git clone https://github.com/MorvanZhou/Reinforcement-learning-with-tensorflow.git"
      ],
      "execution_count": 14,
      "outputs": [
        {
          "output_type": "stream",
          "text": [
            "Cloning into 'Reinforcement-learning-with-tensorflow'...\n",
            "remote: Enumerating objects: 669, done.\u001b[K\n",
            "remote: Total 669 (delta 0), reused 0 (delta 0), pack-reused 669\u001b[K\n",
            "Receiving objects: 100% (669/669), 421.45 KiB | 3.98 MiB/s, done.\n",
            "Resolving deltas: 100% (384/384), done.\n"
          ],
          "name": "stdout"
        }
      ]
    },
    {
      "cell_type": "code",
      "metadata": {
        "id": "jtwPnQIpIWYN",
        "colab_type": "code",
        "outputId": "e255ff89-9a19-4ef9-f840-b95815b62188",
        "colab": {
          "base_uri": "https://localhost:8080/",
          "height": 102
        }
      },
      "source": [
        "!git clone https://github.com/udacity/deep-reinforcement-learning.git"
      ],
      "execution_count": 15,
      "outputs": [
        {
          "output_type": "stream",
          "text": [
            "Cloning into 'deep-reinforcement-learning'...\n",
            "remote: Enumerating objects: 223, done.\u001b[K\n",
            "remote: Total 223 (delta 0), reused 0 (delta 0), pack-reused 223\u001b[K\n",
            "Receiving objects: 100% (223/223), 3.45 MiB | 15.98 MiB/s, done.\n",
            "Resolving deltas: 100% (51/51), done.\n"
          ],
          "name": "stdout"
        }
      ]
    },
    {
      "cell_type": "code",
      "metadata": {
        "id": "4z6AL2XzIqpk",
        "colab_type": "code",
        "outputId": "51dcf7dc-bb48-4b31-957f-aa7cd6a0f688",
        "colab": {
          "base_uri": "https://localhost:8080/",
          "height": 102
        }
      },
      "source": [
        "!git clone https://github.com/Zeta36/chess-alpha-zero.git"
      ],
      "execution_count": 16,
      "outputs": [
        {
          "output_type": "stream",
          "text": [
            "Cloning into 'chess-alpha-zero'...\n",
            "remote: Enumerating objects: 478, done.\u001b[K\n",
            "remote: Total 478 (delta 0), reused 0 (delta 0), pack-reused 478\u001b[K\n",
            "Receiving objects: 100% (478/478), 122.38 MiB | 34.54 MiB/s, done.\n",
            "Resolving deltas: 100% (250/250), done.\n"
          ],
          "name": "stdout"
        }
      ]
    },
    {
      "cell_type": "code",
      "metadata": {
        "id": "pewKcEYII7ad",
        "colab_type": "code",
        "outputId": "305939c9-6be6-417c-f122-8404da1b154e",
        "colab": {
          "base_uri": "https://localhost:8080/",
          "height": 119
        }
      },
      "source": [
        "!git clone https://github.com/suragnair/alpha-zero-general.git"
      ],
      "execution_count": 17,
      "outputs": [
        {
          "output_type": "stream",
          "text": [
            "Cloning into 'alpha-zero-general'...\n",
            "remote: Enumerating objects: 927, done.\u001b[K\n",
            "remote: Total 927 (delta 0), reused 0 (delta 0), pack-reused 927\u001b[K\n",
            "Receiving objects: 100% (927/927), 230.16 MiB | 38.74 MiB/s, done.\n",
            "Resolving deltas: 100% (508/508), done.\n",
            "Checking out files: 100% (133/133), done.\n"
          ],
          "name": "stdout"
        }
      ]
    },
    {
      "cell_type": "code",
      "metadata": {
        "id": "xxNq7FWkJqL7",
        "colab_type": "code",
        "outputId": "0091f957-3765-4dd8-974e-2af09eb76615",
        "colab": {
          "base_uri": "https://localhost:8080/",
          "height": 136
        }
      },
      "source": [
        "!git clone https://github.com/glinscott/leela-chess.git"
      ],
      "execution_count": 18,
      "outputs": [
        {
          "output_type": "stream",
          "text": [
            "Cloning into 'leela-chess'...\n",
            "remote: Enumerating objects: 5, done.\u001b[K\n",
            "remote: Counting objects:  20% (1/5)\u001b[K\rremote: Counting objects:  40% (2/5)\u001b[K\rremote: Counting objects:  60% (3/5)\u001b[K\rremote: Counting objects:  80% (4/5)\u001b[K\rremote: Counting objects: 100% (5/5)\u001b[K\rremote: Counting objects: 100% (5/5), done.\u001b[K\n",
            "remote: Compressing objects: 100% (4/4), done.\u001b[K\n",
            "remote: Total 6791 (delta 0), reused 0 (delta 0), pack-reused 6786\u001b[K\n",
            "Receiving objects: 100% (6791/6791), 34.98 MiB | 21.28 MiB/s, done.\n",
            "Resolving deltas: 100% (4304/4304), done.\n"
          ],
          "name": "stdout"
        }
      ]
    },
    {
      "cell_type": "code",
      "metadata": {
        "id": "m_srHOUII-37",
        "colab_type": "code",
        "colab": {
          "base_uri": "https://localhost:8080/",
          "height": 136
        },
        "outputId": "f350409c-333e-4381-a9cb-19e50447f4d0"
      },
      "source": [
        "!git clone https://github.com/XanaduAI/pennylane.git"
      ],
      "execution_count": 19,
      "outputs": [
        {
          "output_type": "stream",
          "text": [
            "Cloning into 'pennylane'...\n",
            "remote: Enumerating objects: 176, done.\u001b[K\n",
            "remote: Counting objects: 100% (176/176), done.\u001b[K\n",
            "remote: Compressing objects: 100% (111/111), done.\u001b[K\n",
            "remote: Total 9860 (delta 123), reused 89 (delta 65), pack-reused 9684\u001b[K\n",
            "Receiving objects: 100% (9860/9860), 22.49 MiB | 32.17 MiB/s, done.\n",
            "Resolving deltas: 100% (6930/6930), done.\n"
          ],
          "name": "stdout"
        }
      ]
    },
    {
      "cell_type": "code",
      "metadata": {
        "id": "TbsOg4sKSo8G",
        "colab_type": "code",
        "colab": {
          "base_uri": "https://localhost:8080/",
          "height": 34
        },
        "outputId": "1e05a4de-f893-4ef2-c9bf-b540a7b29d94"
      },
      "source": [
        "!git clone https://github.com/google/dopamine.git"
      ],
      "execution_count": 20,
      "outputs": [
        {
          "output_type": "stream",
          "text": [
            "fatal: destination path 'dopamine' already exists and is not an empty directory.\n"
          ],
          "name": "stdout"
        }
      ]
    },
    {
      "cell_type": "code",
      "metadata": {
        "id": "v12ktEQoJBQm",
        "colab_type": "code",
        "colab": {}
      },
      "source": [
        ""
      ],
      "execution_count": 0,
      "outputs": []
    }
  ]
}