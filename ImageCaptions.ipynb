{
  "nbformat": 4,
  "nbformat_minor": 0,
  "metadata": {
    "colab": {
      "name": "ImageCaptions.ipynb",
      "provenance": [],
      "collapsed_sections": [],
      "include_colab_link": true
    },
    "kernelspec": {
      "name": "python3",
      "display_name": "Python 3"
    },
    "accelerator": "TPU"
  },
  "cells": [
    {
      "cell_type": "markdown",
      "metadata": {
        "id": "view-in-github",
        "colab_type": "text"
      },
      "source": [
        "<a href=\"https://colab.research.google.com/github/wlin988/Colab/blob/master/ImageCaptions.ipynb\" target=\"_parent\"><img src=\"https://colab.research.google.com/assets/colab-badge.svg\" alt=\"Open In Colab\"/></a>"
      ]
    },
    {
      "cell_type": "code",
      "metadata": {
        "id": "A3B1starRY2g",
        "colab_type": "code",
        "outputId": "038d8022-7077-46ca-e1c7-5ee1825e2136",
        "colab": {
          "base_uri": "https://localhost:8080/",
          "height": 122
        }
      },
      "source": [
        "from google.colab import drive\n",
        "drive.mount('/content/drive')"
      ],
      "execution_count": 1,
      "outputs": [
        {
          "output_type": "stream",
          "text": [
            "Go to this URL in a browser: https://accounts.google.com/o/oauth2/auth?client_id=947318989803-6bn6qk8qdgf4n4g3pfee6491hc0brc4i.apps.googleusercontent.com&redirect_uri=urn%3aietf%3awg%3aoauth%3a2.0%3aoob&response_type=code&scope=email%20https%3a%2f%2fwww.googleapis.com%2fauth%2fdocs.test%20https%3a%2f%2fwww.googleapis.com%2fauth%2fdrive%20https%3a%2f%2fwww.googleapis.com%2fauth%2fdrive.photos.readonly%20https%3a%2f%2fwww.googleapis.com%2fauth%2fpeopleapi.readonly\n",
            "\n",
            "Enter your authorization code:\n",
            "··········\n",
            "Mounted at /content/drive\n"
          ],
          "name": "stdout"
        }
      ]
    },
    {
      "cell_type": "code",
      "metadata": {
        "id": "9B4V8jC0j5pq",
        "colab_type": "code",
        "outputId": "55fc6e2d-6cbe-42c7-95e9-ab877e84e68c",
        "colab": {
          "base_uri": "https://localhost:8080/",
          "height": 102
        }
      },
      "source": [
        "!git clone https://github.com/DeepRNN/image_captioning.git\n"
      ],
      "execution_count": 2,
      "outputs": [
        {
          "output_type": "stream",
          "text": [
            "Cloning into 'image_captioning'...\n",
            "remote: Enumerating objects: 343, done.\u001b[K\n",
            "remote: Total 343 (delta 0), reused 0 (delta 0), pack-reused 343\u001b[K\n",
            "Receiving objects: 100% (343/343), 75.43 MiB | 55.60 MiB/s, done.\n",
            "Resolving deltas: 100% (150/150), done.\n"
          ],
          "name": "stdout"
        }
      ]
    },
    {
      "cell_type": "code",
      "metadata": {
        "id": "AYDeI3g3j71U",
        "colab_type": "code",
        "outputId": "200eff79-7b8b-4734-a809-9e2c4e19d795",
        "colab": {
          "base_uri": "https://localhost:8080/",
          "height": 102
        }
      },
      "source": [
        "!git clone https://github.com/Div99/Image-Captioning.git"
      ],
      "execution_count": 3,
      "outputs": [
        {
          "output_type": "stream",
          "text": [
            "Cloning into 'Image-Captioning'...\n",
            "remote: Enumerating objects: 464, done.\u001b[K\n",
            "remote: Total 464 (delta 0), reused 0 (delta 0), pack-reused 464\u001b[K\n",
            "Receiving objects: 100% (464/464), 1.21 MiB | 9.36 MiB/s, done.\n",
            "Resolving deltas: 100% (309/309), done.\n"
          ],
          "name": "stdout"
        }
      ]
    },
    {
      "cell_type": "code",
      "metadata": {
        "id": "DphTGYwumbdl",
        "colab_type": "code",
        "outputId": "6128ed48-c1ad-4381-b611-f6216cc8502b",
        "colab": {
          "base_uri": "https://localhost:8080/",
          "height": 136
        }
      },
      "source": [
        "!git clone https://github.com/tensorflow/tensor2tensor.git\n"
      ],
      "execution_count": 4,
      "outputs": [
        {
          "output_type": "stream",
          "text": [
            "Cloning into 'tensor2tensor'...\n",
            "remote: Enumerating objects: 25, done.\u001b[K\n",
            "remote: Counting objects:   4% (1/25)\u001b[K\rremote: Counting objects:   8% (2/25)\u001b[K\rremote: Counting objects:  12% (3/25)\u001b[K\rremote: Counting objects:  16% (4/25)\u001b[K\rremote: Counting objects:  20% (5/25)\u001b[K\rremote: Counting objects:  24% (6/25)\u001b[K\rremote: Counting objects:  28% (7/25)\u001b[K\rremote: Counting objects:  32% (8/25)\u001b[K\rremote: Counting objects:  36% (9/25)\u001b[K\rremote: Counting objects:  40% (10/25)\u001b[K\rremote: Counting objects:  44% (11/25)\u001b[K\rremote: Counting objects:  48% (12/25)\u001b[K\rremote: Counting objects:  52% (13/25)\u001b[K\rremote: Counting objects:  56% (14/25)\u001b[K\rremote: Counting objects:  60% (15/25)\u001b[K\rremote: Counting objects:  64% (16/25)\u001b[K\rremote: Counting objects:  68% (17/25)\u001b[K\rremote: Counting objects:  72% (18/25)\u001b[K\rremote: Counting objects:  76% (19/25)\u001b[K\rremote: Counting objects:  80% (20/25)\u001b[K\rremote: Counting objects:  84% (21/25)\u001b[K\rremote: Counting objects:  88% (22/25)\u001b[K\rremote: Counting objects:  92% (23/25)\u001b[K\rremote: Counting objects:  96% (24/25)\u001b[K\rremote: Counting objects: 100% (25/25)\u001b[K\rremote: Counting objects: 100% (25/25), done.\u001b[K\n",
            "remote: Compressing objects: 100% (23/23), done.\u001b[K\n",
            "remote: Total 30836 (delta 2), reused 25 (delta 2), pack-reused 30811\u001b[K\n",
            "Receiving objects: 100% (30836/30836), 14.32 MiB | 24.00 MiB/s, done.\n",
            "Resolving deltas: 100% (24903/24903), done.\n"
          ],
          "name": "stdout"
        }
      ]
    },
    {
      "cell_type": "code",
      "metadata": {
        "id": "RKpVqhl98dgE",
        "colab_type": "code",
        "outputId": "fc13c164-bc15-4530-8f87-a3b16de4eb05",
        "colab": {
          "base_uri": "https://localhost:8080/",
          "height": 136
        }
      },
      "source": [
        "!git clone https://github.com/awslabs/sockeye.git"
      ],
      "execution_count": 5,
      "outputs": [
        {
          "output_type": "stream",
          "text": [
            "Cloning into 'sockeye'...\n",
            "remote: Enumerating objects: 152, done.\u001b[K\n",
            "remote: Counting objects:   0% (1/152)\u001b[K\rremote: Counting objects:   1% (2/152)\u001b[K\rremote: Counting objects:   2% (4/152)\u001b[K\rremote: Counting objects:   3% (5/152)\u001b[K\rremote: Counting objects:   4% (7/152)\u001b[K\rremote: Counting objects:   5% (8/152)\u001b[K\rremote: Counting objects:   6% (10/152)\u001b[K\rremote: Counting objects:   7% (11/152)\u001b[K\rremote: Counting objects:   8% (13/152)\u001b[K\rremote: Counting objects:   9% (14/152)\u001b[K\rremote: Counting objects:  10% (16/152)\u001b[K\rremote: Counting objects:  11% (17/152)\u001b[K\rremote: Counting objects:  12% (19/152)\u001b[K\rremote: Counting objects:  13% (20/152)\u001b[K\rremote: Counting objects:  14% (22/152)\u001b[K\rremote: Counting objects:  15% (23/152)\u001b[K\rremote: Counting objects:  16% (25/152)\u001b[K\rremote: Counting objects:  17% (26/152)\u001b[K\rremote: Counting objects:  18% (28/152)\u001b[K\rremote: Counting objects:  19% (29/152)\u001b[K\rremote: Counting objects:  20% (31/152)\u001b[K\rremote: Counting objects:  21% (32/152)\u001b[K\rremote: Counting objects:  22% (34/152)\u001b[K\rremote: Counting objects:  23% (35/152)\u001b[K\rremote: Counting objects:  24% (37/152)\u001b[K\rremote: Counting objects:  25% (38/152)\u001b[K\rremote: Counting objects:  26% (40/152)\u001b[K\rremote: Counting objects:  27% (42/152)\u001b[K\rremote: Counting objects:  28% (43/152)\u001b[K\rremote: Counting objects:  29% (45/152)\u001b[K\rremote: Counting objects:  30% (46/152)\u001b[K\rremote: Counting objects:  31% (48/152)\u001b[K\rremote: Counting objects:  32% (49/152)\u001b[K\rremote: Counting objects:  33% (51/152)\u001b[K\rremote: Counting objects:  34% (52/152)\u001b[K\rremote: Counting objects:  35% (54/152)\u001b[K\rremote: Counting objects:  36% (55/152)\u001b[K\rremote: Counting objects:  37% (57/152)\u001b[K\rremote: Counting objects:  38% (58/152)\u001b[K\rremote: Counting objects:  39% (60/152)\u001b[K\rremote: Counting objects:  40% (61/152)\u001b[K\rremote: Counting objects:  41% (63/152)\u001b[K\rremote: Counting objects:  42% (64/152)\u001b[K\rremote: Counting objects:  43% (66/152)\u001b[K\rremote: Counting objects:  44% (67/152)\u001b[K\rremote: Counting objects:  45% (69/152)\u001b[K\rremote: Counting objects:  46% (70/152)\u001b[K\rremote: Counting objects:  47% (72/152)\u001b[K\rremote: Counting objects:  48% (73/152)\u001b[K\rremote: Counting objects:  49% (75/152)\u001b[K\rremote: Counting objects:  50% (76/152)\u001b[K\rremote: Counting objects:  51% (78/152)\u001b[K\rremote: Counting objects:  52% (80/152)\u001b[K\rremote: Counting objects:  53% (81/152)\u001b[K\rremote: Counting objects:  54% (83/152)\u001b[K\rremote: Counting objects:  55% (84/152)\u001b[K\rremote: Counting objects:  56% (86/152)\u001b[K\rremote: Counting objects:  57% (87/152)\u001b[K\rremote: Counting objects:  58% (89/152)\u001b[K\rremote: Counting objects:  59% (90/152)\u001b[K\rremote: Counting objects:  60% (92/152)\u001b[K\rremote: Counting objects:  61% (93/152)\u001b[K\rremote: Counting objects:  62% (95/152)\u001b[K\rremote: Counting objects:  63% (96/152)\u001b[K\rremote: Counting objects:  64% (98/152)\u001b[K\rremote: Counting objects:  65% (99/152)\u001b[K\rremote: Counting objects:  66% (101/152)\u001b[K\rremote: Counting objects:  67% (102/152)\u001b[K\rremote: Counting objects:  68% (104/152)\u001b[K\rremote: Counting objects:  69% (105/152)\u001b[K\rremote: Counting objects:  70% (107/152)\u001b[K\rremote: Counting objects:  71% (108/152)\u001b[K\rremote: Counting objects:  72% (110/152)\u001b[K\rremote: Counting objects:  73% (111/152)\u001b[K\rremote: Counting objects:  74% (113/152)\u001b[K\rremote: Counting objects:  75% (114/152)\u001b[K\rremote: Counting objects:  76% (116/152)\u001b[K\rremote: Counting objects:  77% (118/152)\u001b[K\rremote: Counting objects:  78% (119/152)\u001b[K\rremote: Counting objects:  79% (121/152)\u001b[K\rremote: Counting objects:  80% (122/152)\u001b[K\rremote: Counting objects:  81% (124/152)\u001b[K\rremote: Counting objects:  82% (125/152)\u001b[K\rremote: Counting objects:  83% (127/152)\u001b[K\rremote: Counting objects:  84% (128/152)\u001b[K\rremote: Counting objects:  85% (130/152)\u001b[K\rremote: Counting objects:  86% (131/152)\u001b[K\rremote: Counting objects:  87% (133/152)\u001b[K\rremote: Counting objects:  88% (134/152)\u001b[K\rremote: Counting objects:  89% (136/152)\u001b[K\rremote: Counting objects:  90% (137/152)\u001b[K\rremote: Counting objects:  91% (139/152)\u001b[K\rremote: Counting objects:  92% (140/152)\u001b[K\rremote: Counting objects:  93% (142/152)\u001b[K\rremote: Counting objects:  94% (143/152)\u001b[K\rremote: Counting objects:  95% (145/152)\u001b[K\rremote: Counting objects:  96% (146/152)\u001b[K\rremote: Counting objects:  97% (148/152)\u001b[K\rremote: Counting objects:  98% (149/152)\u001b[K\rremote: Counting objects:  99% (151/152)\u001b[K\rremote: Counting objects: 100% (152/152)\u001b[K\rremote: Counting objects: 100% (152/152), done.\u001b[K\n",
            "remote: Compressing objects: 100% (94/94), done.\u001b[K\n",
            "remote: Total 6701 (delta 98), reused 81 (delta 58), pack-reused 6549\u001b[K\n",
            "Receiving objects: 100% (6701/6701), 8.02 MiB | 22.38 MiB/s, done.\n",
            "Resolving deltas: 100% (5073/5073), done.\n"
          ],
          "name": "stdout"
        }
      ]
    },
    {
      "cell_type": "code",
      "metadata": {
        "id": "UDUQSnhimdKG",
        "colab_type": "code",
        "colab": {}
      },
      "source": [
        "%load https://colab.sandbox.google.com/github/tensorflow/tensor2tensor/blob/master/tensor2tensor/notebooks/hello_t2t.ipynb\n"
      ],
      "execution_count": 0,
      "outputs": []
    },
    {
      "cell_type": "code",
      "metadata": {
        "id": "gBy5b7xfm7qg",
        "colab_type": "code",
        "colab": {}
      },
      "source": [
        "#%run https://colab.sandbox.google.com/github/tensorflow/tensor2tensor/blob/master/tensor2tensor/notebooks/hello_t2t.ipynb"
      ],
      "execution_count": 0,
      "outputs": []
    },
    {
      "cell_type": "code",
      "metadata": {
        "id": "2VKNk8HynIMa",
        "colab_type": "code",
        "outputId": "db509a18-a2d5-4c17-c891-bdd9656f1af7",
        "colab": {
          "base_uri": "https://localhost:8080/",
          "height": 102
        }
      },
      "source": [
        "!git clone https://github.com/ArunMichaelDsouza/tensorflow-image-detection.git"
      ],
      "execution_count": 8,
      "outputs": [
        {
          "output_type": "stream",
          "text": [
            "Cloning into 'tensorflow-image-detection'...\n",
            "remote: Enumerating objects: 121, done.\u001b[K\n",
            "remote: Total 121 (delta 0), reused 0 (delta 0), pack-reused 121\n",
            "Receiving objects: 100% (121/121), 1.15 MiB | 9.05 MiB/s, done.\n",
            "Resolving deltas: 100% (62/62), done.\n"
          ],
          "name": "stdout"
        }
      ]
    },
    {
      "cell_type": "code",
      "metadata": {
        "id": "--tlwOrYo2hZ",
        "colab_type": "code",
        "outputId": "46f94550-7bb4-4e23-ea8b-deb157106390",
        "colab": {
          "base_uri": "https://localhost:8080/",
          "height": 102
        }
      },
      "source": [
        "!git clone https://github.com/ageitgey/face_recognition.git\n"
      ],
      "execution_count": 9,
      "outputs": [
        {
          "output_type": "stream",
          "text": [
            "Cloning into 'face_recognition'...\n",
            "remote: Enumerating objects: 800, done.\u001b[K\n",
            "remote: Total 800 (delta 0), reused 0 (delta 0), pack-reused 800\u001b[K\n",
            "Receiving objects: 100% (800/800), 101.42 MiB | 34.80 MiB/s, done.\n",
            "Resolving deltas: 100% (460/460), done.\n"
          ],
          "name": "stdout"
        }
      ]
    },
    {
      "cell_type": "code",
      "metadata": {
        "id": "ITZhk3X1pEvS",
        "colab_type": "code",
        "outputId": "4e119cc1-d4da-4fd4-d9b6-2443e893a5cb",
        "colab": {
          "base_uri": "https://localhost:8080/",
          "height": 119
        }
      },
      "source": [
        "!git clone https://github.com/tensorflow/models.git"
      ],
      "execution_count": 10,
      "outputs": [
        {
          "output_type": "stream",
          "text": [
            "Cloning into 'models'...\n",
            "remote: Enumerating objects: 32710, done.\u001b[K\n",
            "remote: Total 32710 (delta 0), reused 0 (delta 0), pack-reused 32710\u001b[K\n",
            "Receiving objects: 100% (32710/32710), 511.56 MiB | 36.34 MiB/s, done.\n",
            "Resolving deltas: 100% (20831/20831), done.\n",
            "Checking out files: 100% (3174/3174), done.\n"
          ],
          "name": "stdout"
        }
      ]
    },
    {
      "cell_type": "code",
      "metadata": {
        "id": "NoowmTepph6C",
        "colab_type": "code",
        "outputId": "84a0e38a-8072-4197-cf11-7d1ee44695d6",
        "colab": {
          "base_uri": "https://localhost:8080/",
          "height": 136
        }
      },
      "source": [
        "!git clone https://github.com/cedrickchee/awesome-bert-nlp.git"
      ],
      "execution_count": 11,
      "outputs": [
        {
          "output_type": "stream",
          "text": [
            "Cloning into 'awesome-bert-nlp'...\n",
            "remote: Enumerating objects: 76, done.\u001b[K\n",
            "remote: Counting objects:   1% (1/76)\u001b[K\rremote: Counting objects:   2% (2/76)\u001b[K\rremote: Counting objects:   3% (3/76)\u001b[K\rremote: Counting objects:   5% (4/76)\u001b[K\rremote: Counting objects:   6% (5/76)\u001b[K\rremote: Counting objects:   7% (6/76)\u001b[K\rremote: Counting objects:   9% (7/76)\u001b[K\rremote: Counting objects:  10% (8/76)\u001b[K\rremote: Counting objects:  11% (9/76)\u001b[K\rremote: Counting objects:  13% (10/76)\u001b[K\rremote: Counting objects:  14% (11/76)\u001b[K\rremote: Counting objects:  15% (12/76)\u001b[K\rremote: Counting objects:  17% (13/76)\u001b[K\rremote: Counting objects:  18% (14/76)\u001b[K\rremote: Counting objects:  19% (15/76)\u001b[K\rremote: Counting objects:  21% (16/76)\u001b[K\rremote: Counting objects:  22% (17/76)\u001b[K\rremote: Counting objects:  23% (18/76)\u001b[K\rremote: Counting objects:  25% (19/76)\u001b[K\rremote: Counting objects:  26% (20/76)\u001b[K\rremote: Counting objects:  27% (21/76)\u001b[K\rremote: Counting objects:  28% (22/76)\u001b[K\rremote: Counting objects:  30% (23/76)\u001b[K\rremote: Counting objects:  31% (24/76)\u001b[K\rremote: Counting objects:  32% (25/76)\u001b[K\rremote: Counting objects:  34% (26/76)\u001b[K\rremote: Counting objects:  35% (27/76)\u001b[K\rremote: Counting objects:  36% (28/76)\u001b[K\rremote: Counting objects:  38% (29/76)\u001b[K\rremote: Counting objects:  39% (30/76)\u001b[K\rremote: Counting objects:  40% (31/76)\u001b[K\rremote: Counting objects:  42% (32/76)\u001b[K\rremote: Counting objects:  43% (33/76)\u001b[K\rremote: Counting objects:  44% (34/76)\u001b[K\rremote: Counting objects:  46% (35/76)\u001b[K\rremote: Counting objects:  47% (36/76)\u001b[K\rremote: Counting objects:  48% (37/76)\u001b[K\rremote: Counting objects:  50% (38/76)\u001b[K\rremote: Counting objects:  51% (39/76)\u001b[K\rremote: Counting objects:  52% (40/76)\u001b[K\rremote: Counting objects:  53% (41/76)\u001b[K\rremote: Counting objects:  55% (42/76)\u001b[K\rremote: Counting objects:  56% (43/76)\u001b[K\rremote: Counting objects:  57% (44/76)\u001b[K\rremote: Counting objects:  59% (45/76)\u001b[K\rremote: Counting objects:  60% (46/76)\u001b[K\rremote: Counting objects:  61% (47/76)\u001b[K\rremote: Counting objects:  63% (48/76)\u001b[K\rremote: Counting objects:  64% (49/76)\u001b[K\rremote: Counting objects:  65% (50/76)\u001b[K\rremote: Counting objects:  67% (51/76)\u001b[K\rremote: Counting objects:  68% (52/76)\u001b[K\rremote: Counting objects:  69% (53/76)\u001b[K\rremote: Counting objects:  71% (54/76)\u001b[K\rremote: Counting objects:  72% (55/76)\u001b[K\rremote: Counting objects:  73% (56/76)\u001b[K\rremote: Counting objects:  75% (57/76)\u001b[K\rremote: Counting objects:  76% (58/76)\u001b[K\rremote: Counting objects:  77% (59/76)\u001b[K\rremote: Counting objects:  78% (60/76)\u001b[K\rremote: Counting objects:  80% (61/76)\u001b[K\rremote: Counting objects:  81% (62/76)\u001b[K\rremote: Counting objects:  82% (63/76)\u001b[K\rremote: Counting objects:  84% (64/76)\u001b[K\rremote: Counting objects:  85% (65/76)\u001b[K\rremote: Counting objects:  86% (66/76)\u001b[K\rremote: Counting objects:  88% (67/76)\u001b[K\rremote: Counting objects:  89% (68/76)\u001b[K\rremote: Counting objects:  90% (69/76)\u001b[K\rremote: Counting objects:  92% (70/76)\u001b[K\rremote: Counting objects:  93% (71/76)\u001b[K\rremote: Counting objects:  94% (72/76)\u001b[K\rremote: Counting objects:  96% (73/76)\u001b[K\rremote: Counting objects:  97% (74/76)\u001b[K\rremote: Counting objects:  98% (75/76)\u001b[K\rremote: Counting objects: 100% (76/76)\u001b[K\rremote: Counting objects: 100% (76/76), done.\u001b[K\n",
            "remote: Compressing objects:   1% (1/76)\u001b[K\rremote: Compressing objects:   2% (2/76)\u001b[K\rremote: Compressing objects:   3% (3/76)\u001b[K\rremote: Compressing objects:   5% (4/76)\u001b[K\rremote: Compressing objects:   6% (5/76)\u001b[K\rremote: Compressing objects:   7% (6/76)\u001b[K\rremote: Compressing objects:   9% (7/76)\u001b[K\rremote: Compressing objects:  10% (8/76)\u001b[K\rremote: Compressing objects:  11% (9/76)\u001b[K\rremote: Compressing objects:  13% (10/76)\u001b[K\rremote: Compressing objects:  14% (11/76)\u001b[K\rremote: Compressing objects:  15% (12/76)\u001b[K\rremote: Compressing objects:  17% (13/76)\u001b[K\rremote: Compressing objects:  18% (14/76)\u001b[K\rremote: Compressing objects:  19% (15/76)\u001b[K\rremote: Compressing objects:  21% (16/76)\u001b[K\rremote: Compressing objects:  22% (17/76)\u001b[K\rremote: Compressing objects:  23% (18/76)\u001b[K\rremote: Compressing objects:  25% (19/76)\u001b[K\rremote: Compressing objects:  26% (20/76)\u001b[K\rremote: Compressing objects:  27% (21/76)\u001b[K\rremote: Compressing objects:  28% (22/76)\u001b[K\rremote: Compressing objects:  30% (23/76)\u001b[K\rremote: Compressing objects:  31% (24/76)\u001b[K\rremote: Compressing objects:  32% (25/76)\u001b[K\rremote: Compressing objects:  34% (26/76)\u001b[K\rremote: Compressing objects:  35% (27/76)\u001b[K\rremote: Compressing objects:  36% (28/76)\u001b[K\rremote: Compressing objects:  38% (29/76)\u001b[K\rremote: Compressing objects:  39% (30/76)\u001b[K\rremote: Compressing objects:  40% (31/76)\u001b[K\rremote: Compressing objects:  42% (32/76)\u001b[K\rremote: Compressing objects:  43% (33/76)\u001b[K\rremote: Compressing objects:  44% (34/76)\u001b[K\rremote: Compressing objects:  46% (35/76)\u001b[K\rremote: Compressing objects:  47% (36/76)\u001b[K\rremote: Compressing objects:  48% (37/76)\u001b[K\rremote: Compressing objects:  50% (38/76)\u001b[K\rremote: Compressing objects:  51% (39/76)\u001b[K\rremote: Compressing objects:  52% (40/76)\u001b[K\rremote: Compressing objects:  53% (41/76)\u001b[K\rremote: Compressing objects:  55% (42/76)\u001b[K\rremote: Compressing objects:  56% (43/76)\u001b[K\rremote: Compressing objects:  57% (44/76)\u001b[K\rremote: Compressing objects:  59% (45/76)\u001b[K\rremote: Compressing objects:  60% (46/76)\u001b[K\rremote: Compressing objects:  61% (47/76)\u001b[K\rremote: Compressing objects:  63% (48/76)\u001b[K\rremote: Compressing objects:  64% (49/76)\u001b[K\rremote: Compressing objects:  65% (50/76)\u001b[K\rremote: Compressing objects:  67% (51/76)\u001b[K\rremote: Compressing objects:  68% (52/76)\u001b[K\rremote: Compressing objects:  69% (53/76)\u001b[K\rremote: Compressing objects:  71% (54/76)\u001b[K\rremote: Compressing objects:  72% (55/76)\u001b[K\rremote: Compressing objects:  73% (56/76)\u001b[K\rremote: Compressing objects:  75% (57/76)\u001b[K\rremote: Compressing objects:  76% (58/76)\u001b[K\rremote: Compressing objects:  77% (59/76)\u001b[K\rremote: Compressing objects:  78% (60/76)\u001b[K\rremote: Compressing objects:  80% (61/76)\u001b[K\rremote: Compressing objects:  81% (62/76)\u001b[K\rremote: Compressing objects:  82% (63/76)\u001b[K\rremote: Compressing objects:  84% (64/76)\u001b[K\rremote: Compressing objects:  85% (65/76)\u001b[K\rremote: Compressing objects:  86% (66/76)\u001b[K\rremote: Compressing objects:  88% (67/76)\u001b[K\rremote: Compressing objects:  89% (68/76)\u001b[K\rremote: Compressing objects:  90% (69/76)\u001b[K\rremote: Compressing objects:  92% (70/76)\u001b[K\rremote: Compressing objects:  93% (71/76)\u001b[K\rremote: Compressing objects:  94% (72/76)\u001b[K\rremote: Compressing objects:  96% (73/76)\u001b[K\rremote: Compressing objects:  97% (74/76)\u001b[K\rremote: Compressing objects:  98% (75/76)\u001b[K\rremote: Compressing objects: 100% (76/76)\u001b[K\rremote: Compressing objects: 100% (76/76), done.\u001b[K\n",
            "Receiving objects:   0% (1/141)   \rReceiving objects:   1% (2/141)   \rReceiving objects:   2% (3/141)   \rReceiving objects:   3% (5/141)   \rReceiving objects:   4% (6/141)   \rReceiving objects:   5% (8/141)   \rReceiving objects:   6% (9/141)   \rReceiving objects:   7% (10/141)   \rReceiving objects:   8% (12/141)   \rReceiving objects:   9% (13/141)   \rReceiving objects:  10% (15/141)   \rReceiving objects:  11% (16/141)   \rReceiving objects:  12% (17/141)   \rReceiving objects:  13% (19/141)   \rReceiving objects:  14% (20/141)   \rReceiving objects:  15% (22/141)   \rReceiving objects:  16% (23/141)   \rReceiving objects:  17% (24/141)   \rReceiving objects:  18% (26/141)   \rReceiving objects:  19% (27/141)   \rReceiving objects:  20% (29/141)   \rremote: Total 141 (delta 24), reused 0 (delta 0), pack-reused 65\u001b[K\n",
            "Receiving objects:  21% (30/141)   \rReceiving objects:  22% (32/141)   \rReceiving objects:  23% (33/141)   \rReceiving objects:  24% (34/141)   \rReceiving objects:  25% (36/141)   \rReceiving objects:  26% (37/141)   \rReceiving objects:  27% (39/141)   \rReceiving objects:  28% (40/141)   \rReceiving objects:  29% (41/141)   \rReceiving objects:  30% (43/141)   \rReceiving objects:  31% (44/141)   \rReceiving objects:  32% (46/141)   \rReceiving objects:  33% (47/141)   \rReceiving objects:  34% (48/141)   \rReceiving objects:  35% (50/141)   \rReceiving objects:  36% (51/141)   \rReceiving objects:  37% (53/141)   \rReceiving objects:  38% (54/141)   \rReceiving objects:  39% (55/141)   \rReceiving objects:  40% (57/141)   \rReceiving objects:  41% (58/141)   \rReceiving objects:  42% (60/141)   \rReceiving objects:  43% (61/141)   \rReceiving objects:  44% (63/141)   \rReceiving objects:  45% (64/141)   \rReceiving objects:  46% (65/141)   \rReceiving objects:  47% (67/141)   \rReceiving objects:  48% (68/141)   \rReceiving objects:  49% (70/141)   \rReceiving objects:  50% (71/141)   \rReceiving objects:  51% (72/141)   \rReceiving objects:  52% (74/141)   \rReceiving objects:  53% (75/141)   \rReceiving objects:  54% (77/141)   \rReceiving objects:  55% (78/141)   \rReceiving objects:  56% (79/141)   \rReceiving objects:  57% (81/141)   \rReceiving objects:  58% (82/141)   \rReceiving objects:  59% (84/141)   \rReceiving objects:  60% (85/141)   \rReceiving objects:  61% (87/141)   \rReceiving objects:  62% (88/141)   \rReceiving objects:  63% (89/141)   \rReceiving objects:  64% (91/141)   \rReceiving objects:  65% (92/141)   \rReceiving objects:  66% (94/141)   \rReceiving objects:  67% (95/141)   \rReceiving objects:  68% (96/141)   \rReceiving objects:  69% (98/141)   \rReceiving objects:  70% (99/141)   \rReceiving objects:  71% (101/141)   \rReceiving objects:  72% (102/141)   \rReceiving objects:  73% (103/141)   \rReceiving objects:  74% (105/141)   \rReceiving objects:  75% (106/141)   \rReceiving objects:  76% (108/141)   \rReceiving objects:  77% (109/141)   \rReceiving objects:  78% (110/141)   \rReceiving objects:  79% (112/141)   \rReceiving objects:  80% (113/141)   \rReceiving objects:  81% (115/141)   \rReceiving objects:  82% (116/141)   \rReceiving objects:  83% (118/141)   \rReceiving objects:  84% (119/141)   \rReceiving objects:  85% (120/141)   \rReceiving objects:  86% (122/141)   \rReceiving objects:  87% (123/141)   \rReceiving objects:  88% (125/141)   \rReceiving objects:  89% (126/141)   \rReceiving objects:  90% (127/141)   \rReceiving objects:  91% (129/141)   \rReceiving objects:  92% (130/141)   \rReceiving objects:  93% (132/141)   \rReceiving objects:  94% (133/141)   \rReceiving objects:  95% (134/141)   \rReceiving objects:  96% (136/141)   \rReceiving objects:  97% (137/141)   \rReceiving objects:  98% (139/141)   \rReceiving objects:  99% (140/141)   \rReceiving objects: 100% (141/141)   \rReceiving objects: 100% (141/141), 53.03 KiB | 3.79 MiB/s, done.\n",
            "Resolving deltas:   0% (0/43)   \rResolving deltas:  74% (32/43)   \rResolving deltas: 100% (43/43)   \rResolving deltas: 100% (43/43), done.\n"
          ],
          "name": "stdout"
        }
      ]
    },
    {
      "cell_type": "code",
      "metadata": {
        "id": "jyAxvEgjpqYa",
        "colab_type": "code",
        "outputId": "3db30f4d-177c-4a12-ef51-0d1875ab1af4",
        "colab": {
          "base_uri": "https://localhost:8080/",
          "height": 136
        }
      },
      "source": [
        "!git clone https://github.com/dennybritz/reinforcement-learning.git"
      ],
      "execution_count": 12,
      "outputs": [
        {
          "output_type": "stream",
          "text": [
            "Cloning into 'reinforcement-learning'...\n",
            "remote: Enumerating objects: 4, done.\u001b[K\n",
            "remote: Counting objects:  25% (1/4)\u001b[K\rremote: Counting objects:  50% (2/4)\u001b[K\rremote: Counting objects:  75% (3/4)\u001b[K\rremote: Counting objects: 100% (4/4)\u001b[K\rremote: Counting objects: 100% (4/4), done.\u001b[K\n",
            "remote: Compressing objects: 100% (4/4), done.\u001b[K\n",
            "remote: Total 1274 (delta 0), reused 1 (delta 0), pack-reused 1270\u001b[K\n",
            "Receiving objects: 100% (1274/1274), 5.25 MiB | 21.93 MiB/s, done.\n",
            "Resolving deltas: 100% (819/819), done.\n"
          ],
          "name": "stdout"
        }
      ]
    },
    {
      "cell_type": "code",
      "metadata": {
        "id": "8aPN2i7SIDAK",
        "colab_type": "code",
        "outputId": "96462451-fc88-4a0f-d042-223dbe86477e",
        "colab": {
          "base_uri": "https://localhost:8080/",
          "height": 102
        }
      },
      "source": [
        "!git clone https://github.com/MorvanZhou/Reinforcement-learning-with-tensorflow.git"
      ],
      "execution_count": 13,
      "outputs": [
        {
          "output_type": "stream",
          "text": [
            "Cloning into 'Reinforcement-learning-with-tensorflow'...\n",
            "remote: Enumerating objects: 669, done.\u001b[K\n",
            "Receiving objects:   0% (1/669)   \rReceiving objects:   1% (7/669)   \rReceiving objects:   2% (14/669)   \rReceiving objects:   3% (21/669)   \rReceiving objects:   4% (27/669)   \rReceiving objects:   5% (34/669)   \rReceiving objects:   6% (41/669)   \rReceiving objects:   7% (47/669)   \rReceiving objects:   8% (54/669)   \rReceiving objects:   9% (61/669)   \rReceiving objects:  10% (67/669)   \rReceiving objects:  11% (74/669)   \rReceiving objects:  12% (81/669)   \rReceiving objects:  13% (87/669)   \rReceiving objects:  14% (94/669)   \rReceiving objects:  15% (101/669)   \rReceiving objects:  16% (108/669)   \rReceiving objects:  17% (114/669)   \rReceiving objects:  18% (121/669)   \rReceiving objects:  19% (128/669)   \rReceiving objects:  20% (134/669)   \rReceiving objects:  21% (141/669)   \rReceiving objects:  22% (148/669)   \rReceiving objects:  23% (154/669)   \rReceiving objects:  24% (161/669)   \rReceiving objects:  25% (168/669)   \rReceiving objects:  26% (174/669)   \rReceiving objects:  27% (181/669)   \rReceiving objects:  28% (188/669)   \rReceiving objects:  29% (195/669)   \rReceiving objects:  30% (201/669)   \rReceiving objects:  31% (208/669)   \rReceiving objects:  32% (215/669)   \rReceiving objects:  33% (221/669)   \rReceiving objects:  34% (228/669)   \rReceiving objects:  35% (235/669)   \rReceiving objects:  36% (241/669)   \rReceiving objects:  37% (248/669)   \rReceiving objects:  38% (255/669)   \rReceiving objects:  39% (261/669)   \rReceiving objects:  40% (268/669)   \rReceiving objects:  41% (275/669)   \rReceiving objects:  42% (281/669)   \rremote: Total 669 (delta 0), reused 0 (delta 0), pack-reused 669\u001b[K\n",
            "Receiving objects:  43% (288/669)   \rReceiving objects:  44% (295/669)   \rReceiving objects:  45% (302/669)   \rReceiving objects:  46% (308/669)   \rReceiving objects:  47% (315/669)   \rReceiving objects:  48% (322/669)   \rReceiving objects:  49% (328/669)   \rReceiving objects:  50% (335/669)   \rReceiving objects:  51% (342/669)   \rReceiving objects:  52% (348/669)   \rReceiving objects:  53% (355/669)   \rReceiving objects:  54% (362/669)   \rReceiving objects:  55% (368/669)   \rReceiving objects:  56% (375/669)   \rReceiving objects:  57% (382/669)   \rReceiving objects:  58% (389/669)   \rReceiving objects:  59% (395/669)   \rReceiving objects:  60% (402/669)   \rReceiving objects:  61% (409/669)   \rReceiving objects:  62% (415/669)   \rReceiving objects:  63% (422/669)   \rReceiving objects:  64% (429/669)   \rReceiving objects:  65% (435/669)   \rReceiving objects:  66% (442/669)   \rReceiving objects:  67% (449/669)   \rReceiving objects:  68% (455/669)   \rReceiving objects:  69% (462/669)   \rReceiving objects:  70% (469/669)   \rReceiving objects:  71% (475/669)   \rReceiving objects:  72% (482/669)   \rReceiving objects:  73% (489/669)   \rReceiving objects:  74% (496/669)   \rReceiving objects:  75% (502/669)   \rReceiving objects:  76% (509/669)   \rReceiving objects:  77% (516/669)   \rReceiving objects:  78% (522/669)   \rReceiving objects:  79% (529/669)   \rReceiving objects:  80% (536/669)   \rReceiving objects:  81% (542/669)   \rReceiving objects:  82% (549/669)   \rReceiving objects:  83% (556/669)   \rReceiving objects:  84% (562/669)   \rReceiving objects:  85% (569/669)   \rReceiving objects:  86% (576/669)   \rReceiving objects:  87% (583/669)   \rReceiving objects:  88% (589/669)   \rReceiving objects:  89% (596/669)   \rReceiving objects:  90% (603/669)   \rReceiving objects:  91% (609/669)   \rReceiving objects:  92% (616/669)   \rReceiving objects:  93% (623/669)   \rReceiving objects:  94% (629/669)   \rReceiving objects:  95% (636/669)   \rReceiving objects:  96% (643/669)   \rReceiving objects:  97% (649/669)   \rReceiving objects:  98% (656/669)   \rReceiving objects:  99% (663/669)   \rReceiving objects: 100% (669/669)   \rReceiving objects: 100% (669/669), 430.31 KiB | 4.02 MiB/s, done.\n",
            "Resolving deltas:   0% (0/379)   \rResolving deltas:   2% (9/379)   \rResolving deltas:   8% (32/379)   \rResolving deltas:  15% (60/379)   \rResolving deltas:  19% (74/379)   \rResolving deltas:  23% (89/379)   \rResolving deltas:  27% (106/379)   \rResolving deltas:  29% (112/379)   \rResolving deltas:  31% (120/379)   \rResolving deltas:  35% (134/379)   \rResolving deltas:  36% (139/379)   \rResolving deltas:  38% (147/379)   \rResolving deltas:  40% (155/379)   \rResolving deltas:  41% (157/379)   \rResolving deltas:  42% (162/379)   \rResolving deltas:  43% (165/379)   \rResolving deltas:  44% (168/379)   \rResolving deltas:  46% (176/379)   \rResolving deltas:  49% (188/379)   \rResolving deltas:  50% (193/379)   \rResolving deltas:  51% (196/379)   \rResolving deltas:  52% (200/379)   \rResolving deltas:  53% (203/379)   \rResolving deltas:  59% (225/379)   \rResolving deltas:  64% (243/379)   \rResolving deltas:  65% (249/379)   \rResolving deltas:  66% (252/379)   \rResolving deltas:  67% (257/379)   \rResolving deltas:  68% (258/379)   \rResolving deltas:  72% (273/379)   \rResolving deltas:  76% (289/379)   \rResolving deltas:  78% (297/379)   \rResolving deltas:  82% (312/379)   \rResolving deltas:  83% (316/379)   \rResolving deltas:  84% (321/379)   \rResolving deltas:  86% (326/379)   \rResolving deltas:  88% (334/379)   \rResolving deltas:  89% (338/379)   \rResolving deltas:  92% (351/379)   \rResolving deltas:  93% (353/379)   \rResolving deltas:  96% (364/379)   \rResolving deltas:  98% (374/379)   \rResolving deltas:  99% (376/379)   \rResolving deltas: 100% (379/379)   \rResolving deltas: 100% (379/379), done.\n"
          ],
          "name": "stdout"
        }
      ]
    },
    {
      "cell_type": "code",
      "metadata": {
        "id": "jtwPnQIpIWYN",
        "colab_type": "code",
        "outputId": "e50536a9-d587-4b83-cd96-a79ae4187e10",
        "colab": {
          "base_uri": "https://localhost:8080/",
          "height": 102
        }
      },
      "source": [
        "!git clone https://github.com/udacity/deep-reinforcement-learning.git"
      ],
      "execution_count": 14,
      "outputs": [
        {
          "output_type": "stream",
          "text": [
            "Cloning into 'deep-reinforcement-learning'...\n",
            "remote: Enumerating objects: 223, done.\u001b[K\n",
            "Receiving objects:   0% (1/223)   \rReceiving objects:   1% (3/223)   \rReceiving objects:   2% (5/223)   \rReceiving objects:   3% (7/223)   \rReceiving objects:   4% (9/223)   \rReceiving objects:   5% (12/223)   \rReceiving objects:   6% (14/223)   \rReceiving objects:   7% (16/223)   \rReceiving objects:   8% (18/223)   \rReceiving objects:   9% (21/223)   \rReceiving objects:  10% (23/223)   \rReceiving objects:  11% (25/223)   \rReceiving objects:  12% (27/223)   \rReceiving objects:  13% (29/223)   \rReceiving objects:  14% (32/223)   \rReceiving objects:  15% (34/223)   \rReceiving objects:  16% (36/223)   \rReceiving objects:  17% (38/223)   \rReceiving objects:  18% (41/223)   \rReceiving objects:  19% (43/223)   \rReceiving objects:  20% (45/223)   \rReceiving objects:  21% (47/223)   \rReceiving objects:  22% (50/223)   \rReceiving objects:  23% (52/223)   \rReceiving objects:  24% (54/223)   \rReceiving objects:  25% (56/223)   \rReceiving objects:  26% (58/223)   \rReceiving objects:  27% (61/223)   \rReceiving objects:  28% (63/223)   \rReceiving objects:  29% (65/223)   \rReceiving objects:  30% (67/223)   \rReceiving objects:  31% (70/223)   \rReceiving objects:  32% (72/223)   \rReceiving objects:  33% (74/223)   \rReceiving objects:  34% (76/223)   \rReceiving objects:  35% (79/223)   \rReceiving objects:  36% (81/223)   \rReceiving objects:  37% (83/223)   \rReceiving objects:  38% (85/223)   \rReceiving objects:  39% (87/223)   \rReceiving objects:  40% (90/223)   \rReceiving objects:  41% (92/223)   \rReceiving objects:  42% (94/223)   \rReceiving objects:  43% (96/223)   \rReceiving objects:  44% (99/223)   \rReceiving objects:  45% (101/223)   \rReceiving objects:  46% (103/223)   \rReceiving objects:  47% (105/223)   \rReceiving objects:  48% (108/223)   \rReceiving objects:  49% (110/223)   \rReceiving objects:  50% (112/223)   \rReceiving objects:  51% (114/223)   \rReceiving objects:  52% (116/223)   \rReceiving objects:  53% (119/223)   \rReceiving objects:  54% (121/223)   \rReceiving objects:  55% (123/223)   \rReceiving objects:  56% (125/223)   \rReceiving objects:  57% (128/223)   \rReceiving objects:  58% (130/223)   \rReceiving objects:  59% (132/223)   \rReceiving objects:  60% (134/223)   \rReceiving objects:  61% (137/223)   \rReceiving objects:  62% (139/223)   \rReceiving objects:  63% (141/223)   \rReceiving objects:  64% (143/223)   \rReceiving objects:  65% (145/223)   \rReceiving objects:  66% (148/223)   \rReceiving objects:  67% (150/223)   \rReceiving objects:  68% (152/223)   \rReceiving objects:  69% (154/223)   \rReceiving objects:  70% (157/223)   \rReceiving objects:  71% (159/223)   \rReceiving objects:  72% (161/223)   \rReceiving objects:  73% (163/223)   \rReceiving objects:  74% (166/223)   \rReceiving objects:  75% (168/223)   \rReceiving objects:  76% (170/223)   \rReceiving objects:  77% (172/223)   \rReceiving objects:  78% (174/223)   \rReceiving objects:  79% (177/223)   \rReceiving objects:  80% (179/223)   \rReceiving objects:  81% (181/223)   \rReceiving objects:  82% (183/223)   \rReceiving objects:  83% (186/223)   \rReceiving objects:  84% (188/223)   \rReceiving objects:  85% (190/223)   \rremote: Total 223 (delta 0), reused 0 (delta 0), pack-reused 223\u001b[K\n",
            "Receiving objects:  86% (192/223)   \rReceiving objects:  87% (195/223)   \rReceiving objects:  88% (197/223)   \rReceiving objects:  89% (199/223)   \rReceiving objects:  90% (201/223)   \rReceiving objects:  91% (203/223)   \rReceiving objects:  92% (206/223)   \rReceiving objects:  93% (208/223)   \rReceiving objects:  94% (210/223)   \rReceiving objects:  95% (212/223)   \rReceiving objects:  96% (215/223)   \rReceiving objects:  97% (217/223)   \rReceiving objects:  98% (219/223)   \rReceiving objects:  99% (221/223)   \rReceiving objects: 100% (223/223)   \rReceiving objects: 100% (223/223), 3.45 MiB | 17.48 MiB/s, done.\n",
            "Resolving deltas:   0% (0/51)   \rResolving deltas:   1% (1/51)   \rResolving deltas:   9% (5/51)   \rResolving deltas:  11% (6/51)   \rResolving deltas:  17% (9/51)   \rResolving deltas:  21% (11/51)   \rResolving deltas:  27% (14/51)   \rResolving deltas:  29% (15/51)   \rResolving deltas:  33% (17/51)   \rResolving deltas:  49% (25/51)   \rResolving deltas:  52% (27/51)   \rResolving deltas:  56% (29/51)   \rResolving deltas:  76% (39/51)   \rResolving deltas:  92% (47/51)   \rResolving deltas: 100% (51/51)   \rResolving deltas: 100% (51/51), done.\n"
          ],
          "name": "stdout"
        }
      ]
    },
    {
      "cell_type": "code",
      "metadata": {
        "id": "4z6AL2XzIqpk",
        "colab_type": "code",
        "outputId": "5e4fd02a-873e-4e66-97c2-200775e587a9",
        "colab": {
          "base_uri": "https://localhost:8080/",
          "height": 102
        }
      },
      "source": [
        "!git clone https://github.com/Zeta36/chess-alpha-zero.git"
      ],
      "execution_count": 15,
      "outputs": [
        {
          "output_type": "stream",
          "text": [
            "Cloning into 'chess-alpha-zero'...\n",
            "remote: Enumerating objects: 478, done.\u001b[K\n",
            "remote: Total 478 (delta 0), reused 0 (delta 0), pack-reused 478\u001b[K\n",
            "Receiving objects: 100% (478/478), 122.38 MiB | 37.26 MiB/s, done.\n",
            "Resolving deltas: 100% (250/250), done.\n"
          ],
          "name": "stdout"
        }
      ]
    },
    {
      "cell_type": "code",
      "metadata": {
        "id": "pewKcEYII7ad",
        "colab_type": "code",
        "outputId": "c5cbafec-7618-42ef-fdde-c128c3842bcf",
        "colab": {
          "base_uri": "https://localhost:8080/",
          "height": 153
        }
      },
      "source": [
        "!git clone https://github.com/suragnair/alpha-zero-general.git"
      ],
      "execution_count": 16,
      "outputs": [
        {
          "output_type": "stream",
          "text": [
            "Cloning into 'alpha-zero-general'...\n",
            "remote: Enumerating objects: 4, done.\u001b[K\n",
            "remote: Counting objects:  25% (1/4)\u001b[K\rremote: Counting objects:  50% (2/4)\u001b[K\rremote: Counting objects:  75% (3/4)\u001b[K\rremote: Counting objects: 100% (4/4)\u001b[K\rremote: Counting objects: 100% (4/4), done.\u001b[K\n",
            "remote: Compressing objects: 100% (4/4), done.\u001b[K\n",
            "remote: Total 945 (delta 0), reused 1 (delta 0), pack-reused 941\u001b[K\n",
            "Receiving objects: 100% (945/945), 230.16 MiB | 41.80 MiB/s, done.\n",
            "Resolving deltas: 100% (520/520), done.\n",
            "Checking out files: 100% (134/134), done.\n"
          ],
          "name": "stdout"
        }
      ]
    },
    {
      "cell_type": "code",
      "metadata": {
        "id": "xxNq7FWkJqL7",
        "colab_type": "code",
        "outputId": "c9244ff1-89ed-4bab-d832-9e66aac9ee3f",
        "colab": {
          "base_uri": "https://localhost:8080/",
          "height": 136
        }
      },
      "source": [
        "!git clone https://github.com/glinscott/leela-chess.git"
      ],
      "execution_count": 17,
      "outputs": [
        {
          "output_type": "stream",
          "text": [
            "Cloning into 'leela-chess'...\n",
            "remote: Enumerating objects: 5, done.\u001b[K\n",
            "remote: Counting objects:  20% (1/5)\u001b[K\rremote: Counting objects:  40% (2/5)\u001b[K\rremote: Counting objects:  60% (3/5)\u001b[K\rremote: Counting objects:  80% (4/5)\u001b[K\rremote: Counting objects: 100% (5/5)\u001b[K\rremote: Counting objects: 100% (5/5), done.\u001b[K\n",
            "remote: Compressing objects: 100% (4/4), done.\u001b[K\n",
            "remote: Total 6791 (delta 0), reused 0 (delta 0), pack-reused 6786\u001b[K\n",
            "Receiving objects: 100% (6791/6791), 34.98 MiB | 23.12 MiB/s, done.\n",
            "Resolving deltas: 100% (4304/4304), done.\n"
          ],
          "name": "stdout"
        }
      ]
    },
    {
      "cell_type": "code",
      "metadata": {
        "id": "m_srHOUII-37",
        "colab_type": "code",
        "outputId": "4adad4a5-d7e5-4903-abf6-362e715bfbfa",
        "colab": {
          "base_uri": "https://localhost:8080/",
          "height": 136
        }
      },
      "source": [
        "!git clone https://github.com/XanaduAI/pennylane.git"
      ],
      "execution_count": 18,
      "outputs": [
        {
          "output_type": "stream",
          "text": [
            "Cloning into 'pennylane'...\n",
            "remote: Enumerating objects: 185, done.\u001b[K\n",
            "remote: Counting objects: 100% (185/185), done.\u001b[K\n",
            "remote: Compressing objects: 100% (136/136), done.\u001b[K\n",
            "remote: Total 10418 (delta 97), reused 88 (delta 49), pack-reused 10233\u001b[K\n",
            "Receiving objects: 100% (10418/10418), 22.91 MiB | 18.98 MiB/s, done.\n",
            "Resolving deltas: 100% (7316/7316), done.\n"
          ],
          "name": "stdout"
        }
      ]
    },
    {
      "cell_type": "code",
      "metadata": {
        "id": "TbsOg4sKSo8G",
        "colab_type": "code",
        "outputId": "c337bd30-10f2-4324-d9ed-ec3be9c95b1f",
        "colab": {
          "base_uri": "https://localhost:8080/",
          "height": 102
        }
      },
      "source": [
        "!git clone https://github.com/google/dopamine.git"
      ],
      "execution_count": 19,
      "outputs": [
        {
          "output_type": "stream",
          "text": [
            "Cloning into 'dopamine'...\n",
            "remote: Enumerating objects: 1485, done.\u001b[K\n",
            "remote: Total 1485 (delta 0), reused 0 (delta 0), pack-reused 1485\u001b[K\n",
            "Receiving objects: 100% (1485/1485), 7.35 MiB | 23.37 MiB/s, done.\n",
            "Resolving deltas: 100% (963/963), done.\n"
          ],
          "name": "stdout"
        }
      ]
    },
    {
      "cell_type": "code",
      "metadata": {
        "id": "v12ktEQoJBQm",
        "colab_type": "code",
        "outputId": "6acf9749-86b5-4efe-86b2-e7160c2d7e26",
        "colab": {
          "base_uri": "https://localhost:8080/",
          "height": 136
        }
      },
      "source": [
        "!git clone https://github.com/mukeshmithrakumar/scientific.git"
      ],
      "execution_count": 20,
      "outputs": [
        {
          "output_type": "stream",
          "text": [
            "Cloning into 'scientific'...\n",
            "remote: Enumerating objects: 100, done.\u001b[K\n",
            "remote: Counting objects:   1% (1/100)\u001b[K\rremote: Counting objects:   2% (2/100)\u001b[K\rremote: Counting objects:   3% (3/100)\u001b[K\rremote: Counting objects:   4% (4/100)\u001b[K\rremote: Counting objects:   5% (5/100)\u001b[K\rremote: Counting objects:   6% (6/100)\u001b[K\rremote: Counting objects:   7% (7/100)\u001b[K\rremote: Counting objects:   8% (8/100)\u001b[K\rremote: Counting objects:   9% (9/100)\u001b[K\rremote: Counting objects:  10% (10/100)\u001b[K\rremote: Counting objects:  11% (11/100)\u001b[K\rremote: Counting objects:  12% (12/100)\u001b[K\rremote: Counting objects:  13% (13/100)\u001b[K\rremote: Counting objects:  14% (14/100)\u001b[K\rremote: Counting objects:  15% (15/100)\u001b[K\rremote: Counting objects:  16% (16/100)\u001b[K\rremote: Counting objects:  17% (17/100)\u001b[K\rremote: Counting objects:  18% (18/100)\u001b[K\rremote: Counting objects:  19% (19/100)\u001b[K\rremote: Counting objects:  20% (20/100)\u001b[K\rremote: Counting objects:  21% (21/100)\u001b[K\rremote: Counting objects:  22% (22/100)\u001b[K\rremote: Counting objects:  23% (23/100)\u001b[K\rremote: Counting objects:  24% (24/100)\u001b[K\rremote: Counting objects:  25% (25/100)\u001b[K\rremote: Counting objects:  26% (26/100)\u001b[K\rremote: Counting objects:  27% (27/100)\u001b[K\rremote: Counting objects:  28% (28/100)\u001b[K\rremote: Counting objects:  29% (29/100)\u001b[K\rremote: Counting objects:  30% (30/100)\u001b[K\rremote: Counting objects:  31% (31/100)\u001b[K\rremote: Counting objects:  32% (32/100)\u001b[K\rremote: Counting objects:  33% (33/100)\u001b[K\rremote: Counting objects:  34% (34/100)\u001b[K\rremote: Counting objects:  35% (35/100)\u001b[K\rremote: Counting objects:  36% (36/100)\u001b[K\rremote: Counting objects:  37% (37/100)\u001b[K\rremote: Counting objects:  38% (38/100)\u001b[K\rremote: Counting objects:  39% (39/100)\u001b[K\rremote: Counting objects:  40% (40/100)\u001b[K\rremote: Counting objects:  41% (41/100)\u001b[K\rremote: Counting objects:  42% (42/100)\u001b[K\rremote: Counting objects:  43% (43/100)\u001b[K\rremote: Counting objects:  44% (44/100)\u001b[K\rremote: Counting objects:  45% (45/100)\u001b[K\rremote: Counting objects:  46% (46/100)\u001b[K\rremote: Counting objects:  47% (47/100)\u001b[K\rremote: Counting objects:  48% (48/100)\u001b[K\rremote: Counting objects:  49% (49/100)\u001b[K\rremote: Counting objects:  50% (50/100)\u001b[K\rremote: Counting objects:  51% (51/100)\u001b[K\rremote: Counting objects:  52% (52/100)\u001b[K\rremote: Counting objects:  53% (53/100)\u001b[K\rremote: Counting objects:  54% (54/100)\u001b[K\rremote: Counting objects:  55% (55/100)\u001b[K\rremote: Counting objects:  56% (56/100)\u001b[K\rremote: Counting objects:  57% (57/100)\u001b[K\rremote: Counting objects:  58% (58/100)\u001b[K\rremote: Counting objects:  59% (59/100)\u001b[K\rremote: Counting objects:  60% (60/100)\u001b[K\rremote: Counting objects:  61% (61/100)\u001b[K\rremote: Counting objects:  62% (62/100)\u001b[K\rremote: Counting objects:  63% (63/100)\u001b[K\rremote: Counting objects:  64% (64/100)\u001b[K\rremote: Counting objects:  65% (65/100)\u001b[K\rremote: Counting objects:  66% (66/100)\u001b[K\rremote: Counting objects:  67% (67/100)\u001b[K\rremote: Counting objects:  68% (68/100)\u001b[K\rremote: Counting objects:  69% (69/100)\u001b[K\rremote: Counting objects:  70% (70/100)\u001b[K\rremote: Counting objects:  71% (71/100)\u001b[K\rremote: Counting objects:  72% (72/100)\u001b[K\rremote: Counting objects:  73% (73/100)\u001b[K\rremote: Counting objects:  74% (74/100)\u001b[K\rremote: Counting objects:  75% (75/100)\u001b[K\rremote: Counting objects:  76% (76/100)\u001b[K\rremote: Counting objects:  77% (77/100)\u001b[K\rremote: Counting objects:  78% (78/100)\u001b[K\rremote: Counting objects:  79% (79/100)\u001b[K\rremote: Counting objects:  80% (80/100)\u001b[K\rremote: Counting objects:  81% (81/100)\u001b[K\rremote: Counting objects:  82% (82/100)\u001b[K\rremote: Counting objects:  83% (83/100)\u001b[K\rremote: Counting objects:  84% (84/100)\u001b[K\rremote: Counting objects:  85% (85/100)\u001b[K\rremote: Counting objects:  86% (86/100)\u001b[K\rremote: Counting objects:  87% (87/100)\u001b[K\rremote: Counting objects:  88% (88/100)\u001b[K\rremote: Counting objects:  89% (89/100)\u001b[K\rremote: Counting objects:  90% (90/100)\u001b[K\rremote: Counting objects:  91% (91/100)\u001b[K\rremote: Counting objects:  92% (92/100)\u001b[K\rremote: Counting objects:  93% (93/100)\u001b[K\rremote: Counting objects:  94% (94/100)\u001b[K\rremote: Counting objects:  95% (95/100)\u001b[K\rremote: Counting objects:  96% (96/100)\u001b[K\rremote: Counting objects:  97% (97/100)\u001b[K\rremote: Counting objects:  98% (98/100)\u001b[K\rremote: Counting objects:  99% (99/100)\u001b[K\rremote: Counting objects: 100% (100/100)\u001b[K\rremote: Counting objects: 100% (100/100), done.\u001b[K\n",
            "remote: Compressing objects:   1% (1/70)\u001b[K\rremote: Compressing objects:   2% (2/70)\u001b[K\rremote: Compressing objects:   4% (3/70)\u001b[K\rremote: Compressing objects:   5% (4/70)\u001b[K\rremote: Compressing objects:   7% (5/70)\u001b[K\rremote: Compressing objects:   8% (6/70)\u001b[K\rremote: Compressing objects:  10% (7/70)\u001b[K\rremote: Compressing objects:  11% (8/70)\u001b[K\rremote: Compressing objects:  12% (9/70)\u001b[K\rremote: Compressing objects:  14% (10/70)\u001b[K\rremote: Compressing objects:  15% (11/70)\u001b[K\rremote: Compressing objects:  17% (12/70)\u001b[K\rremote: Compressing objects:  18% (13/70)\u001b[K\rremote: Compressing objects:  20% (14/70)\u001b[K\rremote: Compressing objects:  21% (15/70)\u001b[K\rremote: Compressing objects:  22% (16/70)\u001b[K\rremote: Compressing objects:  24% (17/70)\u001b[K\rremote: Compressing objects:  25% (18/70)\u001b[K\rremote: Compressing objects:  27% (19/70)\u001b[K\rremote: Compressing objects:  28% (20/70)\u001b[K\rremote: Compressing objects:  30% (21/70)\u001b[K\rremote: Compressing objects:  31% (22/70)\u001b[K\rremote: Compressing objects:  32% (23/70)\u001b[K\rremote: Compressing objects:  34% (24/70)\u001b[K\rremote: Compressing objects:  35% (25/70)\u001b[K\rremote: Compressing objects:  37% (26/70)\u001b[K\rremote: Compressing objects:  38% (27/70)\u001b[K\rremote: Compressing objects:  40% (28/70)\u001b[K\rremote: Compressing objects:  41% (29/70)\u001b[K\rremote: Compressing objects:  42% (30/70)\u001b[K\rremote: Compressing objects:  44% (31/70)\u001b[K\rremote: Compressing objects:  45% (32/70)\u001b[K\rremote: Compressing objects:  47% (33/70)\u001b[K\rremote: Compressing objects:  48% (34/70)\u001b[K\rremote: Compressing objects:  50% (35/70)\u001b[K\rremote: Compressing objects:  51% (36/70)\u001b[K\rremote: Compressing objects:  52% (37/70)\u001b[K\rremote: Compressing objects:  54% (38/70)\u001b[K\rremote: Compressing objects:  55% (39/70)\u001b[K\rremote: Compressing objects:  57% (40/70)\u001b[K\rremote: Compressing objects:  58% (41/70)\u001b[K\rremote: Compressing objects:  60% (42/70)\u001b[K\rremote: Compressing objects:  61% (43/70)\u001b[K\rremote: Compressing objects:  62% (44/70)\u001b[K\rremote: Compressing objects:  64% (45/70)\u001b[K\rremote: Compressing objects:  65% (46/70)\u001b[K\rremote: Compressing objects:  67% (47/70)\u001b[K\rremote: Compressing objects:  68% (48/70)\u001b[K\rremote: Compressing objects:  70% (49/70)\u001b[K\rremote: Compressing objects:  71% (50/70)\u001b[K\rremote: Compressing objects:  72% (51/70)\u001b[K\rremote: Compressing objects:  74% (52/70)\u001b[K\rremote: Compressing objects:  75% (53/70)\u001b[K\rremote: Compressing objects:  77% (54/70)\u001b[K\rremote: Compressing objects:  78% (55/70)\u001b[K\rremote: Compressing objects:  80% (56/70)\u001b[K\rremote: Compressing objects:  81% (57/70)\u001b[K\rremote: Compressing objects:  82% (58/70)\u001b[K\rremote: Compressing objects:  84% (59/70)\u001b[K\rremote: Compressing objects:  85% (60/70)\u001b[K\rremote: Compressing objects:  87% (61/70)\u001b[K\rremote: Compressing objects:  88% (62/70)\u001b[K\rremote: Compressing objects:  90% (63/70)\u001b[K\rremote: Compressing objects:  91% (64/70)\u001b[K\rremote: Compressing objects:  92% (65/70)\u001b[K\rremote: Compressing objects:  94% (66/70)\u001b[K\rremote: Compressing objects:  95% (67/70)\u001b[K\rremote: Compressing objects:  97% (68/70)\u001b[K\rremote: Compressing objects:  98% (69/70)\u001b[K\rremote: Compressing objects: 100% (70/70)\u001b[K\rremote: Compressing objects: 100% (70/70), done.\u001b[K\n",
            "Receiving objects:   1% (1/100)   \rReceiving objects:   2% (2/100)   \rReceiving objects:   3% (3/100)   \rReceiving objects:   4% (4/100)   \rReceiving objects:   5% (5/100)   \rReceiving objects:   6% (6/100)   \rReceiving objects:   7% (7/100)   \rReceiving objects:   8% (8/100)   \rReceiving objects:   9% (9/100)   \rReceiving objects:  10% (10/100)   \rReceiving objects:  11% (11/100)   \rReceiving objects:  12% (12/100)   \rReceiving objects:  13% (13/100)   \rReceiving objects:  14% (14/100)   \rReceiving objects:  15% (15/100)   \rReceiving objects:  16% (16/100)   \rReceiving objects:  17% (17/100)   \rReceiving objects:  18% (18/100)   \rReceiving objects:  19% (19/100)   \rReceiving objects:  20% (20/100)   \rReceiving objects:  21% (21/100)   \rReceiving objects:  22% (22/100)   \rReceiving objects:  23% (23/100)   \rReceiving objects:  24% (24/100)   \rReceiving objects:  25% (25/100)   \rReceiving objects:  26% (26/100)   \rReceiving objects:  27% (27/100)   \rReceiving objects:  28% (28/100)   \rReceiving objects:  29% (29/100)   \rReceiving objects:  30% (30/100)   \rReceiving objects:  31% (31/100)   \rReceiving objects:  32% (32/100)   \rReceiving objects:  33% (33/100)   \rReceiving objects:  34% (34/100)   \rReceiving objects:  35% (35/100)   \rReceiving objects:  36% (36/100)   \rReceiving objects:  37% (37/100)   \rReceiving objects:  38% (38/100)   \rReceiving objects:  39% (39/100)   \rReceiving objects:  40% (40/100)   \rReceiving objects:  41% (41/100)   \rReceiving objects:  42% (42/100)   \rReceiving objects:  43% (43/100)   \rReceiving objects:  44% (44/100)   \rReceiving objects:  45% (45/100)   \rReceiving objects:  46% (46/100)   \rReceiving objects:  47% (47/100)   \rReceiving objects:  48% (48/100)   \rReceiving objects:  49% (49/100)   \rReceiving objects:  50% (50/100)   \rReceiving objects:  51% (51/100)   \rReceiving objects:  52% (52/100)   \rReceiving objects:  53% (53/100)   \rReceiving objects:  54% (54/100)   \rReceiving objects:  55% (55/100)   \rReceiving objects:  56% (56/100)   \rReceiving objects:  57% (57/100)   \rReceiving objects:  58% (58/100)   \rReceiving objects:  59% (59/100)   \rReceiving objects:  60% (60/100)   \rReceiving objects:  61% (61/100)   \rReceiving objects:  62% (62/100)   \rReceiving objects:  63% (63/100)   \rReceiving objects:  64% (64/100)   \rReceiving objects:  65% (65/100)   \rReceiving objects:  66% (66/100)   \rReceiving objects:  67% (67/100)   \rReceiving objects:  68% (68/100)   \rReceiving objects:  69% (69/100)   \rReceiving objects:  70% (70/100)   \rReceiving objects:  71% (71/100)   \rReceiving objects:  72% (72/100)   \rReceiving objects:  73% (73/100)   \rReceiving objects:  74% (74/100)   \rReceiving objects:  75% (75/100)   \rReceiving objects:  76% (76/100)   \rReceiving objects:  77% (77/100)   \rReceiving objects:  78% (78/100)   \rReceiving objects:  79% (79/100)   \rReceiving objects:  80% (80/100)   \rReceiving objects:  81% (81/100)   \rReceiving objects:  82% (82/100)   \rReceiving objects:  83% (83/100)   \rReceiving objects:  84% (84/100)   \rReceiving objects:  85% (85/100)   \rReceiving objects:  86% (86/100)   \rReceiving objects:  87% (87/100)   \rReceiving objects:  88% (88/100)   \rReceiving objects:  89% (89/100)   \rReceiving objects:  90% (90/100)   \rremote: Total 100 (delta 36), reused 81 (delta 19), pack-reused 0\u001b[K\n",
            "Receiving objects:  91% (91/100)   \rReceiving objects:  92% (92/100)   \rReceiving objects:  93% (93/100)   \rReceiving objects:  94% (94/100)   \rReceiving objects:  95% (95/100)   \rReceiving objects:  96% (96/100)   \rReceiving objects:  97% (97/100)   \rReceiving objects:  98% (98/100)   \rReceiving objects:  99% (99/100)   \rReceiving objects: 100% (100/100)   \rReceiving objects: 100% (100/100), 70.49 KiB | 3.36 MiB/s, done.\n",
            "Resolving deltas:   0% (0/36)   \rResolving deltas:   2% (1/36)   \rResolving deltas:   5% (2/36)   \rResolving deltas:   8% (3/36)   \rResolving deltas:  30% (11/36)   \rResolving deltas:  41% (15/36)   \rResolving deltas:  44% (16/36)   \rResolving deltas:  47% (17/36)   \rResolving deltas:  55% (20/36)   \rResolving deltas:  58% (21/36)   \rResolving deltas:  61% (22/36)   \rResolving deltas:  72% (26/36)   \rResolving deltas:  77% (28/36)   \rResolving deltas:  91% (33/36)   \rResolving deltas:  94% (34/36)   \rResolving deltas: 100% (36/36)   \rResolving deltas: 100% (36/36), done.\n"
          ],
          "name": "stdout"
        }
      ]
    },
    {
      "cell_type": "code",
      "metadata": {
        "id": "q6gwaoa9RUdx",
        "colab_type": "code",
        "outputId": "e1e17367-fdfe-4d25-9a59-fa180217636a",
        "colab": {
          "base_uri": "https://localhost:8080/",
          "height": 428
        }
      },
      "source": [
        "!pip install pytorch-pretrained-bert"
      ],
      "execution_count": 21,
      "outputs": [
        {
          "output_type": "stream",
          "text": [
            "Collecting pytorch-pretrained-bert\n",
            "\u001b[?25l  Downloading https://files.pythonhosted.org/packages/d7/e0/c08d5553b89973d9a240605b9c12404bcf8227590de62bae27acbcfe076b/pytorch_pretrained_bert-0.6.2-py3-none-any.whl (123kB)\n",
            "\r\u001b[K     |██▋                             | 10kB 16.3MB/s eta 0:00:01\r\u001b[K     |█████▎                          | 20kB 2.2MB/s eta 0:00:01\r\u001b[K     |████████                        | 30kB 3.2MB/s eta 0:00:01\r\u001b[K     |██████████▋                     | 40kB 2.1MB/s eta 0:00:01\r\u001b[K     |█████████████▎                  | 51kB 2.6MB/s eta 0:00:01\r\u001b[K     |███████████████▉                | 61kB 3.1MB/s eta 0:00:01\r\u001b[K     |██████████████████▌             | 71kB 3.6MB/s eta 0:00:01\r\u001b[K     |█████████████████████▏          | 81kB 4.0MB/s eta 0:00:01\r\u001b[K     |███████████████████████▉        | 92kB 4.5MB/s eta 0:00:01\r\u001b[K     |██████████████████████████▌     | 102kB 3.5MB/s eta 0:00:01\r\u001b[K     |█████████████████████████████▏  | 112kB 3.5MB/s eta 0:00:01\r\u001b[K     |███████████████████████████████▊| 122kB 3.5MB/s eta 0:00:01\r\u001b[K     |████████████████████████████████| 133kB 3.5MB/s \n",
            "\u001b[?25hRequirement already satisfied: tqdm in /usr/local/lib/python3.6/dist-packages (from pytorch-pretrained-bert) (4.28.1)\n",
            "Requirement already satisfied: requests in /usr/local/lib/python3.6/dist-packages (from pytorch-pretrained-bert) (2.21.0)\n",
            "Requirement already satisfied: numpy in /usr/local/lib/python3.6/dist-packages (from pytorch-pretrained-bert) (1.17.4)\n",
            "Requirement already satisfied: torch>=0.4.1 in /usr/local/lib/python3.6/dist-packages (from pytorch-pretrained-bert) (1.3.1)\n",
            "Requirement already satisfied: boto3 in /usr/local/lib/python3.6/dist-packages (from pytorch-pretrained-bert) (1.10.18)\n",
            "Collecting regex\n",
            "\u001b[?25l  Downloading https://files.pythonhosted.org/packages/e3/8e/cbf2295643d7265e7883326fb4654e643bfc93b3a8a8274d8010a39d8804/regex-2019.11.1-cp36-cp36m-manylinux1_x86_64.whl (643kB)\n",
            "\u001b[K     |████████████████████████████████| 645kB 49.5MB/s \n",
            "\u001b[?25hRequirement already satisfied: chardet<3.1.0,>=3.0.2 in /usr/local/lib/python3.6/dist-packages (from requests->pytorch-pretrained-bert) (3.0.4)\n",
            "Requirement already satisfied: idna<2.9,>=2.5 in /usr/local/lib/python3.6/dist-packages (from requests->pytorch-pretrained-bert) (2.8)\n",
            "Requirement already satisfied: urllib3<1.25,>=1.21.1 in /usr/local/lib/python3.6/dist-packages (from requests->pytorch-pretrained-bert) (1.24.3)\n",
            "Requirement already satisfied: certifi>=2017.4.17 in /usr/local/lib/python3.6/dist-packages (from requests->pytorch-pretrained-bert) (2019.9.11)\n",
            "Requirement already satisfied: botocore<1.14.0,>=1.13.18 in /usr/local/lib/python3.6/dist-packages (from boto3->pytorch-pretrained-bert) (1.13.18)\n",
            "Requirement already satisfied: jmespath<1.0.0,>=0.7.1 in /usr/local/lib/python3.6/dist-packages (from boto3->pytorch-pretrained-bert) (0.9.4)\n",
            "Requirement already satisfied: s3transfer<0.3.0,>=0.2.0 in /usr/local/lib/python3.6/dist-packages (from boto3->pytorch-pretrained-bert) (0.2.1)\n",
            "Requirement already satisfied: docutils<0.16,>=0.10 in /usr/local/lib/python3.6/dist-packages (from botocore<1.14.0,>=1.13.18->boto3->pytorch-pretrained-bert) (0.15.2)\n",
            "Requirement already satisfied: python-dateutil<2.8.1,>=2.1; python_version >= \"2.7\" in /usr/local/lib/python3.6/dist-packages (from botocore<1.14.0,>=1.13.18->boto3->pytorch-pretrained-bert) (2.6.1)\n",
            "Requirement already satisfied: six>=1.5 in /usr/local/lib/python3.6/dist-packages (from python-dateutil<2.8.1,>=2.1; python_version >= \"2.7\"->botocore<1.14.0,>=1.13.18->boto3->pytorch-pretrained-bert) (1.12.0)\n",
            "Installing collected packages: regex, pytorch-pretrained-bert\n",
            "Successfully installed pytorch-pretrained-bert-0.6.2 regex-2019.11.1\n"
          ],
          "name": "stdout"
        }
      ]
    },
    {
      "cell_type": "code",
      "metadata": {
        "id": "0ao1OwbAj2BD",
        "colab_type": "code",
        "outputId": "c5da89ae-652b-49b5-dc36-8e9bd14f1544",
        "colab": {
          "base_uri": "https://localhost:8080/",
          "height": 102
        }
      },
      "source": [
        "!git clone https://github.com/maknotavailable/pytorch-pretrained-BERT.git"
      ],
      "execution_count": 22,
      "outputs": [
        {
          "output_type": "stream",
          "text": [
            "Cloning into 'pytorch-pretrained-BERT'...\n",
            "remote: Enumerating objects: 972, done.\u001b[K\n",
            "remote: Total 972 (delta 0), reused 0 (delta 0), pack-reused 972\u001b[K\n",
            "Receiving objects: 100% (972/972), 549.12 KiB | 4.29 MiB/s, done.\n",
            "Resolving deltas: 100% (621/621), done.\n"
          ],
          "name": "stdout"
        }
      ]
    },
    {
      "cell_type": "code",
      "metadata": {
        "id": "zFbzN0YL6z28",
        "colab_type": "code",
        "outputId": "bb9ff320-f78a-47c2-edd2-f55e77cae2b5",
        "colab": {
          "base_uri": "https://localhost:8080/",
          "height": 34
        }
      },
      "source": [
        "!pwd"
      ],
      "execution_count": 23,
      "outputs": [
        {
          "output_type": "stream",
          "text": [
            "/content\n"
          ],
          "name": "stdout"
        }
      ]
    },
    {
      "cell_type": "code",
      "metadata": {
        "id": "SPjMCKv762N9",
        "colab_type": "code",
        "outputId": "e0f6ce11-d21a-447d-d7e8-faab3444e42f",
        "colab": {
          "base_uri": "https://localhost:8080/",
          "height": 187
        }
      },
      "source": [
        "!ls"
      ],
      "execution_count": 24,
      "outputs": [
        {
          "output_type": "stream",
          "text": [
            "alpha-zero-general\t     models\n",
            "awesome-bert-nlp\t     pennylane\n",
            "chess-alpha-zero\t     pytorch-pretrained-BERT\n",
            "deep-reinforcement-learning  reinforcement-learning\n",
            "dopamine\t\t     Reinforcement-learning-with-tensorflow\n",
            "drive\t\t\t     sample_data\n",
            "face_recognition\t     scientific\n",
            "image_captioning\t     sockeye\n",
            "Image-Captioning\t     tensor2tensor\n",
            "leela-chess\t\t     tensorflow-image-detection\n"
          ],
          "name": "stdout"
        }
      ]
    },
    {
      "cell_type": "code",
      "metadata": {
        "id": "BePOdcPv63kR",
        "colab_type": "code",
        "outputId": "6c3f63d9-9a6a-4e9b-8957-1634e0724ef1",
        "colab": {
          "base_uri": "https://localhost:8080/",
          "height": 34
        }
      },
      "source": [
        "%cd pytorch-pretrained-BERT/"
      ],
      "execution_count": 25,
      "outputs": [
        {
          "output_type": "stream",
          "text": [
            "/content/pytorch-pretrained-BERT\n"
          ],
          "name": "stdout"
        }
      ]
    },
    {
      "cell_type": "code",
      "metadata": {
        "id": "2ywrly9Z69tC",
        "colab_type": "code",
        "outputId": "12874163-d74f-4ff4-b6b2-68ab3a440e92",
        "colab": {
          "base_uri": "https://localhost:8080/",
          "height": 51
        }
      },
      "source": [
        "!ls\n"
      ],
      "execution_count": 26,
      "outputs": [
        {
          "output_type": "stream",
          "text": [
            "bin\t  LICENSE    pytorch_pretrained_bert  requirements.txt\tsetup.py\n",
            "examples  notebooks  README.md\t\t      samples\t\ttests\n"
          ],
          "name": "stdout"
        }
      ]
    },
    {
      "cell_type": "code",
      "metadata": {
        "id": "4oOGoCq86-44",
        "colab_type": "code",
        "outputId": "f7d68fcd-c7fb-4479-90e7-d16250f1b2a7",
        "colab": {
          "base_uri": "https://localhost:8080/",
          "height": 34
        }
      },
      "source": [
        "%cd pytorch_pretrained_bert/\n"
      ],
      "execution_count": 27,
      "outputs": [
        {
          "output_type": "stream",
          "text": [
            "/content/pytorch-pretrained-BERT/pytorch_pretrained_bert\n"
          ],
          "name": "stdout"
        }
      ]
    },
    {
      "cell_type": "code",
      "metadata": {
        "id": "Zte1Wp4T7Haq",
        "colab_type": "code",
        "outputId": "33b47e08-0c1c-48ab-bbfe-5b0270b64385",
        "colab": {
          "base_uri": "https://localhost:8080/",
          "height": 68
        }
      },
      "source": [
        "!ls\n"
      ],
      "execution_count": 28,
      "outputs": [
        {
          "output_type": "stream",
          "text": [
            "convert_tf_checkpoint_to_pytorch.py  __main__.py      tokenization.py\n",
            "file_utils.py\t\t\t     modeling.py\n",
            "__init__.py\t\t\t     optimization.py\n"
          ],
          "name": "stdout"
        }
      ]
    },
    {
      "cell_type": "code",
      "metadata": {
        "id": "gny1m0fk7IkQ",
        "colab_type": "code",
        "outputId": "f79a0d87-8698-4443-a28f-866ad706445c",
        "colab": {
          "base_uri": "https://localhost:8080/",
          "height": 34
        }
      },
      "source": [
        "%cd ../examples/"
      ],
      "execution_count": 29,
      "outputs": [
        {
          "output_type": "stream",
          "text": [
            "/content/pytorch-pretrained-BERT/examples\n"
          ],
          "name": "stdout"
        }
      ]
    },
    {
      "cell_type": "code",
      "metadata": {
        "id": "4ZUyGGjd7Mi5",
        "colab_type": "code",
        "outputId": "cea009c5-16a6-4b47-d201-180ee94647c7",
        "colab": {
          "base_uri": "https://localhost:8080/",
          "height": 34
        }
      },
      "source": [
        "!ls\n"
      ],
      "execution_count": 30,
      "outputs": [
        {
          "output_type": "stream",
          "text": [
            "extract_features.py  run_classifier.py\trun_squad.py\n"
          ],
          "name": "stdout"
        }
      ]
    },
    {
      "cell_type": "code",
      "metadata": {
        "id": "93Ishcc27NU5",
        "colab_type": "code",
        "outputId": "f15e3820-f4f1-47cf-c3f6-5692db784911",
        "colab": {
          "base_uri": "https://localhost:8080/",
          "height": 734
        }
      },
      "source": [
        "!python extract_features.py --input_file ../samples/input.txt --output_file results.out --bert_model bert-base-chinese"
      ],
      "execution_count": 31,
      "outputs": [
        {
          "output_type": "stream",
          "text": [
            "11/21/2019 17:56:13 - INFO - __main__ -   device: cpu n_gpu: 0 distributed training: False\n",
            "11/21/2019 17:56:13 - WARNING - pytorch_pretrained_bert.tokenization -   The pre-trained model you are loading is an uncased model but you have set `do_lower_case` to False. We are setting `do_lower_case=True` for you but you may want to check this behavior.\n",
            "11/21/2019 17:56:13 - INFO - pytorch_pretrained_bert.file_utils -   https://s3.amazonaws.com/models.huggingface.co/bert/bert-base-chinese-vocab.txt not found in cache, downloading to /tmp/tmp44jiky66\n",
            "100% 109540/109540 [00:00<00:00, 1855252.72B/s]\n",
            "11/21/2019 17:56:13 - INFO - pytorch_pretrained_bert.file_utils -   copying /tmp/tmp44jiky66 to cache at /root/.pytorch_pretrained_bert/8a0c070123c1f794c42a29c6904beb7c1b8715741e235bee04aca2c7636fc83f.9b42061518a39ca00b8b52059fd2bede8daa613f8a8671500e518a8c29de8c00\n",
            "11/21/2019 17:56:13 - INFO - pytorch_pretrained_bert.file_utils -   creating metadata file for /root/.pytorch_pretrained_bert/8a0c070123c1f794c42a29c6904beb7c1b8715741e235bee04aca2c7636fc83f.9b42061518a39ca00b8b52059fd2bede8daa613f8a8671500e518a8c29de8c00\n",
            "11/21/2019 17:56:13 - INFO - pytorch_pretrained_bert.file_utils -   removing temp file /tmp/tmp44jiky66\n",
            "11/21/2019 17:56:13 - INFO - pytorch_pretrained_bert.tokenization -   loading vocabulary file https://s3.amazonaws.com/models.huggingface.co/bert/bert-base-chinese-vocab.txt from cache at /root/.pytorch_pretrained_bert/8a0c070123c1f794c42a29c6904beb7c1b8715741e235bee04aca2c7636fc83f.9b42061518a39ca00b8b52059fd2bede8daa613f8a8671500e518a8c29de8c00\n",
            "11/21/2019 17:56:13 - INFO - __main__ -   *** Example ***\n",
            "11/21/2019 17:56:13 - INFO - __main__ -   unique_id: 0\n",
            "11/21/2019 17:56:13 - INFO - __main__ -   tokens: [CLS] who was jim he ##ns ##on ? [SEP] jim he ##ns ##on was a pu ##pp ##et ##ee ##r [SEP]\n",
            "11/21/2019 17:56:13 - INFO - __main__ -   input_ids: 101 9372 9947 11268 9245 8727 8224 136 102 11268 9245 8727 8224 9947 143 11227 9586 8418 8854 8180 102 0 0 0 0 0 0 0 0 0 0 0 0 0 0 0 0 0 0 0 0 0 0 0 0 0 0 0 0 0 0 0 0 0 0 0 0 0 0 0 0 0 0 0 0 0 0 0 0 0 0 0 0 0 0 0 0 0 0 0 0 0 0 0 0 0 0 0 0 0 0 0 0 0 0 0 0 0 0 0 0 0 0 0 0 0 0 0 0 0 0 0 0 0 0 0 0 0 0 0 0 0 0 0 0 0 0 0\n",
            "11/21/2019 17:56:13 - INFO - __main__ -   input_mask: 1 1 1 1 1 1 1 1 1 1 1 1 1 1 1 1 1 1 1 1 1 0 0 0 0 0 0 0 0 0 0 0 0 0 0 0 0 0 0 0 0 0 0 0 0 0 0 0 0 0 0 0 0 0 0 0 0 0 0 0 0 0 0 0 0 0 0 0 0 0 0 0 0 0 0 0 0 0 0 0 0 0 0 0 0 0 0 0 0 0 0 0 0 0 0 0 0 0 0 0 0 0 0 0 0 0 0 0 0 0 0 0 0 0 0 0 0 0 0 0 0 0 0 0 0 0 0 0\n",
            "11/21/2019 17:56:13 - INFO - __main__ -   input_type_ids: 0 0 0 0 0 0 0 0 0 1 1 1 1 1 1 1 1 1 1 1 1 0 0 0 0 0 0 0 0 0 0 0 0 0 0 0 0 0 0 0 0 0 0 0 0 0 0 0 0 0 0 0 0 0 0 0 0 0 0 0 0 0 0 0 0 0 0 0 0 0 0 0 0 0 0 0 0 0 0 0 0 0 0 0 0 0 0 0 0 0 0 0 0 0 0 0 0 0 0 0 0 0 0 0 0 0 0 0 0 0 0 0 0 0 0 0 0 0 0 0 0 0 0 0 0 0 0 0\n",
            "11/21/2019 17:56:13 - INFO - pytorch_pretrained_bert.file_utils -   https://s3.amazonaws.com/models.huggingface.co/bert/bert-base-chinese.tar.gz not found in cache, downloading to /tmp/tmpwnl7jckt\n",
            "100% 382072689/382072689 [00:06<00:00, 56917405.15B/s]\n",
            "11/21/2019 17:56:20 - INFO - pytorch_pretrained_bert.file_utils -   copying /tmp/tmpwnl7jckt to cache at /root/.pytorch_pretrained_bert/42d4a64dda3243ffeca7ec268d5544122e67d9d06b971608796b483925716512.02ac7d664cff08d793eb00d6aac1d04368a1322435e5fe0a27c70b0b3a85327f\n",
            "11/21/2019 17:56:21 - INFO - pytorch_pretrained_bert.file_utils -   creating metadata file for /root/.pytorch_pretrained_bert/42d4a64dda3243ffeca7ec268d5544122e67d9d06b971608796b483925716512.02ac7d664cff08d793eb00d6aac1d04368a1322435e5fe0a27c70b0b3a85327f\n",
            "11/21/2019 17:56:21 - INFO - pytorch_pretrained_bert.file_utils -   removing temp file /tmp/tmpwnl7jckt\n",
            "11/21/2019 17:56:21 - INFO - pytorch_pretrained_bert.modeling -   loading archive file https://s3.amazonaws.com/models.huggingface.co/bert/bert-base-chinese.tar.gz from cache at /root/.pytorch_pretrained_bert/42d4a64dda3243ffeca7ec268d5544122e67d9d06b971608796b483925716512.02ac7d664cff08d793eb00d6aac1d04368a1322435e5fe0a27c70b0b3a85327f\n",
            "11/21/2019 17:56:21 - INFO - pytorch_pretrained_bert.modeling -   extracting archive file /root/.pytorch_pretrained_bert/42d4a64dda3243ffeca7ec268d5544122e67d9d06b971608796b483925716512.02ac7d664cff08d793eb00d6aac1d04368a1322435e5fe0a27c70b0b3a85327f to temp dir /tmp/tmpopuqeb68\n",
            "11/21/2019 17:56:25 - INFO - pytorch_pretrained_bert.modeling -   Model config {\n",
            "  \"attention_probs_dropout_prob\": 0.1,\n",
            "  \"directionality\": \"bidi\",\n",
            "  \"hidden_act\": \"gelu\",\n",
            "  \"hidden_dropout_prob\": 0.1,\n",
            "  \"hidden_size\": 768,\n",
            "  \"initializer_range\": 0.02,\n",
            "  \"intermediate_size\": 3072,\n",
            "  \"max_position_embeddings\": 512,\n",
            "  \"num_attention_heads\": 12,\n",
            "  \"num_hidden_layers\": 12,\n",
            "  \"pooler_fc_size\": 768,\n",
            "  \"pooler_num_attention_heads\": 12,\n",
            "  \"pooler_num_fc_layers\": 3,\n",
            "  \"pooler_size_per_head\": 128,\n",
            "  \"pooler_type\": \"first_token_transform\",\n",
            "  \"type_vocab_size\": 2,\n",
            "  \"vocab_size\": 21128\n",
            "}\n",
            "\n"
          ],
          "name": "stdout"
        }
      ]
    },
    {
      "cell_type": "code",
      "metadata": {
        "id": "5-VudQX88Jlb",
        "colab_type": "code",
        "outputId": "f3acb7c5-9797-4be5-8692-917761afb1fb",
        "colab": {
          "base_uri": "https://localhost:8080/",
          "height": 51
        }
      },
      "source": [
        "%cd ..\n",
        "!pwd"
      ],
      "execution_count": 32,
      "outputs": [
        {
          "output_type": "stream",
          "text": [
            "/content/pytorch-pretrained-BERT\n",
            "/content/pytorch-pretrained-BERT\n"
          ],
          "name": "stdout"
        }
      ]
    },
    {
      "cell_type": "code",
      "metadata": {
        "id": "LohaVwiL7PxC",
        "colab_type": "code",
        "outputId": "63f25544-d94d-45fb-fd14-0f15acc2cc4f",
        "colab": {
          "base_uri": "https://localhost:8080/",
          "height": 462
        }
      },
      "source": [
        "!python -m pytest -sv tests/"
      ],
      "execution_count": 33,
      "outputs": [
        {
          "output_type": "stream",
          "text": [
            "\u001b[1m============================= test session starts ==============================\u001b[0m\n",
            "platform linux -- Python 3.6.8, pytest-3.6.4, py-1.8.0, pluggy-0.7.1 -- /usr/bin/python3\n",
            "cachedir: .pytest_cache\n",
            "rootdir: /content/pytorch-pretrained-BERT, inifile:\n",
            "collected 11 items                                                             \u001b[0m\n",
            "\n",
            "tests/modeling_test.py::BertModelTest::test_config_to_json_string \u001b[32mPASSED\u001b[0m\n",
            "tests/modeling_test.py::BertModelTest::test_default \u001b[32mPASSED\u001b[0m\n",
            "tests/optimization_test.py::OptimizationTest::test_adam \u001b[32mPASSED\u001b[0m\n",
            "tests/tokenization_test.py::TokenizationTest::test_basic_tokenizer_lower \u001b[32mPASSED\u001b[0m\n",
            "tests/tokenization_test.py::TokenizationTest::test_basic_tokenizer_no_lower \u001b[32mPASSED\u001b[0m\n",
            "tests/tokenization_test.py::TokenizationTest::test_chinese \u001b[32mPASSED\u001b[0m\n",
            "tests/tokenization_test.py::TokenizationTest::test_full_tokenizer \u001b[32mPASSED\u001b[0m\n",
            "tests/tokenization_test.py::TokenizationTest::test_is_control \u001b[32mPASSED\u001b[0m\n",
            "tests/tokenization_test.py::TokenizationTest::test_is_punctuation \u001b[32mPASSED\u001b[0m\n",
            "tests/tokenization_test.py::TokenizationTest::test_is_whitespace \u001b[32mPASSED\u001b[0m\n",
            "tests/tokenization_test.py::TokenizationTest::test_wordpiece_tokenizer \u001b[32mPASSED\u001b[0m\n",
            "\n",
            "\u001b[33m=============================== warnings summary ===============================\u001b[0m\n",
            "tests/optimization_test.py::OptimizationTest::test_adam\n",
            "  /usr/local/lib/python3.6/dist-packages/torch/nn/_reduction.py:13: UserWarning: reduction='elementwise_mean' is deprecated, please use reduction='mean' instead.\n",
            "    warnings.warn(\"reduction='elementwise_mean' is deprecated, please use reduction='mean' instead.\")\n",
            "\n",
            "-- Docs: http://doc.pytest.org/en/latest/warnings.html\n",
            "\u001b[33m\u001b[1m==================== 11 passed, 1 warnings in 0.85 seconds =====================\u001b[0m\n"
          ],
          "name": "stdout"
        }
      ]
    },
    {
      "cell_type": "code",
      "metadata": {
        "id": "rJIenKZvILyy",
        "colab_type": "code",
        "outputId": "eed9b77f-f8ad-4d45-b959-748dfe35647e",
        "colab": {
          "base_uri": "https://localhost:8080/",
          "height": 34
        }
      },
      "source": [
        "%cd .."
      ],
      "execution_count": 34,
      "outputs": [
        {
          "output_type": "stream",
          "text": [
            "/content\n"
          ],
          "name": "stdout"
        }
      ]
    },
    {
      "cell_type": "code",
      "metadata": {
        "id": "xpPhiXkC8MIR",
        "colab_type": "code",
        "outputId": "df4b56df-6184-4e52-d77f-ac2738e8c352",
        "colab": {
          "base_uri": "https://localhost:8080/",
          "height": 102
        }
      },
      "source": [
        "!git clone https://github.com/google-research/bert.git"
      ],
      "execution_count": 35,
      "outputs": [
        {
          "output_type": "stream",
          "text": [
            "Cloning into 'bert'...\n",
            "remote: Enumerating objects: 336, done.\u001b[K\n",
            "remote: Total 336 (delta 0), reused 0 (delta 0), pack-reused 336\u001b[K\n",
            "Receiving objects: 100% (336/336), 283.23 KiB | 3.73 MiB/s, done.\n",
            "Resolving deltas: 100% (185/185), done.\n"
          ],
          "name": "stdout"
        }
      ]
    },
    {
      "cell_type": "code",
      "metadata": {
        "id": "jTvI6KP7yLn1",
        "colab_type": "code",
        "outputId": "9e54c6a2-a84e-4446-df7d-9519a050d86a",
        "colab": {
          "base_uri": "https://localhost:8080/",
          "height": 136
        }
      },
      "source": [
        "!git clone https://github.com/deepmipt/DeepPavlov.git"
      ],
      "execution_count": 36,
      "outputs": [
        {
          "output_type": "stream",
          "text": [
            "Cloning into 'DeepPavlov'...\n",
            "remote: Enumerating objects: 375, done.\u001b[K\n",
            "remote: Counting objects:   0% (1/375)\u001b[K\rremote: Counting objects:   1% (4/375)\u001b[K\rremote: Counting objects:   2% (8/375)\u001b[K\rremote: Counting objects:   3% (12/375)\u001b[K\rremote: Counting objects:   4% (15/375)\u001b[K\rremote: Counting objects:   5% (19/375)\u001b[K\rremote: Counting objects:   6% (23/375)\u001b[K\rremote: Counting objects:   7% (27/375)\u001b[K\rremote: Counting objects:   8% (30/375)\u001b[K\rremote: Counting objects:   9% (34/375)\u001b[K\rremote: Counting objects:  10% (38/375)\u001b[K\rremote: Counting objects:  11% (42/375)\u001b[K\rremote: Counting objects:  12% (45/375)\u001b[K\rremote: Counting objects:  13% (49/375)\u001b[K\rremote: Counting objects:  14% (53/375)\u001b[K\rremote: Counting objects:  15% (57/375)\u001b[K\rremote: Counting objects:  16% (60/375)\u001b[K\rremote: Counting objects:  17% (64/375)\u001b[K\rremote: Counting objects:  18% (68/375)\u001b[K\rremote: Counting objects:  19% (72/375)\u001b[K\rremote: Counting objects:  20% (75/375)\u001b[K\rremote: Counting objects:  21% (79/375)\u001b[K\rremote: Counting objects:  22% (83/375)\u001b[K\rremote: Counting objects:  23% (87/375)\u001b[K\rremote: Counting objects:  24% (90/375)\u001b[K\rremote: Counting objects:  25% (94/375)\u001b[K\rremote: Counting objects:  26% (98/375)\u001b[K\rremote: Counting objects:  27% (102/375)\u001b[K\rremote: Counting objects:  28% (105/375)\u001b[K\rremote: Counting objects:  29% (109/375)\u001b[K\rremote: Counting objects:  30% (113/375)\u001b[K\rremote: Counting objects:  31% (117/375)\u001b[K\rremote: Counting objects:  32% (120/375)\u001b[K\rremote: Counting objects:  33% (124/375)\u001b[K\rremote: Counting objects:  34% (128/375)\u001b[K\rremote: Counting objects:  35% (132/375)\u001b[K\rremote: Counting objects:  36% (135/375)\u001b[K\rremote: Counting objects:  37% (139/375)\u001b[K\rremote: Counting objects:  38% (143/375)\u001b[K\rremote: Counting objects:  39% (147/375)\u001b[K\rremote: Counting objects:  40% (150/375)\u001b[K\rremote: Counting objects:  41% (154/375)\u001b[K\rremote: Counting objects:  42% (158/375)\u001b[K\rremote: Counting objects:  43% (162/375)\u001b[K\rremote: Counting objects:  44% (165/375)\u001b[K\rremote: Counting objects:  45% (169/375)\u001b[K\rremote: Counting objects:  46% (173/375)\u001b[K\rremote: Counting objects:  47% (177/375)\u001b[K\rremote: Counting objects:  48% (180/375)\u001b[K\rremote: Counting objects:  49% (184/375)\u001b[K\rremote: Counting objects:  50% (188/375)\u001b[K\rremote: Counting objects:  51% (192/375)\u001b[K\rremote: Counting objects:  52% (195/375)\u001b[K\rremote: Counting objects:  53% (199/375)\u001b[K\rremote: Counting objects:  54% (203/375)\u001b[K\rremote: Counting objects:  55% (207/375)\u001b[K\rremote: Counting objects:  56% (210/375)\u001b[K\rremote: Counting objects:  57% (214/375)\u001b[K\rremote: Counting objects:  58% (218/375)\u001b[K\rremote: Counting objects:  59% (222/375)\u001b[K\rremote: Counting objects:  60% (225/375)\u001b[K\rremote: Counting objects:  61% (229/375)\u001b[K\rremote: Counting objects:  62% (233/375)\u001b[K\rremote: Counting objects:  63% (237/375)\u001b[K\rremote: Counting objects:  64% (240/375)\u001b[K\rremote: Counting objects:  65% (244/375)\u001b[K\rremote: Counting objects:  66% (248/375)\u001b[K\rremote: Counting objects:  67% (252/375)\u001b[K\rremote: Counting objects:  68% (255/375)\u001b[K\rremote: Counting objects:  69% (259/375)\u001b[K\rremote: Counting objects:  70% (263/375)\u001b[K\rremote: Counting objects:  71% (267/375)\u001b[K\rremote: Counting objects:  72% (270/375)\u001b[K\rremote: Counting objects:  73% (274/375)\u001b[K\rremote: Counting objects:  74% (278/375)\u001b[K\rremote: Counting objects:  75% (282/375)\u001b[K\rremote: Counting objects:  76% (285/375)\u001b[K\rremote: Counting objects:  77% (289/375)\u001b[K\rremote: Counting objects:  78% (293/375)\u001b[K\rremote: Counting objects:  79% (297/375)\u001b[K\rremote: Counting objects:  80% (300/375)\u001b[K\rremote: Counting objects:  81% (304/375)\u001b[K\rremote: Counting objects:  82% (308/375)\u001b[K\rremote: Counting objects:  83% (312/375)\u001b[K\rremote: Counting objects:  84% (315/375)\u001b[K\rremote: Counting objects:  85% (319/375)\u001b[K\rremote: Counting objects:  86% (323/375)\u001b[K\rremote: Counting objects:  87% (327/375)\u001b[K\rremote: Counting objects:  88% (330/375)\u001b[K\rremote: Counting objects:  89% (334/375)\u001b[K\rremote: Counting objects:  90% (338/375)\u001b[K\rremote: Counting objects:  91% (342/375)\u001b[K\rremote: Counting objects:  92% (345/375)\u001b[K\rremote: Counting objects:  93% (349/375)\u001b[K\rremote: Counting objects:  94% (353/375)\u001b[K\rremote: Counting objects:  95% (357/375)\u001b[K\rremote: Counting objects:  96% (360/375)\u001b[K\rremote: Counting objects:  97% (364/375)\u001b[K\rremote: Counting objects:  98% (368/375)\u001b[K\rremote: Counting objects:  99% (372/375)\u001b[K\rremote: Counting objects: 100% (375/375)\u001b[K\rremote: Counting objects: 100% (375/375), done.\u001b[K\n",
            "remote: Compressing objects: 100% (255/255), done.\u001b[K\n",
            "remote: Total 48143 (delta 225), reused 212 (delta 118), pack-reused 47768\u001b[K\n",
            "Receiving objects: 100% (48143/48143), 34.30 MiB | 21.48 MiB/s, done.\n",
            "Resolving deltas: 100% (36620/36620), done.\n"
          ],
          "name": "stdout"
        }
      ]
    },
    {
      "cell_type": "code",
      "metadata": {
        "id": "n0I8KhndyUOm",
        "colab_type": "code",
        "outputId": "a44525d8-39a6-4b3f-d26e-5db6ca67c930",
        "colab": {
          "base_uri": "https://localhost:8080/",
          "height": 102
        }
      },
      "source": [
        "!git clone https://github.com/RasaHQ/rasa.git"
      ],
      "execution_count": 37,
      "outputs": [
        {
          "output_type": "stream",
          "text": [
            "Cloning into 'rasa'...\n",
            "remote: Enumerating objects: 929691, done.\u001b[K\n",
            "remote: Total 929691 (delta 0), reused 0 (delta 0), pack-reused 929691\u001b[K\n",
            "Receiving objects: 100% (929691/929691), 498.23 MiB | 30.15 MiB/s, done.\n",
            "Resolving deltas: 100% (761389/761389), done.\n"
          ],
          "name": "stdout"
        }
      ]
    },
    {
      "cell_type": "code",
      "metadata": {
        "id": "DEtiRa7ymiei",
        "colab_type": "code",
        "outputId": "9f680d58-bad4-4fca-d117-f259f54720de",
        "colab": {
          "base_uri": "https://localhost:8080/",
          "height": 102
        }
      },
      "source": [
        "!git clone https://github.com/google/seq2seq.git"
      ],
      "execution_count": 38,
      "outputs": [
        {
          "output_type": "stream",
          "text": [
            "Cloning into 'seq2seq'...\n",
            "remote: Enumerating objects: 5995, done.\u001b[K\n",
            "Receiving objects:   0% (1/5995)   \rReceiving objects:   1% (60/5995)   \rReceiving objects:   2% (120/5995)   \rReceiving objects:   3% (180/5995)   \rReceiving objects:   4% (240/5995)   \rReceiving objects:   5% (300/5995)   \rReceiving objects:   6% (360/5995)   \rReceiving objects:   7% (420/5995)   \rReceiving objects:   8% (480/5995)   \rReceiving objects:   9% (540/5995)   \rReceiving objects:  10% (600/5995)   \rReceiving objects:  11% (660/5995)   \rReceiving objects:  12% (720/5995)   \rReceiving objects:  13% (780/5995)   \rReceiving objects:  14% (840/5995)   \rReceiving objects:  15% (900/5995)   \rReceiving objects:  16% (960/5995)   \rReceiving objects:  17% (1020/5995)   \rReceiving objects:  18% (1080/5995)   \rReceiving objects:  19% (1140/5995)   \rReceiving objects:  20% (1199/5995)   \rReceiving objects:  21% (1259/5995)   \rReceiving objects:  22% (1319/5995)   \rReceiving objects:  23% (1379/5995)   \rReceiving objects:  24% (1439/5995)   \rReceiving objects:  25% (1499/5995)   \rReceiving objects:  26% (1559/5995)   \rReceiving objects:  27% (1619/5995)   \rReceiving objects:  28% (1679/5995)   \rReceiving objects:  29% (1739/5995)   \rReceiving objects:  30% (1799/5995)   \rReceiving objects:  31% (1859/5995)   \rReceiving objects:  32% (1919/5995)   \rReceiving objects:  33% (1979/5995)   \rReceiving objects:  34% (2039/5995)   \rReceiving objects:  35% (2099/5995)   \rReceiving objects:  36% (2159/5995)   \rReceiving objects:  37% (2219/5995)   \rReceiving objects:  38% (2279/5995)   \rReceiving objects:  39% (2339/5995)   \rReceiving objects:  40% (2398/5995)   \rReceiving objects:  41% (2458/5995)   \rReceiving objects:  42% (2518/5995)   \rReceiving objects:  43% (2578/5995)   \rReceiving objects:  44% (2638/5995)   \rReceiving objects:  45% (2698/5995)   \rReceiving objects:  46% (2758/5995)   \rReceiving objects:  47% (2818/5995)   \rReceiving objects:  48% (2878/5995)   \rReceiving objects:  49% (2938/5995)   \rReceiving objects:  50% (2998/5995)   \rReceiving objects:  51% (3058/5995)   \rReceiving objects:  52% (3118/5995)   \rReceiving objects:  53% (3178/5995)   \rReceiving objects:  54% (3238/5995)   \rReceiving objects:  55% (3298/5995)   \rReceiving objects:  56% (3358/5995)   \rReceiving objects:  57% (3418/5995)   \rReceiving objects:  58% (3478/5995)   \rReceiving objects:  59% (3538/5995)   \rReceiving objects:  60% (3597/5995)   \rReceiving objects:  61% (3657/5995)   \rReceiving objects:  62% (3717/5995)   \rReceiving objects:  63% (3777/5995)   \rReceiving objects:  64% (3837/5995)   \rReceiving objects:  65% (3897/5995)   \rReceiving objects:  66% (3957/5995)   \rReceiving objects:  67% (4017/5995)   \rReceiving objects:  68% (4077/5995)   \rReceiving objects:  69% (4137/5995)   \rReceiving objects:  70% (4197/5995)   \rReceiving objects:  71% (4257/5995)   \rReceiving objects:  72% (4317/5995)   \rReceiving objects:  73% (4377/5995)   \rReceiving objects:  74% (4437/5995)   \rReceiving objects:  75% (4497/5995)   \rReceiving objects:  76% (4557/5995)   \rReceiving objects:  77% (4617/5995)   \rReceiving objects:  78% (4677/5995)   \rReceiving objects:  79% (4737/5995)   \rReceiving objects:  80% (4796/5995)   \rReceiving objects:  81% (4856/5995)   \rReceiving objects:  82% (4916/5995)   \rReceiving objects:  83% (4976/5995)   \rReceiving objects:  84% (5036/5995)   \rReceiving objects:  85% (5096/5995)   \rReceiving objects:  86% (5156/5995)   \rReceiving objects:  87% (5216/5995)   \rremote: Total 5995 (delta 0), reused 0 (delta 0), pack-reused 5995\u001b[K\n",
            "Receiving objects: 100% (5995/5995), 1.63 MiB | 11.08 MiB/s, done.\n",
            "Resolving deltas: 100% (4189/4189), done.\n"
          ],
          "name": "stdout"
        }
      ]
    },
    {
      "cell_type": "code",
      "metadata": {
        "id": "QLL2PLDymkRn",
        "colab_type": "code",
        "outputId": "adcd8bd1-112c-41ec-91fa-0c42863802d9",
        "colab": {
          "base_uri": "https://localhost:8080/",
          "height": 136
        }
      },
      "source": [
        "!git clone https://github.com/dragen1860/TensorFlow-2.x-Tutorials.git"
      ],
      "execution_count": 39,
      "outputs": [
        {
          "output_type": "stream",
          "text": [
            "Cloning into 'TensorFlow-2.x-Tutorials'...\n",
            "remote: Enumerating objects: 92, done.\u001b[K\n",
            "remote: Counting objects:   1% (1/92)\u001b[K\rremote: Counting objects:   2% (2/92)\u001b[K\rremote: Counting objects:   3% (3/92)\u001b[K\rremote: Counting objects:   4% (4/92)\u001b[K\rremote: Counting objects:   5% (5/92)\u001b[K\rremote: Counting objects:   6% (6/92)\u001b[K\rremote: Counting objects:   7% (7/92)\u001b[K\rremote: Counting objects:   8% (8/92)\u001b[K\rremote: Counting objects:   9% (9/92)\u001b[K\rremote: Counting objects:  10% (10/92)\u001b[K\rremote: Counting objects:  11% (11/92)\u001b[K\rremote: Counting objects:  13% (12/92)\u001b[K\rremote: Counting objects:  14% (13/92)\u001b[K\rremote: Counting objects:  15% (14/92)\u001b[K\rremote: Counting objects:  16% (15/92)\u001b[K\rremote: Counting objects:  17% (16/92)\u001b[K\rremote: Counting objects:  18% (17/92)\u001b[K\rremote: Counting objects:  19% (18/92)\u001b[K\rremote: Counting objects:  20% (19/92)\u001b[K\rremote: Counting objects:  21% (20/92)\u001b[K\rremote: Counting objects:  22% (21/92)\u001b[K\rremote: Counting objects:  23% (22/92)\u001b[K\rremote: Counting objects:  25% (23/92)\u001b[K\rremote: Counting objects:  26% (24/92)\u001b[K\rremote: Counting objects:  27% (25/92)\u001b[K\rremote: Counting objects:  28% (26/92)\u001b[K\rremote: Counting objects:  29% (27/92)\u001b[K\rremote: Counting objects:  30% (28/92)\u001b[K\rremote: Counting objects:  31% (29/92)\u001b[K\rremote: Counting objects:  32% (30/92)\u001b[K\rremote: Counting objects:  33% (31/92)\u001b[K\rremote: Counting objects:  34% (32/92)\u001b[K\rremote: Counting objects:  35% (33/92)\u001b[K\rremote: Counting objects:  36% (34/92)\u001b[K\rremote: Counting objects:  38% (35/92)\u001b[K\rremote: Counting objects:  39% (36/92)\u001b[K\rremote: Counting objects:  40% (37/92)\u001b[K\rremote: Counting objects:  41% (38/92)\u001b[K\rremote: Counting objects:  42% (39/92)\u001b[K\rremote: Counting objects:  43% (40/92)\u001b[K\rremote: Counting objects:  44% (41/92)\u001b[K\rremote: Counting objects:  45% (42/92)\u001b[K\rremote: Counting objects:  46% (43/92)\u001b[K\rremote: Counting objects:  47% (44/92)\u001b[K\rremote: Counting objects:  48% (45/92)\u001b[K\rremote: Counting objects:  50% (46/92)\u001b[K\rremote: Counting objects:  51% (47/92)\u001b[K\rremote: Counting objects:  52% (48/92)\u001b[K\rremote: Counting objects:  53% (49/92)\u001b[K\rremote: Counting objects:  54% (50/92)\u001b[K\rremote: Counting objects:  55% (51/92)\u001b[K\rremote: Counting objects:  56% (52/92)\u001b[K\rremote: Counting objects:  57% (53/92)\u001b[K\rremote: Counting objects:  58% (54/92)\u001b[K\rremote: Counting objects:  59% (55/92)\u001b[K\rremote: Counting objects:  60% (56/92)\u001b[K\rremote: Counting objects:  61% (57/92)\u001b[K\rremote: Counting objects:  63% (58/92)\u001b[K\rremote: Counting objects:  64% (59/92)\u001b[K\rremote: Counting objects:  65% (60/92)\u001b[K\rremote: Counting objects:  66% (61/92)\u001b[K\rremote: Counting objects:  67% (62/92)\u001b[K\rremote: Counting objects:  68% (63/92)\u001b[K\rremote: Counting objects:  69% (64/92)\u001b[K\rremote: Counting objects:  70% (65/92)\u001b[K\rremote: Counting objects:  71% (66/92)\u001b[K\rremote: Counting objects:  72% (67/92)\u001b[K\rremote: Counting objects:  73% (68/92)\u001b[K\rremote: Counting objects:  75% (69/92)\u001b[K\rremote: Counting objects:  76% (70/92)\u001b[K\rremote: Counting objects:  77% (71/92)\u001b[K\rremote: Counting objects:  78% (72/92)\u001b[K\rremote: Counting objects:  79% (73/92)\u001b[K\rremote: Counting objects:  80% (74/92)\u001b[K\rremote: Counting objects:  81% (75/92)\u001b[K\rremote: Counting objects:  82% (76/92)\u001b[K\rremote: Counting objects:  83% (77/92)\u001b[K\rremote: Counting objects:  84% (78/92)\u001b[K\rremote: Counting objects:  85% (79/92)\u001b[K\rremote: Counting objects:  86% (80/92)\u001b[K\rremote: Counting objects:  88% (81/92)\u001b[K\rremote: Counting objects:  89% (82/92)\u001b[K\rremote: Counting objects:  90% (83/92)\u001b[K\rremote: Counting objects:  91% (84/92)\u001b[K\rremote: Counting objects:  92% (85/92)\u001b[K\rremote: Counting objects:  93% (86/92)\u001b[K\rremote: Counting objects:  94% (87/92)\u001b[K\rremote: Counting objects:  95% (88/92)\u001b[K\rremote: Counting objects:  96% (89/92)\u001b[K\rremote: Counting objects:  97% (90/92)\u001b[K\rremote: Counting objects:  98% (91/92)\u001b[K\rremote: Counting objects: 100% (92/92)\u001b[K\rremote: Counting objects: 100% (92/92), done.\u001b[K\n",
            "remote: Compressing objects: 100% (69/69), done.\u001b[K\n",
            "remote: Total 1727 (delta 35), reused 49 (delta 23), pack-reused 1635\u001b[K\n",
            "Receiving objects: 100% (1727/1727), 158.95 MiB | 41.38 MiB/s, done.\n",
            "Resolving deltas: 100% (660/660), done.\n"
          ],
          "name": "stdout"
        }
      ]
    },
    {
      "cell_type": "code",
      "metadata": {
        "id": "mt9Moc8p583p",
        "colab_type": "code",
        "outputId": "88f861d3-4168-4a1f-af81-8c52981edbc5",
        "colab": {
          "base_uri": "https://localhost:8080/",
          "height": 153
        }
      },
      "source": [
        "!git clone https://github.com/tensorflow/tensorflow.git"
      ],
      "execution_count": 40,
      "outputs": [
        {
          "output_type": "stream",
          "text": [
            "Cloning into 'tensorflow'...\n",
            "remote: Enumerating objects: 53, done.\u001b[K\n",
            "remote: Counting objects: 100% (53/53), done.\u001b[K\n",
            "remote: Compressing objects: 100% (52/52), done.\u001b[K\n",
            "remote: Total 768097 (delta 12), reused 42 (delta 1), pack-reused 768044\u001b[K\n",
            "Receiving objects: 100% (768097/768097), 434.42 MiB | 30.12 MiB/s, done.\n",
            "Resolving deltas: 100% (620682/620682), done.\n",
            "Checking out files: 100% (19285/19285), done.\n"
          ],
          "name": "stdout"
        }
      ]
    },
    {
      "cell_type": "code",
      "metadata": {
        "id": "VXroyZLs6P5z",
        "colab_type": "code",
        "outputId": "dfdb90cb-92de-4e10-eeb4-4977cd640373",
        "colab": {
          "base_uri": "https://localhost:8080/",
          "height": 85
        }
      },
      "source": [
        "!git clone https://github.com/sujaybabruwad/LeNet-in-Tensorflow.git"
      ],
      "execution_count": 41,
      "outputs": [
        {
          "output_type": "stream",
          "text": [
            "Cloning into 'LeNet-in-Tensorflow'...\n",
            "remote: Enumerating objects: 31, done.\u001b[K\n",
            "Unpacking objects:   3% (1/31)   \rUnpacking objects:   6% (2/31)   \rUnpacking objects:   9% (3/31)   \rUnpacking objects:  12% (4/31)   \rUnpacking objects:  16% (5/31)   \rUnpacking objects:  19% (6/31)   \rUnpacking objects:  22% (7/31)   \rUnpacking objects:  25% (8/31)   \rUnpacking objects:  29% (9/31)   \rUnpacking objects:  32% (10/31)   \rUnpacking objects:  35% (11/31)   \rUnpacking objects:  38% (12/31)   \rUnpacking objects:  41% (13/31)   \rUnpacking objects:  45% (14/31)   \rUnpacking objects:  48% (15/31)   \rUnpacking objects:  51% (16/31)   \rUnpacking objects:  54% (17/31)   \rUnpacking objects:  58% (18/31)   \rremote: Total 31 (delta 0), reused 0 (delta 0), pack-reused 31\u001b[K\n",
            "Unpacking objects:  61% (19/31)   \rUnpacking objects:  64% (20/31)   \rUnpacking objects:  67% (21/31)   \rUnpacking objects:  70% (22/31)   \rUnpacking objects:  74% (23/31)   \rUnpacking objects:  77% (24/31)   \rUnpacking objects:  80% (25/31)   \rUnpacking objects:  83% (26/31)   \rUnpacking objects:  87% (27/31)   \rUnpacking objects:  90% (28/31)   \rUnpacking objects:  93% (29/31)   \rUnpacking objects:  96% (30/31)   \rUnpacking objects: 100% (31/31)   \rUnpacking objects: 100% (31/31), done.\n"
          ],
          "name": "stdout"
        }
      ]
    },
    {
      "cell_type": "code",
      "metadata": {
        "id": "PuqUeJibyFsI",
        "colab_type": "code",
        "outputId": "1f251bd1-2c14-425b-8045-0d706f13e6cb",
        "colab": {
          "base_uri": "https://localhost:8080/",
          "height": 102
        }
      },
      "source": [
        "!git clone https://github.com/tensorflow/playground.git"
      ],
      "execution_count": 42,
      "outputs": [
        {
          "output_type": "stream",
          "text": [
            "Cloning into 'playground'...\n",
            "remote: Enumerating objects: 1223, done.\u001b[K\n",
            "Receiving objects:   0% (1/1223)   \rReceiving objects:   1% (13/1223)   \rReceiving objects:   2% (25/1223)   \rReceiving objects:   3% (37/1223)   \rReceiving objects:   4% (49/1223)   \rReceiving objects:   5% (62/1223)   \rReceiving objects:   6% (74/1223)   \rReceiving objects:   7% (86/1223)   \rReceiving objects:   8% (98/1223)   \rReceiving objects:   9% (111/1223)   \rReceiving objects:  10% (123/1223)   \rReceiving objects:  11% (135/1223)   \rReceiving objects:  12% (147/1223)   \rReceiving objects:  13% (159/1223)   \rReceiving objects:  14% (172/1223)   \rReceiving objects:  15% (184/1223)   \rReceiving objects:  16% (196/1223)   \rReceiving objects:  17% (208/1223)   \rReceiving objects:  18% (221/1223)   \rReceiving objects:  19% (233/1223)   \rReceiving objects:  20% (245/1223)   \rReceiving objects:  21% (257/1223)   \rReceiving objects:  22% (270/1223)   \rReceiving objects:  23% (282/1223)   \rReceiving objects:  24% (294/1223)   \rReceiving objects:  25% (306/1223)   \rReceiving objects:  26% (318/1223)   \rReceiving objects:  27% (331/1223)   \rReceiving objects:  28% (343/1223)   \rReceiving objects:  29% (355/1223)   \rReceiving objects:  30% (367/1223)   \rReceiving objects:  31% (380/1223)   \rReceiving objects:  32% (392/1223)   \rReceiving objects:  33% (404/1223)   \rReceiving objects:  34% (416/1223)   \rReceiving objects:  35% (429/1223)   \rReceiving objects:  36% (441/1223)   \rReceiving objects:  37% (453/1223)   \rReceiving objects:  38% (465/1223)   \rReceiving objects:  39% (477/1223)   \rReceiving objects:  40% (490/1223)   \rReceiving objects:  41% (502/1223)   \rReceiving objects:  42% (514/1223)   \rReceiving objects:  43% (526/1223)   \rReceiving objects:  44% (539/1223)   \rReceiving objects:  45% (551/1223)   \rReceiving objects:  46% (563/1223)   \rReceiving objects:  47% (575/1223)   \rReceiving objects:  48% (588/1223)   \rReceiving objects:  49% (600/1223)   \rReceiving objects:  50% (612/1223)   \rReceiving objects:  51% (624/1223)   \rReceiving objects:  52% (636/1223)   \rReceiving objects:  53% (649/1223)   \rReceiving objects:  54% (661/1223)   \rReceiving objects:  55% (673/1223)   \rReceiving objects:  56% (685/1223)   \rReceiving objects:  57% (698/1223)   \rReceiving objects:  58% (710/1223)   \rReceiving objects:  59% (722/1223)   \rReceiving objects:  60% (734/1223)   \rReceiving objects:  61% (747/1223)   \rReceiving objects:  62% (759/1223)   \rReceiving objects:  63% (771/1223)   \rReceiving objects:  64% (783/1223)   \rReceiving objects:  65% (795/1223)   \rReceiving objects:  66% (808/1223)   \rReceiving objects:  67% (820/1223)   \rReceiving objects:  68% (832/1223)   \rReceiving objects:  69% (844/1223)   \rReceiving objects:  70% (857/1223)   \rReceiving objects:  71% (869/1223)   \rReceiving objects:  72% (881/1223)   \rReceiving objects:  73% (893/1223)   \rReceiving objects:  74% (906/1223)   \rReceiving objects:  75% (918/1223)   \rremote: Total 1223 (delta 0), reused 0 (delta 0), pack-reused 1223\u001b[K\n",
            "Receiving objects:  76% (930/1223)   \rReceiving objects:  77% (942/1223)   \rReceiving objects:  78% (954/1223)   \rReceiving objects:  79% (967/1223)   \rReceiving objects:  80% (979/1223)   \rReceiving objects:  81% (991/1223)   \rReceiving objects:  82% (1003/1223)   \rReceiving objects:  83% (1016/1223)   \rReceiving objects:  84% (1028/1223)   \rReceiving objects:  85% (1040/1223)   \rReceiving objects:  86% (1052/1223)   \rReceiving objects:  87% (1065/1223)   \rReceiving objects:  88% (1077/1223)   \rReceiving objects:  89% (1089/1223)   \rReceiving objects:  90% (1101/1223)   \rReceiving objects:  91% (1113/1223)   \rReceiving objects:  92% (1126/1223)   \rReceiving objects:  93% (1138/1223)   \rReceiving objects:  94% (1150/1223)   \rReceiving objects:  95% (1162/1223)   \rReceiving objects:  96% (1175/1223)   \rReceiving objects:  97% (1187/1223)   \rReceiving objects:  98% (1199/1223)   \rReceiving objects:  99% (1211/1223)   \rReceiving objects: 100% (1223/1223)   \rReceiving objects: 100% (1223/1223), 1.17 MiB | 9.08 MiB/s, done.\n",
            "Resolving deltas:   0% (0/770)   \rResolving deltas:   1% (15/770)   \rResolving deltas:   2% (18/770)   \rResolving deltas:   3% (24/770)   \rResolving deltas:   4% (31/770)   \rResolving deltas:   5% (42/770)   \rResolving deltas:   6% (51/770)   \rResolving deltas:   7% (61/770)   \rResolving deltas:   8% (64/770)   \rResolving deltas:   9% (75/770)   \rResolving deltas:  12% (95/770)   \rResolving deltas:  20% (156/770)   \rResolving deltas:  21% (169/770)   \rResolving deltas:  22% (172/770)   \rResolving deltas:  23% (181/770)   \rResolving deltas:  25% (194/770)   \rResolving deltas:  26% (201/770)   \rResolving deltas:  29% (229/770)   \rResolving deltas:  30% (232/770)   \rResolving deltas:  31% (241/770)   \rResolving deltas:  41% (316/770)   \rResolving deltas:  43% (332/770)   \rResolving deltas:  44% (340/770)   \rResolving deltas:  45% (350/770)   \rResolving deltas:  47% (368/770)   \rResolving deltas:  48% (375/770)   \rResolving deltas:  50% (385/770)   \rResolving deltas:  51% (397/770)   \rResolving deltas:  52% (402/770)   \rResolving deltas:  61% (476/770)   \rResolving deltas:  62% (479/770)   \rResolving deltas:  63% (486/770)   \rResolving deltas:  64% (493/770)   \rResolving deltas:  73% (564/770)   \rResolving deltas:  79% (612/770)   \rResolving deltas:  80% (616/770)   \rResolving deltas:  84% (649/770)   \rResolving deltas:  85% (656/770)   \rResolving deltas:  92% (710/770)   \rResolving deltas:  94% (729/770)   \rResolving deltas:  95% (735/770)   \rResolving deltas:  96% (740/770)   \rResolving deltas:  98% (759/770)   \rResolving deltas:  99% (763/770)   \rResolving deltas: 100% (770/770)   \rResolving deltas: 100% (770/770), done.\n"
          ],
          "name": "stdout"
        }
      ]
    },
    {
      "cell_type": "code",
      "metadata": {
        "id": "O7IyUdsbyJcS",
        "colab_type": "code",
        "outputId": "0518335f-ad71-4800-9c20-be67a2150fd7",
        "colab": {
          "base_uri": "https://localhost:8080/",
          "height": 136
        }
      },
      "source": [
        "!git clone https://github.com/pytorch/vision.git\n"
      ],
      "execution_count": 43,
      "outputs": [
        {
          "output_type": "stream",
          "text": [
            "Cloning into 'vision'...\n",
            "remote: Enumerating objects: 10, done.\u001b[K\n",
            "remote: Counting objects:  10% (1/10)\u001b[K\rremote: Counting objects:  20% (2/10)\u001b[K\rremote: Counting objects:  30% (3/10)\u001b[K\rremote: Counting objects:  40% (4/10)\u001b[K\rremote: Counting objects:  50% (5/10)\u001b[K\rremote: Counting objects:  60% (6/10)\u001b[K\rremote: Counting objects:  70% (7/10)\u001b[K\rremote: Counting objects:  80% (8/10)\u001b[K\rremote: Counting objects:  90% (9/10)\u001b[K\rremote: Counting objects: 100% (10/10)\u001b[K\rremote: Counting objects: 100% (10/10), done.\u001b[K\n",
            "remote: Compressing objects: 100% (10/10), done.\u001b[K\n",
            "remote: Total 5927 (delta 2), reused 2 (delta 0), pack-reused 5917\u001b[K\n",
            "Receiving objects: 100% (5927/5927), 9.54 MiB | 17.13 MiB/s, done.\n",
            "Resolving deltas: 100% (3938/3938), done.\n"
          ],
          "name": "stdout"
        }
      ]
    },
    {
      "cell_type": "code",
      "metadata": {
        "id": "ZS_-5x7lzK5A",
        "colab_type": "code",
        "outputId": "3394c8e5-6fb0-44fa-be10-87984dd573eb",
        "colab": {
          "base_uri": "https://localhost:8080/",
          "height": 102
        }
      },
      "source": [
        "!git clone https://github.com/ry/tensorflow-resnet.git"
      ],
      "execution_count": 44,
      "outputs": [
        {
          "output_type": "stream",
          "text": [
            "Cloning into 'tensorflow-resnet'...\n",
            "remote: Enumerating objects: 294, done.\u001b[K\n",
            "remote: Total 294 (delta 0), reused 0 (delta 0), pack-reused 294\u001b[K\n",
            "Receiving objects: 100% (294/294), 1.39 MiB | 7.30 MiB/s, done.\n",
            "Resolving deltas: 100% (162/162), done.\n"
          ],
          "name": "stdout"
        }
      ]
    },
    {
      "cell_type": "code",
      "metadata": {
        "id": "xpQJ2ZJfzyrp",
        "colab_type": "code",
        "outputId": "c27b3485-0057-4394-9f33-c9d5ef4f11b2",
        "colab": {
          "base_uri": "https://localhost:8080/",
          "height": 136
        }
      },
      "source": [
        "!git clone https://github.com/tensorflow/swift-models.git"
      ],
      "execution_count": 45,
      "outputs": [
        {
          "output_type": "stream",
          "text": [
            "Cloning into 'swift-models'...\n",
            "remote: Enumerating objects: 84, done.\u001b[K\n",
            "remote: Counting objects:   1% (1/84)\u001b[K\rremote: Counting objects:   2% (2/84)\u001b[K\rremote: Counting objects:   3% (3/84)\u001b[K\rremote: Counting objects:   4% (4/84)\u001b[K\rremote: Counting objects:   5% (5/84)\u001b[K\rremote: Counting objects:   7% (6/84)\u001b[K\rremote: Counting objects:   8% (7/84)\u001b[K\rremote: Counting objects:   9% (8/84)\u001b[K\rremote: Counting objects:  10% (9/84)\u001b[K\rremote: Counting objects:  11% (10/84)\u001b[K\rremote: Counting objects:  13% (11/84)\u001b[K\rremote: Counting objects:  14% (12/84)\u001b[K\rremote: Counting objects:  15% (13/84)\u001b[K\rremote: Counting objects:  16% (14/84)\u001b[K\rremote: Counting objects:  17% (15/84)\u001b[K\rremote: Counting objects:  19% (16/84)\u001b[K\rremote: Counting objects:  20% (17/84)\u001b[K\rremote: Counting objects:  21% (18/84)\u001b[K\rremote: Counting objects:  22% (19/84)\u001b[K\rremote: Counting objects:  23% (20/84)\u001b[K\rremote: Counting objects:  25% (21/84)\u001b[K\rremote: Counting objects:  26% (22/84)\u001b[K\rremote: Counting objects:  27% (23/84)\u001b[K\rremote: Counting objects:  28% (24/84)\u001b[K\rremote: Counting objects:  29% (25/84)\u001b[K\rremote: Counting objects:  30% (26/84)\u001b[K\rremote: Counting objects:  32% (27/84)\u001b[K\rremote: Counting objects:  33% (28/84)\u001b[K\rremote: Counting objects:  34% (29/84)\u001b[K\rremote: Counting objects:  35% (30/84)\u001b[K\rremote: Counting objects:  36% (31/84)\u001b[K\rremote: Counting objects:  38% (32/84)\u001b[K\rremote: Counting objects:  39% (33/84)\u001b[K\rremote: Counting objects:  40% (34/84)\u001b[K\rremote: Counting objects:  41% (35/84)\u001b[K\rremote: Counting objects:  42% (36/84)\u001b[K\rremote: Counting objects:  44% (37/84)\u001b[K\rremote: Counting objects:  45% (38/84)\u001b[K\rremote: Counting objects:  46% (39/84)\u001b[K\rremote: Counting objects:  47% (40/84)\u001b[K\rremote: Counting objects:  48% (41/84)\u001b[K\rremote: Counting objects:  50% (42/84)\u001b[K\rremote: Counting objects:  51% (43/84)\u001b[K\rremote: Counting objects:  52% (44/84)\u001b[K\rremote: Counting objects:  53% (45/84)\u001b[K\rremote: Counting objects:  54% (46/84)\u001b[K\rremote: Counting objects:  55% (47/84)\u001b[K\rremote: Counting objects:  57% (48/84)\u001b[K\rremote: Counting objects:  58% (49/84)\u001b[K\rremote: Counting objects:  59% (50/84)\u001b[K\rremote: Counting objects:  60% (51/84)\u001b[K\rremote: Counting objects:  61% (52/84)\u001b[K\rremote: Counting objects:  63% (53/84)\u001b[K\rremote: Counting objects:  64% (54/84)\u001b[K\rremote: Counting objects:  65% (55/84)\u001b[K\rremote: Counting objects:  66% (56/84)\u001b[K\rremote: Counting objects:  67% (57/84)\u001b[K\rremote: Counting objects:  69% (58/84)\u001b[K\rremote: Counting objects:  70% (59/84)\u001b[K\rremote: Counting objects:  71% (60/84)\u001b[K\rremote: Counting objects:  72% (61/84)\u001b[K\rremote: Counting objects:  73% (62/84)\u001b[K\rremote: Counting objects:  75% (63/84)\u001b[K\rremote: Counting objects:  76% (64/84)\u001b[K\rremote: Counting objects:  77% (65/84)\u001b[K\rremote: Counting objects:  78% (66/84)\u001b[K\rremote: Counting objects:  79% (67/84)\u001b[K\rremote: Counting objects:  80% (68/84)\u001b[K\rremote: Counting objects:  82% (69/84)\u001b[K\rremote: Counting objects:  83% (70/84)\u001b[K\rremote: Counting objects:  84% (71/84)\u001b[K\rremote: Counting objects:  85% (72/84)\u001b[K\rremote: Counting objects:  86% (73/84)\u001b[K\rremote: Counting objects:  88% (74/84)\u001b[K\rremote: Counting objects:  89% (75/84)\u001b[K\rremote: Counting objects:  90% (76/84)\u001b[K\rremote: Counting objects:  91% (77/84)\u001b[K\rremote: Counting objects:  92% (78/84)\u001b[K\rremote: Counting objects:  94% (79/84)\u001b[K\rremote: Counting objects:  95% (80/84)\u001b[K\rremote: Counting objects:  96% (81/84)\u001b[K\rremote: Counting objects:  97% (82/84)\u001b[K\rremote: Counting objects:  98% (83/84)\u001b[K\rremote: Counting objects: 100% (84/84)\u001b[K\rremote: Counting objects: 100% (84/84), done.\u001b[K\n",
            "remote: Compressing objects: 100% (73/73), done.\u001b[K\n",
            "remote: Total 1385 (delta 30), reused 29 (delta 8), pack-reused 1301\u001b[K\n",
            "Receiving objects: 100% (1385/1385), 16.48 MiB | 21.97 MiB/s, done.\n",
            "Resolving deltas: 100% (746/746), done.\n"
          ],
          "name": "stdout"
        }
      ]
    },
    {
      "cell_type": "code",
      "metadata": {
        "id": "Yi48YLYiz3kp",
        "colab_type": "code",
        "outputId": "9503e229-e9f2-4c91-af5b-9079c4337599",
        "colab": {
          "base_uri": "https://localhost:8080/",
          "height": 136
        }
      },
      "source": [
        "!git clone https://github.com/tensorflow/lattice.git"
      ],
      "execution_count": 46,
      "outputs": [
        {
          "output_type": "stream",
          "text": [
            "Cloning into 'lattice'...\n",
            "remote: Enumerating objects: 86, done.\u001b[K\n",
            "remote: Counting objects:   1% (1/86)\u001b[K\rremote: Counting objects:   2% (2/86)\u001b[K\rremote: Counting objects:   3% (3/86)\u001b[K\rremote: Counting objects:   4% (4/86)\u001b[K\rremote: Counting objects:   5% (5/86)\u001b[K\rremote: Counting objects:   6% (6/86)\u001b[K\rremote: Counting objects:   8% (7/86)\u001b[K\rremote: Counting objects:   9% (8/86)\u001b[K\rremote: Counting objects:  10% (9/86)\u001b[K\rremote: Counting objects:  11% (10/86)\u001b[K\rremote: Counting objects:  12% (11/86)\u001b[K\rremote: Counting objects:  13% (12/86)\u001b[K\rremote: Counting objects:  15% (13/86)\u001b[K\rremote: Counting objects:  16% (14/86)\u001b[K\rremote: Counting objects:  17% (15/86)\u001b[K\rremote: Counting objects:  18% (16/86)\u001b[K\rremote: Counting objects:  19% (17/86)\u001b[K\rremote: Counting objects:  20% (18/86)\u001b[K\rremote: Counting objects:  22% (19/86)\u001b[K\rremote: Counting objects:  23% (20/86)\u001b[K\rremote: Counting objects:  24% (21/86)\u001b[K\rremote: Counting objects:  25% (22/86)\u001b[K\rremote: Counting objects:  26% (23/86)\u001b[K\rremote: Counting objects:  27% (24/86)\u001b[K\rremote: Counting objects:  29% (25/86)\u001b[K\rremote: Counting objects:  30% (26/86)\u001b[K\rremote: Counting objects:  31% (27/86)\u001b[K\rremote: Counting objects:  32% (28/86)\u001b[K\rremote: Counting objects:  33% (29/86)\u001b[K\rremote: Counting objects:  34% (30/86)\u001b[K\rremote: Counting objects:  36% (31/86)\u001b[K\rremote: Counting objects:  37% (32/86)\u001b[K\rremote: Counting objects:  38% (33/86)\u001b[K\rremote: Counting objects:  39% (34/86)\u001b[K\rremote: Counting objects:  40% (35/86)\u001b[K\rremote: Counting objects:  41% (36/86)\u001b[K\rremote: Counting objects:  43% (37/86)\u001b[K\rremote: Counting objects:  44% (38/86)\u001b[K\rremote: Counting objects:  45% (39/86)\u001b[K\rremote: Counting objects:  46% (40/86)\u001b[K\rremote: Counting objects:  47% (41/86)\u001b[K\rremote: Counting objects:  48% (42/86)\u001b[K\rremote: Counting objects:  50% (43/86)\u001b[K\rremote: Counting objects:  51% (44/86)\u001b[K\rremote: Counting objects:  52% (45/86)\u001b[K\rremote: Counting objects:  53% (46/86)\u001b[K\rremote: Counting objects:  54% (47/86)\u001b[K\rremote: Counting objects:  55% (48/86)\u001b[K\rremote: Counting objects:  56% (49/86)\u001b[K\rremote: Counting objects:  58% (50/86)\u001b[K\rremote: Counting objects:  59% (51/86)\u001b[K\rremote: Counting objects:  60% (52/86)\u001b[K\rremote: Counting objects:  61% (53/86)\u001b[K\rremote: Counting objects:  62% (54/86)\u001b[K\rremote: Counting objects:  63% (55/86)\u001b[K\rremote: Counting objects:  65% (56/86)\u001b[K\rremote: Counting objects:  66% (57/86)\u001b[K\rremote: Counting objects:  67% (58/86)\u001b[K\rremote: Counting objects:  68% (59/86)\u001b[K\rremote: Counting objects:  69% (60/86)\u001b[K\rremote: Counting objects:  70% (61/86)\u001b[K\rremote: Counting objects:  72% (62/86)\u001b[K\rremote: Counting objects:  73% (63/86)\u001b[K\rremote: Counting objects:  74% (64/86)\u001b[K\rremote: Counting objects:  75% (65/86)\u001b[K\rremote: Counting objects:  76% (66/86)\u001b[K\rremote: Counting objects:  77% (67/86)\u001b[K\rremote: Counting objects:  79% (68/86)\u001b[K\rremote: Counting objects:  80% (69/86)\u001b[K\rremote: Counting objects:  81% (70/86)\u001b[K\rremote: Counting objects:  82% (71/86)\u001b[K\rremote: Counting objects:  83% (72/86)\u001b[K\rremote: Counting objects:  84% (73/86)\u001b[K\rremote: Counting objects:  86% (74/86)\u001b[K\rremote: Counting objects:  87% (75/86)\u001b[K\rremote: Counting objects:  88% (76/86)\u001b[K\rremote: Counting objects:  89% (77/86)\u001b[K\rremote: Counting objects:  90% (78/86)\u001b[K\rremote: Counting objects:  91% (79/86)\u001b[K\rremote: Counting objects:  93% (80/86)\u001b[K\rremote: Counting objects:  94% (81/86)\u001b[K\rremote: Counting objects:  95% (82/86)\u001b[K\rremote: Counting objects:  96% (83/86)\u001b[K\rremote: Counting objects:  97% (84/86)\u001b[K\rremote: Counting objects:  98% (85/86)\u001b[K\rremote: Counting objects: 100% (86/86)\u001b[K\rremote: Counting objects: 100% (86/86), done.\u001b[K\n",
            "remote: Compressing objects:   1% (1/83)\u001b[K\rremote: Compressing objects:   2% (2/83)\u001b[K\rremote: Compressing objects:   3% (3/83)\u001b[K\rremote: Compressing objects:   4% (4/83)\u001b[K\rremote: Compressing objects:   6% (5/83)\u001b[K\rremote: Compressing objects:   7% (6/83)\u001b[K\rremote: Compressing objects:   8% (7/83)\u001b[K\rremote: Compressing objects:   9% (8/83)\u001b[K\rremote: Compressing objects:  10% (9/83)\u001b[K\rremote: Compressing objects:  12% (10/83)\u001b[K\rremote: Compressing objects:  13% (11/83)\u001b[K\rremote: Compressing objects:  14% (12/83)\u001b[K\rremote: Compressing objects:  15% (13/83)\u001b[K\rremote: Compressing objects:  16% (14/83)\u001b[K\rremote: Compressing objects:  18% (15/83)\u001b[K\rremote: Compressing objects:  19% (16/83)\u001b[K\rremote: Compressing objects:  20% (17/83)\u001b[K\rremote: Compressing objects:  21% (18/83)\u001b[K\rremote: Compressing objects:  22% (19/83)\u001b[K\rremote: Compressing objects:  24% (20/83)\u001b[K\rremote: Compressing objects:  25% (21/83)\u001b[K\rremote: Compressing objects:  26% (22/83)\u001b[K\rremote: Compressing objects:  27% (23/83)\u001b[K\rremote: Compressing objects:  28% (24/83)\u001b[K\rremote: Compressing objects:  30% (25/83)\u001b[K\rremote: Compressing objects:  31% (26/83)\u001b[K\rremote: Compressing objects:  32% (27/83)\u001b[K\rremote: Compressing objects:  33% (28/83)\u001b[K\rremote: Compressing objects:  34% (29/83)\u001b[K\rremote: Compressing objects:  36% (30/83)\u001b[K\rremote: Compressing objects:  37% (31/83)\u001b[K\rremote: Compressing objects:  38% (32/83)\u001b[K\rremote: Compressing objects:  39% (33/83)\u001b[K\rremote: Compressing objects:  40% (34/83)\u001b[K\rremote: Compressing objects:  42% (35/83)\u001b[K\rremote: Compressing objects:  43% (36/83)\u001b[K\rremote: Compressing objects:  44% (37/83)\u001b[K\rremote: Compressing objects:  45% (38/83)\u001b[K\rremote: Compressing objects:  46% (39/83)\u001b[K\rremote: Compressing objects:  48% (40/83)\u001b[K\rremote: Compressing objects:  49% (41/83)\u001b[K\rremote: Compressing objects:  50% (42/83)\u001b[K\rremote: Compressing objects:  51% (43/83)\u001b[K\rremote: Compressing objects:  53% (44/83)\u001b[K\rremote: Compressing objects:  54% (45/83)\u001b[K\rremote: Compressing objects:  55% (46/83)\u001b[K\rremote: Compressing objects:  56% (47/83)\u001b[K\rremote: Compressing objects:  57% (48/83)\u001b[K\rremote: Compressing objects:  59% (49/83)\u001b[K\rremote: Compressing objects:  60% (50/83)\u001b[K\rremote: Compressing objects:  61% (51/83)\u001b[K\rremote: Compressing objects:  62% (52/83)\u001b[K\rremote: Compressing objects:  63% (53/83)\u001b[K\rremote: Compressing objects:  65% (54/83)\u001b[K\rremote: Compressing objects:  66% (55/83)\u001b[K\rremote: Compressing objects:  67% (56/83)\u001b[K\rremote: Compressing objects:  68% (57/83)\u001b[K\rremote: Compressing objects:  69% (58/83)\u001b[K\rremote: Compressing objects:  71% (59/83)\u001b[K\rremote: Compressing objects:  72% (60/83)\u001b[K\rremote: Compressing objects:  73% (61/83)\u001b[K\rremote: Compressing objects:  74% (62/83)\u001b[K\rremote: Compressing objects:  75% (63/83)\u001b[K\rremote: Compressing objects:  77% (64/83)\u001b[K\rremote: Compressing objects:  78% (65/83)\u001b[K\rremote: Compressing objects:  79% (66/83)\u001b[K\rremote: Compressing objects:  80% (67/83)\u001b[K\rremote: Compressing objects:  81% (68/83)\u001b[K\rremote: Compressing objects:  83% (69/83)\u001b[K\rremote: Compressing objects:  84% (70/83)\u001b[K\rremote: Compressing objects:  85% (71/83)\u001b[K\rremote: Compressing objects:  86% (72/83)\u001b[K\rremote: Compressing objects:  87% (73/83)\u001b[K\rremote: Compressing objects:  89% (74/83)\u001b[K\rremote: Compressing objects:  90% (75/83)\u001b[K\rremote: Compressing objects:  91% (76/83)\u001b[K\rremote: Compressing objects:  92% (77/83)\u001b[K\rremote: Compressing objects:  93% (78/83)\u001b[K\rremote: Compressing objects:  95% (79/83)\u001b[K\rremote: Compressing objects:  96% (80/83)\u001b[K\rremote: Compressing objects:  97% (81/83)\u001b[K\rremote: Compressing objects:  98% (82/83)\u001b[K\rremote: Compressing objects: 100% (83/83)\u001b[K\rremote: Compressing objects: 100% (83/83), done.\u001b[K\n",
            "Receiving objects:   0% (1/609)   \rReceiving objects:   1% (7/609)   \rReceiving objects:   2% (13/609)   \rReceiving objects:   3% (19/609)   \rReceiving objects:   4% (25/609)   \rReceiving objects:   5% (31/609)   \rReceiving objects:   6% (37/609)   \rReceiving objects:   7% (43/609)   \rReceiving objects:   8% (49/609)   \rReceiving objects:   9% (55/609)   \rReceiving objects:  10% (61/609)   \rReceiving objects:  11% (67/609)   \rReceiving objects:  12% (74/609)   \rReceiving objects:  13% (80/609)   \rReceiving objects:  14% (86/609)   \rReceiving objects:  15% (92/609)   \rReceiving objects:  16% (98/609)   \rReceiving objects:  17% (104/609)   \rReceiving objects:  18% (110/609)   \rReceiving objects:  19% (116/609)   \rReceiving objects:  20% (122/609)   \rReceiving objects:  21% (128/609)   \rReceiving objects:  22% (134/609)   \rReceiving objects:  23% (141/609)   \rReceiving objects:  24% (147/609)   \rReceiving objects:  25% (153/609)   \rReceiving objects:  26% (159/609)   \rReceiving objects:  27% (165/609)   \rReceiving objects:  28% (171/609)   \rReceiving objects:  29% (177/609)   \rReceiving objects:  30% (183/609)   \rReceiving objects:  31% (189/609)   \rReceiving objects:  32% (195/609)   \rReceiving objects:  33% (201/609)   \rReceiving objects:  34% (208/609)   \rReceiving objects:  35% (214/609)   \rReceiving objects:  36% (220/609)   \rReceiving objects:  37% (226/609)   \rReceiving objects:  38% (232/609)   \rReceiving objects:  39% (238/609)   \rReceiving objects:  40% (244/609)   \rReceiving objects:  41% (250/609)   \rReceiving objects:  42% (256/609)   \rReceiving objects:  43% (262/609)   \rReceiving objects:  44% (268/609)   \rReceiving objects:  45% (275/609)   \rReceiving objects:  46% (281/609)   \rReceiving objects:  47% (287/609)   \rReceiving objects:  48% (293/609)   \rReceiving objects:  49% (299/609)   \rReceiving objects:  50% (305/609)   \rReceiving objects:  51% (311/609)   \rReceiving objects:  52% (317/609)   \rReceiving objects:  53% (323/609)   \rReceiving objects:  54% (329/609)   \rReceiving objects:  55% (335/609)   \rReceiving objects:  56% (342/609)   \rReceiving objects:  57% (348/609)   \rReceiving objects:  58% (354/609)   \rReceiving objects:  59% (360/609)   \rReceiving objects:  60% (366/609)   \rReceiving objects:  61% (372/609)   \rReceiving objects:  62% (378/609)   \rReceiving objects:  63% (384/609)   \rReceiving objects:  64% (390/609)   \rReceiving objects:  65% (396/609)   \rReceiving objects:  66% (402/609)   \rReceiving objects:  67% (409/609)   \rReceiving objects:  68% (415/609)   \rReceiving objects:  69% (421/609)   \rReceiving objects:  70% (427/609)   \rReceiving objects:  71% (433/609)   \rReceiving objects:  72% (439/609)   \rReceiving objects:  73% (445/609)   \rReceiving objects:  74% (451/609)   \rReceiving objects:  75% (457/609)   \rReceiving objects:  76% (463/609)   \rReceiving objects:  77% (469/609)   \rReceiving objects:  78% (476/609)   \rReceiving objects:  79% (482/609)   \rReceiving objects:  80% (488/609)   \rReceiving objects:  81% (494/609)   \rReceiving objects:  82% (500/609)   \rReceiving objects:  83% (506/609)   \rReceiving objects:  84% (512/609)   \rReceiving objects:  85% (518/609)   \rReceiving objects:  86% (524/609)   \rReceiving objects:  87% (530/609)   \rReceiving objects:  88% (536/609)   \rReceiving objects:  89% (543/609)   \rReceiving objects:  90% (549/609)   \rReceiving objects:  91% (555/609)   \rReceiving objects:  92% (561/609)   \rReceiving objects:  93% (567/609)   \rReceiving objects:  94% (573/609)   \rReceiving objects:  95% (579/609)   \rReceiving objects:  96% (585/609)   \rremote: Total 609 (delta 25), reused 23 (delta 3), pack-reused 523\u001b[K\n",
            "Receiving objects: 100% (609/609), 849.63 KiB | 8.76 MiB/s, done.\n",
            "Resolving deltas: 100% (332/332), done.\n"
          ],
          "name": "stdout"
        }
      ]
    },
    {
      "cell_type": "code",
      "metadata": {
        "id": "2edQA8J0Vw5L",
        "colab_type": "code",
        "outputId": "17b51b10-27c6-4ea7-9e86-b48acb65b0e6",
        "colab": {
          "base_uri": "https://localhost:8080/",
          "height": 102
        }
      },
      "source": [
        "!git clone https://github.com/dipanjanS/hands-on-transfer-learning-with-python.git"
      ],
      "execution_count": 47,
      "outputs": [
        {
          "output_type": "stream",
          "text": [
            "Cloning into 'hands-on-transfer-learning-with-python'...\n",
            "remote: Enumerating objects: 184, done.\u001b[K\n",
            "remote: Total 184 (delta 0), reused 0 (delta 0), pack-reused 184\u001b[K\n",
            "Receiving objects: 100% (184/184), 38.33 MiB | 33.23 MiB/s, done.\n",
            "Resolving deltas: 100% (40/40), done.\n"
          ],
          "name": "stdout"
        }
      ]
    },
    {
      "cell_type": "code",
      "metadata": {
        "id": "d6_goA7bVytW",
        "colab_type": "code",
        "outputId": "c7b7e696-f20c-43f6-827c-b50cbad9d150",
        "colab": {
          "base_uri": "https://localhost:8080/",
          "height": 119
        }
      },
      "source": [
        "!git clone https://github.com/huggingface/transfer-learning-conv-ai.git"
      ],
      "execution_count": 48,
      "outputs": [
        {
          "output_type": "stream",
          "text": [
            "Cloning into 'transfer-learning-conv-ai'...\n",
            "remote: Enumerating objects: 3, done.\u001b[K\n",
            "remote: Counting objects: 100% (3/3), done.\u001b[K\n",
            "remote: Compressing objects: 100% (3/3), done.\u001b[K\n",
            "remote: Total 99 (delta 0), reused 0 (delta 0), pack-reused 96\u001b[K\n",
            "Unpacking objects: 100% (99/99), done.\n"
          ],
          "name": "stdout"
        }
      ]
    },
    {
      "cell_type": "code",
      "metadata": {
        "id": "QEDQKX8hWLlQ",
        "colab_type": "code",
        "outputId": "e797b7fd-6ca1-4aa4-feb7-b5fed160e115",
        "colab": {
          "base_uri": "https://localhost:8080/",
          "height": 119
        }
      },
      "source": [
        "!git clone https://github.com/vishalprabha/Image-Classification-Transfer-Learning-with-Inception-v3.git"
      ],
      "execution_count": 49,
      "outputs": [
        {
          "output_type": "stream",
          "text": [
            "Cloning into 'Image-Classification-Transfer-Learning-with-Inception-v3'...\n",
            "remote: Enumerating objects: 3701, done.\u001b[K\n",
            "remote: Total 3701 (delta 0), reused 0 (delta 0), pack-reused 3701\u001b[K\n",
            "Receiving objects: 100% (3701/3701), 218.76 MiB | 50.11 MiB/s, done.\n",
            "Resolving deltas: 100% (7/7), done.\n",
            "Checking out files: 100% (3684/3684), done.\n"
          ],
          "name": "stdout"
        }
      ]
    },
    {
      "cell_type": "code",
      "metadata": {
        "id": "49aPb2RiWiPf",
        "colab_type": "code",
        "outputId": "27460a06-71a0-4f68-9867-a11bd29fb022",
        "colab": {
          "base_uri": "https://localhost:8080/",
          "height": 85
        }
      },
      "source": [
        "!git clone https://github.com/VikasSinghBhadouria/Image-Classification-using-VGG-transfer-learning.git"
      ],
      "execution_count": 50,
      "outputs": [
        {
          "output_type": "stream",
          "text": [
            "Cloning into 'Image-Classification-using-VGG-transfer-learning'...\n",
            "remote: Enumerating objects: 6, done.\u001b[K\n",
            "remote: Total 6 (delta 0), reused 0 (delta 0), pack-reused 6\u001b[K\n",
            "Unpacking objects:  16% (1/6)   \rUnpacking objects:  33% (2/6)   \rUnpacking objects:  50% (3/6)   \rUnpacking objects:  66% (4/6)   \rUnpacking objects:  83% (5/6)   \rUnpacking objects: 100% (6/6)   \rUnpacking objects: 100% (6/6), done.\n"
          ],
          "name": "stdout"
        }
      ]
    },
    {
      "cell_type": "code",
      "metadata": {
        "id": "K-wEBp32WskA",
        "colab_type": "code",
        "outputId": "99fe1b0a-e100-4d75-f0cf-67479ecdc441",
        "colab": {
          "base_uri": "https://localhost:8080/",
          "height": 85
        }
      },
      "source": [
        "!git clone https://github.com/google/inception.git"
      ],
      "execution_count": 51,
      "outputs": [
        {
          "output_type": "stream",
          "text": [
            "Cloning into 'inception'...\n",
            "remote: Enumerating objects: 20, done.\u001b[K\n",
            "remote: Total 20 (delta 0), reused 0 (delta 0), pack-reused 20\u001b[K\n",
            "Unpacking objects: 100% (20/20), done.\n"
          ],
          "name": "stdout"
        }
      ]
    },
    {
      "cell_type": "code",
      "metadata": {
        "id": "81RrJbMfW_vX",
        "colab_type": "code",
        "outputId": "1a7503cd-19d0-49d3-8c93-9603a5446697",
        "colab": {
          "base_uri": "https://localhost:8080/",
          "height": 85
        }
      },
      "source": [
        "!git clone https://github.com/EN10/KerasModels.git"
      ],
      "execution_count": 52,
      "outputs": [
        {
          "output_type": "stream",
          "text": [
            "Cloning into 'KerasModels'...\n",
            "remote: Enumerating objects: 25, done.\u001b[K\n",
            "Unpacking objects:   4% (1/25)   \rUnpacking objects:   8% (2/25)   \rUnpacking objects:  12% (3/25)   \rUnpacking objects:  16% (4/25)   \rUnpacking objects:  20% (5/25)   \rUnpacking objects:  24% (6/25)   \rUnpacking objects:  28% (7/25)   \rUnpacking objects:  32% (8/25)   \rUnpacking objects:  36% (9/25)   \rremote: Total 25 (delta 0), reused 0 (delta 0), pack-reused 25\u001b[K\n",
            "Unpacking objects:  40% (10/25)   \rUnpacking objects:  44% (11/25)   \rUnpacking objects:  48% (12/25)   \rUnpacking objects:  52% (13/25)   \rUnpacking objects:  56% (14/25)   \rUnpacking objects:  60% (15/25)   \rUnpacking objects:  64% (16/25)   \rUnpacking objects:  68% (17/25)   \rUnpacking objects:  72% (18/25)   \rUnpacking objects:  76% (19/25)   \rUnpacking objects:  80% (20/25)   \rUnpacking objects:  84% (21/25)   \rUnpacking objects:  88% (22/25)   \rUnpacking objects:  92% (23/25)   \rUnpacking objects:  96% (24/25)   \rUnpacking objects: 100% (25/25)   \rUnpacking objects: 100% (25/25), done.\n"
          ],
          "name": "stdout"
        }
      ]
    },
    {
      "cell_type": "code",
      "metadata": {
        "id": "6qoMggpeZey2",
        "colab_type": "code",
        "outputId": "b1493112-955f-4c3d-b3d1-d9fe88f00287",
        "colab": {
          "base_uri": "https://localhost:8080/",
          "height": 85
        }
      },
      "source": [
        "!git clone https://github.com/alexwolf22/tensor2tensor_translator.git"
      ],
      "execution_count": 53,
      "outputs": [
        {
          "output_type": "stream",
          "text": [
            "Cloning into 'tensor2tensor_translator'...\n",
            "remote: Enumerating objects: 15, done.\u001b[K\n",
            "remote: Total 15 (delta 0), reused 0 (delta 0), pack-reused 15\u001b[K\n",
            "Unpacking objects: 100% (15/15), done.\n"
          ],
          "name": "stdout"
        }
      ]
    },
    {
      "cell_type": "code",
      "metadata": {
        "id": "pjwMaqstYvPK",
        "colab_type": "code",
        "colab": {
          "base_uri": "https://localhost:8080/",
          "height": 289
        },
        "outputId": "46060138-3c60-44f8-d03e-773b39c8588f"
      },
      "source": [
        "%load  https://colab.sandbox.google.com/github/tensorflow/docs/blob/master/site/en/tutorials/text/text_generation.ipynb"
      ],
      "execution_count": 54,
      "outputs": [
        {
          "output_type": "stream",
          "text": [
            "--2019-11-21 18:00:27--  https://colab.sandbox.google.com/github/tensorflow/docs/blob/master/site/en/tutorials/text/text_generation.ipynb\n",
            "Resolving colab.sandbox.google.com (colab.sandbox.google.com)... 172.217.214.81, 2607:f8b0:4001:c05::451\n",
            "Connecting to colab.sandbox.google.com (colab.sandbox.google.com)|172.217.214.81|:443... connected.\n",
            "HTTP request sent, awaiting response... 302 Found\n",
            "Location: https://colab.research.google.com/github/tensorflow/docs/blob/master/site/en/tutorials/text/text_generation.ipynb [following]\n",
            "--2019-11-21 18:00:27--  https://colab.research.google.com/github/tensorflow/docs/blob/master/site/en/tutorials/text/text_generation.ipynb\n",
            "Resolving colab.research.google.com (colab.research.google.com)... 172.217.214.138, 172.217.214.102, 172.217.214.100, ...\n",
            "Connecting to colab.research.google.com (colab.research.google.com)|172.217.214.138|:443... connected.\n",
            "HTTP request sent, awaiting response... 200 OK\n",
            "Length: unspecified [text/html]\n",
            "Saving to: ‘text_generation.ipynb’\n",
            "\n",
            "\rtext_generation.ipy     [<=>                 ]       0  --.-KB/s               \rtext_generation.ipy     [ <=>                ]  64.66K  --.-KB/s    in 0.001s  \n",
            "\n",
            "2019-11-21 18:00:27 (92.6 MB/s) - ‘text_generation.ipynb’ saved [66213]\n",
            "\n"
          ],
          "name": "stdout"
        }
      ]
    }
  ]
}