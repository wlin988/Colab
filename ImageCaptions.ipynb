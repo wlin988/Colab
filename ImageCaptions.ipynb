{
  "nbformat": 4,
  "nbformat_minor": 0,
  "metadata": {
    "colab": {
      "name": "ImageCaptions.ipynb",
      "provenance": [],
      "collapsed_sections": [],
      "include_colab_link": true
    },
    "kernelspec": {
      "name": "python3",
      "display_name": "Python 3"
    },
    "accelerator": "TPU"
  },
  "cells": [
    {
      "cell_type": "markdown",
      "metadata": {
        "id": "view-in-github",
        "colab_type": "text"
      },
      "source": [
        "<a href=\"https://colab.research.google.com/github/wlin988/Colab/blob/master/ImageCaptions.ipynb\" target=\"_parent\"><img src=\"https://colab.research.google.com/assets/colab-badge.svg\" alt=\"Open In Colab\"/></a>"
      ]
    },
    {
      "cell_type": "code",
      "metadata": {
        "id": "A3B1starRY2g",
        "colab_type": "code",
        "outputId": "36878dac-065b-4cce-bde0-e8ef6f633d74",
        "colab": {
          "base_uri": "https://localhost:8080/",
          "height": 122
        }
      },
      "source": [
        "from google.colab import drive\n",
        "drive.mount('/content/drive')"
      ],
      "execution_count": 1,
      "outputs": [
        {
          "output_type": "stream",
          "text": [
            "Go to this URL in a browser: https://accounts.google.com/o/oauth2/auth?client_id=947318989803-6bn6qk8qdgf4n4g3pfee6491hc0brc4i.apps.googleusercontent.com&redirect_uri=urn%3aietf%3awg%3aoauth%3a2.0%3aoob&response_type=code&scope=email%20https%3a%2f%2fwww.googleapis.com%2fauth%2fdocs.test%20https%3a%2f%2fwww.googleapis.com%2fauth%2fdrive%20https%3a%2f%2fwww.googleapis.com%2fauth%2fdrive.photos.readonly%20https%3a%2f%2fwww.googleapis.com%2fauth%2fpeopleapi.readonly\n",
            "\n",
            "Enter your authorization code:\n",
            "··········\n",
            "Mounted at /content/drive\n"
          ],
          "name": "stdout"
        }
      ]
    },
    {
      "cell_type": "code",
      "metadata": {
        "id": "9B4V8jC0j5pq",
        "colab_type": "code",
        "outputId": "0d1ebd30-8bc0-4ec8-d4a3-46c322b9df9f",
        "colab": {
          "base_uri": "https://localhost:8080/",
          "height": 102
        }
      },
      "source": [
        "!git clone https://github.com/DeepRNN/image_captioning.git\n"
      ],
      "execution_count": 2,
      "outputs": [
        {
          "output_type": "stream",
          "text": [
            "Cloning into 'image_captioning'...\n",
            "remote: Enumerating objects: 343, done.\u001b[K\n",
            "remote: Total 343 (delta 0), reused 0 (delta 0), pack-reused 343\u001b[K\n",
            "Receiving objects: 100% (343/343), 75.43 MiB | 48.30 MiB/s, done.\n",
            "Resolving deltas: 100% (150/150), done.\n"
          ],
          "name": "stdout"
        }
      ]
    },
    {
      "cell_type": "code",
      "metadata": {
        "id": "AYDeI3g3j71U",
        "colab_type": "code",
        "outputId": "d095a7df-123a-421a-d5b0-e33987598a23",
        "colab": {
          "base_uri": "https://localhost:8080/",
          "height": 102
        }
      },
      "source": [
        "!git clone https://github.com/Div99/Image-Captioning.git"
      ],
      "execution_count": 3,
      "outputs": [
        {
          "output_type": "stream",
          "text": [
            "Cloning into 'Image-Captioning'...\n",
            "remote: Enumerating objects: 464, done.\u001b[K\n",
            "Receiving objects:   0% (1/464)   \rReceiving objects:   1% (5/464)   \rReceiving objects:   2% (10/464)   \rReceiving objects:   3% (14/464)   \rReceiving objects:   4% (19/464)   \rReceiving objects:   5% (24/464)   \rReceiving objects:   6% (28/464)   \rReceiving objects:   7% (33/464)   \rReceiving objects:   8% (38/464)   \rReceiving objects:   9% (42/464)   \rReceiving objects:  10% (47/464)   \rReceiving objects:  11% (52/464)   \rReceiving objects:  12% (56/464)   \rReceiving objects:  13% (61/464)   \rReceiving objects:  14% (65/464)   \rReceiving objects:  15% (70/464)   \rReceiving objects:  16% (75/464)   \rReceiving objects:  17% (79/464)   \rReceiving objects:  18% (84/464)   \rReceiving objects:  19% (89/464)   \rReceiving objects:  20% (93/464)   \rReceiving objects:  21% (98/464)   \rReceiving objects:  22% (103/464)   \rReceiving objects:  23% (107/464)   \rReceiving objects:  24% (112/464)   \rReceiving objects:  25% (116/464)   \rReceiving objects:  26% (121/464)   \rReceiving objects:  27% (126/464)   \rReceiving objects:  28% (130/464)   \rReceiving objects:  29% (135/464)   \rReceiving objects:  30% (140/464)   \rReceiving objects:  31% (144/464)   \rReceiving objects:  32% (149/464)   \rReceiving objects:  33% (154/464)   \rReceiving objects:  34% (158/464)   \rReceiving objects:  35% (163/464)   \rReceiving objects:  36% (168/464)   \rReceiving objects:  37% (172/464)   \rReceiving objects:  38% (177/464)   \rReceiving objects:  39% (181/464)   \rReceiving objects:  40% (186/464)   \rReceiving objects:  41% (191/464)   \rReceiving objects:  42% (195/464)   \rReceiving objects:  43% (200/464)   \rReceiving objects:  44% (205/464)   \rReceiving objects:  45% (209/464)   \rReceiving objects:  46% (214/464)   \rReceiving objects:  47% (219/464)   \rReceiving objects:  48% (223/464)   \rReceiving objects:  49% (228/464)   \rReceiving objects:  50% (232/464)   \rReceiving objects:  51% (237/464)   \rReceiving objects:  52% (242/464)   \rReceiving objects:  53% (246/464)   \rReceiving objects:  54% (251/464)   \rReceiving objects:  55% (256/464)   \rReceiving objects:  56% (260/464)   \rReceiving objects:  57% (265/464)   \rReceiving objects:  58% (270/464)   \rReceiving objects:  59% (274/464)   \rReceiving objects:  60% (279/464)   \rReceiving objects:  61% (284/464)   \rReceiving objects:  62% (288/464)   \rReceiving objects:  63% (293/464)   \rReceiving objects:  64% (297/464)   \rReceiving objects:  65% (302/464)   \rReceiving objects:  66% (307/464)   \rReceiving objects:  67% (311/464)   \rReceiving objects:  68% (316/464)   \rReceiving objects:  69% (321/464)   \rReceiving objects:  70% (325/464)   \rReceiving objects:  71% (330/464)   \rReceiving objects:  72% (335/464)   \rReceiving objects:  73% (339/464)   \rReceiving objects:  74% (344/464)   \rReceiving objects:  75% (348/464)   \rReceiving objects:  76% (353/464)   \rReceiving objects:  77% (358/464)   \rReceiving objects:  78% (362/464)   \rReceiving objects:  79% (367/464)   \rReceiving objects:  80% (372/464)   \rReceiving objects:  81% (376/464)   \rReceiving objects:  82% (381/464)   \rReceiving objects:  83% (386/464)   \rReceiving objects:  84% (390/464)   \rReceiving objects:  85% (395/464)   \rReceiving objects:  86% (400/464)   \rReceiving objects:  87% (404/464)   \rReceiving objects:  88% (409/464)   \rReceiving objects:  89% (413/464)   \rReceiving objects:  90% (418/464)   \rReceiving objects:  91% (423/464)   \rReceiving objects:  92% (427/464)   \rremote: Total 464 (delta 0), reused 0 (delta 0), pack-reused 464\u001b[K\n",
            "Receiving objects: 100% (464/464), 1.21 MiB | 6.47 MiB/s, done.\n",
            "Resolving deltas: 100% (309/309), done.\n"
          ],
          "name": "stdout"
        }
      ]
    },
    {
      "cell_type": "code",
      "metadata": {
        "id": "DphTGYwumbdl",
        "colab_type": "code",
        "outputId": "9e8eaff8-37e8-4246-c5e6-1ce9a60be5bc",
        "colab": {
          "base_uri": "https://localhost:8080/",
          "height": 136
        }
      },
      "source": [
        "!git clone https://github.com/tensorflow/tensor2tensor.git\n"
      ],
      "execution_count": 4,
      "outputs": [
        {
          "output_type": "stream",
          "text": [
            "Cloning into 'tensor2tensor'...\n",
            "remote: Enumerating objects: 20, done.\u001b[K\n",
            "remote: Counting objects:   5% (1/20)\u001b[K\rremote: Counting objects:  10% (2/20)\u001b[K\rremote: Counting objects:  15% (3/20)\u001b[K\rremote: Counting objects:  20% (4/20)\u001b[K\rremote: Counting objects:  25% (5/20)\u001b[K\rremote: Counting objects:  30% (6/20)\u001b[K\rremote: Counting objects:  35% (7/20)\u001b[K\rremote: Counting objects:  40% (8/20)\u001b[K\rremote: Counting objects:  45% (9/20)\u001b[K\rremote: Counting objects:  50% (10/20)\u001b[K\rremote: Counting objects:  55% (11/20)\u001b[K\rremote: Counting objects:  60% (12/20)\u001b[K\rremote: Counting objects:  65% (13/20)\u001b[K\rremote: Counting objects:  70% (14/20)\u001b[K\rremote: Counting objects:  75% (15/20)\u001b[K\rremote: Counting objects:  80% (16/20)\u001b[K\rremote: Counting objects:  85% (17/20)\u001b[K\rremote: Counting objects:  90% (18/20)\u001b[K\rremote: Counting objects:  95% (19/20)\u001b[K\rremote: Counting objects: 100% (20/20)\u001b[K\rremote: Counting objects: 100% (20/20), done.\u001b[K\n",
            "remote: Compressing objects: 100% (17/17), done.\u001b[K\n",
            "remote: Total 30934 (delta 3), reused 10 (delta 3), pack-reused 30914\u001b[K\n",
            "Receiving objects: 100% (30934/30934), 14.37 MiB | 24.04 MiB/s, done.\n",
            "Resolving deltas: 100% (24988/24988), done.\n"
          ],
          "name": "stdout"
        }
      ]
    },
    {
      "cell_type": "code",
      "metadata": {
        "id": "RKpVqhl98dgE",
        "colab_type": "code",
        "outputId": "d733541d-e42c-4a8f-f165-c581d3d9d667",
        "colab": {
          "base_uri": "https://localhost:8080/",
          "height": 136
        }
      },
      "source": [
        "!git clone https://github.com/awslabs/sockeye.git"
      ],
      "execution_count": 5,
      "outputs": [
        {
          "output_type": "stream",
          "text": [
            "Cloning into 'sockeye'...\n",
            "remote: Enumerating objects: 156, done.\u001b[K\n",
            "remote: Counting objects: 100% (156/156), done.\u001b[K\n",
            "remote: Compressing objects: 100% (95/95), done.\u001b[K\n",
            "remote: Total 6705 (delta 101), reused 88 (delta 61), pack-reused 6549\u001b[K\n",
            "Receiving objects: 100% (6705/6705), 8.02 MiB | 21.40 MiB/s, done.\n",
            "Resolving deltas: 100% (5076/5076), done.\n"
          ],
          "name": "stdout"
        }
      ]
    },
    {
      "cell_type": "code",
      "metadata": {
        "id": "UDUQSnhimdKG",
        "colab_type": "code",
        "colab": {}
      },
      "source": [
        "%load https://colab.sandbox.google.com/github/tensorflow/tensor2tensor/blob/master/tensor2tensor/notebooks/hello_t2t.ipynb\n"
      ],
      "execution_count": 0,
      "outputs": []
    },
    {
      "cell_type": "code",
      "metadata": {
        "id": "gBy5b7xfm7qg",
        "colab_type": "code",
        "colab": {}
      },
      "source": [
        "#%run https://colab.sandbox.google.com/github/tensorflow/tensor2tensor/blob/master/tensor2tensor/notebooks/hello_t2t.ipynb"
      ],
      "execution_count": 0,
      "outputs": []
    },
    {
      "cell_type": "code",
      "metadata": {
        "id": "2VKNk8HynIMa",
        "colab_type": "code",
        "outputId": "4b396c41-25b4-4345-9676-f0e26b706540",
        "colab": {
          "base_uri": "https://localhost:8080/",
          "height": 102
        }
      },
      "source": [
        "!git clone https://github.com/ArunMichaelDsouza/tensorflow-image-detection.git"
      ],
      "execution_count": 8,
      "outputs": [
        {
          "output_type": "stream",
          "text": [
            "Cloning into 'tensorflow-image-detection'...\n",
            "remote: Enumerating objects: 121, done.\u001b[K\n",
            "remote: Total 121 (delta 0), reused 0 (delta 0), pack-reused 121\u001b[K\n",
            "Receiving objects: 100% (121/121), 1.15 MiB | 7.01 MiB/s, done.\n",
            "Resolving deltas: 100% (62/62), done.\n"
          ],
          "name": "stdout"
        }
      ]
    },
    {
      "cell_type": "code",
      "metadata": {
        "id": "--tlwOrYo2hZ",
        "colab_type": "code",
        "outputId": "0935863c-2e63-4146-cadc-0b2092823bbf",
        "colab": {
          "base_uri": "https://localhost:8080/",
          "height": 102
        }
      },
      "source": [
        "!git clone https://github.com/ageitgey/face_recognition.git\n"
      ],
      "execution_count": 9,
      "outputs": [
        {
          "output_type": "stream",
          "text": [
            "Cloning into 'face_recognition'...\n",
            "remote: Enumerating objects: 800, done.\u001b[K\n",
            "remote: Total 800 (delta 0), reused 0 (delta 0), pack-reused 800\u001b[K\n",
            "Receiving objects: 100% (800/800), 101.42 MiB | 37.01 MiB/s, done.\n",
            "Resolving deltas: 100% (460/460), done.\n"
          ],
          "name": "stdout"
        }
      ]
    },
    {
      "cell_type": "code",
      "metadata": {
        "id": "ITZhk3X1pEvS",
        "colab_type": "code",
        "outputId": "fca9be5b-3ec9-41e1-8df4-eee274b3d623",
        "colab": {
          "base_uri": "https://localhost:8080/",
          "height": 153
        }
      },
      "source": [
        "!git clone https://github.com/tensorflow/models.git"
      ],
      "execution_count": 10,
      "outputs": [
        {
          "output_type": "stream",
          "text": [
            "Cloning into 'models'...\n",
            "remote: Enumerating objects: 744, done.\u001b[K\n",
            "remote: Counting objects: 100% (744/744), done.\u001b[K\n",
            "remote: Compressing objects: 100% (478/478), done.\u001b[K\n",
            "remote: Total 32801 (delta 377), reused 457 (delta 265), pack-reused 32057\u001b[K\n",
            "Receiving objects: 100% (32801/32801), 512.18 MiB | 38.61 MiB/s, done.\n",
            "Resolving deltas: 100% (20686/20686), done.\n",
            "Checking out files: 100% (3183/3183), done.\n"
          ],
          "name": "stdout"
        }
      ]
    },
    {
      "cell_type": "code",
      "metadata": {
        "id": "NoowmTepph6C",
        "colab_type": "code",
        "outputId": "b576737a-970b-4a59-d44f-6176613f0605",
        "colab": {
          "base_uri": "https://localhost:8080/",
          "height": 136
        }
      },
      "source": [
        "!git clone https://github.com/cedrickchee/awesome-bert-nlp.git"
      ],
      "execution_count": 11,
      "outputs": [
        {
          "output_type": "stream",
          "text": [
            "Cloning into 'awesome-bert-nlp'...\n",
            "remote: Enumerating objects: 76, done.\u001b[K\n",
            "remote: Counting objects: 100% (76/76), done.\u001b[K\n",
            "remote: Compressing objects: 100% (76/76), done.\u001b[K\n",
            "remote: Total 141 (delta 24), reused 0 (delta 0), pack-reused 65\u001b[K\n",
            "Receiving objects: 100% (141/141), 53.03 KiB | 13.26 MiB/s, done.\n",
            "Resolving deltas: 100% (43/43), done.\n"
          ],
          "name": "stdout"
        }
      ]
    },
    {
      "cell_type": "code",
      "metadata": {
        "id": "jyAxvEgjpqYa",
        "colab_type": "code",
        "outputId": "15463c05-f510-4347-c225-8a73b156ee10",
        "colab": {
          "base_uri": "https://localhost:8080/",
          "height": 136
        }
      },
      "source": [
        "!git clone https://github.com/dennybritz/reinforcement-learning.git"
      ],
      "execution_count": 12,
      "outputs": [
        {
          "output_type": "stream",
          "text": [
            "Cloning into 'reinforcement-learning'...\n",
            "remote: Enumerating objects: 4, done.\u001b[K\n",
            "remote: Counting objects:  25% (1/4)\u001b[K\rremote: Counting objects:  50% (2/4)\u001b[K\rremote: Counting objects:  75% (3/4)\u001b[K\rremote: Counting objects: 100% (4/4)\u001b[K\rremote: Counting objects: 100% (4/4), done.\u001b[K\n",
            "remote: Compressing objects: 100% (4/4), done.\u001b[K\n",
            "remote: Total 1274 (delta 0), reused 1 (delta 0), pack-reused 1270\u001b[K\n",
            "Receiving objects: 100% (1274/1274), 5.25 MiB | 17.50 MiB/s, done.\n",
            "Resolving deltas: 100% (819/819), done.\n"
          ],
          "name": "stdout"
        }
      ]
    },
    {
      "cell_type": "code",
      "metadata": {
        "id": "8aPN2i7SIDAK",
        "colab_type": "code",
        "outputId": "24c14beb-1acc-4504-f6a4-bafcedc351ac",
        "colab": {
          "base_uri": "https://localhost:8080/",
          "height": 102
        }
      },
      "source": [
        "!git clone https://github.com/MorvanZhou/Reinforcement-learning-with-tensorflow.git"
      ],
      "execution_count": 13,
      "outputs": [
        {
          "output_type": "stream",
          "text": [
            "Cloning into 'Reinforcement-learning-with-tensorflow'...\n",
            "remote: Enumerating objects: 669, done.\u001b[K\n",
            "remote: Total 669 (delta 0), reused 0 (delta 0), pack-reused 669\u001b[K\n",
            "Receiving objects: 100% (669/669), 430.31 KiB | 3.33 MiB/s, done.\n",
            "Resolving deltas: 100% (379/379), done.\n"
          ],
          "name": "stdout"
        }
      ]
    },
    {
      "cell_type": "code",
      "metadata": {
        "id": "jtwPnQIpIWYN",
        "colab_type": "code",
        "outputId": "31d66361-cdf3-4f3a-c122-1e1fce344256",
        "colab": {
          "base_uri": "https://localhost:8080/",
          "height": 102
        }
      },
      "source": [
        "!git clone https://github.com/udacity/deep-reinforcement-learning.git"
      ],
      "execution_count": 14,
      "outputs": [
        {
          "output_type": "stream",
          "text": [
            "Cloning into 'deep-reinforcement-learning'...\n",
            "remote: Enumerating objects: 223, done.\u001b[K\n",
            "remote: Total 223 (delta 0), reused 0 (delta 0), pack-reused 223\u001b[K\n",
            "Receiving objects: 100% (223/223), 3.45 MiB | 14.90 MiB/s, done.\n",
            "Resolving deltas: 100% (51/51), done.\n"
          ],
          "name": "stdout"
        }
      ]
    },
    {
      "cell_type": "code",
      "metadata": {
        "id": "4z6AL2XzIqpk",
        "colab_type": "code",
        "outputId": "297036d4-5bc1-44d3-adae-a232fbffaa28",
        "colab": {
          "base_uri": "https://localhost:8080/",
          "height": 102
        }
      },
      "source": [
        "!git clone https://github.com/Zeta36/chess-alpha-zero.git"
      ],
      "execution_count": 15,
      "outputs": [
        {
          "output_type": "stream",
          "text": [
            "Cloning into 'chess-alpha-zero'...\n",
            "remote: Enumerating objects: 478, done.\u001b[K\n",
            "remote: Total 478 (delta 0), reused 0 (delta 0), pack-reused 478\u001b[K\n",
            "Receiving objects: 100% (478/478), 122.38 MiB | 36.08 MiB/s, done.\n",
            "Resolving deltas: 100% (250/250), done.\n"
          ],
          "name": "stdout"
        }
      ]
    },
    {
      "cell_type": "code",
      "metadata": {
        "id": "pewKcEYII7ad",
        "colab_type": "code",
        "outputId": "9f3c5e4a-8fb3-442a-f199-49522420805f",
        "colab": {
          "base_uri": "https://localhost:8080/",
          "height": 153
        }
      },
      "source": [
        "!git clone https://github.com/suragnair/alpha-zero-general.git"
      ],
      "execution_count": 16,
      "outputs": [
        {
          "output_type": "stream",
          "text": [
            "Cloning into 'alpha-zero-general'...\n",
            "remote: Enumerating objects: 4, done.\u001b[K\n",
            "remote: Counting objects:  25% (1/4)\u001b[K\rremote: Counting objects:  50% (2/4)\u001b[K\rremote: Counting objects:  75% (3/4)\u001b[K\rremote: Counting objects: 100% (4/4)\u001b[K\rremote: Counting objects: 100% (4/4), done.\u001b[K\n",
            "remote: Compressing objects: 100% (4/4), done.\u001b[K\n",
            "remote: Total 945 (delta 0), reused 1 (delta 0), pack-reused 941\u001b[K\n",
            "Receiving objects: 100% (945/945), 230.16 MiB | 39.46 MiB/s, done.\n",
            "Resolving deltas: 100% (520/520), done.\n",
            "Checking out files: 100% (134/134), done.\n"
          ],
          "name": "stdout"
        }
      ]
    },
    {
      "cell_type": "code",
      "metadata": {
        "id": "xxNq7FWkJqL7",
        "colab_type": "code",
        "outputId": "6dbdb80d-5bd6-46b7-ca43-e25b58d6c845",
        "colab": {
          "base_uri": "https://localhost:8080/",
          "height": 136
        }
      },
      "source": [
        "!git clone https://github.com/glinscott/leela-chess.git"
      ],
      "execution_count": 17,
      "outputs": [
        {
          "output_type": "stream",
          "text": [
            "Cloning into 'leela-chess'...\n",
            "remote: Enumerating objects: 5, done.\u001b[K\n",
            "remote: Counting objects:  20% (1/5)\u001b[K\rremote: Counting objects:  40% (2/5)\u001b[K\rremote: Counting objects:  60% (3/5)\u001b[K\rremote: Counting objects:  80% (4/5)\u001b[K\rremote: Counting objects: 100% (5/5)\u001b[K\rremote: Counting objects: 100% (5/5), done.\u001b[K\n",
            "remote: Compressing objects: 100% (4/4), done.\u001b[K\n",
            "remote: Total 6791 (delta 0), reused 0 (delta 0), pack-reused 6786\u001b[K\n",
            "Receiving objects: 100% (6791/6791), 34.98 MiB | 23.20 MiB/s, done.\n",
            "Resolving deltas: 100% (4304/4304), done.\n"
          ],
          "name": "stdout"
        }
      ]
    },
    {
      "cell_type": "code",
      "metadata": {
        "id": "m_srHOUII-37",
        "colab_type": "code",
        "outputId": "fd93210c-9b78-4dc8-f853-5e6ec6f9aa6d",
        "colab": {
          "base_uri": "https://localhost:8080/",
          "height": 136
        }
      },
      "source": [
        "!git clone https://github.com/XanaduAI/pennylane.git"
      ],
      "execution_count": 18,
      "outputs": [
        {
          "output_type": "stream",
          "text": [
            "Cloning into 'pennylane'...\n",
            "remote: Enumerating objects: 244, done.\u001b[K\n",
            "remote: Counting objects: 100% (244/244), done.\u001b[K\n",
            "remote: Compressing objects: 100% (161/161), done.\u001b[K\n",
            "remote: Total 10477 (delta 139), reused 135 (delta 83), pack-reused 10233\u001b[K\n",
            "Receiving objects: 100% (10477/10477), 22.95 MiB | 34.36 MiB/s, done.\n",
            "Resolving deltas: 100% (7358/7358), done.\n"
          ],
          "name": "stdout"
        }
      ]
    },
    {
      "cell_type": "code",
      "metadata": {
        "id": "TbsOg4sKSo8G",
        "colab_type": "code",
        "outputId": "3b7f47eb-8322-4e5c-a2cb-8d5848eeb863",
        "colab": {
          "base_uri": "https://localhost:8080/",
          "height": 102
        }
      },
      "source": [
        "!git clone https://github.com/google/dopamine.git"
      ],
      "execution_count": 19,
      "outputs": [
        {
          "output_type": "stream",
          "text": [
            "Cloning into 'dopamine'...\n",
            "remote: Enumerating objects: 1485, done.\u001b[K\n",
            "remote: Total 1485 (delta 0), reused 0 (delta 0), pack-reused 1485\u001b[K\n",
            "Receiving objects: 100% (1485/1485), 7.35 MiB | 21.88 MiB/s, done.\n",
            "Resolving deltas: 100% (963/963), done.\n"
          ],
          "name": "stdout"
        }
      ]
    },
    {
      "cell_type": "code",
      "metadata": {
        "id": "v12ktEQoJBQm",
        "colab_type": "code",
        "outputId": "b5017d1c-c601-4ef3-dbb3-b322b679f76d",
        "colab": {
          "base_uri": "https://localhost:8080/",
          "height": 136
        }
      },
      "source": [
        "!git clone https://github.com/mukeshmithrakumar/scientific.git"
      ],
      "execution_count": 20,
      "outputs": [
        {
          "output_type": "stream",
          "text": [
            "Cloning into 'scientific'...\n",
            "remote: Enumerating objects: 100, done.\u001b[K\n",
            "remote: Counting objects:   1% (1/100)\u001b[K\rremote: Counting objects:   2% (2/100)\u001b[K\rremote: Counting objects:   3% (3/100)\u001b[K\rremote: Counting objects:   4% (4/100)\u001b[K\rremote: Counting objects:   5% (5/100)\u001b[K\rremote: Counting objects:   6% (6/100)\u001b[K\rremote: Counting objects:   7% (7/100)\u001b[K\rremote: Counting objects:   8% (8/100)\u001b[K\rremote: Counting objects:   9% (9/100)\u001b[K\rremote: Counting objects:  10% (10/100)\u001b[K\rremote: Counting objects:  11% (11/100)\u001b[K\rremote: Counting objects:  12% (12/100)\u001b[K\rremote: Counting objects:  13% (13/100)\u001b[K\rremote: Counting objects:  14% (14/100)\u001b[K\rremote: Counting objects:  15% (15/100)\u001b[K\rremote: Counting objects:  16% (16/100)\u001b[K\rremote: Counting objects:  17% (17/100)\u001b[K\rremote: Counting objects:  18% (18/100)\u001b[K\rremote: Counting objects:  19% (19/100)\u001b[K\rremote: Counting objects:  20% (20/100)\u001b[K\rremote: Counting objects:  21% (21/100)\u001b[K\rremote: Counting objects:  22% (22/100)\u001b[K\rremote: Counting objects:  23% (23/100)\u001b[K\rremote: Counting objects:  24% (24/100)\u001b[K\rremote: Counting objects:  25% (25/100)\u001b[K\rremote: Counting objects:  26% (26/100)\u001b[K\rremote: Counting objects:  27% (27/100)\u001b[K\rremote: Counting objects:  28% (28/100)\u001b[K\rremote: Counting objects:  29% (29/100)\u001b[K\rremote: Counting objects:  30% (30/100)\u001b[K\rremote: Counting objects:  31% (31/100)\u001b[K\rremote: Counting objects:  32% (32/100)\u001b[K\rremote: Counting objects:  33% (33/100)\u001b[K\rremote: Counting objects:  34% (34/100)\u001b[K\rremote: Counting objects:  35% (35/100)\u001b[K\rremote: Counting objects:  36% (36/100)\u001b[K\rremote: Counting objects:  37% (37/100)\u001b[K\rremote: Counting objects:  38% (38/100)\u001b[K\rremote: Counting objects:  39% (39/100)\u001b[K\rremote: Counting objects:  40% (40/100)\u001b[K\rremote: Counting objects:  41% (41/100)\u001b[K\rremote: Counting objects:  42% (42/100)\u001b[K\rremote: Counting objects:  43% (43/100)\u001b[K\rremote: Counting objects:  44% (44/100)\u001b[K\rremote: Counting objects:  45% (45/100)\u001b[K\rremote: Counting objects:  46% (46/100)\u001b[K\rremote: Counting objects:  47% (47/100)\u001b[K\rremote: Counting objects:  48% (48/100)\u001b[K\rremote: Counting objects:  49% (49/100)\u001b[K\rremote: Counting objects:  50% (50/100)\u001b[K\rremote: Counting objects:  51% (51/100)\u001b[K\rremote: Counting objects:  52% (52/100)\u001b[K\rremote: Counting objects:  53% (53/100)\u001b[K\rremote: Counting objects:  54% (54/100)\u001b[K\rremote: Counting objects:  55% (55/100)\u001b[K\rremote: Counting objects:  56% (56/100)\u001b[K\rremote: Counting objects:  57% (57/100)\u001b[K\rremote: Counting objects:  58% (58/100)\u001b[K\rremote: Counting objects:  59% (59/100)\u001b[K\rremote: Counting objects:  60% (60/100)\u001b[K\rremote: Counting objects:  61% (61/100)\u001b[K\rremote: Counting objects:  62% (62/100)\u001b[K\rremote: Counting objects:  63% (63/100)\u001b[K\rremote: Counting objects:  64% (64/100)\u001b[K\rremote: Counting objects:  65% (65/100)\u001b[K\rremote: Counting objects:  66% (66/100)\u001b[K\rremote: Counting objects:  67% (67/100)\u001b[K\rremote: Counting objects:  68% (68/100)\u001b[K\rremote: Counting objects:  69% (69/100)\u001b[K\rremote: Counting objects:  70% (70/100)\u001b[K\rremote: Counting objects:  71% (71/100)\u001b[K\rremote: Counting objects:  72% (72/100)\u001b[K\rremote: Counting objects:  73% (73/100)\u001b[K\rremote: Counting objects:  74% (74/100)\u001b[K\rremote: Counting objects:  75% (75/100)\u001b[K\rremote: Counting objects:  76% (76/100)\u001b[K\rremote: Counting objects:  77% (77/100)\u001b[K\rremote: Counting objects:  78% (78/100)\u001b[K\rremote: Counting objects:  79% (79/100)\u001b[K\rremote: Counting objects:  80% (80/100)\u001b[K\rremote: Counting objects:  81% (81/100)\u001b[K\rremote: Counting objects:  82% (82/100)\u001b[K\rremote: Counting objects:  83% (83/100)\u001b[K\rremote: Counting objects:  84% (84/100)\u001b[K\rremote: Counting objects:  85% (85/100)\u001b[K\rremote: Counting objects:  86% (86/100)\u001b[K\rremote: Counting objects:  87% (87/100)\u001b[K\rremote: Counting objects:  88% (88/100)\u001b[K\rremote: Counting objects:  89% (89/100)\u001b[K\rremote: Counting objects:  90% (90/100)\u001b[K\rremote: Counting objects:  91% (91/100)\u001b[K\rremote: Counting objects:  92% (92/100)\u001b[K\rremote: Counting objects:  93% (93/100)\u001b[K\rremote: Counting objects:  94% (94/100)\u001b[K\rremote: Counting objects:  95% (95/100)\u001b[K\rremote: Counting objects:  96% (96/100)\u001b[K\rremote: Counting objects:  97% (97/100)\u001b[K\rremote: Counting objects:  98% (98/100)\u001b[K\rremote: Counting objects:  99% (99/100)\u001b[K\rremote: Counting objects: 100% (100/100)\u001b[K\rremote: Counting objects: 100% (100/100), done.\u001b[K\n",
            "remote: Compressing objects: 100% (70/70), done.\u001b[K\n",
            "remote: Total 100 (delta 36), reused 81 (delta 19), pack-reused 0\u001b[K\n",
            "Receiving objects: 100% (100/100), 70.49 KiB | 2.43 MiB/s, done.\n",
            "Resolving deltas: 100% (36/36), done.\n"
          ],
          "name": "stdout"
        }
      ]
    },
    {
      "cell_type": "code",
      "metadata": {
        "id": "q6gwaoa9RUdx",
        "colab_type": "code",
        "outputId": "16c43f79-4e02-4e2f-e2bb-45c05f493467",
        "colab": {
          "base_uri": "https://localhost:8080/",
          "height": 428
        }
      },
      "source": [
        "!pip install pytorch-pretrained-bert"
      ],
      "execution_count": 21,
      "outputs": [
        {
          "output_type": "stream",
          "text": [
            "Collecting pytorch-pretrained-bert\n",
            "\u001b[?25l  Downloading https://files.pythonhosted.org/packages/d7/e0/c08d5553b89973d9a240605b9c12404bcf8227590de62bae27acbcfe076b/pytorch_pretrained_bert-0.6.2-py3-none-any.whl (123kB)\n",
            "\r\u001b[K     |██▋                             | 10kB 17.6MB/s eta 0:00:01\r\u001b[K     |█████▎                          | 20kB 2.3MB/s eta 0:00:01\r\u001b[K     |████████                        | 30kB 3.3MB/s eta 0:00:01\r\u001b[K     |██████████▋                     | 40kB 2.1MB/s eta 0:00:01\r\u001b[K     |█████████████▎                  | 51kB 2.6MB/s eta 0:00:01\r\u001b[K     |███████████████▉                | 61kB 3.2MB/s eta 0:00:01\r\u001b[K     |██████████████████▌             | 71kB 3.6MB/s eta 0:00:01\r\u001b[K     |█████████████████████▏          | 81kB 4.1MB/s eta 0:00:01\r\u001b[K     |███████████████████████▉        | 92kB 4.6MB/s eta 0:00:01\r\u001b[K     |██████████████████████████▌     | 102kB 3.5MB/s eta 0:00:01\r\u001b[K     |█████████████████████████████▏  | 112kB 3.5MB/s eta 0:00:01\r\u001b[K     |███████████████████████████████▊| 122kB 3.5MB/s eta 0:00:01\r\u001b[K     |████████████████████████████████| 133kB 3.5MB/s \n",
            "\u001b[?25hRequirement already satisfied: tqdm in /usr/local/lib/python3.6/dist-packages (from pytorch-pretrained-bert) (4.28.1)\n",
            "Collecting regex\n",
            "\u001b[?25l  Downloading https://files.pythonhosted.org/packages/e3/8e/cbf2295643d7265e7883326fb4654e643bfc93b3a8a8274d8010a39d8804/regex-2019.11.1-cp36-cp36m-manylinux1_x86_64.whl (643kB)\n",
            "\u001b[K     |████████████████████████████████| 645kB 53.7MB/s \n",
            "\u001b[?25hRequirement already satisfied: boto3 in /usr/local/lib/python3.6/dist-packages (from pytorch-pretrained-bert) (1.10.18)\n",
            "Requirement already satisfied: torch>=0.4.1 in /usr/local/lib/python3.6/dist-packages (from pytorch-pretrained-bert) (1.3.1)\n",
            "Requirement already satisfied: numpy in /usr/local/lib/python3.6/dist-packages (from pytorch-pretrained-bert) (1.17.4)\n",
            "Requirement already satisfied: requests in /usr/local/lib/python3.6/dist-packages (from pytorch-pretrained-bert) (2.21.0)\n",
            "Requirement already satisfied: jmespath<1.0.0,>=0.7.1 in /usr/local/lib/python3.6/dist-packages (from boto3->pytorch-pretrained-bert) (0.9.4)\n",
            "Requirement already satisfied: botocore<1.14.0,>=1.13.18 in /usr/local/lib/python3.6/dist-packages (from boto3->pytorch-pretrained-bert) (1.13.18)\n",
            "Requirement already satisfied: s3transfer<0.3.0,>=0.2.0 in /usr/local/lib/python3.6/dist-packages (from boto3->pytorch-pretrained-bert) (0.2.1)\n",
            "Requirement already satisfied: certifi>=2017.4.17 in /usr/local/lib/python3.6/dist-packages (from requests->pytorch-pretrained-bert) (2019.9.11)\n",
            "Requirement already satisfied: idna<2.9,>=2.5 in /usr/local/lib/python3.6/dist-packages (from requests->pytorch-pretrained-bert) (2.8)\n",
            "Requirement already satisfied: chardet<3.1.0,>=3.0.2 in /usr/local/lib/python3.6/dist-packages (from requests->pytorch-pretrained-bert) (3.0.4)\n",
            "Requirement already satisfied: urllib3<1.25,>=1.21.1 in /usr/local/lib/python3.6/dist-packages (from requests->pytorch-pretrained-bert) (1.24.3)\n",
            "Requirement already satisfied: docutils<0.16,>=0.10 in /usr/local/lib/python3.6/dist-packages (from botocore<1.14.0,>=1.13.18->boto3->pytorch-pretrained-bert) (0.15.2)\n",
            "Requirement already satisfied: python-dateutil<2.8.1,>=2.1; python_version >= \"2.7\" in /usr/local/lib/python3.6/dist-packages (from botocore<1.14.0,>=1.13.18->boto3->pytorch-pretrained-bert) (2.6.1)\n",
            "Requirement already satisfied: six>=1.5 in /usr/local/lib/python3.6/dist-packages (from python-dateutil<2.8.1,>=2.1; python_version >= \"2.7\"->botocore<1.14.0,>=1.13.18->boto3->pytorch-pretrained-bert) (1.12.0)\n",
            "Installing collected packages: regex, pytorch-pretrained-bert\n",
            "Successfully installed pytorch-pretrained-bert-0.6.2 regex-2019.11.1\n"
          ],
          "name": "stdout"
        }
      ]
    },
    {
      "cell_type": "code",
      "metadata": {
        "id": "0ao1OwbAj2BD",
        "colab_type": "code",
        "outputId": "dba8b518-18a2-4849-91b1-1d0a6ed36525",
        "colab": {
          "base_uri": "https://localhost:8080/",
          "height": 102
        }
      },
      "source": [
        "!git clone https://github.com/maknotavailable/pytorch-pretrained-BERT.git"
      ],
      "execution_count": 22,
      "outputs": [
        {
          "output_type": "stream",
          "text": [
            "Cloning into 'pytorch-pretrained-BERT'...\n",
            "remote: Enumerating objects: 972, done.\u001b[K\n",
            "Receiving objects:   0% (1/972)   \rReceiving objects:   1% (10/972)   \rReceiving objects:   2% (20/972)   \rReceiving objects:   3% (30/972)   \rReceiving objects:   4% (39/972)   \rReceiving objects:   5% (49/972)   \rReceiving objects:   6% (59/972)   \rReceiving objects:   7% (69/972)   \rReceiving objects:   8% (78/972)   \rReceiving objects:   9% (88/972)   \rReceiving objects:  10% (98/972)   \rReceiving objects:  11% (107/972)   \rReceiving objects:  12% (117/972)   \rReceiving objects:  13% (127/972)   \rReceiving objects:  14% (137/972)   \rReceiving objects:  15% (146/972)   \rReceiving objects:  16% (156/972)   \rReceiving objects:  17% (166/972)   \rReceiving objects:  18% (175/972)   \rReceiving objects:  19% (185/972)   \rReceiving objects:  20% (195/972)   \rReceiving objects:  21% (205/972)   \rReceiving objects:  22% (214/972)   \rReceiving objects:  23% (224/972)   \rReceiving objects:  24% (234/972)   \rReceiving objects:  25% (243/972)   \rReceiving objects:  26% (253/972)   \rReceiving objects:  27% (263/972)   \rReceiving objects:  28% (273/972)   \rReceiving objects:  29% (282/972)   \rReceiving objects:  30% (292/972)   \rReceiving objects:  31% (302/972)   \rReceiving objects:  32% (312/972)   \rReceiving objects:  33% (321/972)   \rReceiving objects:  34% (331/972)   \rReceiving objects:  35% (341/972)   \rReceiving objects:  36% (350/972)   \rReceiving objects:  37% (360/972)   \rReceiving objects:  38% (370/972)   \rReceiving objects:  39% (380/972)   \rReceiving objects:  40% (389/972)   \rReceiving objects:  41% (399/972)   \rReceiving objects:  42% (409/972)   \rReceiving objects:  43% (418/972)   \rReceiving objects:  44% (428/972)   \rReceiving objects:  45% (438/972)   \rReceiving objects:  46% (448/972)   \rReceiving objects:  47% (457/972)   \rReceiving objects:  48% (467/972)   \rReceiving objects:  49% (477/972)   \rReceiving objects:  50% (486/972)   \rReceiving objects:  51% (496/972)   \rReceiving objects:  52% (506/972)   \rReceiving objects:  53% (516/972)   \rReceiving objects:  54% (525/972)   \rReceiving objects:  55% (535/972)   \rReceiving objects:  56% (545/972)   \rReceiving objects:  57% (555/972)   \rReceiving objects:  58% (564/972)   \rReceiving objects:  59% (574/972)   \rReceiving objects:  60% (584/972)   \rReceiving objects:  61% (593/972)   \rReceiving objects:  62% (603/972)   \rReceiving objects:  63% (613/972)   \rReceiving objects:  64% (623/972)   \rReceiving objects:  65% (632/972)   \rReceiving objects:  66% (642/972)   \rReceiving objects:  67% (652/972)   \rReceiving objects:  68% (661/972)   \rReceiving objects:  69% (671/972)   \rReceiving objects:  70% (681/972)   \rReceiving objects:  71% (691/972)   \rReceiving objects:  72% (700/972)   \rReceiving objects:  73% (710/972)   \rReceiving objects:  74% (720/972)   \rReceiving objects:  75% (729/972)   \rReceiving objects:  76% (739/972)   \rReceiving objects:  77% (749/972)   \rReceiving objects:  78% (759/972)   \rremote: Total 972 (delta 0), reused 0 (delta 0), pack-reused 972\u001b[K\n",
            "Receiving objects:  79% (768/972)   \rReceiving objects:  80% (778/972)   \rReceiving objects:  81% (788/972)   \rReceiving objects:  82% (798/972)   \rReceiving objects:  83% (807/972)   \rReceiving objects:  84% (817/972)   \rReceiving objects:  85% (827/972)   \rReceiving objects:  86% (836/972)   \rReceiving objects:  87% (846/972)   \rReceiving objects:  88% (856/972)   \rReceiving objects:  89% (866/972)   \rReceiving objects:  90% (875/972)   \rReceiving objects:  91% (885/972)   \rReceiving objects:  92% (895/972)   \rReceiving objects:  93% (904/972)   \rReceiving objects:  94% (914/972)   \rReceiving objects:  95% (924/972)   \rReceiving objects:  96% (934/972)   \rReceiving objects:  97% (943/972)   \rReceiving objects:  98% (953/972)   \rReceiving objects:  99% (963/972)   \rReceiving objects: 100% (972/972)   \rReceiving objects: 100% (972/972), 549.11 KiB | 4.19 MiB/s, done.\n",
            "Resolving deltas:   0% (0/621)   \rResolving deltas:   7% (44/621)   \rResolving deltas:  12% (76/621)   \rResolving deltas:  17% (106/621)   \rResolving deltas:  19% (119/621)   \rResolving deltas:  20% (129/621)   \rResolving deltas:  21% (131/621)   \rResolving deltas:  22% (137/621)   \rResolving deltas:  23% (147/621)   \rResolving deltas:  24% (154/621)   \rResolving deltas:  26% (167/621)   \rResolving deltas:  34% (217/621)   \rResolving deltas:  35% (220/621)   \rResolving deltas:  39% (246/621)   \rResolving deltas:  40% (254/621)   \rResolving deltas:  42% (261/621)   \rResolving deltas:  43% (273/621)   \rResolving deltas:  46% (289/621)   \rResolving deltas:  47% (293/621)   \rResolving deltas:  50% (315/621)   \rResolving deltas:  55% (342/621)   \rResolving deltas:  56% (352/621)   \rResolving deltas:  57% (354/621)   \rResolving deltas:  70% (435/621)   \rResolving deltas:  71% (447/621)   \rResolving deltas:  72% (448/621)   \rResolving deltas:  74% (462/621)   \rResolving deltas:  75% (468/621)   \rResolving deltas:  76% (477/621)   \rResolving deltas:  78% (488/621)   \rResolving deltas:  80% (502/621)   \rResolving deltas:  83% (517/621)   \rResolving deltas:  95% (594/621)   \rResolving deltas:  96% (600/621)   \rResolving deltas:  98% (613/621)   \rResolving deltas:  99% (616/621)   \rResolving deltas: 100% (621/621)   \rResolving deltas: 100% (621/621), done.\n"
          ],
          "name": "stdout"
        }
      ]
    },
    {
      "cell_type": "code",
      "metadata": {
        "id": "zFbzN0YL6z28",
        "colab_type": "code",
        "outputId": "bfb82950-8c74-492d-c4fe-598ea9cbe6b7",
        "colab": {
          "base_uri": "https://localhost:8080/",
          "height": 34
        }
      },
      "source": [
        "!pwd"
      ],
      "execution_count": 23,
      "outputs": [
        {
          "output_type": "stream",
          "text": [
            "/content\n"
          ],
          "name": "stdout"
        }
      ]
    },
    {
      "cell_type": "code",
      "metadata": {
        "id": "SPjMCKv762N9",
        "colab_type": "code",
        "outputId": "0bb425c3-e1ef-47da-eb0a-0cb1c7f13ac9",
        "colab": {
          "base_uri": "https://localhost:8080/",
          "height": 187
        }
      },
      "source": [
        "!ls"
      ],
      "execution_count": 24,
      "outputs": [
        {
          "output_type": "stream",
          "text": [
            "alpha-zero-general\t     models\n",
            "awesome-bert-nlp\t     pennylane\n",
            "chess-alpha-zero\t     pytorch-pretrained-BERT\n",
            "deep-reinforcement-learning  reinforcement-learning\n",
            "dopamine\t\t     Reinforcement-learning-with-tensorflow\n",
            "drive\t\t\t     sample_data\n",
            "face_recognition\t     scientific\n",
            "image_captioning\t     sockeye\n",
            "Image-Captioning\t     tensor2tensor\n",
            "leela-chess\t\t     tensorflow-image-detection\n"
          ],
          "name": "stdout"
        }
      ]
    },
    {
      "cell_type": "code",
      "metadata": {
        "id": "BePOdcPv63kR",
        "colab_type": "code",
        "outputId": "b27186e6-f9fb-4089-ba29-d328118db206",
        "colab": {
          "base_uri": "https://localhost:8080/",
          "height": 34
        }
      },
      "source": [
        "%cd pytorch-pretrained-BERT/"
      ],
      "execution_count": 25,
      "outputs": [
        {
          "output_type": "stream",
          "text": [
            "/content/pytorch-pretrained-BERT\n"
          ],
          "name": "stdout"
        }
      ]
    },
    {
      "cell_type": "code",
      "metadata": {
        "id": "2ywrly9Z69tC",
        "colab_type": "code",
        "outputId": "ac0fd9eb-4c40-4138-c7aa-d1a05d0f4ab9",
        "colab": {
          "base_uri": "https://localhost:8080/",
          "height": 51
        }
      },
      "source": [
        "!ls\n"
      ],
      "execution_count": 26,
      "outputs": [
        {
          "output_type": "stream",
          "text": [
            "bin\t  LICENSE    pytorch_pretrained_bert  requirements.txt\tsetup.py\n",
            "examples  notebooks  README.md\t\t      samples\t\ttests\n"
          ],
          "name": "stdout"
        }
      ]
    },
    {
      "cell_type": "code",
      "metadata": {
        "id": "4oOGoCq86-44",
        "colab_type": "code",
        "outputId": "76d98ca5-e9df-4272-fbc9-88cab7ed6028",
        "colab": {
          "base_uri": "https://localhost:8080/",
          "height": 34
        }
      },
      "source": [
        "%cd pytorch_pretrained_bert/\n"
      ],
      "execution_count": 27,
      "outputs": [
        {
          "output_type": "stream",
          "text": [
            "/content/pytorch-pretrained-BERT/pytorch_pretrained_bert\n"
          ],
          "name": "stdout"
        }
      ]
    },
    {
      "cell_type": "code",
      "metadata": {
        "id": "Zte1Wp4T7Haq",
        "colab_type": "code",
        "outputId": "a4df555a-5179-4d8a-aba7-8103d28c4b8a",
        "colab": {
          "base_uri": "https://localhost:8080/",
          "height": 68
        }
      },
      "source": [
        "!ls\n"
      ],
      "execution_count": 28,
      "outputs": [
        {
          "output_type": "stream",
          "text": [
            "convert_tf_checkpoint_to_pytorch.py  __main__.py      tokenization.py\n",
            "file_utils.py\t\t\t     modeling.py\n",
            "__init__.py\t\t\t     optimization.py\n"
          ],
          "name": "stdout"
        }
      ]
    },
    {
      "cell_type": "code",
      "metadata": {
        "id": "gny1m0fk7IkQ",
        "colab_type": "code",
        "outputId": "b319229d-03ab-4a40-d056-b42d6db7dc60",
        "colab": {
          "base_uri": "https://localhost:8080/",
          "height": 34
        }
      },
      "source": [
        "%cd ../examples/"
      ],
      "execution_count": 29,
      "outputs": [
        {
          "output_type": "stream",
          "text": [
            "/content/pytorch-pretrained-BERT/examples\n"
          ],
          "name": "stdout"
        }
      ]
    },
    {
      "cell_type": "code",
      "metadata": {
        "id": "4ZUyGGjd7Mi5",
        "colab_type": "code",
        "outputId": "9b846325-4715-49c9-b8cd-95b702f0165d",
        "colab": {
          "base_uri": "https://localhost:8080/",
          "height": 34
        }
      },
      "source": [
        "!ls\n"
      ],
      "execution_count": 30,
      "outputs": [
        {
          "output_type": "stream",
          "text": [
            "extract_features.py  run_classifier.py\trun_squad.py\n"
          ],
          "name": "stdout"
        }
      ]
    },
    {
      "cell_type": "code",
      "metadata": {
        "id": "93Ishcc27NU5",
        "colab_type": "code",
        "outputId": "8e549d54-90c0-4ef4-d263-f88c79b7f63b",
        "colab": {
          "base_uri": "https://localhost:8080/",
          "height": 734
        }
      },
      "source": [
        "!python extract_features.py --input_file ../samples/input.txt --output_file results.out --bert_model bert-base-chinese"
      ],
      "execution_count": 31,
      "outputs": [
        {
          "output_type": "stream",
          "text": [
            "11/23/2019 02:58:53 - INFO - __main__ -   device: cpu n_gpu: 0 distributed training: False\n",
            "11/23/2019 02:58:53 - WARNING - pytorch_pretrained_bert.tokenization -   The pre-trained model you are loading is an uncased model but you have set `do_lower_case` to False. We are setting `do_lower_case=True` for you but you may want to check this behavior.\n",
            "11/23/2019 02:58:54 - INFO - pytorch_pretrained_bert.file_utils -   https://s3.amazonaws.com/models.huggingface.co/bert/bert-base-chinese-vocab.txt not found in cache, downloading to /tmp/tmp07l3cei0\n",
            "100% 109540/109540 [00:00<00:00, 1673096.68B/s]\n",
            "11/23/2019 02:58:54 - INFO - pytorch_pretrained_bert.file_utils -   copying /tmp/tmp07l3cei0 to cache at /root/.pytorch_pretrained_bert/8a0c070123c1f794c42a29c6904beb7c1b8715741e235bee04aca2c7636fc83f.9b42061518a39ca00b8b52059fd2bede8daa613f8a8671500e518a8c29de8c00\n",
            "11/23/2019 02:58:54 - INFO - pytorch_pretrained_bert.file_utils -   creating metadata file for /root/.pytorch_pretrained_bert/8a0c070123c1f794c42a29c6904beb7c1b8715741e235bee04aca2c7636fc83f.9b42061518a39ca00b8b52059fd2bede8daa613f8a8671500e518a8c29de8c00\n",
            "11/23/2019 02:58:54 - INFO - pytorch_pretrained_bert.file_utils -   removing temp file /tmp/tmp07l3cei0\n",
            "11/23/2019 02:58:54 - INFO - pytorch_pretrained_bert.tokenization -   loading vocabulary file https://s3.amazonaws.com/models.huggingface.co/bert/bert-base-chinese-vocab.txt from cache at /root/.pytorch_pretrained_bert/8a0c070123c1f794c42a29c6904beb7c1b8715741e235bee04aca2c7636fc83f.9b42061518a39ca00b8b52059fd2bede8daa613f8a8671500e518a8c29de8c00\n",
            "11/23/2019 02:58:54 - INFO - __main__ -   *** Example ***\n",
            "11/23/2019 02:58:54 - INFO - __main__ -   unique_id: 0\n",
            "11/23/2019 02:58:54 - INFO - __main__ -   tokens: [CLS] who was jim he ##ns ##on ? [SEP] jim he ##ns ##on was a pu ##pp ##et ##ee ##r [SEP]\n",
            "11/23/2019 02:58:54 - INFO - __main__ -   input_ids: 101 9372 9947 11268 9245 8727 8224 136 102 11268 9245 8727 8224 9947 143 11227 9586 8418 8854 8180 102 0 0 0 0 0 0 0 0 0 0 0 0 0 0 0 0 0 0 0 0 0 0 0 0 0 0 0 0 0 0 0 0 0 0 0 0 0 0 0 0 0 0 0 0 0 0 0 0 0 0 0 0 0 0 0 0 0 0 0 0 0 0 0 0 0 0 0 0 0 0 0 0 0 0 0 0 0 0 0 0 0 0 0 0 0 0 0 0 0 0 0 0 0 0 0 0 0 0 0 0 0 0 0 0 0 0 0\n",
            "11/23/2019 02:58:54 - INFO - __main__ -   input_mask: 1 1 1 1 1 1 1 1 1 1 1 1 1 1 1 1 1 1 1 1 1 0 0 0 0 0 0 0 0 0 0 0 0 0 0 0 0 0 0 0 0 0 0 0 0 0 0 0 0 0 0 0 0 0 0 0 0 0 0 0 0 0 0 0 0 0 0 0 0 0 0 0 0 0 0 0 0 0 0 0 0 0 0 0 0 0 0 0 0 0 0 0 0 0 0 0 0 0 0 0 0 0 0 0 0 0 0 0 0 0 0 0 0 0 0 0 0 0 0 0 0 0 0 0 0 0 0 0\n",
            "11/23/2019 02:58:54 - INFO - __main__ -   input_type_ids: 0 0 0 0 0 0 0 0 0 1 1 1 1 1 1 1 1 1 1 1 1 0 0 0 0 0 0 0 0 0 0 0 0 0 0 0 0 0 0 0 0 0 0 0 0 0 0 0 0 0 0 0 0 0 0 0 0 0 0 0 0 0 0 0 0 0 0 0 0 0 0 0 0 0 0 0 0 0 0 0 0 0 0 0 0 0 0 0 0 0 0 0 0 0 0 0 0 0 0 0 0 0 0 0 0 0 0 0 0 0 0 0 0 0 0 0 0 0 0 0 0 0 0 0 0 0 0 0\n",
            "11/23/2019 02:58:54 - INFO - pytorch_pretrained_bert.file_utils -   https://s3.amazonaws.com/models.huggingface.co/bert/bert-base-chinese.tar.gz not found in cache, downloading to /tmp/tmpfdldsl2a\n",
            "100% 382072689/382072689 [00:06<00:00, 55700323.84B/s]\n",
            "11/23/2019 02:59:01 - INFO - pytorch_pretrained_bert.file_utils -   copying /tmp/tmpfdldsl2a to cache at /root/.pytorch_pretrained_bert/42d4a64dda3243ffeca7ec268d5544122e67d9d06b971608796b483925716512.02ac7d664cff08d793eb00d6aac1d04368a1322435e5fe0a27c70b0b3a85327f\n",
            "11/23/2019 02:59:02 - INFO - pytorch_pretrained_bert.file_utils -   creating metadata file for /root/.pytorch_pretrained_bert/42d4a64dda3243ffeca7ec268d5544122e67d9d06b971608796b483925716512.02ac7d664cff08d793eb00d6aac1d04368a1322435e5fe0a27c70b0b3a85327f\n",
            "11/23/2019 02:59:02 - INFO - pytorch_pretrained_bert.file_utils -   removing temp file /tmp/tmpfdldsl2a\n",
            "11/23/2019 02:59:02 - INFO - pytorch_pretrained_bert.modeling -   loading archive file https://s3.amazonaws.com/models.huggingface.co/bert/bert-base-chinese.tar.gz from cache at /root/.pytorch_pretrained_bert/42d4a64dda3243ffeca7ec268d5544122e67d9d06b971608796b483925716512.02ac7d664cff08d793eb00d6aac1d04368a1322435e5fe0a27c70b0b3a85327f\n",
            "11/23/2019 02:59:02 - INFO - pytorch_pretrained_bert.modeling -   extracting archive file /root/.pytorch_pretrained_bert/42d4a64dda3243ffeca7ec268d5544122e67d9d06b971608796b483925716512.02ac7d664cff08d793eb00d6aac1d04368a1322435e5fe0a27c70b0b3a85327f to temp dir /tmp/tmpjmg0ktg3\n",
            "11/23/2019 02:59:06 - INFO - pytorch_pretrained_bert.modeling -   Model config {\n",
            "  \"attention_probs_dropout_prob\": 0.1,\n",
            "  \"directionality\": \"bidi\",\n",
            "  \"hidden_act\": \"gelu\",\n",
            "  \"hidden_dropout_prob\": 0.1,\n",
            "  \"hidden_size\": 768,\n",
            "  \"initializer_range\": 0.02,\n",
            "  \"intermediate_size\": 3072,\n",
            "  \"max_position_embeddings\": 512,\n",
            "  \"num_attention_heads\": 12,\n",
            "  \"num_hidden_layers\": 12,\n",
            "  \"pooler_fc_size\": 768,\n",
            "  \"pooler_num_attention_heads\": 12,\n",
            "  \"pooler_num_fc_layers\": 3,\n",
            "  \"pooler_size_per_head\": 128,\n",
            "  \"pooler_type\": \"first_token_transform\",\n",
            "  \"type_vocab_size\": 2,\n",
            "  \"vocab_size\": 21128\n",
            "}\n",
            "\n"
          ],
          "name": "stdout"
        }
      ]
    },
    {
      "cell_type": "code",
      "metadata": {
        "id": "5-VudQX88Jlb",
        "colab_type": "code",
        "outputId": "0253d004-2b8d-4c9b-e727-43b41fe2392c",
        "colab": {
          "base_uri": "https://localhost:8080/",
          "height": 51
        }
      },
      "source": [
        "%cd ..\n",
        "!pwd"
      ],
      "execution_count": 32,
      "outputs": [
        {
          "output_type": "stream",
          "text": [
            "/content/pytorch-pretrained-BERT\n",
            "/content/pytorch-pretrained-BERT\n"
          ],
          "name": "stdout"
        }
      ]
    },
    {
      "cell_type": "code",
      "metadata": {
        "id": "LohaVwiL7PxC",
        "colab_type": "code",
        "outputId": "7a8bd039-7c77-40aa-f3f2-1f5b076da5a8",
        "colab": {
          "base_uri": "https://localhost:8080/",
          "height": 462
        }
      },
      "source": [
        "!python -m pytest -sv tests/"
      ],
      "execution_count": 33,
      "outputs": [
        {
          "output_type": "stream",
          "text": [
            "\u001b[1m============================= test session starts ==============================\u001b[0m\n",
            "platform linux -- Python 3.6.8, pytest-3.6.4, py-1.8.0, pluggy-0.7.1 -- /usr/bin/python3\n",
            "cachedir: .pytest_cache\n",
            "rootdir: /content/pytorch-pretrained-BERT, inifile:\n",
            "collected 11 items                                                             \u001b[0m\n",
            "\n",
            "tests/modeling_test.py::BertModelTest::test_config_to_json_string \u001b[32mPASSED\u001b[0m\n",
            "tests/modeling_test.py::BertModelTest::test_default \u001b[32mPASSED\u001b[0m\n",
            "tests/optimization_test.py::OptimizationTest::test_adam \u001b[32mPASSED\u001b[0m\n",
            "tests/tokenization_test.py::TokenizationTest::test_basic_tokenizer_lower \u001b[32mPASSED\u001b[0m\n",
            "tests/tokenization_test.py::TokenizationTest::test_basic_tokenizer_no_lower \u001b[32mPASSED\u001b[0m\n",
            "tests/tokenization_test.py::TokenizationTest::test_chinese \u001b[32mPASSED\u001b[0m\n",
            "tests/tokenization_test.py::TokenizationTest::test_full_tokenizer \u001b[32mPASSED\u001b[0m\n",
            "tests/tokenization_test.py::TokenizationTest::test_is_control \u001b[32mPASSED\u001b[0m\n",
            "tests/tokenization_test.py::TokenizationTest::test_is_punctuation \u001b[32mPASSED\u001b[0m\n",
            "tests/tokenization_test.py::TokenizationTest::test_is_whitespace \u001b[32mPASSED\u001b[0m\n",
            "tests/tokenization_test.py::TokenizationTest::test_wordpiece_tokenizer \u001b[32mPASSED\u001b[0m\n",
            "\n",
            "\u001b[33m=============================== warnings summary ===============================\u001b[0m\n",
            "tests/optimization_test.py::OptimizationTest::test_adam\n",
            "  /usr/local/lib/python3.6/dist-packages/torch/nn/_reduction.py:13: UserWarning: reduction='elementwise_mean' is deprecated, please use reduction='mean' instead.\n",
            "    warnings.warn(\"reduction='elementwise_mean' is deprecated, please use reduction='mean' instead.\")\n",
            "\n",
            "-- Docs: http://doc.pytest.org/en/latest/warnings.html\n",
            "\u001b[33m\u001b[1m==================== 11 passed, 1 warnings in 0.80 seconds =====================\u001b[0m\n"
          ],
          "name": "stdout"
        }
      ]
    },
    {
      "cell_type": "code",
      "metadata": {
        "id": "rJIenKZvILyy",
        "colab_type": "code",
        "outputId": "b9df01ab-1afa-4daa-e1f2-de9cb4bd6ec1",
        "colab": {
          "base_uri": "https://localhost:8080/",
          "height": 34
        }
      },
      "source": [
        "%cd .."
      ],
      "execution_count": 34,
      "outputs": [
        {
          "output_type": "stream",
          "text": [
            "/content\n"
          ],
          "name": "stdout"
        }
      ]
    },
    {
      "cell_type": "code",
      "metadata": {
        "id": "xpPhiXkC8MIR",
        "colab_type": "code",
        "outputId": "be580d8f-6dcd-4ad3-e1c6-dabeae3c2ba7",
        "colab": {
          "base_uri": "https://localhost:8080/",
          "height": 102
        }
      },
      "source": [
        "!git clone https://github.com/google-research/bert.git"
      ],
      "execution_count": 35,
      "outputs": [
        {
          "output_type": "stream",
          "text": [
            "Cloning into 'bert'...\n",
            "remote: Enumerating objects: 336, done.\u001b[K\n",
            "remote: Total 336 (delta 0), reused 0 (delta 0), pack-reused 336\u001b[K\n",
            "Receiving objects: 100% (336/336), 283.40 KiB | 3.01 MiB/s, done.\n",
            "Resolving deltas: 100% (185/185), done.\n"
          ],
          "name": "stdout"
        }
      ]
    },
    {
      "cell_type": "code",
      "metadata": {
        "id": "jTvI6KP7yLn1",
        "colab_type": "code",
        "outputId": "9c43a75e-51ec-481d-f00a-db98a715b813",
        "colab": {
          "base_uri": "https://localhost:8080/",
          "height": 136
        }
      },
      "source": [
        "!git clone https://github.com/deepmipt/DeepPavlov.git"
      ],
      "execution_count": 36,
      "outputs": [
        {
          "output_type": "stream",
          "text": [
            "Cloning into 'DeepPavlov'...\n",
            "remote: Enumerating objects: 503, done.\u001b[K\n",
            "remote: Counting objects: 100% (503/503), done.\u001b[K\n",
            "remote: Compressing objects: 100% (312/312), done.\u001b[K\n",
            "remote: Total 48271 (delta 326), reused 307 (delta 186), pack-reused 47768\u001b[K\n",
            "Receiving objects: 100% (48271/48271), 34.32 MiB | 35.57 MiB/s, done.\n",
            "Resolving deltas: 100% (36725/36725), done.\n"
          ],
          "name": "stdout"
        }
      ]
    },
    {
      "cell_type": "code",
      "metadata": {
        "id": "n0I8KhndyUOm",
        "colab_type": "code",
        "outputId": "f5c8b3ef-f4e1-40a9-be4d-4d4b95200ad3",
        "colab": {
          "base_uri": "https://localhost:8080/",
          "height": 136
        }
      },
      "source": [
        "!git clone https://github.com/RasaHQ/rasa.git"
      ],
      "execution_count": 37,
      "outputs": [
        {
          "output_type": "stream",
          "text": [
            "Cloning into 'rasa'...\n",
            "remote: Enumerating objects: 13632, done.\u001b[K\n",
            "remote: Counting objects: 100% (13632/13632), done.\u001b[K\n",
            "remote: Compressing objects: 100% (1513/1513), done.\u001b[K\n",
            "remote: Total 943324 (delta 9571), reused 13374 (delta 9422), pack-reused 929692\u001b[K\n",
            "Receiving objects: 100% (943324/943324), 505.06 MiB | 29.59 MiB/s, done.\n",
            "Resolving deltas: 100% (770983/770983), done.\n"
          ],
          "name": "stdout"
        }
      ]
    },
    {
      "cell_type": "code",
      "metadata": {
        "id": "DEtiRa7ymiei",
        "colab_type": "code",
        "outputId": "a882a9c2-fb40-4a9d-98a7-641cd3813842",
        "colab": {
          "base_uri": "https://localhost:8080/",
          "height": 102
        }
      },
      "source": [
        "!git clone https://github.com/google/seq2seq.git"
      ],
      "execution_count": 38,
      "outputs": [
        {
          "output_type": "stream",
          "text": [
            "Cloning into 'seq2seq'...\n",
            "remote: Enumerating objects: 5995, done.\u001b[K\n",
            "remote: Total 5995 (delta 0), reused 0 (delta 0), pack-reused 5995\u001b[K\n",
            "Receiving objects: 100% (5995/5995), 1.63 MiB | 8.49 MiB/s, done.\n",
            "Resolving deltas: 100% (4189/4189), done.\n"
          ],
          "name": "stdout"
        }
      ]
    },
    {
      "cell_type": "code",
      "metadata": {
        "id": "QLL2PLDymkRn",
        "colab_type": "code",
        "outputId": "5bd4e305-d7de-4873-fa0a-c5490a0bbcad",
        "colab": {
          "base_uri": "https://localhost:8080/",
          "height": 136
        }
      },
      "source": [
        "!git clone https://github.com/dragen1860/TensorFlow-2.x-Tutorials.git"
      ],
      "execution_count": 39,
      "outputs": [
        {
          "output_type": "stream",
          "text": [
            "Cloning into 'TensorFlow-2.x-Tutorials'...\n",
            "remote: Enumerating objects: 92, done.\u001b[K\n",
            "remote: Counting objects:   1% (1/92)\u001b[K\rremote: Counting objects:   2% (2/92)\u001b[K\rremote: Counting objects:   3% (3/92)\u001b[K\rremote: Counting objects:   4% (4/92)\u001b[K\rremote: Counting objects:   5% (5/92)\u001b[K\rremote: Counting objects:   6% (6/92)\u001b[K\rremote: Counting objects:   7% (7/92)\u001b[K\rremote: Counting objects:   8% (8/92)\u001b[K\rremote: Counting objects:   9% (9/92)\u001b[K\rremote: Counting objects:  10% (10/92)\u001b[K\rremote: Counting objects:  11% (11/92)\u001b[K\rremote: Counting objects:  13% (12/92)\u001b[K\rremote: Counting objects:  14% (13/92)\u001b[K\rremote: Counting objects:  15% (14/92)\u001b[K\rremote: Counting objects:  16% (15/92)\u001b[K\rremote: Counting objects:  17% (16/92)\u001b[K\rremote: Counting objects:  18% (17/92)\u001b[K\rremote: Counting objects:  19% (18/92)\u001b[K\rremote: Counting objects:  20% (19/92)\u001b[K\rremote: Counting objects:  21% (20/92)\u001b[K\rremote: Counting objects:  22% (21/92)\u001b[K\rremote: Counting objects:  23% (22/92)\u001b[K\rremote: Counting objects:  25% (23/92)\u001b[K\rremote: Counting objects:  26% (24/92)\u001b[K\rremote: Counting objects:  27% (25/92)\u001b[K\rremote: Counting objects:  28% (26/92)\u001b[K\rremote: Counting objects:  29% (27/92)\u001b[K\rremote: Counting objects:  30% (28/92)\u001b[K\rremote: Counting objects:  31% (29/92)\u001b[K\rremote: Counting objects:  32% (30/92)\u001b[K\rremote: Counting objects:  33% (31/92)\u001b[K\rremote: Counting objects:  34% (32/92)\u001b[K\rremote: Counting objects:  35% (33/92)\u001b[K\rremote: Counting objects:  36% (34/92)\u001b[K\rremote: Counting objects:  38% (35/92)\u001b[K\rremote: Counting objects:  39% (36/92)\u001b[K\rremote: Counting objects:  40% (37/92)\u001b[K\rremote: Counting objects:  41% (38/92)\u001b[K\rremote: Counting objects:  42% (39/92)\u001b[K\rremote: Counting objects:  43% (40/92)\u001b[K\rremote: Counting objects:  44% (41/92)\u001b[K\rremote: Counting objects:  45% (42/92)\u001b[K\rremote: Counting objects:  46% (43/92)\u001b[K\rremote: Counting objects:  47% (44/92)\u001b[K\rremote: Counting objects:  48% (45/92)\u001b[K\rremote: Counting objects:  50% (46/92)\u001b[K\rremote: Counting objects:  51% (47/92)\u001b[K\rremote: Counting objects:  52% (48/92)\u001b[K\rremote: Counting objects:  53% (49/92)\u001b[K\rremote: Counting objects:  54% (50/92)\u001b[K\rremote: Counting objects:  55% (51/92)\u001b[K\rremote: Counting objects:  56% (52/92)\u001b[K\rremote: Counting objects:  57% (53/92)\u001b[K\rremote: Counting objects:  58% (54/92)\u001b[K\rremote: Counting objects:  59% (55/92)\u001b[K\rremote: Counting objects:  60% (56/92)\u001b[K\rremote: Counting objects:  61% (57/92)\u001b[K\rremote: Counting objects:  63% (58/92)\u001b[K\rremote: Counting objects:  64% (59/92)\u001b[K\rremote: Counting objects:  65% (60/92)\u001b[K\rremote: Counting objects:  66% (61/92)\u001b[K\rremote: Counting objects:  67% (62/92)\u001b[K\rremote: Counting objects:  68% (63/92)\u001b[K\rremote: Counting objects:  69% (64/92)\u001b[K\rremote: Counting objects:  70% (65/92)\u001b[K\rremote: Counting objects:  71% (66/92)\u001b[K\rremote: Counting objects:  72% (67/92)\u001b[K\rremote: Counting objects:  73% (68/92)\u001b[K\rremote: Counting objects:  75% (69/92)\u001b[K\rremote: Counting objects:  76% (70/92)\u001b[K\rremote: Counting objects:  77% (71/92)\u001b[K\rremote: Counting objects:  78% (72/92)\u001b[K\rremote: Counting objects:  79% (73/92)\u001b[K\rremote: Counting objects:  80% (74/92)\u001b[K\rremote: Counting objects:  81% (75/92)\u001b[K\rremote: Counting objects:  82% (76/92)\u001b[K\rremote: Counting objects:  83% (77/92)\u001b[K\rremote: Counting objects:  84% (78/92)\u001b[K\rremote: Counting objects:  85% (79/92)\u001b[K\rremote: Counting objects:  86% (80/92)\u001b[K\rremote: Counting objects:  88% (81/92)\u001b[K\rremote: Counting objects:  89% (82/92)\u001b[K\rremote: Counting objects:  90% (83/92)\u001b[K\rremote: Counting objects:  91% (84/92)\u001b[K\rremote: Counting objects:  92% (85/92)\u001b[K\rremote: Counting objects:  93% (86/92)\u001b[K\rremote: Counting objects:  94% (87/92)\u001b[K\rremote: Counting objects:  95% (88/92)\u001b[K\rremote: Counting objects:  96% (89/92)\u001b[K\rremote: Counting objects:  97% (90/92)\u001b[K\rremote: Counting objects:  98% (91/92)\u001b[K\rremote: Counting objects: 100% (92/92)\u001b[K\rremote: Counting objects: 100% (92/92), done.\u001b[K\n",
            "remote: Compressing objects: 100% (69/69), done.\u001b[K\n",
            "remote: Total 1727 (delta 35), reused 49 (delta 23), pack-reused 1635\u001b[K\n",
            "Receiving objects: 100% (1727/1727), 158.95 MiB | 43.96 MiB/s, done.\n",
            "Resolving deltas: 100% (660/660), done.\n"
          ],
          "name": "stdout"
        }
      ]
    },
    {
      "cell_type": "code",
      "metadata": {
        "id": "mt9Moc8p583p",
        "colab_type": "code",
        "outputId": "ec2263b7-afe2-4ce9-a361-c1fd65ff7bfb",
        "colab": {
          "base_uri": "https://localhost:8080/",
          "height": 119
        }
      },
      "source": [
        "!git clone https://github.com/tensorflow/tensorflow.git"
      ],
      "execution_count": 40,
      "outputs": [
        {
          "output_type": "stream",
          "text": [
            "Cloning into 'tensorflow'...\n",
            "remote: Enumerating objects: 769641, done.\u001b[K\n",
            "remote: Total 769641 (delta 0), reused 0 (delta 0), pack-reused 769641\u001b[K\n",
            "Receiving objects: 100% (769641/769641), 433.52 MiB | 30.65 MiB/s, done.\n",
            "Resolving deltas: 100% (622001/622001), done.\n",
            "Checking out files: 100% (19298/19298), done.\n"
          ],
          "name": "stdout"
        }
      ]
    },
    {
      "cell_type": "code",
      "metadata": {
        "id": "VXroyZLs6P5z",
        "colab_type": "code",
        "outputId": "fd5c6e26-cdc1-41da-ffff-f996a20264d0",
        "colab": {
          "base_uri": "https://localhost:8080/",
          "height": 85
        }
      },
      "source": [
        "!git clone https://github.com/sujaybabruwad/LeNet-in-Tensorflow.git"
      ],
      "execution_count": 41,
      "outputs": [
        {
          "output_type": "stream",
          "text": [
            "Cloning into 'LeNet-in-Tensorflow'...\n",
            "remote: Enumerating objects: 31, done.\u001b[K\n",
            "remote: Total 31 (delta 0), reused 0 (delta 0), pack-reused 31\u001b[K\n",
            "Unpacking objects: 100% (31/31), done.\n"
          ],
          "name": "stdout"
        }
      ]
    },
    {
      "cell_type": "code",
      "metadata": {
        "id": "PuqUeJibyFsI",
        "colab_type": "code",
        "outputId": "85843914-3f7e-4385-dfb4-8c9d90e3a459",
        "colab": {
          "base_uri": "https://localhost:8080/",
          "height": 102
        }
      },
      "source": [
        "!git clone https://github.com/tensorflow/playground.git"
      ],
      "execution_count": 42,
      "outputs": [
        {
          "output_type": "stream",
          "text": [
            "Cloning into 'playground'...\n",
            "remote: Enumerating objects: 1223, done.\u001b[K\n",
            "remote: Total 1223 (delta 0), reused 0 (delta 0), pack-reused 1223\u001b[K\n",
            "Receiving objects: 100% (1223/1223), 1.17 MiB | 7.01 MiB/s, done.\n",
            "Resolving deltas: 100% (770/770), done.\n"
          ],
          "name": "stdout"
        }
      ]
    },
    {
      "cell_type": "code",
      "metadata": {
        "id": "O7IyUdsbyJcS",
        "colab_type": "code",
        "outputId": "bf736959-5127-4104-fddc-023357e177a9",
        "colab": {
          "base_uri": "https://localhost:8080/",
          "height": 136
        }
      },
      "source": [
        "!git clone https://github.com/pytorch/vision.git\n"
      ],
      "execution_count": 43,
      "outputs": [
        {
          "output_type": "stream",
          "text": [
            "Cloning into 'vision'...\n",
            "remote: Enumerating objects: 11, done.\u001b[K\n",
            "remote: Counting objects:   9% (1/11)\u001b[K\rremote: Counting objects:  18% (2/11)\u001b[K\rremote: Counting objects:  27% (3/11)\u001b[K\rremote: Counting objects:  36% (4/11)\u001b[K\rremote: Counting objects:  45% (5/11)\u001b[K\rremote: Counting objects:  54% (6/11)\u001b[K\rremote: Counting objects:  63% (7/11)\u001b[K\rremote: Counting objects:  72% (8/11)\u001b[K\rremote: Counting objects:  81% (9/11)\u001b[K\rremote: Counting objects:  90% (10/11)\u001b[K\rremote: Counting objects: 100% (11/11)\u001b[K\rremote: Counting objects: 100% (11/11), done.\u001b[K\n",
            "remote: Compressing objects: 100% (11/11), done.\u001b[K\n",
            "remote: Total 5928 (delta 2), reused 3 (delta 0), pack-reused 5917\u001b[K\n",
            "Receiving objects: 100% (5928/5928), 9.53 MiB | 17.08 MiB/s, done.\n",
            "Resolving deltas: 100% (3938/3938), done.\n"
          ],
          "name": "stdout"
        }
      ]
    },
    {
      "cell_type": "code",
      "metadata": {
        "id": "ZS_-5x7lzK5A",
        "colab_type": "code",
        "outputId": "877ae17a-077c-4f3c-9253-0b68edfcff90",
        "colab": {
          "base_uri": "https://localhost:8080/",
          "height": 102
        }
      },
      "source": [
        "!git clone https://github.com/ry/tensorflow-resnet.git"
      ],
      "execution_count": 44,
      "outputs": [
        {
          "output_type": "stream",
          "text": [
            "Cloning into 'tensorflow-resnet'...\n",
            "remote: Enumerating objects: 294, done.\u001b[K\n",
            "remote: Total 294 (delta 0), reused 0 (delta 0), pack-reused 294\u001b[K\n",
            "Receiving objects: 100% (294/294), 1.39 MiB | 7.05 MiB/s, done.\n",
            "Resolving deltas: 100% (162/162), done.\n"
          ],
          "name": "stdout"
        }
      ]
    },
    {
      "cell_type": "code",
      "metadata": {
        "id": "xpQJ2ZJfzyrp",
        "colab_type": "code",
        "outputId": "2951551f-d102-466e-b945-5a4303f856e2",
        "colab": {
          "base_uri": "https://localhost:8080/",
          "height": 102
        }
      },
      "source": [
        "!git clone https://github.com/tensorflow/swift-models.git"
      ],
      "execution_count": 45,
      "outputs": [
        {
          "output_type": "stream",
          "text": [
            "Cloning into 'swift-models'...\n",
            "remote: Enumerating objects: 1396, done.\u001b[K\n",
            "remote: Total 1396 (delta 0), reused 0 (delta 0), pack-reused 1396\u001b[K\n",
            "Receiving objects: 100% (1396/1396), 16.46 MiB | 21.15 MiB/s, done.\n",
            "Resolving deltas: 100% (773/773), done.\n"
          ],
          "name": "stdout"
        }
      ]
    },
    {
      "cell_type": "code",
      "metadata": {
        "id": "Yi48YLYiz3kp",
        "colab_type": "code",
        "outputId": "47ffb3a0-8121-4fd8-b512-e58b4067aebd",
        "colab": {
          "base_uri": "https://localhost:8080/",
          "height": 136
        }
      },
      "source": [
        "!git clone https://github.com/tensorflow/lattice.git"
      ],
      "execution_count": 46,
      "outputs": [
        {
          "output_type": "stream",
          "text": [
            "Cloning into 'lattice'...\n",
            "remote: Enumerating objects: 86, done.\u001b[K\n",
            "remote: Counting objects:   1% (1/86)\u001b[K\rremote: Counting objects:   2% (2/86)\u001b[K\rremote: Counting objects:   3% (3/86)\u001b[K\rremote: Counting objects:   4% (4/86)\u001b[K\rremote: Counting objects:   5% (5/86)\u001b[K\rremote: Counting objects:   6% (6/86)\u001b[K\rremote: Counting objects:   8% (7/86)\u001b[K\rremote: Counting objects:   9% (8/86)\u001b[K\rremote: Counting objects:  10% (9/86)\u001b[K\rremote: Counting objects:  11% (10/86)\u001b[K\rremote: Counting objects:  12% (11/86)\u001b[K\rremote: Counting objects:  13% (12/86)\u001b[K\rremote: Counting objects:  15% (13/86)\u001b[K\rremote: Counting objects:  16% (14/86)\u001b[K\rremote: Counting objects:  17% (15/86)\u001b[K\rremote: Counting objects:  18% (16/86)\u001b[K\rremote: Counting objects:  19% (17/86)\u001b[K\rremote: Counting objects:  20% (18/86)\u001b[K\rremote: Counting objects:  22% (19/86)\u001b[K\rremote: Counting objects:  23% (20/86)\u001b[K\rremote: Counting objects:  24% (21/86)\u001b[K\rremote: Counting objects:  25% (22/86)\u001b[K\rremote: Counting objects:  26% (23/86)\u001b[K\rremote: Counting objects:  27% (24/86)\u001b[K\rremote: Counting objects:  29% (25/86)\u001b[K\rremote: Counting objects:  30% (26/86)\u001b[K\rremote: Counting objects:  31% (27/86)\u001b[K\rremote: Counting objects:  32% (28/86)\u001b[K\rremote: Counting objects:  33% (29/86)\u001b[K\rremote: Counting objects:  34% (30/86)\u001b[K\rremote: Counting objects:  36% (31/86)\u001b[K\rremote: Counting objects:  37% (32/86)\u001b[K\rremote: Counting objects:  38% (33/86)\u001b[K\rremote: Counting objects:  39% (34/86)\u001b[K\rremote: Counting objects:  40% (35/86)\u001b[K\rremote: Counting objects:  41% (36/86)\u001b[K\rremote: Counting objects:  43% (37/86)\u001b[K\rremote: Counting objects:  44% (38/86)\u001b[K\rremote: Counting objects:  45% (39/86)\u001b[K\rremote: Counting objects:  46% (40/86)\u001b[K\rremote: Counting objects:  47% (41/86)\u001b[K\rremote: Counting objects:  48% (42/86)\u001b[K\rremote: Counting objects:  50% (43/86)\u001b[K\rremote: Counting objects:  51% (44/86)\u001b[K\rremote: Counting objects:  52% (45/86)\u001b[K\rremote: Counting objects:  53% (46/86)\u001b[K\rremote: Counting objects:  54% (47/86)\u001b[K\rremote: Counting objects:  55% (48/86)\u001b[K\rremote: Counting objects:  56% (49/86)\u001b[K\rremote: Counting objects:  58% (50/86)\u001b[K\rremote: Counting objects:  59% (51/86)\u001b[K\rremote: Counting objects:  60% (52/86)\u001b[K\rremote: Counting objects:  61% (53/86)\u001b[K\rremote: Counting objects:  62% (54/86)\u001b[K\rremote: Counting objects:  63% (55/86)\u001b[K\rremote: Counting objects:  65% (56/86)\u001b[K\rremote: Counting objects:  66% (57/86)\u001b[K\rremote: Counting objects:  67% (58/86)\u001b[K\rremote: Counting objects:  68% (59/86)\u001b[K\rremote: Counting objects:  69% (60/86)\u001b[K\rremote: Counting objects:  70% (61/86)\u001b[K\rremote: Counting objects:  72% (62/86)\u001b[K\rremote: Counting objects:  73% (63/86)\u001b[K\rremote: Counting objects:  74% (64/86)\u001b[K\rremote: Counting objects:  75% (65/86)\u001b[K\rremote: Counting objects:  76% (66/86)\u001b[K\rremote: Counting objects:  77% (67/86)\u001b[K\rremote: Counting objects:  79% (68/86)\u001b[K\rremote: Counting objects:  80% (69/86)\u001b[K\rremote: Counting objects:  81% (70/86)\u001b[K\rremote: Counting objects:  82% (71/86)\u001b[K\rremote: Counting objects:  83% (72/86)\u001b[K\rremote: Counting objects:  84% (73/86)\u001b[K\rremote: Counting objects:  86% (74/86)\u001b[K\rremote: Counting objects:  87% (75/86)\u001b[K\rremote: Counting objects:  88% (76/86)\u001b[K\rremote: Counting objects:  89% (77/86)\u001b[K\rremote: Counting objects:  90% (78/86)\u001b[K\rremote: Counting objects:  91% (79/86)\u001b[K\rremote: Counting objects:  93% (80/86)\u001b[K\rremote: Counting objects:  94% (81/86)\u001b[K\rremote: Counting objects:  95% (82/86)\u001b[K\rremote: Counting objects:  96% (83/86)\u001b[K\rremote: Counting objects:  97% (84/86)\u001b[K\rremote: Counting objects:  98% (85/86)\u001b[K\rremote: Counting objects: 100% (86/86)\u001b[K\rremote: Counting objects: 100% (86/86), done.\u001b[K\n",
            "remote: Compressing objects: 100% (83/83), done.\u001b[K\n",
            "remote: Total 609 (delta 25), reused 23 (delta 3), pack-reused 523\u001b[K\n",
            "Receiving objects: 100% (609/609), 849.63 KiB | 6.25 MiB/s, done.\n",
            "Resolving deltas: 100% (332/332), done.\n"
          ],
          "name": "stdout"
        }
      ]
    },
    {
      "cell_type": "code",
      "metadata": {
        "id": "2edQA8J0Vw5L",
        "colab_type": "code",
        "outputId": "dd466022-0579-4b9a-e716-02baad117636",
        "colab": {
          "base_uri": "https://localhost:8080/",
          "height": 102
        }
      },
      "source": [
        "!git clone https://github.com/dipanjanS/hands-on-transfer-learning-with-python.git"
      ],
      "execution_count": 47,
      "outputs": [
        {
          "output_type": "stream",
          "text": [
            "Cloning into 'hands-on-transfer-learning-with-python'...\n",
            "remote: Enumerating objects: 184, done.\u001b[K\n",
            "remote: Total 184 (delta 0), reused 0 (delta 0), pack-reused 184\u001b[K\n",
            "Receiving objects: 100% (184/184), 38.33 MiB | 34.04 MiB/s, done.\n",
            "Resolving deltas: 100% (40/40), done.\n"
          ],
          "name": "stdout"
        }
      ]
    },
    {
      "cell_type": "code",
      "metadata": {
        "id": "d6_goA7bVytW",
        "colab_type": "code",
        "outputId": "878802cb-79d7-4904-e213-c50d075bb1b3",
        "colab": {
          "base_uri": "https://localhost:8080/",
          "height": 119
        }
      },
      "source": [
        "!git clone https://github.com/huggingface/transfer-learning-conv-ai.git"
      ],
      "execution_count": 48,
      "outputs": [
        {
          "output_type": "stream",
          "text": [
            "Cloning into 'transfer-learning-conv-ai'...\n",
            "remote: Enumerating objects: 3, done.\u001b[K\n",
            "remote: Counting objects:  33% (1/3)\u001b[K\rremote: Counting objects:  66% (2/3)\u001b[K\rremote: Counting objects: 100% (3/3)\u001b[K\rremote: Counting objects: 100% (3/3), done.\u001b[K\n",
            "remote: Compressing objects:  33% (1/3)\u001b[K\rremote: Compressing objects:  66% (2/3)\u001b[K\rremote: Compressing objects: 100% (3/3)\u001b[K\rremote: Compressing objects: 100% (3/3), done.\u001b[K\n",
            "Unpacking objects:   1% (1/99)   \rUnpacking objects:   2% (2/99)   \rUnpacking objects:   3% (3/99)   \rUnpacking objects:   4% (4/99)   \rUnpacking objects:   5% (5/99)   \rUnpacking objects:   6% (6/99)   \rUnpacking objects:   7% (7/99)   \rUnpacking objects:   8% (8/99)   \rUnpacking objects:   9% (9/99)   \rUnpacking objects:  10% (10/99)   \rUnpacking objects:  11% (11/99)   \rUnpacking objects:  12% (12/99)   \rUnpacking objects:  13% (13/99)   \rUnpacking objects:  14% (14/99)   \rUnpacking objects:  15% (15/99)   \rUnpacking objects:  16% (16/99)   \rUnpacking objects:  17% (17/99)   \rUnpacking objects:  18% (18/99)   \rremote: Total 99 (delta 0), reused 0 (delta 0), pack-reused 96\u001b[K\n",
            "Unpacking objects:  19% (19/99)   \rUnpacking objects:  20% (20/99)   \rUnpacking objects:  21% (21/99)   \rUnpacking objects:  22% (22/99)   \rUnpacking objects:  23% (23/99)   \rUnpacking objects:  24% (24/99)   \rUnpacking objects:  25% (25/99)   \rUnpacking objects:  26% (26/99)   \rUnpacking objects:  27% (27/99)   \rUnpacking objects:  28% (28/99)   \rUnpacking objects:  29% (29/99)   \rUnpacking objects:  30% (30/99)   \rUnpacking objects:  31% (31/99)   \rUnpacking objects:  32% (32/99)   \rUnpacking objects:  33% (33/99)   \rUnpacking objects:  34% (34/99)   \rUnpacking objects:  35% (35/99)   \rUnpacking objects:  36% (36/99)   \rUnpacking objects:  37% (37/99)   \rUnpacking objects:  38% (38/99)   \rUnpacking objects:  39% (39/99)   \rUnpacking objects:  40% (40/99)   \rUnpacking objects:  41% (41/99)   \rUnpacking objects:  42% (42/99)   \rUnpacking objects:  43% (43/99)   \rUnpacking objects:  44% (44/99)   \rUnpacking objects:  45% (45/99)   \rUnpacking objects:  46% (46/99)   \rUnpacking objects:  47% (47/99)   \rUnpacking objects:  48% (48/99)   \rUnpacking objects:  49% (49/99)   \rUnpacking objects:  50% (50/99)   \rUnpacking objects:  51% (51/99)   \rUnpacking objects:  52% (52/99)   \rUnpacking objects:  53% (53/99)   \rUnpacking objects:  54% (54/99)   \rUnpacking objects:  55% (55/99)   \rUnpacking objects:  56% (56/99)   \rUnpacking objects:  57% (57/99)   \rUnpacking objects:  58% (58/99)   \rUnpacking objects:  59% (59/99)   \rUnpacking objects:  60% (60/99)   \rUnpacking objects:  61% (61/99)   \rUnpacking objects:  62% (62/99)   \rUnpacking objects:  63% (63/99)   \rUnpacking objects:  64% (64/99)   \rUnpacking objects:  65% (65/99)   \rUnpacking objects:  66% (66/99)   \rUnpacking objects:  67% (67/99)   \rUnpacking objects:  68% (68/99)   \rUnpacking objects:  69% (69/99)   \rUnpacking objects:  70% (70/99)   \rUnpacking objects:  71% (71/99)   \rUnpacking objects:  72% (72/99)   \rUnpacking objects:  73% (73/99)   \rUnpacking objects:  74% (74/99)   \rUnpacking objects:  75% (75/99)   \rUnpacking objects:  76% (76/99)   \rUnpacking objects:  77% (77/99)   \rUnpacking objects:  78% (78/99)   \rUnpacking objects:  79% (79/99)   \rUnpacking objects:  80% (80/99)   \rUnpacking objects:  81% (81/99)   \rUnpacking objects:  82% (82/99)   \rUnpacking objects:  83% (83/99)   \rUnpacking objects:  84% (84/99)   \rUnpacking objects:  85% (85/99)   \rUnpacking objects:  86% (86/99)   \rUnpacking objects:  87% (87/99)   \rUnpacking objects:  88% (88/99)   \rUnpacking objects:  89% (89/99)   \rUnpacking objects:  90% (90/99)   \rUnpacking objects:  91% (91/99)   \rUnpacking objects:  92% (92/99)   \rUnpacking objects:  93% (93/99)   \rUnpacking objects:  94% (94/99)   \rUnpacking objects:  95% (95/99)   \rUnpacking objects:  96% (96/99)   \rUnpacking objects:  97% (97/99)   \rUnpacking objects:  98% (98/99)   \rUnpacking objects: 100% (99/99)   \rUnpacking objects: 100% (99/99), done.\n"
          ],
          "name": "stdout"
        }
      ]
    },
    {
      "cell_type": "code",
      "metadata": {
        "id": "QEDQKX8hWLlQ",
        "colab_type": "code",
        "outputId": "8add5500-c5e1-455d-94b2-68c2d81d2492",
        "colab": {
          "base_uri": "https://localhost:8080/",
          "height": 119
        }
      },
      "source": [
        "!git clone https://github.com/vishalprabha/Image-Classification-Transfer-Learning-with-Inception-v3.git"
      ],
      "execution_count": 49,
      "outputs": [
        {
          "output_type": "stream",
          "text": [
            "Cloning into 'Image-Classification-Transfer-Learning-with-Inception-v3'...\n",
            "remote: Enumerating objects: 3701, done.\u001b[K\n",
            "remote: Total 3701 (delta 0), reused 0 (delta 0), pack-reused 3701\u001b[K\n",
            "Receiving objects: 100% (3701/3701), 218.76 MiB | 49.81 MiB/s, done.\n",
            "Resolving deltas: 100% (7/7), done.\n",
            "Checking out files: 100% (3684/3684), done.\n"
          ],
          "name": "stdout"
        }
      ]
    },
    {
      "cell_type": "code",
      "metadata": {
        "id": "49aPb2RiWiPf",
        "colab_type": "code",
        "outputId": "07601195-5fbd-443a-d363-d3bfe9c80bb2",
        "colab": {
          "base_uri": "https://localhost:8080/",
          "height": 85
        }
      },
      "source": [
        "!git clone https://github.com/VikasSinghBhadouria/Image-Classification-using-VGG-transfer-learning.git"
      ],
      "execution_count": 50,
      "outputs": [
        {
          "output_type": "stream",
          "text": [
            "Cloning into 'Image-Classification-using-VGG-transfer-learning'...\n",
            "remote: Enumerating objects: 6, done.\u001b[K\n",
            "remote: Total 6 (delta 0), reused 0 (delta 0), pack-reused 6\u001b[K\n",
            "Unpacking objects: 100% (6/6), done.\n"
          ],
          "name": "stdout"
        }
      ]
    },
    {
      "cell_type": "code",
      "metadata": {
        "id": "K-wEBp32WskA",
        "colab_type": "code",
        "outputId": "b22d35be-9142-48e8-9872-e1eed3aeef10",
        "colab": {
          "base_uri": "https://localhost:8080/",
          "height": 85
        }
      },
      "source": [
        "!git clone https://github.com/google/inception.git"
      ],
      "execution_count": 51,
      "outputs": [
        {
          "output_type": "stream",
          "text": [
            "Cloning into 'inception'...\n",
            "remote: Enumerating objects: 20, done.\u001b[K\n",
            "remote: Total 20 (delta 0), reused 0 (delta 0), pack-reused 20\u001b[K\n",
            "Unpacking objects: 100% (20/20), done.\n"
          ],
          "name": "stdout"
        }
      ]
    },
    {
      "cell_type": "code",
      "metadata": {
        "id": "81RrJbMfW_vX",
        "colab_type": "code",
        "outputId": "2dbc3512-7328-4009-e093-946a08473482",
        "colab": {
          "base_uri": "https://localhost:8080/",
          "height": 85
        }
      },
      "source": [
        "!git clone https://github.com/EN10/KerasModels.git"
      ],
      "execution_count": 52,
      "outputs": [
        {
          "output_type": "stream",
          "text": [
            "Cloning into 'KerasModels'...\n",
            "remote: Enumerating objects: 25, done.\u001b[K\n",
            "Unpacking objects:   4% (1/25)   \rUnpacking objects:   8% (2/25)   \rUnpacking objects:  12% (3/25)   \rUnpacking objects:  16% (4/25)   \rUnpacking objects:  20% (5/25)   \rUnpacking objects:  24% (6/25)   \rUnpacking objects:  28% (7/25)   \rUnpacking objects:  32% (8/25)   \rUnpacking objects:  36% (9/25)   \rremote: Total 25 (delta 0), reused 0 (delta 0), pack-reused 25\u001b[K\n",
            "Unpacking objects:  40% (10/25)   \rUnpacking objects:  44% (11/25)   \rUnpacking objects:  48% (12/25)   \rUnpacking objects:  52% (13/25)   \rUnpacking objects:  56% (14/25)   \rUnpacking objects:  60% (15/25)   \rUnpacking objects:  64% (16/25)   \rUnpacking objects:  68% (17/25)   \rUnpacking objects:  72% (18/25)   \rUnpacking objects:  76% (19/25)   \rUnpacking objects:  80% (20/25)   \rUnpacking objects:  84% (21/25)   \rUnpacking objects:  88% (22/25)   \rUnpacking objects:  92% (23/25)   \rUnpacking objects:  96% (24/25)   \rUnpacking objects: 100% (25/25)   \rUnpacking objects: 100% (25/25), done.\n"
          ],
          "name": "stdout"
        }
      ]
    },
    {
      "cell_type": "code",
      "metadata": {
        "id": "6qoMggpeZey2",
        "colab_type": "code",
        "outputId": "9263375e-ac3e-45e9-bcf0-12a629fce3ae",
        "colab": {
          "base_uri": "https://localhost:8080/",
          "height": 85
        }
      },
      "source": [
        "!git clone https://github.com/alexwolf22/tensor2tensor_translator.git"
      ],
      "execution_count": 53,
      "outputs": [
        {
          "output_type": "stream",
          "text": [
            "Cloning into 'tensor2tensor_translator'...\n",
            "remote: Enumerating objects: 15, done.\u001b[K\n",
            "remote: Total 15 (delta 0), reused 0 (delta 0), pack-reused 15\u001b[K\n",
            "Unpacking objects: 100% (15/15), done.\n"
          ],
          "name": "stdout"
        }
      ]
    },
    {
      "cell_type": "code",
      "metadata": {
        "id": "pjwMaqstYvPK",
        "colab_type": "code",
        "colab": {}
      },
      "source": [
        "%load  https://colab.sandbox.google.com/github/tensorflow/docs/blob/master/site/en/tutorials/text/text_generation.ipynb"
      ],
      "execution_count": 0,
      "outputs": []
    },
    {
      "cell_type": "code",
      "metadata": {
        "id": "NgPA86jgXXff",
        "colab_type": "code",
        "colab": {
          "base_uri": "https://localhost:8080/",
          "height": 102
        },
        "outputId": "fcf0ec04-90e0-47da-ffc6-84da607e4d57"
      },
      "source": [
        "!git clone https://github.com/openai/gym.git"
      ],
      "execution_count": 55,
      "outputs": [
        {
          "output_type": "stream",
          "text": [
            "Cloning into 'gym'...\n",
            "remote: Enumerating objects: 10172, done.\u001b[K\n",
            "remote: Total 10172 (delta 0), reused 0 (delta 0), pack-reused 10172\u001b[K\n",
            "Receiving objects: 100% (10172/10172), 3.92 MiB | 15.58 MiB/s, done.\n",
            "Resolving deltas: 100% (6849/6849), done.\n"
          ],
          "name": "stdout"
        }
      ]
    },
    {
      "cell_type": "code",
      "metadata": {
        "id": "XItgXXKvXcaj",
        "colab_type": "code",
        "colab": {
          "base_uri": "https://localhost:8080/",
          "height": 85
        },
        "outputId": "71a1efc9-ea6f-4779-9611-43a470f427e2"
      },
      "source": [
        "!git clone https://github.com/MasazI/dqn-gym.git"
      ],
      "execution_count": 56,
      "outputs": [
        {
          "output_type": "stream",
          "text": [
            "Cloning into 'dqn-gym'...\n",
            "remote: Enumerating objects: 44, done.\u001b[K\n",
            "remote: Total 44 (delta 0), reused 0 (delta 0), pack-reused 44\u001b[K\n",
            "Unpacking objects: 100% (44/44), done.\n"
          ],
          "name": "stdout"
        }
      ]
    },
    {
      "cell_type": "code",
      "metadata": {
        "id": "6lU--azheMKH",
        "colab_type": "code",
        "colab": {
          "base_uri": "https://localhost:8080/",
          "height": 34
        },
        "outputId": "b2367c6d-3cb1-4667-df73-be09f5cf35af"
      },
      "source": [
        "!git clone https://github.com/dennybritz/reinforcement-learning.git"
      ],
      "execution_count": 57,
      "outputs": [
        {
          "output_type": "stream",
          "text": [
            "fatal: destination path 'reinforcement-learning' already exists and is not an empty directory.\n"
          ],
          "name": "stdout"
        }
      ]
    }
  ]
}