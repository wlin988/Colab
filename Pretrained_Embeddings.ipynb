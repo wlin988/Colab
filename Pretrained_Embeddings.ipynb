{
  "nbformat": 4,
  "nbformat_minor": 0,
  "metadata": {
    "kernelspec": {
      "name": "python3",
      "display_name": "Python 3"
    },
    "colab": {
      "name": "Pretrained_Embeddings.ipynb",
      "provenance": [],
      "collapsed_sections": [],
      "include_colab_link": true
    },
    "accelerator": "GPU"
  },
  "cells": [
    {
      "cell_type": "markdown",
      "metadata": {
        "id": "view-in-github",
        "colab_type": "text"
      },
      "source": [
        "<a href=\"https://colab.research.google.com/github/wlin988/Colab/blob/master/Pretrained_Embeddings.ipynb\" target=\"_parent\"><img src=\"https://colab.research.google.com/assets/colab-badge.svg\" alt=\"Open In Colab\"/></a>"
      ]
    },
    {
      "cell_type": "code",
      "metadata": {
        "id": "kiNY2OzPozEQ",
        "colab_type": "code",
        "outputId": "f264a921-b698-433a-de0f-eb15e097d49a",
        "colab": {
          "base_uri": "https://localhost:8080/",
          "height": 34
        }
      },
      "source": [
        "from google.colab import drive\n",
        "drive.mount('/content/drive', force_remount=True)"
      ],
      "execution_count": 1,
      "outputs": [
        {
          "output_type": "stream",
          "text": [
            "Mounted at /content/drive\n"
          ],
          "name": "stdout"
        }
      ]
    },
    {
      "cell_type": "code",
      "metadata": {
        "id": "T0hI-CEhpToM",
        "colab_type": "code",
        "outputId": "001323eb-5f3a-4b60-910e-0b358fc4b0e8",
        "colab": {
          "base_uri": "https://localhost:8080/",
          "height": 85
        }
      },
      "source": [
        "%cd /content/drive/\n",
        "!ls -lta"
      ],
      "execution_count": 2,
      "outputs": [
        {
          "output_type": "stream",
          "text": [
            "/content/drive\n",
            "total 8\n",
            "drwx------ 5 root root 4096 Oct 29 22:27 'My Drive'\n",
            "drwx------ 2 root root 4096 Oct 29 22:27  .Trash\n"
          ],
          "name": "stdout"
        }
      ]
    },
    {
      "cell_type": "code",
      "metadata": {
        "id": "MZ10rtX9wlOO",
        "colab_type": "code",
        "colab": {}
      },
      "source": [
        "#!cp -r \"My Drive\"  my_drive"
      ],
      "execution_count": 0,
      "outputs": []
    },
    {
      "cell_type": "code",
      "metadata": {
        "id": "GtFIVQDjraNo",
        "colab_type": "code",
        "colab": {}
      },
      "source": [
        "#!git clone https://github.com/joosthub/PyTorchNLPBook.git"
      ],
      "execution_count": 0,
      "outputs": []
    },
    {
      "cell_type": "code",
      "metadata": {
        "id": "e0BliqOdtVbI",
        "colab_type": "code",
        "outputId": "8b5bbff8-5715-47d2-b4ea-81b55b4fdf3e",
        "colab": {
          "base_uri": "https://localhost:8080/",
          "height": 34
        }
      },
      "source": [
        "pip install annoy"
      ],
      "execution_count": 5,
      "outputs": [
        {
          "output_type": "stream",
          "text": [
            "Requirement already satisfied: annoy in /usr/local/lib/python3.6/dist-packages (1.16.2)\n"
          ],
          "name": "stdout"
        }
      ]
    },
    {
      "cell_type": "code",
      "metadata": {
        "id": "08_tfCUks3gC",
        "colab_type": "code",
        "outputId": "d186fb28-30d2-4342-c482-0465ea96b5e2",
        "colab": {
          "base_uri": "https://localhost:8080/",
          "height": 459
        }
      },
      "source": [
        "%cd /content/drive/My Drive/\n",
        "!ls -lta"
      ],
      "execution_count": 6,
      "outputs": [
        {
          "output_type": "stream",
          "text": [
            "/content/drive/My Drive\n",
            "total 4053\n",
            "drwx------ 2 root root    4096 Oct 27 20:33  folder\n",
            "drwx------ 2 root root    4096 Oct 27 20:28  PyTorchNLPBook\n",
            "drwx------ 2 root root    4096 Oct 26 17:41 'Colab Notebooks'\n",
            "-rw------- 1 root root     151 Oct 25 21:04 'Untitled document (3).gdoc'\n",
            "-rw------- 1 root root     151 Oct 25 09:30 'Untitled document (2).gdoc'\n",
            "-rw------- 1 root root 1453568 Sep 16  2014 '2A-4 -  6WINDGate Multi-Core Networking SW - Level 2 v5.4.ppt'\n",
            "-rw------- 1 root root   56383 Jun 27  2014 '5th Spelling W & Def 91-100 (3).pdf'\n",
            "-rw------- 1 root root     151 Apr 30  2014 'Untitled document (1).gdoc'\n",
            "-rw------- 1 root root     151 Apr 30  2014 'Untitled document.gdoc'\n",
            "-rw------- 1 root root  269382 Mar 17  2014 'Print from a Chromebook with Google Cloud Print - YouTube.pdf'\n",
            "-rw------- 1 root root   69344 Mar 17  2014  Google.pdf\n",
            "-rw------- 1 root root   56471 Mar 17  2014 'Google (1).pdf'\n",
            "-rw------- 1 root root   56471 Mar 17  2014 'Google (2).pdf'\n",
            "-rw------- 1 root root   69344 Mar 17  2014 'Google (3).pdf'\n",
            "-rw------- 1 root root   74283 Mar 17  2014 'New Tab.pdf'\n",
            "-rw------- 1 root root   63315 Mar 17  2014  williamdropbox.pdf\n",
            "-rw------- 1 root root   62091 Mar 17  2014 'Google (4).pdf'\n",
            "-rw------- 1 root root   62091 Mar 17  2014 'Google (5).pdf'\n",
            "-rw------- 1 root root  963715 Mar 17  2014 'Cloud Print test page.pdf'\n",
            "-rw------- 1 root root     151 Mar  9  2014 'Untitled document (5).gdoc'\n",
            "-rw------- 1 root root     151 Mar  3  2014 'Untitled document (4).gdoc'\n",
            "-rw------- 1 root root   33061 Feb  5  2014  13915594519295830.gif\n",
            "-rw------- 1 root root   87040 Jan 14  2012  SCSI_vs_FC.pdf\n",
            "-rw------- 1 root root  754006 Jan 14  2012  White_Paper_Fibre_Channel_Fundamentals.pdf\n"
          ],
          "name": "stdout"
        }
      ]
    },
    {
      "cell_type": "code",
      "metadata": {
        "id": "8v9fceE-tiWP",
        "colab_type": "code",
        "outputId": "7821b626-9793-4401-ab20-6b3f3172710a",
        "colab": {
          "base_uri": "https://localhost:8080/",
          "height": 476
        }
      },
      "source": [
        "#%cd data\n",
        "#!ls -lta"
      ],
      "execution_count": 7,
      "outputs": [
        {
          "output_type": "stream",
          "text": [
            "[Errno 2] No such file or directory: 'data'\n",
            "/content/drive/My Drive\n",
            "total 4053\n",
            "drwx------ 2 root root    4096 Oct 27 20:33  folder\n",
            "drwx------ 2 root root    4096 Oct 27 20:28  PyTorchNLPBook\n",
            "drwx------ 2 root root    4096 Oct 26 17:41 'Colab Notebooks'\n",
            "-rw------- 1 root root     151 Oct 25 21:04 'Untitled document (3).gdoc'\n",
            "-rw------- 1 root root     151 Oct 25 09:30 'Untitled document (2).gdoc'\n",
            "-rw------- 1 root root 1453568 Sep 16  2014 '2A-4 -  6WINDGate Multi-Core Networking SW - Level 2 v5.4.ppt'\n",
            "-rw------- 1 root root   56383 Jun 27  2014 '5th Spelling W & Def 91-100 (3).pdf'\n",
            "-rw------- 1 root root     151 Apr 30  2014 'Untitled document (1).gdoc'\n",
            "-rw------- 1 root root     151 Apr 30  2014 'Untitled document.gdoc'\n",
            "-rw------- 1 root root  269382 Mar 17  2014 'Print from a Chromebook with Google Cloud Print - YouTube.pdf'\n",
            "-rw------- 1 root root   69344 Mar 17  2014  Google.pdf\n",
            "-rw------- 1 root root   56471 Mar 17  2014 'Google (1).pdf'\n",
            "-rw------- 1 root root   56471 Mar 17  2014 'Google (2).pdf'\n",
            "-rw------- 1 root root   69344 Mar 17  2014 'Google (3).pdf'\n",
            "-rw------- 1 root root   74283 Mar 17  2014 'New Tab.pdf'\n",
            "-rw------- 1 root root   63315 Mar 17  2014  williamdropbox.pdf\n",
            "-rw------- 1 root root   62091 Mar 17  2014 'Google (4).pdf'\n",
            "-rw------- 1 root root   62091 Mar 17  2014 'Google (5).pdf'\n",
            "-rw------- 1 root root  963715 Mar 17  2014 'Cloud Print test page.pdf'\n",
            "-rw------- 1 root root     151 Mar  9  2014 'Untitled document (5).gdoc'\n",
            "-rw------- 1 root root     151 Mar  3  2014 'Untitled document (4).gdoc'\n",
            "-rw------- 1 root root   33061 Feb  5  2014  13915594519295830.gif\n",
            "-rw------- 1 root root   87040 Jan 14  2012  SCSI_vs_FC.pdf\n",
            "-rw------- 1 root root  754006 Jan 14  2012  White_Paper_Fibre_Channel_Fundamentals.pdf\n"
          ],
          "name": "stdout"
        }
      ]
    },
    {
      "cell_type": "code",
      "metadata": {
        "id": "HnBSx25nvbu9",
        "colab_type": "code",
        "colab": {
          "base_uri": "https://localhost:8080/",
          "height": 272
        },
        "outputId": "b9a1860b-2bf9-4850-ccf7-10d24c28f1d7"
      },
      "source": [
        "%cd /content/drive/\"My Drive\"/PyTorchNLPBook/chapters/chapter_5/data\n",
        "!pwd\n",
        "!ls -lta"
      ],
      "execution_count": 8,
      "outputs": [
        {
          "output_type": "stream",
          "text": [
            "/content/drive/My Drive/PyTorchNLPBook/chapters/chapter_5/data\n",
            "/content/drive/My Drive/PyTorchNLPBook/chapters/chapter_5/data\n",
            "total 52\n",
            "drwx------ 2 root root  4096 Oct 28 18:59 .ipynb_checkpoints\n",
            "-rwx------ 1 root root  1961 Oct 28 17:58 get-all-data.sh\n",
            "-rw------- 1 root root  1572 Oct 27 20:28 download.py\n",
            "-rw------- 1 root root  6148 Oct 27 20:28 .DS_Store\n",
            "-rw------- 1 root root   572 Oct 27 20:28 README.md\n",
            "-rw------- 1 root root 12288 Oct 27 20:28 .README.md.swp\n",
            "drwx------ 2 root root  4096 Oct 27 20:28 ag_news\n",
            "drwx------ 2 root root  4096 Oct 27 20:28 books\n",
            "drwx------ 2 root root  4096 Oct 27 20:28 glove\n",
            "drwx------ 2 root root  4096 Oct 27 20:28 nmt\n",
            "drwx------ 2 root root  4096 Oct 27 20:28 surnames\n",
            "drwx------ 2 root root  4096 Oct 27 20:28 yelp\n"
          ],
          "name": "stdout"
        }
      ]
    },
    {
      "cell_type": "code",
      "metadata": {
        "id": "-Lt-KVEjvm_t",
        "colab_type": "code",
        "colab": {
          "base_uri": "https://localhost:8080/",
          "height": 238
        },
        "outputId": "16b9ff35-10eb-4a45-def6-632f54b0e4b2"
      },
      "source": [
        "!chmod 777 get-all-data.sh\n",
        "!ls -lta"
      ],
      "execution_count": 9,
      "outputs": [
        {
          "output_type": "stream",
          "text": [
            "total 52\n",
            "drwx------ 2 root root  4096 Oct 28 18:59 .ipynb_checkpoints\n",
            "-rwx------ 1 root root  1961 Oct 28 17:58 get-all-data.sh\n",
            "-rw------- 1 root root  1572 Oct 27 20:28 download.py\n",
            "-rw------- 1 root root  6148 Oct 27 20:28 .DS_Store\n",
            "-rw------- 1 root root   572 Oct 27 20:28 README.md\n",
            "-rw------- 1 root root 12288 Oct 27 20:28 .README.md.swp\n",
            "drwx------ 2 root root  4096 Oct 27 20:28 ag_news\n",
            "drwx------ 2 root root  4096 Oct 27 20:28 books\n",
            "drwx------ 2 root root  4096 Oct 27 20:28 glove\n",
            "drwx------ 2 root root  4096 Oct 27 20:28 nmt\n",
            "drwx------ 2 root root  4096 Oct 27 20:28 surnames\n",
            "drwx------ 2 root root  4096 Oct 27 20:28 yelp\n"
          ],
          "name": "stdout"
        }
      ]
    },
    {
      "cell_type": "code",
      "metadata": {
        "id": "zzhVjupYtorh",
        "colab_type": "code",
        "colab": {}
      },
      "source": [
        "! ./get-all-data.sh"
      ],
      "execution_count": 0,
      "outputs": []
    },
    {
      "cell_type": "code",
      "metadata": {
        "id": "Pk726G-AybIR",
        "colab_type": "code",
        "colab": {
          "base_uri": "https://localhost:8080/",
          "height": 68
        },
        "outputId": "f966c409-1fd3-45cc-db19-044cab775ba3"
      },
      "source": [
        "!mkdir -p glove\n",
        "!pwd\n",
        "!ls"
      ],
      "execution_count": 11,
      "outputs": [
        {
          "output_type": "stream",
          "text": [
            "/content/drive/My Drive/PyTorchNLPBook/chapters/chapter_5/data\n",
            "ag_news  download.py\t  glove  README.md  yelp\n",
            "books\t get-all-data.sh  nmt\t surnames\n"
          ],
          "name": "stdout"
        }
      ]
    },
    {
      "cell_type": "code",
      "metadata": {
        "id": "RckCHAIOyiU1",
        "colab_type": "code",
        "colab": {
          "base_uri": "https://localhost:8080/",
          "height": 68
        },
        "outputId": "fd1e27e7-d949-4fbd-ced7-375da4afa5bc"
      },
      "source": [
        "%cd /content/drive/\"My Drive\"/PyTorchNLPBook/chapters/chapter_5/data/glove\n",
        "!ls"
      ],
      "execution_count": 12,
      "outputs": [
        {
          "output_type": "stream",
          "text": [
            "/content/drive/My Drive/PyTorchNLPBook/chapters/chapter_5/data/glove\n",
            "glove.6B.100d.txt  glove.6B.300d.txt  glove.6B.zip\n",
            "glove.6B.200d.txt  glove.6B.50d.txt\n"
          ],
          "name": "stdout"
        }
      ]
    },
    {
      "cell_type": "code",
      "metadata": {
        "id": "RDxegpf2ys9U",
        "colab_type": "code",
        "colab": {
          "base_uri": "https://localhost:8080/",
          "height": 51
        },
        "outputId": "9a29ff35-68c4-4e31-9040-5c6649df3aba"
      },
      "source": [
        "!wget -nc http://nlp.stanford.edu/data/glove.6B.zip"
      ],
      "execution_count": 13,
      "outputs": [
        {
          "output_type": "stream",
          "text": [
            "File ‘glove.6B.zip’ already there; not retrieving.\n",
            "\n"
          ],
          "name": "stdout"
        }
      ]
    },
    {
      "cell_type": "code",
      "metadata": {
        "id": "wNZKb5KizEqH",
        "colab_type": "code",
        "colab": {
          "base_uri": "https://localhost:8080/",
          "height": 68
        },
        "outputId": "dfd00557-17fb-44df-924b-1c8dd482a5ad"
      },
      "source": [
        "!ls\n",
        "!unzip -n glove.6B.zip"
      ],
      "execution_count": 14,
      "outputs": [
        {
          "output_type": "stream",
          "text": [
            "glove.6B.100d.txt  glove.6B.300d.txt  glove.6B.zip\n",
            "glove.6B.200d.txt  glove.6B.50d.txt\n",
            "Archive:  glove.6B.zip\n"
          ],
          "name": "stdout"
        }
      ]
    },
    {
      "cell_type": "code",
      "metadata": {
        "id": "bW2FzFT81hb7",
        "colab_type": "code",
        "colab": {
          "base_uri": "https://localhost:8080/",
          "height": 85
        },
        "outputId": "9ec1ef86-a937-424b-8676-00039bd20671"
      },
      "source": [
        "!pwd\n",
        "%cd ../..\n",
        "!ls"
      ],
      "execution_count": 15,
      "outputs": [
        {
          "output_type": "stream",
          "text": [
            "/content/drive/My Drive/PyTorchNLPBook/chapters/chapter_5/data/glove\n",
            "/content/drive/My Drive/PyTorchNLPBook/chapters/chapter_5\n",
            "5_1_Pretrained_Embeddings.ipynb  5_3_doc_classification  model_storage\n",
            "5_2_CBOW\t\t\t data\t\t\t README.md\n"
          ],
          "name": "stdout"
        }
      ]
    },
    {
      "cell_type": "code",
      "metadata": {
        "id": "xM-6w8wxsLsS",
        "colab_type": "code",
        "colab": {
          "base_uri": "https://localhost:8080/",
          "height": 561
        },
        "outputId": "0647ada7-3933-49d2-85bb-c1b8d163cffa"
      },
      "source": [
        "%run 5_1_Pretrained_Embeddings.ipynb"
      ],
      "execution_count": 16,
      "outputs": [
        {
          "output_type": "stream",
          "text": [
            "Building Index!\n",
            "Finished!\n",
            "man : he :: woman : she\n",
            "man : he :: woman : never\n",
            "fly : plane :: sail : ship\n",
            "fly : plane :: sail : vessel\n",
            "cat : kitten :: dog : puppy\n",
            "cat : kitten :: dog : toddler\n",
            "cat : kitten :: dog : sleds\n",
            "blue : color :: dog : cat\n",
            "blue : color :: dog : animal\n",
            "blue : color :: dog : breed\n",
            "leg : legs :: hand : fingers\n",
            "leg : legs :: hand : ears\n",
            "leg : legs :: hand : stick\n",
            "toe : foot :: finger : hand\n",
            "toe : foot :: finger : attached\n",
            "toe : foot :: finger : apart\n",
            "talk : communicate :: read : instructions\n",
            "talk : communicate :: read : communicating\n",
            "talk : communicate :: read : transmit\n",
            "blue : democrat :: red : republican\n",
            "blue : democrat :: red : congressman\n",
            "blue : democrat :: red : senator\n",
            "man : king :: woman : queen\n",
            "man : king :: woman : monarch\n",
            "man : king :: woman : throne\n",
            "man : doctor :: woman : nurse\n",
            "man : doctor :: woman : physician\n",
            "fast : fastest :: small : smallest\n",
            "fast : fastest :: small : largest\n",
            "fast : fastest :: small : among\n"
          ],
          "name": "stdout"
        }
      ]
    },
    {
      "cell_type": "code",
      "metadata": {
        "id": "cW4YXw_HpfkQ",
        "colab_type": "code",
        "colab": {}
      },
      "source": [
        "#import os\n",
        "#from getpass import getpass\n",
        "#import urllib\n",
        "\n",
        "#cmd = 'git clone https://github.com/joosthub/PyTorchNLPBook.git'\n",
        "#os.system(cmd)"
      ],
      "execution_count": 0,
      "outputs": []
    },
    {
      "cell_type": "code",
      "metadata": {
        "id": "BWaXMihaoiaC",
        "colab_type": "code",
        "colab": {}
      },
      "source": [
        "import torch\n",
        "import torch.nn as nn\n",
        "from tqdm import tqdm\n",
        "from annoy import AnnoyIndex\n",
        "import numpy as np"
      ],
      "execution_count": 0,
      "outputs": []
    },
    {
      "cell_type": "code",
      "metadata": {
        "id": "n3lhylHKoiaH",
        "colab_type": "code",
        "colab": {}
      },
      "source": [
        "class PreTrainedEmbeddings(object):\n",
        "    \"\"\" A wrapper around pre-trained word vectors and their use \"\"\"\n",
        "    def __init__(self, word_to_index, word_vectors):\n",
        "        \"\"\"\n",
        "        Args:\n",
        "            word_to_index (dict): mapping from word to integers\n",
        "            word_vectors (list of numpy arrays)\n",
        "        \"\"\"\n",
        "        self.word_to_index = word_to_index\n",
        "        self.word_vectors = word_vectors\n",
        "        self.index_to_word = {v: k for k, v in self.word_to_index.items()}\n",
        "\n",
        "        self.index = AnnoyIndex(len(word_vectors[0]), metric='euclidean')\n",
        "        print(\"Building Index!\")\n",
        "        for _, i in self.word_to_index.items():\n",
        "            self.index.add_item(i, self.word_vectors[i])\n",
        "        self.index.build(50)\n",
        "        print(\"Finished!\")\n",
        "        \n",
        "    @classmethod\n",
        "    def from_embeddings_file(cls, embedding_file):\n",
        "        \"\"\"Instantiate from pre-trained vector file.\n",
        "        \n",
        "        Vector file should be of the format:\n",
        "            word0 x0_0 x0_1 x0_2 x0_3 ... x0_N\n",
        "            word1 x1_0 x1_1 x1_2 x1_3 ... x1_N\n",
        "        \n",
        "        Args:\n",
        "            embedding_file (str): location of the file\n",
        "        Returns: \n",
        "            instance of PretrainedEmbeddigns\n",
        "        \"\"\"\n",
        "        word_to_index = {}\n",
        "        word_vectors = []\n",
        "\n",
        "        with open(embedding_file) as fp:\n",
        "            for line in fp.readlines():\n",
        "                line = line.split(\" \")\n",
        "                word = line[0]\n",
        "                vec = np.array([float(x) for x in line[1:]])\n",
        "                \n",
        "                word_to_index[word] = len(word_to_index)\n",
        "                word_vectors.append(vec)\n",
        "                \n",
        "        return cls(word_to_index, word_vectors)\n",
        "    \n",
        "    def get_embedding(self, word):\n",
        "        \"\"\"\n",
        "        Args:\n",
        "            word (str)\n",
        "        Returns\n",
        "            an embedding (numpy.ndarray)\n",
        "        \"\"\"\n",
        "        return self.word_vectors[self.word_to_index[word]]\n",
        "\n",
        "    def get_closest_to_vector(self, vector, n=1):\n",
        "        \"\"\"Given a vector, return its n nearest neighbors\n",
        "        \n",
        "        Args:\n",
        "            vector (np.ndarray): should match the size of the vectors \n",
        "                in the Annoy index\n",
        "            n (int): the number of neighbors to return\n",
        "        Returns:\n",
        "            [str, str, ...]: words that are nearest to the given vector. \n",
        "                The words are not ordered by distance \n",
        "        \"\"\"\n",
        "        nn_indices = self.index.get_nns_by_vector(vector, n)\n",
        "        return [self.index_to_word[neighbor] for neighbor in nn_indices]\n",
        "    \n",
        "    def compute_and_print_analogy(self, word1, word2, word3):\n",
        "        \"\"\"Prints the solutions to analogies using word embeddings\n",
        "\n",
        "        Analogies are word1 is to word2 as word3 is to __\n",
        "        This method will print: word1 : word2 :: word3 : word4\n",
        "        \n",
        "        Args:\n",
        "            word1 (str)\n",
        "            word2 (str)\n",
        "            word3 (str)\n",
        "        \"\"\"\n",
        "        vec1 = self.get_embedding(word1)\n",
        "        vec2 = self.get_embedding(word2)\n",
        "        vec3 = self.get_embedding(word3)\n",
        "\n",
        "        # now compute the fourth word's embedding!\n",
        "        spatial_relationship = vec2 - vec1\n",
        "        vec4 = vec3 + spatial_relationship%run 5_2_Continuous_Bag_of_Words_CBOW.ipynb\n",
        "\n",
        "        closest_words = self.get_closest_to_vector(vec4, n=4)\n",
        "        existing_words = set([word1, word2, word3])\n",
        "        closest_words = [word for word in closest_words \n",
        "                             if word not in existing_words] \n",
        "\n",
        "        if len(closest_words) == 0:\n",
        "            print(\"Could not find nearest neighbors for the computed vector!\")\n",
        "            return\n",
        "        \n",
        "        for word4 in closest_words:\n",
        "            print(\"{} : {} :: {} : {}\".format(word1, word2, word3, word4))"
      ],
      "execution_count": 0,
      "outputs": []
    },
    {
      "cell_type": "code",
      "metadata": {
        "id": "ocmiqct3oiaJ",
        "colab_type": "code",
        "colab": {
          "base_uri": "https://localhost:8080/",
          "height": 51
        },
        "outputId": "a405ed2c-5f4e-4543-f08a-1785cd039958"
      },
      "source": [
        "embeddings = PreTrainedEmbeddings.from_embeddings_file('data/glove/glove.6B.100d.txt')"
      ],
      "execution_count": 20,
      "outputs": [
        {
          "output_type": "stream",
          "text": [
            "Building Index!\n",
            "Finished!\n"
          ],
          "name": "stdout"
        }
      ]
    },
    {
      "cell_type": "code",
      "metadata": {
        "id": "v3wGNNEZoiaM",
        "colab_type": "code",
        "colab": {
          "base_uri": "https://localhost:8080/",
          "height": 51
        },
        "outputId": "80a77715-cb71-40d7-d7c8-edc8d6bfe981"
      },
      "source": [
        "embeddings.compute_and_print_analogy('man', 'he', 'woman')"
      ],
      "execution_count": 21,
      "outputs": [
        {
          "output_type": "stream",
          "text": [
            "man : he :: woman : she\n",
            "man : he :: woman : never\n"
          ],
          "name": "stdout"
        }
      ]
    },
    {
      "cell_type": "code",
      "metadata": {
        "id": "psNx1jB-oiaO",
        "colab_type": "code",
        "colab": {
          "base_uri": "https://localhost:8080/",
          "height": 51
        },
        "outputId": "ceaf2353-dd66-4116-a279-d1f2e5c3594b"
      },
      "source": [
        "embeddings.compute_and_print_analogy('fly', 'plane', 'sail')"
      ],
      "execution_count": 22,
      "outputs": [
        {
          "output_type": "stream",
          "text": [
            "fly : plane :: sail : ship\n",
            "fly : plane :: sail : vessel\n"
          ],
          "name": "stdout"
        }
      ]
    },
    {
      "cell_type": "code",
      "metadata": {
        "id": "pOgnrbKDoiaQ",
        "colab_type": "code",
        "colab": {
          "base_uri": "https://localhost:8080/",
          "height": 68
        },
        "outputId": "fd034271-278d-4f89-ec3e-f63b5fa2cf78"
      },
      "source": [
        "embeddings.compute_and_print_analogy('cat', 'kitten', 'dog')"
      ],
      "execution_count": 23,
      "outputs": [
        {
          "output_type": "stream",
          "text": [
            "cat : kitten :: dog : puppy\n",
            "cat : kitten :: dog : toddler\n",
            "cat : kitten :: dog : sleds\n"
          ],
          "name": "stdout"
        }
      ]
    },
    {
      "cell_type": "code",
      "metadata": {
        "id": "55oog0dVoiaS",
        "colab_type": "code",
        "colab": {
          "base_uri": "https://localhost:8080/",
          "height": 68
        },
        "outputId": "ac5815ed-292d-4916-986c-3571cf3f753f"
      },
      "source": [
        "embeddings.compute_and_print_analogy('blue', 'color', 'dog')"
      ],
      "execution_count": 24,
      "outputs": [
        {
          "output_type": "stream",
          "text": [
            "blue : color :: dog : cat\n",
            "blue : color :: dog : animal\n",
            "blue : color :: dog : breed\n"
          ],
          "name": "stdout"
        }
      ]
    },
    {
      "cell_type": "code",
      "metadata": {
        "id": "YXwa7Jr6oiaU",
        "colab_type": "code",
        "colab": {
          "base_uri": "https://localhost:8080/",
          "height": 68
        },
        "outputId": "640d3ea1-32d2-40f6-9290-00df0744faa7"
      },
      "source": [
        "embeddings.compute_and_print_analogy('leg', 'legs', 'hand')"
      ],
      "execution_count": 25,
      "outputs": [
        {
          "output_type": "stream",
          "text": [
            "leg : legs :: hand : fingers\n",
            "leg : legs :: hand : ears\n",
            "leg : legs :: hand : stick\n"
          ],
          "name": "stdout"
        }
      ]
    },
    {
      "cell_type": "code",
      "metadata": {
        "id": "V6SOG1ZboiaW",
        "colab_type": "code",
        "colab": {
          "base_uri": "https://localhost:8080/",
          "height": 68
        },
        "outputId": "10adf764-e688-4f6f-843a-d39de2aeab4d"
      },
      "source": [
        "embeddings.compute_and_print_analogy('toe', 'foot', 'finger')"
      ],
      "execution_count": 26,
      "outputs": [
        {
          "output_type": "stream",
          "text": [
            "toe : foot :: finger : hand\n",
            "toe : foot :: finger : attached\n",
            "toe : foot :: finger : apart\n"
          ],
          "name": "stdout"
        }
      ]
    },
    {
      "cell_type": "code",
      "metadata": {
        "id": "yxRm5AYMoiaY",
        "colab_type": "code",
        "colab": {
          "base_uri": "https://localhost:8080/",
          "height": 68
        },
        "outputId": "69331bbe-4661-406e-e58b-5240caff5975"
      },
      "source": [
        "embeddings.compute_and_print_analogy('talk', 'communicate', 'read')"
      ],
      "execution_count": 27,
      "outputs": [
        {
          "output_type": "stream",
          "text": [
            "talk : communicate :: read : instructions\n",
            "talk : communicate :: read : communicating\n",
            "talk : communicate :: read : transmit\n"
          ],
          "name": "stdout"
        }
      ]
    },
    {
      "cell_type": "code",
      "metadata": {
        "id": "ZXC90XtKoiaa",
        "colab_type": "code",
        "colab": {
          "base_uri": "https://localhost:8080/",
          "height": 68
        },
        "outputId": "e35da689-db0c-463e-fdba-d44caf7ad599"
      },
      "source": [
        "embeddings.compute_and_print_analogy('blue', 'democrat', 'red')"
      ],
      "execution_count": 28,
      "outputs": [
        {
          "output_type": "stream",
          "text": [
            "blue : democrat :: red : republican\n",
            "blue : democrat :: red : congressman\n",
            "blue : democrat :: red : senator\n"
          ],
          "name": "stdout"
        }
      ]
    },
    {
      "cell_type": "code",
      "metadata": {
        "id": "63d4G05Xoiac",
        "colab_type": "code",
        "colab": {
          "base_uri": "https://localhost:8080/",
          "height": 68
        },
        "outputId": "92b74241-9b80-4147-83f9-577688aa50af"
      },
      "source": [
        "embeddings.compute_and_print_analogy('man', 'king', 'woman')"
      ],
      "execution_count": 29,
      "outputs": [
        {
          "output_type": "stream",
          "text": [
            "man : king :: woman : queen\n",
            "man : king :: woman : monarch\n",
            "man : king :: woman : throne\n"
          ],
          "name": "stdout"
        }
      ]
    },
    {
      "cell_type": "code",
      "metadata": {
        "id": "ZEVpskfroiae",
        "colab_type": "code",
        "colab": {
          "base_uri": "https://localhost:8080/",
          "height": 51
        },
        "outputId": "345c5c4d-d44a-498b-a045-9935ff87236c"
      },
      "source": [
        "embeddings.compute_and_print_analogy('man', 'doctor', 'woman')"
      ],
      "execution_count": 30,
      "outputs": [
        {
          "output_type": "stream",
          "text": [
            "man : doctor :: woman : nurse\n",
            "man : doctor :: woman : physician\n"
          ],
          "name": "stdout"
        }
      ]
    },
    {
      "cell_type": "code",
      "metadata": {
        "id": "RiczV7Ixoiag",
        "colab_type": "code",
        "colab": {
          "base_uri": "https://localhost:8080/",
          "height": 68
        },
        "outputId": "3fac97fd-d4f4-4e62-b0ae-d93c76e5980a"
      },
      "source": [
        "embeddings.compute_and_print_analogy('fast', 'fastest', 'small')"
      ],
      "execution_count": 31,
      "outputs": [
        {
          "output_type": "stream",
          "text": [
            "fast : fastest :: small : smallest\n",
            "fast : fastest :: small : largest\n",
            "fast : fastest :: small : among\n"
          ],
          "name": "stdout"
        }
      ]
    },
    {
      "cell_type": "code",
      "metadata": {
        "id": "9huX8YynvOaX",
        "colab_type": "code",
        "colab": {
          "base_uri": "https://localhost:8080/",
          "height": 68
        },
        "outputId": "b35d3e53-1110-41ef-a013-57462c6a9bd8"
      },
      "source": [
        "%cd /content/drive/My Drive/PyTorchNLPBook/chapters/chapter_5/5_2_CBOW/data\n",
        "!ls\n",
        "!chmod 777 get-all-data.sh\n",
        "! ./get-all-data.sh"
      ],
      "execution_count": 32,
      "outputs": [
        {
          "output_type": "stream",
          "text": [
            "/content/drive/My Drive/PyTorchNLPBook/chapters/chapter_5/5_2_CBOW/data\n",
            "ag_news  download.py\t  glove  README.md  yelp\n",
            "books\t get-all-data.sh  nmt\t surnames\n"
          ],
          "name": "stdout"
        }
      ]
    },
    {
      "cell_type": "code",
      "metadata": {
        "id": "XGcW5mcCwhjn",
        "colab_type": "code",
        "colab": {
          "base_uri": "https://localhost:8080/",
          "height": 85
        },
        "outputId": "8ee27d09-6398-4e16-cbe8-804ac8493bb3"
      },
      "source": [
        "!mkdir -p glove\n",
        "%cd glove\n",
        "!wget -nc http://nlp.stanford.edu/data/glove.6B.zip\n",
        "!unzip -n glove.6B.zip\n"
      ],
      "execution_count": 33,
      "outputs": [
        {
          "output_type": "stream",
          "text": [
            "/content/drive/My Drive/PyTorchNLPBook/chapters/chapter_5/5_2_CBOW/data/glove\n",
            "File ‘glove.6B.zip’ already there; not retrieving.\n",
            "\n",
            "Archive:  glove.6B.zip\n"
          ],
          "name": "stdout"
        }
      ]
    },
    {
      "cell_type": "code",
      "metadata": {
        "id": "6Po8MsIyOWkf",
        "colab_type": "code",
        "colab": {
          "base_uri": "https://localhost:8080/",
          "height": 68
        },
        "outputId": "6440d97a-1660-46c3-96c4-839e8085009d"
      },
      "source": [
        "%cd /content/drive/\"My Drive\"/PyTorchNLPBook/chapters/chapter_5/5_2_CBOW\n",
        "!ls\n"
      ],
      "execution_count": 34,
      "outputs": [
        {
          "output_type": "stream",
          "text": [
            "/content/drive/My Drive/PyTorchNLPBook/chapters/chapter_5/5_2_CBOW\n",
            "5_2_Continuous_Bag_of_Words_CBOW.ipynb\tdata\n",
            "5_2_munging_frankenstein.ipynb\t\tmodel_storage\n"
          ],
          "name": "stdout"
        }
      ]
    },
    {
      "cell_type": "code",
      "metadata": {
        "id": "XGSmwVSQObZC",
        "colab_type": "code",
        "colab": {
          "base_uri": "https://localhost:8080/",
          "height": 102
        },
        "outputId": "b5d88366-0bff-42b8-f5fe-d27739ba30dc"
      },
      "source": [
        "%run 5_2_Continuous_Bag_of_Words_CBOW.ipynb"
      ],
      "execution_count": 0,
      "outputs": [
        {
          "output_type": "stream",
          "text": [
            "Expanded filepaths: \n",
            "\tmodel_storage/ch5/cbow/vectorizer.json\n",
            "\tmodel_storage/ch5/cbow/model.pth\n",
            "Using CUDA: True\n",
            "Loading dataset and creating vectorizer\n"
          ],
          "name": "stdout"
        },
        {
          "output_type": "display_data",
          "data": {
            "application/vnd.jupyter.widget-view+json": {
              "model_id": "0f82c834592243f6992fd20fa55aa872",
              "version_minor": 0,
              "version_major": 2
            },
            "text/plain": [
              "HBox(children=(IntProgress(value=0, description='training routine', style=ProgressStyle(description_width='ini…"
            ]
          },
          "metadata": {
            "tags": []
          }
        },
        {
          "output_type": "display_data",
          "data": {
            "application/vnd.jupyter.widget-view+json": {
              "model_id": "e2e0cab25395408ca4026d2bcc296109",
              "version_minor": 0,
              "version_major": 2
            },
            "text/plain": [
              "HBox(children=(IntProgress(value=0, description='split=train', max=1984, style=ProgressStyle(description_width…"
            ]
          },
          "metadata": {
            "tags": []
          }
        },
        {
          "output_type": "display_data",
          "data": {
            "application/vnd.jupyter.widget-view+json": {
              "model_id": "f70caff68bbe4f7aa0a27e7b7aaa8373",
              "version_minor": 0,
              "version_major": 2
            },
            "text/plain": [
              "HBox(children=(IntProgress(value=0, description='split=val', max=425, style=ProgressStyle(description_width='i…"
            ]
          },
          "metadata": {
            "tags": []
          }
        }
      ]
    },
    {
      "cell_type": "code",
      "metadata": {
        "id": "ZiP-Zk6SnX1w",
        "colab_type": "code",
        "colab": {}
      },
      "source": [
        "%run 5_2_munging_frankenstein.ipynb"
      ],
      "execution_count": 0,
      "outputs": []
    },
    {
      "cell_type": "code",
      "metadata": {
        "id": "l0s4O_UYmZqY",
        "colab_type": "code",
        "colab": {}
      },
      "source": [
        "%cd /content/drive/My Drive/PyTorchNLPBook/chapters/chapter_5/5_3_doc_classification/data\n",
        "!ls\n",
        "!chmod 777 get-all-data.sh\n",
        "! ./get-all-data.sh"
      ],
      "execution_count": 0,
      "outputs": []
    },
    {
      "cell_type": "code",
      "metadata": {
        "id": "w2E8PumsmmNO",
        "colab_type": "code",
        "colab": {}
      },
      "source": [
        "%cd /content/drive/\"My Drive\"/PyTorchNLPBook/chapters/chapter_5/5_3_doc_classification\n",
        "!ls\n",
        "%run 5_3_Document_Classification_with_CNN.ipynb"
      ],
      "execution_count": 0,
      "outputs": []
    },
    {
      "cell_type": "code",
      "metadata": {
        "id": "_JxMQCqOnN-s",
        "colab_type": "code",
        "colab": {}
      },
      "source": [
        "%run 5_3_Munging_AG_News.ipynb"
      ],
      "execution_count": 0,
      "outputs": []
    },
    {
      "cell_type": "code",
      "metadata": {
        "id": "KR60DUEpwBlO",
        "colab_type": "code",
        "colab": {}
      },
      "source": [
        "%cd /content/drive/My Drive/PyTorchNLPBook/data"
      ],
      "execution_count": 0,
      "outputs": []
    },
    {
      "cell_type": "code",
      "metadata": {
        "id": "QL0OJxG_tmS8",
        "colab_type": "code",
        "colab": {}
      },
      "source": [
        "!chmod 777 get-all-data.sh\n",
        "!ls -lta\n",
        "! ./get-all-data.sh"
      ],
      "execution_count": 0,
      "outputs": []
    },
    {
      "cell_type": "code",
      "metadata": {
        "id": "aiq9rd1yugb2",
        "colab_type": "code",
        "colab": {}
      },
      "source": [
        "%cd /content/drive/My Drive/PyTorchNLPBook/chapters/chapter_1\n",
        "!ls"
      ],
      "execution_count": 0,
      "outputs": []
    },
    {
      "cell_type": "code",
      "metadata": {
        "id": "KfFVLzzL08gp",
        "colab_type": "code",
        "colab": {}
      },
      "source": [
        "%run PyTorch_Basics.ipynb"
      ],
      "execution_count": 0,
      "outputs": []
    },
    {
      "cell_type": "code",
      "metadata": {
        "id": "e2ql_yub1d5V",
        "colab_type": "code",
        "colab": {}
      },
      "source": [
        "%cd /content/drive/My Drive/PyTorchNLPBook/chapters/chapter_3/data\n",
        "!ls"
      ],
      "execution_count": 0,
      "outputs": []
    },
    {
      "cell_type": "code",
      "metadata": {
        "id": "ioRyRp7J1zTI",
        "colab_type": "code",
        "colab": {}
      },
      "source": [
        "!chmod 777 get-all-data.sh\n",
        "!ls -lta\n",
        "! ./get-all-data.sh"
      ],
      "execution_count": 0,
      "outputs": []
    },
    {
      "cell_type": "code",
      "metadata": {
        "id": "Vd0qmgWr2aFL",
        "colab_type": "code",
        "colab": {}
      },
      "source": [
        "%cd ..\n",
        "!ls"
      ],
      "execution_count": 0,
      "outputs": []
    },
    {
      "cell_type": "code",
      "metadata": {
        "id": "6fA0Ujk-3L9L",
        "colab_type": "code",
        "colab": {}
      },
      "source": [
        "%run 3_5_Classifying_Yelp_Review_Sentiment.ipynb"
      ],
      "execution_count": 0,
      "outputs": []
    },
    {
      "cell_type": "code",
      "metadata": {
        "id": "HK62wU0t3SHI",
        "colab_type": "code",
        "colab": {}
      },
      "source": [
        "%run 3_5_yelp_dataset_preprocessing_FULL.ipynb"
      ],
      "execution_count": 0,
      "outputs": []
    },
    {
      "cell_type": "code",
      "metadata": {
        "id": "JeepD3IlfcQJ",
        "colab_type": "code",
        "colab": {}
      },
      "source": [
        "%run 3_5_yelp_dataset_preprocessing_LITE.ipynb"
      ],
      "execution_count": 0,
      "outputs": []
    },
    {
      "cell_type": "code",
      "metadata": {
        "id": "qfaDw95bfjp2",
        "colab_type": "code",
        "colab": {}
      },
      "source": [
        "%run Chapter-3-Diving-Deep-into-Supervised-Training.ipynb"
      ],
      "execution_count": 0,
      "outputs": []
    },
    {
      "cell_type": "code",
      "metadata": {
        "id": "DPJvX8l6fzW0",
        "colab_type": "code",
        "colab": {}
      },
      "source": [
        "%run Chapter-3-In-Text-Examples.ipynb"
      ],
      "execution_count": 0,
      "outputs": []
    },
    {
      "cell_type": "code",
      "metadata": {
        "id": "HudRBNSMgW8_",
        "colab_type": "code",
        "colab": {}
      },
      "source": [
        ""
      ],
      "execution_count": 0,
      "outputs": []
    },
    {
      "cell_type": "code",
      "metadata": {
        "colab_type": "code",
        "id": "1dFJQk5npRSs",
        "colab": {}
      },
      "source": [
        "%cd /content/drive/My Drive/PyTorchNLPBook/chapters/chapter_6/classifying-surnames/data\n",
        "!ls\n",
        "!chmod 777 get-all-data.sh\n",
        "!ls -lta\n",
        "! ./get-all-data.sh\n"
      ],
      "execution_count": 0,
      "outputs": []
    },
    {
      "cell_type": "code",
      "metadata": {
        "id": "Sn9men6ipzv6",
        "colab_type": "code",
        "colab": {}
      },
      "source": [
        "%cd ..\n",
        "!ls\n",
        "%run Chapter-6-Munging-Surname-Dataset.ipynb\n",
        "%run Chapter-6-Surname-Classification-with-RNNs.ipynb"
      ],
      "execution_count": 0,
      "outputs": []
    },
    {
      "cell_type": "code",
      "metadata": {
        "id": "b_BBdM5dqSyt",
        "colab_type": "code",
        "colab": {}
      },
      "source": [
        "%cd /content/drive/My Drive/PyTorchNLPBook/chapters/chapter_7/7_3_surname_generation/data\n",
        "!ls\n",
        "!chmod 777 get-all-data.sh\n",
        "!ls -lta\n",
        "! ./get-all-data.sh"
      ],
      "execution_count": 0,
      "outputs": []
    },
    {
      "cell_type": "code",
      "metadata": {
        "id": "Wu3ceQtvqfmf",
        "colab_type": "code",
        "colab": {}
      },
      "source": [
        "%cd ..\n",
        "!ls\n",
        "%run 7_3_Model1_Unconditioned_Surname_Generation.ipynb\n",
        "%run 7_3_Model2_Conditioned_Surname_Generation.ipynb\n",
        "%run Munging_Surname_Dataset.ipynb"
      ],
      "execution_count": 0,
      "outputs": []
    },
    {
      "cell_type": "code",
      "metadata": {
        "id": "8HHlt2O8qfcM",
        "colab_type": "code",
        "colab": {}
      },
      "source": [
        "%cd /content/drive/My Drive/PyTorchNLPBook/chapters/chapter_8/8_5_NMT/data\n",
        "!ls\n",
        "!chmod 777 get-all-data.sh\n",
        "!ls -lta\n",
        "! ./get-all-data.sh"
      ],
      "execution_count": 0,
      "outputs": []
    },
    {
      "cell_type": "code",
      "metadata": {
        "id": "OSUmqpwYrHrl",
        "colab_type": "code",
        "colab": {}
      },
      "source": [
        "%cd ..\n",
        "!ls\n",
        "%run 8_5_NMT_No_Sampling.ipynb\n",
        "%run 8_5_NMT_scheduled_sampling.ipynb\n",
        "%run 8_5_nmt_munging.ipynb"
      ],
      "execution_count": 0,
      "outputs": []
    }
  ]
}