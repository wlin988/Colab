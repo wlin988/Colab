{
  "nbformat": 4,
  "nbformat_minor": 0,
  "metadata": {
    "kernelspec": {
      "name": "python3",
      "display_name": "Python 3"
    },
    "colab": {
      "name": "Pretrained_Embeddings.ipynb",
      "provenance": [],
      "collapsed_sections": [],
      "include_colab_link": true
    },
    "accelerator": "GPU"
  },
  "cells": [
    {
      "cell_type": "markdown",
      "metadata": {
        "id": "view-in-github",
        "colab_type": "text"
      },
      "source": [
        "<a href=\"https://colab.research.google.com/github/wlin988/Colab/blob/master/Pretrained_Embeddings.ipynb\" target=\"_parent\"><img src=\"https://colab.research.google.com/assets/colab-badge.svg\" alt=\"Open In Colab\"/></a>"
      ]
    },
    {
      "cell_type": "code",
      "metadata": {
        "id": "kiNY2OzPozEQ",
        "colab_type": "code",
        "outputId": "71faa717-6458-42c0-d07a-68ac58191756",
        "colab": {
          "base_uri": "https://localhost:8080/",
          "height": 122
        }
      },
      "source": [
        "from google.colab import drive\n",
        "drive.mount('/content/drive', force_remount=True)"
      ],
      "execution_count": 1,
      "outputs": [
        {
          "output_type": "stream",
          "text": [
            "Go to this URL in a browser: https://accounts.google.com/o/oauth2/auth?client_id=947318989803-6bn6qk8qdgf4n4g3pfee6491hc0brc4i.apps.googleusercontent.com&redirect_uri=urn%3Aietf%3Awg%3Aoauth%3A2.0%3Aoob&scope=email%20https%3A%2F%2Fwww.googleapis.com%2Fauth%2Fdocs.test%20https%3A%2F%2Fwww.googleapis.com%2Fauth%2Fdrive%20https%3A%2F%2Fwww.googleapis.com%2Fauth%2Fdrive.photos.readonly%20https%3A%2F%2Fwww.googleapis.com%2Fauth%2Fpeopleapi.readonly&response_type=code\n",
            "\n",
            "Enter your authorization code:\n",
            "··········\n",
            "Mounted at /content/drive\n"
          ],
          "name": "stdout"
        }
      ]
    },
    {
      "cell_type": "code",
      "metadata": {
        "id": "T0hI-CEhpToM",
        "colab_type": "code",
        "outputId": "58490ab1-2073-4512-be61-4100de0e379e",
        "colab": {
          "base_uri": "https://localhost:8080/",
          "height": 85
        }
      },
      "source": [
        "%cd /content/drive/\n",
        "!ls -lta"
      ],
      "execution_count": 2,
      "outputs": [
        {
          "output_type": "stream",
          "text": [
            "/content/drive\n",
            "total 8\n",
            "drwx------ 5 root root 4096 Oct 30 17:06 'My Drive'\n",
            "drwx------ 2 root root 4096 Oct 30 17:06  .Trash\n"
          ],
          "name": "stdout"
        }
      ]
    },
    {
      "cell_type": "code",
      "metadata": {
        "id": "GtFIVQDjraNo",
        "colab_type": "code",
        "colab": {}
      },
      "source": [
        "#!git clone https://github.com/joosthub/PyTorchNLPBook.git"
      ],
      "execution_count": 0,
      "outputs": []
    },
    {
      "cell_type": "code",
      "metadata": {
        "id": "e0BliqOdtVbI",
        "colab_type": "code",
        "outputId": "d1e4503e-1c15-4e48-9e3f-6b9e1e50fcd5",
        "colab": {
          "base_uri": "https://localhost:8080/",
          "height": 207
        }
      },
      "source": [
        "pip install annoy"
      ],
      "execution_count": 4,
      "outputs": [
        {
          "output_type": "stream",
          "text": [
            "Collecting annoy\n",
            "\u001b[?25l  Downloading https://files.pythonhosted.org/packages/cc/66/eab272ae940d36d698994058e303fe7d1264d10ec120e0a508d0c8fb3ca5/annoy-1.16.2.tar.gz (636kB)\n",
            "\r\u001b[K     |▌                               | 10kB 29.1MB/s eta 0:00:01\r\u001b[K     |█                               | 20kB 3.2MB/s eta 0:00:01\r\u001b[K     |█▌                              | 30kB 4.5MB/s eta 0:00:01\r\u001b[K     |██                              | 40kB 3.0MB/s eta 0:00:01\r\u001b[K     |██▋                             | 51kB 3.7MB/s eta 0:00:01\r\u001b[K     |███                             | 61kB 4.4MB/s eta 0:00:01\r\u001b[K     |███▋                            | 71kB 4.9MB/s eta 0:00:01\r\u001b[K     |████▏                           | 81kB 5.6MB/s eta 0:00:01\r\u001b[K     |████▋                           | 92kB 6.2MB/s eta 0:00:01\r\u001b[K     |█████▏                          | 102kB 5.0MB/s eta 0:00:01\r\u001b[K     |█████▋                          | 112kB 5.0MB/s eta 0:00:01\r\u001b[K     |██████▏                         | 122kB 5.0MB/s eta 0:00:01\r\u001b[K     |██████▊                         | 133kB 5.0MB/s eta 0:00:01\r\u001b[K     |███████▏                        | 143kB 5.0MB/s eta 0:00:01\r\u001b[K     |███████▊                        | 153kB 5.0MB/s eta 0:00:01\r\u001b[K     |████████▎                       | 163kB 5.0MB/s eta 0:00:01\r\u001b[K     |████████▊                       | 174kB 5.0MB/s eta 0:00:01\r\u001b[K     |█████████▎                      | 184kB 5.0MB/s eta 0:00:01\r\u001b[K     |█████████▊                      | 194kB 5.0MB/s eta 0:00:01\r\u001b[K     |██████████▎                     | 204kB 5.0MB/s eta 0:00:01\r\u001b[K     |██████████▉                     | 215kB 5.0MB/s eta 0:00:01\r\u001b[K     |███████████▎                    | 225kB 5.0MB/s eta 0:00:01\r\u001b[K     |███████████▉                    | 235kB 5.0MB/s eta 0:00:01\r\u001b[K     |████████████▍                   | 245kB 5.0MB/s eta 0:00:01\r\u001b[K     |████████████▉                   | 256kB 5.0MB/s eta 0:00:01\r\u001b[K     |█████████████▍                  | 266kB 5.0MB/s eta 0:00:01\r\u001b[K     |██████████████                  | 276kB 5.0MB/s eta 0:00:01\r\u001b[K     |██████████████▍                 | 286kB 5.0MB/s eta 0:00:01\r\u001b[K     |███████████████                 | 296kB 5.0MB/s eta 0:00:01\r\u001b[K     |███████████████▍                | 307kB 5.0MB/s eta 0:00:01\r\u001b[K     |████████████████                | 317kB 5.0MB/s eta 0:00:01\r\u001b[K     |████████████████▌               | 327kB 5.0MB/s eta 0:00:01\r\u001b[K     |█████████████████               | 337kB 5.0MB/s eta 0:00:01\r\u001b[K     |█████████████████▌              | 348kB 5.0MB/s eta 0:00:01\r\u001b[K     |██████████████████              | 358kB 5.0MB/s eta 0:00:01\r\u001b[K     |██████████████████▌             | 368kB 5.0MB/s eta 0:00:01\r\u001b[K     |███████████████████             | 378kB 5.0MB/s eta 0:00:01\r\u001b[K     |███████████████████▌            | 389kB 5.0MB/s eta 0:00:01\r\u001b[K     |████████████████████            | 399kB 5.0MB/s eta 0:00:01\r\u001b[K     |████████████████████▋           | 409kB 5.0MB/s eta 0:00:01\r\u001b[K     |█████████████████████           | 419kB 5.0MB/s eta 0:00:01\r\u001b[K     |█████████████████████▋          | 430kB 5.0MB/s eta 0:00:01\r\u001b[K     |██████████████████████▏         | 440kB 5.0MB/s eta 0:00:01\r\u001b[K     |██████████████████████▋         | 450kB 5.0MB/s eta 0:00:01\r\u001b[K     |███████████████████████▏        | 460kB 5.0MB/s eta 0:00:01\r\u001b[K     |███████████████████████▊        | 471kB 5.0MB/s eta 0:00:01\r\u001b[K     |████████████████████████▏       | 481kB 5.0MB/s eta 0:00:01\r\u001b[K     |████████████████████████▊       | 491kB 5.0MB/s eta 0:00:01\r\u001b[K     |█████████████████████████▏      | 501kB 5.0MB/s eta 0:00:01\r\u001b[K     |█████████████████████████▊      | 512kB 5.0MB/s eta 0:00:01\r\u001b[K     |██████████████████████████▎     | 522kB 5.0MB/s eta 0:00:01\r\u001b[K     |██████████████████████████▊     | 532kB 5.0MB/s eta 0:00:01\r\u001b[K     |███████████████████████████▎    | 542kB 5.0MB/s eta 0:00:01\r\u001b[K     |███████████████████████████▉    | 552kB 5.0MB/s eta 0:00:01\r\u001b[K     |████████████████████████████▎   | 563kB 5.0MB/s eta 0:00:01\r\u001b[K     |████████████████████████████▉   | 573kB 5.0MB/s eta 0:00:01\r\u001b[K     |█████████████████████████████▎  | 583kB 5.0MB/s eta 0:00:01\r\u001b[K     |█████████████████████████████▉  | 593kB 5.0MB/s eta 0:00:01\r\u001b[K     |██████████████████████████████▍ | 604kB 5.0MB/s eta 0:00:01\r\u001b[K     |██████████████████████████████▉ | 614kB 5.0MB/s eta 0:00:01\r\u001b[K     |███████████████████████████████▍| 624kB 5.0MB/s eta 0:00:01\r\u001b[K     |████████████████████████████████| 634kB 5.0MB/s eta 0:00:01\r\u001b[K     |████████████████████████████████| 645kB 5.0MB/s \n",
            "\u001b[?25hBuilding wheels for collected packages: annoy\n",
            "  Building wheel for annoy (setup.py) ... \u001b[?25l\u001b[?25hdone\n",
            "  Created wheel for annoy: filename=annoy-1.16.2-cp36-cp36m-linux_x86_64.whl size=310409 sha256=f9f675d17f7fcb60d0bc522412c8c7bf104ac889e26f297ce037be8d24eb3616\n",
            "  Stored in directory: /root/.cache/pip/wheels/d3/d7/68/3795670ef4c6781fc10df0d6cf83b922244aa28cd9489d1176\n",
            "Successfully built annoy\n",
            "Installing collected packages: annoy\n",
            "Successfully installed annoy-1.16.2\n"
          ],
          "name": "stdout"
        }
      ]
    },
    {
      "cell_type": "code",
      "metadata": {
        "id": "08_tfCUks3gC",
        "colab_type": "code",
        "outputId": "4c6ef516-a2da-44f3-ca5c-4fdb38330744",
        "colab": {
          "base_uri": "https://localhost:8080/",
          "height": 459
        }
      },
      "source": [
        "%cd /content/drive/My Drive/\n",
        "!ls -lta"
      ],
      "execution_count": 5,
      "outputs": [
        {
          "output_type": "stream",
          "text": [
            "/content/drive/My Drive\n",
            "total 4053\n",
            "drwx------ 2 root root    4096 Oct 27 20:33  folder\n",
            "drwx------ 6 root root    4096 Oct 27 20:28  PyTorchNLPBook\n",
            "drwx------ 2 root root    4096 Oct 26 17:41 'Colab Notebooks'\n",
            "-rw------- 1 root root     151 Oct 25 21:04 'Untitled document (3).gdoc'\n",
            "-rw------- 1 root root     151 Oct 25 09:30 'Untitled document (2).gdoc'\n",
            "-rw------- 1 root root 1453568 Sep 16  2014 '2A-4 -  6WINDGate Multi-Core Networking SW - Level 2 v5.4.ppt'\n",
            "-rw------- 1 root root   56383 Jun 27  2014 '5th Spelling W & Def 91-100 (3).pdf'\n",
            "-rw------- 1 root root     151 Apr 30  2014 'Untitled document (1).gdoc'\n",
            "-rw------- 1 root root     151 Apr 30  2014 'Untitled document.gdoc'\n",
            "-rw------- 1 root root  269382 Mar 17  2014 'Print from a Chromebook with Google Cloud Print - YouTube.pdf'\n",
            "-rw------- 1 root root   69344 Mar 17  2014  Google.pdf\n",
            "-rw------- 1 root root   56471 Mar 17  2014 'Google (1).pdf'\n",
            "-rw------- 1 root root   56471 Mar 17  2014 'Google (2).pdf'\n",
            "-rw------- 1 root root   69344 Mar 17  2014 'Google (3).pdf'\n",
            "-rw------- 1 root root   74283 Mar 17  2014 'New Tab.pdf'\n",
            "-rw------- 1 root root   63315 Mar 17  2014  williamdropbox.pdf\n",
            "-rw------- 1 root root   62091 Mar 17  2014 'Google (4).pdf'\n",
            "-rw------- 1 root root   62091 Mar 17  2014 'Google (5).pdf'\n",
            "-rw------- 1 root root  963715 Mar 17  2014 'Cloud Print test page.pdf'\n",
            "-rw------- 1 root root     151 Mar  9  2014 'Untitled document (5).gdoc'\n",
            "-rw------- 1 root root     151 Mar  3  2014 'Untitled document (4).gdoc'\n",
            "-rw------- 1 root root   33061 Feb  5  2014  13915594519295830.gif\n",
            "-rw------- 1 root root   87040 Jan 14  2012  SCSI_vs_FC.pdf\n",
            "-rw------- 1 root root  754006 Jan 14  2012  White_Paper_Fibre_Channel_Fundamentals.pdf\n"
          ],
          "name": "stdout"
        }
      ]
    },
    {
      "cell_type": "code",
      "metadata": {
        "id": "8v9fceE-tiWP",
        "colab_type": "code",
        "colab": {}
      },
      "source": [
        ""
      ],
      "execution_count": 0,
      "outputs": []
    },
    {
      "cell_type": "code",
      "metadata": {
        "id": "HnBSx25nvbu9",
        "colab_type": "code",
        "outputId": "b83add4c-ba6c-4297-bd20-8463b0dd6802",
        "colab": {
          "base_uri": "https://localhost:8080/",
          "height": 272
        }
      },
      "source": [
        "%cd /content/drive/\"My Drive\"/PyTorchNLPBook/chapters/chapter_5/data\n",
        "!pwd\n",
        "!ls -lta"
      ],
      "execution_count": 6,
      "outputs": [
        {
          "output_type": "stream",
          "text": [
            "/content/drive/My Drive/PyTorchNLPBook/chapters/chapter_5/data\n",
            "/content/drive/My Drive/PyTorchNLPBook/chapters/chapter_5/data\n",
            "total 52\n",
            "drwx------ 2 root root  4096 Oct 28 18:59 .ipynb_checkpoints\n",
            "-rw------- 1 root root  1961 Oct 28 17:58 get-all-data.sh\n",
            "-rw------- 1 root root  1572 Oct 27 20:28 download.py\n",
            "-rw------- 1 root root  6148 Oct 27 20:28 .DS_Store\n",
            "-rw------- 1 root root   572 Oct 27 20:28 README.md\n",
            "-rw------- 1 root root 12288 Oct 27 20:28 .README.md.swp\n",
            "drwx------ 2 root root  4096 Oct 27 20:28 ag_news\n",
            "drwx------ 2 root root  4096 Oct 27 20:28 books\n",
            "drwx------ 2 root root  4096 Oct 27 20:28 glove\n",
            "drwx------ 2 root root  4096 Oct 27 20:28 nmt\n",
            "drwx------ 2 root root  4096 Oct 27 20:28 surnames\n",
            "drwx------ 2 root root  4096 Oct 27 20:28 yelp\n"
          ],
          "name": "stdout"
        }
      ]
    },
    {
      "cell_type": "code",
      "metadata": {
        "id": "-Lt-KVEjvm_t",
        "colab_type": "code",
        "outputId": "7cfcdce8-7191-41dd-c248-fae5f0366ee2",
        "colab": {
          "base_uri": "https://localhost:8080/",
          "height": 238
        }
      },
      "source": [
        "!chmod 777 get-all-data.sh\n",
        "!ls -lta"
      ],
      "execution_count": 7,
      "outputs": [
        {
          "output_type": "stream",
          "text": [
            "total 52\n",
            "drwx------ 2 root root  4096 Oct 28 18:59 .ipynb_checkpoints\n",
            "-rwx------ 1 root root  1961 Oct 28 17:58 get-all-data.sh\n",
            "-rw------- 1 root root  1572 Oct 27 20:28 download.py\n",
            "-rw------- 1 root root  6148 Oct 27 20:28 .DS_Store\n",
            "-rw------- 1 root root   572 Oct 27 20:28 README.md\n",
            "-rw------- 1 root root 12288 Oct 27 20:28 .README.md.swp\n",
            "drwx------ 2 root root  4096 Oct 27 20:28 ag_news\n",
            "drwx------ 2 root root  4096 Oct 27 20:28 books\n",
            "drwx------ 2 root root  4096 Oct 27 20:28 glove\n",
            "drwx------ 2 root root  4096 Oct 27 20:28 nmt\n",
            "drwx------ 2 root root  4096 Oct 27 20:28 surnames\n",
            "drwx------ 2 root root  4096 Oct 27 20:28 yelp\n"
          ],
          "name": "stdout"
        }
      ]
    },
    {
      "cell_type": "code",
      "metadata": {
        "id": "zzhVjupYtorh",
        "colab_type": "code",
        "colab": {}
      },
      "source": [
        "! ./get-all-data.sh"
      ],
      "execution_count": 0,
      "outputs": []
    },
    {
      "cell_type": "code",
      "metadata": {
        "id": "Pk726G-AybIR",
        "colab_type": "code",
        "outputId": "6839ab2c-4df3-4a17-8585-229501af03a2",
        "colab": {
          "base_uri": "https://localhost:8080/",
          "height": 68
        }
      },
      "source": [
        "!mkdir -p glove\n",
        "!pwd\n",
        "!ls"
      ],
      "execution_count": 9,
      "outputs": [
        {
          "output_type": "stream",
          "text": [
            "/content/drive/My Drive/PyTorchNLPBook/chapters/chapter_5/data\n",
            "ag_news  download.py\t  glove  README.md  yelp\n",
            "books\t get-all-data.sh  nmt\t surnames\n"
          ],
          "name": "stdout"
        }
      ]
    },
    {
      "cell_type": "code",
      "metadata": {
        "id": "RckCHAIOyiU1",
        "colab_type": "code",
        "outputId": "99af3fc8-3496-40a7-be75-3414d92d70a8",
        "colab": {
          "base_uri": "https://localhost:8080/",
          "height": 68
        }
      },
      "source": [
        "%cd /content/drive/\"My Drive\"/PyTorchNLPBook/chapters/chapter_5/data/glove\n",
        "!ls"
      ],
      "execution_count": 10,
      "outputs": [
        {
          "output_type": "stream",
          "text": [
            "/content/drive/My Drive/PyTorchNLPBook/chapters/chapter_5/data/glove\n",
            "glove.6B.100d.txt  glove.6B.300d.txt  glove.6B.zip\n",
            "glove.6B.200d.txt  glove.6B.50d.txt\n"
          ],
          "name": "stdout"
        }
      ]
    },
    {
      "cell_type": "code",
      "metadata": {
        "id": "RDxegpf2ys9U",
        "colab_type": "code",
        "outputId": "290f8dc1-8ddd-4d70-afd3-cfc4f73734f7",
        "colab": {
          "base_uri": "https://localhost:8080/",
          "height": 51
        }
      },
      "source": [
        "!wget -nc http://nlp.stanford.edu/data/glove.6B.zip"
      ],
      "execution_count": 11,
      "outputs": [
        {
          "output_type": "stream",
          "text": [
            "File ‘glove.6B.zip’ already there; not retrieving.\n",
            "\n"
          ],
          "name": "stdout"
        }
      ]
    },
    {
      "cell_type": "code",
      "metadata": {
        "id": "wNZKb5KizEqH",
        "colab_type": "code",
        "outputId": "f5a4e85d-46e1-4459-e062-a2e988abfe8a",
        "colab": {
          "base_uri": "https://localhost:8080/",
          "height": 68
        }
      },
      "source": [
        "!ls\n",
        "!unzip -n glove.6B.zip"
      ],
      "execution_count": 12,
      "outputs": [
        {
          "output_type": "stream",
          "text": [
            "glove.6B.100d.txt  glove.6B.300d.txt  glove.6B.zip\n",
            "glove.6B.200d.txt  glove.6B.50d.txt\n",
            "Archive:  glove.6B.zip\n"
          ],
          "name": "stdout"
        }
      ]
    },
    {
      "cell_type": "code",
      "metadata": {
        "id": "bW2FzFT81hb7",
        "colab_type": "code",
        "outputId": "e50ecf5b-6747-44e7-cddb-291d9cf0ea5c",
        "colab": {
          "base_uri": "https://localhost:8080/",
          "height": 85
        }
      },
      "source": [
        "!pwd\n",
        "%cd ../..\n",
        "!ls"
      ],
      "execution_count": 13,
      "outputs": [
        {
          "output_type": "stream",
          "text": [
            "/content/drive/My Drive/PyTorchNLPBook/chapters/chapter_5/data/glove\n",
            "/content/drive/My Drive/PyTorchNLPBook/chapters/chapter_5\n",
            "5_1_Pretrained_Embeddings.ipynb  5_3_doc_classification  model_storage\n",
            "5_2_CBOW\t\t\t data\t\t\t README.md\n"
          ],
          "name": "stdout"
        }
      ]
    },
    {
      "cell_type": "code",
      "metadata": {
        "id": "xM-6w8wxsLsS",
        "colab_type": "code",
        "outputId": "fa001774-b6a5-488d-f168-fd7dbaea603d",
        "colab": {
          "base_uri": "https://localhost:8080/",
          "height": 561
        }
      },
      "source": [
        "%run 5_1_Pretrained_Embeddings.ipynb"
      ],
      "execution_count": 14,
      "outputs": [
        {
          "output_type": "stream",
          "text": [
            "Building Index!\n",
            "Finished!\n",
            "man : he :: woman : she\n",
            "man : he :: woman : never\n",
            "fly : plane :: sail : ship\n",
            "fly : plane :: sail : vessel\n",
            "cat : kitten :: dog : puppy\n",
            "cat : kitten :: dog : toddler\n",
            "cat : kitten :: dog : sleds\n",
            "blue : color :: dog : cat\n",
            "blue : color :: dog : animal\n",
            "blue : color :: dog : breed\n",
            "leg : legs :: hand : fingers\n",
            "leg : legs :: hand : ears\n",
            "leg : legs :: hand : stick\n",
            "toe : foot :: finger : hand\n",
            "toe : foot :: finger : attached\n",
            "toe : foot :: finger : apart\n",
            "talk : communicate :: read : instructions\n",
            "talk : communicate :: read : communicating\n",
            "talk : communicate :: read : transmit\n",
            "blue : democrat :: red : republican\n",
            "blue : democrat :: red : congressman\n",
            "blue : democrat :: red : senator\n",
            "man : king :: woman : queen\n",
            "man : king :: woman : monarch\n",
            "man : king :: woman : throne\n",
            "man : doctor :: woman : nurse\n",
            "man : doctor :: woman : physician\n",
            "fast : fastest :: small : smallest\n",
            "fast : fastest :: small : largest\n",
            "fast : fastest :: small : among\n"
          ],
          "name": "stdout"
        }
      ]
    },
    {
      "cell_type": "code",
      "metadata": {
        "id": "cW4YXw_HpfkQ",
        "colab_type": "code",
        "colab": {}
      },
      "source": [
        "#import os\n",
        "#from getpass import getpass\n",
        "#import urllib\n",
        "\n",
        "#cmd = 'git clone https://github.com/joosthub/PyTorchNLPBook.git'\n",
        "#os.system(cmd)"
      ],
      "execution_count": 0,
      "outputs": []
    },
    {
      "cell_type": "code",
      "metadata": {
        "id": "BWaXMihaoiaC",
        "colab_type": "code",
        "colab": {}
      },
      "source": [
        "import torch\n",
        "import torch.nn as nn\n",
        "from tqdm import tqdm\n",
        "from annoy import AnnoyIndex\n",
        "import numpy as np"
      ],
      "execution_count": 0,
      "outputs": []
    },
    {
      "cell_type": "code",
      "metadata": {
        "id": "n3lhylHKoiaH",
        "colab_type": "code",
        "colab": {}
      },
      "source": [
        "class PreTrainedEmbeddings(object):\n",
        "    \"\"\" A wrapper around pre-trained word vectors and their use \"\"\"\n",
        "    def __init__(self, word_to_index, word_vectors):\n",
        "        \"\"\"\n",
        "        Args:\n",
        "            word_to_index (dict): mapping from word to integers\n",
        "            word_vectors (list of numpy arrays)\n",
        "        \"\"\"\n",
        "        self.word_to_index = word_to_index\n",
        "        self.word_vectors = word_vectors\n",
        "        self.index_to_word = {v: k for k, v in self.word_to_index.items()}\n",
        "\n",
        "        self.index = AnnoyIndex(len(word_vectors[0]), metric='euclidean')\n",
        "        print(\"Building Index!\")\n",
        "        for _, i in self.word_to_index.items():\n",
        "            self.index.add_item(i, self.word_vectors[i])\n",
        "        self.index.build(50)\n",
        "        print(\"Finished!\")\n",
        "        \n",
        "    @classmethod\n",
        "    def from_embeddings_file(cls, embedding_file):\n",
        "        \"\"\"Instantiate from pre-trained vector file.\n",
        "        \n",
        "        Vector file should be of the format:\n",
        "            word0 x0_0 x0_1 x0_2 x0_3 ... x0_N\n",
        "            word1 x1_0 x1_1 x1_2 x1_3 ... x1_N\n",
        "        \n",
        "        Args:\n",
        "            embedding_file (str): location of the file\n",
        "        Returns: \n",
        "            instance of PretrainedEmbeddigns\n",
        "        \"\"\"\n",
        "        word_to_index = {}\n",
        "        word_vectors = []\n",
        "\n",
        "        with open(embedding_file) as fp:\n",
        "            for line in fp.readlines():\n",
        "                line = line.split(\" \")\n",
        "                word = line[0]\n",
        "                vec = np.array([float(x) for x in line[1:]])\n",
        "                \n",
        "                word_to_index[word] = len(word_to_index)\n",
        "                word_vectors.append(vec)\n",
        "                \n",
        "        return cls(word_to_index, word_vectors)\n",
        "    \n",
        "    def get_embedding(self, word):\n",
        "        \"\"\"\n",
        "        Args:\n",
        "            word (str)\n",
        "        Returns\n",
        "            an embedding (numpy.ndarray)\n",
        "        \"\"\"\n",
        "        return self.word_vectors[self.word_to_index[word]]\n",
        "\n",
        "    def get_closest_to_vector(self, vector, n=1):\n",
        "        \"\"\"Given a vector, return its n nearest neighbors\n",
        "        \n",
        "        Args:\n",
        "            vector (np.ndarray): should match the size of the vectors \n",
        "                in the Annoy index\n",
        "            n (int): the number of neighbors to return\n",
        "        Returns:\n",
        "            [str, str, ...]: words that are nearest to the given vector. \n",
        "                The words are not ordered by distance \n",
        "        \"\"\"\n",
        "        nn_indices = self.index.get_nns_by_vector(vector, n)\n",
        "        return [self.index_to_word[neighbor] for neighbor in nn_indices]\n",
        "    \n",
        "    def compute_and_print_analogy(self, word1, word2, word3):\n",
        "        \"\"\"Prints the solutions to analogies using word embeddings\n",
        "\n",
        "        Analogies are word1 is to word2 as word3 is to __\n",
        "        This method will print: word1 : word2 :: word3 : word4\n",
        "        \n",
        "        Args:\n",
        "            word1 (str)\n",
        "            word2 (str)\n",
        "            word3 (str)\n",
        "        \"\"\"\n",
        "        vec1 = self.get_embedding(word1)\n",
        "        vec2 = self.get_embedding(word2)\n",
        "        vec3 = self.get_embedding(word3)\n",
        "\n",
        "        # now compute the fourth word's embedding!\n",
        "        spatial_relationship = vec2 - vec1\n",
        "        vec4 = vec3 + spatial_relationship\n",
        "\n",
        "        closest_words = self.get_closest_to_vector(vec4, n=4)\n",
        "        existing_words = set([word1, word2, word3])\n",
        "        closest_words = [word for word in closest_words \n",
        "                             if word not in existing_words] \n",
        "\n",
        "        if len(closest_words) == 0:\n",
        "            print(\"Could not find nearest neighbors for the computed vector!\")\n",
        "            return\n",
        "        \n",
        "        for word4 in closest_words:\n",
        "            print(\"{} : {} :: {} : {}\".format(word1, word2, word3, word4))"
      ],
      "execution_count": 0,
      "outputs": []
    },
    {
      "cell_type": "code",
      "metadata": {
        "id": "ocmiqct3oiaJ",
        "colab_type": "code",
        "outputId": "69d055bf-5cad-422f-941a-a926d963d44c",
        "colab": {
          "base_uri": "https://localhost:8080/",
          "height": 34
        }
      },
      "source": [
        "embeddings = PreTrainedEmbeddings.from_embeddings_file('data/glove/glove.6B.100d.txt')"
      ],
      "execution_count": 0,
      "outputs": [
        {
          "output_type": "stream",
          "text": [
            "Building Index!\n"
          ],
          "name": "stdout"
        }
      ]
    },
    {
      "cell_type": "code",
      "metadata": {
        "id": "v3wGNNEZoiaM",
        "colab_type": "code",
        "colab": {}
      },
      "source": [
        "embeddings.compute_and_print_analogy('man', 'he', 'woman')"
      ],
      "execution_count": 0,
      "outputs": []
    },
    {
      "cell_type": "code",
      "metadata": {
        "id": "psNx1jB-oiaO",
        "colab_type": "code",
        "colab": {}
      },
      "source": [
        "embeddings.compute_and_print_analogy('fly', 'plane', 'sail')"
      ],
      "execution_count": 0,
      "outputs": []
    },
    {
      "cell_type": "code",
      "metadata": {
        "id": "pOgnrbKDoiaQ",
        "colab_type": "code",
        "colab": {}
      },
      "source": [
        "embeddings.compute_and_print_analogy('cat', 'kitten', 'dog')"
      ],
      "execution_count": 0,
      "outputs": []
    },
    {
      "cell_type": "code",
      "metadata": {
        "id": "55oog0dVoiaS",
        "colab_type": "code",
        "colab": {}
      },
      "source": [
        "embeddings.compute_and_print_analogy('blue', 'color', 'dog')"
      ],
      "execution_count": 0,
      "outputs": []
    },
    {
      "cell_type": "code",
      "metadata": {
        "id": "YXwa7Jr6oiaU",
        "colab_type": "code",
        "colab": {}
      },
      "source": [
        "embeddings.compute_and_print_analogy('leg', 'legs', 'hand')"
      ],
      "execution_count": 0,
      "outputs": []
    },
    {
      "cell_type": "code",
      "metadata": {
        "id": "V6SOG1ZboiaW",
        "colab_type": "code",
        "colab": {}
      },
      "source": [
        "embeddings.compute_and_print_analogy('toe', 'foot', 'finger')"
      ],
      "execution_count": 0,
      "outputs": []
    },
    {
      "cell_type": "code",
      "metadata": {
        "id": "yxRm5AYMoiaY",
        "colab_type": "code",
        "colab": {}
      },
      "source": [
        "embeddings.compute_and_print_analogy('talk', 'communicate', 'read')"
      ],
      "execution_count": 0,
      "outputs": []
    },
    {
      "cell_type": "code",
      "metadata": {
        "id": "ZXC90XtKoiaa",
        "colab_type": "code",
        "colab": {}
      },
      "source": [
        "embeddings.compute_and_print_analogy('blue', 'democrat', 'red')"
      ],
      "execution_count": 0,
      "outputs": []
    },
    {
      "cell_type": "code",
      "metadata": {
        "id": "63d4G05Xoiac",
        "colab_type": "code",
        "colab": {}
      },
      "source": [
        "embeddings.compute_and_print_analogy('man', 'king', 'woman')"
      ],
      "execution_count": 0,
      "outputs": []
    },
    {
      "cell_type": "code",
      "metadata": {
        "id": "ZEVpskfroiae",
        "colab_type": "code",
        "colab": {}
      },
      "source": [
        "embeddings.compute_and_print_analogy('man', 'doctor', 'woman')"
      ],
      "execution_count": 0,
      "outputs": []
    },
    {
      "cell_type": "code",
      "metadata": {
        "id": "RiczV7Ixoiag",
        "colab_type": "code",
        "colab": {}
      },
      "source": [
        "embeddings.compute_and_print_analogy('fast', 'fastest', 'small')"
      ],
      "execution_count": 0,
      "outputs": []
    },
    {
      "cell_type": "code",
      "metadata": {
        "id": "X9k0ZHBp0HTD",
        "colab_type": "code",
        "colab": {}
      },
      "source": [
        ""
      ],
      "execution_count": 0,
      "outputs": []
    },
    {
      "cell_type": "code",
      "metadata": {
        "id": "9huX8YynvOaX",
        "colab_type": "code",
        "colab": {}
      },
      "source": [
        "%cd /content/drive/My Drive/PyTorchNLPBook/chapters/chapter_5/5_2_CBOW/data\n",
        "!ls\n",
        "!chmod 777 get-all-data.sh\n",
        "! ./get-all-data.sh"
      ],
      "execution_count": 0,
      "outputs": []
    },
    {
      "cell_type": "code",
      "metadata": {
        "id": "XGcW5mcCwhjn",
        "colab_type": "code",
        "colab": {}
      },
      "source": [
        "!mkdir -p glove\n",
        "%cd glove\n",
        "!wget -nc http://nlp.stanford.edu/data/glove.6B.zip\n",
        "!unzip -n glove.6B.zip\n"
      ],
      "execution_count": 0,
      "outputs": []
    },
    {
      "cell_type": "code",
      "metadata": {
        "id": "6Po8MsIyOWkf",
        "colab_type": "code",
        "colab": {}
      },
      "source": [
        "%cd /content/drive/\"My Drive\"/PyTorchNLPBook/chapters/chapter_5/5_2_CBOW\n",
        "!ls\n"
      ],
      "execution_count": 0,
      "outputs": []
    },
    {
      "cell_type": "code",
      "metadata": {
        "id": "XGSmwVSQObZC",
        "colab_type": "code",
        "colab": {}
      },
      "source": [
        "#%run 5_2_Continuous_Bag_of_Words_CBOW.ipynb"
      ],
      "execution_count": 0,
      "outputs": []
    },
    {
      "cell_type": "code",
      "metadata": {
        "id": "ZiP-Zk6SnX1w",
        "colab_type": "code",
        "colab": {}
      },
      "source": [
        "!ls\n",
        "%run 5_2_munging_frankenstein.ipynb"
      ],
      "execution_count": 0,
      "outputs": []
    },
    {
      "cell_type": "code",
      "metadata": {
        "id": "n7vcwV280E1F",
        "colab_type": "code",
        "colab": {}
      },
      "source": [
        ""
      ],
      "execution_count": 0,
      "outputs": []
    },
    {
      "cell_type": "code",
      "metadata": {
        "id": "l0s4O_UYmZqY",
        "colab_type": "code",
        "colab": {}
      },
      "source": [
        "%cd /content/drive/My Drive/PyTorchNLPBook/chapters/chapter_5/5_3_doc_classification/data\n",
        "!ls\n",
        "!chmod 777 get-all-data.sh\n",
        "! ./get-all-data.sh"
      ],
      "execution_count": 0,
      "outputs": []
    },
    {
      "cell_type": "code",
      "metadata": {
        "id": "6P2v0Zxg0jHm",
        "colab_type": "code",
        "colab": {}
      },
      "source": [
        "!mkdir -p glove\n",
        "%cd glove\n",
        "!wget -nc http://nlp.stanford.edu/data/glove.6B.zip\n",
        "!unzip -n glove.6B.zip"
      ],
      "execution_count": 0,
      "outputs": []
    },
    {
      "cell_type": "code",
      "metadata": {
        "id": "w2E8PumsmmNO",
        "colab_type": "code",
        "colab": {}
      },
      "source": [
        "%cd /content/drive/\"My Drive\"/PyTorchNLPBook/chapters/chapter_5/5_3_doc_classification\n",
        "!ls"
      ],
      "execution_count": 0,
      "outputs": []
    },
    {
      "cell_type": "code",
      "metadata": {
        "id": "DO56CiCY0vti",
        "colab_type": "code",
        "colab": {}
      },
      "source": [
        "%run 5_3_Document_Classification_with_CNN.ipynb"
      ],
      "execution_count": 0,
      "outputs": []
    },
    {
      "cell_type": "code",
      "metadata": {
        "id": "_JxMQCqOnN-s",
        "colab_type": "code",
        "colab": {}
      },
      "source": [
        "%run 5_3_Munging_AG_News.ipynb"
      ],
      "execution_count": 0,
      "outputs": []
    },
    {
      "cell_type": "code",
      "metadata": {
        "id": "cbb8d9T5z7sc",
        "colab_type": "code",
        "colab": {}
      },
      "source": [
        ""
      ],
      "execution_count": 0,
      "outputs": []
    },
    {
      "cell_type": "markdown",
      "metadata": {
        "id": "Kpemdxo4z9pG",
        "colab_type": "text"
      },
      "source": [
        ""
      ]
    },
    {
      "cell_type": "code",
      "metadata": {
        "id": "KR60DUEpwBlO",
        "colab_type": "code",
        "colab": {}
      },
      "source": [
        "%cd /content/drive/My Drive/PyTorchNLPBook/data"
      ],
      "execution_count": 0,
      "outputs": []
    },
    {
      "cell_type": "code",
      "metadata": {
        "id": "QL0OJxG_tmS8",
        "colab_type": "code",
        "colab": {}
      },
      "source": [
        "!chmod 777 get-all-data.sh\n",
        "!ls -lta\n",
        "! ./get-all-data.sh"
      ],
      "execution_count": 0,
      "outputs": []
    },
    {
      "cell_type": "code",
      "metadata": {
        "id": "aiq9rd1yugb2",
        "colab_type": "code",
        "colab": {}
      },
      "source": [
        "%cd /content/drive/My Drive/PyTorchNLPBook/chapters/chapter_1\n",
        "!ls"
      ],
      "execution_count": 0,
      "outputs": []
    },
    {
      "cell_type": "code",
      "metadata": {
        "id": "KfFVLzzL08gp",
        "colab_type": "code",
        "colab": {}
      },
      "source": [
        "%run PyTorch_Basics.ipynb"
      ],
      "execution_count": 0,
      "outputs": []
    },
    {
      "cell_type": "code",
      "metadata": {
        "id": "e2ql_yub1d5V",
        "colab_type": "code",
        "colab": {}
      },
      "source": [
        "%cd /content/drive/My Drive/PyTorchNLPBook/chapters/chapter_3/data\n",
        "!ls"
      ],
      "execution_count": 0,
      "outputs": []
    },
    {
      "cell_type": "code",
      "metadata": {
        "id": "ioRyRp7J1zTI",
        "colab_type": "code",
        "colab": {}
      },
      "source": [
        "!chmod 777 get-all-data.sh\n",
        "!ls -lta\n",
        "! ./get-all-data.sh"
      ],
      "execution_count": 0,
      "outputs": []
    },
    {
      "cell_type": "code",
      "metadata": {
        "id": "Vd0qmgWr2aFL",
        "colab_type": "code",
        "colab": {}
      },
      "source": [
        "%cd ..\n",
        "!ls"
      ],
      "execution_count": 0,
      "outputs": []
    },
    {
      "cell_type": "code",
      "metadata": {
        "id": "6fA0Ujk-3L9L",
        "colab_type": "code",
        "colab": {}
      },
      "source": [
        "%run 3_5_Classifying_Yelp_Review_Sentiment.ipynb"
      ],
      "execution_count": 0,
      "outputs": []
    },
    {
      "cell_type": "code",
      "metadata": {
        "id": "HK62wU0t3SHI",
        "colab_type": "code",
        "colab": {}
      },
      "source": [
        "%run 3_5_yelp_dataset_preprocessing_FULL.ipynb"
      ],
      "execution_count": 0,
      "outputs": []
    },
    {
      "cell_type": "code",
      "metadata": {
        "id": "JeepD3IlfcQJ",
        "colab_type": "code",
        "colab": {}
      },
      "source": [
        "%run 3_5_yelp_dataset_preprocessing_LITE.ipynb"
      ],
      "execution_count": 0,
      "outputs": []
    },
    {
      "cell_type": "code",
      "metadata": {
        "id": "qfaDw95bfjp2",
        "colab_type": "code",
        "colab": {}
      },
      "source": [
        "%run Chapter-3-Diving-Deep-into-Supervised-Training.ipynb"
      ],
      "execution_count": 0,
      "outputs": []
    },
    {
      "cell_type": "code",
      "metadata": {
        "id": "DPJvX8l6fzW0",
        "colab_type": "code",
        "colab": {}
      },
      "source": [
        "%run Chapter-3-In-Text-Examples.ipynb"
      ],
      "execution_count": 0,
      "outputs": []
    },
    {
      "cell_type": "code",
      "metadata": {
        "id": "HudRBNSMgW8_",
        "colab_type": "code",
        "colab": {}
      },
      "source": [
        ""
      ],
      "execution_count": 0,
      "outputs": []
    },
    {
      "cell_type": "code",
      "metadata": {
        "colab_type": "code",
        "id": "1dFJQk5npRSs",
        "colab": {}
      },
      "source": [
        "%cd /content/drive/My Drive/PyTorchNLPBook/chapters/chapter_6/classifying-surnames/data\n",
        "!ls\n",
        "!chmod 777 get-all-data.sh\n",
        "!ls -lta\n",
        "! ./get-all-data.sh\n"
      ],
      "execution_count": 0,
      "outputs": []
    },
    {
      "cell_type": "code",
      "metadata": {
        "id": "Sn9men6ipzv6",
        "colab_type": "code",
        "colab": {}
      },
      "source": [
        "%cd ..\n",
        "!ls\n",
        "%run Chapter-6-Munging-Surname-Dataset.ipynb\n",
        "%run Chapter-6-Surname-Classification-with-RNNs.ipynb"
      ],
      "execution_count": 0,
      "outputs": []
    },
    {
      "cell_type": "code",
      "metadata": {
        "id": "p2KNd2oGRQIf",
        "colab_type": "code",
        "colab": {}
      },
      "source": [
        ""
      ],
      "execution_count": 0,
      "outputs": []
    },
    {
      "cell_type": "code",
      "metadata": {
        "id": "b_BBdM5dqSyt",
        "colab_type": "code",
        "colab": {}
      },
      "source": [
        "%cd /content/drive/My Drive/PyTorchNLPBook/chapters/chapter_7/7_3_surname_generation/data\n",
        "!ls\n",
        "!chmod 777 get-all-data.sh\n",
        "!ls -lta\n",
        "! ./get-all-data.sh"
      ],
      "execution_count": 0,
      "outputs": []
    },
    {
      "cell_type": "code",
      "metadata": {
        "id": "Wu3ceQtvqfmf",
        "colab_type": "code",
        "colab": {}
      },
      "source": [
        "%cd ..\n",
        "!ls\n",
        "%run 7_3_Model1_Unconditioned_Surname_Generation.ipynb\n",
        "%run 7_3_Model2_Conditioned_Surname_Generation.ipynb\n",
        "%run Munging_Surname_Dataset.ipynb"
      ],
      "execution_count": 0,
      "outputs": []
    },
    {
      "cell_type": "code",
      "metadata": {
        "id": "2k9w7gk4RRP0",
        "colab_type": "code",
        "colab": {}
      },
      "source": [
        ""
      ],
      "execution_count": 0,
      "outputs": []
    },
    {
      "cell_type": "code",
      "metadata": {
        "id": "8HHlt2O8qfcM",
        "colab_type": "code",
        "colab": {}
      },
      "source": [
        "%cd /content/drive/My Drive/PyTorchNLPBook/chapters/chapter_8/8_5_NMT/data\n",
        "!ls\n",
        "!chmod 777 get-all-data.sh\n",
        "!ls -lta\n",
        "! ./get-all-data.sh"
      ],
      "execution_count": 0,
      "outputs": []
    },
    {
      "cell_type": "code",
      "metadata": {
        "id": "OSUmqpwYrHrl",
        "colab_type": "code",
        "colab": {}
      },
      "source": [
        "%cd ..\n",
        "!ls\n",
        "%run 8_5_NMT_No_Sampling.ipynb\n",
        "%run 8_5_NMT_scheduled_sampling.ipynb\n",
        "%run 8_5_nmt_munging.ipynb"
      ],
      "execution_count": 0,
      "outputs": []
    }
  ]
}