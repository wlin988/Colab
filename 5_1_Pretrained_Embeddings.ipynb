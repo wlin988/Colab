{
  "nbformat": 4,
  "nbformat_minor": 0,
  "metadata": {
    "kernelspec": {
      "display_name": "nlpbook",
      "language": "python",
      "name": "nlpbook"
    },
    "language_info": {
      "codemirror_mode": {
        "name": "ipython",
        "version": 3
      },
      "file_extension": ".py",
      "mimetype": "text/x-python",
      "name": "python",
      "nbconvert_exporter": "python",
      "pygments_lexer": "ipython3",
      "version": "3.7.2"
    },
    "colab": {
      "name": "5_1_Pretrained_Embeddings.ipynb",
      "provenance": [],
      "collapsed_sections": [],
      "include_colab_link": true
    },
    "accelerator": "GPU"
  },
  "cells": [
    {
      "cell_type": "markdown",
      "metadata": {
        "id": "view-in-github",
        "colab_type": "text"
      },
      "source": [
        "<a href=\"https://colab.research.google.com/github/wlin988/Colab/blob/master/5_1_Pretrained_Embeddings.ipynb\" target=\"_parent\"><img src=\"https://colab.research.google.com/assets/colab-badge.svg\" alt=\"Open In Colab\"/></a>"
      ]
    },
    {
      "cell_type": "code",
      "metadata": {
        "id": "6apQ9rvwnMLI",
        "colab_type": "code",
        "outputId": "0bb16ade-96b2-49f7-9d13-ed5988999206",
        "colab": {
          "base_uri": "https://localhost:8080/",
          "height": 207
        }
      },
      "source": [
        "!pip install annoy"
      ],
      "execution_count": 1,
      "outputs": [
        {
          "output_type": "stream",
          "text": [
            "Collecting annoy\n",
            "\u001b[?25l  Downloading https://files.pythonhosted.org/packages/cc/66/eab272ae940d36d698994058e303fe7d1264d10ec120e0a508d0c8fb3ca5/annoy-1.16.2.tar.gz (636kB)\n",
            "\r\u001b[K     |▌                               | 10kB 19.7MB/s eta 0:00:01\r\u001b[K     |█                               | 20kB 2.2MB/s eta 0:00:01\r\u001b[K     |█▌                              | 30kB 3.3MB/s eta 0:00:01\r\u001b[K     |██                              | 40kB 2.2MB/s eta 0:00:01\r\u001b[K     |██▋                             | 51kB 2.5MB/s eta 0:00:01\r\u001b[K     |███                             | 61kB 3.0MB/s eta 0:00:01\r\u001b[K     |███▋                            | 71kB 3.4MB/s eta 0:00:01\r\u001b[K     |████▏                           | 81kB 3.8MB/s eta 0:00:01\r\u001b[K     |████▋                           | 92kB 4.3MB/s eta 0:00:01\r\u001b[K     |█████▏                          | 102kB 3.5MB/s eta 0:00:01\r\u001b[K     |█████▋                          | 112kB 3.5MB/s eta 0:00:01\r\u001b[K     |██████▏                         | 122kB 3.5MB/s eta 0:00:01\r\u001b[K     |██████▊                         | 133kB 3.5MB/s eta 0:00:01\r\u001b[K     |███████▏                        | 143kB 3.5MB/s eta 0:00:01\r\u001b[K     |███████▊                        | 153kB 3.5MB/s eta 0:00:01\r\u001b[K     |████████▎                       | 163kB 3.5MB/s eta 0:00:01\r\u001b[K     |████████▊                       | 174kB 3.5MB/s eta 0:00:01\r\u001b[K     |█████████▎                      | 184kB 3.5MB/s eta 0:00:01\r\u001b[K     |█████████▊                      | 194kB 3.5MB/s eta 0:00:01\r\u001b[K     |██████████▎                     | 204kB 3.5MB/s eta 0:00:01\r\u001b[K     |██████████▉                     | 215kB 3.5MB/s eta 0:00:01\r\u001b[K     |███████████▎                    | 225kB 3.5MB/s eta 0:00:01\r\u001b[K     |███████████▉                    | 235kB 3.5MB/s eta 0:00:01\r\u001b[K     |████████████▍                   | 245kB 3.5MB/s eta 0:00:01\r\u001b[K     |████████████▉                   | 256kB 3.5MB/s eta 0:00:01\r\u001b[K     |█████████████▍                  | 266kB 3.5MB/s eta 0:00:01\r\u001b[K     |██████████████                  | 276kB 3.5MB/s eta 0:00:01\r\u001b[K     |██████████████▍                 | 286kB 3.5MB/s eta 0:00:01\r\u001b[K     |███████████████                 | 296kB 3.5MB/s eta 0:00:01\r\u001b[K     |███████████████▍                | 307kB 3.5MB/s eta 0:00:01\r\u001b[K     |████████████████                | 317kB 3.5MB/s eta 0:00:01\r\u001b[K     |████████████████▌               | 327kB 3.5MB/s eta 0:00:01\r\u001b[K     |█████████████████               | 337kB 3.5MB/s eta 0:00:01\r\u001b[K     |█████████████████▌              | 348kB 3.5MB/s eta 0:00:01\r\u001b[K     |██████████████████              | 358kB 3.5MB/s eta 0:00:01\r\u001b[K     |██████████████████▌             | 368kB 3.5MB/s eta 0:00:01\r\u001b[K     |███████████████████             | 378kB 3.5MB/s eta 0:00:01\r\u001b[K     |███████████████████▌            | 389kB 3.5MB/s eta 0:00:01\r\u001b[K     |████████████████████            | 399kB 3.5MB/s eta 0:00:01\r\u001b[K     |████████████████████▋           | 409kB 3.5MB/s eta 0:00:01\r\u001b[K     |█████████████████████           | 419kB 3.5MB/s eta 0:00:01\r\u001b[K     |█████████████████████▋          | 430kB 3.5MB/s eta 0:00:01\r\u001b[K     |██████████████████████▏         | 440kB 3.5MB/s eta 0:00:01\r\u001b[K     |██████████████████████▋         | 450kB 3.5MB/s eta 0:00:01\r\u001b[K     |███████████████████████▏        | 460kB 3.5MB/s eta 0:00:01\r\u001b[K     |███████████████████████▊        | 471kB 3.5MB/s eta 0:00:01\r\u001b[K     |████████████████████████▏       | 481kB 3.5MB/s eta 0:00:01\r\u001b[K     |████████████████████████▊       | 491kB 3.5MB/s eta 0:00:01\r\u001b[K     |█████████████████████████▏      | 501kB 3.5MB/s eta 0:00:01\r\u001b[K     |█████████████████████████▊      | 512kB 3.5MB/s eta 0:00:01\r\u001b[K     |██████████████████████████▎     | 522kB 3.5MB/s eta 0:00:01\r\u001b[K     |██████████████████████████▊     | 532kB 3.5MB/s eta 0:00:01\r\u001b[K     |███████████████████████████▎    | 542kB 3.5MB/s eta 0:00:01\r\u001b[K     |███████████████████████████▉    | 552kB 3.5MB/s eta 0:00:01\r\u001b[K     |████████████████████████████▎   | 563kB 3.5MB/s eta 0:00:01\r\u001b[K     |████████████████████████████▉   | 573kB 3.5MB/s eta 0:00:01\r\u001b[K     |█████████████████████████████▎  | 583kB 3.5MB/s eta 0:00:01\r\u001b[K     |█████████████████████████████▉  | 593kB 3.5MB/s eta 0:00:01\r\u001b[K     |██████████████████████████████▍ | 604kB 3.5MB/s eta 0:00:01\r\u001b[K     |██████████████████████████████▉ | 614kB 3.5MB/s eta 0:00:01\r\u001b[K     |███████████████████████████████▍| 624kB 3.5MB/s eta 0:00:01\r\u001b[K     |████████████████████████████████| 634kB 3.5MB/s eta 0:00:01\r\u001b[K     |████████████████████████████████| 645kB 3.5MB/s \n",
            "\u001b[?25hBuilding wheels for collected packages: annoy\n",
            "  Building wheel for annoy (setup.py) ... \u001b[?25l\u001b[?25hdone\n",
            "  Created wheel for annoy: filename=annoy-1.16.2-cp36-cp36m-linux_x86_64.whl size=310420 sha256=11df37a876e8248b6bb1c7b160d151c7cd55195fa9d3a2f25267ad9cf919519f\n",
            "  Stored in directory: /root/.cache/pip/wheels/d3/d7/68/3795670ef4c6781fc10df0d6cf83b922244aa28cd9489d1176\n",
            "Successfully built annoy\n",
            "Installing collected packages: annoy\n",
            "Successfully installed annoy-1.16.2\n"
          ],
          "name": "stdout"
        }
      ]
    },
    {
      "cell_type": "code",
      "metadata": {
        "id": "eMySFQ8jnYbd",
        "colab_type": "code",
        "outputId": "c2aeb5f2-069f-48ce-f4e2-eb1ce4b5417c",
        "colab": {
          "base_uri": "https://localhost:8080/",
          "height": 119
        }
      },
      "source": [
        "!pwd\n",
        "!ls -lta\n",
        "\n"
      ],
      "execution_count": 2,
      "outputs": [
        {
          "output_type": "stream",
          "text": [
            "/content\n",
            "total 16\n",
            "drwxr-xr-x 1 root root 4096 Oct 28 08:16 ..\n",
            "drwxr-xr-x 1 root root 4096 Oct 24 15:18 .config\n",
            "drwxr-xr-x 1 root root 4096 Oct 22 15:18 sample_data\n",
            "drwxr-xr-x 1 root root 4096 Oct 22 15:18 .\n"
          ],
          "name": "stdout"
        }
      ]
    },
    {
      "cell_type": "code",
      "metadata": {
        "id": "yOHdINJon9Sj",
        "colab_type": "code",
        "colab": {
          "base_uri": "https://localhost:8080/",
          "height": 122
        },
        "outputId": "cc911203-0349-44b8-d61a-d7c50b47323c"
      },
      "source": [
        "from google.colab import drive\n",
        "drive.mount('/content/drive')"
      ],
      "execution_count": 3,
      "outputs": [
        {
          "output_type": "stream",
          "text": [
            "Go to this URL in a browser: https://accounts.google.com/o/oauth2/auth?client_id=947318989803-6bn6qk8qdgf4n4g3pfee6491hc0brc4i.apps.googleusercontent.com&redirect_uri=urn%3Aietf%3Awg%3Aoauth%3A2.0%3Aoob&scope=email%20https%3A%2F%2Fwww.googleapis.com%2Fauth%2Fdocs.test%20https%3A%2F%2Fwww.googleapis.com%2Fauth%2Fdrive%20https%3A%2F%2Fwww.googleapis.com%2Fauth%2Fdrive.photos.readonly%20https%3A%2F%2Fwww.googleapis.com%2Fauth%2Fpeopleapi.readonly&response_type=code\n",
            "\n",
            "Enter your authorization code:\n",
            "··········\n",
            "Mounted at /content/drive\n"
          ],
          "name": "stdout"
        }
      ]
    },
    {
      "cell_type": "code",
      "metadata": {
        "id": "azPxa-8LRQYU",
        "colab_type": "code",
        "colab": {
          "base_uri": "https://localhost:8080/",
          "height": 442
        },
        "outputId": "d090095c-3f0d-4abb-ccf6-4bc873036579"
      },
      "source": [
        "%cd /content/drive/My Drive/PyTorchNLPBook/chapters/chapter_5/data/glove\n",
        "!ls\n",
        "!rm glove.6B.zip*\n",
        "!wget http://nlp.stanford.edu/data/glove.6B.zip\n",
        "!unzip glove.6B.zip"
      ],
      "execution_count": 4,
      "outputs": [
        {
          "output_type": "stream",
          "text": [
            "/content/drive/My Drive/PyTorchNLPBook/chapters/chapter_5/data/glove\n",
            "glove.6B.100d.txt  glove.6B.300d.txt  glove.6B.zip\n",
            "glove.6B.200d.txt  glove.6B.50d.txt   glove.6B.zip.1\n",
            "--2019-10-28 08:18:45--  http://nlp.stanford.edu/data/glove.6B.zip\n",
            "Resolving nlp.stanford.edu (nlp.stanford.edu)... 171.64.67.140\n",
            "Connecting to nlp.stanford.edu (nlp.stanford.edu)|171.64.67.140|:80... connected.\n",
            "HTTP request sent, awaiting response... 302 Found\n",
            "Location: https://nlp.stanford.edu/data/glove.6B.zip [following]\n",
            "--2019-10-28 08:18:45--  https://nlp.stanford.edu/data/glove.6B.zip\n",
            "Connecting to nlp.stanford.edu (nlp.stanford.edu)|171.64.67.140|:443... connected.\n",
            "HTTP request sent, awaiting response... 301 Moved Permanently\n",
            "Location: http://downloads.cs.stanford.edu/nlp/data/glove.6B.zip [following]\n",
            "--2019-10-28 08:18:45--  http://downloads.cs.stanford.edu/nlp/data/glove.6B.zip\n",
            "Resolving downloads.cs.stanford.edu (downloads.cs.stanford.edu)... 171.64.64.22\n",
            "Connecting to downloads.cs.stanford.edu (downloads.cs.stanford.edu)|171.64.64.22|:80... connected.\n",
            "HTTP request sent, awaiting response... 200 OK\n",
            "Length: 862182613 (822M) [application/zip]\n",
            "Saving to: ‘glove.6B.zip’\n",
            "\n",
            "glove.6B.zip        100%[===================>] 822.24M  2.08MB/s    in 6m 27s  \n",
            "\n",
            "2019-10-28 08:25:12 (2.13 MB/s) - ‘glove.6B.zip’ saved [862182613/862182613]\n",
            "\n",
            "Archive:  glove.6B.zip\n",
            "replace glove.6B.50d.txt? [y]es, [n]o, [A]ll, [N]one, [r]ename: N\n"
          ],
          "name": "stdout"
        }
      ]
    },
    {
      "cell_type": "code",
      "metadata": {
        "id": "0H6d9C3Ia4xc",
        "colab_type": "code",
        "colab": {
          "base_uri": "https://localhost:8080/",
          "height": 34
        },
        "outputId": "7d4cd4cd-8bb1-41f7-f91f-db08ab4e663d"
      },
      "source": [
        "%cd /content/drive/My Drive/PyTorchNLPBook/chapters/chapter_5"
      ],
      "execution_count": 5,
      "outputs": [
        {
          "output_type": "stream",
          "text": [
            "/content/drive/My Drive/PyTorchNLPBook/chapters/chapter_5\n"
          ],
          "name": "stdout"
        }
      ]
    },
    {
      "cell_type": "code",
      "metadata": {
        "id": "9oQa0YK6AD-s",
        "colab_type": "code",
        "colab": {}
      },
      "source": [
        "import torch\n",
        "import torch.nn as nn\n",
        "from tqdm import tqdm\n",
        "from annoy import AnnoyIndex\n",
        "import numpy as np"
      ],
      "execution_count": 0,
      "outputs": []
    },
    {
      "cell_type": "code",
      "metadata": {
        "id": "y4ygg1vfAD-w",
        "colab_type": "code",
        "colab": {}
      },
      "source": [
        "class PreTrainedEmbeddings(object):\n",
        "    \"\"\" A wrapper around pre-trained word vectors and their use \"\"\"\n",
        "    def __init__(self, word_to_index, word_vectors):\n",
        "        \"\"\"\n",
        "        Args:\n",
        "            word_to_index (dict): mapping from word to integers\n",
        "            word_vectors (list of numpy arrays)\n",
        "        \"\"\"\n",
        "        self.word_to_index = word_to_index\n",
        "        self.word_vectors = word_vectors\n",
        "        self.index_to_word = {v: k for k, v in self.word_to_index.items()}\n",
        "\n",
        "        self.index = AnnoyIndex(len(word_vectors[0]), metric='euclidean')\n",
        "        print(\"Building Index!\")\n",
        "        for _, i in self.word_to_index.items():\n",
        "            self.index.add_item(i, self.word_vectors[i])\n",
        "        self.index.build(50)\n",
        "        print(\"Finished!\")\n",
        "        \n",
        "    @classmethod\n",
        "    def from_embeddings_file(cls, embedding_file):\n",
        "        \"\"\"Instantiate from pre-trained vector file.\n",
        "        \n",
        "        Vector file should be of the format:\n",
        "            word0 x0_0 x0_1 x0_2 x0_3 ... x0_N\n",
        "            word1 x1_0 x1_1 x1_2 x1_3 ... x1_N\n",
        "        \n",
        "        Args:\n",
        "            embedding_file (str): location of the file\n",
        "        Returns: \n",
        "            instance of PretrainedEmbeddigns\n",
        "        \"\"\"\n",
        "        word_to_index = {}\n",
        "        word_vectors = []\n",
        "\n",
        "        with open(embedding_file) as fp:\n",
        "            for line in fp.readlines():\n",
        "                line = line.split(\" \")\n",
        "                word = line[0]\n",
        "                vec = np.array([float(x) for x in line[1:]])\n",
        "                \n",
        "                word_to_index[word] = len(word_to_index)\n",
        "                word_vectors.append(vec)\n",
        "                \n",
        "        return cls(word_to_index, word_vectors)\n",
        "    \n",
        "    def get_embedding(self, word):\n",
        "        \"\"\"\n",
        "        Args:\n",
        "            word (str)\n",
        "        Returns\n",
        "            an embedding (numpy.ndarray)\n",
        "        \"\"\"\n",
        "        return self.word_vectors[self.word_to_index[word]]\n",
        "\n",
        "    def get_closest_to_vector(self, vector, n=1):\n",
        "        \"\"\"Given a vector, return its n nearest neighbors\n",
        "        \n",
        "        Args:\n",
        "            vector (np.ndarray): should match the size of the vectors \n",
        "                in the Annoy index\n",
        "            n (int): the number of neighbors to return\n",
        "        Returns:\n",
        "            [str, str, ...]: words that are nearest to the given vector. \n",
        "                The words are not ordered by distance \n",
        "        \"\"\"\n",
        "        nn_indices = self.index.get_nns_by_vector(vector, n)\n",
        "        return [self.index_to_word[neighbor] for neighbor in nn_indices]\n",
        "    \n",
        "    def compute_and_print_analogy(self, word1, word2, word3):\n",
        "        \"\"\"Prints the solutions to analogies using word embeddings\n",
        "\n",
        "        Analogies are word1 is to word2 as word3 is to __\n",
        "        This method will print: word1 : word2 :: word3 : word4\n",
        "        \n",
        "        Args:\n",
        "            word1 (str)\n",
        "            word2 (str)\n",
        "            word3 (str)\n",
        "        \"\"\"\n",
        "        vec1 = self.get_embedding(word1)\n",
        "        vec2 = self.get_embedding(word2)\n",
        "        vec3 = self.get_embedding(word3)\n",
        "\n",
        "        # now compute the fourth word's embedding!\n",
        "        spatial_relationship = vec2 - vec1\n",
        "        vec4 = vec3 + spatial_relationship\n",
        "\n",
        "        closest_words = self.get_closest_to_vector(vec4, n=4)\n",
        "        existing_words = set([word1, word2, word3])\n",
        "        closest_words = [word for word in closest_words \n",
        "                             if word not in existing_words] \n",
        "\n",
        "        if len(closest_words) == 0:\n",
        "            print(\"Could not find nearest neighbors for the computed vector!\")\n",
        "            return\n",
        "        \n",
        "        for word4 in closest_words:\n",
        "            print(\"{} : {} :: {} : {}\".format(word1, word2, word3, word4))"
      ],
      "execution_count": 0,
      "outputs": []
    },
    {
      "cell_type": "code",
      "metadata": {
        "id": "iEh3Y6XUAD-y",
        "colab_type": "code",
        "outputId": "4bad630b-8030-4621-8258-1828f0d6b055",
        "colab": {
          "base_uri": "https://localhost:8080/",
          "height": 34
        }
      },
      "source": [
        "embeddings = PreTrainedEmbeddings.from_embeddings_file('data/glove/glove.6B.100d.txt')"
      ],
      "execution_count": 0,
      "outputs": [
        {
          "output_type": "stream",
          "text": [
            "Building Index!\n"
          ],
          "name": "stdout"
        }
      ]
    },
    {
      "cell_type": "code",
      "metadata": {
        "id": "ngITnV2yAD-1",
        "colab_type": "code",
        "colab": {}
      },
      "source": [
        "embeddings.compute_and_print_analogy('man', 'he', 'woman')"
      ],
      "execution_count": 0,
      "outputs": []
    },
    {
      "cell_type": "code",
      "metadata": {
        "id": "_NwDglghAD-3",
        "colab_type": "code",
        "colab": {}
      },
      "source": [
        "embeddings.compute_and_print_analogy('fly', 'plane', 'sail')"
      ],
      "execution_count": 0,
      "outputs": []
    },
    {
      "cell_type": "code",
      "metadata": {
        "id": "CSsQ7G1uAD-5",
        "colab_type": "code",
        "colab": {}
      },
      "source": [
        "embeddings.compute_and_print_analogy('cat', 'kitten', 'dog')"
      ],
      "execution_count": 0,
      "outputs": []
    },
    {
      "cell_type": "code",
      "metadata": {
        "id": "TknKzaMnAD-7",
        "colab_type": "code",
        "colab": {}
      },
      "source": [
        "embeddings.compute_and_print_analogy('blue', 'color', 'dog')"
      ],
      "execution_count": 0,
      "outputs": []
    },
    {
      "cell_type": "code",
      "metadata": {
        "id": "1XZx9PnoAD--",
        "colab_type": "code",
        "colab": {}
      },
      "source": [
        "embeddings.compute_and_print_analogy('leg', 'legs', 'hand')"
      ],
      "execution_count": 0,
      "outputs": []
    },
    {
      "cell_type": "code",
      "metadata": {
        "id": "sXRsi8AeAD_A",
        "colab_type": "code",
        "colab": {}
      },
      "source": [
        "embeddings.compute_and_print_analogy('toe', 'foot', 'finger')"
      ],
      "execution_count": 0,
      "outputs": []
    },
    {
      "cell_type": "code",
      "metadata": {
        "id": "FVejaVzpAD_C",
        "colab_type": "code",
        "colab": {}
      },
      "source": [
        "embeddings.compute_and_print_analogy('talk', 'communicate', 'read')"
      ],
      "execution_count": 0,
      "outputs": []
    },
    {
      "cell_type": "code",
      "metadata": {
        "id": "AfHONXGAAD_E",
        "colab_type": "code",
        "colab": {}
      },
      "source": [
        "embeddings.compute_and_print_analogy('blue', 'democrat', 'red')"
      ],
      "execution_count": 0,
      "outputs": []
    },
    {
      "cell_type": "code",
      "metadata": {
        "id": "abj8tOVVAD_G",
        "colab_type": "code",
        "colab": {}
      },
      "source": [
        "embeddings.compute_and_print_analogy('man', 'king', 'woman')"
      ],
      "execution_count": 0,
      "outputs": []
    },
    {
      "cell_type": "code",
      "metadata": {
        "id": "f9y9sWhIAD_J",
        "colab_type": "code",
        "colab": {}
      },
      "source": [
        "embeddings.compute_and_print_analogy('man', 'doctor', 'woman')"
      ],
      "execution_count": 0,
      "outputs": []
    },
    {
      "cell_type": "code",
      "metadata": {
        "id": "fm8Fd5jCAD_L",
        "colab_type": "code",
        "colab": {}
      },
      "source": [
        "embeddings.compute_and_print_analogy('fast', 'fastest', 'small')"
      ],
      "execution_count": 0,
      "outputs": []
    }
  ]
}